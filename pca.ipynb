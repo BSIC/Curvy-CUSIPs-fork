{
 "cells": [
  {
   "cell_type": "code",
   "execution_count": 1,
   "metadata": {},
   "outputs": [
    {
     "name": "stdout",
     "output_type": "stream",
     "text": [
      "c:\\Users\\chris\\Curvy-CUSIPs\\.env\n"
     ]
    }
   ],
   "source": [
    "from CurveDataFetcher import CurveDataFetcher \n",
    "from datetime import datetime\n",
    "import pandas as pd\n",
    "import matplotlib.pyplot as plt\n",
    "import seaborn as sns\n",
    "from functools import reduce\n",
    "\n",
    "from utils.pca import run_pca_yield_curve, create_residuals_surface_plot, plot_residuals_for_date\n",
    "\n",
    "import os\n",
    "from dotenv import dotenv_values\n",
    "env_path = os.path.join(os.getcwd(), \".env\")\n",
    "print(env_path)\n",
    "config = dotenv_values(env_path)\n",
    "\n",
    "import nest_asyncio\n",
    "nest_asyncio.apply()\n",
    "\n",
    "import matplotlib.pylab as pylab\n",
    "params = {\n",
    "    \"legend.fontsize\": \"x-large\",\n",
    "    \"figure.figsize\": (20, 10),\n",
    "    \"axes.labelsize\": \"x-large\",\n",
    "    \"axes.titlesize\": \"x-large\",\n",
    "    \"xtick.labelsize\": \"x-large\",\n",
    "    \"ytick.labelsize\": \"x-large\",\n",
    "}\n",
    "pylab.rcParams.update(params)\n",
    "sns.set(style=\"whitegrid\", palette=\"dark\")\n",
    "import warnings\n",
    "warnings.filterwarnings('ignore', category=FutureWarning)\n",
    "warnings.filterwarnings('ignore', category=pd.errors.SettingWithCopyWarning)\n",
    "\n",
    "%load_ext autoreload\n",
    "%autoreload 2"
   ]
  },
  {
   "cell_type": "code",
   "execution_count": 2,
   "metadata": {},
   "outputs": [],
   "source": [
    "curve_data_fetcher = CurveDataFetcher(use_ust_issue_date=True, fred_api_key=config[\"FRED_API_KEY\"])"
   ]
  },
  {
   "cell_type": "code",
   "execution_count": 20,
   "metadata": {},
   "outputs": [],
   "source": [
    "# cmt_yields_df = curve_data_fetcher.fred_data_fetcher.get_historical_cmt_yields(\n",
    "#     start_date=datetime(2000, 1, 1), end_date=datetime(2024, 9, 13)\n",
    "# )\n",
    "# cmt_yields_df = cmt_yields_df.dropna()\n",
    "\n",
    "\n",
    "# cmt_yields_df\n",
    "\n",
    "# tenors = [\"CT3M\", \"CT6M\", \"CT1\", \"CT2\", \"CT3\", \"CT5\", \"CT7\", \"CT10\", \"CT20\", \"CT30\"]\n",
    "# ct_yields_df = curve_data_fetcher.fedinvest_data_fetcher.get_historical_ct_yields(\n",
    "#     start_date=datetime(2023, 1, 1),\n",
    "#     end_date=datetime(2024, 9, 12),\n",
    "#     tenors=tenors,\n",
    "#     use_mid_side=True,\n",
    "# )\n",
    "# ct_yields_df = ct_yields_df.dropna()\n",
    "# ct_yields_df\n",
    "# corr_df = ct_yields_df.set_index(\"Date\").corr()\n",
    "# corr_df.style.background_gradient(\n",
    "#     sns.diverging_palette(250, 5, as_cmap=True), axis=1\n",
    "# ).format(precision=6)\n",
    "# rolling_window = 60\n",
    "# plt.figure(figsize=(15, 8))\n",
    "# col1 = \"CT30\"\n",
    "# for j, col2 in enumerate(ct_yields_df.columns[3:]):\n",
    "#     rolling_corr = ct_yields_df[col1].rolling(rolling_window).corr(ct_yields_df[col2])\n",
    "#     plt.plot(ct_yields_df[\"Date\"], rolling_corr, label=f'{col1} vs {col2}')\n",
    "\n",
    "# plt.title(f\"{rolling_window}d Rolling Corr of {col1}\")\n",
    "# plt.xlabel(\"Date\")\n",
    "# plt.ylabel('Correlation')\n",
    "# plt.legend()  \n",
    "# plt.grid(True)\n",
    "# plt.tight_layout()\n",
    "# plt.show()"
   ]
  },
  {
   "cell_type": "code",
   "execution_count": 14,
   "metadata": {},
   "outputs": [
    {
     "data": {
      "text/html": [
       "<div>\n",
       "<style scoped>\n",
       "    .dataframe tbody tr th:only-of-type {\n",
       "        vertical-align: middle;\n",
       "    }\n",
       "\n",
       "    .dataframe tbody tr th {\n",
       "        vertical-align: top;\n",
       "    }\n",
       "\n",
       "    .dataframe thead th {\n",
       "        text-align: right;\n",
       "    }\n",
       "</style>\n",
       "<table border=\"1\" class=\"dataframe\">\n",
       "  <thead>\n",
       "    <tr style=\"text-align: right;\">\n",
       "      <th></th>\n",
       "      <th>Date</th>\n",
       "      <th>912828YM6</th>\n",
       "      <th>912828YV6</th>\n",
       "      <th>912828YY0</th>\n",
       "      <th>912828Z52</th>\n",
       "      <th>912828ZC7</th>\n",
       "      <th>912828ZF0</th>\n",
       "      <th>912828ZL7</th>\n",
       "      <th>912828ZT0</th>\n",
       "      <th>912828ZW3</th>\n",
       "      <th>...</th>\n",
       "      <th>91282CAE1</th>\n",
       "      <th>91282CAV3</th>\n",
       "      <th>91282CBL4</th>\n",
       "      <th>91282CCB5</th>\n",
       "      <th>91282CCS8</th>\n",
       "      <th>91282CDJ7</th>\n",
       "      <th>91282CDY4</th>\n",
       "      <th>91282CEP2</th>\n",
       "      <th>91282CFF3</th>\n",
       "      <th>91282CFV8</th>\n",
       "    </tr>\n",
       "  </thead>\n",
       "  <tbody>\n",
       "    <tr>\n",
       "      <th>2299</th>\n",
       "      <td>2024-02-01</td>\n",
       "      <td>4.916860</td>\n",
       "      <td>4.895231</td>\n",
       "      <td>4.799365</td>\n",
       "      <td>4.725882</td>\n",
       "      <td>4.661744</td>\n",
       "      <td>4.612396</td>\n",
       "      <td>4.534126</td>\n",
       "      <td>4.493680</td>\n",
       "      <td>4.438346</td>\n",
       "      <td>...</td>\n",
       "      <td>3.841847</td>\n",
       "      <td>3.810530</td>\n",
       "      <td>3.754094</td>\n",
       "      <td>3.819542</td>\n",
       "      <td>3.829879</td>\n",
       "      <td>3.842463</td>\n",
       "      <td>3.853479</td>\n",
       "      <td>3.860511</td>\n",
       "      <td>3.867836</td>\n",
       "      <td>3.861501</td>\n",
       "    </tr>\n",
       "    <tr>\n",
       "      <th>2300</th>\n",
       "      <td>2024-02-02</td>\n",
       "      <td>5.044515</td>\n",
       "      <td>5.009825</td>\n",
       "      <td>4.899827</td>\n",
       "      <td>4.854259</td>\n",
       "      <td>4.814626</td>\n",
       "      <td>4.758595</td>\n",
       "      <td>4.725797</td>\n",
       "      <td>4.674148</td>\n",
       "      <td>4.608291</td>\n",
       "      <td>...</td>\n",
       "      <td>4.030366</td>\n",
       "      <td>3.991124</td>\n",
       "      <td>3.944006</td>\n",
       "      <td>4.006468</td>\n",
       "      <td>4.009936</td>\n",
       "      <td>4.022387</td>\n",
       "      <td>4.030025</td>\n",
       "      <td>4.034025</td>\n",
       "      <td>4.038454</td>\n",
       "      <td>4.034072</td>\n",
       "    </tr>\n",
       "    <tr>\n",
       "      <th>2301</th>\n",
       "      <td>2024-02-05</td>\n",
       "      <td>5.102689</td>\n",
       "      <td>5.062049</td>\n",
       "      <td>4.945972</td>\n",
       "      <td>4.897558</td>\n",
       "      <td>4.855694</td>\n",
       "      <td>4.827364</td>\n",
       "      <td>4.790364</td>\n",
       "      <td>4.760681</td>\n",
       "      <td>4.714167</td>\n",
       "      <td>...</td>\n",
       "      <td>4.174893</td>\n",
       "      <td>4.135717</td>\n",
       "      <td>4.088450</td>\n",
       "      <td>4.144731</td>\n",
       "      <td>4.152410</td>\n",
       "      <td>4.166043</td>\n",
       "      <td>4.172280</td>\n",
       "      <td>4.176225</td>\n",
       "      <td>4.178220</td>\n",
       "      <td>4.175038</td>\n",
       "    </tr>\n",
       "    <tr>\n",
       "      <th>2302</th>\n",
       "      <td>2024-02-06</td>\n",
       "      <td>5.071266</td>\n",
       "      <td>5.033438</td>\n",
       "      <td>4.918797</td>\n",
       "      <td>4.873376</td>\n",
       "      <td>4.802395</td>\n",
       "      <td>4.749845</td>\n",
       "      <td>4.745313</td>\n",
       "      <td>4.666853</td>\n",
       "      <td>4.649752</td>\n",
       "      <td>...</td>\n",
       "      <td>4.101501</td>\n",
       "      <td>4.065116</td>\n",
       "      <td>4.014809</td>\n",
       "      <td>4.073970</td>\n",
       "      <td>4.082465</td>\n",
       "      <td>4.098012</td>\n",
       "      <td>4.107077</td>\n",
       "      <td>4.110177</td>\n",
       "      <td>4.113381</td>\n",
       "      <td>4.106458</td>\n",
       "    </tr>\n",
       "    <tr>\n",
       "      <th>2303</th>\n",
       "      <td>2024-02-07</td>\n",
       "      <td>5.084800</td>\n",
       "      <td>5.045369</td>\n",
       "      <td>4.928372</td>\n",
       "      <td>4.883018</td>\n",
       "      <td>4.812036</td>\n",
       "      <td>4.760131</td>\n",
       "      <td>4.727618</td>\n",
       "      <td>4.676111</td>\n",
       "      <td>4.633982</td>\n",
       "      <td>...</td>\n",
       "      <td>4.084284</td>\n",
       "      <td>4.048455</td>\n",
       "      <td>3.998705</td>\n",
       "      <td>4.058355</td>\n",
       "      <td>4.067137</td>\n",
       "      <td>4.083059</td>\n",
       "      <td>4.087574</td>\n",
       "      <td>4.091620</td>\n",
       "      <td>4.095204</td>\n",
       "      <td>4.089361</td>\n",
       "    </tr>\n",
       "    <tr>\n",
       "      <th>...</th>\n",
       "      <td>...</td>\n",
       "      <td>...</td>\n",
       "      <td>...</td>\n",
       "      <td>...</td>\n",
       "      <td>...</td>\n",
       "      <td>...</td>\n",
       "      <td>...</td>\n",
       "      <td>...</td>\n",
       "      <td>...</td>\n",
       "      <td>...</td>\n",
       "      <td>...</td>\n",
       "      <td>...</td>\n",
       "      <td>...</td>\n",
       "      <td>...</td>\n",
       "      <td>...</td>\n",
       "      <td>...</td>\n",
       "      <td>...</td>\n",
       "      <td>...</td>\n",
       "      <td>...</td>\n",
       "      <td>...</td>\n",
       "      <td>...</td>\n",
       "    </tr>\n",
       "    <tr>\n",
       "      <th>2460</th>\n",
       "      <td>2024-09-20</td>\n",
       "      <td>5.120309</td>\n",
       "      <td>4.889794</td>\n",
       "      <td>4.789758</td>\n",
       "      <td>4.692870</td>\n",
       "      <td>4.609930</td>\n",
       "      <td>4.375120</td>\n",
       "      <td>4.306768</td>\n",
       "      <td>4.259906</td>\n",
       "      <td>4.127421</td>\n",
       "      <td>...</td>\n",
       "      <td>3.556871</td>\n",
       "      <td>3.556702</td>\n",
       "      <td>3.540924</td>\n",
       "      <td>3.590536</td>\n",
       "      <td>3.602213</td>\n",
       "      <td>3.615557</td>\n",
       "      <td>3.637997</td>\n",
       "      <td>3.633875</td>\n",
       "      <td>3.649352</td>\n",
       "      <td>3.645706</td>\n",
       "    </tr>\n",
       "    <tr>\n",
       "      <th>2461</th>\n",
       "      <td>2024-09-23</td>\n",
       "      <td>5.218032</td>\n",
       "      <td>4.766764</td>\n",
       "      <td>4.820473</td>\n",
       "      <td>4.535441</td>\n",
       "      <td>4.556161</td>\n",
       "      <td>4.333018</td>\n",
       "      <td>4.324961</td>\n",
       "      <td>4.228242</td>\n",
       "      <td>4.141331</td>\n",
       "      <td>...</td>\n",
       "      <td>3.584238</td>\n",
       "      <td>3.582833</td>\n",
       "      <td>3.571826</td>\n",
       "      <td>3.619878</td>\n",
       "      <td>3.631233</td>\n",
       "      <td>3.643619</td>\n",
       "      <td>3.659404</td>\n",
       "      <td>3.663319</td>\n",
       "      <td>3.673442</td>\n",
       "      <td>3.667522</td>\n",
       "    </tr>\n",
       "    <tr>\n",
       "      <th>2462</th>\n",
       "      <td>2024-09-24</td>\n",
       "      <td>5.000911</td>\n",
       "      <td>4.816037</td>\n",
       "      <td>4.731306</td>\n",
       "      <td>4.559864</td>\n",
       "      <td>4.501760</td>\n",
       "      <td>4.353827</td>\n",
       "      <td>4.288620</td>\n",
       "      <td>4.196346</td>\n",
       "      <td>4.069456</td>\n",
       "      <td>...</td>\n",
       "      <td>3.553016</td>\n",
       "      <td>3.552803</td>\n",
       "      <td>3.542892</td>\n",
       "      <td>3.592081</td>\n",
       "      <td>3.603975</td>\n",
       "      <td>3.617201</td>\n",
       "      <td>3.639184</td>\n",
       "      <td>3.639241</td>\n",
       "      <td>3.654644</td>\n",
       "      <td>3.649845</td>\n",
       "    </tr>\n",
       "    <tr>\n",
       "      <th>2463</th>\n",
       "      <td>2024-09-25</td>\n",
       "      <td>5.100841</td>\n",
       "      <td>4.866828</td>\n",
       "      <td>4.762067</td>\n",
       "      <td>4.584672</td>\n",
       "      <td>4.523309</td>\n",
       "      <td>4.374868</td>\n",
       "      <td>4.306902</td>\n",
       "      <td>4.164213</td>\n",
       "      <td>4.083258</td>\n",
       "      <td>...</td>\n",
       "      <td>3.599965</td>\n",
       "      <td>3.597703</td>\n",
       "      <td>3.591815</td>\n",
       "      <td>3.638630</td>\n",
       "      <td>3.655586</td>\n",
       "      <td>3.667134</td>\n",
       "      <td>3.686688</td>\n",
       "      <td>3.688237</td>\n",
       "      <td>3.702655</td>\n",
       "      <td>3.698087</td>\n",
       "    </tr>\n",
       "    <tr>\n",
       "      <th>2464</th>\n",
       "      <td>2024-09-26</td>\n",
       "      <td>5.206652</td>\n",
       "      <td>4.919209</td>\n",
       "      <td>4.793477</td>\n",
       "      <td>4.516374</td>\n",
       "      <td>4.545137</td>\n",
       "      <td>4.396146</td>\n",
       "      <td>4.325360</td>\n",
       "      <td>4.228579</td>\n",
       "      <td>4.140407</td>\n",
       "      <td>...</td>\n",
       "      <td>3.627454</td>\n",
       "      <td>3.617680</td>\n",
       "      <td>3.604834</td>\n",
       "      <td>3.662374</td>\n",
       "      <td>3.673446</td>\n",
       "      <td>3.684391</td>\n",
       "      <td>3.702978</td>\n",
       "      <td>3.703170</td>\n",
       "      <td>3.717300</td>\n",
       "      <td>3.711206</td>\n",
       "    </tr>\n",
       "  </tbody>\n",
       "</table>\n",
       "<p>166 rows × 161 columns</p>\n",
       "</div>"
      ],
      "text/plain": [
       "           Date  912828YM6  912828YV6  912828YY0  912828Z52  912828ZC7  \\\n",
       "2299 2024-02-01   4.916860   4.895231   4.799365   4.725882   4.661744   \n",
       "2300 2024-02-02   5.044515   5.009825   4.899827   4.854259   4.814626   \n",
       "2301 2024-02-05   5.102689   5.062049   4.945972   4.897558   4.855694   \n",
       "2302 2024-02-06   5.071266   5.033438   4.918797   4.873376   4.802395   \n",
       "2303 2024-02-07   5.084800   5.045369   4.928372   4.883018   4.812036   \n",
       "...         ...        ...        ...        ...        ...        ...   \n",
       "2460 2024-09-20   5.120309   4.889794   4.789758   4.692870   4.609930   \n",
       "2461 2024-09-23   5.218032   4.766764   4.820473   4.535441   4.556161   \n",
       "2462 2024-09-24   5.000911   4.816037   4.731306   4.559864   4.501760   \n",
       "2463 2024-09-25   5.100841   4.866828   4.762067   4.584672   4.523309   \n",
       "2464 2024-09-26   5.206652   4.919209   4.793477   4.516374   4.545137   \n",
       "\n",
       "      912828ZF0  912828ZL7  912828ZT0  912828ZW3  ...  91282CAE1  91282CAV3  \\\n",
       "2299   4.612396   4.534126   4.493680   4.438346  ...   3.841847   3.810530   \n",
       "2300   4.758595   4.725797   4.674148   4.608291  ...   4.030366   3.991124   \n",
       "2301   4.827364   4.790364   4.760681   4.714167  ...   4.174893   4.135717   \n",
       "2302   4.749845   4.745313   4.666853   4.649752  ...   4.101501   4.065116   \n",
       "2303   4.760131   4.727618   4.676111   4.633982  ...   4.084284   4.048455   \n",
       "...         ...        ...        ...        ...  ...        ...        ...   \n",
       "2460   4.375120   4.306768   4.259906   4.127421  ...   3.556871   3.556702   \n",
       "2461   4.333018   4.324961   4.228242   4.141331  ...   3.584238   3.582833   \n",
       "2462   4.353827   4.288620   4.196346   4.069456  ...   3.553016   3.552803   \n",
       "2463   4.374868   4.306902   4.164213   4.083258  ...   3.599965   3.597703   \n",
       "2464   4.396146   4.325360   4.228579   4.140407  ...   3.627454   3.617680   \n",
       "\n",
       "      91282CBL4  91282CCB5  91282CCS8  91282CDJ7  91282CDY4  91282CEP2  \\\n",
       "2299   3.754094   3.819542   3.829879   3.842463   3.853479   3.860511   \n",
       "2300   3.944006   4.006468   4.009936   4.022387   4.030025   4.034025   \n",
       "2301   4.088450   4.144731   4.152410   4.166043   4.172280   4.176225   \n",
       "2302   4.014809   4.073970   4.082465   4.098012   4.107077   4.110177   \n",
       "2303   3.998705   4.058355   4.067137   4.083059   4.087574   4.091620   \n",
       "...         ...        ...        ...        ...        ...        ...   \n",
       "2460   3.540924   3.590536   3.602213   3.615557   3.637997   3.633875   \n",
       "2461   3.571826   3.619878   3.631233   3.643619   3.659404   3.663319   \n",
       "2462   3.542892   3.592081   3.603975   3.617201   3.639184   3.639241   \n",
       "2463   3.591815   3.638630   3.655586   3.667134   3.686688   3.688237   \n",
       "2464   3.604834   3.662374   3.673446   3.684391   3.702978   3.703170   \n",
       "\n",
       "      91282CFF3  91282CFV8  \n",
       "2299   3.867836   3.861501  \n",
       "2300   4.038454   4.034072  \n",
       "2301   4.178220   4.175038  \n",
       "2302   4.113381   4.106458  \n",
       "2303   4.095204   4.089361  \n",
       "...         ...        ...  \n",
       "2460   3.649352   3.645706  \n",
       "2461   3.673442   3.667522  \n",
       "2462   3.654644   3.649845  \n",
       "2463   3.702655   3.698087  \n",
       "2464   3.717300   3.711206  \n",
       "\n",
       "[166 rows x 161 columns]"
      ]
     },
     "execution_count": 14,
     "metadata": {},
     "output_type": "execute_result"
    }
   ],
   "source": [
    "quote_type = \"eod\"\n",
    "as_of_date = datetime(2024, 9, 26)\n",
    "\n",
    "curve_set_df = curve_data_fetcher.build_curve_set(\n",
    "    as_of_date=as_of_date,\n",
    "    sorted=True,\n",
    "    use_github=True,\n",
    "    include_off_the_run_number=True,\n",
    "    market_cols_to_return=[f\"{quote_type}_price\", f\"{quote_type}_yield\"],\n",
    ")\n",
    "\n",
    "curve_set_df = curve_set_df[~curve_set_df[\"rank\"].isin([0, 1, 2, 3, 4, 5, 6])]\n",
    "curve_set_df = curve_set_df[curve_set_df[\"time_to_maturity\"] > 30 / 360]\n",
    "\n",
    "curve_set_df = curve_set_df[\n",
    "    (curve_set_df[\"original_security_term\"] == \"5-Year\") \n",
    "    | (curve_set_df[\"original_security_term\"] == \"7-Year\") \n",
    "    | (curve_set_df[\"original_security_term\"] == \"10-Year\") \n",
    "    # | (curve_set_df[\"original_security_term\"] == \"20-Year\")\n",
    "    # | (curve_set_df[\"original_security_term\"] == \"30-Year\")\n",
    "]\n",
    "\n",
    "cusips_ts_dict_df = curve_data_fetcher.fedinvest_data_fetcher.cusips_timeseries(\n",
    "    cusips=curve_set_df[\"cusip\"]\n",
    ")\n",
    "cusips_ts_df = pd.DataFrame()\n",
    "col = f\"{quote_type}_yield\"\n",
    "for name, df in cusips_ts_dict_df.items():\n",
    "    temp_df = df[[\"Date\", col]].rename(columns={col: name})\n",
    "    if cusips_ts_df.empty:\n",
    "        cusips_ts_df = temp_df\n",
    "    else:\n",
    "        cusips_ts_df = pd.merge(cusips_ts_df, temp_df, on=\"Date\", how=\"outer\")\n",
    "\n",
    "cusips_ts_df = cusips_ts_df.dropna()\n",
    "cusips_ts_df"
   ]
  },
  {
   "cell_type": "code",
   "execution_count": 15,
   "metadata": {},
   "outputs": [
    {
     "data": {
      "image/png": "[encoded data removed]",
      "text/plain": [
       "<Figure size 1000x1000 with 2 Axes>"
      ]
     },
     "metadata": {},
     "output_type": "display_data"
    },
    {
     "data": {
      "image/png": "[encoded data removed]",
      "text/plain": [
       "<Figure size 1200x600 with 3 Axes>"
      ]
     },
     "metadata": {},
     "output_type": "display_data"
    },
    {
     "name": "stdout",
     "output_type": "stream",
     "text": [
      "\n",
      "Reconstruction Error (MSE): 0.0001467545357980983\n"
     ]
    },
    {
     "data": {
      "application/vnd.plotly.v1+json": {
       "config": {
        "plotlyServerURL": "https://plot.ly"
       },
       "data": [
        {
         "hoverinfo": "text",
         "marker": {
          "color": [
           -0.7797088867319093,
           -0.6787887133499861,
           -0.8401620736799269,
           -0.8170745343276222,
           -0.7556004656774534,
           -0.9255256727983271,
           -0.8855067086404581,
           -0.8219642551585464,
           -0.6809327417313653,
           -0.7540054967466677,
           -0.7031725172940042,
           -0.6549222339179561,
           -0.6922428815718223,
           -0.6754101909873133,
           -0.5650921186391117,
           -0.3610042817490009,
           -0.31104681601507156,
           -0.36912866378827364,
           -0.36714286743253516,
           -0.29993247391777705,
           -0.35871954451697585,
           -0.23836104642485,
           -0.10948529797529863,
           0.05004974216902776,
           0.006063979080933567,
           -0.008104436384932953,
           0.12379022676444294,
           0.11572136545456588,
           0.07433404831242398,
           -0.10692136423368268,
           -0.14405212803900627,
           -0.3152831467882877,
           -0.11840459847592348,
           -0.05893488139462598,
           -0.18840223551145258,
           -0.1235493189968332,
           -0.16899543420185703,
           -0.09194503851749121,
           -0.02818888029310224,
           -0.007285571692557107,
           0.1239538987212046,
           -0.07854381424830364,
           -0.2976100315599338,
           -0.33068367839919743,
           -0.2993435094867663,
           -0.2783481690186466,
           -0.316901594559106,
           -0.5110574680999742,
           -0.2704511946002095,
           -0.17923585623727137,
           -0.6505635920648178,
           -0.28695259664428424,
           -0.6647552176268048,
           -0.6345845630343396,
           -0.47162653575979097,
           -0.5693220988359465,
           -0.5506655135182899,
           -0.5734731464969204,
           -0.6515390192304623,
           -0.6436177626508138,
           -0.5112237284368677,
           -0.3817235837589476,
           -0.4053186782535393,
           -0.3458765930401868,
           -0.34116682999877684,
           -0.23844375117072528,
           -0.1769625955865945,
           -0.10799774644894806,
           -0.18756896478881657,
           -0.11237639816169716,
           -0.1238802048409827,
           -0.07312445914162333,
           -0.006426106270728042,
           0.1660342802555579,
           0.1551009329025708,
           0.0900566223118553,
           0.08956462631896933,
           0.19852870357570074,
           0.20625765224087397,
           0.16413497833477247,
           -0.00825770333122044,
           0.30154711082896085,
           -0.16029593514772178,
           -0.06538343456381147,
           0.348125936642566,
           0.3140288452150727,
           0.18969849840589395,
           0.4929599840780333,
           0.25679343625487655,
           0.694225967663239,
           0.2902276067249349,
           0.4667206970088557,
           0.6376225681764722,
           0.7171438000146906,
           0.795005576121004,
           0.7186913858226287,
           0.7107715532191728,
           0.9046558665394304,
           0.7758099571513513,
           0.7738719937939472,
           0.8652613362769802,
           0.6974861302103944,
           0.76827514941676,
           0.26121983080749167,
           0.3635303534631573,
           0.5374425523007116,
           0.8467005582134641,
           0.6197122523547425,
           0.6739877729582614,
           0.6645932060278873,
           0.675539710812205,
           0.6285423244799563,
           0.6246633203598313,
           0.42345051268151523,
           0.5494449547352601,
           0.6409391498134198,
           0.4995519894725897,
           0.32654368030613906,
           0.2536337629280627,
           0.06596286192756748,
           0.13196099084480933,
           0.557734442329055,
           0.33965918778776677,
           0.43979677134108086,
           0.4647548243635349,
           0.6204062256387148,
           0.5587102266522802,
           0.19497037289884317,
           0.8497911139645099,
           0.30932478640636785,
           -0.015784262910634582,
           0.005444563318347299,
           0.33489914610068755,
           0.3549116206993687,
           0.4131835488271273,
           0.5098542504390932,
           0.4882427013068612,
           0.4601451445168675,
           0.42124344867856217,
           0.39493546355466885,
           0.32533874767062276,
           0.032945101033089626,
           0.5322476843903766,
           0.2705115201121931,
           0.13959929023635798,
           0.17080563992381692,
           0.2070252945806345,
           0.46267685766401384,
           0.2221582844095924,
           0.14149452846965446,
           0.202696363798598,
           0.19781483987742587,
           0.2111398720219094,
           0.1301386564217613,
           0.38092877580598994,
           0.18747273550120172,
           -0.03663760473956658,
           -0.1810204936272273,
           -0.24978736393117307,
           -0.39091884859621173,
           -0.7914091394530988,
           -0.7853526447919498,
           -1.051651153666638,
           -1.0945668303289742,
           -1.3203838347265948,
           -1.175124501848934
          ],
          "colorscale": [
           [
            0,
            "rgb(103,0,31)"
           ],
           [
            0.1,
            "rgb(178,24,43)"
           ],
           [
            0.2,
            "rgb(214,96,77)"
           ],
           [
            0.3,
            "rgb(244,165,130)"
           ],
           [
            0.4,
            "rgb(253,219,199)"
           ],
           [
            0.5,
            "rgb(247,247,247)"
           ],
           [
            0.6,
            "rgb(209,229,240)"
           ],
           [
            0.7,
            "rgb(146,197,222)"
           ],
           [
            0.8,
            "rgb(67,147,195)"
           ],
           [
            0.9,
            "rgb(33,102,172)"
           ],
           [
            1,
            "rgb(5,48,97)"
           ]
          ],
          "opacity": 0.8,
          "size": 4
         },
         "mode": "markers",
         "name": "PC Loadings",
         "text": [
          "Date: 2024-02-01 00:00:00<br>PC1: -4.7129<br>PC2: -0.7797<br>PC3: -0.6457",
          "Date: 2024-02-02 00:00:00<br>PC1: -2.4130<br>PC2: -0.6788<br>PC3: -0.3765",
          "Date: 2024-02-05 00:00:00<br>PC1: -0.9507<br>PC2: -0.8402<br>PC3: -0.2117",
          "Date: 2024-02-06 00:00:00<br>PC1: -1.7610<br>PC2: -0.8171<br>PC3: -0.2973",
          "Date: 2024-02-07 00:00:00<br>PC1: -1.9171<br>PC2: -0.7556<br>PC3: -0.2957",
          "Date: 2024-02-08 00:00:00<br>PC1: -1.0389<br>PC2: -0.9255<br>PC3: -0.1992",
          "Date: 2024-02-09 00:00:00<br>PC1: -0.7705<br>PC2: -0.8855<br>PC3: -0.1843",
          "Date: 2024-02-12 00:00:00<br>PC1: -0.8840<br>PC2: -0.8220<br>PC3: -0.1593",
          "Date: 2024-02-13 00:00:00<br>PC1: 1.3209<br>PC2: -0.6809<br>PC3: -0.0107",
          "Date: 2024-02-14 00:00:00<br>PC1: 0.5664<br>PC2: -0.7540<br>PC3: -0.0396",
          "Date: 2024-02-15 00:00:00<br>PC1: 0.2761<br>PC2: -0.7032<br>PC3: -0.0841",
          "Date: 2024-02-16 00:00:00<br>PC1: 1.1435<br>PC2: -0.6549<br>PC3: -0.0549",
          "Date: 2024-02-20 00:00:00<br>PC1: 0.6702<br>PC2: -0.6922<br>PC3: -0.0532",
          "Date: 2024-02-21 00:00:00<br>PC1: 1.2562<br>PC2: -0.6754<br>PC3: 0.0158",
          "Date: 2024-02-22 00:00:00<br>PC1: 1.7413<br>PC2: -0.5651<br>PC3: -0.0482",
          "Date: 2024-02-23 00:00:00<br>PC1: 1.2841<br>PC2: -0.3610<br>PC3: -0.1380",
          "Date: 2024-02-26 00:00:00<br>PC1: 1.6469<br>PC2: -0.3110<br>PC3: -0.1198",
          "Date: 2024-02-27 00:00:00<br>PC1: 1.8184<br>PC2: -0.3691<br>PC3: -0.0854",
          "Date: 2024-02-28 00:00:00<br>PC1: 1.1848<br>PC2: -0.3671<br>PC3: -0.0630",
          "Date: 2024-02-29 00:00:00<br>PC1: 1.0834<br>PC2: -0.2999<br>PC3: -0.0864",
          "Date: 2024-03-01 00:00:00<br>PC1: -0.0995<br>PC2: -0.3587<br>PC3: -0.0645",
          "Date: 2024-03-04 00:00:00<br>PC1: 0.6121<br>PC2: -0.2384<br>PC3: -0.1108",
          "Date: 2024-03-05 00:00:00<br>PC1: -0.2575<br>PC2: -0.1095<br>PC3: -0.1914",
          "Date: 2024-03-06 00:00:00<br>PC1: -0.2670<br>PC2: 0.0500<br>PC3: -0.2910",
          "Date: 2024-03-07 00:00:00<br>PC1: -0.8026<br>PC2: 0.0061<br>PC3: -0.2482",
          "Date: 2024-03-08 00:00:00<br>PC1: -1.0081<br>PC2: -0.0081<br>PC3: -0.2406",
          "Date: 2024-03-11 00:00:00<br>PC1: -0.6521<br>PC2: 0.1238<br>PC3: -0.2234",
          "Date: 2024-03-12 00:00:00<br>PC1: 0.2162<br>PC2: 0.1157<br>PC3: -0.1843",
          "Date: 2024-03-13 00:00:00<br>PC1: 0.5694<br>PC2: 0.0743<br>PC3: -0.1543",
          "Date: 2024-03-14 00:00:00<br>PC1: 1.6492<br>PC2: -0.1069<br>PC3: -0.0301",
          "Date: 2024-03-15 00:00:00<br>PC1: 2.0717<br>PC2: -0.1441<br>PC3: -0.0876",
          "Date: 2024-03-18 00:00:00<br>PC1: 0.9404<br>PC2: -0.3153<br>PC3: 0.0066",
          "Date: 2024-03-19 00:00:00<br>PC1: 2.3670<br>PC2: -0.1184<br>PC3: 0.0115",
          "Date: 2024-03-20 00:00:00<br>PC1: 1.8015<br>PC2: -0.0589<br>PC3: 0.0405",
          "Date: 2024-03-21 00:00:00<br>PC1: 1.1642<br>PC2: -0.1884<br>PC3: -0.0035",
          "Date: 2024-03-22 00:00:00<br>PC1: 0.5344<br>PC2: -0.1235<br>PC3: -0.0789",
          "Date: 2024-03-25 00:00:00<br>PC1: 0.8804<br>PC2: -0.1690<br>PC3: -0.0427",
          "Date: 2024-03-26 00:00:00<br>PC1: 0.8726<br>PC2: -0.0919<br>PC3: -0.0969",
          "Date: 2024-03-27 00:00:00<br>PC1: 0.4854<br>PC2: -0.0282<br>PC3: -0.1424",
          "Date: 2024-03-28 00:00:00<br>PC1: 0.8772<br>PC2: -0.0073<br>PC3: -0.2974",
          "Date: 2024-03-29 00:00:00<br>PC1: 0.9768<br>PC2: 0.1240<br>PC3: -0.2368",
          "Date: 2024-04-01 00:00:00<br>PC1: 2.2266<br>PC2: -0.0785<br>PC3: -0.0925",
          "Date: 2024-04-02 00:00:00<br>PC1: 2.2334<br>PC2: -0.2976<br>PC3: -0.0474",
          "Date: 2024-04-03 00:00:00<br>PC1: 2.0024<br>PC2: -0.3307<br>PC3: -0.0252",
          "Date: 2024-04-04 00:00:00<br>PC1: 1.5851<br>PC2: -0.2993<br>PC3: -0.0894",
          "Date: 2024-04-05 00:00:00<br>PC1: 2.6198<br>PC2: -0.2783<br>PC3: -0.0497",
          "Date: 2024-04-08 00:00:00<br>PC1: 3.1872<br>PC2: -0.3169<br>PC3: -0.0401",
          "Date: 2024-04-09 00:00:00<br>PC1: 5.1804<br>PC2: -0.5111<br>PC3: 0.0415",
          "Date: 2024-04-10 00:00:00<br>PC1: 5.3983<br>PC2: -0.2705<br>PC3: 0.0104",
          "Date: 2024-04-11 00:00:00<br>PC1: 2.6537<br>PC2: -0.1792<br>PC3: -0.0701",
          "Date: 2024-04-12 00:00:00<br>PC1: 5.4169<br>PC2: -0.6506<br>PC3: 0.1792",
          "Date: 2024-04-15 00:00:00<br>PC1: 4.5305<br>PC2: -0.2870<br>PC3: 0.0194",
          "Date: 2024-04-16 00:00:00<br>PC1: 5.9368<br>PC2: -0.6648<br>PC3: 0.2364",
          "Date: 2024-04-17 00:00:00<br>PC1: 5.8500<br>PC2: -0.6346<br>PC3: 0.1417",
          "Date: 2024-04-18 00:00:00<br>PC1: 5.2828<br>PC2: -0.4716<br>PC3: 0.1353",
          "Date: 2024-04-19 00:00:00<br>PC1: 5.6896<br>PC2: -0.5693<br>PC3: 0.1263",
          "Date: 2024-04-22 00:00:00<br>PC1: 5.6529<br>PC2: -0.5507<br>PC3: 0.1601",
          "Date: 2024-04-23 00:00:00<br>PC1: 5.2233<br>PC2: -0.5735<br>PC3: 0.2052",
          "Date: 2024-04-24 00:00:00<br>PC1: 5.5546<br>PC2: -0.6515<br>PC3: 0.2674",
          "Date: 2024-04-25 00:00:00<br>PC1: 6.3068<br>PC2: -0.6436<br>PC3: 0.3058",
          "Date: 2024-04-26 00:00:00<br>PC1: 6.1527<br>PC2: -0.5112<br>PC3: 0.2309",
          "Date: 2024-04-29 00:00:00<br>PC1: 5.7800<br>PC2: -0.3817<br>PC3: 0.2006",
          "Date: 2024-04-30 00:00:00<br>PC1: 6.5834<br>PC2: -0.4053<br>PC3: 0.2329",
          "Date: 2024-05-01 00:00:00<br>PC1: 5.6494<br>PC2: -0.3459<br>PC3: 0.2448",
          "Date: 2024-05-02 00:00:00<br>PC1: 4.7828<br>PC2: -0.3412<br>PC3: 0.2206",
          "Date: 2024-05-03 00:00:00<br>PC1: 3.7775<br>PC2: -0.2384<br>PC3: 0.1486",
          "Date: 2024-05-06 00:00:00<br>PC1: 3.8982<br>PC2: -0.1770<br>PC3: 0.0742",
          "Date: 2024-05-07 00:00:00<br>PC1: 3.8245<br>PC2: -0.1080<br>PC3: 0.0150",
          "Date: 2024-05-08 00:00:00<br>PC1: 4.0692<br>PC2: -0.1876<br>PC3: 0.0706",
          "Date: 2024-05-09 00:00:00<br>PC1: 3.6722<br>PC2: -0.1124<br>PC3: 0.0623",
          "Date: 2024-05-10 00:00:00<br>PC1: 4.2751<br>PC2: -0.1239<br>PC3: 0.0889",
          "Date: 2024-05-13 00:00:00<br>PC1: 4.1455<br>PC2: -0.0731<br>PC3: 0.0731",
          "Date: 2024-05-14 00:00:00<br>PC1: 3.6387<br>PC2: -0.0064<br>PC3: 0.0828",
          "Date: 2024-05-15 00:00:00<br>PC1: 2.4872<br>PC2: 0.1660<br>PC3: 0.0101",
          "Date: 2024-05-16 00:00:00<br>PC1: 3.0934<br>PC2: 0.1551<br>PC3: -0.0753",
          "Date: 2024-05-17 00:00:00<br>PC1: 3.5069<br>PC2: 0.0901<br>PC3: -0.0490",
          "Date: 2024-05-20 00:00:00<br>PC1: 3.7279<br>PC2: 0.0896<br>PC3: -0.0126",
          "Date: 2024-05-21 00:00:00<br>PC1: 3.5851<br>PC2: 0.1985<br>PC3: 0.0060",
          "Date: 2024-05-22 00:00:00<br>PC1: 3.9394<br>PC2: 0.2063<br>PC3: -0.0795",
          "Date: 2024-05-23 00:00:00<br>PC1: 4.6276<br>PC2: 0.1641<br>PC3: -0.0657",
          "Date: 2024-05-24 00:00:00<br>PC1: 5.1248<br>PC2: -0.0083<br>PC3: 0.0295",
          "Date: 2024-05-28 00:00:00<br>PC1: 4.7599<br>PC2: 0.3015<br>PC3: -0.0840",
          "Date: 2024-05-29 00:00:00<br>PC1: 5.7437<br>PC2: -0.1603<br>PC3: 0.1669",
          "Date: 2024-05-30 00:00:00<br>PC1: 5.1049<br>PC2: -0.0654<br>PC3: 0.0760",
          "Date: 2024-05-31 00:00:00<br>PC1: 2.7519<br>PC2: 0.3481<br>PC3: -0.1739",
          "Date: 2024-06-03 00:00:00<br>PC1: 3.5968<br>PC2: 0.3140<br>PC3: -0.0197",
          "Date: 2024-06-04 00:00:00<br>PC1: 4.6206<br>PC2: 0.1897<br>PC3: 0.1520",
          "Date: 2024-06-05 00:00:00<br>PC1: 2.3577<br>PC2: 0.4930<br>PC3: -0.1506",
          "Date: 2024-06-06 00:00:00<br>PC1: 3.9354<br>PC2: 0.2568<br>PC3: -0.1081",
          "Date: 2024-06-07 00:00:00<br>PC1: 2.2958<br>PC2: 0.6942<br>PC3: -0.0749",
          "Date: 2024-06-10 00:00:00<br>PC1: 4.2223<br>PC2: 0.2902<br>PC3: 0.0435",
          "Date: 2024-06-11 00:00:00<br>PC1: 3.4968<br>PC2: 0.4667<br>PC3: -0.0370",
          "Date: 2024-06-12 00:00:00<br>PC1: 2.5644<br>PC2: 0.6376<br>PC3: -0.0692",
          "Date: 2024-06-13 00:00:00<br>PC1: 1.6721<br>PC2: 0.7171<br>PC3: -0.1429",
          "Date: 2024-06-14 00:00:00<br>PC1: 1.6579<br>PC2: 0.7950<br>PC3: -0.1852",
          "Date: 2024-06-17 00:00:00<br>PC1: 2.4749<br>PC2: 0.7187<br>PC3: -0.1710",
          "Date: 2024-06-18 00:00:00<br>PC1: 1.9666<br>PC2: 0.7108<br>PC3: -0.1365",
          "Date: 2024-06-20 00:00:00<br>PC1: 1.8205<br>PC2: 0.9047<br>PC3: -0.1206",
          "Date: 2024-06-21 00:00:00<br>PC1: 2.0661<br>PC2: 0.7758<br>PC3: -0.1174",
          "Date: 2024-06-24 00:00:00<br>PC1: 1.9825<br>PC2: 0.7739<br>PC3: -0.1824",
          "Date: 2024-06-25 00:00:00<br>PC1: 2.1798<br>PC2: 0.8653<br>PC3: -0.0633",
          "Date: 2024-06-26 00:00:00<br>PC1: 2.8748<br>PC2: 0.6975<br>PC3: -0.0331",
          "Date: 2024-06-27 00:00:00<br>PC1: 2.4942<br>PC2: 0.7683<br>PC3: -0.0339",
          "Date: 2024-07-01 00:00:00<br>PC1: 3.7062<br>PC2: 0.2612<br>PC3: 0.2081",
          "Date: 2024-07-02 00:00:00<br>PC1: 3.1851<br>PC2: 0.3635<br>PC3: 0.1780",
          "Date: 2024-07-03 00:00:00<br>PC1: 2.5352<br>PC2: 0.5374<br>PC3: 0.0374",
          "Date: 2024-07-04 00:00:00<br>PC1: 2.9833<br>PC2: 0.8467<br>PC3: 0.1598",
          "Date: 2024-07-05 00:00:00<br>PC1: 1.3586<br>PC2: 0.6197<br>PC3: 0.0343",
          "Date: 2024-07-08 00:00:00<br>PC1: 1.4911<br>PC2: 0.6740<br>PC3: -0.0050",
          "Date: 2024-07-09 00:00:00<br>PC1: 1.6184<br>PC2: 0.6646<br>PC3: 0.0911",
          "Date: 2024-07-10 00:00:00<br>PC1: 1.5437<br>PC2: 0.6755<br>PC3: 0.0630",
          "Date: 2024-07-11 00:00:00<br>PC1: 0.1646<br>PC2: 0.6285<br>PC3: 0.0088",
          "Date: 2024-07-12 00:00:00<br>PC1: -0.2564<br>PC2: 0.6247<br>PC3: 0.0923",
          "Date: 2024-07-15 00:00:00<br>PC1: -0.1250<br>PC2: 0.4235<br>PC3: 0.1525",
          "Date: 2024-07-16 00:00:00<br>PC1: -0.5116<br>PC2: 0.5494<br>PC3: 0.0576",
          "Date: 2024-07-17 00:00:00<br>PC1: -0.6201<br>PC2: 0.6409<br>PC3: 0.0440",
          "Date: 2024-07-18 00:00:00<br>PC1: -0.1644<br>PC2: 0.4996<br>PC3: 0.0368",
          "Date: 2024-07-19 00:00:00<br>PC1: 0.3024<br>PC2: 0.3265<br>PC3: 0.0326",
          "Date: 2024-07-22 00:00:00<br>PC1: 0.0778<br>PC2: 0.2536<br>PC3: 0.0416",
          "Date: 2024-07-23 00:00:00<br>PC1: 0.0404<br>PC2: 0.0660<br>PC3: -0.0118",
          "Date: 2024-07-24 00:00:00<br>PC1: -0.0570<br>PC2: 0.1320<br>PC3: 0.1490",
          "Date: 2024-07-25 00:00:00<br>PC1: 0.5824<br>PC2: 0.5577<br>PC3: 0.1698",
          "Date: 2024-07-26 00:00:00<br>PC1: -0.8660<br>PC2: 0.3397<br>PC3: -0.0946",
          "Date: 2024-07-29 00:00:00<br>PC1: -0.6461<br>PC2: 0.4398<br>PC3: 0.0745",
          "Date: 2024-07-30 00:00:00<br>PC1: -1.0978<br>PC2: 0.4648<br>PC3: -0.0015",
          "Date: 2024-07-31 00:00:00<br>PC1: -1.8464<br>PC2: 0.6204<br>PC3: -0.0187",
          "Date: 2024-08-01 00:00:00<br>PC1: -3.4106<br>PC2: 0.5587<br>PC3: -0.0184",
          "Date: 2024-08-02 00:00:00<br>PC1: -6.5274<br>PC2: 0.1950<br>PC3: -0.0761",
          "Date: 2024-08-05 00:00:00<br>PC1: -3.2548<br>PC2: 0.8498<br>PC3: 0.1911",
          "Date: 2024-08-06 00:00:00<br>PC1: -5.0735<br>PC2: 0.3093<br>PC3: 0.0742",
          "Date: 2024-08-07 00:00:00<br>PC1: -4.6371<br>PC2: -0.0158<br>PC3: 0.1873",
          "Date: 2024-08-08 00:00:00<br>PC1: -4.1341<br>PC2: 0.0054<br>PC3: 0.1778",
          "Date: 2024-08-09 00:00:00<br>PC1: -4.2174<br>PC2: 0.3349<br>PC3: 0.1142",
          "Date: 2024-08-12 00:00:00<br>PC1: -4.7999<br>PC2: 0.3549<br>PC3: 0.0617",
          "Date: 2024-08-13 00:00:00<br>PC1: -5.6544<br>PC2: 0.4132<br>PC3: 0.0586",
          "Date: 2024-08-14 00:00:00<br>PC1: -5.6552<br>PC2: 0.5099<br>PC3: -0.0016",
          "Date: 2024-08-15 00:00:00<br>PC1: -4.0893<br>PC2: 0.4882<br>PC3: -0.0568",
          "Date: 2024-08-16 00:00:00<br>PC1: -4.4333<br>PC2: 0.4601<br>PC3: -0.0047",
          "Date: 2024-08-19 00:00:00<br>PC1: -4.5611<br>PC2: 0.4212<br>PC3: -0.1566",
          "Date: 2024-08-20 00:00:00<br>PC1: -5.2655<br>PC2: 0.3949<br>PC3: -0.1347",
          "Date: 2024-08-21 00:00:00<br>PC1: -5.9675<br>PC2: 0.3253<br>PC3: -0.1075",
          "Date: 2024-08-22 00:00:00<br>PC1: -6.1255<br>PC2: 0.0329<br>PC3: -0.2678",
          "Date: 2024-08-23 00:00:00<br>PC1: -4.9415<br>PC2: 0.5322<br>PC3: 0.0579",
          "Date: 2024-08-26 00:00:00<br>PC1: -5.8273<br>PC2: 0.2705<br>PC3: -0.0945",
          "Date: 2024-08-27 00:00:00<br>PC1: -6.0140<br>PC2: 0.1396<br>PC3: 0.0215",
          "Date: 2024-08-28 00:00:00<br>PC1: -5.9533<br>PC2: 0.1708<br>PC3: 0.0077",
          "Date: 2024-08-29 00:00:00<br>PC1: -5.6502<br>PC2: 0.2070<br>PC3: 0.1243",
          "Date: 2024-08-30 00:00:00<br>PC1: -5.5316<br>PC2: 0.4627<br>PC3: 0.3418",
          "Date: 2024-09-03 00:00:00<br>PC1: -5.9665<br>PC2: 0.2222<br>PC3: 0.0464",
          "Date: 2024-09-04 00:00:00<br>PC1: -7.1949<br>PC2: 0.1415<br>PC3: 0.0775",
          "Date: 2024-09-05 00:00:00<br>PC1: -7.4223<br>PC2: 0.2027<br>PC3: 0.0633",
          "Date: 2024-09-06 00:00:00<br>PC1: -8.1478<br>PC2: 0.1978<br>PC3: 0.3795",
          "Date: 2024-09-09 00:00:00<br>PC1: -8.2133<br>PC2: 0.2111<br>PC3: 0.2003",
          "Date: 2024-09-10 00:00:00<br>PC1: -9.0262<br>PC2: 0.1301<br>PC3: 0.0914",
          "Date: 2024-09-11 00:00:00<br>PC1: -8.6816<br>PC2: 0.3809<br>PC3: 0.1273",
          "Date: 2024-09-12 00:00:00<br>PC1: -8.5204<br>PC2: 0.1875<br>PC3: 0.2017",
          "Date: 2024-09-13 00:00:00<br>PC1: -9.2287<br>PC2: -0.0366<br>PC3: 0.2473",
          "Date: 2024-09-16 00:00:00<br>PC1: -9.4656<br>PC2: -0.1810<br>PC3: 0.0708",
          "Date: 2024-09-17 00:00:00<br>PC1: -9.1378<br>PC2: -0.2498<br>PC3: 0.0302",
          "Date: 2024-09-18 00:00:00<br>PC1: -8.8578<br>PC2: -0.3909<br>PC3: 0.2646",
          "Date: 2024-09-19 00:00:00<br>PC1: -8.9147<br>PC2: -0.7914<br>PC3: 0.0845",
          "Date: 2024-09-20 00:00:00<br>PC1: -9.1111<br>PC2: -0.7854<br>PC3: 0.1695",
          "Date: 2024-09-23 00:00:00<br>PC1: -8.9990<br>PC2: -1.0517<br>PC3: 0.1196",
          "Date: 2024-09-24 00:00:00<br>PC1: -9.4348<br>PC2: -1.0946<br>PC3: 0.1121",
          "Date: 2024-09-25 00:00:00<br>PC1: -8.9646<br>PC2: -1.3204<br>PC3: 0.0489",
          "Date: 2024-09-26 00:00:00<br>PC1: -8.3753<br>PC2: -1.1751<br>PC3: 0.0117"
         ],
         "type": "scatter3d",
         "x": [
          -4.712940935942742,
          -2.4130393618199864,
          -0.9507113935406882,
          -1.761021550386569,
          -1.9171208736219052,
          -1.0389388879435855,
          -0.7705142972110576,
          -0.8840040576382154,
          1.3209258994463735,
          0.5663572231049919,
          0.2760816273563516,
          1.1434569320770993,
          0.6701862459259769,
          1.2562208541588336,
          1.7413023490666775,
          1.2841482563320823,
          1.6468637377756075,
          1.8184422053944742,
          1.1848331471306113,
          1.0834396688497983,
          -0.09948408039777755,
          0.6121422101375585,
          -0.25749133994529216,
          -0.2670266528292322,
          -0.8025930606328839,
          -1.008061048376881,
          -0.6520961321756988,
          0.21618454171822257,
          0.5693727945907451,
          1.6492026495406698,
          2.0716827343390904,
          0.9404383563115082,
          2.3670171061427454,
          1.8014708142518518,
          1.164230415775178,
          0.5343863163836717,
          0.880369230916883,
          0.8726146500803724,
          0.4854249482353711,
          0.8771799951103595,
          0.9767684759661512,
          2.226571864577342,
          2.233382176498179,
          2.0023729190354755,
          1.58507042133206,
          2.6198038922316234,
          3.1872011874546082,
          5.1804288011458945,
          5.398301479000581,
          2.653720196139115,
          5.4169442840002455,
          4.5305239629422,
          5.936776795163524,
          5.850008430360035,
          5.282757460019757,
          5.689614485263194,
          5.65289536633113,
          5.223341454859875,
          5.554618748622351,
          6.306775078343113,
          6.152734024514147,
          5.779957979158341,
          6.583438192227384,
          5.649353470980985,
          4.78281498743543,
          3.7775376917667125,
          3.8981622225170045,
          3.8244989368711124,
          4.069161843502684,
          3.672245427163677,
          4.275051807886935,
          4.145458147812588,
          3.6387177279068377,
          2.487237421673359,
          3.0933787668720885,
          3.506882554511983,
          3.7279436181855137,
          3.585070181924313,
          3.939377505132727,
          4.627630854577103,
          5.124798773890652,
          4.759937503206471,
          5.743737976543167,
          5.1049342876134505,
          2.751908879143708,
          3.5968000431386606,
          4.6206454999089885,
          2.357731449970297,
          3.9353602686460873,
          2.2958436871966255,
          4.222271510901624,
          3.496801039746068,
          2.56443710357481,
          1.67209031370275,
          1.6578800644367304,
          2.474908178358807,
          1.966622562486191,
          1.8204869469955258,
          2.0660933356561664,
          1.982529762456472,
          2.179794293741619,
          2.874833554892098,
          2.4941805786438076,
          3.706152650175677,
          3.185130019849126,
          2.5352208848699904,
          2.9833444773325053,
          1.3585534868919913,
          1.4910942860970247,
          1.6184124678876195,
          1.5436904538471392,
          0.16456542263660523,
          -0.25635933022708735,
          -0.1249543881054391,
          -0.5115865471349941,
          -0.6201265779891333,
          -0.1643511518884069,
          0.3024271795645011,
          0.07779652822345927,
          0.0403767983051011,
          -0.05703828488997533,
          0.5824135115164697,
          -0.8660008833043729,
          -0.6461026910010329,
          -1.097838419063096,
          -1.8463777606658969,
          -3.4106233363557767,
          -6.527409092922171,
          -3.2547642593068256,
          -5.073453969492703,
          -4.637120991869962,
          -4.1341341878385585,
          -4.2173807132172225,
          -4.79987571415284,
          -5.654429369818776,
          -5.655175548731305,
          -4.089265565638529,
          -4.433304392223515,
          -4.561063002938445,
          -5.265495232299394,
          -5.967549763136753,
          -6.125506950139853,
          -4.941453909867167,
          -5.827299964922494,
          -6.013995719899945,
          -5.95325810474564,
          -5.650208100313612,
          -5.531599740925448,
          -5.966458104957281,
          -7.194903477252933,
          -7.422344121298458,
          -8.147752139026887,
          -8.21326616969999,
          -9.026223300599892,
          -8.681570437185202,
          -8.52040302749281,
          -9.228658350955207,
          -9.46555847471599,
          -9.137836440664705,
          -8.8577821782038,
          -8.914661103216455,
          -9.111052075147143,
          -8.998971025835196,
          -9.434778340552619,
          -8.964601653004461,
          -8.375343776810467
         ],
         "y": [
          -0.6457387028346881,
          -0.376531897080492,
          -0.21168220336180216,
          -0.29732045817133607,
          -0.29567961915558255,
          -0.19921956892647322,
          -0.18429562855506515,
          -0.1592558122089387,
          -0.010671822575547645,
          -0.039602241810905825,
          -0.08405129805850546,
          -0.05494170604233417,
          -0.05316266843571755,
          0.015847017637433028,
          -0.0481695389819578,
          -0.1380272274553071,
          -0.11978398015205013,
          -0.08540854115944899,
          -0.06295375280488587,
          -0.08641004842597899,
          -0.0645217548007135,
          -0.11076817504254145,
          -0.19138145037261656,
          -0.29103391258975353,
          -0.2482315153152124,
          -0.24060733227812311,
          -0.22338155188651546,
          -0.18433523227828358,
          -0.1543005321487725,
          -0.030052828883197415,
          -0.08759446292169043,
          0.0066450779777300585,
          0.011478827199160317,
          0.040531808527569,
          -0.0035052433862766174,
          -0.07889646582065035,
          -0.0426501417069914,
          -0.0968610910714949,
          -0.1424127970196457,
          -0.2974161706251776,
          -0.23682310239311913,
          -0.09246760154466419,
          -0.04742856415354979,
          -0.025226219394758366,
          -0.08944785055119912,
          -0.04973901709775795,
          -0.040128083609255315,
          0.041549721940087186,
          0.010355853536591492,
          -0.07012193633587353,
          0.17920982348833453,
          0.019408357571805594,
          0.23641564445546703,
          0.14169584545882627,
          0.13528457699677954,
          0.126312237222776,
          0.160082257222541,
          0.20522815344103737,
          0.2674418404068529,
          0.3058185348176215,
          0.23085433121242546,
          0.20058962343344255,
          0.2329086008801343,
          0.24481563079829316,
          0.22061430570646065,
          0.1485789585559805,
          0.07423855966948271,
          0.014993234761608902,
          0.07060297822363597,
          0.06234263552631527,
          0.08886362974290608,
          0.07306853572749973,
          0.0827930719116283,
          0.010080960535626888,
          -0.07528105117793744,
          -0.049048225872119294,
          -0.012607265087874636,
          0.0059871799747350605,
          -0.07950083781088157,
          -0.06570777041108411,
          0.029466738456391296,
          -0.08398066302221487,
          0.1668815881669891,
          0.07602647915833984,
          -0.17387821374106713,
          -0.019658507430438163,
          0.15197342301770472,
          -0.150613476006724,
          -0.10806565028453365,
          -0.07492960763950962,
          0.043484192689121515,
          -0.03695341020260608,
          -0.0691972335640805,
          -0.142878519903747,
          -0.18524593926077204,
          -0.17095788111033067,
          -0.13654846507458368,
          -0.12063504491228812,
          -0.11735748179576748,
          -0.18240618118976906,
          -0.0633328176457564,
          -0.033104295111513936,
          -0.03388038485258937,
          0.20814583353282332,
          0.1779508083671693,
          0.03739321217982867,
          0.15979683640495768,
          0.03425154689077224,
          -0.005015123511635869,
          0.09114958228133681,
          0.0629654631307917,
          0.008775766558382197,
          0.0923467156860413,
          0.15248161602726837,
          0.05763472387871507,
          0.043961660134861434,
          0.03676576994704748,
          0.032577333103854224,
          0.041572875810142636,
          -0.011795042089882628,
          0.14903764527069002,
          0.1697836918589379,
          -0.09457471558510665,
          0.07452928937961505,
          -0.0014845013270736263,
          -0.01872110318110902,
          -0.01839632367843571,
          -0.07611981880143973,
          0.19108234717159872,
          0.07420626497793383,
          0.18725088486831942,
          0.17778805181251725,
          0.11419914432018298,
          0.06173156181367639,
          0.05860010849359744,
          -0.0015818546769070232,
          -0.056808457818218375,
          -0.004674636882820216,
          -0.15664694423453193,
          -0.13469273077559243,
          -0.10750026188777388,
          -0.2677840255673291,
          0.057863942740731554,
          -0.09446117710254207,
          0.021455854244580453,
          0.00765315060676308,
          0.12428652915156516,
          0.3418137192513104,
          0.046379653289255945,
          0.07754451298332825,
          0.06331620807193282,
          0.3794862862841939,
          0.20030595334296822,
          0.09140288965653884,
          0.1272523263990314,
          0.20174948881329938,
          0.2472841142437988,
          0.07084408946687351,
          0.03016784058192724,
          0.2645709681836685,
          0.08453382907768607,
          0.169460394441875,
          0.11963145155137551,
          0.11214176300595852,
          0.04894314838180688,
          0.011728305932673792
         ],
         "z": [
          -0.7797088867319093,
          -0.6787887133499861,
          -0.8401620736799269,
          -0.8170745343276222,
          -0.7556004656774534,
          -0.9255256727983271,
          -0.8855067086404581,
          -0.8219642551585464,
          -0.6809327417313653,
          -0.7540054967466677,
          -0.7031725172940042,
          -0.6549222339179561,
          -0.6922428815718223,
          -0.6754101909873133,
          -0.5650921186391117,
          -0.3610042817490009,
          -0.31104681601507156,
          -0.36912866378827364,
          -0.36714286743253516,
          -0.29993247391777705,
          -0.35871954451697585,
          -0.23836104642485,
          -0.10948529797529863,
          0.05004974216902776,
          0.006063979080933567,
          -0.008104436384932953,
          0.12379022676444294,
          0.11572136545456588,
          0.07433404831242398,
          -0.10692136423368268,
          -0.14405212803900627,
          -0.3152831467882877,
          -0.11840459847592348,
          -0.05893488139462598,
          -0.18840223551145258,
          -0.1235493189968332,
          -0.16899543420185703,
          -0.09194503851749121,
          -0.02818888029310224,
          -0.007285571692557107,
          0.1239538987212046,
          -0.07854381424830364,
          -0.2976100315599338,
          -0.33068367839919743,
          -0.2993435094867663,
          -0.2783481690186466,
          -0.316901594559106,
          -0.5110574680999742,
          -0.2704511946002095,
          -0.17923585623727137,
          -0.6505635920648178,
          -0.28695259664428424,
          -0.6647552176268048,
          -0.6345845630343396,
          -0.47162653575979097,
          -0.5693220988359465,
          -0.5506655135182899,
          -0.5734731464969204,
          -0.6515390192304623,
          -0.6436177626508138,
          -0.5112237284368677,
          -0.3817235837589476,
          -0.4053186782535393,
          -0.3458765930401868,
          -0.34116682999877684,
          -0.23844375117072528,
          -0.1769625955865945,
          -0.10799774644894806,
          -0.18756896478881657,
          -0.11237639816169716,
          -0.1238802048409827,
          -0.07312445914162333,
          -0.006426106270728042,
          0.1660342802555579,
          0.1551009329025708,
          0.0900566223118553,
          0.08956462631896933,
          0.19852870357570074,
          0.20625765224087397,
          0.16413497833477247,
          -0.00825770333122044,
          0.30154711082896085,
          -0.16029593514772178,
          -0.06538343456381147,
          0.348125936642566,
          0.3140288452150727,
          0.18969849840589395,
          0.4929599840780333,
          0.25679343625487655,
          0.694225967663239,
          0.2902276067249349,
          0.4667206970088557,
          0.6376225681764722,
          0.7171438000146906,
          0.795005576121004,
          0.7186913858226287,
          0.7107715532191728,
          0.9046558665394304,
          0.7758099571513513,
          0.7738719937939472,
          0.8652613362769802,
          0.6974861302103944,
          0.76827514941676,
          0.26121983080749167,
          0.3635303534631573,
          0.5374425523007116,
          0.8467005582134641,
          0.6197122523547425,
          0.6739877729582614,
          0.6645932060278873,
          0.675539710812205,
          0.6285423244799563,
          0.6246633203598313,
          0.42345051268151523,
          0.5494449547352601,
          0.6409391498134198,
          0.4995519894725897,
          0.32654368030613906,
          0.2536337629280627,
          0.06596286192756748,
          0.13196099084480933,
          0.557734442329055,
          0.33965918778776677,
          0.43979677134108086,
          0.4647548243635349,
          0.6204062256387148,
          0.5587102266522802,
          0.19497037289884317,
          0.8497911139645099,
          0.30932478640636785,
          -0.015784262910634582,
          0.005444563318347299,
          0.33489914610068755,
          0.3549116206993687,
          0.4131835488271273,
          0.5098542504390932,
          0.4882427013068612,
          0.4601451445168675,
          0.42124344867856217,
          0.39493546355466885,
          0.32533874767062276,
          0.032945101033089626,
          0.5322476843903766,
          0.2705115201121931,
          0.13959929023635798,
          0.17080563992381692,
          0.2070252945806345,
          0.46267685766401384,
          0.2221582844095924,
          0.14149452846965446,
          0.202696363798598,
          0.19781483987742587,
          0.2111398720219094,
          0.1301386564217613,
          0.38092877580598994,
          0.18747273550120172,
          -0.03663760473956658,
          -0.1810204936272273,
          -0.24978736393117307,
          -0.39091884859621173,
          -0.7914091394530988,
          -0.7853526447919498,
          -1.051651153666638,
          -1.0945668303289742,
          -1.3203838347265948,
          -1.175124501848934
         ]
        },
        {
         "hoverinfo": "text",
         "mode": "lines+text",
         "name": "912828YM6",
         "text": [
          "",
          "912828YM6"
         ],
         "textposition": "top center",
         "type": "scatter3d",
         "x": [
          0,
          0.010479472720192921
         ],
         "y": [
          0,
          0.36942472802219956
         ],
         "z": [
          0,
          0.14068876405064146
         ]
        },
        {
         "hoverinfo": "text",
         "mode": "lines+text",
         "name": "912828YV6",
         "text": [
          "",
          "912828YV6"
         ],
         "textposition": "top center",
         "type": "scatter3d",
         "x": [
          0,
          0.02983459369414998
         ],
         "y": [
          0,
          0.16661256159657775
         ],
         "z": [
          0,
          0.15823325763791923
         ]
        },
        {
         "hoverinfo": "text",
         "mode": "lines+text",
         "name": "912828YY0",
         "text": [
          "",
          "912828YY0"
         ],
         "textposition": "top center",
         "type": "scatter3d",
         "x": [
          0,
          0.029670254272757324
         ],
         "y": [
          0,
          0.18087128093507995
         ],
         "z": [
          0,
          0.1695593453925086
         ]
        },
        {
         "hoverinfo": "text",
         "mode": "lines+text",
         "name": "912828Z52",
         "text": [
          "",
          "912828Z52"
         ],
         "textposition": "top center",
         "type": "scatter3d",
         "x": [
          0,
          0.03959249192868044
         ],
         "y": [
          0,
          0.11496306503791565
         ],
         "z": [
          0,
          0.16353369067585488
         ]
        },
        {
         "hoverinfo": "text",
         "mode": "lines+text",
         "name": "912828ZC7",
         "text": [
          "",
          "912828ZC7"
         ],
         "textposition": "top center",
         "type": "scatter3d",
         "x": [
          0,
          0.043146822513324815
         ],
         "y": [
          0,
          0.13623595579243042
         ],
         "z": [
          0,
          0.1542433016719608
         ]
        },
        {
         "hoverinfo": "text",
         "mode": "lines+text",
         "name": "912828ZF0",
         "text": [
          "",
          "912828ZF0"
         ],
         "textposition": "top center",
         "type": "scatter3d",
         "x": [
          0,
          0.050699886794442955
         ],
         "y": [
          0,
          0.036408147780675734
         ],
         "z": [
          0,
          0.13850305056600898
         ]
        },
        {
         "hoverinfo": "text",
         "mode": "lines+text",
         "name": "912828ZL7",
         "text": [
          "",
          "912828ZL7"
         ],
         "textposition": "top center",
         "type": "scatter3d",
         "x": [
          0,
          0.05469952947357452
         ],
         "y": [
          0,
          0.058205087305786204
         ],
         "z": [
          0,
          0.14616421704981722
         ]
        },
        {
         "hoverinfo": "text",
         "mode": "lines+text",
         "name": "912828ZT0",
         "text": [
          "",
          "912828ZT0"
         ],
         "textposition": "top center",
         "type": "scatter3d",
         "x": [
          0,
          0.06202070186563333
         ],
         "y": [
          0,
          0.03271057266460546
         ],
         "z": [
          0,
          0.1520537823534333
         ]
        },
        {
         "hoverinfo": "text",
         "mode": "lines+text",
         "name": "912828ZW3",
         "text": [
          "",
          "912828ZW3"
         ],
         "textposition": "top center",
         "type": "scatter3d",
         "x": [
          0,
          0.06664861837813077
         ],
         "y": [
          0,
          -0.0019054631976488815
         ],
         "z": [
          0,
          0.12233675340259337
         ]
        },
        {
         "hoverinfo": "text",
         "mode": "lines+text",
         "name": "91282CAB7",
         "text": [
          "",
          "91282CAB7"
         ],
         "textposition": "top center",
         "type": "scatter3d",
         "x": [
          0,
          0.07159951208573968
         ],
         "y": [
          0,
          -0.043388886411201005
         ],
         "z": [
          0,
          0.11978375758943194
         ]
        },
        {
         "hoverinfo": "text",
         "mode": "lines+text",
         "name": "91282CAJ0",
         "text": [
          "",
          "91282CAJ0"
         ],
         "textposition": "top center",
         "type": "scatter3d",
         "x": [
          0,
          0.07361976219585427
         ],
         "y": [
          0,
          -0.05187030883397876
         ],
         "z": [
          0,
          0.12364063084451968
         ]
        },
        {
         "hoverinfo": "text",
         "mode": "lines+text",
         "name": "91282CAM3",
         "text": [
          "",
          "91282CAM3"
         ],
         "textposition": "top center",
         "type": "scatter3d",
         "x": [
          0,
          0.07726423877529447
         ],
         "y": [
          0,
          -0.06255938296522873
         ],
         "z": [
          0,
          0.111366020359701
         ]
        },
        {
         "hoverinfo": "text",
         "mode": "lines+text",
         "name": "91282CAT8",
         "text": [
          "",
          "91282CAT8"
         ],
         "textposition": "top center",
         "type": "scatter3d",
         "x": [
          0,
          0.07963907207399695
         ],
         "y": [
          0,
          -0.057197013557557186
         ],
         "z": [
          0,
          0.102736282694178
         ]
        },
        {
         "hoverinfo": "text",
         "mode": "lines+text",
         "name": "91282CAZ4",
         "text": [
          "",
          "91282CAZ4"
         ],
         "textposition": "top center",
         "type": "scatter3d",
         "x": [
          0,
          0.08182181925147991
         ],
         "y": [
          0,
          -0.05735768256070599
         ],
         "z": [
          0,
          0.10055474800875155
         ]
        },
        {
         "hoverinfo": "text",
         "mode": "lines+text",
         "name": "91282CBC4",
         "text": [
          "",
          "91282CBC4"
         ],
         "textposition": "top center",
         "type": "scatter3d",
         "x": [
          0,
          0.08381652164637615
         ],
         "y": [
          0,
          -0.04695807288909519
         ],
         "z": [
          0,
          0.0978037940866544
         ]
        },
        {
         "hoverinfo": "text",
         "mode": "lines+text",
         "name": "91282CBH3",
         "text": [
          "",
          "91282CBH3"
         ],
         "textposition": "top center",
         "type": "scatter3d",
         "x": [
          0,
          0.08529568983739459
         ],
         "y": [
          0,
          -0.05854994895632995
         ],
         "z": [
          0,
          0.08937010705275666
         ]
        },
        {
         "hoverinfo": "text",
         "mode": "lines+text",
         "name": "91282CBQ3",
         "text": [
          "",
          "91282CBQ3"
         ],
         "textposition": "top center",
         "type": "scatter3d",
         "x": [
          0,
          0.0853457039237567
         ],
         "y": [
          0,
          -0.05446086401862515
         ],
         "z": [
          0,
          0.08214974987431693
         ]
        },
        {
         "hoverinfo": "text",
         "mode": "lines+text",
         "name": "91282CBT7",
         "text": [
          "",
          "91282CBT7"
         ],
         "textposition": "top center",
         "type": "scatter3d",
         "x": [
          0,
          0.08615646616201861
         ],
         "y": [
          0,
          -0.053617130746985264
         ],
         "z": [
          0,
          0.07779423641978203
         ]
        },
        {
         "hoverinfo": "text",
         "mode": "lines+text",
         "name": "91282CBW0",
         "text": [
          "",
          "91282CBW0"
         ],
         "textposition": "top center",
         "type": "scatter3d",
         "x": [
          0,
          0.08717954747966576
         ],
         "y": [
          0,
          -0.06974219370425833
         ],
         "z": [
          0,
          0.062195735926979336
         ]
        },
        {
         "hoverinfo": "text",
         "mode": "lines+text",
         "name": "91282CCF6",
         "text": [
          "",
          "91282CCF6"
         ],
         "textposition": "top center",
         "type": "scatter3d",
         "x": [
          0,
          0.0883134350217149
         ],
         "y": [
          0,
          -0.06432072359807182
         ],
         "z": [
          0,
          0.053766957479086074
         ]
        },
        {
         "hoverinfo": "text",
         "mode": "lines+text",
         "name": "91282CCJ8",
         "text": [
          "",
          "91282CCJ8"
         ],
         "textposition": "top center",
         "type": "scatter3d",
         "x": [
          0,
          0.08776457561292313
         ],
         "y": [
          0,
          -0.05847028053327748
         ],
         "z": [
          0,
          0.04968096306843856
         ]
        },
        {
         "hoverinfo": "text",
         "mode": "lines+text",
         "name": "91282CCP4",
         "text": [
          "",
          "91282CCP4"
         ],
         "textposition": "top center",
         "type": "scatter3d",
         "x": [
          0,
          0.0889234240331397
         ],
         "y": [
          0,
          -0.07816596639439197
         ],
         "z": [
          0,
          0.03952888222941441
         ]
        },
        {
         "hoverinfo": "text",
         "mode": "lines+text",
         "name": "91282CCW9",
         "text": [
          "",
          "91282CCW9"
         ],
         "textposition": "top center",
         "type": "scatter3d",
         "x": [
          0,
          0.0895581973597291
         ],
         "y": [
          0,
          -0.07603108067232511
         ],
         "z": [
          0,
          0.032442241833220094
         ]
        },
        {
         "hoverinfo": "text",
         "mode": "lines+text",
         "name": "91282CCZ2",
         "text": [
          "",
          "91282CCZ2"
         ],
         "textposition": "top center",
         "type": "scatter3d",
         "x": [
          0,
          0.08988608066557371
         ],
         "y": [
          0,
          -0.055840636897087466
         ],
         "z": [
          0,
          0.023181251348454442
         ]
        },
        {
         "hoverinfo": "text",
         "mode": "lines+text",
         "name": "91282CDG3",
         "text": [
          "",
          "91282CDG3"
         ],
         "textposition": "top center",
         "type": "scatter3d",
         "x": [
          0,
          0.0897982258303791
         ],
         "y": [
          0,
          -0.0668537242270827
         ],
         "z": [
          0,
          0.021484232628386335
         ]
        },
        {
         "hoverinfo": "text",
         "mode": "lines+text",
         "name": "91282CDK4",
         "text": [
          "",
          "91282CDK4"
         ],
         "textposition": "top center",
         "type": "scatter3d",
         "x": [
          0,
          0.0900189586272629
         ],
         "y": [
          0,
          -0.06609152570864398
         ],
         "z": [
          0,
          0.016004726565091623
         ]
        },
        {
         "hoverinfo": "text",
         "mode": "lines+text",
         "name": "91282CDQ1",
         "text": [
          "",
          "91282CDQ1"
         ],
         "textposition": "top center",
         "type": "scatter3d",
         "x": [
          0,
          0.09011229045610322
         ],
         "y": [
          0,
          -0.059647416673668095
         ],
         "z": [
          0,
          0.007030544246036901
         ]
        },
        {
         "hoverinfo": "text",
         "mode": "lines+text",
         "name": "91282CEC1",
         "text": [
          "",
          "91282CEC1"
         ],
         "textposition": "top center",
         "type": "scatter3d",
         "x": [
          0,
          0.08946371709353591
         ],
         "y": [
          0,
          -0.07221610563599357
         ],
         "z": [
          0,
          0.00013096544115908385
         ]
        },
        {
         "hoverinfo": "text",
         "mode": "lines+text",
         "name": "91282CEF4",
         "text": [
          "",
          "91282CEF4"
         ],
         "textposition": "top center",
         "type": "scatter3d",
         "x": [
          0,
          0.08952269723976097
         ],
         "y": [
          0,
          -0.07694995716333013
         ],
         "z": [
          0,
          -0.012886154375345613
         ]
        },
        {
         "hoverinfo": "text",
         "mode": "lines+text",
         "name": "91282CEN7",
         "text": [
          "",
          "91282CEN7"
         ],
         "textposition": "top center",
         "type": "scatter3d",
         "x": [
          0,
          0.08927733806722855
         ],
         "y": [
          0,
          -0.06408361137285333
         ],
         "z": [
          0,
          -0.01299047890081467
         ]
        },
        {
         "hoverinfo": "text",
         "mode": "lines+text",
         "name": "91282CET4",
         "text": [
          "",
          "91282CET4"
         ],
         "textposition": "top center",
         "type": "scatter3d",
         "x": [
          0,
          0.0890988864348817
         ],
         "y": [
          0,
          -0.0629402546222697
         ],
         "z": [
          0,
          -0.016151691286982017
         ]
        },
        {
         "hoverinfo": "text",
         "mode": "lines+text",
         "name": "91282CEW7",
         "text": [
          "",
          "91282CEW7"
         ],
         "textposition": "top center",
         "type": "scatter3d",
         "x": [
          0,
          0.08875689056676604
         ],
         "y": [
          0,
          -0.06307982227689762
         ],
         "z": [
          0,
          -0.020573753429047464
         ]
        },
        {
         "hoverinfo": "text",
         "mode": "lines+text",
         "name": "91282CFB2",
         "text": [
          "",
          "91282CFB2"
         ],
         "textposition": "top center",
         "type": "scatter3d",
         "x": [
          0,
          0.08843465351202387
         ],
         "y": [
          0,
          -0.05188090451694937
         ],
         "z": [
          0,
          -0.021257079130618965
         ]
        },
        {
         "hoverinfo": "text",
         "mode": "lines+text",
         "name": "91282CFH9",
         "text": [
          "",
          "91282CFH9"
         ],
         "textposition": "top center",
         "type": "scatter3d",
         "x": [
          0,
          0.08813123219343595
         ],
         "y": [
          0,
          -0.052388950926608446
         ],
         "z": [
          0,
          -0.025688380089130148
         ]
        },
        {
         "hoverinfo": "text",
         "mode": "lines+text",
         "name": "91282CFM8",
         "text": [
          "",
          "91282CFM8"
         ],
         "textposition": "top center",
         "type": "scatter3d",
         "x": [
          0,
          0.08906347540694307
         ],
         "y": [
          0,
          -0.06324081815983298
         ],
         "z": [
          0,
          -0.03143826031467338
         ]
        },
        {
         "hoverinfo": "text",
         "mode": "lines+text",
         "name": "91282CFU0",
         "text": [
          "",
          "91282CFU0"
         ],
         "textposition": "top center",
         "type": "scatter3d",
         "x": [
          0,
          0.08795507198614891
         ],
         "y": [
          0,
          -0.04374109398648167
         ],
         "z": [
          0,
          -0.035850279934597495
         ]
        },
        {
         "hoverinfo": "text",
         "mode": "lines+text",
         "name": "91282CFZ9",
         "text": [
          "",
          "91282CFZ9"
         ],
         "textposition": "top center",
         "type": "scatter3d",
         "x": [
          0,
          0.08722405254130039
         ],
         "y": [
          0,
          -0.02897793203128264
         ],
         "z": [
          0,
          -0.0344747396356375
         ]
        },
        {
         "hoverinfo": "text",
         "mode": "lines+text",
         "name": "91282CGC9",
         "text": [
          "",
          "91282CGC9"
         ],
         "textposition": "top center",
         "type": "scatter3d",
         "x": [
          0,
          0.08785870089452848
         ],
         "y": [
          0,
          -0.04086966905107424
         ],
         "z": [
          0,
          -0.03640564868334145
         ]
        },
        {
         "hoverinfo": "text",
         "mode": "lines+text",
         "name": "91282CGH8",
         "text": [
          "",
          "91282CGH8"
         ],
         "textposition": "top center",
         "type": "scatter3d",
         "x": [
          0,
          0.08633783445498429
         ],
         "y": [
          0,
          -0.01894958957295976
         ],
         "z": [
          0,
          -0.03764805793581065
         ]
        },
        {
         "hoverinfo": "text",
         "mode": "lines+text",
         "name": "91282CGP0",
         "text": [
          "",
          "91282CGP0"
         ],
         "textposition": "top center",
         "type": "scatter3d",
         "x": [
          0,
          0.08605460375301105
         ],
         "y": [
          0,
          -0.018960945199211512
         ],
         "z": [
          0,
          -0.04116024820247129
         ]
        },
        {
         "hoverinfo": "text",
         "mode": "lines+text",
         "name": "91282CGT2",
         "text": [
          "",
          "91282CGT2"
         ],
         "textposition": "top center",
         "type": "scatter3d",
         "x": [
          0,
          0.08587357492435425
         ],
         "y": [
          0,
          -0.009242263504001522
         ],
         "z": [
          0,
          -0.04316623759685115
         ]
        },
        {
         "hoverinfo": "text",
         "mode": "lines+text",
         "name": "91282CHA2",
         "text": [
          "",
          "91282CHA2"
         ],
         "textposition": "top center",
         "type": "scatter3d",
         "x": [
          0,
          0.08516005116858033
         ],
         "y": [
          0,
          0.0005361729905641032
         ],
         "z": [
          0,
          -0.04404897094822043
         ]
        },
        {
         "hoverinfo": "text",
         "mode": "lines+text",
         "name": "91282CHE4",
         "text": [
          "",
          "91282CHE4"
         ],
         "textposition": "top center",
         "type": "scatter3d",
         "x": [
          0,
          0.08435661297805581
         ],
         "y": [
          0,
          0.006800063167110142
         ],
         "z": [
          0,
          -0.04523887164314647
         ]
        },
        {
         "hoverinfo": "text",
         "mode": "lines+text",
         "name": "91282CHK0",
         "text": [
          "",
          "91282CHK0"
         ],
         "textposition": "top center",
         "type": "scatter3d",
         "x": [
          0,
          0.08440075760237264
         ],
         "y": [
          0,
          0.006562843704375597
         ],
         "z": [
          0,
          -0.046670681142608535
         ]
        },
        {
         "hoverinfo": "text",
         "mode": "lines+text",
         "name": "91282CHQ7",
         "text": [
          "",
          "91282CHQ7"
         ],
         "textposition": "top center",
         "type": "scatter3d",
         "x": [
          0,
          0.08357085581386521
         ],
         "y": [
          0,
          0.018446024122617817
         ],
         "z": [
          0,
          -0.04717705998916704
         ]
        },
        {
         "hoverinfo": "text",
         "mode": "lines+text",
         "name": "91282CHX2",
         "text": [
          "",
          "91282CHX2"
         ],
         "textposition": "top center",
         "type": "scatter3d",
         "x": [
          0,
          0.0831252377125464
         ],
         "y": [
          0,
          0.024723067827899514
         ],
         "z": [
          0,
          -0.04764751893069994
         ]
        },
        {
         "hoverinfo": "text",
         "mode": "lines+text",
         "name": "91282CJA0",
         "text": [
          "",
          "91282CJA0"
         ],
         "textposition": "top center",
         "type": "scatter3d",
         "x": [
          0,
          0.08297960676639544
         ],
         "y": [
          0,
          0.02348531060649884
         ],
         "z": [
          0,
          -0.051332617950924274
         ]
        },
        {
         "hoverinfo": "text",
         "mode": "lines+text",
         "name": "91282CJF9",
         "text": [
          "",
          "91282CJF9"
         ],
         "textposition": "top center",
         "type": "scatter3d",
         "x": [
          0,
          0.0825481820536123
         ],
         "y": [
          0,
          0.031169493129002288
         ],
         "z": [
          0,
          -0.053195225996144534
         ]
        },
        {
         "hoverinfo": "text",
         "mode": "lines+text",
         "name": "91282CJN2",
         "text": [
          "",
          "91282CJN2"
         ],
         "textposition": "top center",
         "type": "scatter3d",
         "x": [
          0,
          0.0816296886630453
         ],
         "y": [
          0,
          0.04716315852937652
         ],
         "z": [
          0,
          -0.05359638438899771
         ]
        },
        {
         "hoverinfo": "text",
         "mode": "lines+text",
         "name": "91282CJR3",
         "text": [
          "",
          "91282CJR3"
         ],
         "textposition": "top center",
         "type": "scatter3d",
         "x": [
          0,
          0.08160259449670625
         ],
         "y": [
          0,
          0.04310849285502871
         ],
         "z": [
          0,
          -0.05209664377269037
         ]
        },
        {
         "hoverinfo": "text",
         "mode": "lines+text",
         "name": "91282CJW2",
         "text": [
          "",
          "91282CJW2"
         ],
         "textposition": "top center",
         "type": "scatter3d",
         "x": [
          0,
          0.08100999139481509
         ],
         "y": [
          0,
          0.052335080766538596
         ],
         "z": [
          0,
          -0.052215558369492786
         ]
        },
        {
         "hoverinfo": "text",
         "mode": "lines+text",
         "name": "9128283D0",
         "text": [
          "",
          "9128283D0"
         ],
         "textposition": "top center",
         "type": "scatter3d",
         "x": [
          0,
          0.014073388075795019
         ],
         "y": [
          0,
          0.2821564325237123
         ],
         "z": [
          0,
          0.1575490837448768
         ]
        },
        {
         "hoverinfo": "text",
         "mode": "lines+text",
         "name": "9128283J7",
         "text": [
          "",
          "9128283J7"
         ],
         "textposition": "top center",
         "type": "scatter3d",
         "x": [
          0,
          0.027411593244549566
         ],
         "y": [
          0,
          0.19201448095592938
         ],
         "z": [
          0,
          0.15006493684515243
         ]
        },
        {
         "hoverinfo": "text",
         "mode": "lines+text",
         "name": "9128283P3",
         "text": [
          "",
          "9128283P3"
         ],
         "textposition": "top center",
         "type": "scatter3d",
         "x": [
          0,
          0.03160384553629712
         ],
         "y": [
          0,
          0.17363509026990653
         ],
         "z": [
          0,
          0.14551251720088784
         ]
        },
        {
         "hoverinfo": "text",
         "mode": "lines+text",
         "name": "9128283V0",
         "text": [
          "",
          "9128283V0"
         ],
         "textposition": "top center",
         "type": "scatter3d",
         "x": [
          0,
          0.0369439901040902
         ],
         "y": [
          0,
          0.1574439850906614
         ],
         "z": [
          0,
          0.16638319472639881
         ]
        },
        {
         "hoverinfo": "text",
         "mode": "lines+text",
         "name": "9128283Z1",
         "text": [
          "",
          "9128283Z1"
         ],
         "textposition": "top center",
         "type": "scatter3d",
         "x": [
          0,
          0.04604899966790997
         ],
         "y": [
          0,
          0.08187442895507069
         ],
         "z": [
          0,
          0.1493816219766014
         ]
        },
        {
         "hoverinfo": "text",
         "mode": "lines+text",
         "name": "9128284F4",
         "text": [
          "",
          "9128284F4"
         ],
         "textposition": "top center",
         "type": "scatter3d",
         "x": [
          0,
          0.054011981531395026
         ],
         "y": [
          0,
          -0.006364956678136154
         ],
         "z": [
          0,
          0.12272626245080183
         ]
        },
        {
         "hoverinfo": "text",
         "mode": "lines+text",
         "name": "9128284M9",
         "text": [
          "",
          "9128284M9"
         ],
         "textposition": "top center",
         "type": "scatter3d",
         "x": [
          0,
          0.05540319454826012
         ],
         "y": [
          0,
          0.04922013987471534
         ],
         "z": [
          0,
          0.14334193392630343
         ]
        },
        {
         "hoverinfo": "text",
         "mode": "lines+text",
         "name": "9128284R8",
         "text": [
          "",
          "9128284R8"
         ],
         "textposition": "top center",
         "type": "scatter3d",
         "x": [
          0,
          0.06445813539596279
         ],
         "y": [
          0,
          -0.00043787496240525677
         ],
         "z": [
          0,
          0.15246567460673682
         ]
        },
        {
         "hoverinfo": "text",
         "mode": "lines+text",
         "name": "912828XZ8",
         "text": [
          "",
          "912828XZ8"
         ],
         "textposition": "top center",
         "type": "scatter3d",
         "x": [
          0,
          0.07006698244136743
         ],
         "y": [
          0,
          -0.01197885906268067
         ],
         "z": [
          0,
          0.13584552789069457
         ]
        },
        {
         "hoverinfo": "text",
         "mode": "lines+text",
         "name": "912828Y79",
         "text": [
          "",
          "912828Y79"
         ],
         "textposition": "top center",
         "type": "scatter3d",
         "x": [
          0,
          0.07145601825676715
         ],
         "y": [
          0,
          -0.022162441323852443
         ],
         "z": [
          0,
          0.1241935002531929
         ]
        },
        {
         "hoverinfo": "text",
         "mode": "lines+text",
         "name": "9128284Z0",
         "text": [
          "",
          "9128284Z0"
         ],
         "textposition": "top center",
         "type": "scatter3d",
         "x": [
          0,
          0.07355142846479008
         ],
         "y": [
          0,
          -0.04047322156579829
         ],
         "z": [
          0,
          0.12694988966883264
         ]
        },
        {
         "hoverinfo": "text",
         "mode": "lines+text",
         "name": "9128285C0",
         "text": [
          "",
          "9128285C0"
         ],
         "textposition": "top center",
         "type": "scatter3d",
         "x": [
          0,
          0.0766882935393465
         ],
         "y": [
          0,
          -0.04963991621726877
         ],
         "z": [
          0,
          0.11293055757662707
         ]
        },
        {
         "hoverinfo": "text",
         "mode": "lines+text",
         "name": "9128285J5",
         "text": [
          "",
          "9128285J5"
         ],
         "textposition": "top center",
         "type": "scatter3d",
         "x": [
          0,
          0.07958591266088223
         ],
         "y": [
          0,
          -0.056544812509182675
         ],
         "z": [
          0,
          0.10400743087968631
         ]
        },
        {
         "hoverinfo": "text",
         "mode": "lines+text",
         "name": "9128285N6",
         "text": [
          "",
          "9128285N6"
         ],
         "textposition": "top center",
         "type": "scatter3d",
         "x": [
          0,
          0.08169235233361802
         ],
         "y": [
          0,
          -0.06528497360162264
         ],
         "z": [
          0,
          0.0966421592992023
         ]
        },
        {
         "hoverinfo": "text",
         "mode": "lines+text",
         "name": "9128285T3",
         "text": [
          "",
          "9128285T3"
         ],
         "textposition": "top center",
         "type": "scatter3d",
         "x": [
          0,
          0.0831924676067989
         ],
         "y": [
          0,
          -0.051986654447341504
         ],
         "z": [
          0,
          0.09762436734111826
         ]
        },
        {
         "hoverinfo": "text",
         "mode": "lines+text",
         "name": "9128286A3",
         "text": [
          "",
          "9128286A3"
         ],
         "textposition": "top center",
         "type": "scatter3d",
         "x": [
          0,
          0.08603537368673525
         ],
         "y": [
          0,
          -0.05937645462484956
         ],
         "z": [
          0,
          0.09503563857107776
         ]
        },
        {
         "hoverinfo": "text",
         "mode": "lines+text",
         "name": "9128286F2",
         "text": [
          "",
          "9128286F2"
         ],
         "textposition": "top center",
         "type": "scatter3d",
         "x": [
          0,
          0.0859344591837461
         ],
         "y": [
          0,
          -0.06535325922942183
         ],
         "z": [
          0,
          0.08430831144088514
         ]
        },
        {
         "hoverinfo": "text",
         "mode": "lines+text",
         "name": "9128286L9",
         "text": [
          "",
          "9128286L9"
         ],
         "textposition": "top center",
         "type": "scatter3d",
         "x": [
          0,
          0.08534380934780356
         ],
         "y": [
          0,
          -0.08706603447439004
         ],
         "z": [
          0,
          0.07325126692777417
         ]
        },
        {
         "hoverinfo": "text",
         "mode": "lines+text",
         "name": "9128286S4",
         "text": [
          "",
          "9128286S4"
         ],
         "textposition": "top center",
         "type": "scatter3d",
         "x": [
          0,
          0.08721662094542279
         ],
         "y": [
          0,
          -0.07978006066634308
         ],
         "z": [
          0,
          0.06314375708779049
         ]
        },
        {
         "hoverinfo": "text",
         "mode": "lines+text",
         "name": "9128286X3",
         "text": [
          "",
          "9128286X3"
         ],
         "textposition": "top center",
         "type": "scatter3d",
         "x": [
          0,
          0.08857759180402472
         ],
         "y": [
          0,
          -0.07569549744412972
         ],
         "z": [
          0,
          0.05277072686306617
         ]
        },
        {
         "hoverinfo": "text",
         "mode": "lines+text",
         "name": "9128287B0",
         "text": [
          "",
          "9128287B0"
         ],
         "textposition": "top center",
         "type": "scatter3d",
         "x": [
          0,
          0.08717829554723464
         ],
         "y": [
          0,
          -0.041808973050593834
         ],
         "z": [
          0,
          0.058955348553154346
         ]
        },
        {
         "hoverinfo": "text",
         "mode": "lines+text",
         "name": "912828Y95",
         "text": [
          "",
          "912828Y95"
         ],
         "textposition": "top center",
         "type": "scatter3d",
         "x": [
          0,
          0.08856796065658715
         ],
         "y": [
          0,
          -0.08173266209908982
         ],
         "z": [
          0,
          0.04472747246581007
         ]
        },
        {
         "hoverinfo": "text",
         "mode": "lines+text",
         "name": "912828YD6",
         "text": [
          "",
          "912828YD6"
         ],
         "textposition": "top center",
         "type": "scatter3d",
         "x": [
          0,
          0.08987083183819154
         ],
         "y": [
          0,
          -0.08800424353217884
         ],
         "z": [
          0,
          0.03752376004672245
         ]
        },
        {
         "hoverinfo": "text",
         "mode": "lines+text",
         "name": "912828YG9",
         "text": [
          "",
          "912828YG9"
         ],
         "textposition": "top center",
         "type": "scatter3d",
         "x": [
          0,
          0.08920220381510462
         ],
         "y": [
          0,
          -0.05549939141287466
         ],
         "z": [
          0,
          0.03430115452928653
         ]
        },
        {
         "hoverinfo": "text",
         "mode": "lines+text",
         "name": "912828YQ7",
         "text": [
          "",
          "912828YQ7"
         ],
         "textposition": "top center",
         "type": "scatter3d",
         "x": [
          0,
          0.08873103026360336
         ],
         "y": [
          0,
          -0.06543118908741263
         ],
         "z": [
          0,
          0.022781748319189055
         ]
        },
        {
         "hoverinfo": "text",
         "mode": "lines+text",
         "name": "912828YU8",
         "text": [
          "",
          "912828YU8"
         ],
         "textposition": "top center",
         "type": "scatter3d",
         "x": [
          0,
          0.08913197930097803
         ],
         "y": [
          0,
          -0.05012048352641811
         ],
         "z": [
          0,
          0.025985748524837645
         ]
        },
        {
         "hoverinfo": "text",
         "mode": "lines+text",
         "name": "912828YX2",
         "text": [
          "",
          "912828YX2"
         ],
         "textposition": "top center",
         "type": "scatter3d",
         "x": [
          0,
          0.08945643038949853
         ],
         "y": [
          0,
          -0.06679545332547103
         ],
         "z": [
          0,
          0.013878794695387213
         ]
        },
        {
         "hoverinfo": "text",
         "mode": "lines+text",
         "name": "912828Z78",
         "text": [
          "",
          "912828Z78"
         ],
         "textposition": "top center",
         "type": "scatter3d",
         "x": [
          0,
          0.08921571236531436
         ],
         "y": [
          0,
          -0.05934235637955658
         ],
         "z": [
          0,
          0.005237878233648235
         ]
        },
        {
         "hoverinfo": "text",
         "mode": "lines+text",
         "name": "912828ZB9",
         "text": [
          "",
          "912828ZB9"
         ],
         "textposition": "top center",
         "type": "scatter3d",
         "x": [
          0,
          0.08804887839334008
         ],
         "y": [
          0,
          -0.05923274095276245
         ],
         "z": [
          0,
          0.003355236045772701
         ]
        },
        {
         "hoverinfo": "text",
         "mode": "lines+text",
         "name": "912828ZE3",
         "text": [
          "",
          "912828ZE3"
         ],
         "textposition": "top center",
         "type": "scatter3d",
         "x": [
          0,
          0.08760327949751337
         ],
         "y": [
          0,
          -0.048551283406149226
         ],
         "z": [
          0,
          -0.002837626746755394
         ]
        },
        {
         "hoverinfo": "text",
         "mode": "lines+text",
         "name": "912828ZN3",
         "text": [
          "",
          "912828ZN3"
         ],
         "textposition": "top center",
         "type": "scatter3d",
         "x": [
          0,
          0.0890134391435805
         ],
         "y": [
          0,
          -0.053550604581451174
         ],
         "z": [
          0,
          -0.013303264701000548
         ]
        },
        {
         "hoverinfo": "text",
         "mode": "lines+text",
         "name": "912828ZS2",
         "text": [
          "",
          "912828ZS2"
         ],
         "textposition": "top center",
         "type": "scatter3d",
         "x": [
          0,
          0.08901903762941696
         ],
         "y": [
          0,
          -0.05703517122819781
         ],
         "z": [
          0,
          -0.016856013903491316
         ]
        },
        {
         "hoverinfo": "text",
         "mode": "lines+text",
         "name": "912828ZV5",
         "text": [
          "",
          "912828ZV5"
         ],
         "textposition": "top center",
         "type": "scatter3d",
         "x": [
          0,
          0.08788909123170742
         ],
         "y": [
          0,
          -0.0450894844819381
         ],
         "z": [
          0,
          -0.02093966165644446
         ]
        },
        {
         "hoverinfo": "text",
         "mode": "lines+text",
         "name": "91282CAD3",
         "text": [
          "",
          "91282CAD3"
         ],
         "textposition": "top center",
         "type": "scatter3d",
         "x": [
          0,
          0.088625215978436
         ],
         "y": [
          0,
          -0.03684951177569533
         ],
         "z": [
          0,
          -0.01869414897566817
         ]
        },
        {
         "hoverinfo": "text",
         "mode": "lines+text",
         "name": "91282CAH4",
         "text": [
          "",
          "91282CAH4"
         ],
         "textposition": "top center",
         "type": "scatter3d",
         "x": [
          0,
          0.0884265616950683
         ],
         "y": [
          0,
          -0.04106797129284946
         ],
         "z": [
          0,
          -0.027360237375713806
         ]
        },
        {
         "hoverinfo": "text",
         "mode": "lines+text",
         "name": "91282CAL5",
         "text": [
          "",
          "91282CAL5"
         ],
         "textposition": "top center",
         "type": "scatter3d",
         "x": [
          0,
          0.08807838635949954
         ],
         "y": [
          0,
          -0.02868915803876782
         ],
         "z": [
          0,
          -0.030039560908075743
         ]
        },
        {
         "hoverinfo": "text",
         "mode": "lines+text",
         "name": "91282CAU5",
         "text": [
          "",
          "91282CAU5"
         ],
         "textposition": "top center",
         "type": "scatter3d",
         "x": [
          0,
          0.08754210377459433
         ],
         "y": [
          0,
          -0.01386953263724947
         ],
         "z": [
          0,
          -0.030195148082938245
         ]
        },
        {
         "hoverinfo": "text",
         "mode": "lines+text",
         "name": "91282CAY7",
         "text": [
          "",
          "91282CAY7"
         ],
         "textposition": "top center",
         "type": "scatter3d",
         "x": [
          0,
          0.08721312586183685
         ],
         "y": [
          0,
          -0.01349489718813115
         ],
         "z": [
          0,
          -0.03040642047195567
         ]
        },
        {
         "hoverinfo": "text",
         "mode": "lines+text",
         "name": "91282CBB6",
         "text": [
          "",
          "91282CBB6"
         ],
         "textposition": "top center",
         "type": "scatter3d",
         "x": [
          0,
          0.08687427104795079
         ],
         "y": [
          0,
          -0.006462363201540533
         ],
         "z": [
          0,
          -0.031290959502953804
         ]
        },
        {
         "hoverinfo": "text",
         "mode": "lines+text",
         "name": "91282CBJ9",
         "text": [
          "",
          "91282CBJ9"
         ],
         "textposition": "top center",
         "type": "scatter3d",
         "x": [
          0,
          0.08627631921392008
         ],
         "y": [
          0,
          0.0031560096893172873
         ],
         "z": [
          0,
          -0.033958151354054174
         ]
        },
        {
         "hoverinfo": "text",
         "mode": "lines+text",
         "name": "91282CBP5",
         "text": [
          "",
          "91282CBP5"
         ],
         "textposition": "top center",
         "type": "scatter3d",
         "x": [
          0,
          0.08546945616942318
         ],
         "y": [
          0,
          0.008053610213001008
         ],
         "z": [
          0,
          -0.035720673727873804
         ]
        },
        {
         "hoverinfo": "text",
         "mode": "lines+text",
         "name": "91282CBS9",
         "text": [
          "",
          "91282CBS9"
         ],
         "textposition": "top center",
         "type": "scatter3d",
         "x": [
          0,
          0.0850497690474618
         ],
         "y": [
          0,
          0.01065889413601658
         ],
         "z": [
          0,
          -0.03955807987316529
         ]
        },
        {
         "hoverinfo": "text",
         "mode": "lines+text",
         "name": "91282CBZ3",
         "text": [
          "",
          "91282CBZ3"
         ],
         "textposition": "top center",
         "type": "scatter3d",
         "x": [
          0,
          0.0846422785980991
         ],
         "y": [
          0,
          0.01724505051867278
         ],
         "z": [
          0,
          -0.042202162835369955
         ]
        },
        {
         "hoverinfo": "text",
         "mode": "lines+text",
         "name": "91282CCE9",
         "text": [
          "",
          "91282CCE9"
         ],
         "textposition": "top center",
         "type": "scatter3d",
         "x": [
          0,
          0.08412759719451891
         ],
         "y": [
          0,
          0.018228238753625885
         ],
         "z": [
          0,
          -0.04436354889304036
         ]
        },
        {
         "hoverinfo": "text",
         "mode": "lines+text",
         "name": "91282CCH2",
         "text": [
          "",
          "91282CCH2"
         ],
         "textposition": "top center",
         "type": "scatter3d",
         "x": [
          0,
          0.08370426601929798
         ],
         "y": [
          0,
          0.016072261837763693
         ],
         "z": [
          0,
          -0.04421520507914437
         ]
        },
        {
         "hoverinfo": "text",
         "mode": "lines+text",
         "name": "91282CCR0",
         "text": [
          "",
          "91282CCR0"
         ],
         "textposition": "top center",
         "type": "scatter3d",
         "x": [
          0,
          0.08301182633579224
         ],
         "y": [
          0,
          0.02650815407091889
         ],
         "z": [
          0,
          -0.04513677260210501
         ]
        },
        {
         "hoverinfo": "text",
         "mode": "lines+text",
         "name": "91282CCV1",
         "text": [
          "",
          "91282CCV1"
         ],
         "textposition": "top center",
         "type": "scatter3d",
         "x": [
          0,
          0.08289849678994861
         ],
         "y": [
          0,
          0.02514008778237554
         ],
         "z": [
          0,
          -0.04865431711738587
         ]
        },
        {
         "hoverinfo": "text",
         "mode": "lines+text",
         "name": "91282CCY5",
         "text": [
          "",
          "91282CCY5"
         ],
         "textposition": "top center",
         "type": "scatter3d",
         "x": [
          0,
          0.08252829898780734
         ],
         "y": [
          0,
          0.025168884852846077
         ],
         "z": [
          0,
          -0.05032873610226055
         ]
        },
        {
         "hoverinfo": "text",
         "mode": "lines+text",
         "name": "91282CDF5",
         "text": [
          "",
          "91282CDF5"
         ],
         "textposition": "top center",
         "type": "scatter3d",
         "x": [
          0,
          0.0821214703084614
         ],
         "y": [
          0,
          0.036989769803788555
         ],
         "z": [
          0,
          -0.05105557601726954
         ]
        },
        {
         "hoverinfo": "text",
         "mode": "lines+text",
         "name": "91282CDL2",
         "text": [
          "",
          "91282CDL2"
         ],
         "textposition": "top center",
         "type": "scatter3d",
         "x": [
          0,
          0.08171561695910762
         ],
         "y": [
          0,
          0.03577764679304644
         ],
         "z": [
          0,
          -0.052746982005950335
         ]
        },
        {
         "hoverinfo": "text",
         "mode": "lines+text",
         "name": "91282CDP3",
         "text": [
          "",
          "91282CDP3"
         ],
         "textposition": "top center",
         "type": "scatter3d",
         "x": [
          0,
          0.08176998116843602
         ],
         "y": [
          0,
          0.04323719190938196
         ],
         "z": [
          0,
          -0.05296528538617211
         ]
        },
        {
         "hoverinfo": "text",
         "mode": "lines+text",
         "name": "91282CDW8",
         "text": [
          "",
          "91282CDW8"
         ],
         "textposition": "top center",
         "type": "scatter3d",
         "x": [
          0,
          0.08083283909930354
         ],
         "y": [
          0,
          0.04834195428651083
         ],
         "z": [
          0,
          -0.05626348826569845
         ]
        },
        {
         "hoverinfo": "text",
         "mode": "lines+text",
         "name": "91282CEB3",
         "text": [
          "",
          "91282CEB3"
         ],
         "textposition": "top center",
         "type": "scatter3d",
         "x": [
          0,
          0.08056269593900557
         ],
         "y": [
          0,
          0.05119626403363369
         ],
         "z": [
          0,
          -0.057413806384170485
         ]
        },
        {
         "hoverinfo": "text",
         "mode": "lines+text",
         "name": "91282CEE7",
         "text": [
          "",
          "91282CEE7"
         ],
         "textposition": "top center",
         "type": "scatter3d",
         "x": [
          0,
          0.08033964223256972
         ],
         "y": [
          0,
          0.04694510716467255
         ],
         "z": [
          0,
          -0.05978416845928417
         ]
        },
        {
         "hoverinfo": "text",
         "mode": "lines+text",
         "name": "91282CEM9",
         "text": [
          "",
          "91282CEM9"
         ],
         "textposition": "top center",
         "type": "scatter3d",
         "x": [
          0,
          0.08033409803831326
         ],
         "y": [
          0,
          0.045645439797221986
         ],
         "z": [
          0,
          -0.06076927149098848
         ]
        },
        {
         "hoverinfo": "text",
         "mode": "lines+text",
         "name": "91282CES6",
         "text": [
          "",
          "91282CES6"
         ],
         "textposition": "top center",
         "type": "scatter3d",
         "x": [
          0,
          0.08007551125713398
         ],
         "y": [
          0,
          0.04419188890343359
         ],
         "z": [
          0,
          -0.06354776357042954
         ]
        },
        {
         "hoverinfo": "text",
         "mode": "lines+text",
         "name": "91282CEV9",
         "text": [
          "",
          "91282CEV9"
         ],
         "textposition": "top center",
         "type": "scatter3d",
         "x": [
          0,
          0.0798521680757155
         ],
         "y": [
          0,
          0.03985751561473644
         ],
         "z": [
          0,
          -0.06422806113169509
         ]
        },
        {
         "hoverinfo": "text",
         "mode": "lines+text",
         "name": "91282CFC0",
         "text": [
          "",
          "91282CFC0"
         ],
         "textposition": "top center",
         "type": "scatter3d",
         "x": [
          0,
          0.07922727746938438
         ],
         "y": [
          0,
          0.04204495906958631
         ],
         "z": [
          0,
          -0.06666776054015418
         ]
        },
        {
         "hoverinfo": "text",
         "mode": "lines+text",
         "name": "91282CFJ5",
         "text": [
          "",
          "91282CFJ5"
         ],
         "textposition": "top center",
         "type": "scatter3d",
         "x": [
          0,
          0.07932906492382312
         ],
         "y": [
          0,
          0.04037968118109095
         ],
         "z": [
          0,
          -0.06864958352542382
         ]
        },
        {
         "hoverinfo": "text",
         "mode": "lines+text",
         "name": "91282CFL0",
         "text": [
          "",
          "91282CFL0"
         ],
         "textposition": "top center",
         "type": "scatter3d",
         "x": [
          0,
          0.0791840626340089
         ],
         "y": [
          0,
          0.03813805902948949
         ],
         "z": [
          0,
          -0.07128238548847464
         ]
        },
        {
         "hoverinfo": "text",
         "mode": "lines+text",
         "name": "91282CFT3",
         "text": [
          "",
          "91282CFT3"
         ],
         "textposition": "top center",
         "type": "scatter3d",
         "x": [
          0,
          0.07881963216781498
         ],
         "y": [
          0,
          0.042236017377010104
         ],
         "z": [
          0,
          -0.07384947888384001
         ]
        },
        {
         "hoverinfo": "text",
         "mode": "lines+text",
         "name": "91282CFY2",
         "text": [
          "",
          "91282CFY2"
         ],
         "textposition": "top center",
         "type": "scatter3d",
         "x": [
          0,
          0.07876944231700854
         ],
         "y": [
          0,
          0.04409368990009121
         ],
         "z": [
          0,
          -0.07242856726166062
         ]
        },
        {
         "hoverinfo": "text",
         "mode": "lines+text",
         "name": "91282CGB1",
         "text": [
          "",
          "91282CGB1"
         ],
         "textposition": "top center",
         "type": "scatter3d",
         "x": [
          0,
          0.07830824110019467
         ],
         "y": [
          0,
          0.047428915478724375
         ],
         "z": [
          0,
          -0.07315213037518
         ]
        },
        {
         "hoverinfo": "text",
         "mode": "lines+text",
         "name": "91282CGJ4",
         "text": [
          "",
          "91282CGJ4"
         ],
         "textposition": "top center",
         "type": "scatter3d",
         "x": [
          0,
          0.07791774987691681
         ],
         "y": [
          0,
          0.04749320011812782
         ],
         "z": [
          0,
          -0.07403907748319519
         ]
        },
        {
         "hoverinfo": "text",
         "mode": "lines+text",
         "name": "91282CGQ8",
         "text": [
          "",
          "91282CGQ8"
         ],
         "textposition": "top center",
         "type": "scatter3d",
         "x": [
          0,
          0.07791426225531982
         ],
         "y": [
          0,
          0.045467263859196465
         ],
         "z": [
          0,
          -0.0774763093566295
         ]
        },
        {
         "hoverinfo": "text",
         "mode": "lines+text",
         "name": "91282CGS4",
         "text": [
          "",
          "91282CGS4"
         ],
         "textposition": "top center",
         "type": "scatter3d",
         "x": [
          0,
          0.07725987838325185
         ],
         "y": [
          0,
          0.04764559862735494
         ],
         "z": [
          0,
          -0.07621561582427736
         ]
        },
        {
         "hoverinfo": "text",
         "mode": "lines+text",
         "name": "91282CGZ8",
         "text": [
          "",
          "91282CGZ8"
         ],
         "textposition": "top center",
         "type": "scatter3d",
         "x": [
          0,
          0.07716054972695448
         ],
         "y": [
          0,
          0.04985624383645966
         ],
         "z": [
          0,
          -0.07612740201197557
         ]
        },
        {
         "hoverinfo": "text",
         "mode": "lines+text",
         "name": "91282CHF1",
         "text": [
          "",
          "91282CHF1"
         ],
         "textposition": "top center",
         "type": "scatter3d",
         "x": [
          0,
          0.07679846087015044
         ],
         "y": [
          0,
          0.05229525442227172
         ],
         "z": [
          0,
          -0.0776694763817926
         ]
        },
        {
         "hoverinfo": "text",
         "mode": "lines+text",
         "name": "91282CHJ3",
         "text": [
          "",
          "91282CHJ3"
         ],
         "textposition": "top center",
         "type": "scatter3d",
         "x": [
          0,
          0.07663334193412426
         ],
         "y": [
          0,
          0.05978380928129402
         ],
         "z": [
          0,
          -0.07646571577691995
         ]
        },
        {
         "hoverinfo": "text",
         "mode": "lines+text",
         "name": "91282CHR5",
         "text": [
          "",
          "91282CHR5"
         ],
         "textposition": "top center",
         "type": "scatter3d",
         "x": [
          0,
          0.07606931778395791
         ],
         "y": [
          0,
          0.06113465609009596
         ],
         "z": [
          0,
          -0.07797558436511878
         ]
        },
        {
         "hoverinfo": "text",
         "mode": "lines+text",
         "name": "91282CHW4",
         "text": [
          "",
          "91282CHW4"
         ],
         "textposition": "top center",
         "type": "scatter3d",
         "x": [
          0,
          0.07591743996551592
         ],
         "y": [
          0,
          0.05995975591931992
         ],
         "z": [
          0,
          -0.07836066327374495
         ]
        },
        {
         "hoverinfo": "text",
         "mode": "lines+text",
         "name": "91282CHZ7",
         "text": [
          "",
          "91282CHZ7"
         ],
         "textposition": "top center",
         "type": "scatter3d",
         "x": [
          0,
          0.07570319526423465
         ],
         "y": [
          0,
          0.06355803679938593
         ],
         "z": [
          0,
          -0.07783559108835099
         ]
        },
        {
         "hoverinfo": "text",
         "mode": "lines+text",
         "name": "91282CJG7",
         "text": [
          "",
          "91282CJG7"
         ],
         "textposition": "top center",
         "type": "scatter3d",
         "x": [
          0,
          0.07573019673481292
         ],
         "y": [
          0,
          0.06312365841784078
         ],
         "z": [
          0,
          -0.08020407390601036
         ]
        },
        {
         "hoverinfo": "text",
         "mode": "lines+text",
         "name": "91282CJM4",
         "text": [
          "",
          "91282CJM4"
         ],
         "textposition": "top center",
         "type": "scatter3d",
         "x": [
          0,
          0.07492624776411515
         ],
         "y": [
          0,
          0.07323080570918346
         ],
         "z": [
          0,
          -0.07901655901439092
         ]
        },
        {
         "hoverinfo": "text",
         "mode": "lines+text",
         "name": "91282CJQ5",
         "text": [
          "",
          "91282CJQ5"
         ],
         "textposition": "top center",
         "type": "scatter3d",
         "x": [
          0,
          0.07440220992580983
         ],
         "y": [
          0,
          0.08044146663609872
         ],
         "z": [
          0,
          -0.07601196726923873
         ]
        },
        {
         "hoverinfo": "text",
         "mode": "lines+text",
         "name": "91282CJX0",
         "text": [
          "",
          "91282CJX0"
         ],
         "textposition": "top center",
         "type": "scatter3d",
         "x": [
          0,
          0.07393601143711698
         ],
         "y": [
          0,
          0.0920863995505465
         ],
         "z": [
          0,
          -0.07471380824391512
         ]
        },
        {
         "hoverinfo": "text",
         "mode": "lines+text",
         "name": "912828G38",
         "text": [
          "",
          "912828G38"
         ],
         "textposition": "top center",
         "type": "scatter3d",
         "x": [
          0,
          0.020826224263715255
         ],
         "y": [
          0,
          0.24657278096469518
         ],
         "z": [
          0,
          0.166298135047838
         ]
        },
        {
         "hoverinfo": "text",
         "mode": "lines+text",
         "name": "912828J27",
         "text": [
          "",
          "912828J27"
         ],
         "textposition": "top center",
         "type": "scatter3d",
         "x": [
          0,
          0.04068912769547944
         ],
         "y": [
          0,
          0.1518453344486028
         ],
         "z": [
          0,
          0.14388436638420943
         ]
        },
        {
         "hoverinfo": "text",
         "mode": "lines+text",
         "name": "912828XB1",
         "text": [
          "",
          "912828XB1"
         ],
         "textposition": "top center",
         "type": "scatter3d",
         "x": [
          0,
          0.05956836817317871
         ],
         "y": [
          0,
          0.03288510711671874
         ],
         "z": [
          0,
          0.14593429621253362
         ]
        },
        {
         "hoverinfo": "text",
         "mode": "lines+text",
         "name": "912828K74",
         "text": [
          "",
          "912828K74"
         ],
         "textposition": "top center",
         "type": "scatter3d",
         "x": [
          0,
          0.07245459289101834
         ],
         "y": [
          0,
          -0.04952358056904826
         ],
         "z": [
          0,
          0.1274080454973817
         ]
        },
        {
         "hoverinfo": "text",
         "mode": "lines+text",
         "name": "912828M56",
         "text": [
          "",
          "912828M56"
         ],
         "textposition": "top center",
         "type": "scatter3d",
         "x": [
          0,
          0.08082755250584082
         ],
         "y": [
          0,
          -0.050416494435829275
         ],
         "z": [
          0,
          0.1005137718437877
         ]
        },
        {
         "hoverinfo": "text",
         "mode": "lines+text",
         "name": "912828P46",
         "text": [
          "",
          "912828P46"
         ],
         "textposition": "top center",
         "type": "scatter3d",
         "x": [
          0,
          0.08580836763905442
         ],
         "y": [
          0,
          -0.06204013491862983
         ],
         "z": [
          0,
          0.08413087124391536
         ]
        },
        {
         "hoverinfo": "text",
         "mode": "lines+text",
         "name": "912828R36",
         "text": [
          "",
          "912828R36"
         ],
         "textposition": "top center",
         "type": "scatter3d",
         "x": [
          0,
          0.08776402263720703
         ],
         "y": [
          0,
          -0.08001395341399414
         ],
         "z": [
          0,
          0.05872909579222148
         ]
        },
        {
         "hoverinfo": "text",
         "mode": "lines+text",
         "name": "9128282A7",
         "text": [
          "",
          "9128282A7"
         ],
         "textposition": "top center",
         "type": "scatter3d",
         "x": [
          0,
          0.08978033374336035
         ],
         "y": [
          0,
          -0.09282616301473985
         ],
         "z": [
          0,
          0.03909564134815539
         ]
        },
        {
         "hoverinfo": "text",
         "mode": "lines+text",
         "name": "912828U24",
         "text": [
          "",
          "912828U24"
         ],
         "textposition": "top center",
         "type": "scatter3d",
         "x": [
          0,
          0.08958772201853872
         ],
         "y": [
          0,
          -0.0715420247435809
         ],
         "z": [
          0,
          0.020825177108198676
         ]
        },
        {
         "hoverinfo": "text",
         "mode": "lines+text",
         "name": "912828V98",
         "text": [
          "",
          "912828V98"
         ],
         "textposition": "top center",
         "type": "scatter3d",
         "x": [
          0,
          0.08808472933465812
         ],
         "y": [
          0,
          -0.07258688781890159
         ],
         "z": [
          0,
          0.0042513336607931974
         ]
        },
        {
         "hoverinfo": "text",
         "mode": "lines+text",
         "name": "912828X88",
         "text": [
          "",
          "912828X88"
         ],
         "textposition": "top center",
         "type": "scatter3d",
         "x": [
          0,
          0.0878503587076709
         ],
         "y": [
          0,
          -0.05239201500649612
         ],
         "z": [
          0,
          -0.008694195998845876
         ]
        },
        {
         "hoverinfo": "text",
         "mode": "lines+text",
         "name": "9128282R0",
         "text": [
          "",
          "9128282R0"
         ],
         "textposition": "top center",
         "type": "scatter3d",
         "x": [
          0,
          0.08810915611517063
         ],
         "y": [
          0,
          -0.04548354858265081
         ],
         "z": [
          0,
          -0.019581502200693313
         ]
        },
        {
         "hoverinfo": "text",
         "mode": "lines+text",
         "name": "9128283F5",
         "text": [
          "",
          "9128283F5"
         ],
         "textposition": "top center",
         "type": "scatter3d",
         "x": [
          0,
          0.08749610415940162
         ],
         "y": [
          0,
          -0.01638150158231773
         ],
         "z": [
          0,
          -0.026988002456825776
         ]
        },
        {
         "hoverinfo": "text",
         "mode": "lines+text",
         "name": "9128283W8",
         "text": [
          "",
          "9128283W8"
         ],
         "textposition": "top center",
         "type": "scatter3d",
         "x": [
          0,
          0.08542405561484635
         ],
         "y": [
          0,
          0.0030254476214568427
         ],
         "z": [
          0,
          -0.029073569166251655
         ]
        },
        {
         "hoverinfo": "text",
         "mode": "lines+text",
         "name": "9128284N7",
         "text": [
          "",
          "9128284N7"
         ],
         "textposition": "top center",
         "type": "scatter3d",
         "x": [
          0,
          0.08407932862950777
         ],
         "y": [
          0,
          0.012856360946333762
         ],
         "z": [
          0,
          -0.038312359706101036
         ]
        },
        {
         "hoverinfo": "text",
         "mode": "lines+text",
         "name": "9128284V9",
         "text": [
          "",
          "9128284V9"
         ],
         "textposition": "top center",
         "type": "scatter3d",
         "x": [
          0,
          0.08264086888288083
         ],
         "y": [
          0,
          0.02293822142857021
         ],
         "z": [
          0,
          -0.0392902303550125
         ]
        },
        {
         "hoverinfo": "text",
         "mode": "lines+text",
         "name": "9128285M8",
         "text": [
          "",
          "9128285M8"
         ],
         "textposition": "top center",
         "type": "scatter3d",
         "x": [
          0,
          0.08178771758270484
         ],
         "y": [
          0,
          0.0446872833899318
         ],
         "z": [
          0,
          -0.04762297365858815
         ]
        },
        {
         "hoverinfo": "text",
         "mode": "lines+text",
         "name": "9128286B1",
         "text": [
          "",
          "9128286B1"
         ],
         "textposition": "top center",
         "type": "scatter3d",
         "x": [
          0,
          0.08108862358483843
         ],
         "y": [
          0,
          0.04584755809312362
         ],
         "z": [
          0,
          -0.054916443986388556
         ]
        },
        {
         "hoverinfo": "text",
         "mode": "lines+text",
         "name": "9128286T2",
         "text": [
          "",
          "9128286T2"
         ],
         "textposition": "top center",
         "type": "scatter3d",
         "x": [
          0,
          0.08027635302834586
         ],
         "y": [
          0,
          0.049504687742341166
         ],
         "z": [
          0,
          -0.060192650636893164
         ]
        },
        {
         "hoverinfo": "text",
         "mode": "lines+text",
         "name": "912828YB0",
         "text": [
          "",
          "912828YB0"
         ],
         "textposition": "top center",
         "type": "scatter3d",
         "x": [
          0,
          0.07922041701051
         ],
         "y": [
          0,
          0.09912806778807737
         ],
         "z": [
          0,
          -0.04730181466541678
         ]
        },
        {
         "hoverinfo": "text",
         "mode": "lines+text",
         "name": "912828YS3",
         "text": [
          "",
          "912828YS3"
         ],
         "textposition": "top center",
         "type": "scatter3d",
         "x": [
          0,
          0.07517881925399554
         ],
         "y": [
          0,
          0.11297258067415904
         ],
         "z": [
          0,
          -0.04803107394993851
         ]
        },
        {
         "hoverinfo": "text",
         "mode": "lines+text",
         "name": "912828Z94",
         "text": [
          "",
          "912828Z94"
         ],
         "textposition": "top center",
         "type": "scatter3d",
         "x": [
          0,
          0.07693574052047751
         ],
         "y": [
          0,
          0.06417830437015627
         ],
         "z": [
          0,
          -0.06724346340591712
         ]
        },
        {
         "hoverinfo": "text",
         "mode": "lines+text",
         "name": "912828ZQ6",
         "text": [
          "",
          "912828ZQ6"
         ],
         "textposition": "top center",
         "type": "scatter3d",
         "x": [
          0,
          0.07673153765971588
         ],
         "y": [
          0,
          0.06327643947389057
         ],
         "z": [
          0,
          -0.07305160103205595
         ]
        },
        {
         "hoverinfo": "text",
         "mode": "lines+text",
         "name": "91282CAE1",
         "text": [
          "",
          "91282CAE1"
         ],
         "textposition": "top center",
         "type": "scatter3d",
         "x": [
          0,
          0.07577740432076334
         ],
         "y": [
          0,
          0.07262516595441887
         ],
         "z": [
          0,
          -0.07600338965504379
         ]
        },
        {
         "hoverinfo": "text",
         "mode": "lines+text",
         "name": "91282CAV3",
         "text": [
          "",
          "91282CAV3"
         ],
         "textposition": "top center",
         "type": "scatter3d",
         "x": [
          0,
          0.07418546930372351
         ],
         "y": [
          0,
          0.09415979007793768
         ],
         "z": [
          0,
          -0.06836985936050377
         ]
        },
        {
         "hoverinfo": "text",
         "mode": "lines+text",
         "name": "91282CBL4",
         "text": [
          "",
          "91282CBL4"
         ],
         "textposition": "top center",
         "type": "scatter3d",
         "x": [
          0,
          0.07289413360722759
         ],
         "y": [
          0,
          0.13080240700974705
         ],
         "z": [
          0,
          -0.0595304559515838
         ]
        },
        {
         "hoverinfo": "text",
         "mode": "lines+text",
         "name": "91282CCB5",
         "text": [
          "",
          "91282CCB5"
         ],
         "textposition": "top center",
         "type": "scatter3d",
         "x": [
          0,
          0.0718249359192951
         ],
         "y": [
          0,
          0.11143197603975824
         ],
         "z": [
          0,
          -0.06824475982703844
         ]
        },
        {
         "hoverinfo": "text",
         "mode": "lines+text",
         "name": "91282CCS8",
         "text": [
          "",
          "91282CCS8"
         ],
         "textposition": "top center",
         "type": "scatter3d",
         "x": [
          0,
          0.07074173508683768
         ],
         "y": [
          0,
          0.11674705448524249
         ],
         "z": [
          0,
          -0.06883229557566059
         ]
        },
        {
         "hoverinfo": "text",
         "mode": "lines+text",
         "name": "91282CDJ7",
         "text": [
          "",
          "91282CDJ7"
         ],
         "textposition": "top center",
         "type": "scatter3d",
         "x": [
          0,
          0.07050522856381462
         ],
         "y": [
          0,
          0.11929178926412859
         ],
         "z": [
          0,
          -0.07071737815764143
         ]
        },
        {
         "hoverinfo": "text",
         "mode": "lines+text",
         "name": "91282CDY4",
         "text": [
          "",
          "91282CDY4"
         ],
         "textposition": "top center",
         "type": "scatter3d",
         "x": [
          0,
          0.06958272970393835
         ],
         "y": [
          0,
          0.12405960008146255
         ],
         "z": [
          0,
          -0.07307925670650121
         ]
        },
        {
         "hoverinfo": "text",
         "mode": "lines+text",
         "name": "91282CEP2",
         "text": [
          "",
          "91282CEP2"
         ],
         "textposition": "top center",
         "type": "scatter3d",
         "x": [
          0,
          0.06987113703398135
         ],
         "y": [
          0,
          0.11789360589656087
         ],
         "z": [
          0,
          -0.0741214218799763
         ]
        },
        {
         "hoverinfo": "text",
         "mode": "lines+text",
         "name": "91282CFF3",
         "text": [
          "",
          "91282CFF3"
         ],
         "textposition": "top center",
         "type": "scatter3d",
         "x": [
          0,
          0.0687690028571569
         ],
         "y": [
          0,
          0.12633575707467257
         ],
         "z": [
          0,
          -0.07443625346649807
         ]
        },
        {
         "hoverinfo": "text",
         "mode": "lines+text",
         "name": "91282CFV8",
         "text": [
          "",
          "91282CFV8"
         ],
         "textposition": "top center",
         "type": "scatter3d",
         "x": [
          0,
          0.0686056509078057
         ],
         "y": [
          0,
          0.12398971290603433
         ],
         "z": [
          0,
          -0.07423980672530078
         ]
        }
       ],
       "layout": {
        "height": 1050,
        "scene": {
         "aspectmode": "manual",
         "aspectratio": {
          "x": 2,
          "y": 2,
          "z": 1
         },
         "xaxis": {
          "title": {
           "text": "PC1 (98.49%)"
          }
         },
         "yaxis": {
          "title": {
           "text": "PC3 (0.12%)"
          }
         },
         "zaxis": {
          "title": {
           "text": "PC2 (1.27%)"
          }
         }
        },
        "template": {
         "data": {
          "bar": [
           {
            "error_x": {
             "color": "#f2f5fa"
            },
            "error_y": {
             "color": "#f2f5fa"
            },
            "marker": {
             "line": {
              "color": "rgb(17,17,17)",
              "width": 0.5
             },
             "pattern": {
              "fillmode": "overlay",
              "size": 10,
              "solidity": 0.2
             }
            },
            "type": "bar"
           }
          ],
          "barpolar": [
           {
            "marker": {
             "line": {
              "color": "rgb(17,17,17)",
              "width": 0.5
             },
             "pattern": {
              "fillmode": "overlay",
              "size": 10,
              "solidity": 0.2
             }
            },
            "type": "barpolar"
           }
          ],
          "carpet": [
           {
            "aaxis": {
             "endlinecolor": "#A2B1C6",
             "gridcolor": "#506784",
             "linecolor": "#506784",
             "minorgridcolor": "#506784",
             "startlinecolor": "#A2B1C6"
            },
            "baxis": {
             "endlinecolor": "#A2B1C6",
             "gridcolor": "#506784",
             "linecolor": "#506784",
             "minorgridcolor": "#506784",
             "startlinecolor": "#A2B1C6"
            },
            "type": "carpet"
           }
          ],
          "choropleth": [
           {
            "colorbar": {
             "outlinewidth": 0,
             "ticks": ""
            },
            "type": "choropleth"
           }
          ],
          "contour": [
           {
            "colorbar": {
             "outlinewidth": 0,
             "ticks": ""
            },
            "colorscale": [
             [
              0,
              "#0d0887"
             ],
             [
              0.1111111111111111,
              "#46039f"
             ],
             [
              0.2222222222222222,
              "#7201a8"
             ],
             [
              0.3333333333333333,
              "#9c179e"
             ],
             [
              0.4444444444444444,
              "#bd3786"
             ],
             [
              0.5555555555555556,
              "#d8576b"
             ],
             [
              0.6666666666666666,
              "#ed7953"
             ],
             [
              0.7777777777777778,
              "#fb9f3a"
             ],
             [
              0.8888888888888888,
              "#fdca26"
             ],
             [
              1,
              "#f0f921"
             ]
            ],
            "type": "contour"
           }
          ],
          "contourcarpet": [
           {
            "colorbar": {
             "outlinewidth": 0,
             "ticks": ""
            },
            "type": "contourcarpet"
           }
          ],
          "heatmap": [
           {
            "colorbar": {
             "outlinewidth": 0,
             "ticks": ""
            },
            "colorscale": [
             [
              0,
              "#0d0887"
             ],
             [
              0.1111111111111111,
              "#46039f"
             ],
             [
              0.2222222222222222,
              "#7201a8"
             ],
             [
              0.3333333333333333,
              "#9c179e"
             ],
             [
              0.4444444444444444,
              "#bd3786"
             ],
             [
              0.5555555555555556,
              "#d8576b"
             ],
             [
              0.6666666666666666,
              "#ed7953"
             ],
             [
              0.7777777777777778,
              "#fb9f3a"
             ],
             [
              0.8888888888888888,
              "#fdca26"
             ],
             [
              1,
              "#f0f921"
             ]
            ],
            "type": "heatmap"
           }
          ],
          "heatmapgl": [
           {
            "colorbar": {
             "outlinewidth": 0,
             "ticks": ""
            },
            "colorscale": [
             [
              0,
              "#0d0887"
             ],
             [
              0.1111111111111111,
              "#46039f"
             ],
             [
              0.2222222222222222,
              "#7201a8"
             ],
             [
              0.3333333333333333,
              "#9c179e"
             ],
             [
              0.4444444444444444,
              "#bd3786"
             ],
             [
              0.5555555555555556,
              "#d8576b"
             ],
             [
              0.6666666666666666,
              "#ed7953"
             ],
             [
              0.7777777777777778,
              "#fb9f3a"
             ],
             [
              0.8888888888888888,
              "#fdca26"
             ],
             [
              1,
              "#f0f921"
             ]
            ],
            "type": "heatmapgl"
           }
          ],
          "histogram": [
           {
            "marker": {
             "pattern": {
              "fillmode": "overlay",
              "size": 10,
              "solidity": 0.2
             }
            },
            "type": "histogram"
           }
          ],
          "histogram2d": [
           {
            "colorbar": {
             "outlinewidth": 0,
             "ticks": ""
            },
            "colorscale": [
             [
              0,
              "#0d0887"
             ],
             [
              0.1111111111111111,
              "#46039f"
             ],
             [
              0.2222222222222222,
              "#7201a8"
             ],
             [
              0.3333333333333333,
              "#9c179e"
             ],
             [
              0.4444444444444444,
              "#bd3786"
             ],
             [
              0.5555555555555556,
              "#d8576b"
             ],
             [
              0.6666666666666666,
              "#ed7953"
             ],
             [
              0.7777777777777778,
              "#fb9f3a"
             ],
             [
              0.8888888888888888,
              "#fdca26"
             ],
             [
              1,
              "#f0f921"
             ]
            ],
            "type": "histogram2d"
           }
          ],
          "histogram2dcontour": [
           {
            "colorbar": {
             "outlinewidth": 0,
             "ticks": ""
            },
            "colorscale": [
             [
              0,
              "#0d0887"
             ],
             [
              0.1111111111111111,
              "#46039f"
             ],
             [
              0.2222222222222222,
              "#7201a8"
             ],
             [
              0.3333333333333333,
              "#9c179e"
             ],
             [
              0.4444444444444444,
              "#bd3786"
             ],
             [
              0.5555555555555556,
              "#d8576b"
             ],
             [
              0.6666666666666666,
              "#ed7953"
             ],
             [
              0.7777777777777778,
              "#fb9f3a"
             ],
             [
              0.8888888888888888,
              "#fdca26"
             ],
             [
              1,
              "#f0f921"
             ]
            ],
            "type": "histogram2dcontour"
           }
          ],
          "mesh3d": [
           {
            "colorbar": {
             "outlinewidth": 0,
             "ticks": ""
            },
            "type": "mesh3d"
           }
          ],
          "parcoords": [
           {
            "line": {
             "colorbar": {
              "outlinewidth": 0,
              "ticks": ""
             }
            },
            "type": "parcoords"
           }
          ],
          "pie": [
           {
            "automargin": true,
            "type": "pie"
           }
          ],
          "scatter": [
           {
            "marker": {
             "line": {
              "color": "#283442"
             }
            },
            "type": "scatter"
           }
          ],
          "scatter3d": [
           {
            "line": {
             "colorbar": {
              "outlinewidth": 0,
              "ticks": ""
             }
            },
            "marker": {
             "colorbar": {
              "outlinewidth": 0,
              "ticks": ""
             }
            },
            "type": "scatter3d"
           }
          ],
          "scattercarpet": [
           {
            "marker": {
             "colorbar": {
              "outlinewidth": 0,
              "ticks": ""
             }
            },
            "type": "scattercarpet"
           }
          ],
          "scattergeo": [
           {
            "marker": {
             "colorbar": {
              "outlinewidth": 0,
              "ticks": ""
             }
            },
            "type": "scattergeo"
           }
          ],
          "scattergl": [
           {
            "marker": {
             "line": {
              "color": "#283442"
             }
            },
            "type": "scattergl"
           }
          ],
          "scattermapbox": [
           {
            "marker": {
             "colorbar": {
              "outlinewidth": 0,
              "ticks": ""
             }
            },
            "type": "scattermapbox"
           }
          ],
          "scatterpolar": [
           {
            "marker": {
             "colorbar": {
              "outlinewidth": 0,
              "ticks": ""
             }
            },
            "type": "scatterpolar"
           }
          ],
          "scatterpolargl": [
           {
            "marker": {
             "colorbar": {
              "outlinewidth": 0,
              "ticks": ""
             }
            },
            "type": "scatterpolargl"
           }
          ],
          "scatterternary": [
           {
            "marker": {
             "colorbar": {
              "outlinewidth": 0,
              "ticks": ""
             }
            },
            "type": "scatterternary"
           }
          ],
          "surface": [
           {
            "colorbar": {
             "outlinewidth": 0,
             "ticks": ""
            },
            "colorscale": [
             [
              0,
              "#0d0887"
             ],
             [
              0.1111111111111111,
              "#46039f"
             ],
             [
              0.2222222222222222,
              "#7201a8"
             ],
             [
              0.3333333333333333,
              "#9c179e"
             ],
             [
              0.4444444444444444,
              "#bd3786"
             ],
             [
              0.5555555555555556,
              "#d8576b"
             ],
             [
              0.6666666666666666,
              "#ed7953"
             ],
             [
              0.7777777777777778,
              "#fb9f3a"
             ],
             [
              0.8888888888888888,
              "#fdca26"
             ],
             [
              1,
              "#f0f921"
             ]
            ],
            "type": "surface"
           }
          ],
          "table": [
           {
            "cells": {
             "fill": {
              "color": "#506784"
             },
             "line": {
              "color": "rgb(17,17,17)"
             }
            },
            "header": {
             "fill": {
              "color": "#2a3f5f"
             },
             "line": {
              "color": "rgb(17,17,17)"
             }
            },
            "type": "table"
           }
          ]
         },
         "layout": {
          "annotationdefaults": {
           "arrowcolor": "#f2f5fa",
           "arrowhead": 0,
           "arrowwidth": 1
          },
          "autotypenumbers": "strict",
          "coloraxis": {
           "colorbar": {
            "outlinewidth": 0,
            "ticks": ""
           }
          },
          "colorscale": {
           "diverging": [
            [
             0,
             "#8e0152"
            ],
            [
             0.1,
             "#c51b7d"
            ],
            [
             0.2,
             "#de77ae"
            ],
            [
             0.3,
             "#f1b6da"
            ],
            [
             0.4,
             "#fde0ef"
            ],
            [
             0.5,
             "#f7f7f7"
            ],
            [
             0.6,
             "#e6f5d0"
            ],
            [
             0.7,
             "#b8e186"
            ],
            [
             0.8,
             "#7fbc41"
            ],
            [
             0.9,
             "#4d9221"
            ],
            [
             1,
             "#276419"
            ]
           ],
           "sequential": [
            [
             0,
             "#0d0887"
            ],
            [
             0.1111111111111111,
             "#46039f"
            ],
            [
             0.2222222222222222,
             "#7201a8"
            ],
            [
             0.3333333333333333,
             "#9c179e"
            ],
            [
             0.4444444444444444,
             "#bd3786"
            ],
            [
             0.5555555555555556,
             "#d8576b"
            ],
            [
             0.6666666666666666,
             "#ed7953"
            ],
            [
             0.7777777777777778,
             "#fb9f3a"
            ],
            [
             0.8888888888888888,
             "#fdca26"
            ],
            [
             1,
             "#f0f921"
            ]
           ],
           "sequentialminus": [
            [
             0,
             "#0d0887"
            ],
            [
             0.1111111111111111,
             "#46039f"
            ],
            [
             0.2222222222222222,
             "#7201a8"
            ],
            [
             0.3333333333333333,
             "#9c179e"
            ],
            [
             0.4444444444444444,
             "#bd3786"
            ],
            [
             0.5555555555555556,
             "#d8576b"
            ],
            [
             0.6666666666666666,
             "#ed7953"
            ],
            [
             0.7777777777777778,
             "#fb9f3a"
            ],
            [
             0.8888888888888888,
             "#fdca26"
            ],
            [
             1,
             "#f0f921"
            ]
           ]
          },
          "colorway": [
           "#636efa",
           "#EF553B",
           "#00cc96",
           "#ab63fa",
           "#FFA15A",
           "#19d3f3",
           "#FF6692",
           "#B6E880",
           "#FF97FF",
           "#FECB52"
          ],
          "font": {
           "color": "#f2f5fa"
          },
          "geo": {
           "bgcolor": "rgb(17,17,17)",
           "lakecolor": "rgb(17,17,17)",
           "landcolor": "rgb(17,17,17)",
           "showlakes": true,
           "showland": true,
           "subunitcolor": "#506784"
          },
          "hoverlabel": {
           "align": "left"
          },
          "hovermode": "closest",
          "mapbox": {
           "style": "dark"
          },
          "paper_bgcolor": "rgb(17,17,17)",
          "plot_bgcolor": "rgb(17,17,17)",
          "polar": {
           "angularaxis": {
            "gridcolor": "#506784",
            "linecolor": "#506784",
            "ticks": ""
           },
           "bgcolor": "rgb(17,17,17)",
           "radialaxis": {
            "gridcolor": "#506784",
            "linecolor": "#506784",
            "ticks": ""
           }
          },
          "scene": {
           "xaxis": {
            "backgroundcolor": "rgb(17,17,17)",
            "gridcolor": "#506784",
            "gridwidth": 2,
            "linecolor": "#506784",
            "showbackground": true,
            "ticks": "",
            "zerolinecolor": "#C8D4E3"
           },
           "yaxis": {
            "backgroundcolor": "rgb(17,17,17)",
            "gridcolor": "#506784",
            "gridwidth": 2,
            "linecolor": "#506784",
            "showbackground": true,
            "ticks": "",
            "zerolinecolor": "#C8D4E3"
           },
           "zaxis": {
            "backgroundcolor": "rgb(17,17,17)",
            "gridcolor": "#506784",
            "gridwidth": 2,
            "linecolor": "#506784",
            "showbackground": true,
            "ticks": "",
            "zerolinecolor": "#C8D4E3"
           }
          },
          "shapedefaults": {
           "line": {
            "color": "#f2f5fa"
           }
          },
          "sliderdefaults": {
           "bgcolor": "#C8D4E3",
           "bordercolor": "rgb(17,17,17)",
           "borderwidth": 1,
           "tickwidth": 0
          },
          "ternary": {
           "aaxis": {
            "gridcolor": "#506784",
            "linecolor": "#506784",
            "ticks": ""
           },
           "baxis": {
            "gridcolor": "#506784",
            "linecolor": "#506784",
            "ticks": ""
           },
           "bgcolor": "rgb(17,17,17)",
           "caxis": {
            "gridcolor": "#506784",
            "linecolor": "#506784",
            "ticks": ""
           }
          },
          "title": {
           "x": 0.05
          },
          "updatemenudefaults": {
           "bgcolor": "#506784",
           "borderwidth": 0
          },
          "xaxis": {
           "automargin": true,
           "gridcolor": "#283442",
           "linecolor": "#506784",
           "ticks": "",
           "title": {
            "standoff": 15
           },
           "zerolinecolor": "#283442",
           "zerolinewidth": 2
          },
          "yaxis": {
           "automargin": true,
           "gridcolor": "#283442",
           "linecolor": "#506784",
           "ticks": "",
           "title": {
            "standoff": 15
           },
           "zerolinecolor": "#283442",
           "zerolinewidth": 2
          }
         }
        },
        "title": {
         "text": "Interactive 3D PCA Biplot of CT Yields"
        },
        "width": 1300,
        "xaxis": {
         "showspikes": true,
         "spikecolor": "white",
         "spikemode": "across",
         "spikesnap": "cursor"
        },
        "yaxis": {
         "showspikes": true,
         "spikecolor": "white",
         "spikesnap": "cursor",
         "spikethickness": 0.5
        }
       }
      }
     },
     "metadata": {},
     "output_type": "display_data"
    },
    {
     "data": {
      "image/png": "[encoded data removed]",
      "text/plain": [
       "<Figure size 1500x2000 with 3 Axes>"
      ]
     },
     "metadata": {},
     "output_type": "display_data"
    }
   ],
   "source": [
    "pc3_ct_df = run_pca_yield_curve(\n",
    "    df=cusips_ts_df.set_index(\"Date\"),\n",
    "    is_cusips=True,\n",
    "    n_components=3,\n",
    "    # run_on_diff=True,\n",
    "    show_cumul_ex_var=True,\n",
    "    show_eigenvectors=True,\n",
    "    show_pc_scores_timeseries=True,\n",
    "    show_reconstructed=True,\n",
    "    show_3d_plot=True\n",
    ")"
   ]
  },
  {
   "cell_type": "code",
   "execution_count": 16,
   "metadata": {},
   "outputs": [
    {
     "data": {
      "text/html": [
       "<div>\n",
       "<style scoped>\n",
       "    .dataframe tbody tr th:only-of-type {\n",
       "        vertical-align: middle;\n",
       "    }\n",
       "\n",
       "    .dataframe tbody tr th {\n",
       "        vertical-align: top;\n",
       "    }\n",
       "\n",
       "    .dataframe thead th {\n",
       "        text-align: right;\n",
       "    }\n",
       "</style>\n",
       "<table border=\"1\" class=\"dataframe\">\n",
       "  <thead>\n",
       "    <tr style=\"text-align: right;\">\n",
       "      <th></th>\n",
       "      <th>912828YM6</th>\n",
       "      <th>912828YV6</th>\n",
       "      <th>912828YY0</th>\n",
       "      <th>912828Z52</th>\n",
       "      <th>912828ZC7</th>\n",
       "      <th>912828ZF0</th>\n",
       "      <th>912828ZL7</th>\n",
       "      <th>912828ZT0</th>\n",
       "      <th>912828ZW3</th>\n",
       "      <th>91282CAB7</th>\n",
       "      <th>...</th>\n",
       "      <th>91282CAE1</th>\n",
       "      <th>91282CAV3</th>\n",
       "      <th>91282CBL4</th>\n",
       "      <th>91282CCB5</th>\n",
       "      <th>91282CCS8</th>\n",
       "      <th>91282CDJ7</th>\n",
       "      <th>91282CDY4</th>\n",
       "      <th>91282CEP2</th>\n",
       "      <th>91282CFF3</th>\n",
       "      <th>91282CFV8</th>\n",
       "    </tr>\n",
       "    <tr>\n",
       "      <th>Date</th>\n",
       "      <th></th>\n",
       "      <th></th>\n",
       "      <th></th>\n",
       "      <th></th>\n",
       "      <th></th>\n",
       "      <th></th>\n",
       "      <th></th>\n",
       "      <th></th>\n",
       "      <th></th>\n",
       "      <th></th>\n",
       "      <th></th>\n",
       "      <th></th>\n",
       "      <th></th>\n",
       "      <th></th>\n",
       "      <th></th>\n",
       "      <th></th>\n",
       "      <th></th>\n",
       "      <th></th>\n",
       "      <th></th>\n",
       "      <th></th>\n",
       "      <th></th>\n",
       "    </tr>\n",
       "  </thead>\n",
       "  <tbody>\n",
       "    <tr>\n",
       "      <th>2024-02-01</th>\n",
       "      <td>0.004495</td>\n",
       "      <td>0.003790</td>\n",
       "      <td>0.003796</td>\n",
       "      <td>0.002855</td>\n",
       "      <td>-0.005066</td>\n",
       "      <td>-0.001205</td>\n",
       "      <td>-0.014202</td>\n",
       "      <td>0.002581</td>\n",
       "      <td>-0.006197</td>\n",
       "      <td>-0.008720</td>\n",
       "      <td>...</td>\n",
       "      <td>0.006195</td>\n",
       "      <td>0.005692</td>\n",
       "      <td>0.002309</td>\n",
       "      <td>0.001240</td>\n",
       "      <td>0.007065</td>\n",
       "      <td>0.008378</td>\n",
       "      <td>0.010689</td>\n",
       "      <td>0.010256</td>\n",
       "      <td>0.014899</td>\n",
       "      <td>0.010023</td>\n",
       "    </tr>\n",
       "    <tr>\n",
       "      <th>2024-02-02</th>\n",
       "      <td>-0.005602</td>\n",
       "      <td>-0.011055</td>\n",
       "      <td>-0.029783</td>\n",
       "      <td>-0.007280</td>\n",
       "      <td>-0.003660</td>\n",
       "      <td>0.004610</td>\n",
       "      <td>0.021245</td>\n",
       "      <td>0.016257</td>\n",
       "      <td>-0.001371</td>\n",
       "      <td>0.009472</td>\n",
       "      <td>...</td>\n",
       "      <td>0.008552</td>\n",
       "      <td>-0.002782</td>\n",
       "      <td>-0.004634</td>\n",
       "      <td>-0.000135</td>\n",
       "      <td>-0.000060</td>\n",
       "      <td>0.001170</td>\n",
       "      <td>0.001179</td>\n",
       "      <td>-0.001184</td>\n",
       "      <td>0.000857</td>\n",
       "      <td>-0.001078</td>\n",
       "    </tr>\n",
       "    <tr>\n",
       "      <th>2024-02-05</th>\n",
       "      <td>-0.000948</td>\n",
       "      <td>-0.004390</td>\n",
       "      <td>-0.029481</td>\n",
       "      <td>-0.014439</td>\n",
       "      <td>-0.023254</td>\n",
       "      <td>0.015588</td>\n",
       "      <td>0.019816</td>\n",
       "      <td>0.031241</td>\n",
       "      <td>0.027099</td>\n",
       "      <td>0.008248</td>\n",
       "      <td>...</td>\n",
       "      <td>0.018031</td>\n",
       "      <td>0.006773</td>\n",
       "      <td>0.002045</td>\n",
       "      <td>0.003714</td>\n",
       "      <td>0.008613</td>\n",
       "      <td>0.010646</td>\n",
       "      <td>0.009437</td>\n",
       "      <td>0.007446</td>\n",
       "      <td>0.007222</td>\n",
       "      <td>0.007144</td>\n",
       "    </tr>\n",
       "    <tr>\n",
       "      <th>2024-02-06</th>\n",
       "      <td>0.004509</td>\n",
       "      <td>0.001789</td>\n",
       "      <td>-0.021039</td>\n",
       "      <td>-0.000469</td>\n",
       "      <td>-0.033484</td>\n",
       "      <td>-0.020928</td>\n",
       "      <td>0.020698</td>\n",
       "      <td>-0.013041</td>\n",
       "      <td>0.013703</td>\n",
       "      <td>-0.001193</td>\n",
       "      <td>...</td>\n",
       "      <td>0.014016</td>\n",
       "      <td>0.005927</td>\n",
       "      <td>0.000047</td>\n",
       "      <td>0.002272</td>\n",
       "      <td>0.007578</td>\n",
       "      <td>0.011596</td>\n",
       "      <td>0.012930</td>\n",
       "      <td>0.009822</td>\n",
       "      <td>0.010645</td>\n",
       "      <td>0.006487</td>\n",
       "    </tr>\n",
       "    <tr>\n",
       "      <th>2024-02-07</th>\n",
       "      <td>0.010424</td>\n",
       "      <td>0.008377</td>\n",
       "      <td>-0.017552</td>\n",
       "      <td>0.005111</td>\n",
       "      <td>-0.026814</td>\n",
       "      <td>-0.011302</td>\n",
       "      <td>0.002461</td>\n",
       "      <td>-0.003503</td>\n",
       "      <td>0.000819</td>\n",
       "      <td>0.010747</td>\n",
       "      <td>...</td>\n",
       "      <td>0.013181</td>\n",
       "      <td>0.004895</td>\n",
       "      <td>-0.001233</td>\n",
       "      <td>0.001881</td>\n",
       "      <td>0.007332</td>\n",
       "      <td>0.011799</td>\n",
       "      <td>0.008577</td>\n",
       "      <td>0.006535</td>\n",
       "      <td>0.007571</td>\n",
       "      <td>0.004461</td>\n",
       "    </tr>\n",
       "    <tr>\n",
       "      <th>...</th>\n",
       "      <td>...</td>\n",
       "      <td>...</td>\n",
       "      <td>...</td>\n",
       "      <td>...</td>\n",
       "      <td>...</td>\n",
       "      <td>...</td>\n",
       "      <td>...</td>\n",
       "      <td>...</td>\n",
       "      <td>...</td>\n",
       "      <td>...</td>\n",
       "      <td>...</td>\n",
       "      <td>...</td>\n",
       "      <td>...</td>\n",
       "      <td>...</td>\n",
       "      <td>...</td>\n",
       "      <td>...</td>\n",
       "      <td>...</td>\n",
       "      <td>...</td>\n",
       "      <td>...</td>\n",
       "      <td>...</td>\n",
       "      <td>...</td>\n",
       "    </tr>\n",
       "    <tr>\n",
       "      <th>2024-09-20</th>\n",
       "      <td>-0.046327</td>\n",
       "      <td>-0.005361</td>\n",
       "      <td>-0.021806</td>\n",
       "      <td>0.051180</td>\n",
       "      <td>0.022696</td>\n",
       "      <td>-0.044396</td>\n",
       "      <td>-0.047609</td>\n",
       "      <td>0.015774</td>\n",
       "      <td>-0.021750</td>\n",
       "      <td>-0.010605</td>\n",
       "      <td>...</td>\n",
       "      <td>-0.005137</td>\n",
       "      <td>0.000995</td>\n",
       "      <td>0.002769</td>\n",
       "      <td>-0.003097</td>\n",
       "      <td>-0.005032</td>\n",
       "      <td>-0.006084</td>\n",
       "      <td>-0.000306</td>\n",
       "      <td>-0.005604</td>\n",
       "      <td>-0.004540</td>\n",
       "      <td>-0.005532</td>\n",
       "    </tr>\n",
       "    <tr>\n",
       "      <th>2024-09-23</th>\n",
       "      <td>0.106095</td>\n",
       "      <td>-0.081296</td>\n",
       "      <td>0.059749</td>\n",
       "      <td>-0.061409</td>\n",
       "      <td>0.011954</td>\n",
       "      <td>-0.053483</td>\n",
       "      <td>0.006277</td>\n",
       "      <td>0.019280</td>\n",
       "      <td>0.017172</td>\n",
       "      <td>-0.015372</td>\n",
       "      <td>...</td>\n",
       "      <td>-0.002884</td>\n",
       "      <td>0.005296</td>\n",
       "      <td>0.016165</td>\n",
       "      <td>0.005574</td>\n",
       "      <td>0.003546</td>\n",
       "      <td>0.001188</td>\n",
       "      <td>0.000023</td>\n",
       "      <td>0.002145</td>\n",
       "      <td>-0.001684</td>\n",
       "      <td>-0.004997</td>\n",
       "    </tr>\n",
       "    <tr>\n",
       "      <th>2024-09-24</th>\n",
       "      <td>-0.097654</td>\n",
       "      <td>-0.010982</td>\n",
       "      <td>-0.007855</td>\n",
       "      <td>-0.011852</td>\n",
       "      <td>-0.016003</td>\n",
       "      <td>-0.004362</td>\n",
       "      <td>0.000482</td>\n",
       "      <td>0.021183</td>\n",
       "      <td>-0.020420</td>\n",
       "      <td>-0.005982</td>\n",
       "      <td>...</td>\n",
       "      <td>-0.003800</td>\n",
       "      <td>0.005369</td>\n",
       "      <td>0.017425</td>\n",
       "      <td>0.006985</td>\n",
       "      <td>0.005038</td>\n",
       "      <td>0.003355</td>\n",
       "      <td>0.007921</td>\n",
       "      <td>0.006219</td>\n",
       "      <td>0.007239</td>\n",
       "      <td>0.004968</td>\n",
       "    </tr>\n",
       "    <tr>\n",
       "      <th>2024-09-25</th>\n",
       "      <td>0.052465</td>\n",
       "      <td>0.072044</td>\n",
       "      <td>0.058675</td>\n",
       "      <td>0.038535</td>\n",
       "      <td>0.028699</td>\n",
       "      <td>0.026419</td>\n",
       "      <td>0.029731</td>\n",
       "      <td>-0.003706</td>\n",
       "      <td>-0.010450</td>\n",
       "      <td>-0.003291</td>\n",
       "      <td>...</td>\n",
       "      <td>-0.005052</td>\n",
       "      <td>0.005899</td>\n",
       "      <td>0.026897</td>\n",
       "      <td>0.011396</td>\n",
       "      <td>0.015224</td>\n",
       "      <td>0.011708</td>\n",
       "      <td>0.014046</td>\n",
       "      <td>0.013076</td>\n",
       "      <td>0.014092</td>\n",
       "      <td>0.012024</td>\n",
       "    </tr>\n",
       "    <tr>\n",
       "      <th>2024-09-26</th>\n",
       "      <td>0.145413</td>\n",
       "      <td>0.090059</td>\n",
       "      <td>0.054703</td>\n",
       "      <td>-0.072570</td>\n",
       "      <td>0.007768</td>\n",
       "      <td>-0.000943</td>\n",
       "      <td>-0.003109</td>\n",
       "      <td>0.003244</td>\n",
       "      <td>-0.010416</td>\n",
       "      <td>-0.013395</td>\n",
       "      <td>...</td>\n",
       "      <td>-0.008473</td>\n",
       "      <td>-0.004403</td>\n",
       "      <td>0.010478</td>\n",
       "      <td>0.006876</td>\n",
       "      <td>0.005741</td>\n",
       "      <td>0.002132</td>\n",
       "      <td>0.004567</td>\n",
       "      <td>0.001991</td>\n",
       "      <td>0.003728</td>\n",
       "      <td>0.000115</td>\n",
       "    </tr>\n",
       "  </tbody>\n",
       "</table>\n",
       "<p>166 rows × 160 columns</p>\n",
       "</div>"
      ],
      "text/plain": [
       "            912828YM6  912828YV6  912828YY0  912828Z52  912828ZC7  912828ZF0  \\\n",
       "Date                                                                           \n",
       "2024-02-01   0.004495   0.003790   0.003796   0.002855  -0.005066  -0.001205   \n",
       "2024-02-02  -0.005602  -0.011055  -0.029783  -0.007280  -0.003660   0.004610   \n",
       "2024-02-05  -0.000948  -0.004390  -0.029481  -0.014439  -0.023254   0.015588   \n",
       "2024-02-06   0.004509   0.001789  -0.021039  -0.000469  -0.033484  -0.020928   \n",
       "2024-02-07   0.010424   0.008377  -0.017552   0.005111  -0.026814  -0.011302   \n",
       "...               ...        ...        ...        ...        ...        ...   \n",
       "2024-09-20  -0.046327  -0.005361  -0.021806   0.051180   0.022696  -0.044396   \n",
       "2024-09-23   0.106095  -0.081296   0.059749  -0.061409   0.011954  -0.053483   \n",
       "2024-09-24  -0.097654  -0.010982  -0.007855  -0.011852  -0.016003  -0.004362   \n",
       "2024-09-25   0.052465   0.072044   0.058675   0.038535   0.028699   0.026419   \n",
       "2024-09-26   0.145413   0.090059   0.054703  -0.072570   0.007768  -0.000943   \n",
       "\n",
       "            912828ZL7  912828ZT0  912828ZW3  91282CAB7  ...  91282CAE1  \\\n",
       "Date                                                    ...              \n",
       "2024-02-01  -0.014202   0.002581  -0.006197  -0.008720  ...   0.006195   \n",
       "2024-02-02   0.021245   0.016257  -0.001371   0.009472  ...   0.008552   \n",
       "2024-02-05   0.019816   0.031241   0.027099   0.008248  ...   0.018031   \n",
       "2024-02-06   0.020698  -0.013041   0.013703  -0.001193  ...   0.014016   \n",
       "2024-02-07   0.002461  -0.003503   0.000819   0.010747  ...   0.013181   \n",
       "...               ...        ...        ...        ...  ...        ...   \n",
       "2024-09-20  -0.047609   0.015774  -0.021750  -0.010605  ...  -0.005137   \n",
       "2024-09-23   0.006277   0.019280   0.017172  -0.015372  ...  -0.002884   \n",
       "2024-09-24   0.000482   0.021183  -0.020420  -0.005982  ...  -0.003800   \n",
       "2024-09-25   0.029731  -0.003706  -0.010450  -0.003291  ...  -0.005052   \n",
       "2024-09-26  -0.003109   0.003244  -0.010416  -0.013395  ...  -0.008473   \n",
       "\n",
       "            91282CAV3  91282CBL4  91282CCB5  91282CCS8  91282CDJ7  91282CDY4  \\\n",
       "Date                                                                           \n",
       "2024-02-01   0.005692   0.002309   0.001240   0.007065   0.008378   0.010689   \n",
       "2024-02-02  -0.002782  -0.004634  -0.000135  -0.000060   0.001170   0.001179   \n",
       "2024-02-05   0.006773   0.002045   0.003714   0.008613   0.010646   0.009437   \n",
       "2024-02-06   0.005927   0.000047   0.002272   0.007578   0.011596   0.012930   \n",
       "2024-02-07   0.004895  -0.001233   0.001881   0.007332   0.011799   0.008577   \n",
       "...               ...        ...        ...        ...        ...        ...   \n",
       "2024-09-20   0.000995   0.002769  -0.003097  -0.005032  -0.006084  -0.000306   \n",
       "2024-09-23   0.005296   0.016165   0.005574   0.003546   0.001188   0.000023   \n",
       "2024-09-24   0.005369   0.017425   0.006985   0.005038   0.003355   0.007921   \n",
       "2024-09-25   0.005899   0.026897   0.011396   0.015224   0.011708   0.014046   \n",
       "2024-09-26  -0.004403   0.010478   0.006876   0.005741   0.002132   0.004567   \n",
       "\n",
       "            91282CEP2  91282CFF3  91282CFV8  \n",
       "Date                                         \n",
       "2024-02-01   0.010256   0.014899   0.010023  \n",
       "2024-02-02  -0.001184   0.000857  -0.001078  \n",
       "2024-02-05   0.007446   0.007222   0.007144  \n",
       "2024-02-06   0.009822   0.010645   0.006487  \n",
       "2024-02-07   0.006535   0.007571   0.004461  \n",
       "...               ...        ...        ...  \n",
       "2024-09-20  -0.005604  -0.004540  -0.005532  \n",
       "2024-09-23   0.002145  -0.001684  -0.004997  \n",
       "2024-09-24   0.006219   0.007239   0.004968  \n",
       "2024-09-25   0.013076   0.014092   0.012024  \n",
       "2024-09-26   0.001991   0.003728   0.000115  \n",
       "\n",
       "[166 rows x 160 columns]"
      ]
     },
     "execution_count": 16,
     "metadata": {},
     "output_type": "execute_result"
    }
   ],
   "source": [
    "residuals_df = pd.DataFrame(\n",
    "    cusips_ts_df.set_index(\"Date\").values - pc3_ct_df[\"reconstructed_df\"].values,\n",
    "    columns=pc3_ct_df[\"reconstructed_df\"].columns,\n",
    "    index=pc3_ct_df[\"reconstructed_df\"].index,\n",
    ")\n",
    "residuals_df"
   ]
  },
  {
   "cell_type": "code",
   "execution_count": null,
   "metadata": {},
   "outputs": [],
   "source": [
    "create_residuals_surface_plot(\n",
    "    residuals_df=pd.DataFrame(\n",
    "        cusips_ts_df.set_index(\"Date\").values - pc3_ct_df[\"reconstructed_df\"].values,\n",
    "        columns=pc3_ct_df[\"reconstructed_df\"].columns,\n",
    "        index=pc3_ct_df[\"reconstructed_df\"].index,\n",
    "    )\n",
    ")"
   ]
  },
  {
   "cell_type": "code",
   "execution_count": 17,
   "metadata": {},
   "outputs": [
    {
     "data": {
      "application/vnd.plotly.v1+json": {
       "config": {
        "plotlyServerURL": "https://plot.ly"
       },
       "data": [
        {
         "marker": {
          "color": [
           -0.0846093229230016,
           -0.08628058971407793,
           0.02048365362892568,
           -0.004424409826894404,
           -0.0002702240824676849,
           0.02267591467235519,
           -0.03122210911857337,
           0.023594142816060426,
           -0.014949065123367689,
           0.0062126773482438225,
           -0.00781764297631593,
           -0.0024341917046104555,
           -0.006451888513093529,
           -0.012583549846708841,
           0.009805682499222534,
           -0.007283438302653877,
           0.005121439920150017,
           -0.002099605280014849,
           -0.013635447117271493,
           0.001524017929436905,
           -0.008200931741068285,
           -0.006163501761273782,
           -0.0032463962675590707,
           -0.002249157676280422,
           -0.0038542249147988095,
           -0.008660729087401009,
           -0.0022677127228649674,
           -0.005410198358029916,
           0.00421016035006927,
           0.00915698185318048,
           0.008170824725184822,
           0.0006622810491201392,
           0.008755273641197991,
           0.0013181150593819524,
           0.0028807012787277486,
           0.013063703755114897,
           0.0016567745105522391,
           0.005135779695606413,
           0.002624371259468905,
           0.004410680795049693,
           0.001649969977680854,
           0.0037157892975296924,
           0.001430609778418912,
           -0.00484074051637684,
           0.005364118813288243,
           0.004683572474699194,
           0.0018748998775430792,
           0.0038158586324961163,
           0.005472569242070069,
           -0.00007248671282056307,
           0.002166963953759815,
           0.06947666591383328,
           -0.019031748294385586,
           0.05519285613833791,
           0.05200261964901909,
           -0.0037991606124556654,
           -0.011654886035373124,
           0.05806754184436347,
           0.008036537637151397,
           0.0001946372541636876,
           -0.014172539781021065,
           0.0035838637645451143,
           0.025328833023764652,
           -0.00804040649369231,
           -0.0031865548229461638,
           0.017196388212858515,
           -0.012303304281956251,
           -0.00581029511282205,
           -0.00520648338597951,
           -0.008208749970847862,
           -0.008377233820568986,
           -0.006707666400241674,
           -0.014875009445540766,
           -0.00795068980381508,
           -0.013132249612167524,
           -0.00009084946315196518,
           0.0012819759228173133,
           0.001780241685792383,
           -0.007942437142084202,
           -0.004397904524205298,
           0.006212604685008394,
           0.003955338353613946,
           0.0026947068847418265,
           0.00553383753600345,
           0.00824856767956339,
           -0.00017708334913679735,
           0.006058576329499132,
           0.0028158657034529355,
           0.006364850779104536,
           0.0077523165805706284,
           0.00568469621407397,
           -0.0005321545561587371,
           0.003564466883666295,
           -0.0011958438234951352,
           -0.002248438633177141,
           0.005477584203260388,
           -0.00430372647750854,
           -0.004147394984935993,
           -0.0011401048182335671,
           0.00046016812578297817,
           -0.0007625140846907463,
           -0.000931453351558087,
           0.004999645036346312,
           0.0029184651110294446,
           0.002574244996312647,
           -0.0011455067661878537,
           0.0026087628091548964,
           0.0016060063547715941,
           -0.001895820664579606,
           0.000022745477226138178,
           0.0046468525322551635,
           0.002744824607452845,
           0.003216959036779432,
           0.0016260226086539653,
           -0.00010334612930718023,
           -0.000134991225799741,
           -0.0011087924827597462,
           0.00338487727718384,
           -0.002624259663247752,
           0.0028182640093610267,
           0.002591196981567734,
           0.0009390012845789109,
           0.0020690260520206394,
           0.0019334669525008508,
           -0.0001629372450437927,
           0.0025322052823164576,
           -0.003112936230866392,
           0.0013653837681069092,
           0.009977936552121314,
           0.0000021954841908922162,
           0.0028962178085389922,
           -0.013113290910073516,
           -0.0002462395487543567,
           -0.01156951643801385,
           -0.014255185051404329,
           -0.010228009687451856,
           0.003987763568022995,
           -0.004562365721410888,
           0.002932238230118678,
           0.015643416992826342,
           0.0013305752909920088,
           -0.002206594851913213,
           0.0004960654913030993,
           0.004354785305618503,
           -0.003075071090419268,
           0.0006741556237961355,
           -0.012875857395851842,
           0.007219595863201533,
           -0.005693729258472224,
           -0.011540018322510726,
           0.00021106549760752102,
           0.00308914623765677,
           -0.003962631176063436,
           -0.0014400556265745657,
           -0.0033731499647622343,
           -0.0034371009020284227,
           -0.008114720248822316,
           -0.006308555881549882,
           -0.008210811475549029,
           -0.0020933035070598294
          ],
          "colorbar": {
           "title": {
            "text": "Residual Value (bps)"
           }
          },
          "colorscale": [
           [
            0,
            "rgb(103,0,31)"
           ],
           [
            0.1,
            "rgb(178,24,43)"
           ],
           [
            0.2,
            "rgb(214,96,77)"
           ],
           [
            0.3,
            "rgb(244,165,130)"
           ],
           [
            0.4,
            "rgb(253,219,199)"
           ],
           [
            0.5,
            "rgb(247,247,247)"
           ],
           [
            0.6,
            "rgb(209,229,240)"
           ],
           [
            0.7,
            "rgb(146,197,222)"
           ],
           [
            0.8,
            "rgb(67,147,195)"
           ],
           [
            0.9,
            "rgb(33,102,172)"
           ],
           [
            1,
            "rgb(5,48,97)"
           ]
          ]
         },
         "type": "bar",
         "x": [
          "912828YM6",
          "912828YV6",
          "912828YY0",
          "912828Z52",
          "912828ZC7",
          "912828ZF0",
          "912828ZL7",
          "912828ZT0",
          "912828ZW3",
          "91282CAB7",
          "91282CAJ0",
          "91282CAM3",
          "91282CAT8",
          "91282CAZ4",
          "91282CBC4",
          "91282CBH3",
          "91282CBQ3",
          "91282CBT7",
          "91282CBW0",
          "91282CCF6",
          "91282CCJ8",
          "91282CCP4",
          "91282CCW9",
          "91282CCZ2",
          "91282CDG3",
          "91282CDK4",
          "91282CDQ1",
          "91282CEC1",
          "91282CEF4",
          "91282CEN7",
          "91282CET4",
          "91282CEW7",
          "91282CFB2",
          "91282CFH9",
          "91282CFM8",
          "91282CFU0",
          "91282CFZ9",
          "91282CGC9",
          "91282CGH8",
          "91282CGP0",
          "91282CGT2",
          "91282CHA2",
          "91282CHE4",
          "91282CHK0",
          "91282CHQ7",
          "91282CHX2",
          "91282CJA0",
          "91282CJF9",
          "91282CJN2",
          "91282CJR3",
          "91282CJW2",
          "9128283D0",
          "9128283J7",
          "9128283P3",
          "9128283V0",
          "9128283Z1",
          "9128284F4",
          "9128284M9",
          "9128284R8",
          "912828XZ8",
          "912828Y79",
          "9128284Z0",
          "9128285C0",
          "9128285J5",
          "9128285N6",
          "9128285T3",
          "9128286A3",
          "9128286F2",
          "9128286L9",
          "9128286S4",
          "9128286X3",
          "9128287B0",
          "912828Y95",
          "912828YD6",
          "912828YG9",
          "912828YQ7",
          "912828YU8",
          "912828YX2",
          "912828Z78",
          "912828ZB9",
          "912828ZE3",
          "912828ZN3",
          "912828ZS2",
          "912828ZV5",
          "91282CAD3",
          "91282CAH4",
          "91282CAL5",
          "91282CAU5",
          "91282CAY7",
          "91282CBB6",
          "91282CBJ9",
          "91282CBP5",
          "91282CBS9",
          "91282CBZ3",
          "91282CCE9",
          "91282CCH2",
          "91282CCR0",
          "91282CCV1",
          "91282CCY5",
          "91282CDF5",
          "91282CDL2",
          "91282CDP3",
          "91282CDW8",
          "91282CEB3",
          "91282CEE7",
          "91282CEM9",
          "91282CES6",
          "91282CEV9",
          "91282CFC0",
          "91282CFJ5",
          "91282CFL0",
          "91282CFT3",
          "91282CFY2",
          "91282CGB1",
          "91282CGJ4",
          "91282CGQ8",
          "91282CGS4",
          "91282CGZ8",
          "91282CHF1",
          "91282CHJ3",
          "91282CHR5",
          "91282CHW4",
          "91282CHZ7",
          "91282CJG7",
          "91282CJM4",
          "91282CJQ5",
          "91282CJX0",
          "912828G38",
          "912828J27",
          "912828XB1",
          "912828K74",
          "912828M56",
          "912828P46",
          "912828R36",
          "9128282A7",
          "912828U24",
          "912828V98",
          "912828X88",
          "9128282R0",
          "9128283F5",
          "9128283W8",
          "9128284N7",
          "9128284V9",
          "9128285M8",
          "9128286B1",
          "9128286T2",
          "912828YB0",
          "912828YS3",
          "912828Z94",
          "912828ZQ6",
          "91282CAE1",
          "91282CAV3",
          "91282CBL4",
          "91282CCB5",
          "91282CCS8",
          "91282CDJ7",
          "91282CDY4",
          "91282CEP2",
          "91282CFF3",
          "91282CFV8"
         ],
         "y": [
          -0.0846093229230016,
          -0.08628058971407793,
          0.02048365362892568,
          -0.004424409826894404,
          -0.0002702240824676849,
          0.02267591467235519,
          -0.03122210911857337,
          0.023594142816060426,
          -0.014949065123367689,
          0.0062126773482438225,
          -0.00781764297631593,
          -0.0024341917046104555,
          -0.006451888513093529,
          -0.012583549846708841,
          0.009805682499222534,
          -0.007283438302653877,
          0.005121439920150017,
          -0.002099605280014849,
          -0.013635447117271493,
          0.001524017929436905,
          -0.008200931741068285,
          -0.006163501761273782,
          -0.0032463962675590707,
          -0.002249157676280422,
          -0.0038542249147988095,
          -0.008660729087401009,
          -0.0022677127228649674,
          -0.005410198358029916,
          0.00421016035006927,
          0.00915698185318048,
          0.008170824725184822,
          0.0006622810491201392,
          0.008755273641197991,
          0.0013181150593819524,
          0.0028807012787277486,
          0.013063703755114897,
          0.0016567745105522391,
          0.005135779695606413,
          0.002624371259468905,
          0.004410680795049693,
          0.001649969977680854,
          0.0037157892975296924,
          0.001430609778418912,
          -0.00484074051637684,
          0.005364118813288243,
          0.004683572474699194,
          0.0018748998775430792,
          0.0038158586324961163,
          0.005472569242070069,
          -0.00007248671282056307,
          0.002166963953759815,
          0.06947666591383328,
          -0.019031748294385586,
          0.05519285613833791,
          0.05200261964901909,
          -0.0037991606124556654,
          -0.011654886035373124,
          0.05806754184436347,
          0.008036537637151397,
          0.0001946372541636876,
          -0.014172539781021065,
          0.0035838637645451143,
          0.025328833023764652,
          -0.00804040649369231,
          -0.0031865548229461638,
          0.017196388212858515,
          -0.012303304281956251,
          -0.00581029511282205,
          -0.00520648338597951,
          -0.008208749970847862,
          -0.008377233820568986,
          -0.006707666400241674,
          -0.014875009445540766,
          -0.00795068980381508,
          -0.013132249612167524,
          -0.00009084946315196518,
          0.0012819759228173133,
          0.001780241685792383,
          -0.007942437142084202,
          -0.004397904524205298,
          0.006212604685008394,
          0.003955338353613946,
          0.0026947068847418265,
          0.00553383753600345,
          0.00824856767956339,
          -0.00017708334913679735,
          0.006058576329499132,
          0.0028158657034529355,
          0.006364850779104536,
          0.0077523165805706284,
          0.00568469621407397,
          -0.0005321545561587371,
          0.003564466883666295,
          -0.0011958438234951352,
          -0.002248438633177141,
          0.005477584203260388,
          -0.00430372647750854,
          -0.004147394984935993,
          -0.0011401048182335671,
          0.00046016812578297817,
          -0.0007625140846907463,
          -0.000931453351558087,
          0.004999645036346312,
          0.0029184651110294446,
          0.002574244996312647,
          -0.0011455067661878537,
          0.0026087628091548964,
          0.0016060063547715941,
          -0.001895820664579606,
          0.000022745477226138178,
          0.0046468525322551635,
          0.002744824607452845,
          0.003216959036779432,
          0.0016260226086539653,
          -0.00010334612930718023,
          -0.000134991225799741,
          -0.0011087924827597462,
          0.00338487727718384,
          -0.002624259663247752,
          0.0028182640093610267,
          0.002591196981567734,
          0.0009390012845789109,
          0.0020690260520206394,
          0.0019334669525008508,
          -0.0001629372450437927,
          0.0025322052823164576,
          -0.003112936230866392,
          0.0013653837681069092,
          0.009977936552121314,
          0.0000021954841908922162,
          0.0028962178085389922,
          -0.013113290910073516,
          -0.0002462395487543567,
          -0.01156951643801385,
          -0.014255185051404329,
          -0.010228009687451856,
          0.003987763568022995,
          -0.004562365721410888,
          0.002932238230118678,
          0.015643416992826342,
          0.0013305752909920088,
          -0.002206594851913213,
          0.0004960654913030993,
          0.004354785305618503,
          -0.003075071090419268,
          0.0006741556237961355,
          -0.012875857395851842,
          0.007219595863201533,
          -0.005693729258472224,
          -0.011540018322510726,
          0.00021106549760752102,
          0.00308914623765677,
          -0.003962631176063436,
          -0.0014400556265745657,
          -0.0033731499647622343,
          -0.0034371009020284227,
          -0.008114720248822316,
          -0.006308555881549882,
          -0.008210811475549029,
          -0.0020933035070598294
         ]
        }
       ],
       "layout": {
        "template": {
         "data": {
          "bar": [
           {
            "error_x": {
             "color": "#f2f5fa"
            },
            "error_y": {
             "color": "#f2f5fa"
            },
            "marker": {
             "line": {
              "color": "rgb(17,17,17)",
              "width": 0.5
             },
             "pattern": {
              "fillmode": "overlay",
              "size": 10,
              "solidity": 0.2
             }
            },
            "type": "bar"
           }
          ],
          "barpolar": [
           {
            "marker": {
             "line": {
              "color": "rgb(17,17,17)",
              "width": 0.5
             },
             "pattern": {
              "fillmode": "overlay",
              "size": 10,
              "solidity": 0.2
             }
            },
            "type": "barpolar"
           }
          ],
          "carpet": [
           {
            "aaxis": {
             "endlinecolor": "#A2B1C6",
             "gridcolor": "#506784",
             "linecolor": "#506784",
             "minorgridcolor": "#506784",
             "startlinecolor": "#A2B1C6"
            },
            "baxis": {
             "endlinecolor": "#A2B1C6",
             "gridcolor": "#506784",
             "linecolor": "#506784",
             "minorgridcolor": "#506784",
             "startlinecolor": "#A2B1C6"
            },
            "type": "carpet"
           }
          ],
          "choropleth": [
           {
            "colorbar": {
             "outlinewidth": 0,
             "ticks": ""
            },
            "type": "choropleth"
           }
          ],
          "contour": [
           {
            "colorbar": {
             "outlinewidth": 0,
             "ticks": ""
            },
            "colorscale": [
             [
              0,
              "#0d0887"
             ],
             [
              0.1111111111111111,
              "#46039f"
             ],
             [
              0.2222222222222222,
              "#7201a8"
             ],
             [
              0.3333333333333333,
              "#9c179e"
             ],
             [
              0.4444444444444444,
              "#bd3786"
             ],
             [
              0.5555555555555556,
              "#d8576b"
             ],
             [
              0.6666666666666666,
              "#ed7953"
             ],
             [
              0.7777777777777778,
              "#fb9f3a"
             ],
             [
              0.8888888888888888,
              "#fdca26"
             ],
             [
              1,
              "#f0f921"
             ]
            ],
            "type": "contour"
           }
          ],
          "contourcarpet": [
           {
            "colorbar": {
             "outlinewidth": 0,
             "ticks": ""
            },
            "type": "contourcarpet"
           }
          ],
          "heatmap": [
           {
            "colorbar": {
             "outlinewidth": 0,
             "ticks": ""
            },
            "colorscale": [
             [
              0,
              "#0d0887"
             ],
             [
              0.1111111111111111,
              "#46039f"
             ],
             [
              0.2222222222222222,
              "#7201a8"
             ],
             [
              0.3333333333333333,
              "#9c179e"
             ],
             [
              0.4444444444444444,
              "#bd3786"
             ],
             [
              0.5555555555555556,
              "#d8576b"
             ],
             [
              0.6666666666666666,
              "#ed7953"
             ],
             [
              0.7777777777777778,
              "#fb9f3a"
             ],
             [
              0.8888888888888888,
              "#fdca26"
             ],
             [
              1,
              "#f0f921"
             ]
            ],
            "type": "heatmap"
           }
          ],
          "heatmapgl": [
           {
            "colorbar": {
             "outlinewidth": 0,
             "ticks": ""
            },
            "colorscale": [
             [
              0,
              "#0d0887"
             ],
             [
              0.1111111111111111,
              "#46039f"
             ],
             [
              0.2222222222222222,
              "#7201a8"
             ],
             [
              0.3333333333333333,
              "#9c179e"
             ],
             [
              0.4444444444444444,
              "#bd3786"
             ],
             [
              0.5555555555555556,
              "#d8576b"
             ],
             [
              0.6666666666666666,
              "#ed7953"
             ],
             [
              0.7777777777777778,
              "#fb9f3a"
             ],
             [
              0.8888888888888888,
              "#fdca26"
             ],
             [
              1,
              "#f0f921"
             ]
            ],
            "type": "heatmapgl"
           }
          ],
          "histogram": [
           {
            "marker": {
             "pattern": {
              "fillmode": "overlay",
              "size": 10,
              "solidity": 0.2
             }
            },
            "type": "histogram"
           }
          ],
          "histogram2d": [
           {
            "colorbar": {
             "outlinewidth": 0,
             "ticks": ""
            },
            "colorscale": [
             [
              0,
              "#0d0887"
             ],
             [
              0.1111111111111111,
              "#46039f"
             ],
             [
              0.2222222222222222,
              "#7201a8"
             ],
             [
              0.3333333333333333,
              "#9c179e"
             ],
             [
              0.4444444444444444,
              "#bd3786"
             ],
             [
              0.5555555555555556,
              "#d8576b"
             ],
             [
              0.6666666666666666,
              "#ed7953"
             ],
             [
              0.7777777777777778,
              "#fb9f3a"
             ],
             [
              0.8888888888888888,
              "#fdca26"
             ],
             [
              1,
              "#f0f921"
             ]
            ],
            "type": "histogram2d"
           }
          ],
          "histogram2dcontour": [
           {
            "colorbar": {
             "outlinewidth": 0,
             "ticks": ""
            },
            "colorscale": [
             [
              0,
              "#0d0887"
             ],
             [
              0.1111111111111111,
              "#46039f"
             ],
             [
              0.2222222222222222,
              "#7201a8"
             ],
             [
              0.3333333333333333,
              "#9c179e"
             ],
             [
              0.4444444444444444,
              "#bd3786"
             ],
             [
              0.5555555555555556,
              "#d8576b"
             ],
             [
              0.6666666666666666,
              "#ed7953"
             ],
             [
              0.7777777777777778,
              "#fb9f3a"
             ],
             [
              0.8888888888888888,
              "#fdca26"
             ],
             [
              1,
              "#f0f921"
             ]
            ],
            "type": "histogram2dcontour"
           }
          ],
          "mesh3d": [
           {
            "colorbar": {
             "outlinewidth": 0,
             "ticks": ""
            },
            "type": "mesh3d"
           }
          ],
          "parcoords": [
           {
            "line": {
             "colorbar": {
              "outlinewidth": 0,
              "ticks": ""
             }
            },
            "type": "parcoords"
           }
          ],
          "pie": [
           {
            "automargin": true,
            "type": "pie"
           }
          ],
          "scatter": [
           {
            "marker": {
             "line": {
              "color": "#283442"
             }
            },
            "type": "scatter"
           }
          ],
          "scatter3d": [
           {
            "line": {
             "colorbar": {
              "outlinewidth": 0,
              "ticks": ""
             }
            },
            "marker": {
             "colorbar": {
              "outlinewidth": 0,
              "ticks": ""
             }
            },
            "type": "scatter3d"
           }
          ],
          "scattercarpet": [
           {
            "marker": {
             "colorbar": {
              "outlinewidth": 0,
              "ticks": ""
             }
            },
            "type": "scattercarpet"
           }
          ],
          "scattergeo": [
           {
            "marker": {
             "colorbar": {
              "outlinewidth": 0,
              "ticks": ""
             }
            },
            "type": "scattergeo"
           }
          ],
          "scattergl": [
           {
            "marker": {
             "line": {
              "color": "#283442"
             }
            },
            "type": "scattergl"
           }
          ],
          "scattermapbox": [
           {
            "marker": {
             "colorbar": {
              "outlinewidth": 0,
              "ticks": ""
             }
            },
            "type": "scattermapbox"
           }
          ],
          "scatterpolar": [
           {
            "marker": {
             "colorbar": {
              "outlinewidth": 0,
              "ticks": ""
             }
            },
            "type": "scatterpolar"
           }
          ],
          "scatterpolargl": [
           {
            "marker": {
             "colorbar": {
              "outlinewidth": 0,
              "ticks": ""
             }
            },
            "type": "scatterpolargl"
           }
          ],
          "scatterternary": [
           {
            "marker": {
             "colorbar": {
              "outlinewidth": 0,
              "ticks": ""
             }
            },
            "type": "scatterternary"
           }
          ],
          "surface": [
           {
            "colorbar": {
             "outlinewidth": 0,
             "ticks": ""
            },
            "colorscale": [
             [
              0,
              "#0d0887"
             ],
             [
              0.1111111111111111,
              "#46039f"
             ],
             [
              0.2222222222222222,
              "#7201a8"
             ],
             [
              0.3333333333333333,
              "#9c179e"
             ],
             [
              0.4444444444444444,
              "#bd3786"
             ],
             [
              0.5555555555555556,
              "#d8576b"
             ],
             [
              0.6666666666666666,
              "#ed7953"
             ],
             [
              0.7777777777777778,
              "#fb9f3a"
             ],
             [
              0.8888888888888888,
              "#fdca26"
             ],
             [
              1,
              "#f0f921"
             ]
            ],
            "type": "surface"
           }
          ],
          "table": [
           {
            "cells": {
             "fill": {
              "color": "#506784"
             },
             "line": {
              "color": "rgb(17,17,17)"
             }
            },
            "header": {
             "fill": {
              "color": "#2a3f5f"
             },
             "line": {
              "color": "rgb(17,17,17)"
             }
            },
            "type": "table"
           }
          ]
         },
         "layout": {
          "annotationdefaults": {
           "arrowcolor": "#f2f5fa",
           "arrowhead": 0,
           "arrowwidth": 1
          },
          "autotypenumbers": "strict",
          "coloraxis": {
           "colorbar": {
            "outlinewidth": 0,
            "ticks": ""
           }
          },
          "colorscale": {
           "diverging": [
            [
             0,
             "#8e0152"
            ],
            [
             0.1,
             "#c51b7d"
            ],
            [
             0.2,
             "#de77ae"
            ],
            [
             0.3,
             "#f1b6da"
            ],
            [
             0.4,
             "#fde0ef"
            ],
            [
             0.5,
             "#f7f7f7"
            ],
            [
             0.6,
             "#e6f5d0"
            ],
            [
             0.7,
             "#b8e186"
            ],
            [
             0.8,
             "#7fbc41"
            ],
            [
             0.9,
             "#4d9221"
            ],
            [
             1,
             "#276419"
            ]
           ],
           "sequential": [
            [
             0,
             "#0d0887"
            ],
            [
             0.1111111111111111,
             "#46039f"
            ],
            [
             0.2222222222222222,
             "#7201a8"
            ],
            [
             0.3333333333333333,
             "#9c179e"
            ],
            [
             0.4444444444444444,
             "#bd3786"
            ],
            [
             0.5555555555555556,
             "#d8576b"
            ],
            [
             0.6666666666666666,
             "#ed7953"
            ],
            [
             0.7777777777777778,
             "#fb9f3a"
            ],
            [
             0.8888888888888888,
             "#fdca26"
            ],
            [
             1,
             "#f0f921"
            ]
           ],
           "sequentialminus": [
            [
             0,
             "#0d0887"
            ],
            [
             0.1111111111111111,
             "#46039f"
            ],
            [
             0.2222222222222222,
             "#7201a8"
            ],
            [
             0.3333333333333333,
             "#9c179e"
            ],
            [
             0.4444444444444444,
             "#bd3786"
            ],
            [
             0.5555555555555556,
             "#d8576b"
            ],
            [
             0.6666666666666666,
             "#ed7953"
            ],
            [
             0.7777777777777778,
             "#fb9f3a"
            ],
            [
             0.8888888888888888,
             "#fdca26"
            ],
            [
             1,
             "#f0f921"
            ]
           ]
          },
          "colorway": [
           "#636efa",
           "#EF553B",
           "#00cc96",
           "#ab63fa",
           "#FFA15A",
           "#19d3f3",
           "#FF6692",
           "#B6E880",
           "#FF97FF",
           "#FECB52"
          ],
          "font": {
           "color": "#f2f5fa"
          },
          "geo": {
           "bgcolor": "rgb(17,17,17)",
           "lakecolor": "rgb(17,17,17)",
           "landcolor": "rgb(17,17,17)",
           "showlakes": true,
           "showland": true,
           "subunitcolor": "#506784"
          },
          "hoverlabel": {
           "align": "left"
          },
          "hovermode": "closest",
          "mapbox": {
           "style": "dark"
          },
          "paper_bgcolor": "rgb(17,17,17)",
          "plot_bgcolor": "rgb(17,17,17)",
          "polar": {
           "angularaxis": {
            "gridcolor": "#506784",
            "linecolor": "#506784",
            "ticks": ""
           },
           "bgcolor": "rgb(17,17,17)",
           "radialaxis": {
            "gridcolor": "#506784",
            "linecolor": "#506784",
            "ticks": ""
           }
          },
          "scene": {
           "xaxis": {
            "backgroundcolor": "rgb(17,17,17)",
            "gridcolor": "#506784",
            "gridwidth": 2,
            "linecolor": "#506784",
            "showbackground": true,
            "ticks": "",
            "zerolinecolor": "#C8D4E3"
           },
           "yaxis": {
            "backgroundcolor": "rgb(17,17,17)",
            "gridcolor": "#506784",
            "gridwidth": 2,
            "linecolor": "#506784",
            "showbackground": true,
            "ticks": "",
            "zerolinecolor": "#C8D4E3"
           },
           "zaxis": {
            "backgroundcolor": "rgb(17,17,17)",
            "gridcolor": "#506784",
            "gridwidth": 2,
            "linecolor": "#506784",
            "showbackground": true,
            "ticks": "",
            "zerolinecolor": "#C8D4E3"
           }
          },
          "shapedefaults": {
           "line": {
            "color": "#f2f5fa"
           }
          },
          "sliderdefaults": {
           "bgcolor": "#C8D4E3",
           "bordercolor": "rgb(17,17,17)",
           "borderwidth": 1,
           "tickwidth": 0
          },
          "ternary": {
           "aaxis": {
            "gridcolor": "#506784",
            "linecolor": "#506784",
            "ticks": ""
           },
           "baxis": {
            "gridcolor": "#506784",
            "linecolor": "#506784",
            "ticks": ""
           },
           "bgcolor": "rgb(17,17,17)",
           "caxis": {
            "gridcolor": "#506784",
            "linecolor": "#506784",
            "ticks": ""
           }
          },
          "title": {
           "x": 0.05
          },
          "updatemenudefaults": {
           "bgcolor": "#506784",
           "borderwidth": 0
          },
          "xaxis": {
           "automargin": true,
           "gridcolor": "#283442",
           "linecolor": "#506784",
           "ticks": "",
           "title": {
            "standoff": 15
           },
           "zerolinecolor": "#283442",
           "zerolinewidth": 2
          },
          "yaxis": {
           "automargin": true,
           "gridcolor": "#283442",
           "linecolor": "#506784",
           "ticks": "",
           "title": {
            "standoff": 15
           },
           "zerolinecolor": "#283442",
           "zerolinewidth": 2
          }
         }
        },
        "title": {
         "text": "Residuals for 2024-09-04 00:00:00"
        },
        "xaxis": {
         "title": {
          "text": "Tenor"
         }
        },
        "yaxis": {
         "title": {
          "text": "Residual Value"
         }
        }
       }
      }
     },
     "metadata": {},
     "output_type": "display_data"
    }
   ],
   "source": [
    "plot_residuals_for_date(\n",
    "    residuals_df=pd.DataFrame(\n",
    "        cusips_ts_df.set_index(\"Date\").values - pc3_ct_df[\"reconstructed_df\"].values,\n",
    "        columns=pc3_ct_df[\"reconstructed_df\"].columns,\n",
    "        index=pc3_ct_df[\"reconstructed_df\"].index,\n",
    "    ),\n",
    "    date=datetime(2024, 9, 4),\n",
    ")"
   ]
  },
  {
   "cell_type": "code",
   "execution_count": null,
   "metadata": {},
   "outputs": [],
   "source": [
    "# https://github.com/letianzj/QuantResearch/blob/master/notebooks/ch1_pca_relative_value.ipynb\n",
    "# https://developers.lseg.com/en/article-catalog/article/yield-curve-principal-component-analysis-with-eikon-data-api\n",
    "# https://github.com/LSEG-API-Samples/Example.EikonAPI.Python.PCAYC\n",
    "# https://scikit-learn.org/stable/auto_examples/cross_decomposition/plot_pcr_vs_pls.html\n",
    "# Huggins/Schaller RV Reading"
   ]
  },
  {
   "cell_type": "code",
   "execution_count": null,
   "metadata": {},
   "outputs": [],
   "source": [
    "srf_dict_df = curve_data_fetcher.wsj_data_fetcher.wsj_timeseries_api(\n",
    "    wsj_ticker_keys=[\n",
    "        \"FUTURE/US/XCME/SR3CU24\",\n",
    "        \"FUTURE/US/XCME/SR3CZ24\",\n",
    "        \"FUTURE/US/XCME/SR3CH25\",\n",
    "        \"FUTURE/US/XCME/SR3CM25\",\n",
    "        \"FUTURE/US/XCME/SR3CU25\",\n",
    "        \"FUTURE/US/XCME/SR3CZ25\",\n",
    "        \"FUTURE/US/XCME/SR3CH26\",\n",
    "        \"FUTURE/US/XCME/SR3CM26\",\n",
    "        \"FUTURE/US/XCME/SR3CU26\",\n",
    "        \"FUTURE/US/XCME/SR3CZ26\",\n",
    "        \"FUTURE/US/XCME/SR3CH27\",\n",
    "        \"FUTURE/US/XCME/SR3CM27\",\n",
    "        \"FUTURE/US/XCME/SR3CU27\",\n",
    "        \"FUTURE/US/XCME/SR3CZ27\",\n",
    "        \"FUTURE/US/XCME/SR3CH28\",\n",
    "        \"FUTURE/US/XCME/SR3CM28\",\n",
    "        \"FUTURE/US/XCME/SR3CU28\",\n",
    "        \"FUTURE/US/XCME/SR3CZ28\",\n",
    "    ]\n",
    ")\n",
    "\n",
    "srf_df = reduce(\n",
    "    lambda left, right: pd.merge(left, right, on=\"Date\", how=\"outer\"),\n",
    "    srf_dict_df.values(),\n",
    ")\n",
    "srf_df.columns = [col_str.split(\"/\")[-1] for col_str in srf_df.columns]\n",
    "srf_df = srf_df[srf_df[\"Date\"] > datetime(2024, 1, 1)]\n",
    "\n",
    "srf_df"
   ]
  },
  {
   "cell_type": "code",
   "execution_count": 39,
   "metadata": {},
   "outputs": [
    {
     "data": {
      "text/html": [
       "<style type=\"text/css\">\n",
       "#T_e2607_row0_col0, #T_e2607_row1_col1, #T_e2607_row2_col2, #T_e2607_row3_col3, #T_e2607_row4_col4, #T_e2607_row5_col5, #T_e2607_row6_col6, #T_e2607_row7_col7, #T_e2607_row7_col8, #T_e2607_row8_col7, #T_e2607_row8_col8, #T_e2607_row8_col9, #T_e2607_row9_col8, #T_e2607_row9_col9, #T_e2607_row9_col10, #T_e2607_row10_col9, #T_e2607_row10_col10, #T_e2607_row10_col11, #T_e2607_row11_col10, #T_e2607_row11_col11, #T_e2607_row11_col12, #T_e2607_row11_col13, #T_e2607_row12_col11, #T_e2607_row12_col12, #T_e2607_row12_col13, #T_e2607_row12_col14, #T_e2607_row13_col11, #T_e2607_row13_col12, #T_e2607_row13_col13, #T_e2607_row13_col14, #T_e2607_row13_col15, #T_e2607_row14_col12, #T_e2607_row14_col13, #T_e2607_row14_col14, #T_e2607_row14_col15, #T_e2607_row14_col16, #T_e2607_row15_col13, #T_e2607_row15_col14, #T_e2607_row15_col15, #T_e2607_row15_col16, #T_e2607_row15_col17, #T_e2607_row16_col14, #T_e2607_row16_col15, #T_e2607_row16_col16, #T_e2607_row16_col17, #T_e2607_row17_col15, #T_e2607_row17_col16, #T_e2607_row17_col17 {\n",
       "  background-color: #d73c5b;\n",
       "  color: #f1f1f1;\n",
       "}\n",
       "#T_e2607_row0_col1, #T_e2607_row1_col3, #T_e2607_row3_col7, #T_e2607_row10_col3, #T_e2607_row16_col5 {\n",
       "  background-color: #df6d84;\n",
       "  color: #f1f1f1;\n",
       "}\n",
       "#T_e2607_row0_col2, #T_e2607_row4_col13, #T_e2607_row17_col2 {\n",
       "  background-color: #e7a8b5;\n",
       "  color: #000000;\n",
       "}\n",
       "#T_e2607_row0_col3 {\n",
       "  background-color: #ecc6ce;\n",
       "  color: #000000;\n",
       "}\n",
       "#T_e2607_row0_col4, #T_e2607_row3_col13 {\n",
       "  background-color: #efdade;\n",
       "  color: #000000;\n",
       "}\n",
       "#T_e2607_row0_col5 {\n",
       "  background-color: #f2f1f1;\n",
       "  color: #000000;\n",
       "}\n",
       "#T_e2607_row0_col6, #T_e2607_row3_col16 {\n",
       "  background-color: #d7dfea;\n",
       "  color: #000000;\n",
       "}\n",
       "#T_e2607_row0_col7 {\n",
       "  background-color: #bdcde2;\n",
       "  color: #000000;\n",
       "}\n",
       "#T_e2607_row0_col8 {\n",
       "  background-color: #abc1dc;\n",
       "  color: #000000;\n",
       "}\n",
       "#T_e2607_row0_col9 {\n",
       "  background-color: #9fb8d8;\n",
       "  color: #000000;\n",
       "}\n",
       "#T_e2607_row0_col10 {\n",
       "  background-color: #91afd4;\n",
       "  color: #000000;\n",
       "}\n",
       "#T_e2607_row0_col11, #T_e2607_row1_col13, #T_e2607_row2_col14 {\n",
       "  background-color: #81a3ce;\n",
       "  color: #f1f1f1;\n",
       "}\n",
       "#T_e2607_row0_col12 {\n",
       "  background-color: #759bca;\n",
       "  color: #f1f1f1;\n",
       "}\n",
       "#T_e2607_row0_col13 {\n",
       "  background-color: #6a93c7;\n",
       "  color: #f1f1f1;\n",
       "}\n",
       "#T_e2607_row0_col14 {\n",
       "  background-color: #5f8cc3;\n",
       "  color: #f1f1f1;\n",
       "}\n",
       "#T_e2607_row0_col15 {\n",
       "  background-color: #5383bf;\n",
       "  color: #f1f1f1;\n",
       "}\n",
       "#T_e2607_row0_col16 {\n",
       "  background-color: #487cbc;\n",
       "  color: #f1f1f1;\n",
       "}\n",
       "#T_e2607_row0_col17, #T_e2607_row1_col17, #T_e2607_row2_col0, #T_e2607_row2_col17, #T_e2607_row3_col0, #T_e2607_row4_col0, #T_e2607_row5_col0, #T_e2607_row6_col0, #T_e2607_row7_col0, #T_e2607_row8_col0, #T_e2607_row9_col0, #T_e2607_row10_col0, #T_e2607_row11_col0, #T_e2607_row12_col0, #T_e2607_row13_col0, #T_e2607_row14_col0, #T_e2607_row15_col0, #T_e2607_row16_col0, #T_e2607_row17_col0 {\n",
       "  background-color: #4479bb;\n",
       "  color: #f1f1f1;\n",
       "}\n",
       "#T_e2607_row1_col0 {\n",
       "  background-color: #e6a1af;\n",
       "  color: #000000;\n",
       "}\n",
       "#T_e2607_row1_col2, #T_e2607_row6_col11, #T_e2607_row7_col14, #T_e2607_row8_col4, #T_e2607_row13_col6, #T_e2607_row17_col7 {\n",
       "  background-color: #db546f;\n",
       "  color: #f1f1f1;\n",
       "}\n",
       "#T_e2607_row1_col4, #T_e2607_row3_col8 {\n",
       "  background-color: #e28194;\n",
       "  color: #f1f1f1;\n",
       "}\n",
       "#T_e2607_row1_col5, #T_e2607_row5_col1 {\n",
       "  background-color: #e69caa;\n",
       "  color: #000000;\n",
       "}\n",
       "#T_e2607_row1_col6 {\n",
       "  background-color: #ebbec6;\n",
       "  color: #000000;\n",
       "}\n",
       "#T_e2607_row1_col7, #T_e2607_row13_col1 {\n",
       "  background-color: #f0e1e4;\n",
       "  color: #000000;\n",
       "}\n",
       "#T_e2607_row1_col8, #T_e2607_row3_col15 {\n",
       "  background-color: #e7eaef;\n",
       "  color: #000000;\n",
       "}\n",
       "#T_e2607_row1_col9 {\n",
       "  background-color: #d3dce9;\n",
       "  color: #000000;\n",
       "}\n",
       "#T_e2607_row1_col10 {\n",
       "  background-color: #becee2;\n",
       "  color: #000000;\n",
       "}\n",
       "#T_e2607_row1_col11 {\n",
       "  background-color: #a7bedb;\n",
       "  color: #000000;\n",
       "}\n",
       "#T_e2607_row1_col12 {\n",
       "  background-color: #94b0d4;\n",
       "  color: #000000;\n",
       "}\n",
       "#T_e2607_row1_col14 {\n",
       "  background-color: #7198c9;\n",
       "  color: #f1f1f1;\n",
       "}\n",
       "#T_e2607_row1_col15 {\n",
       "  background-color: #5c8ac2;\n",
       "  color: #f1f1f1;\n",
       "}\n",
       "#T_e2607_row1_col16 {\n",
       "  background-color: #4b7ebd;\n",
       "  color: #f1f1f1;\n",
       "}\n",
       "#T_e2607_row2_col1, #T_e2607_row2_col5, #T_e2607_row14_col5 {\n",
       "  background-color: #dd657d;\n",
       "  color: #f1f1f1;\n",
       "}\n",
       "#T_e2607_row2_col3, #T_e2607_row8_col12, #T_e2607_row10_col15, #T_e2607_row11_col7, #T_e2607_row11_col17, #T_e2607_row14_col9 {\n",
       "  background-color: #d84361;\n",
       "  color: #f1f1f1;\n",
       "}\n",
       "#T_e2607_row2_col4, #T_e2607_row5_col8, #T_e2607_row12_col6, #T_e2607_row15_col7 {\n",
       "  background-color: #da506b;\n",
       "  color: #f1f1f1;\n",
       "}\n",
       "#T_e2607_row2_col6, #T_e2607_row10_col2 {\n",
       "  background-color: #e28799;\n",
       "  color: #f1f1f1;\n",
       "}\n",
       "#T_e2607_row2_col7 {\n",
       "  background-color: #e8adb8;\n",
       "  color: #000000;\n",
       "}\n",
       "#T_e2607_row2_col8 {\n",
       "  background-color: #edccd2;\n",
       "  color: #000000;\n",
       "}\n",
       "#T_e2607_row2_col9, #T_e2607_row14_col1 {\n",
       "  background-color: #f1e5e7;\n",
       "  color: #000000;\n",
       "}\n",
       "#T_e2607_row2_col10 {\n",
       "  background-color: #e4e9ee;\n",
       "  color: #000000;\n",
       "}\n",
       "#T_e2607_row2_col11 {\n",
       "  background-color: #c7d4e5;\n",
       "  color: #000000;\n",
       "}\n",
       "#T_e2607_row2_col12 {\n",
       "  background-color: #aec3dd;\n",
       "  color: #000000;\n",
       "}\n",
       "#T_e2607_row2_col13 {\n",
       "  background-color: #95b1d5;\n",
       "  color: #000000;\n",
       "}\n",
       "#T_e2607_row2_col15 {\n",
       "  background-color: #6690c6;\n",
       "  color: #f1f1f1;\n",
       "}\n",
       "#T_e2607_row2_col16 {\n",
       "  background-color: #4d7fbe;\n",
       "  color: #f1f1f1;\n",
       "}\n",
       "#T_e2607_row3_col1, #T_e2607_row6_col17 {\n",
       "  background-color: #e17c90;\n",
       "  color: #f1f1f1;\n",
       "}\n",
       "#T_e2607_row3_col2, #T_e2607_row6_col8, #T_e2607_row7_col10, #T_e2607_row9_col13, #T_e2607_row11_col16, #T_e2607_row12_col8, #T_e2607_row15_col10, #T_e2607_row17_col11 {\n",
       "  background-color: #d8415f;\n",
       "  color: #f1f1f1;\n",
       "}\n",
       "#T_e2607_row3_col4, #T_e2607_row4_col3, #T_e2607_row4_col5, #T_e2607_row5_col4, #T_e2607_row6_col5, #T_e2607_row6_col7, #T_e2607_row7_col6, #T_e2607_row8_col10, #T_e2607_row9_col7, #T_e2607_row9_col11, #T_e2607_row10_col8, #T_e2607_row10_col12, #T_e2607_row11_col9, #T_e2607_row11_col14, #T_e2607_row12_col10, #T_e2607_row12_col15, #T_e2607_row13_col16, #T_e2607_row14_col11, #T_e2607_row14_col17, #T_e2607_row15_col12, #T_e2607_row16_col13, #T_e2607_row17_col13, #T_e2607_row17_col14 {\n",
       "  background-color: #d73d5c;\n",
       "  color: #f1f1f1;\n",
       "}\n",
       "#T_e2607_row3_col5, #T_e2607_row5_col7, #T_e2607_row7_col11, #T_e2607_row8_col13, #T_e2607_row10_col16, #T_e2607_row14_col8 {\n",
       "  background-color: #d94663;\n",
       "  color: #f1f1f1;\n",
       "}\n",
       "#T_e2607_row3_col6, #T_e2607_row14_col6 {\n",
       "  background-color: #db5771;\n",
       "  color: #f1f1f1;\n",
       "}\n",
       "#T_e2607_row3_col9 {\n",
       "  background-color: #e491a1;\n",
       "  color: #f1f1f1;\n",
       "}\n",
       "#T_e2607_row3_col10, #T_e2607_row15_col2 {\n",
       "  background-color: #e7a3b0;\n",
       "  color: #000000;\n",
       "}\n",
       "#T_e2607_row3_col11 {\n",
       "  background-color: #eab7c1;\n",
       "  color: #000000;\n",
       "}\n",
       "#T_e2607_row3_col12 {\n",
       "  background-color: #ecc9d0;\n",
       "  color: #000000;\n",
       "}\n",
       "#T_e2607_row3_col14 {\n",
       "  background-color: #f1e8ea;\n",
       "  color: #000000;\n",
       "}\n",
       "#T_e2607_row3_col17 {\n",
       "  background-color: #cfdae7;\n",
       "  color: #000000;\n",
       "}\n",
       "#T_e2607_row4_col1 {\n",
       "  background-color: #e38b9d;\n",
       "  color: #f1f1f1;\n",
       "}\n",
       "#T_e2607_row4_col2, #T_e2607_row7_col12, #T_e2607_row8_col5, #T_e2607_row8_col14, #T_e2607_row13_col7 {\n",
       "  background-color: #d94a67;\n",
       "  color: #f1f1f1;\n",
       "}\n",
       "#T_e2607_row4_col6, #T_e2607_row6_col9, #T_e2607_row10_col6, #T_e2607_row10_col17, #T_e2607_row12_col7, #T_e2607_row16_col9 {\n",
       "  background-color: #d94764;\n",
       "  color: #f1f1f1;\n",
       "}\n",
       "#T_e2607_row4_col7, #T_e2607_row5_col2, #T_e2607_row8_col17 {\n",
       "  background-color: #db5570;\n",
       "  color: #f1f1f1;\n",
       "}\n",
       "#T_e2607_row4_col8 {\n",
       "  background-color: #dd637c;\n",
       "  color: #f1f1f1;\n",
       "}\n",
       "#T_e2607_row4_col9, #T_e2607_row6_col15, #T_e2607_row13_col4 {\n",
       "  background-color: #df7086;\n",
       "  color: #f1f1f1;\n",
       "}\n",
       "#T_e2607_row4_col10, #T_e2607_row16_col4 {\n",
       "  background-color: #e17d91;\n",
       "  color: #f1f1f1;\n",
       "}\n",
       "#T_e2607_row4_col11, #T_e2607_row16_col3 {\n",
       "  background-color: #e38d9e;\n",
       "  color: #f1f1f1;\n",
       "}\n",
       "#T_e2607_row4_col12 {\n",
       "  background-color: #e59aa9;\n",
       "  color: #000000;\n",
       "}\n",
       "#T_e2607_row4_col14 {\n",
       "  background-color: #e9b4be;\n",
       "  color: #000000;\n",
       "}\n",
       "#T_e2607_row4_col15, #T_e2607_row8_col1 {\n",
       "  background-color: #ecc3cb;\n",
       "  color: #000000;\n",
       "}\n",
       "#T_e2607_row4_col16, #T_e2607_row10_col1 {\n",
       "  background-color: #eed2d7;\n",
       "  color: #000000;\n",
       "}\n",
       "#T_e2607_row4_col17, #T_e2607_row11_col1 {\n",
       "  background-color: #efd7dc;\n",
       "  color: #000000;\n",
       "}\n",
       "#T_e2607_row5_col3, #T_e2607_row6_col4, #T_e2607_row7_col5, #T_e2607_row9_col6, #T_e2607_row9_col14, #T_e2607_row13_col8, #T_e2607_row15_col9, #T_e2607_row16_col10, #T_e2607_row17_col10 {\n",
       "  background-color: #d84462;\n",
       "  color: #f1f1f1;\n",
       "}\n",
       "#T_e2607_row5_col6, #T_e2607_row7_col9, #T_e2607_row9_col12, #T_e2607_row10_col13, #T_e2607_row11_col8, #T_e2607_row12_col9, #T_e2607_row12_col16, #T_e2607_row13_col10, #T_e2607_row13_col17, #T_e2607_row15_col11, #T_e2607_row16_col12 {\n",
       "  background-color: #d83e5d;\n",
       "  color: #f1f1f1;\n",
       "}\n",
       "#T_e2607_row5_col9, #T_e2607_row7_col3, #T_e2607_row11_col5 {\n",
       "  background-color: #db5872;\n",
       "  color: #f1f1f1;\n",
       "}\n",
       "#T_e2607_row5_col10, #T_e2607_row6_col13, #T_e2607_row8_col3, #T_e2607_row17_col6 {\n",
       "  background-color: #dd6179;\n",
       "  color: #f1f1f1;\n",
       "}\n",
       "#T_e2607_row5_col11 {\n",
       "  background-color: #de6c83;\n",
       "  color: #f1f1f1;\n",
       "}\n",
       "#T_e2607_row5_col12 {\n",
       "  background-color: #e0768b;\n",
       "  color: #f1f1f1;\n",
       "}\n",
       "#T_e2607_row5_col13, #T_e2607_row9_col2 {\n",
       "  background-color: #e18093;\n",
       "  color: #f1f1f1;\n",
       "}\n",
       "#T_e2607_row5_col14 {\n",
       "  background-color: #e38a9c;\n",
       "  color: #f1f1f1;\n",
       "}\n",
       "#T_e2607_row5_col15 {\n",
       "  background-color: #e595a5;\n",
       "  color: #000000;\n",
       "}\n",
       "#T_e2607_row5_col16 {\n",
       "  background-color: #e6a0ae;\n",
       "  color: #000000;\n",
       "}\n",
       "#T_e2607_row5_col17 {\n",
       "  background-color: #e7a5b2;\n",
       "  color: #000000;\n",
       "}\n",
       "#T_e2607_row6_col1 {\n",
       "  background-color: #e8abb7;\n",
       "  color: #000000;\n",
       "}\n",
       "#T_e2607_row6_col2, #T_e2607_row7_col17, #T_e2607_row13_col5 {\n",
       "  background-color: #dd627b;\n",
       "  color: #f1f1f1;\n",
       "}\n",
       "#T_e2607_row6_col3, #T_e2607_row7_col13, #T_e2607_row8_col15, #T_e2607_row9_col5, #T_e2607_row9_col17 {\n",
       "  background-color: #da4e6a;\n",
       "  color: #f1f1f1;\n",
       "}\n",
       "#T_e2607_row6_col10, #T_e2607_row9_col16, #T_e2607_row16_col8 {\n",
       "  background-color: #da4b68;\n",
       "  color: #f1f1f1;\n",
       "}\n",
       "#T_e2607_row6_col12, #T_e2607_row15_col6 {\n",
       "  background-color: #dc5b75;\n",
       "  color: #f1f1f1;\n",
       "}\n",
       "#T_e2607_row6_col14, #T_e2607_row9_col3 {\n",
       "  background-color: #de687f;\n",
       "  color: #f1f1f1;\n",
       "}\n",
       "#T_e2607_row6_col16 {\n",
       "  background-color: #e0778c;\n",
       "  color: #f1f1f1;\n",
       "}\n",
       "#T_e2607_row7_col1 {\n",
       "  background-color: #eabbc4;\n",
       "  color: #000000;\n",
       "}\n",
       "#T_e2607_row7_col2, #T_e2607_row17_col5 {\n",
       "  background-color: #df6f85;\n",
       "  color: #f1f1f1;\n",
       "}\n",
       "#T_e2607_row7_col4, #T_e2607_row11_col6, #T_e2607_row14_col7, #T_e2607_row17_col8 {\n",
       "  background-color: #da4d69;\n",
       "  color: #f1f1f1;\n",
       "}\n",
       "#T_e2607_row7_col15, #T_e2607_row9_col4 {\n",
       "  background-color: #dc5973;\n",
       "  color: #f1f1f1;\n",
       "}\n",
       "#T_e2607_row7_col16, #T_e2607_row10_col4 {\n",
       "  background-color: #dd5f78;\n",
       "  color: #f1f1f1;\n",
       "}\n",
       "#T_e2607_row8_col2, #T_e2607_row15_col4 {\n",
       "  background-color: #e0798d;\n",
       "  color: #f1f1f1;\n",
       "}\n",
       "#T_e2607_row8_col6, #T_e2607_row8_col11, #T_e2607_row10_col7, #T_e2607_row10_col14, #T_e2607_row11_col15, #T_e2607_row12_col17, #T_e2607_row13_col9, #T_e2607_row14_col10, #T_e2607_row16_col11, #T_e2607_row17_col12 {\n",
       "  background-color: #d8405e;\n",
       "  color: #f1f1f1;\n",
       "}\n",
       "#T_e2607_row8_col16, #T_e2607_row10_col5, #T_e2607_row16_col7 {\n",
       "  background-color: #db526e;\n",
       "  color: #f1f1f1;\n",
       "}\n",
       "#T_e2607_row9_col1 {\n",
       "  background-color: #edcad1;\n",
       "  color: #000000;\n",
       "}\n",
       "#T_e2607_row9_col15, #T_e2607_row15_col8, #T_e2607_row17_col9 {\n",
       "  background-color: #d94865;\n",
       "  color: #f1f1f1;\n",
       "}\n",
       "#T_e2607_row11_col2, #T_e2607_row17_col3 {\n",
       "  background-color: #e48e9f;\n",
       "  color: #f1f1f1;\n",
       "}\n",
       "#T_e2607_row11_col3, #T_e2607_row14_col4 {\n",
       "  background-color: #e0748a;\n",
       "  color: #f1f1f1;\n",
       "}\n",
       "#T_e2607_row11_col4 {\n",
       "  background-color: #de667e;\n",
       "  color: #f1f1f1;\n",
       "}\n",
       "#T_e2607_row12_col1 {\n",
       "  background-color: #efdde0;\n",
       "  color: #000000;\n",
       "}\n",
       "#T_e2607_row12_col2 {\n",
       "  background-color: #e494a4;\n",
       "  color: #f1f1f1;\n",
       "}\n",
       "#T_e2607_row12_col3 {\n",
       "  background-color: #e17a8f;\n",
       "  color: #f1f1f1;\n",
       "}\n",
       "#T_e2607_row12_col4 {\n",
       "  background-color: #de6b82;\n",
       "  color: #f1f1f1;\n",
       "}\n",
       "#T_e2607_row12_col5, #T_e2607_row16_col6 {\n",
       "  background-color: #dc5e77;\n",
       "  color: #f1f1f1;\n",
       "}\n",
       "#T_e2607_row13_col2 {\n",
       "  background-color: #e599a8;\n",
       "  color: #000000;\n",
       "}\n",
       "#T_e2607_row13_col3, #T_e2607_row17_col4 {\n",
       "  background-color: #e17e92;\n",
       "  color: #f1f1f1;\n",
       "}\n",
       "#T_e2607_row14_col2 {\n",
       "  background-color: #e69dab;\n",
       "  color: #000000;\n",
       "}\n",
       "#T_e2607_row14_col3 {\n",
       "  background-color: #e28396;\n",
       "  color: #f1f1f1;\n",
       "}\n",
       "#T_e2607_row15_col1 {\n",
       "  background-color: #f1eaeb;\n",
       "  color: #000000;\n",
       "}\n",
       "#T_e2607_row15_col3 {\n",
       "  background-color: #e3889a;\n",
       "  color: #f1f1f1;\n",
       "}\n",
       "#T_e2607_row15_col5 {\n",
       "  background-color: #de6980;\n",
       "  color: #f1f1f1;\n",
       "}\n",
       "#T_e2607_row16_col1 {\n",
       "  background-color: #f2eeef;\n",
       "  color: #000000;\n",
       "}\n",
       "#T_e2607_row16_col2 {\n",
       "  background-color: #e7a7b4;\n",
       "  color: #000000;\n",
       "}\n",
       "#T_e2607_row17_col1 {\n",
       "  background-color: #f2eff0;\n",
       "  color: #000000;\n",
       "}\n",
       "</style>\n",
       "<table id=\"T_e2607\">\n",
       "  <thead>\n",
       "    <tr>\n",
       "      <th class=\"blank level0\" >&nbsp;</th>\n",
       "      <th id=\"T_e2607_level0_col0\" class=\"col_heading level0 col0\" >SR3CU24</th>\n",
       "      <th id=\"T_e2607_level0_col1\" class=\"col_heading level0 col1\" >SR3CZ24</th>\n",
       "      <th id=\"T_e2607_level0_col2\" class=\"col_heading level0 col2\" >SR3CH25</th>\n",
       "      <th id=\"T_e2607_level0_col3\" class=\"col_heading level0 col3\" >SR3CM25</th>\n",
       "      <th id=\"T_e2607_level0_col4\" class=\"col_heading level0 col4\" >SR3CU25</th>\n",
       "      <th id=\"T_e2607_level0_col5\" class=\"col_heading level0 col5\" >SR3CZ25</th>\n",
       "      <th id=\"T_e2607_level0_col6\" class=\"col_heading level0 col6\" >SR3CH26</th>\n",
       "      <th id=\"T_e2607_level0_col7\" class=\"col_heading level0 col7\" >SR3CM26</th>\n",
       "      <th id=\"T_e2607_level0_col8\" class=\"col_heading level0 col8\" >SR3CU26</th>\n",
       "      <th id=\"T_e2607_level0_col9\" class=\"col_heading level0 col9\" >SR3CZ26</th>\n",
       "      <th id=\"T_e2607_level0_col10\" class=\"col_heading level0 col10\" >SR3CH27</th>\n",
       "      <th id=\"T_e2607_level0_col11\" class=\"col_heading level0 col11\" >SR3CM27</th>\n",
       "      <th id=\"T_e2607_level0_col12\" class=\"col_heading level0 col12\" >SR3CU27</th>\n",
       "      <th id=\"T_e2607_level0_col13\" class=\"col_heading level0 col13\" >SR3CZ27</th>\n",
       "      <th id=\"T_e2607_level0_col14\" class=\"col_heading level0 col14\" >SR3CH28</th>\n",
       "      <th id=\"T_e2607_level0_col15\" class=\"col_heading level0 col15\" >SR3CM28</th>\n",
       "      <th id=\"T_e2607_level0_col16\" class=\"col_heading level0 col16\" >SR3CU28</th>\n",
       "      <th id=\"T_e2607_level0_col17\" class=\"col_heading level0 col17\" >SR3CZ28</th>\n",
       "    </tr>\n",
       "  </thead>\n",
       "  <tbody>\n",
       "    <tr>\n",
       "      <th id=\"T_e2607_level0_row0\" class=\"row_heading level0 row0\" >SR3CU24</th>\n",
       "      <td id=\"T_e2607_row0_col0\" class=\"data row0 col0\" >1.000000</td>\n",
       "      <td id=\"T_e2607_row0_col1\" class=\"data row0 col1\" >0.898503</td>\n",
       "      <td id=\"T_e2607_row0_col2\" class=\"data row0 col2\" >0.780016</td>\n",
       "      <td id=\"T_e2607_row0_col3\" class=\"data row0 col3\" >0.720410</td>\n",
       "      <td id=\"T_e2607_row0_col4\" class=\"data row0 col4\" >0.680911</td>\n",
       "      <td id=\"T_e2607_row0_col5\" class=\"data row0 col5\" >0.635424</td>\n",
       "      <td id=\"T_e2607_row0_col6\" class=\"data row0 col6\" >0.578487</td>\n",
       "      <td id=\"T_e2607_row0_col7\" class=\"data row0 col7\" >0.524220</td>\n",
       "      <td id=\"T_e2607_row0_col8\" class=\"data row0 col8\" >0.486345</td>\n",
       "      <td id=\"T_e2607_row0_col9\" class=\"data row0 col9\" >0.458563</td>\n",
       "      <td id=\"T_e2607_row0_col10\" class=\"data row0 col10\" >0.429852</td>\n",
       "      <td id=\"T_e2607_row0_col11\" class=\"data row0 col11\" >0.397805</td>\n",
       "      <td id=\"T_e2607_row0_col12\" class=\"data row0 col12\" >0.371305</td>\n",
       "      <td id=\"T_e2607_row0_col13\" class=\"data row0 col13\" >0.347082</td>\n",
       "      <td id=\"T_e2607_row0_col14\" class=\"data row0 col14\" >0.326502</td>\n",
       "      <td id=\"T_e2607_row0_col15\" class=\"data row0 col15\" >0.299158</td>\n",
       "      <td id=\"T_e2607_row0_col16\" class=\"data row0 col16\" >0.276330</td>\n",
       "      <td id=\"T_e2607_row0_col17\" class=\"data row0 col17\" >0.266490</td>\n",
       "    </tr>\n",
       "    <tr>\n",
       "      <th id=\"T_e2607_level0_row1\" class=\"row_heading level0 row1\" >SR3CZ24</th>\n",
       "      <td id=\"T_e2607_row1_col0\" class=\"data row1 col0\" >0.898503</td>\n",
       "      <td id=\"T_e2607_row1_col1\" class=\"data row1 col1\" >1.000000</td>\n",
       "      <td id=\"T_e2607_row1_col2\" class=\"data row1 col2\" >0.974987</td>\n",
       "      <td id=\"T_e2607_row1_col3\" class=\"data row1 col3\" >0.949822</td>\n",
       "      <td id=\"T_e2607_row1_col4\" class=\"data row1 col4\" >0.929717</td>\n",
       "      <td id=\"T_e2607_row1_col5\" class=\"data row1 col5\" >0.904319</td>\n",
       "      <td id=\"T_e2607_row1_col6\" class=\"data row1 col6\" >0.869932</td>\n",
       "      <td id=\"T_e2607_row1_col7\" class=\"data row1 col7\" >0.834549</td>\n",
       "      <td id=\"T_e2607_row1_col8\" class=\"data row1 col8\" >0.807885</td>\n",
       "      <td id=\"T_e2607_row1_col9\" class=\"data row1 col9\" >0.787318</td>\n",
       "      <td id=\"T_e2607_row1_col10\" class=\"data row1 col10\" >0.765890</td>\n",
       "      <td id=\"T_e2607_row1_col11\" class=\"data row1 col11\" >0.741647</td>\n",
       "      <td id=\"T_e2607_row1_col12\" class=\"data row1 col12\" >0.721034</td>\n",
       "      <td id=\"T_e2607_row1_col13\" class=\"data row1 col13\" >0.701795</td>\n",
       "      <td id=\"T_e2607_row1_col14\" class=\"data row1 col14\" >0.685356</td>\n",
       "      <td id=\"T_e2607_row1_col15\" class=\"data row1 col15\" >0.663708</td>\n",
       "      <td id=\"T_e2607_row1_col16\" class=\"data row1 col16\" >0.645292</td>\n",
       "      <td id=\"T_e2607_row1_col17\" class=\"data row1 col17\" >0.637252</td>\n",
       "    </tr>\n",
       "    <tr>\n",
       "      <th id=\"T_e2607_level0_row2\" class=\"row_heading level0 row2\" >SR3CH25</th>\n",
       "      <td id=\"T_e2607_row2_col0\" class=\"data row2 col0\" >0.780016</td>\n",
       "      <td id=\"T_e2607_row2_col1\" class=\"data row2 col1\" >0.974987</td>\n",
       "      <td id=\"T_e2607_row2_col2\" class=\"data row2 col2\" >1.000000</td>\n",
       "      <td id=\"T_e2607_row2_col3\" class=\"data row2 col3\" >0.995242</td>\n",
       "      <td id=\"T_e2607_row2_col4\" class=\"data row2 col4\" >0.987139</td>\n",
       "      <td id=\"T_e2607_row2_col5\" class=\"data row2 col5\" >0.974294</td>\n",
       "      <td id=\"T_e2607_row2_col6\" class=\"data row2 col6\" >0.954320</td>\n",
       "      <td id=\"T_e2607_row2_col7\" class=\"data row2 col7\" >0.931423</td>\n",
       "      <td id=\"T_e2607_row2_col8\" class=\"data row2 col8\" >0.912650</td>\n",
       "      <td id=\"T_e2607_row2_col9\" class=\"data row2 col9\" >0.897488</td>\n",
       "      <td id=\"T_e2607_row2_col10\" class=\"data row2 col10\" >0.881540</td>\n",
       "      <td id=\"T_e2607_row2_col11\" class=\"data row2 col11\" >0.863109</td>\n",
       "      <td id=\"T_e2607_row2_col12\" class=\"data row2 col12\" >0.847138</td>\n",
       "      <td id=\"T_e2607_row2_col13\" class=\"data row2 col13\" >0.831936</td>\n",
       "      <td id=\"T_e2607_row2_col14\" class=\"data row2 col14\" >0.818831</td>\n",
       "      <td id=\"T_e2607_row2_col15\" class=\"data row2 col15\" >0.801621</td>\n",
       "      <td id=\"T_e2607_row2_col16\" class=\"data row2 col16\" >0.786685</td>\n",
       "      <td id=\"T_e2607_row2_col17\" class=\"data row2 col17\" >0.780057</td>\n",
       "    </tr>\n",
       "    <tr>\n",
       "      <th id=\"T_e2607_level0_row3\" class=\"row_heading level0 row3\" >SR3CM25</th>\n",
       "      <td id=\"T_e2607_row3_col0\" class=\"data row3 col0\" >0.720410</td>\n",
       "      <td id=\"T_e2607_row3_col1\" class=\"data row3 col1\" >0.949822</td>\n",
       "      <td id=\"T_e2607_row3_col2\" class=\"data row3 col2\" >0.995242</td>\n",
       "      <td id=\"T_e2607_row3_col3\" class=\"data row3 col3\" >1.000000</td>\n",
       "      <td id=\"T_e2607_row3_col4\" class=\"data row3 col4\" >0.997918</td>\n",
       "      <td id=\"T_e2607_row3_col5\" class=\"data row3 col5\" >0.991283</td>\n",
       "      <td id=\"T_e2607_row3_col6\" class=\"data row3 col6\" >0.978243</td>\n",
       "      <td id=\"T_e2607_row3_col7\" class=\"data row3 col7\" >0.961323</td>\n",
       "      <td id=\"T_e2607_row3_col8\" class=\"data row3 col8\" >0.946449</td>\n",
       "      <td id=\"T_e2607_row3_col9\" class=\"data row3 col9\" >0.934014</td>\n",
       "      <td id=\"T_e2607_row3_col10\" class=\"data row3 col10\" >0.920764</td>\n",
       "      <td id=\"T_e2607_row3_col11\" class=\"data row3 col11\" >0.905124</td>\n",
       "      <td id=\"T_e2607_row3_col12\" class=\"data row3 col12\" >0.891445</td>\n",
       "      <td id=\"T_e2607_row3_col13\" class=\"data row3 col13\" >0.878263</td>\n",
       "      <td id=\"T_e2607_row3_col14\" class=\"data row3 col14\" >0.866827</td>\n",
       "      <td id=\"T_e2607_row3_col15\" class=\"data row3 col15\" >0.851747</td>\n",
       "      <td id=\"T_e2607_row3_col16\" class=\"data row3 col16\" >0.838488</td>\n",
       "      <td id=\"T_e2607_row3_col17\" class=\"data row3 col17\" >0.832482</td>\n",
       "    </tr>\n",
       "    <tr>\n",
       "      <th id=\"T_e2607_level0_row4\" class=\"row_heading level0 row4\" >SR3CU25</th>\n",
       "      <td id=\"T_e2607_row4_col0\" class=\"data row4 col0\" >0.680911</td>\n",
       "      <td id=\"T_e2607_row4_col1\" class=\"data row4 col1\" >0.929717</td>\n",
       "      <td id=\"T_e2607_row4_col2\" class=\"data row4 col2\" >0.987139</td>\n",
       "      <td id=\"T_e2607_row4_col3\" class=\"data row4 col3\" >0.997918</td>\n",
       "      <td id=\"T_e2607_row4_col4\" class=\"data row4 col4\" >1.000000</td>\n",
       "      <td id=\"T_e2607_row4_col5\" class=\"data row4 col5\" >0.997666</td>\n",
       "      <td id=\"T_e2607_row4_col6\" class=\"data row4 col6\" >0.989333</td>\n",
       "      <td id=\"T_e2607_row4_col7\" class=\"data row4 col7\" >0.976450</td>\n",
       "      <td id=\"T_e2607_row4_col8\" class=\"data row4 col8\" >0.964292</td>\n",
       "      <td id=\"T_e2607_row4_col9\" class=\"data row4 col9\" >0.953788</td>\n",
       "      <td id=\"T_e2607_row4_col10\" class=\"data row4 col10\" >0.942387</td>\n",
       "      <td id=\"T_e2607_row4_col11\" class=\"data row4 col11\" >0.928679</td>\n",
       "      <td id=\"T_e2607_row4_col12\" class=\"data row4 col12\" >0.916569</td>\n",
       "      <td id=\"T_e2607_row4_col13\" class=\"data row4 col13\" >0.904811</td>\n",
       "      <td id=\"T_e2607_row4_col14\" class=\"data row4 col14\" >0.894598</td>\n",
       "      <td id=\"T_e2607_row4_col15\" class=\"data row4 col15\" >0.881029</td>\n",
       "      <td id=\"T_e2607_row4_col16\" class=\"data row4 col16\" >0.868980</td>\n",
       "      <td id=\"T_e2607_row4_col17\" class=\"data row4 col17\" >0.863408</td>\n",
       "    </tr>\n",
       "    <tr>\n",
       "      <th id=\"T_e2607_level0_row5\" class=\"row_heading level0 row5\" >SR3CZ25</th>\n",
       "      <td id=\"T_e2607_row5_col0\" class=\"data row5 col0\" >0.635424</td>\n",
       "      <td id=\"T_e2607_row5_col1\" class=\"data row5 col1\" >0.904319</td>\n",
       "      <td id=\"T_e2607_row5_col2\" class=\"data row5 col2\" >0.974294</td>\n",
       "      <td id=\"T_e2607_row5_col3\" class=\"data row5 col3\" >0.991283</td>\n",
       "      <td id=\"T_e2607_row5_col4\" class=\"data row5 col4\" >0.997666</td>\n",
       "      <td id=\"T_e2607_row5_col5\" class=\"data row5 col5\" >1.000000</td>\n",
       "      <td id=\"T_e2607_row5_col6\" class=\"data row5 col6\" >0.996907</td>\n",
       "      <td id=\"T_e2607_row5_col7\" class=\"data row5 col7\" >0.988648</td>\n",
       "      <td id=\"T_e2607_row5_col8\" class=\"data row5 col8\" >0.979660</td>\n",
       "      <td id=\"T_e2607_row5_col9\" class=\"data row5 col9\" >0.971425</td>\n",
       "      <td id=\"T_e2607_row5_col10\" class=\"data row5 col10\" >0.962175</td>\n",
       "      <td id=\"T_e2607_row5_col11\" class=\"data row5 col11\" >0.950744</td>\n",
       "      <td id=\"T_e2607_row5_col12\" class=\"data row5 col12\" >0.940484</td>\n",
       "      <td id=\"T_e2607_row5_col13\" class=\"data row5 col13\" >0.930383</td>\n",
       "      <td id=\"T_e2607_row5_col14\" class=\"data row5 col14\" >0.921553</td>\n",
       "      <td id=\"T_e2607_row5_col15\" class=\"data row5 col15\" >0.909707</td>\n",
       "      <td id=\"T_e2607_row5_col16\" class=\"data row5 col16\" >0.899061</td>\n",
       "      <td id=\"T_e2607_row5_col17\" class=\"data row5 col17\" >0.894002</td>\n",
       "    </tr>\n",
       "    <tr>\n",
       "      <th id=\"T_e2607_level0_row6\" class=\"row_heading level0 row6\" >SR3CH26</th>\n",
       "      <td id=\"T_e2607_row6_col0\" class=\"data row6 col0\" >0.578487</td>\n",
       "      <td id=\"T_e2607_row6_col1\" class=\"data row6 col1\" >0.869932</td>\n",
       "      <td id=\"T_e2607_row6_col2\" class=\"data row6 col2\" >0.954320</td>\n",
       "      <td id=\"T_e2607_row6_col3\" class=\"data row6 col3\" >0.978243</td>\n",
       "      <td id=\"T_e2607_row6_col4\" class=\"data row6 col4\" >0.989333</td>\n",
       "      <td id=\"T_e2607_row6_col5\" class=\"data row6 col5\" >0.996907</td>\n",
       "      <td id=\"T_e2607_row6_col6\" class=\"data row6 col6\" >1.000000</td>\n",
       "      <td id=\"T_e2607_row6_col7\" class=\"data row6 col7\" >0.997353</td>\n",
       "      <td id=\"T_e2607_row6_col8\" class=\"data row6 col8\" >0.992262</td>\n",
       "      <td id=\"T_e2607_row6_col9\" class=\"data row6 col9\" >0.986825</td>\n",
       "      <td id=\"T_e2607_row6_col10\" class=\"data row6 col10\" >0.980248</td>\n",
       "      <td id=\"T_e2607_row6_col11\" class=\"data row6 col11\" >0.971654</td>\n",
       "      <td id=\"T_e2607_row6_col12\" class=\"data row6 col12\" >0.963648</td>\n",
       "      <td id=\"T_e2607_row6_col13\" class=\"data row6 col13\" >0.955564</td>\n",
       "      <td id=\"T_e2607_row6_col14\" class=\"data row6 col14\" >0.948343</td>\n",
       "      <td id=\"T_e2607_row6_col15\" class=\"data row6 col15\" >0.938542</td>\n",
       "      <td id=\"T_e2607_row6_col16\" class=\"data row6 col16\" >0.929559</td>\n",
       "      <td id=\"T_e2607_row6_col17\" class=\"data row6 col17\" >0.925102</td>\n",
       "    </tr>\n",
       "    <tr>\n",
       "      <th id=\"T_e2607_level0_row7\" class=\"row_heading level0 row7\" >SR3CM26</th>\n",
       "      <td id=\"T_e2607_row7_col0\" class=\"data row7 col0\" >0.524220</td>\n",
       "      <td id=\"T_e2607_row7_col1\" class=\"data row7 col1\" >0.834549</td>\n",
       "      <td id=\"T_e2607_row7_col2\" class=\"data row7 col2\" >0.931423</td>\n",
       "      <td id=\"T_e2607_row7_col3\" class=\"data row7 col3\" >0.961323</td>\n",
       "      <td id=\"T_e2607_row7_col4\" class=\"data row7 col4\" >0.976450</td>\n",
       "      <td id=\"T_e2607_row7_col5\" class=\"data row7 col5\" >0.988648</td>\n",
       "      <td id=\"T_e2607_row7_col6\" class=\"data row7 col6\" >0.997353</td>\n",
       "      <td id=\"T_e2607_row7_col7\" class=\"data row7 col7\" >1.000000</td>\n",
       "      <td id=\"T_e2607_row7_col8\" class=\"data row7 col8\" >0.998633</td>\n",
       "      <td id=\"T_e2607_row7_col9\" class=\"data row7 col9\" >0.995888</td>\n",
       "      <td id=\"T_e2607_row7_col10\" class=\"data row7 col10\" >0.991869</td>\n",
       "      <td id=\"T_e2607_row7_col11\" class=\"data row7 col11\" >0.986021</td>\n",
       "      <td id=\"T_e2607_row7_col12\" class=\"data row7 col12\" >0.980184</td>\n",
       "      <td id=\"T_e2607_row7_col13\" class=\"data row7 col13\" >0.974015</td>\n",
       "      <td id=\"T_e2607_row7_col14\" class=\"data row7 col14\" >0.968290</td>\n",
       "      <td id=\"T_e2607_row7_col15\" class=\"data row7 col15\" >0.960395</td>\n",
       "      <td id=\"T_e2607_row7_col16\" class=\"data row7 col16\" >0.952975</td>\n",
       "      <td id=\"T_e2607_row7_col17\" class=\"data row7 col17\" >0.949102</td>\n",
       "    </tr>\n",
       "    <tr>\n",
       "      <th id=\"T_e2607_level0_row8\" class=\"row_heading level0 row8\" >SR3CU26</th>\n",
       "      <td id=\"T_e2607_row8_col0\" class=\"data row8 col0\" >0.486345</td>\n",
       "      <td id=\"T_e2607_row8_col1\" class=\"data row8 col1\" >0.807885</td>\n",
       "      <td id=\"T_e2607_row8_col2\" class=\"data row8 col2\" >0.912650</td>\n",
       "      <td id=\"T_e2607_row8_col3\" class=\"data row8 col3\" >0.946449</td>\n",
       "      <td id=\"T_e2607_row8_col4\" class=\"data row8 col4\" >0.964292</td>\n",
       "      <td id=\"T_e2607_row8_col5\" class=\"data row8 col5\" >0.979660</td>\n",
       "      <td id=\"T_e2607_row8_col6\" class=\"data row8 col6\" >0.992262</td>\n",
       "      <td id=\"T_e2607_row8_col7\" class=\"data row8 col7\" >0.998633</td>\n",
       "      <td id=\"T_e2607_row8_col8\" class=\"data row8 col8\" >1.000000</td>\n",
       "      <td id=\"T_e2607_row8_col9\" class=\"data row8 col9\" >0.999239</td>\n",
       "      <td id=\"T_e2607_row8_col10\" class=\"data row8 col10\" >0.997089</td>\n",
       "      <td id=\"T_e2607_row8_col11\" class=\"data row8 col11\" >0.993243</td>\n",
       "      <td id=\"T_e2607_row8_col12\" class=\"data row8 col12\" >0.988991</td>\n",
       "      <td id=\"T_e2607_row8_col13\" class=\"data row8 col13\" >0.984224</td>\n",
       "      <td id=\"T_e2607_row8_col14\" class=\"data row8 col14\" >0.979595</td>\n",
       "      <td id=\"T_e2607_row8_col15\" class=\"data row8 col15\" >0.973070</td>\n",
       "      <td id=\"T_e2607_row8_col16\" class=\"data row8 col16\" >0.966777</td>\n",
       "      <td id=\"T_e2607_row8_col17\" class=\"data row8 col17\" >0.963334</td>\n",
       "    </tr>\n",
       "    <tr>\n",
       "      <th id=\"T_e2607_level0_row9\" class=\"row_heading level0 row9\" >SR3CZ26</th>\n",
       "      <td id=\"T_e2607_row9_col0\" class=\"data row9 col0\" >0.458563</td>\n",
       "      <td id=\"T_e2607_row9_col1\" class=\"data row9 col1\" >0.787318</td>\n",
       "      <td id=\"T_e2607_row9_col2\" class=\"data row9 col2\" >0.897488</td>\n",
       "      <td id=\"T_e2607_row9_col3\" class=\"data row9 col3\" >0.934014</td>\n",
       "      <td id=\"T_e2607_row9_col4\" class=\"data row9 col4\" >0.953788</td>\n",
       "      <td id=\"T_e2607_row9_col5\" class=\"data row9 col5\" >0.971425</td>\n",
       "      <td id=\"T_e2607_row9_col6\" class=\"data row9 col6\" >0.986825</td>\n",
       "      <td id=\"T_e2607_row9_col7\" class=\"data row9 col7\" >0.995888</td>\n",
       "      <td id=\"T_e2607_row9_col8\" class=\"data row9 col8\" >0.999239</td>\n",
       "      <td id=\"T_e2607_row9_col9\" class=\"data row9 col9\" >1.000000</td>\n",
       "      <td id=\"T_e2607_row9_col10\" class=\"data row9 col10\" >0.999271</td>\n",
       "      <td id=\"T_e2607_row9_col11\" class=\"data row9 col11\" >0.996933</td>\n",
       "      <td id=\"T_e2607_row9_col12\" class=\"data row9 col12\" >0.993877</td>\n",
       "      <td id=\"T_e2607_row9_col13\" class=\"data row9 col13\" >0.990186</td>\n",
       "      <td id=\"T_e2607_row9_col14\" class=\"data row9 col14\" >0.986404</td>\n",
       "      <td id=\"T_e2607_row9_col15\" class=\"data row9 col15\" >0.980900</td>\n",
       "      <td id=\"T_e2607_row9_col16\" class=\"data row9 col16\" >0.975446</td>\n",
       "      <td id=\"T_e2607_row9_col17\" class=\"data row9 col17\" >0.972331</td>\n",
       "    </tr>\n",
       "    <tr>\n",
       "      <th id=\"T_e2607_level0_row10\" class=\"row_heading level0 row10\" >SR3CH27</th>\n",
       "      <td id=\"T_e2607_row10_col0\" class=\"data row10 col0\" >0.429852</td>\n",
       "      <td id=\"T_e2607_row10_col1\" class=\"data row10 col1\" >0.765890</td>\n",
       "      <td id=\"T_e2607_row10_col2\" class=\"data row10 col2\" >0.881540</td>\n",
       "      <td id=\"T_e2607_row10_col3\" class=\"data row10 col3\" >0.920764</td>\n",
       "      <td id=\"T_e2607_row10_col4\" class=\"data row10 col4\" >0.942387</td>\n",
       "      <td id=\"T_e2607_row10_col5\" class=\"data row10 col5\" >0.962175</td>\n",
       "      <td id=\"T_e2607_row10_col6\" class=\"data row10 col6\" >0.980248</td>\n",
       "      <td id=\"T_e2607_row10_col7\" class=\"data row10 col7\" >0.991869</td>\n",
       "      <td id=\"T_e2607_row10_col8\" class=\"data row10 col8\" >0.997089</td>\n",
       "      <td id=\"T_e2607_row10_col9\" class=\"data row10 col9\" >0.999271</td>\n",
       "      <td id=\"T_e2607_row10_col10\" class=\"data row10 col10\" >1.000000</td>\n",
       "      <td id=\"T_e2607_row10_col11\" class=\"data row10 col11\" >0.999166</td>\n",
       "      <td id=\"T_e2607_row10_col12\" class=\"data row10 col12\" >0.997300</td>\n",
       "      <td id=\"T_e2607_row10_col13\" class=\"data row10 col13\" >0.994691</td>\n",
       "      <td id=\"T_e2607_row10_col14\" class=\"data row10 col14\" >0.991796</td>\n",
       "      <td id=\"T_e2607_row10_col15\" class=\"data row10 col15\" >0.987343</td>\n",
       "      <td id=\"T_e2607_row10_col16\" class=\"data row10 col16\" >0.982735</td>\n",
       "      <td id=\"T_e2607_row10_col17\" class=\"data row10 col17\" >0.979993</td>\n",
       "    </tr>\n",
       "    <tr>\n",
       "      <th id=\"T_e2607_level0_row11\" class=\"row_heading level0 row11\" >SR3CM27</th>\n",
       "      <td id=\"T_e2607_row11_col0\" class=\"data row11 col0\" >0.397805</td>\n",
       "      <td id=\"T_e2607_row11_col1\" class=\"data row11 col1\" >0.741647</td>\n",
       "      <td id=\"T_e2607_row11_col2\" class=\"data row11 col2\" >0.863109</td>\n",
       "      <td id=\"T_e2607_row11_col3\" class=\"data row11 col3\" >0.905124</td>\n",
       "      <td id=\"T_e2607_row11_col4\" class=\"data row11 col4\" >0.928679</td>\n",
       "      <td id=\"T_e2607_row11_col5\" class=\"data row11 col5\" >0.950744</td>\n",
       "      <td id=\"T_e2607_row11_col6\" class=\"data row11 col6\" >0.971654</td>\n",
       "      <td id=\"T_e2607_row11_col7\" class=\"data row11 col7\" >0.986021</td>\n",
       "      <td id=\"T_e2607_row11_col8\" class=\"data row11 col8\" >0.993243</td>\n",
       "      <td id=\"T_e2607_row11_col9\" class=\"data row11 col9\" >0.996933</td>\n",
       "      <td id=\"T_e2607_row11_col10\" class=\"data row11 col10\" >0.999166</td>\n",
       "      <td id=\"T_e2607_row11_col11\" class=\"data row11 col11\" >1.000000</td>\n",
       "      <td id=\"T_e2607_row11_col12\" class=\"data row11 col12\" >0.999432</td>\n",
       "      <td id=\"T_e2607_row11_col13\" class=\"data row11 col13\" >0.997984</td>\n",
       "      <td id=\"T_e2607_row11_col14\" class=\"data row11 col14\" >0.996035</td>\n",
       "      <td id=\"T_e2607_row11_col15\" class=\"data row11 col15\" >0.992754</td>\n",
       "      <td id=\"T_e2607_row11_col16\" class=\"data row11 col16\" >0.989100</td>\n",
       "      <td id=\"T_e2607_row11_col17\" class=\"data row11 col17\" >0.986766</td>\n",
       "    </tr>\n",
       "    <tr>\n",
       "      <th id=\"T_e2607_level0_row12\" class=\"row_heading level0 row12\" >SR3CU27</th>\n",
       "      <td id=\"T_e2607_row12_col0\" class=\"data row12 col0\" >0.371305</td>\n",
       "      <td id=\"T_e2607_row12_col1\" class=\"data row12 col1\" >0.721034</td>\n",
       "      <td id=\"T_e2607_row12_col2\" class=\"data row12 col2\" >0.847138</td>\n",
       "      <td id=\"T_e2607_row12_col3\" class=\"data row12 col3\" >0.891445</td>\n",
       "      <td id=\"T_e2607_row12_col4\" class=\"data row12 col4\" >0.916569</td>\n",
       "      <td id=\"T_e2607_row12_col5\" class=\"data row12 col5\" >0.940484</td>\n",
       "      <td id=\"T_e2607_row12_col6\" class=\"data row12 col6\" >0.963648</td>\n",
       "      <td id=\"T_e2607_row12_col7\" class=\"data row12 col7\" >0.980184</td>\n",
       "      <td id=\"T_e2607_row12_col8\" class=\"data row12 col8\" >0.988991</td>\n",
       "      <td id=\"T_e2607_row12_col9\" class=\"data row12 col9\" >0.993877</td>\n",
       "      <td id=\"T_e2607_row12_col10\" class=\"data row12 col10\" >0.997300</td>\n",
       "      <td id=\"T_e2607_row12_col11\" class=\"data row12 col11\" >0.999432</td>\n",
       "      <td id=\"T_e2607_row12_col12\" class=\"data row12 col12\" >1.000000</td>\n",
       "      <td id=\"T_e2607_row12_col13\" class=\"data row12 col13\" >0.999524</td>\n",
       "      <td id=\"T_e2607_row12_col14\" class=\"data row12 col14\" >0.998368</td>\n",
       "      <td id=\"T_e2607_row12_col15\" class=\"data row12 col15\" >0.996050</td>\n",
       "      <td id=\"T_e2607_row12_col16\" class=\"data row12 col16\" >0.993222</td>\n",
       "      <td id=\"T_e2607_row12_col17\" class=\"data row12 col17\" >0.991271</td>\n",
       "    </tr>\n",
       "    <tr>\n",
       "      <th id=\"T_e2607_level0_row13\" class=\"row_heading level0 row13\" >SR3CZ27</th>\n",
       "      <td id=\"T_e2607_row13_col0\" class=\"data row13 col0\" >0.347082</td>\n",
       "      <td id=\"T_e2607_row13_col1\" class=\"data row13 col1\" >0.701795</td>\n",
       "      <td id=\"T_e2607_row13_col2\" class=\"data row13 col2\" >0.831936</td>\n",
       "      <td id=\"T_e2607_row13_col3\" class=\"data row13 col3\" >0.878263</td>\n",
       "      <td id=\"T_e2607_row13_col4\" class=\"data row13 col4\" >0.904811</td>\n",
       "      <td id=\"T_e2607_row13_col5\" class=\"data row13 col5\" >0.930383</td>\n",
       "      <td id=\"T_e2607_row13_col6\" class=\"data row13 col6\" >0.955564</td>\n",
       "      <td id=\"T_e2607_row13_col7\" class=\"data row13 col7\" >0.974015</td>\n",
       "      <td id=\"T_e2607_row13_col8\" class=\"data row13 col8\" >0.984224</td>\n",
       "      <td id=\"T_e2607_row13_col9\" class=\"data row13 col9\" >0.990186</td>\n",
       "      <td id=\"T_e2607_row13_col10\" class=\"data row13 col10\" >0.994691</td>\n",
       "      <td id=\"T_e2607_row13_col11\" class=\"data row13 col11\" >0.997984</td>\n",
       "      <td id=\"T_e2607_row13_col12\" class=\"data row13 col12\" >0.999524</td>\n",
       "      <td id=\"T_e2607_row13_col13\" class=\"data row13 col13\" >1.000000</td>\n",
       "      <td id=\"T_e2607_row13_col14\" class=\"data row13 col14\" >0.999612</td>\n",
       "      <td id=\"T_e2607_row13_col15\" class=\"data row13 col15\" >0.998210</td>\n",
       "      <td id=\"T_e2607_row13_col16\" class=\"data row13 col16\" >0.996168</td>\n",
       "      <td id=\"T_e2607_row13_col17\" class=\"data row13 col17\" >0.994631</td>\n",
       "    </tr>\n",
       "    <tr>\n",
       "      <th id=\"T_e2607_level0_row14\" class=\"row_heading level0 row14\" >SR3CH28</th>\n",
       "      <td id=\"T_e2607_row14_col0\" class=\"data row14 col0\" >0.326502</td>\n",
       "      <td id=\"T_e2607_row14_col1\" class=\"data row14 col1\" >0.685356</td>\n",
       "      <td id=\"T_e2607_row14_col2\" class=\"data row14 col2\" >0.818831</td>\n",
       "      <td id=\"T_e2607_row14_col3\" class=\"data row14 col3\" >0.866827</td>\n",
       "      <td id=\"T_e2607_row14_col4\" class=\"data row14 col4\" >0.894598</td>\n",
       "      <td id=\"T_e2607_row14_col5\" class=\"data row14 col5\" >0.921553</td>\n",
       "      <td id=\"T_e2607_row14_col6\" class=\"data row14 col6\" >0.948343</td>\n",
       "      <td id=\"T_e2607_row14_col7\" class=\"data row14 col7\" >0.968290</td>\n",
       "      <td id=\"T_e2607_row14_col8\" class=\"data row14 col8\" >0.979595</td>\n",
       "      <td id=\"T_e2607_row14_col9\" class=\"data row14 col9\" >0.986404</td>\n",
       "      <td id=\"T_e2607_row14_col10\" class=\"data row14 col10\" >0.991796</td>\n",
       "      <td id=\"T_e2607_row14_col11\" class=\"data row14 col11\" >0.996035</td>\n",
       "      <td id=\"T_e2607_row14_col12\" class=\"data row14 col12\" >0.998368</td>\n",
       "      <td id=\"T_e2607_row14_col13\" class=\"data row14 col13\" >0.999612</td>\n",
       "      <td id=\"T_e2607_row14_col14\" class=\"data row14 col14\" >1.000000</td>\n",
       "      <td id=\"T_e2607_row14_col15\" class=\"data row14 col15\" >0.999450</td>\n",
       "      <td id=\"T_e2607_row14_col16\" class=\"data row14 col16\" >0.998130</td>\n",
       "      <td id=\"T_e2607_row14_col17\" class=\"data row14 col17\" >0.997012</td>\n",
       "    </tr>\n",
       "    <tr>\n",
       "      <th id=\"T_e2607_level0_row15\" class=\"row_heading level0 row15\" >SR3CM28</th>\n",
       "      <td id=\"T_e2607_row15_col0\" class=\"data row15 col0\" >0.299158</td>\n",
       "      <td id=\"T_e2607_row15_col1\" class=\"data row15 col1\" >0.663708</td>\n",
       "      <td id=\"T_e2607_row15_col2\" class=\"data row15 col2\" >0.801621</td>\n",
       "      <td id=\"T_e2607_row15_col3\" class=\"data row15 col3\" >0.851747</td>\n",
       "      <td id=\"T_e2607_row15_col4\" class=\"data row15 col4\" >0.881029</td>\n",
       "      <td id=\"T_e2607_row15_col5\" class=\"data row15 col5\" >0.909707</td>\n",
       "      <td id=\"T_e2607_row15_col6\" class=\"data row15 col6\" >0.938542</td>\n",
       "      <td id=\"T_e2607_row15_col7\" class=\"data row15 col7\" >0.960395</td>\n",
       "      <td id=\"T_e2607_row15_col8\" class=\"data row15 col8\" >0.973070</td>\n",
       "      <td id=\"T_e2607_row15_col9\" class=\"data row15 col9\" >0.980900</td>\n",
       "      <td id=\"T_e2607_row15_col10\" class=\"data row15 col10\" >0.987343</td>\n",
       "      <td id=\"T_e2607_row15_col11\" class=\"data row15 col11\" >0.992754</td>\n",
       "      <td id=\"T_e2607_row15_col12\" class=\"data row15 col12\" >0.996050</td>\n",
       "      <td id=\"T_e2607_row15_col13\" class=\"data row15 col13\" >0.998210</td>\n",
       "      <td id=\"T_e2607_row15_col14\" class=\"data row15 col14\" >0.999450</td>\n",
       "      <td id=\"T_e2607_row15_col15\" class=\"data row15 col15\" >1.000000</td>\n",
       "      <td id=\"T_e2607_row15_col16\" class=\"data row15 col16\" >0.999573</td>\n",
       "      <td id=\"T_e2607_row15_col17\" class=\"data row15 col17\" >0.998931</td>\n",
       "    </tr>\n",
       "    <tr>\n",
       "      <th id=\"T_e2607_level0_row16\" class=\"row_heading level0 row16\" >SR3CU28</th>\n",
       "      <td id=\"T_e2607_row16_col0\" class=\"data row16 col0\" >0.276330</td>\n",
       "      <td id=\"T_e2607_row16_col1\" class=\"data row16 col1\" >0.645292</td>\n",
       "      <td id=\"T_e2607_row16_col2\" class=\"data row16 col2\" >0.786685</td>\n",
       "      <td id=\"T_e2607_row16_col3\" class=\"data row16 col3\" >0.838488</td>\n",
       "      <td id=\"T_e2607_row16_col4\" class=\"data row16 col4\" >0.868980</td>\n",
       "      <td id=\"T_e2607_row16_col5\" class=\"data row16 col5\" >0.899061</td>\n",
       "      <td id=\"T_e2607_row16_col6\" class=\"data row16 col6\" >0.929559</td>\n",
       "      <td id=\"T_e2607_row16_col7\" class=\"data row16 col7\" >0.952975</td>\n",
       "      <td id=\"T_e2607_row16_col8\" class=\"data row16 col8\" >0.966777</td>\n",
       "      <td id=\"T_e2607_row16_col9\" class=\"data row16 col9\" >0.975446</td>\n",
       "      <td id=\"T_e2607_row16_col10\" class=\"data row16 col10\" >0.982735</td>\n",
       "      <td id=\"T_e2607_row16_col11\" class=\"data row16 col11\" >0.989100</td>\n",
       "      <td id=\"T_e2607_row16_col12\" class=\"data row16 col12\" >0.993222</td>\n",
       "      <td id=\"T_e2607_row16_col13\" class=\"data row16 col13\" >0.996168</td>\n",
       "      <td id=\"T_e2607_row16_col14\" class=\"data row16 col14\" >0.998130</td>\n",
       "      <td id=\"T_e2607_row16_col15\" class=\"data row16 col15\" >0.999573</td>\n",
       "      <td id=\"T_e2607_row16_col16\" class=\"data row16 col16\" >1.000000</td>\n",
       "      <td id=\"T_e2607_row16_col17\" class=\"data row16 col17\" >0.999801</td>\n",
       "    </tr>\n",
       "    <tr>\n",
       "      <th id=\"T_e2607_level0_row17\" class=\"row_heading level0 row17\" >SR3CZ28</th>\n",
       "      <td id=\"T_e2607_row17_col0\" class=\"data row17 col0\" >0.266490</td>\n",
       "      <td id=\"T_e2607_row17_col1\" class=\"data row17 col1\" >0.637252</td>\n",
       "      <td id=\"T_e2607_row17_col2\" class=\"data row17 col2\" >0.780057</td>\n",
       "      <td id=\"T_e2607_row17_col3\" class=\"data row17 col3\" >0.832482</td>\n",
       "      <td id=\"T_e2607_row17_col4\" class=\"data row17 col4\" >0.863408</td>\n",
       "      <td id=\"T_e2607_row17_col5\" class=\"data row17 col5\" >0.894002</td>\n",
       "      <td id=\"T_e2607_row17_col6\" class=\"data row17 col6\" >0.925102</td>\n",
       "      <td id=\"T_e2607_row17_col7\" class=\"data row17 col7\" >0.949102</td>\n",
       "      <td id=\"T_e2607_row17_col8\" class=\"data row17 col8\" >0.963334</td>\n",
       "      <td id=\"T_e2607_row17_col9\" class=\"data row17 col9\" >0.972331</td>\n",
       "      <td id=\"T_e2607_row17_col10\" class=\"data row17 col10\" >0.979993</td>\n",
       "      <td id=\"T_e2607_row17_col11\" class=\"data row17 col11\" >0.986766</td>\n",
       "      <td id=\"T_e2607_row17_col12\" class=\"data row17 col12\" >0.991271</td>\n",
       "      <td id=\"T_e2607_row17_col13\" class=\"data row17 col13\" >0.994631</td>\n",
       "      <td id=\"T_e2607_row17_col14\" class=\"data row17 col14\" >0.997012</td>\n",
       "      <td id=\"T_e2607_row17_col15\" class=\"data row17 col15\" >0.998931</td>\n",
       "      <td id=\"T_e2607_row17_col16\" class=\"data row17 col16\" >0.999801</td>\n",
       "      <td id=\"T_e2607_row17_col17\" class=\"data row17 col17\" >1.000000</td>\n",
       "    </tr>\n",
       "  </tbody>\n",
       "</table>\n"
      ],
      "text/plain": [
       "<pandas.io.formats.style.Styler at 0x1d3ffd63620>"
      ]
     },
     "execution_count": 39,
     "metadata": {},
     "output_type": "execute_result"
    }
   ],
   "source": [
    "corr_df = srf_df.set_index(\"Date\").corr()\n",
    "corr_df.style.background_gradient(\n",
    "    sns.diverging_palette(250, 5, as_cmap=True), axis=1\n",
    ").format(precision=6)"
   ]
  },
  {
   "cell_type": "code",
   "execution_count": 43,
   "metadata": {},
   "outputs": [
    {
     "data": {
      "text/plain": [
       "[2]"
      ]
     },
     "execution_count": 43,
     "metadata": {},
     "output_type": "execute_result"
    }
   ],
   "source": [
    "l = [1, 2]\n",
    "l[1:]"
   ]
  },
  {
   "cell_type": "code",
   "execution_count": null,
   "metadata": {},
   "outputs": [],
   "source": []
  }
 ],
 "metadata": {
  "kernelspec": {
   "display_name": "Python 3",
   "language": "python",
   "name": "python3"
  },
  "language_info": {
   "codemirror_mode": {
    "name": "ipython",
    "version": 3
   },
   "file_extension": ".py",
   "mimetype": "text/x-python",
   "name": "python",
   "nbconvert_exporter": "python",
   "pygments_lexer": "ipython3",
   "version": "3.12.1"
  }
 },
 "nbformat": 4,
 "nbformat_minor": 2
}
