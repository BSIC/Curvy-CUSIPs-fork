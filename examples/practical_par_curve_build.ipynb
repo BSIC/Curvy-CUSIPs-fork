{
 "cells": [
  {
   "cell_type": "code",
   "execution_count": 1,
   "metadata": {},
   "outputs": [],
   "source": [
    "import sys\n",
    "import os\n",
    "parent_dir = os.path.abspath(os.path.join(os.getcwd(), os.pardir))\n",
    "sys.path.insert(0, parent_dir)\n",
    "\n",
    "import numpy as np\n",
    "import plotly.graph_objects as go\n",
    "import plotly.express as px\n",
    "from datetime import datetime\n",
    "\n",
    "from CurveDataFetcher import CurveDataFetcher\n",
    "from CurveBuilder import get_spot_rates_fitter, reprice_bonds\n",
    "\n",
    "import nest_asyncio\n",
    "nest_asyncio.apply()\n",
    "\n",
    "%load_ext autoreload\n",
    "%autoreload 2"
   ]
  },
  {
   "cell_type": "code",
   "execution_count": 2,
   "metadata": {},
   "outputs": [],
   "source": [
    "curve_data_fetcher = CurveDataFetcher(use_ust_issue_date=True, debug_verbose=True)"
   ]
  },
  {
   "cell_type": "code",
   "execution_count": 13,
   "metadata": {},
   "outputs": [
    {
     "data": {
      "text/html": [
       "<div>\n",
       "<style scoped>\n",
       "    .dataframe tbody tr th:only-of-type {\n",
       "        vertical-align: middle;\n",
       "    }\n",
       "\n",
       "    .dataframe tbody tr th {\n",
       "        vertical-align: top;\n",
       "    }\n",
       "\n",
       "    .dataframe thead th {\n",
       "        text-align: right;\n",
       "    }\n",
       "</style>\n",
       "<table border=\"1\" class=\"dataframe\">\n",
       "  <thead>\n",
       "    <tr style=\"text-align: right;\">\n",
       "      <th></th>\n",
       "      <th>cusip</th>\n",
       "      <th>security_type</th>\n",
       "      <th>auction_date</th>\n",
       "      <th>issue_date</th>\n",
       "      <th>maturity_date</th>\n",
       "      <th>time_to_maturity</th>\n",
       "      <th>int_rate</th>\n",
       "      <th>high_investment_rate</th>\n",
       "      <th>is_on_the_run</th>\n",
       "      <th>label</th>\n",
       "      <th>security_term</th>\n",
       "      <th>original_security_term</th>\n",
       "      <th>corpus_cusip</th>\n",
       "      <th>bid_price</th>\n",
       "      <th>bid_yield</th>\n",
       "      <th>rank</th>\n",
       "    </tr>\n",
       "  </thead>\n",
       "  <tbody>\n",
       "    <tr>\n",
       "      <th>0</th>\n",
       "      <td>912797LA3</td>\n",
       "      <td>Bill</td>\n",
       "      <td>2024-08-01</td>\n",
       "      <td>2024-08-06</td>\n",
       "      <td>2024-09-03</td>\n",
       "      <td>0.013699</td>\n",
       "      <td>NaN</td>\n",
       "      <td>5.381000</td>\n",
       "      <td>False</td>\n",
       "      <td>Sep 24s, 17-Week</td>\n",
       "      <td>4-Week</td>\n",
       "      <td>17-Week</td>\n",
       "      <td>NaN</td>\n",
       "      <td>99.898500</td>\n",
       "      <td>9.564397</td>\n",
       "      <td>16.0</td>\n",
       "    </tr>\n",
       "    <tr>\n",
       "      <th>1</th>\n",
       "      <td>912797LG0</td>\n",
       "      <td>Bill</td>\n",
       "      <td>2024-08-08</td>\n",
       "      <td>2024-08-13</td>\n",
       "      <td>2024-09-10</td>\n",
       "      <td>0.032877</td>\n",
       "      <td>NaN</td>\n",
       "      <td>5.381000</td>\n",
       "      <td>False</td>\n",
       "      <td>Sep 24s, 17-Week</td>\n",
       "      <td>4-Week</td>\n",
       "      <td>17-Week</td>\n",
       "      <td>NaN</td>\n",
       "      <td>99.795444</td>\n",
       "      <td>6.969006</td>\n",
       "      <td>15.0</td>\n",
       "    </tr>\n",
       "    <tr>\n",
       "      <th>2</th>\n",
       "      <td>912797LH8</td>\n",
       "      <td>Bill</td>\n",
       "      <td>2024-08-15</td>\n",
       "      <td>2024-08-20</td>\n",
       "      <td>2024-09-17</td>\n",
       "      <td>0.052055</td>\n",
       "      <td>NaN</td>\n",
       "      <td>5.355000</td>\n",
       "      <td>False</td>\n",
       "      <td>Sep 24s, 17-Week</td>\n",
       "      <td>4-Week</td>\n",
       "      <td>17-Week</td>\n",
       "      <td>NaN</td>\n",
       "      <td>99.693750</td>\n",
       "      <td>6.370058</td>\n",
       "      <td>14.0</td>\n",
       "    </tr>\n",
       "    <tr>\n",
       "      <th>3</th>\n",
       "      <td>912797LJ4</td>\n",
       "      <td>Bill</td>\n",
       "      <td>2024-08-22</td>\n",
       "      <td>2024-08-27</td>\n",
       "      <td>2024-09-24</td>\n",
       "      <td>0.071233</td>\n",
       "      <td>NaN</td>\n",
       "      <td>5.335000</td>\n",
       "      <td>True</td>\n",
       "      <td>Sep 24s, 17-Week</td>\n",
       "      <td>4-Week</td>\n",
       "      <td>17-Week</td>\n",
       "      <td>NaN</td>\n",
       "      <td>99.592444</td>\n",
       "      <td>6.102740</td>\n",
       "      <td>13.0</td>\n",
       "    </tr>\n",
       "    <tr>\n",
       "      <th>4</th>\n",
       "      <td>912797LK1</td>\n",
       "      <td>Bill</td>\n",
       "      <td>2024-08-01</td>\n",
       "      <td>2024-08-06</td>\n",
       "      <td>2024-10-01</td>\n",
       "      <td>0.090411</td>\n",
       "      <td>NaN</td>\n",
       "      <td>5.346000</td>\n",
       "      <td>False</td>\n",
       "      <td>Oct 24s, 17-Week</td>\n",
       "      <td>8-Week</td>\n",
       "      <td>17-Week</td>\n",
       "      <td>NaN</td>\n",
       "      <td>99.497361</td>\n",
       "      <td>5.847277</td>\n",
       "      <td>12.0</td>\n",
       "    </tr>\n",
       "    <tr>\n",
       "      <th>...</th>\n",
       "      <td>...</td>\n",
       "      <td>...</td>\n",
       "      <td>...</td>\n",
       "      <td>...</td>\n",
       "      <td>...</td>\n",
       "      <td>...</td>\n",
       "      <td>...</td>\n",
       "      <td>...</td>\n",
       "      <td>...</td>\n",
       "      <td>...</td>\n",
       "      <td>...</td>\n",
       "      <td>...</td>\n",
       "      <td>...</td>\n",
       "      <td>...</td>\n",
       "      <td>...</td>\n",
       "      <td>...</td>\n",
       "    </tr>\n",
       "    <tr>\n",
       "      <th>388</th>\n",
       "      <td>912810TT5</td>\n",
       "      <td>Bond</td>\n",
       "      <td>2023-10-12</td>\n",
       "      <td>2023-10-16</td>\n",
       "      <td>2053-08-15</td>\n",
       "      <td>28.980822</td>\n",
       "      <td>4.125</td>\n",
       "      <td>NaN</td>\n",
       "      <td>False</td>\n",
       "      <td>Aug 53s, 30-Year</td>\n",
       "      <td>29-Year 10-Month</td>\n",
       "      <td>30-Year</td>\n",
       "      <td>912803GU1</td>\n",
       "      <td>99.375000</td>\n",
       "      <td>4.162151</td>\n",
       "      <td>4.0</td>\n",
       "    </tr>\n",
       "    <tr>\n",
       "      <th>389</th>\n",
       "      <td>912810TV0</td>\n",
       "      <td>Bond</td>\n",
       "      <td>2024-01-11</td>\n",
       "      <td>2024-01-16</td>\n",
       "      <td>2053-11-15</td>\n",
       "      <td>29.232877</td>\n",
       "      <td>4.750</td>\n",
       "      <td>NaN</td>\n",
       "      <td>False</td>\n",
       "      <td>Nov 53s, 30-Year</td>\n",
       "      <td>29-Year 10-Month</td>\n",
       "      <td>30-Year</td>\n",
       "      <td>912803GW7</td>\n",
       "      <td>110.187500</td>\n",
       "      <td>4.144628</td>\n",
       "      <td>3.0</td>\n",
       "    </tr>\n",
       "    <tr>\n",
       "      <th>390</th>\n",
       "      <td>912810TX6</td>\n",
       "      <td>Bond</td>\n",
       "      <td>2024-04-11</td>\n",
       "      <td>2024-04-15</td>\n",
       "      <td>2054-02-15</td>\n",
       "      <td>29.484932</td>\n",
       "      <td>4.250</td>\n",
       "      <td>NaN</td>\n",
       "      <td>False</td>\n",
       "      <td>Feb 54s, 30-Year</td>\n",
       "      <td>29-Year 10-Month</td>\n",
       "      <td>30-Year</td>\n",
       "      <td>912803GY3</td>\n",
       "      <td>101.562500</td>\n",
       "      <td>4.157334</td>\n",
       "      <td>2.0</td>\n",
       "    </tr>\n",
       "    <tr>\n",
       "      <th>391</th>\n",
       "      <td>912810UA4</td>\n",
       "      <td>Bond</td>\n",
       "      <td>2024-07-11</td>\n",
       "      <td>2024-07-15</td>\n",
       "      <td>2054-05-15</td>\n",
       "      <td>29.728767</td>\n",
       "      <td>4.625</td>\n",
       "      <td>NaN</td>\n",
       "      <td>False</td>\n",
       "      <td>May 54s, 30-Year</td>\n",
       "      <td>29-Year 10-Month</td>\n",
       "      <td>30-Year</td>\n",
       "      <td>912803HB2</td>\n",
       "      <td>108.156250</td>\n",
       "      <td>4.144435</td>\n",
       "      <td>1.0</td>\n",
       "    </tr>\n",
       "    <tr>\n",
       "      <th>392</th>\n",
       "      <td>912810UC0</td>\n",
       "      <td>Bond</td>\n",
       "      <td>2024-08-08</td>\n",
       "      <td>2024-08-15</td>\n",
       "      <td>2054-08-15</td>\n",
       "      <td>29.980822</td>\n",
       "      <td>4.250</td>\n",
       "      <td>NaN</td>\n",
       "      <td>True</td>\n",
       "      <td>Aug 54s, 30-Year</td>\n",
       "      <td>30-Year</td>\n",
       "      <td>30-Year</td>\n",
       "      <td>912803HD8</td>\n",
       "      <td>101.875000</td>\n",
       "      <td>4.140019</td>\n",
       "      <td>0.0</td>\n",
       "    </tr>\n",
       "  </tbody>\n",
       "</table>\n",
       "<p>393 rows × 16 columns</p>\n",
       "</div>"
      ],
      "text/plain": [
       "         cusip security_type auction_date issue_date maturity_date  \\\n",
       "0    912797LA3          Bill   2024-08-01 2024-08-06    2024-09-03   \n",
       "1    912797LG0          Bill   2024-08-08 2024-08-13    2024-09-10   \n",
       "2    912797LH8          Bill   2024-08-15 2024-08-20    2024-09-17   \n",
       "3    912797LJ4          Bill   2024-08-22 2024-08-27    2024-09-24   \n",
       "4    912797LK1          Bill   2024-08-01 2024-08-06    2024-10-01   \n",
       "..         ...           ...          ...        ...           ...   \n",
       "388  912810TT5          Bond   2023-10-12 2023-10-16    2053-08-15   \n",
       "389  912810TV0          Bond   2024-01-11 2024-01-16    2053-11-15   \n",
       "390  912810TX6          Bond   2024-04-11 2024-04-15    2054-02-15   \n",
       "391  912810UA4          Bond   2024-07-11 2024-07-15    2054-05-15   \n",
       "392  912810UC0          Bond   2024-08-08 2024-08-15    2054-08-15   \n",
       "\n",
       "     time_to_maturity  int_rate high_investment_rate  is_on_the_run  \\\n",
       "0            0.013699       NaN             5.381000          False   \n",
       "1            0.032877       NaN             5.381000          False   \n",
       "2            0.052055       NaN             5.355000          False   \n",
       "3            0.071233       NaN             5.335000           True   \n",
       "4            0.090411       NaN             5.346000          False   \n",
       "..                ...       ...                  ...            ...   \n",
       "388         28.980822     4.125                  NaN          False   \n",
       "389         29.232877     4.750                  NaN          False   \n",
       "390         29.484932     4.250                  NaN          False   \n",
       "391         29.728767     4.625                  NaN          False   \n",
       "392         29.980822     4.250                  NaN           True   \n",
       "\n",
       "                label     security_term original_security_term corpus_cusip  \\\n",
       "0    Sep 24s, 17-Week            4-Week                17-Week          NaN   \n",
       "1    Sep 24s, 17-Week            4-Week                17-Week          NaN   \n",
       "2    Sep 24s, 17-Week            4-Week                17-Week          NaN   \n",
       "3    Sep 24s, 17-Week            4-Week                17-Week          NaN   \n",
       "4    Oct 24s, 17-Week            8-Week                17-Week          NaN   \n",
       "..                ...               ...                    ...          ...   \n",
       "388  Aug 53s, 30-Year  29-Year 10-Month                30-Year    912803GU1   \n",
       "389  Nov 53s, 30-Year  29-Year 10-Month                30-Year    912803GW7   \n",
       "390  Feb 54s, 30-Year  29-Year 10-Month                30-Year    912803GY3   \n",
       "391  May 54s, 30-Year  29-Year 10-Month                30-Year    912803HB2   \n",
       "392  Aug 54s, 30-Year           30-Year                30-Year    912803HD8   \n",
       "\n",
       "      bid_price  bid_yield  rank  \n",
       "0     99.898500   9.564397  16.0  \n",
       "1     99.795444   6.969006  15.0  \n",
       "2     99.693750   6.370058  14.0  \n",
       "3     99.592444   6.102740  13.0  \n",
       "4     99.497361   5.847277  12.0  \n",
       "..          ...        ...   ...  \n",
       "388   99.375000   4.162151   4.0  \n",
       "389  110.187500   4.144628   3.0  \n",
       "390  101.562500   4.157334   2.0  \n",
       "391  108.156250   4.144435   1.0  \n",
       "392  101.875000   4.140019   0.0  \n",
       "\n",
       "[393 rows x 16 columns]"
      ]
     },
     "execution_count": 13,
     "metadata": {},
     "output_type": "execute_result"
    }
   ],
   "source": [
    "as_of_date = datetime(2024, 8, 29)\n",
    "quote_type = \"bid\"\n",
    "\n",
    "curve_set_df = curve_data_fetcher.build_curve_set(\n",
    "    as_of_date=as_of_date,\n",
    "    sorted=True, \n",
    "    use_github=True, \n",
    "    # use_public_dotcom=True,\n",
    "    include_off_the_run_number=True,\n",
    "    market_cols_to_return=[f\"{quote_type}_price\", f\"{quote_type}_yield\"],\n",
    "    # calc_free_float=True,\n",
    ")\n",
    "curve_set_df\n",
    "# # remove OTRs and first off the runs due to liquidity premium\n",
    "# filtered_curve_set_df = curve_set_df[(curve_set_df[\"rank\"] != 0) & (curve_set_df[\"rank\"] != 1)]\n",
    "\n",
    "# # remove TBills\n",
    "# filtered_curve_set_df = filtered_curve_set_df[\n",
    "#     filtered_curve_set_df[\"security_type\"] != \"Bill\"\n",
    "# ]\n",
    "\n",
    "# # remove low free float bonds (< $8bn)\n",
    "# filtered_curve_set_df = filtered_curve_set_df[filtered_curve_set_df[\"free_float\"] > 8000] \n",
    "\n",
    "# # filter bonds very close to maturity\n",
    "# filtered_curve_set_df = filtered_curve_set_df[filtered_curve_set_df[\"time_to_maturity\"] > 0.25] \n",
    "\n",
    "# # remove CTDs (this is a TODO)\n",
    "# # filtered_curve_set_df = filtered_curve_set_df[filtered_curve_set_df[\"is_ctd\"] == False] \n",
    "\n",
    "# filtered_curve_set_df"
   ]
  },
  {
   "cell_type": "code",
   "execution_count": 42,
   "metadata": {},
   "outputs": [],
   "source": [
    "t2 = np.linspace(1/365, 30, 1000)\n",
    "\n",
    "# fitted_zero_curve_func_ns, status_ns = calibrate_ns_ols(\n",
    "#     filtered_curve_set_df[\"time_to_maturity\"].to_numpy(),\n",
    "#     filtered_curve_set_df[f\"{quote_type}_yield\"].to_numpy(),\n",
    "# )\n",
    "# assert status_ns\n",
    "\n",
    "# fitted_zero_curve_func_nss, status_nss, lstsq_res_nss = calibrate_nss_ols(\n",
    "#     filtered_curve_set_df[\"time_to_maturity\"].to_numpy(),\n",
    "#     filtered_curve_set_df[f\"{quote_type}_yield\"].to_numpy(),\n",
    "#     tau0=(1, 3.5)\n",
    "# )\n",
    "# assert status_nss\n",
    "\n",
    "# print(status_nss)\n",
    "# print(lstsq_res_nss)\n",
    "\n",
    "# fitted_zero_curve_func_dl, status_dl = calibrate_diebold_li_ols(\n",
    "#     filtered_curve_set_df[\"time_to_maturity\"].to_numpy(),\n",
    "#     filtered_curve_set_df[f\"{quote_type}_yield\"].to_numpy(),\n",
    "# )\n",
    "\n",
    "# fitted_zero_curve_func_bc, status_bc = calibrate_bc_ols(\n",
    "#     np.concatenate((np.array([1/365]), filtered_curve_set_df[\"time_to_maturity\"].to_numpy())),\n",
    "#     np.concatenate((np.array([5.31]), filtered_curve_set_df[f\"{quote_type}_yield\"].to_numpy())),\n",
    "# )\n",
    "\n",
    "# fitted_zero_curve_func_aug_bc, status_aug_bc = calibrate_bc_augmented_ols(\n",
    "#     np.concatenate((np.array([1/365]), filtered_curve_set_df[\"time_to_maturity\"].to_numpy())),\n",
    "#     np.concatenate((np.array([5.31]), filtered_curve_set_df[f\"{quote_type}_yield\"].to_numpy())),\n",
    "# )\n",
    "\n",
    "# filtered_curve_set_mles_func, status_mles = calibrate_mles_ols(\n",
    "#     filtered_curve_set_df[\"time_to_maturity\"].to_numpy(),\n",
    "#     filtered_curve_set_df[f\"{quote_type}_yield\"].to_numpy(),\n",
    "#     overnight_rate=5.31,\n",
    "#     N=6\n",
    "# )\n",
    "\n",
    "\n",
    "fitted_zero_curve_dict = get_spot_rates_fitter(\n",
    "    curve_set_df=filtered_curve_set_df,\n",
    "    as_of_date=as_of_date,\n",
    "    on_rate=5.35,\n",
    "    # ql_fitting_methods=[\"ql_f_ns\", \"ql_f_nss\", \"ql_f_es\", \"ql_f_sp\", \"ql_f_cbs\"],\n",
    "    ql_fitting_methods=[\"ql_f_cbs\"],\n",
    "    ql_zero_curve_interp_method=\"ql_z_interp_monot_cubic\",\n",
    "    daily_interpolation=True,\n",
    "    # simple_poly=3,\n",
    "    knots=[-20, -10, -5, 0, 1, 2, 3, 5, 7, 10, 15, 20, 25, 30, 35, 40, 45, 50]\n",
    ")"
   ]
  },
  {
   "cell_type": "code",
   "execution_count": 44,
   "metadata": {},
   "outputs": [
    {
     "name": "stdout",
     "output_type": "stream",
     "text": [
      "91282CFG1 degenerate single date (August 30th, 2024) schedule\n",
      " seed date: August 31st, 2024\n",
      " exit date: August 30th, 2024\n",
      " effective date: August 30th, 2024\n",
      " first date: null date\n",
      " next to last date: null date\n",
      " termination date: August 31st, 2024\n",
      " generation rule: Backward\n",
      " end of month: 0\n",
      "912828YE4 degenerate single date (August 30th, 2024) schedule\n",
      " seed date: August 31st, 2024\n",
      " exit date: August 30th, 2024\n",
      " effective date: August 30th, 2024\n",
      " first date: null date\n",
      " next to last date: null date\n",
      " termination date: August 31st, 2024\n",
      " generation rule: Backward\n",
      " end of month: 0\n",
      "9128282U3 degenerate single date (August 30th, 2024) schedule\n",
      " seed date: August 31st, 2024\n",
      " exit date: August 30th, 2024\n",
      " effective date: August 30th, 2024\n",
      " first date: null date\n",
      " next to last date: null date\n",
      " termination date: August 31st, 2024\n",
      " generation rule: Backward\n",
      " end of month: 0\n"
     ]
    },
    {
     "data": {
      "text/html": [
       "<div>\n",
       "<style scoped>\n",
       "    .dataframe tbody tr th:only-of-type {\n",
       "        vertical-align: middle;\n",
       "    }\n",
       "\n",
       "    .dataframe tbody tr th {\n",
       "        vertical-align: top;\n",
       "    }\n",
       "\n",
       "    .dataframe thead th {\n",
       "        text-align: right;\n",
       "    }\n",
       "</style>\n",
       "<table border=\"1\" class=\"dataframe\">\n",
       "  <thead>\n",
       "    <tr style=\"text-align: right;\">\n",
       "      <th></th>\n",
       "      <th>cusip</th>\n",
       "      <th>label</th>\n",
       "      <th>issue_date</th>\n",
       "      <th>maturity_date</th>\n",
       "      <th>time_to_maturity</th>\n",
       "      <th>high_investment_rate</th>\n",
       "      <th>int_rate</th>\n",
       "      <th>rank</th>\n",
       "      <th>outstanding</th>\n",
       "      <th>soma_holdings</th>\n",
       "      <th>stripping_amount</th>\n",
       "      <th>free_float</th>\n",
       "      <th>eod_yield</th>\n",
       "      <th>eod_price</th>\n",
       "      <th>accured</th>\n",
       "      <th>cbs_repriced_npv</th>\n",
       "      <th>cbs_repriced_ytm</th>\n",
       "      <th>cbs_price_spread</th>\n",
       "      <th>cbs_ytm_spread</th>\n",
       "    </tr>\n",
       "  </thead>\n",
       "  <tbody>\n",
       "    <tr>\n",
       "      <th>0</th>\n",
       "      <td>912797LA3</td>\n",
       "      <td>Sep 24s, 17-Week</td>\n",
       "      <td>2024-08-06</td>\n",
       "      <td>2024-09-03</td>\n",
       "      <td>0.013699</td>\n",
       "      <td>5.381000</td>\n",
       "      <td>NaN</td>\n",
       "      <td>16.0</td>\n",
       "      <td>0.000000e+00</td>\n",
       "      <td>6.784389e+08</td>\n",
       "      <td>0.000000e+00</td>\n",
       "      <td>-678.4389</td>\n",
       "      <td>8.185950</td>\n",
       "      <td>99.912833</td>\n",
       "      <td>0.000000</td>\n",
       "      <td>99.940883</td>\n",
       "      <td>5.484660</td>\n",
       "      <td>-0.028050</td>\n",
       "      <td>270.129012</td>\n",
       "    </tr>\n",
       "    <tr>\n",
       "      <th>1</th>\n",
       "      <td>912797LG0</td>\n",
       "      <td>Sep 24s, 17-Week</td>\n",
       "      <td>2024-08-13</td>\n",
       "      <td>2024-09-10</td>\n",
       "      <td>0.032877</td>\n",
       "      <td>5.381000</td>\n",
       "      <td>NaN</td>\n",
       "      <td>15.0</td>\n",
       "      <td>0.000000e+00</td>\n",
       "      <td>6.873750e+08</td>\n",
       "      <td>0.000000e+00</td>\n",
       "      <td>-687.3750</td>\n",
       "      <td>6.475281</td>\n",
       "      <td>99.809694</td>\n",
       "      <td>0.000000</td>\n",
       "      <td>99.838340</td>\n",
       "      <td>5.456338</td>\n",
       "      <td>-0.028646</td>\n",
       "      <td>101.894268</td>\n",
       "    </tr>\n",
       "    <tr>\n",
       "      <th>2</th>\n",
       "      <td>912797LH8</td>\n",
       "      <td>Sep 24s, 17-Week</td>\n",
       "      <td>2024-08-20</td>\n",
       "      <td>2024-09-17</td>\n",
       "      <td>0.052055</td>\n",
       "      <td>5.355000</td>\n",
       "      <td>NaN</td>\n",
       "      <td>14.0</td>\n",
       "      <td>0.000000e+00</td>\n",
       "      <td>7.210193e+08</td>\n",
       "      <td>0.000000e+00</td>\n",
       "      <td>-721.0193</td>\n",
       "      <td>6.061729</td>\n",
       "      <td>99.708333</td>\n",
       "      <td>0.000000</td>\n",
       "      <td>99.736941</td>\n",
       "      <td>5.428264</td>\n",
       "      <td>-0.028608</td>\n",
       "      <td>63.346553</td>\n",
       "    </tr>\n",
       "    <tr>\n",
       "      <th>3</th>\n",
       "      <td>912797LJ4</td>\n",
       "      <td>Sep 24s, 17-Week</td>\n",
       "      <td>2024-08-27</td>\n",
       "      <td>2024-09-24</td>\n",
       "      <td>0.071233</td>\n",
       "      <td>5.335000</td>\n",
       "      <td>NaN</td>\n",
       "      <td>13.0</td>\n",
       "      <td>0.000000e+00</td>\n",
       "      <td>7.426366e+08</td>\n",
       "      <td>0.000000e+00</td>\n",
       "      <td>-742.6366</td>\n",
       "      <td>5.881169</td>\n",
       "      <td>99.607000</td>\n",
       "      <td>0.000000</td>\n",
       "      <td>99.636671</td>\n",
       "      <td>5.400441</td>\n",
       "      <td>-0.029671</td>\n",
       "      <td>48.072789</td>\n",
       "    </tr>\n",
       "    <tr>\n",
       "      <th>4</th>\n",
       "      <td>912797LK1</td>\n",
       "      <td>Oct 24s, 17-Week</td>\n",
       "      <td>2024-08-06</td>\n",
       "      <td>2024-10-01</td>\n",
       "      <td>0.090411</td>\n",
       "      <td>5.346000</td>\n",
       "      <td>NaN</td>\n",
       "      <td>12.0</td>\n",
       "      <td>0.000000e+00</td>\n",
       "      <td>5.076268e+08</td>\n",
       "      <td>0.000000e+00</td>\n",
       "      <td>-507.6268</td>\n",
       "      <td>5.688607</td>\n",
       "      <td>99.510778</td>\n",
       "      <td>0.000000</td>\n",
       "      <td>99.537513</td>\n",
       "      <td>5.372870</td>\n",
       "      <td>-0.026735</td>\n",
       "      <td>31.573672</td>\n",
       "    </tr>\n",
       "    <tr>\n",
       "      <th>...</th>\n",
       "      <td>...</td>\n",
       "      <td>...</td>\n",
       "      <td>...</td>\n",
       "      <td>...</td>\n",
       "      <td>...</td>\n",
       "      <td>...</td>\n",
       "      <td>...</td>\n",
       "      <td>...</td>\n",
       "      <td>...</td>\n",
       "      <td>...</td>\n",
       "      <td>...</td>\n",
       "      <td>...</td>\n",
       "      <td>...</td>\n",
       "      <td>...</td>\n",
       "      <td>...</td>\n",
       "      <td>...</td>\n",
       "      <td>...</td>\n",
       "      <td>...</td>\n",
       "      <td>...</td>\n",
       "    </tr>\n",
       "    <tr>\n",
       "      <th>385</th>\n",
       "      <td>912810TT5</td>\n",
       "      <td>Aug 53s, 30-Year</td>\n",
       "      <td>2023-10-16</td>\n",
       "      <td>2053-08-15</td>\n",
       "      <td>28.980822</td>\n",
       "      <td>NaN</td>\n",
       "      <td>4.125</td>\n",
       "      <td>4.0</td>\n",
       "      <td>7.157430e+10</td>\n",
       "      <td>8.606596e+09</td>\n",
       "      <td>1.077172e+10</td>\n",
       "      <td>52195.9878</td>\n",
       "      <td>4.150915</td>\n",
       "      <td>99.562500</td>\n",
       "      <td>0.168139</td>\n",
       "      <td>99.569309</td>\n",
       "      <td>4.150783</td>\n",
       "      <td>0.161329</td>\n",
       "      <td>0.013202</td>\n",
       "    </tr>\n",
       "    <tr>\n",
       "      <th>386</th>\n",
       "      <td>912810TV0</td>\n",
       "      <td>Nov 53s, 30-Year</td>\n",
       "      <td>2024-01-16</td>\n",
       "      <td>2053-11-15</td>\n",
       "      <td>29.232877</td>\n",
       "      <td>NaN</td>\n",
       "      <td>4.750</td>\n",
       "      <td>3.0</td>\n",
       "      <td>6.644364e+10</td>\n",
       "      <td>4.567153e+08</td>\n",
       "      <td>8.677531e+09</td>\n",
       "      <td>57309.3986</td>\n",
       "      <td>4.132526</td>\n",
       "      <td>110.406250</td>\n",
       "      <td>1.381114</td>\n",
       "      <td>110.292308</td>\n",
       "      <td>4.139850</td>\n",
       "      <td>1.495056</td>\n",
       "      <td>-0.732394</td>\n",
       "    </tr>\n",
       "    <tr>\n",
       "      <th>387</th>\n",
       "      <td>912810TX6</td>\n",
       "      <td>Feb 54s, 30-Year</td>\n",
       "      <td>2024-04-15</td>\n",
       "      <td>2054-02-15</td>\n",
       "      <td>29.484932</td>\n",
       "      <td>NaN</td>\n",
       "      <td>4.250</td>\n",
       "      <td>2.0</td>\n",
       "      <td>7.119879e+10</td>\n",
       "      <td>2.211754e+09</td>\n",
       "      <td>1.127392e+10</td>\n",
       "      <td>57713.1192</td>\n",
       "      <td>4.142725</td>\n",
       "      <td>101.812500</td>\n",
       "      <td>0.173234</td>\n",
       "      <td>102.047749</td>\n",
       "      <td>4.129307</td>\n",
       "      <td>-0.062016</td>\n",
       "      <td>1.341796</td>\n",
       "    </tr>\n",
       "    <tr>\n",
       "      <th>388</th>\n",
       "      <td>912810UA4</td>\n",
       "      <td>May 54s, 30-Year</td>\n",
       "      <td>2024-07-15</td>\n",
       "      <td>2054-05-15</td>\n",
       "      <td>29.728767</td>\n",
       "      <td>NaN</td>\n",
       "      <td>4.625</td>\n",
       "      <td>1.0</td>\n",
       "      <td>7.642080e+10</td>\n",
       "      <td>7.428279e+09</td>\n",
       "      <td>5.191628e+09</td>\n",
       "      <td>63800.8965</td>\n",
       "      <td>4.132281</td>\n",
       "      <td>108.375000</td>\n",
       "      <td>0.578125</td>\n",
       "      <td>108.632498</td>\n",
       "      <td>4.118931</td>\n",
       "      <td>0.320627</td>\n",
       "      <td>1.334967</td>\n",
       "    </tr>\n",
       "    <tr>\n",
       "      <th>389</th>\n",
       "      <td>912810UC0</td>\n",
       "      <td>Aug 54s, 30-Year</td>\n",
       "      <td>2024-08-15</td>\n",
       "      <td>2054-08-15</td>\n",
       "      <td>29.980822</td>\n",
       "      <td>NaN</td>\n",
       "      <td>4.250</td>\n",
       "      <td>0.0</td>\n",
       "      <td>0.000000e+00</td>\n",
       "      <td>4.754383e+09</td>\n",
       "      <td>0.000000e+00</td>\n",
       "      <td>-4754.3829</td>\n",
       "      <td>4.127397</td>\n",
       "      <td>102.093750</td>\n",
       "      <td>0.173234</td>\n",
       "      <td>102.460730</td>\n",
       "      <td>4.106579</td>\n",
       "      <td>-0.193746</td>\n",
       "      <td>2.081748</td>\n",
       "    </tr>\n",
       "  </tbody>\n",
       "</table>\n",
       "<p>390 rows × 19 columns</p>\n",
       "</div>"
      ],
      "text/plain": [
       "         cusip             label issue_date maturity_date  time_to_maturity  \\\n",
       "0    912797LA3  Sep 24s, 17-Week 2024-08-06    2024-09-03          0.013699   \n",
       "1    912797LG0  Sep 24s, 17-Week 2024-08-13    2024-09-10          0.032877   \n",
       "2    912797LH8  Sep 24s, 17-Week 2024-08-20    2024-09-17          0.052055   \n",
       "3    912797LJ4  Sep 24s, 17-Week 2024-08-27    2024-09-24          0.071233   \n",
       "4    912797LK1  Oct 24s, 17-Week 2024-08-06    2024-10-01          0.090411   \n",
       "..         ...               ...        ...           ...               ...   \n",
       "385  912810TT5  Aug 53s, 30-Year 2023-10-16    2053-08-15         28.980822   \n",
       "386  912810TV0  Nov 53s, 30-Year 2024-01-16    2053-11-15         29.232877   \n",
       "387  912810TX6  Feb 54s, 30-Year 2024-04-15    2054-02-15         29.484932   \n",
       "388  912810UA4  May 54s, 30-Year 2024-07-15    2054-05-15         29.728767   \n",
       "389  912810UC0  Aug 54s, 30-Year 2024-08-15    2054-08-15         29.980822   \n",
       "\n",
       "    high_investment_rate  int_rate  rank   outstanding  soma_holdings  \\\n",
       "0               5.381000       NaN  16.0  0.000000e+00   6.784389e+08   \n",
       "1               5.381000       NaN  15.0  0.000000e+00   6.873750e+08   \n",
       "2               5.355000       NaN  14.0  0.000000e+00   7.210193e+08   \n",
       "3               5.335000       NaN  13.0  0.000000e+00   7.426366e+08   \n",
       "4               5.346000       NaN  12.0  0.000000e+00   5.076268e+08   \n",
       "..                   ...       ...   ...           ...            ...   \n",
       "385                  NaN     4.125   4.0  7.157430e+10   8.606596e+09   \n",
       "386                  NaN     4.750   3.0  6.644364e+10   4.567153e+08   \n",
       "387                  NaN     4.250   2.0  7.119879e+10   2.211754e+09   \n",
       "388                  NaN     4.625   1.0  7.642080e+10   7.428279e+09   \n",
       "389                  NaN     4.250   0.0  0.000000e+00   4.754383e+09   \n",
       "\n",
       "     stripping_amount  free_float  eod_yield   eod_price   accured  \\\n",
       "0        0.000000e+00   -678.4389   8.185950   99.912833  0.000000   \n",
       "1        0.000000e+00   -687.3750   6.475281   99.809694  0.000000   \n",
       "2        0.000000e+00   -721.0193   6.061729   99.708333  0.000000   \n",
       "3        0.000000e+00   -742.6366   5.881169   99.607000  0.000000   \n",
       "4        0.000000e+00   -507.6268   5.688607   99.510778  0.000000   \n",
       "..                ...         ...        ...         ...       ...   \n",
       "385      1.077172e+10  52195.9878   4.150915   99.562500  0.168139   \n",
       "386      8.677531e+09  57309.3986   4.132526  110.406250  1.381114   \n",
       "387      1.127392e+10  57713.1192   4.142725  101.812500  0.173234   \n",
       "388      5.191628e+09  63800.8965   4.132281  108.375000  0.578125   \n",
       "389      0.000000e+00  -4754.3829   4.127397  102.093750  0.173234   \n",
       "\n",
       "     cbs_repriced_npv  cbs_repriced_ytm  cbs_price_spread  cbs_ytm_spread  \n",
       "0           99.940883          5.484660         -0.028050      270.129012  \n",
       "1           99.838340          5.456338         -0.028646      101.894268  \n",
       "2           99.736941          5.428264         -0.028608       63.346553  \n",
       "3           99.636671          5.400441         -0.029671       48.072789  \n",
       "4           99.537513          5.372870         -0.026735       31.573672  \n",
       "..                ...               ...               ...             ...  \n",
       "385         99.569309          4.150783          0.161329        0.013202  \n",
       "386        110.292308          4.139850          1.495056       -0.732394  \n",
       "387        102.047749          4.129307         -0.062016        1.341796  \n",
       "388        108.632498          4.118931          0.320627        1.334967  \n",
       "389        102.460730          4.106579         -0.193746        2.081748  \n",
       "\n",
       "[390 rows x 19 columns]"
      ]
     },
     "execution_count": 44,
     "metadata": {},
     "output_type": "execute_result"
    }
   ],
   "source": [
    "rv_df = reprice_bonds(\n",
    "    as_of_date=as_of_date,\n",
    "    ql_zero_curves={\n",
    "        # \"ns\": fitted_zero_curve_dict[\"ql_f_ns\"][\"ql_zero_curve\"],\n",
    "        # \"nss\": fitted_zero_curve_dict[\"ql_f_nss\"][\"ql_zero_curve\"],\n",
    "        # \"es\": fitted_zero_curve_dict[\"ql_f_es\"][\"ql_zero_curve\"],\n",
    "        \"cbs\": fitted_zero_curve_dict[\"ql_f_cbs\"][\"ql_zero_curve\"],\n",
    "    },\n",
    "    curve_set_df=curve_set_df,\n",
    ")\n",
    "rv_df"
   ]
  },
  {
   "cell_type": "code",
   "execution_count": 45,
   "metadata": {},
   "outputs": [
    {
     "data": {
      "application/vnd.plotly.v1+json": {
       "config": {
        "plotlyServerURL": "https://plot.ly"
       },
       "data": [
        {
         "customdata": [
          [
           "Sep 24s, 17-Week"
          ],
          [
           "Sep 24s, 17-Week"
          ],
          [
           "Sep 24s, 17-Week"
          ],
          [
           "Sep 24s, 17-Week"
          ],
          [
           "Oct 24s, 17-Week"
          ],
          [
           "Oct 24s, 17-Week"
          ],
          [
           "Oct 24s, 17-Week"
          ],
          [
           "Oct 24s, 17-Week"
          ],
          [
           "Oct 24s, 17-Week"
          ],
          [
           "Nov 24s, 17-Week"
          ],
          [
           "Nov 24s, 17-Week"
          ],
          [
           "Nov 24s, 17-Week"
          ],
          [
           "Nov 24s, 17-Week"
          ],
          [
           "Dec 24s, 17-Week"
          ],
          [
           "Dec 24s, 17-Week"
          ],
          [
           "Dec 24s, 17-Week"
          ],
          [
           "Dec 24s, 17-Week"
          ]
         ],
         "hovertemplate": "original_security_term=17-Week<br>Time to Maturity (Years)=%{x}<br>eod_yield=%{y}<br>label=%{customdata[0]}<extra></extra>",
         "legendgroup": "17-Week",
         "marker": {
          "color": "#636efa",
          "symbol": "circle"
         },
         "mode": "markers",
         "name": "17-Week",
         "orientation": "v",
         "showlegend": true,
         "type": "scatter",
         "x": [
          0.0136986301369863,
          0.03287671232876712,
          0.052054794520547946,
          0.07123287671232877,
          0.09041095890410959,
          0.1095890410958904,
          0.12876712328767123,
          0.14794520547945206,
          0.16712328767123288,
          0.1863013698630137,
          0.2054794520547945,
          0.22465753424657534,
          0.24383561643835616,
          0.26301369863013696,
          0.2821917808219178,
          0.3013698630136986,
          0.32054794520547947
         ],
         "xaxis": "x",
         "y": [
          8.185950266071718,
          6.475280605848323,
          6.061729198411706,
          5.881169061880794,
          5.688607167400896,
          5.619549849774796,
          5.525222787033476,
          5.508116190859794,
          5.411009536299778,
          5.381453453692611,
          5.3582836260910085,
          5.337719344911729,
          5.31913461652192,
          5.2512984548180155,
          5.235573051613629,
          5.220817776004744,
          5.196068188489959
         ],
         "yaxis": "y"
        },
        {
         "customdata": [
          [
           "Aug 24s, 26-Week"
          ],
          [
           "Sep 24s, 26-Week"
          ],
          [
           "Sep 24s, 26-Week"
          ],
          [
           "Sep 24s, 26-Week"
          ],
          [
           "Oct 24s, 26-Week"
          ],
          [
           "Oct 24s, 26-Week"
          ],
          [
           "Oct 24s, 26-Week"
          ],
          [
           "Nov 24s, 26-Week"
          ],
          [
           "Nov 24s, 26-Week"
          ],
          [
           "Nov 24s, 26-Week"
          ],
          [
           "Dec 24s, 26-Week"
          ],
          [
           "Dec 24s, 26-Week"
          ],
          [
           "Dec 24s, 26-Week"
          ],
          [
           "Jan 25s, 26-Week"
          ],
          [
           "Jan 25s, 26-Week"
          ],
          [
           "Jan 25s, 26-Week"
          ],
          [
           "Jan 25s, 26-Week"
          ],
          [
           "Feb 25s, 26-Week"
          ],
          [
           "Feb 25s, 26-Week"
          ],
          [
           "Feb 25s, 26-Week"
          ]
         ],
         "hovertemplate": "original_security_term=26-Week<br>Time to Maturity (Years)=%{x}<br>eod_yield=%{y}<br>label=%{customdata[0]}<extra></extra>",
         "legendgroup": "26-Week",
         "marker": {
          "color": "#EF553B",
          "symbol": "circle"
         },
         "mode": "markers",
         "name": "26-Week",
         "orientation": "v",
         "showlegend": true,
         "type": "scatter",
         "x": [
          0,
          0.038356164383561646,
          0.057534246575342465,
          0.07671232876712329,
          0.11506849315068493,
          0.13424657534246576,
          0.15342465753424658,
          0.1917808219178082,
          0.21095890410958903,
          0.23013698630136986,
          0.2684931506849315,
          0.2876712328767123,
          0.30684931506849317,
          0.3452054794520548,
          0.3643835616438356,
          0.3835616438356164,
          0.42191780821917807,
          0.4410958904109589,
          0.4602739726027397,
          0.4986301369863014
         ],
         "xaxis": "x",
         "y": [
          null,
          6.320540062354196,
          6.0010886783707775,
          5.849297041394833,
          5.584751612216463,
          5.527257112565011,
          5.479702903957809,
          5.3667252968445345,
          5.3552838704057795,
          5.335338241441324,
          5.195811045127325,
          5.169620491840295,
          5.176694517682699,
          5.059098656896088,
          5.046398932035077,
          5.023293884628567,
          4.988948358138049,
          4.9884490694954255,
          4.988189366166981,
          null
         ],
         "yaxis": "y"
        },
        {
         "customdata": [
          [
           "Sep 24s, 52-Week"
          ],
          [
           "Oct 24s, 52-Week"
          ],
          [
           "Oct 24s, 52-Week"
          ],
          [
           "Nov 24s, 52-Week"
          ],
          [
           "Dec 24s, 52-Week"
          ],
          [
           "Jan 25s, 52-Week"
          ],
          [
           "Feb 25s, 52-Week"
          ],
          [
           "Mar 25s, 52-Week"
          ],
          [
           "Apr 25s, 52-Week"
          ],
          [
           "May 25s, 52-Week"
          ],
          [
           "Jun 25s, 52-Week"
          ],
          [
           "Jul 25s, 52-Week"
          ],
          [
           "Aug 25s, 52-Week"
          ]
         ],
         "hovertemplate": "original_security_term=52-Week<br>Time to Maturity (Years)=%{x}<br>eod_yield=%{y}<br>label=%{customdata[0]}<extra></extra>",
         "legendgroup": "52-Week",
         "marker": {
          "color": "#00cc96",
          "symbol": "circle"
         },
         "mode": "markers",
         "name": "52-Week",
         "orientation": "v",
         "showlegend": true,
         "type": "scatter",
         "x": [
          0.019178082191780823,
          0.0958904109589041,
          0.1726027397260274,
          0.25205479452054796,
          0.32602739726027397,
          0.40273972602739727,
          0.4794520547945205,
          0.5561643835616439,
          0.6328767123287671,
          0.7095890410958904,
          0.7863013698630137,
          0.863013698630137,
          0.9397260273972603
         ],
         "xaxis": "x",
         "y": [
          7.3035808146680505,
          5.658353190567551,
          5.392276205431275,
          5.283726809903923,
          5.141372670676343,
          4.989718637759531,
          4.966449890774079,
          4.605678495130597,
          4.609952522891928,
          4.5624806424669355,
          4.525128611789339,
          4.451826485983361,
          4.406383088800012
         ],
         "yaxis": "y"
        },
        {
         "customdata": [
          [
           "Aug 24s, 2-Year"
          ],
          [
           "Sep 24s, 2-Year"
          ],
          [
           "Oct 24s, 2-Year"
          ],
          [
           "Nov 24s, 2-Year"
          ],
          [
           "Dec 24s, 2-Year"
          ],
          [
           "Jan 25s, 2-Year"
          ],
          [
           "Feb 25s, 2-Year"
          ],
          [
           "Mar 25s, 2-Year"
          ],
          [
           "Apr 25s, 2-Year"
          ],
          [
           "May 25s, 2-Year"
          ],
          [
           "Jun 25s, 2-Year"
          ],
          [
           "Jul 25s, 2-Year"
          ],
          [
           "Aug 25s, 2-Year"
          ],
          [
           "Sep 25s, 2-Year"
          ],
          [
           "Oct 25s, 2-Year"
          ],
          [
           "Nov 25s, 2-Year"
          ],
          [
           "Dec 25s, 2-Year"
          ],
          [
           "Jan 26s, 2-Year"
          ],
          [
           "Feb 26s, 2-Year"
          ],
          [
           "Mar 26s, 2-Year"
          ],
          [
           "Apr 26s, 2-Year"
          ],
          [
           "May 26s, 2-Year"
          ],
          [
           "Jun 26s, 2-Year"
          ],
          [
           "Jul 26s, 2-Year"
          ]
         ],
         "hovertemplate": "original_security_term=2-Year<br>Time to Maturity (Years)=%{x}<br>eod_yield=%{y}<br>label=%{customdata[0]}<extra></extra>",
         "legendgroup": "2-Year",
         "marker": {
          "color": "#ab63fa",
          "symbol": "circle"
         },
         "mode": "markers",
         "name": "2-Year",
         "orientation": "v",
         "showlegend": true,
         "type": "scatter",
         "x": [
          0.005479452054794521,
          0.08767123287671233,
          0.1726027397260274,
          0.2547945205479452,
          0.33972602739726027,
          0.4246575342465753,
          0.5013698630136987,
          0.5863013698630137,
          0.6684931506849315,
          0.7534246575342466,
          0.8356164383561644,
          0.9205479452054794,
          1.0054794520547945,
          1.0876712328767124,
          1.1726027397260275,
          1.2547945205479452,
          1.3397260273972602,
          1.4246575342465753,
          1.5013698630136987,
          1.5863013698630137,
          1.6684931506849314,
          1.7534246575342465,
          1.8356164383561644,
          1.9205479452054794
         ],
         "xaxis": "x",
         "y": [
          25.84840153324422,
          5.2746460694628565,
          5.234674417573201,
          5.075827917053595,
          4.975355301030811,
          4.946798237057707,
          4.753149599389703,
          4.739640543933866,
          4.6286242080316855,
          4.532597577035331,
          4.456830192952386,
          4.391570105669143,
          4.387977739918442,
          4.307677251450073,
          4.242547702293184,
          4.1912465562394345,
          4.14532657521242,
          4.108349369142889,
          4.08163999397944,
          4.043773651207231,
          4.007708428765235,
          3.973362279538089,
          3.942001632897277,
          3.894271142695841
         ],
         "yaxis": "y"
        },
        {
         "customdata": [
          [
           "Sep 24s, 3-Year"
          ],
          [
           "Oct 24s, 3-Year"
          ],
          [
           "Nov 24s, 3-Year"
          ],
          [
           "Dec 24s, 3-Year"
          ],
          [
           "Jan 25s, 3-Year"
          ],
          [
           "Feb 25s, 3-Year"
          ],
          [
           "Mar 25s, 3-Year"
          ],
          [
           "Apr 25s, 3-Year"
          ],
          [
           "May 25s, 3-Year"
          ],
          [
           "Jun 25s, 3-Year"
          ],
          [
           "Jul 25s, 3-Year"
          ],
          [
           "Aug 25s, 3-Year"
          ],
          [
           "Sep 25s, 3-Year"
          ],
          [
           "Oct 25s, 3-Year"
          ],
          [
           "Nov 25s, 3-Year"
          ],
          [
           "Dec 25s, 3-Year"
          ],
          [
           "Jan 26s, 3-Year"
          ],
          [
           "Feb 26s, 3-Year"
          ],
          [
           "Mar 26s, 3-Year"
          ],
          [
           "Apr 26s, 3-Year"
          ],
          [
           "May 26s, 3-Year"
          ],
          [
           "Jun 26s, 3-Year"
          ],
          [
           "Jul 26s, 3-Year"
          ],
          [
           "Aug 26s, 3-Year"
          ],
          [
           "Sep 26s, 3-Year"
          ],
          [
           "Oct 26s, 3-Year"
          ],
          [
           "Nov 26s, 3-Year"
          ],
          [
           "Dec 26s, 3-Year"
          ],
          [
           "Jan 27s, 3-Year"
          ],
          [
           "Feb 27s, 3-Year"
          ],
          [
           "Mar 27s, 3-Year"
          ],
          [
           "Apr 27s, 3-Year"
          ],
          [
           "May 27s, 3-Year"
          ],
          [
           "Jun 27s, 3-Year"
          ],
          [
           "Jul 27s, 3-Year"
          ],
          [
           "Aug 27s, 3-Year"
          ]
         ],
         "hovertemplate": "original_security_term=3-Year<br>Time to Maturity (Years)=%{x}<br>eod_yield=%{y}<br>label=%{customdata[0]}<extra></extra>",
         "legendgroup": "3-Year",
         "marker": {
          "color": "#FFA15A",
          "symbol": "circle"
         },
         "mode": "markers",
         "name": "3-Year",
         "orientation": "v",
         "showlegend": true,
         "type": "scatter",
         "x": [
          0.04657534246575343,
          0.12876712328767123,
          0.2136986301369863,
          0.2958904109589041,
          0.38082191780821917,
          0.4657534246575342,
          0.5424657534246575,
          0.6273972602739726,
          0.7095890410958904,
          0.7945205479452054,
          0.8767123287671232,
          0.9616438356164384,
          1.0465753424657533,
          1.1287671232876713,
          1.2136986301369863,
          1.295890410958904,
          1.3808219178082193,
          1.4657534246575343,
          1.5424657534246575,
          1.6273972602739726,
          1.7095890410958905,
          1.7945205479452055,
          1.8767123287671232,
          1.9616438356164383,
          2.0465753424657533,
          2.128767123287671,
          2.213698630136986,
          2.2958904109589042,
          2.3808219178082193,
          2.4657534246575343,
          2.5424657534246577,
          2.627397260273973,
          2.7095890410958905,
          2.7945205479452055,
          2.8767123287671232,
          2.9616438356164383
         ],
         "xaxis": "x",
         "y": [
          6.129830572872125,
          5.368500745833636,
          5.2684220549501655,
          5.002476846180922,
          5.02348161046906,
          4.977090850174899,
          4.689833479991228,
          4.6108191453112575,
          4.592189075373574,
          4.526518697385811,
          4.463567284323895,
          4.399590226301825,
          4.363543843062944,
          4.270902299403407,
          4.222665346451761,
          4.167437021091297,
          4.105369326084805,
          4.064674829854635,
          4.053185487055275,
          4.0059601843646835,
          3.9822145131681825,
          3.9553051661706715,
          3.919890875087058,
          3.888536057040277,
          3.8847495942127965,
          3.863895719918457,
          3.8312815754786786,
          3.8104060159511866,
          3.816382448913274,
          3.8014669736742523,
          3.767757619414027,
          3.76557502783104,
          3.7618656408963127,
          3.7298930119197786,
          3.7363141950503995,
          3.72657438940466
         ],
         "yaxis": "y"
        },
        {
         "customdata": [
          [
           "Aug 24s, 5-Year"
          ],
          [
           "Sep 24s, 5-Year"
          ],
          [
           "Oct 24s, 5-Year"
          ],
          [
           "Nov 24s, 5-Year"
          ],
          [
           "Dec 24s, 5-Year"
          ],
          [
           "Jan 25s, 5-Year"
          ],
          [
           "Feb 25s, 5-Year"
          ],
          [
           "Mar 25s, 5-Year"
          ],
          [
           "Apr 25s, 5-Year"
          ],
          [
           "May 25s, 5-Year"
          ],
          [
           "Jun 25s, 5-Year"
          ],
          [
           "Jul 25s, 5-Year"
          ],
          [
           "Aug 25s, 5-Year"
          ],
          [
           "Sep 25s, 5-Year"
          ],
          [
           "Oct 25s, 5-Year"
          ],
          [
           "Nov 25s, 5-Year"
          ],
          [
           "Dec 25s, 5-Year"
          ],
          [
           "Jan 26s, 5-Year"
          ],
          [
           "Feb 26s, 5-Year"
          ],
          [
           "Mar 26s, 5-Year"
          ],
          [
           "Apr 26s, 5-Year"
          ],
          [
           "May 26s, 5-Year"
          ],
          [
           "Jun 26s, 5-Year"
          ],
          [
           "Jul 26s, 5-Year"
          ],
          [
           "Aug 26s, 5-Year"
          ],
          [
           "Sep 26s, 5-Year"
          ],
          [
           "Oct 26s, 5-Year"
          ],
          [
           "Nov 26s, 5-Year"
          ],
          [
           "Dec 26s, 5-Year"
          ],
          [
           "Feb 27s, 5-Year"
          ],
          [
           "Mar 27s, 5-Year"
          ],
          [
           "Apr 27s, 5-Year"
          ],
          [
           "May 27s, 5-Year"
          ],
          [
           "Jun 27s, 5-Year"
          ],
          [
           "Jul 27s, 5-Year"
          ],
          [
           "Aug 27s, 5-Year"
          ],
          [
           "Sep 27s, 5-Year"
          ],
          [
           "Oct 27s, 5-Year"
          ],
          [
           "Nov 27s, 5-Year"
          ],
          [
           "Dec 27s, 5-Year"
          ],
          [
           "Jan 28s, 5-Year"
          ],
          [
           "Feb 28s, 5-Year"
          ],
          [
           "Mar 28s, 5-Year"
          ],
          [
           "Apr 28s, 5-Year"
          ],
          [
           "May 28s, 5-Year"
          ],
          [
           "Jun 28s, 5-Year"
          ],
          [
           "Jul 28s, 5-Year"
          ],
          [
           "Aug 28s, 5-Year"
          ],
          [
           "Sep 28s, 5-Year"
          ],
          [
           "Oct 28s, 5-Year"
          ],
          [
           "Nov 28s, 5-Year"
          ],
          [
           "Dec 28s, 5-Year"
          ],
          [
           "Jan 29s, 5-Year"
          ],
          [
           "Feb 29s, 5-Year"
          ],
          [
           "Mar 29s, 5-Year"
          ],
          [
           "Apr 29s, 5-Year"
          ],
          [
           "May 29s, 5-Year"
          ],
          [
           "Jun 29s, 5-Year"
          ],
          [
           "Jul 29s, 5-Year"
          ]
         ],
         "hovertemplate": "original_security_term=5-Year<br>Time to Maturity (Years)=%{x}<br>eod_yield=%{y}<br>label=%{customdata[0]}<extra></extra>",
         "legendgroup": "5-Year",
         "marker": {
          "color": "#19d3f3",
          "symbol": "circle"
         },
         "mode": "markers",
         "name": "5-Year",
         "orientation": "v",
         "showlegend": true,
         "type": "scatter",
         "x": [
          0.005479452054794521,
          0.08767123287671233,
          0.1726027397260274,
          0.2547945205479452,
          0.33972602739726027,
          0.4246575342465753,
          0.5013698630136987,
          0.5863013698630137,
          0.6684931506849315,
          0.7534246575342466,
          0.8356164383561644,
          0.9205479452054794,
          1.0054794520547945,
          1.0876712328767124,
          1.1726027397260275,
          1.2547945205479452,
          1.3397260273972602,
          1.4246575342465753,
          1.5013698630136987,
          1.5863013698630137,
          1.6684931506849314,
          1.7534246575342465,
          1.8356164383561644,
          1.9205479452054794,
          2.0054794520547947,
          2.0876712328767124,
          2.1726027397260275,
          2.254794520547945,
          2.33972602739726,
          2.5013698630136987,
          2.5863013698630137,
          2.6684931506849314,
          2.7534246575342465,
          2.835616438356164,
          2.9205479452054797,
          3.0054794520547947,
          3.0876712328767124,
          3.1726027397260275,
          3.254794520547945,
          3.33972602739726,
          3.4246575342465753,
          3.504109589041096,
          3.589041095890411,
          3.671232876712329,
          3.756164383561644,
          3.8383561643835615,
          3.9232876712328766,
          4.008219178082192,
          4.090410958904109,
          4.175342465753425,
          4.257534246575342,
          4.342465753424658,
          4.427397260273972,
          4.504109589041096,
          4.589041095890411,
          4.671232876712328,
          4.756164383561644,
          4.838356164383562,
          4.923287671232877
         ],
         "xaxis": "x",
         "y": [
          35.562283327808565,
          5.565069015796643,
          5.403751493103624,
          5.025125628140699,
          5.063047843131765,
          4.951920871013443,
          4.943872349664941,
          4.769243995781606,
          4.699798058777796,
          4.561891783232961,
          4.491922792581433,
          4.422477442143256,
          4.403697992907076,
          4.3315343592208375,
          4.290537502529206,
          4.233971960328129,
          4.190468457890679,
          4.129889045665707,
          4.114114206130963,
          4.058024925806236,
          4.015373679868212,
          3.9920756068292573,
          3.9399270041230268,
          3.9175227023040002,
          3.893235256190736,
          3.865981001039364,
          3.8512361681949634,
          3.836763584376034,
          3.8029975306762402,
          3.79586001789479,
          3.75267126363331,
          3.7663637096927505,
          3.7559421146846153,
          3.7398539998476394,
          3.7521378451788037,
          3.735361325768379,
          3.712189131854163,
          3.7214600014432895,
          3.727917113520946,
          3.701690539573802,
          3.7146023445335117,
          3.7116237402296077,
          3.708082073604512,
          3.7093010219306266,
          3.703575945690216,
          3.6979501524195824,
          3.70025615523738,
          3.6972685708574518,
          3.7006264041343297,
          3.689916072098301,
          3.6836756113208495,
          3.685171895967761,
          3.681959905426624,
          3.6647272534197373,
          3.67566191369658,
          3.6678849472464012,
          3.65262295119964,
          3.6648531646022984,
          3.6559540812884688
         ],
         "yaxis": "y"
        },
        {
         "customdata": [
          [
           "Aug 24s, 7-Year"
          ],
          [
           "Sep 24s, 7-Year"
          ],
          [
           "Oct 24s, 7-Year"
          ],
          [
           "Nov 24s, 7-Year"
          ],
          [
           "Dec 24s, 7-Year"
          ],
          [
           "Jan 25s, 7-Year"
          ],
          [
           "Feb 25s, 7-Year"
          ],
          [
           "Mar 25s, 7-Year"
          ],
          [
           "Apr 25s, 7-Year"
          ],
          [
           "May 25s, 7-Year"
          ],
          [
           "Jun 25s, 7-Year"
          ],
          [
           "Jul 25s, 7-Year"
          ],
          [
           "Aug 25s, 7-Year"
          ],
          [
           "Sep 25s, 7-Year"
          ],
          [
           "Oct 25s, 7-Year"
          ],
          [
           "Nov 25s, 7-Year"
          ],
          [
           "Dec 25s, 7-Year"
          ],
          [
           "Jan 26s, 7-Year"
          ],
          [
           "Feb 26s, 7-Year"
          ],
          [
           "Mar 26s, 7-Year"
          ],
          [
           "Apr 26s, 7-Year"
          ],
          [
           "May 26s, 7-Year"
          ],
          [
           "Jun 26s, 7-Year"
          ],
          [
           "Jul 26s, 7-Year"
          ],
          [
           "Aug 26s, 7-Year"
          ],
          [
           "Sep 26s, 7-Year"
          ],
          [
           "Oct 26s, 7-Year"
          ],
          [
           "Nov 26s, 7-Year"
          ],
          [
           "Dec 26s, 7-Year"
          ],
          [
           "Jan 27s, 7-Year"
          ],
          [
           "Feb 27s, 7-Year"
          ],
          [
           "Mar 27s, 7-Year"
          ],
          [
           "Apr 27s, 7-Year"
          ],
          [
           "May 27s, 7-Year"
          ],
          [
           "Jun 27s, 7-Year"
          ],
          [
           "Jul 27s, 7-Year"
          ],
          [
           "Aug 27s, 7-Year"
          ],
          [
           "Sep 27s, 7-Year"
          ],
          [
           "Oct 27s, 7-Year"
          ],
          [
           "Nov 27s, 7-Year"
          ],
          [
           "Dec 27s, 7-Year"
          ],
          [
           "Jan 28s, 7-Year"
          ],
          [
           "Feb 28s, 7-Year"
          ],
          [
           "Mar 28s, 7-Year"
          ],
          [
           "Apr 28s, 7-Year"
          ],
          [
           "May 28s, 7-Year"
          ],
          [
           "Jun 28s, 7-Year"
          ],
          [
           "Jul 28s, 7-Year"
          ],
          [
           "Aug 28s, 7-Year"
          ],
          [
           "Sep 28s, 7-Year"
          ],
          [
           "Oct 28s, 7-Year"
          ],
          [
           "Nov 28s, 7-Year"
          ],
          [
           "Dec 28s, 7-Year"
          ],
          [
           "Jan 29s, 7-Year"
          ],
          [
           "Feb 29s, 7-Year"
          ],
          [
           "Mar 29s, 7-Year"
          ],
          [
           "Apr 29s, 7-Year"
          ],
          [
           "May 29s, 7-Year"
          ],
          [
           "Jun 29s, 7-Year"
          ],
          [
           "Jul 29s, 7-Year"
          ],
          [
           "Aug 29s, 7-Year"
          ],
          [
           "Sep 29s, 7-Year"
          ],
          [
           "Oct 29s, 7-Year"
          ],
          [
           "Nov 29s, 7-Year"
          ],
          [
           "Dec 29s, 7-Year"
          ],
          [
           "Jan 30s, 7-Year"
          ],
          [
           "Feb 30s, 7-Year"
          ],
          [
           "Mar 30s, 7-Year"
          ],
          [
           "Apr 30s, 7-Year"
          ],
          [
           "May 30s, 7-Year"
          ],
          [
           "Jun 30s, 7-Year"
          ],
          [
           "Jul 30s, 7-Year"
          ],
          [
           "Aug 30s, 7-Year"
          ],
          [
           "Sep 30s, 7-Year"
          ],
          [
           "Oct 30s, 7-Year"
          ],
          [
           "Nov 30s, 7-Year"
          ],
          [
           "Dec 30s, 7-Year"
          ],
          [
           "Jan 31s, 7-Year"
          ],
          [
           "Feb 31s, 7-Year"
          ],
          [
           "Mar 31s, 7-Year"
          ],
          [
           "Apr 31s, 7-Year"
          ],
          [
           "May 31s, 7-Year"
          ],
          [
           "Jun 31s, 7-Year"
          ],
          [
           "Jul 31s, 7-Year"
          ]
         ],
         "hovertemplate": "original_security_term=7-Year<br>Time to Maturity (Years)=%{x}<br>eod_yield=%{y}<br>label=%{customdata[0]}<extra></extra>",
         "legendgroup": "7-Year",
         "marker": {
          "color": "#FF6692",
          "symbol": "circle"
         },
         "mode": "markers",
         "name": "7-Year",
         "orientation": "v",
         "showlegend": true,
         "type": "scatter",
         "x": [
          0.005479452054794521,
          0.08767123287671233,
          0.1726027397260274,
          0.2547945205479452,
          0.33972602739726027,
          0.4246575342465753,
          0.5013698630136987,
          0.5863013698630137,
          0.6684931506849315,
          0.7534246575342466,
          0.8356164383561644,
          0.9205479452054794,
          1.0054794520547945,
          1.0876712328767124,
          1.1726027397260275,
          1.2547945205479452,
          1.3397260273972602,
          1.4246575342465753,
          1.5013698630136987,
          1.5863013698630137,
          1.6684931506849314,
          1.7534246575342465,
          1.8356164383561644,
          1.9205479452054794,
          2.0054794520547947,
          2.0876712328767124,
          2.1726027397260275,
          2.254794520547945,
          2.33972602739726,
          2.4246575342465753,
          2.5013698630136987,
          2.5863013698630137,
          2.6684931506849314,
          2.7534246575342465,
          2.835616438356164,
          2.9205479452054797,
          3.0054794520547947,
          3.0876712328767124,
          3.1726027397260275,
          3.254794520547945,
          3.33972602739726,
          3.4246575342465753,
          3.504109589041096,
          3.589041095890411,
          3.671232876712329,
          3.756164383561644,
          3.8383561643835615,
          3.9232876712328766,
          4.008219178082192,
          4.090410958904109,
          4.175342465753425,
          4.257534246575342,
          4.342465753424658,
          4.427397260273972,
          4.504109589041096,
          4.589041095890411,
          4.671232876712328,
          4.756164383561644,
          4.838356164383562,
          4.923287671232877,
          5.008219178082192,
          5.090410958904109,
          5.175342465753425,
          5.257534246575342,
          5.342465753424658,
          5.427397260273972,
          5.504109589041096,
          5.589041095890411,
          5.671232876712328,
          5.756164383561644,
          5.838356164383562,
          5.923287671232877,
          6.008219178082192,
          6.090410958904109,
          6.175342465753425,
          6.257534246575342,
          6.342465753424658,
          6.427397260273972,
          6.504109589041096,
          6.589041095890411,
          6.671232876712328,
          6.756164383561644,
          6.838356164383562,
          6.923287671232877
         ],
         "xaxis": "x",
         "y": [
          24.660477301732456,
          5.431001910047858,
          5.391651337547668,
          5.136235515189404,
          5.083576773637133,
          5.005705204359837,
          4.819452245867375,
          4.642083311702602,
          4.641726636205584,
          4.529054497315,
          4.438264523342846,
          4.413051748897612,
          4.391855275468502,
          4.336490069435221,
          4.238780231679962,
          4.215621632320953,
          4.175764480352841,
          4.110450929663448,
          4.088777907701843,
          4.056362298046128,
          4.0146813942788615,
          3.96664167126453,
          3.9404726440012263,
          3.9211834413228797,
          3.9130988125768074,
          3.8757201539096497,
          3.8662725162981015,
          3.8460569575272965,
          3.808787241037987,
          3.804997363180607,
          3.8012281621418205,
          3.786908607547693,
          3.7797687747605453,
          3.767407269043219,
          3.759570581581024,
          3.7497771737146013,
          3.7410650377419534,
          3.7283397155242732,
          3.7263367428008487,
          3.7231821372734277,
          3.7305227798670804,
          3.724834724894415,
          3.7303719730607106,
          3.719277149527739,
          3.7224662948596574,
          3.71480020254838,
          3.7189670967489077,
          3.7131397143858744,
          3.7092813054047764,
          3.710880622362092,
          3.707515099524934,
          3.702512183667744,
          3.7034888144522586,
          3.697434430725233,
          3.6936802826789297,
          3.6967660360559496,
          3.6894046824828135,
          3.6883032293007947,
          3.68976186633754,
          3.6890113448162283,
          3.68362246277247,
          3.6904036847492643,
          3.6902548119652154,
          3.68831611397026,
          3.6976559098462585,
          3.7044776849679066,
          3.7020475578067558,
          3.7115081470518234,
          3.708168079203291,
          3.7118238400303962,
          3.7184906468507517,
          3.7202996246132103,
          3.7208256592033577,
          3.7211988630836985,
          3.718685768085993,
          3.7290046343764245,
          3.7318781889478947,
          3.734148032829062,
          3.731192993230098,
          3.7354950788272148,
          3.7372004037744007,
          3.741427545455745,
          3.7315331386306276,
          3.7315018015416084
         ],
         "yaxis": "y"
        },
        {
         "customdata": [
          [
           "Nov 24s, 10-Year"
          ],
          [
           "Feb 25s, 10-Year"
          ],
          [
           "May 25s, 10-Year"
          ],
          [
           "Aug 25s, 10-Year"
          ],
          [
           "Nov 25s, 10-Year"
          ],
          [
           "Feb 26s, 10-Year"
          ],
          [
           "May 26s, 10-Year"
          ],
          [
           "Aug 26s, 10-Year"
          ],
          [
           "Nov 26s, 10-Year"
          ],
          [
           "Feb 27s, 10-Year"
          ],
          [
           "May 27s, 10-Year"
          ],
          [
           "Aug 27s, 10-Year"
          ],
          [
           "Nov 27s, 10-Year"
          ],
          [
           "Feb 28s, 10-Year"
          ],
          [
           "May 28s, 10-Year"
          ],
          [
           "Aug 28s, 10-Year"
          ],
          [
           "Nov 28s, 10-Year"
          ],
          [
           "Feb 29s, 10-Year"
          ],
          [
           "May 29s, 10-Year"
          ],
          [
           "Aug 29s, 10-Year"
          ],
          [
           "Nov 29s, 10-Year"
          ],
          [
           "Feb 30s, 10-Year"
          ],
          [
           "May 30s, 10-Year"
          ],
          [
           "Aug 30s, 10-Year"
          ],
          [
           "Nov 30s, 10-Year"
          ],
          [
           "Feb 31s, 10-Year"
          ],
          [
           "May 31s, 10-Year"
          ],
          [
           "Aug 31s, 10-Year"
          ],
          [
           "Nov 31s, 10-Year"
          ],
          [
           "Feb 32s, 10-Year"
          ],
          [
           "May 32s, 10-Year"
          ],
          [
           "Aug 32s, 10-Year"
          ],
          [
           "Nov 32s, 10-Year"
          ],
          [
           "Feb 33s, 10-Year"
          ],
          [
           "May 33s, 10-Year"
          ],
          [
           "Aug 33s, 10-Year"
          ],
          [
           "Nov 33s, 10-Year"
          ],
          [
           "Feb 34s, 10-Year"
          ],
          [
           "May 34s, 10-Year"
          ],
          [
           "Aug 34s, 10-Year"
          ]
         ],
         "hovertemplate": "original_security_term=10-Year<br>Time to Maturity (Years)=%{x}<br>eod_yield=%{y}<br>label=%{customdata[0]}<extra></extra>",
         "legendgroup": "10-Year",
         "marker": {
          "color": "#B6E880",
          "symbol": "circle"
         },
         "mode": "markers",
         "name": "10-Year",
         "orientation": "v",
         "showlegend": true,
         "type": "scatter",
         "x": [
          0.2136986301369863,
          0.4657534246575342,
          0.7095890410958904,
          0.9616438356164384,
          1.2136986301369863,
          1.4657534246575343,
          1.7095890410958905,
          1.9616438356164383,
          2.213698630136986,
          2.4657534246575343,
          2.7095890410958905,
          2.9616438356164383,
          3.213698630136986,
          3.4657534246575343,
          3.712328767123288,
          3.9643835616438357,
          4.2164383561643834,
          4.468493150684932,
          4.712328767123288,
          4.964383561643835,
          5.2164383561643834,
          5.468493150684932,
          5.712328767123288,
          5.964383561643835,
          6.2164383561643834,
          6.468493150684932,
          6.712328767123288,
          6.964383561643835,
          7.2164383561643834,
          7.468493150684932,
          7.715068493150685,
          7.967123287671233,
          8.219178082191782,
          8.471232876712328,
          8.715068493150685,
          8.967123287671233,
          9.219178082191782,
          9.471232876712328,
          9.715068493150685,
          9.967123287671233
         ],
         "xaxis": "x",
         "y": [
          5.235483599820143,
          4.9185342530894385,
          4.60261205681406,
          4.418735559092946,
          4.251970480302071,
          4.11942577776786,
          3.9887782123199624,
          3.924407484400222,
          3.8584061098626936,
          3.8209376878152894,
          3.7928740412403337,
          3.7461633735881352,
          3.738436750530839,
          3.740237073696371,
          3.728182240511408,
          3.72201646528413,
          3.705281026413249,
          3.697726666252505,
          3.6855418580511805,
          3.653038705384929,
          3.683298699868853,
          3.719171216878336,
          3.717562797616225,
          3.719647895642223,
          3.715196013017952,
          3.696218287527364,
          3.7485736423624427,
          3.7494729528347928,
          3.7588665146134614,
          3.7691239232949965,
          3.7685526039450594,
          3.7761534983567513,
          3.780015715519327,
          3.800101909871409,
          3.8116851176326265,
          3.824807702466803,
          3.8250876030192984,
          3.8368522361699195,
          3.837554994201844,
          3.832821443352826
         ],
         "yaxis": "y"
        },
        {
         "customdata": [
          [
           "May 40s, 20-Year"
          ],
          [
           "Aug 40s, 20-Year"
          ],
          [
           "Nov 40s, 20-Year"
          ],
          [
           "Feb 41s, 20-Year"
          ],
          [
           "May 41s, 20-Year"
          ],
          [
           "Aug 41s, 20-Year"
          ],
          [
           "Nov 41s, 20-Year"
          ],
          [
           "Feb 42s, 20-Year"
          ],
          [
           "May 42s, 20-Year"
          ],
          [
           "Aug 42s, 20-Year"
          ],
          [
           "Nov 42s, 20-Year"
          ],
          [
           "Feb 43s, 20-Year"
          ],
          [
           "May 43s, 20-Year"
          ],
          [
           "Aug 43s, 20-Year"
          ],
          [
           "Nov 43s, 20-Year"
          ],
          [
           "Feb 44s, 20-Year"
          ],
          [
           "May 44s, 20-Year"
          ]
         ],
         "hovertemplate": "original_security_term=20-Year<br>Time to Maturity (Years)=%{x}<br>eod_yield=%{y}<br>label=%{customdata[0]}<extra></extra>",
         "legendgroup": "20-Year",
         "marker": {
          "color": "#FF97FF",
          "symbol": "circle"
         },
         "mode": "markers",
         "name": "20-Year",
         "orientation": "v",
         "showlegend": true,
         "type": "scatter",
         "x": [
          15.72054794520548,
          15.972602739726028,
          16.224657534246575,
          16.476712328767125,
          16.720547945205478,
          16.972602739726028,
          17.224657534246575,
          17.476712328767125,
          17.720547945205478,
          17.972602739726028,
          18.224657534246575,
          18.476712328767125,
          18.720547945205478,
          18.972602739726028,
          19.224657534246575,
          19.476712328767125,
          19.723287671232878
         ],
         "xaxis": "x",
         "y": [
          4.135376810049226,
          4.154814540787719,
          4.182258989621112,
          4.184818271610972,
          4.187434567681708,
          4.221362202210157,
          4.2227070710784425,
          4.228006727491159,
          4.207088432148067,
          4.2141819257060495,
          4.189402589591494,
          4.205661800226633,
          4.219582669889426,
          4.208534878023614,
          4.193361159543681,
          4.217702849252285,
          4.219888292564483
         ],
         "yaxis": "y"
        },
        {
         "customdata": [
          [
           "Nov 24s, 30-Year"
          ],
          [
           "Feb 25s, 30-Year"
          ],
          [
           "Aug 25s, 30-Year"
          ],
          [
           "Feb 26s, 30-Year"
          ],
          [
           "Aug 26s, 30-Year"
          ],
          [
           "Nov 26s, 30-Year"
          ],
          [
           "Feb 27s, 30-Year"
          ],
          [
           "Aug 27s, 30-Year"
          ],
          [
           "Nov 27s, 30-Year"
          ],
          [
           "Aug 28s, 30-Year"
          ],
          [
           "Nov 28s, 30-Year"
          ],
          [
           "Feb 29s, 30-Year"
          ],
          [
           "Aug 29s, 30-Year"
          ],
          [
           "May 30s, 30-Year"
          ],
          [
           "Feb 31s, 30-Year"
          ],
          [
           "Feb 36s, 30-Year"
          ],
          [
           "Feb 37s, 30-Year"
          ],
          [
           "May 37s, 30-Year"
          ],
          [
           "Feb 38s, 30-Year"
          ],
          [
           "May 38s, 30-Year"
          ],
          [
           "Feb 39s, 30-Year"
          ],
          [
           "May 39s, 30-Year"
          ],
          [
           "Aug 39s, 30-Year"
          ],
          [
           "Nov 39s, 30-Year"
          ],
          [
           "Feb 40s, 30-Year"
          ],
          [
           "May 40s, 30-Year"
          ],
          [
           "Aug 40s, 30-Year"
          ],
          [
           "Nov 40s, 30-Year"
          ],
          [
           "Feb 41s, 30-Year"
          ],
          [
           "May 41s, 30-Year"
          ],
          [
           "Aug 41s, 30-Year"
          ],
          [
           "Nov 41s, 30-Year"
          ],
          [
           "Feb 42s, 30-Year"
          ],
          [
           "May 42s, 30-Year"
          ],
          [
           "Aug 42s, 30-Year"
          ],
          [
           "Nov 42s, 30-Year"
          ],
          [
           "Feb 43s, 30-Year"
          ],
          [
           "May 43s, 30-Year"
          ],
          [
           "Aug 43s, 30-Year"
          ],
          [
           "Nov 43s, 30-Year"
          ],
          [
           "Feb 44s, 30-Year"
          ],
          [
           "May 44s, 30-Year"
          ],
          [
           "Aug 44s, 30-Year"
          ],
          [
           "Nov 44s, 30-Year"
          ],
          [
           "Feb 45s, 30-Year"
          ],
          [
           "May 45s, 30-Year"
          ],
          [
           "Aug 45s, 30-Year"
          ],
          [
           "Nov 45s, 30-Year"
          ],
          [
           "Feb 46s, 30-Year"
          ],
          [
           "May 46s, 30-Year"
          ],
          [
           "Aug 46s, 30-Year"
          ],
          [
           "Nov 46s, 30-Year"
          ],
          [
           "Feb 47s, 30-Year"
          ],
          [
           "May 47s, 30-Year"
          ],
          [
           "Aug 47s, 30-Year"
          ],
          [
           "Nov 47s, 30-Year"
          ],
          [
           "Feb 48s, 30-Year"
          ],
          [
           "May 48s, 30-Year"
          ],
          [
           "Aug 48s, 30-Year"
          ],
          [
           "Nov 48s, 30-Year"
          ],
          [
           "Feb 49s, 30-Year"
          ],
          [
           "May 49s, 30-Year"
          ],
          [
           "Aug 49s, 30-Year"
          ],
          [
           "Nov 49s, 30-Year"
          ],
          [
           "Feb 50s, 30-Year"
          ],
          [
           "May 50s, 30-Year"
          ],
          [
           "Aug 50s, 30-Year"
          ],
          [
           "Nov 50s, 30-Year"
          ],
          [
           "Feb 51s, 30-Year"
          ],
          [
           "May 51s, 30-Year"
          ],
          [
           "Aug 51s, 30-Year"
          ],
          [
           "Nov 51s, 30-Year"
          ],
          [
           "Feb 52s, 30-Year"
          ],
          [
           "May 52s, 30-Year"
          ],
          [
           "Aug 52s, 30-Year"
          ],
          [
           "Nov 52s, 30-Year"
          ],
          [
           "Feb 53s, 30-Year"
          ],
          [
           "May 53s, 30-Year"
          ],
          [
           "Aug 53s, 30-Year"
          ],
          [
           "Nov 53s, 30-Year"
          ],
          [
           "Feb 54s, 30-Year"
          ],
          [
           "May 54s, 30-Year"
          ],
          [
           "Aug 54s, 30-Year"
          ]
         ],
         "hovertemplate": "original_security_term=30-Year<br>Time to Maturity (Years)=%{x}<br>eod_yield=%{y}<br>label=%{customdata[0]}<extra></extra>",
         "legendgroup": "30-Year",
         "marker": {
          "color": "#FECB52",
          "symbol": "circle"
         },
         "mode": "markers",
         "name": "30-Year",
         "orientation": "v",
         "showlegend": true,
         "type": "scatter",
         "x": [
          0.2136986301369863,
          0.4657534246575342,
          0.9616438356164384,
          1.4657534246575343,
          1.9616438356164383,
          2.213698630136986,
          2.4657534246575343,
          2.9616438356164383,
          3.213698630136986,
          3.9643835616438357,
          4.2164383561643834,
          4.468493150684932,
          4.964383561643835,
          5.712328767123288,
          6.468493150684932,
          11.471232876712328,
          12.473972602739726,
          12.717808219178082,
          13.473972602739726,
          13.717808219178082,
          14.473972602739726,
          14.717808219178082,
          14.96986301369863,
          15.221917808219178,
          15.473972602739726,
          15.72054794520548,
          15.972602739726028,
          16.224657534246575,
          16.476712328767125,
          16.720547945205478,
          16.972602739726028,
          17.224657534246575,
          17.476712328767125,
          17.720547945205478,
          17.972602739726028,
          18.224657534246575,
          18.476712328767125,
          18.720547945205478,
          18.972602739726028,
          19.224657534246575,
          19.476712328767125,
          19.723287671232878,
          19.975342465753425,
          20.22739726027397,
          20.47945205479452,
          20.723287671232878,
          20.975342465753425,
          21.22739726027397,
          21.47945205479452,
          21.723287671232878,
          21.975342465753425,
          22.22739726027397,
          22.47945205479452,
          22.723287671232878,
          22.975342465753425,
          23.22739726027397,
          23.47945205479452,
          23.726027397260275,
          23.97808219178082,
          24.23013698630137,
          24.482191780821918,
          24.726027397260275,
          24.97808219178082,
          25.23013698630137,
          25.482191780821918,
          25.726027397260275,
          25.97808219178082,
          26.23013698630137,
          26.482191780821918,
          26.726027397260275,
          26.97808219178082,
          27.23013698630137,
          27.482191780821918,
          27.72876712328767,
          27.980821917808218,
          28.232876712328768,
          28.484931506849314,
          28.72876712328767,
          28.980821917808218,
          29.232876712328768,
          29.484931506849314,
          29.72876712328767,
          29.980821917808218
         ],
         "xaxis": "x",
         "y": [
          5.41827318686826,
          4.827754832733062,
          4.02003994887729,
          4.059594289225727,
          3.840376561042741,
          3.586193173052728,
          3.6869613810645148,
          3.718804751608042,
          3.694379999946051,
          3.636088654051969,
          3.656107905249676,
          3.626798421579273,
          3.6840018389684492,
          3.7235364433295657,
          3.696650295454436,
          3.7753688473548426,
          3.8494112408499492,
          3.8640317519655483,
          3.8967982778355528,
          3.9116155890278534,
          3.951295325693595,
          3.974949293145897,
          3.988418220609328,
          3.99304719294525,
          3.996954608553696,
          4.006929094390738,
          4.037949447872528,
          4.03486569169782,
          4.030349791696939,
          4.065315859879303,
          4.107903917081354,
          4.142120821448431,
          4.170315443799452,
          4.198268404690222,
          4.216540358268253,
          4.2288050135101045,
          4.238082369572237,
          4.249471907995496,
          4.243204634645486,
          4.242629166346492,
          4.247293848807987,
          4.253796109559106,
          4.257175185242968,
          4.262700625654085,
          4.265358595293722,
          4.261581982511866,
          4.264080101239065,
          4.263483798728173,
          4.275835681212292,
          4.281684159464928,
          4.285590046133635,
          4.281007507755876,
          4.284001295087896,
          4.2862534934601735,
          4.291756556290581,
          4.292376880306391,
          4.295293917652891,
          4.29808780901629,
          4.29894999951805,
          4.295615424545019,
          4.2933440006869175,
          4.287713200747367,
          4.28675406602312,
          4.280539356606713,
          4.277954758280253,
          4.253546821662841,
          4.258130995073568,
          4.255019959141701,
          4.2404895857159834,
          4.233084040696114,
          4.2267040412713035,
          4.215899198098718,
          4.2092431741317595,
          4.202987514928924,
          4.192583197794255,
          4.166029604931498,
          4.167783551148121,
          4.162722325950395,
          4.150915416760495,
          4.132525869099019,
          4.142724701154299,
          4.132281105745496,
          4.127396697444136
         ],
         "yaxis": "y"
        },
        {
         "mode": "lines",
         "name": "Fitted Zero Curve",
         "type": "scatter",
         "x": [
          0.0027397260273972603,
          0.0327670135889314,
          0.06279430115046554,
          0.09282158871199968,
          0.12284887627353382,
          0.15287616383506794,
          0.18290345139660208,
          0.21293073895813622,
          0.24295802651967036,
          0.2729853140812045,
          0.30301260164273863,
          0.33303988920427274,
          0.3630671767658069,
          0.3930944643273411,
          0.4231217518888752,
          0.4531490394504093,
          0.48317632701194346,
          0.5132036145734776,
          0.5432309021350118,
          0.5732581896965459,
          0.60328547725808,
          0.6333127648196142,
          0.6633400523811482,
          0.6933673399426824,
          0.7233946275042166,
          0.7534219150657507,
          0.7834492026272849,
          0.813476490188819,
          0.8435037777503531,
          0.8735310653118873,
          0.9035583528734213,
          0.9335856404349555,
          0.9636129279964897,
          0.9936402155580238,
          1.0236675031195581,
          1.0536947906810923,
          1.0837220782426265,
          1.1137493658041604,
          1.1437766533656946,
          1.1738039409272287,
          1.203831228488763,
          1.233858516050297,
          1.2638858036118312,
          1.2939130911733654,
          1.3239403787348993,
          1.3539676662964335,
          1.3839949538579677,
          1.4140222414195018,
          1.444049528981036,
          1.4740768165425702,
          1.5041041041041043,
          1.5341313916656385,
          1.5641586792271727,
          1.5941859667887066,
          1.6242132543502408,
          1.654240541911775,
          1.684267829473309,
          1.7142951170348433,
          1.7443224045963774,
          1.7743496921579116,
          1.8043769797194456,
          1.8344042672809797,
          1.8644315548425139,
          1.894458842404048,
          1.9244861299655822,
          1.9545134175271164,
          1.9845407050886505,
          2.0145679926501847,
          2.044595280211719,
          2.074622567773253,
          2.104649855334787,
          2.1346771428963214,
          2.1647044304578555,
          2.1947317180193893,
          2.2247590055809234,
          2.2547862931424576,
          2.2848135807039918,
          2.314840868265526,
          2.34486815582706,
          2.3748954433885943,
          2.4049227309501284,
          2.4349500185116626,
          2.4649773060731968,
          2.495004593634731,
          2.525031881196265,
          2.5550591687577993,
          2.5850864563193334,
          2.6151137438808676,
          2.6451410314424013,
          2.6751683190039355,
          2.7051956065654696,
          2.735222894127004,
          2.765250181688538,
          2.795277469250072,
          2.8253047568116063,
          2.8553320443731405,
          2.8853593319346746,
          2.915386619496209,
          2.945413907057743,
          2.975441194619277,
          3.0054684821808113,
          3.0354957697423455,
          3.0655230573038796,
          3.095550344865414,
          3.125577632426948,
          3.1556049199884817,
          3.185632207550016,
          3.21565949511155,
          3.245686782673084,
          3.2757140702346184,
          3.3057413577961525,
          3.3357686453576867,
          3.365795932919221,
          3.395823220480755,
          3.425850508042289,
          3.4558777956038234,
          3.4859050831653575,
          3.5159323707268917,
          3.545959658288426,
          3.57598694584996,
          3.6060142334114937,
          3.636041520973028,
          3.666068808534562,
          3.6960960960960962,
          3.7261233836576304,
          3.7561506712191646,
          3.7861779587806987,
          3.816205246342233,
          3.846232533903767,
          3.8762598214653012,
          3.9062871090268354,
          3.9363143965883696,
          3.9663416841499037,
          3.996368971711438,
          4.026396259272972,
          4.056423546834506,
          4.08645083439604,
          4.116478121957575,
          4.146505409519109,
          4.176532697080643,
          4.206559984642177,
          4.236587272203711,
          4.266614559765245,
          4.29664184732678,
          4.326669134888314,
          4.356696422449847,
          4.386723710011381,
          4.416750997572915,
          4.4467782851344495,
          4.476805572695984,
          4.506832860257518,
          4.536860147819052,
          4.566887435380586,
          4.59691472294212,
          4.6269420105036545,
          4.656969298065189,
          4.686996585626723,
          4.717023873188257,
          4.747051160749791,
          4.777078448311325,
          4.8071057358728595,
          4.837133023434394,
          4.867160310995928,
          4.897187598557462,
          4.927214886118996,
          4.95724217368053,
          4.9872694612420645,
          5.017296748803599,
          5.047324036365133,
          5.077351323926667,
          5.107378611488201,
          5.137405899049735,
          5.1674331866112695,
          5.197460474172804,
          5.227487761734338,
          5.257515049295872,
          5.287542336857405,
          5.317569624418939,
          5.347596911980474,
          5.377624199542008,
          5.407651487103542,
          5.437678774665076,
          5.46770606222661,
          5.497733349788144,
          5.527760637349679,
          5.557787924911213,
          5.587815212472747,
          5.617842500034281,
          5.647869787595815,
          5.677897075157349,
          5.707924362718884,
          5.737951650280418,
          5.767978937841952,
          5.798006225403486,
          5.82803351296502,
          5.858060800526554,
          5.888088088088089,
          5.918115375649623,
          5.948142663211157,
          5.978169950772691,
          6.008197238334225,
          6.038224525895759,
          6.068251813457294,
          6.098279101018828,
          6.128306388580362,
          6.158333676141896,
          6.18836096370343,
          6.218388251264964,
          6.248415538826499,
          6.278442826388032,
          6.308470113949566,
          6.3384974015111,
          6.368524689072634,
          6.3985519766341685,
          6.428579264195703,
          6.458606551757237,
          6.488633839318771,
          6.518661126880305,
          6.548688414441839,
          6.5787157020033735,
          6.608742989564908,
          6.638770277126442,
          6.668797564687976,
          6.69882485224951,
          6.728852139811044,
          6.7588794273725785,
          6.788906714934113,
          6.818934002495647,
          6.848961290057181,
          6.878988577618715,
          6.909015865180249,
          6.9390431527417835,
          6.969070440303318,
          6.999097727864852,
          7.029125015426386,
          7.05915230298792,
          7.089179590549454,
          7.1192068781109885,
          7.149234165672523,
          7.179261453234057,
          7.20928874079559,
          7.239316028357124,
          7.2693433159186585,
          7.299370603480193,
          7.329397891041727,
          7.359425178603261,
          7.389452466164795,
          7.419479753726329,
          7.4495070412878635,
          7.479534328849398,
          7.509561616410932,
          7.539588903972466,
          7.569616191534,
          7.599643479095534,
          7.6296707666570684,
          7.659698054218603,
          7.689725341780137,
          7.719752629341671,
          7.749779916903205,
          7.779807204464739,
          7.8098344920262734,
          7.839861779587808,
          7.869889067149342,
          7.899916354710876,
          7.92994364227241,
          7.959970929833944,
          7.989998217395478,
          8.020025504957012,
          8.050052792518546,
          8.08008008008008,
          8.110107367641614,
          8.140134655203148,
          8.170161942764683,
          8.200189230326217,
          8.23021651788775,
          8.260243805449285,
          8.29027109301082,
          8.320298380572353,
          8.350325668133888,
          8.380352955695422,
          8.410380243256956,
          8.44040753081849,
          8.470434818380024,
          8.500462105941558,
          8.530489393503093,
          8.560516681064627,
          8.59054396862616,
          8.620571256187695,
          8.65059854374923,
          8.680625831310762,
          8.710653118872296,
          8.74068040643383,
          8.770707693995364,
          8.800734981556898,
          8.830762269118432,
          8.860789556679967,
          8.8908168442415,
          8.920844131803035,
          8.950871419364569,
          8.980898706926103,
          9.010925994487637,
          9.040953282049172,
          9.070980569610706,
          9.10100785717224,
          9.131035144733774,
          9.161062432295308,
          9.191089719856842,
          9.221117007418377,
          9.25114429497991,
          9.281171582541445,
          9.311198870102979,
          9.341226157664513,
          9.371253445226047,
          9.401280732787582,
          9.431308020349116,
          9.46133530791065,
          9.491362595472184,
          9.521389883033718,
          9.551417170595252,
          9.581444458156787,
          9.61147174571832,
          9.641499033279855,
          9.671526320841389,
          9.701553608402923,
          9.731580895964457,
          9.761608183525992,
          9.791635471087526,
          9.82166275864906,
          9.851690046210594,
          9.881717333772128,
          9.911744621333662,
          9.941771908895197,
          9.97179919645673,
          10.001826484018265,
          10.031853771579799,
          10.061881059141333,
          10.091908346702867,
          10.121935634264402,
          10.151962921825936,
          10.18199020938747,
          10.212017496949004,
          10.242044784510538,
          10.272072072072072,
          10.302099359633607,
          10.33212664719514,
          10.362153934756675,
          10.392181222318209,
          10.422208509879743,
          10.452235797441277,
          10.482263085002812,
          10.512290372564346,
          10.54231766012588,
          10.572344947687412,
          10.602372235248946,
          10.63239952281048,
          10.662426810372015,
          10.692454097933549,
          10.722481385495083,
          10.752508673056617,
          10.782535960618151,
          10.812563248179686,
          10.84259053574122,
          10.872617823302754,
          10.902645110864288,
          10.932672398425822,
          10.962699685987356,
          10.99272697354889,
          11.022754261110425,
          11.052781548671959,
          11.082808836233493,
          11.112836123795027,
          11.142863411356561,
          11.172890698918096,
          11.20291798647963,
          11.232945274041164,
          11.262972561602698,
          11.292999849164232,
          11.323027136725766,
          11.3530544242873,
          11.383081711848835,
          11.413108999410369,
          11.443136286971903,
          11.473163574533437,
          11.503190862094971,
          11.533218149656506,
          11.56324543721804,
          11.593272724779574,
          11.623300012341108,
          11.653327299902642,
          11.683354587464176,
          11.71338187502571,
          11.743409162587245,
          11.773436450148779,
          11.803463737710313,
          11.833491025271847,
          11.863518312833381,
          11.893545600394916,
          11.92357288795645,
          11.953600175517984,
          11.983627463079518,
          12.013654750641052,
          12.043682038202586,
          12.07370932576412,
          12.103736613325655,
          12.133763900887189,
          12.163791188448723,
          12.193818476010257,
          12.223845763571791,
          12.253873051133326,
          12.28390033869486,
          12.313927626256394,
          12.343954913817928,
          12.373982201379462,
          12.404009488940996,
          12.43403677650253,
          12.464064064064065,
          12.494091351625599,
          12.524118639187131,
          12.554145926748665,
          12.5841732143102,
          12.614200501871734,
          12.644227789433268,
          12.674255076994802,
          12.704282364556336,
          12.73430965211787,
          12.764336939679405,
          12.794364227240939,
          12.824391514802473,
          12.854418802364007,
          12.884446089925541,
          12.914473377487075,
          12.94450066504861,
          12.974527952610144,
          13.004555240171678,
          13.034582527733212,
          13.064609815294746,
          13.09463710285628,
          13.124664390417815,
          13.154691677979349,
          13.184718965540883,
          13.214746253102417,
          13.244773540663951,
          13.274800828225485,
          13.30482811578702,
          13.334855403348554,
          13.364882690910088,
          13.394909978471622,
          13.424937266033156,
          13.45496455359469,
          13.484991841156225,
          13.515019128717759,
          13.545046416279293,
          13.575073703840827,
          13.605100991402361,
          13.635128278963895,
          13.66515556652543,
          13.695182854086964,
          13.725210141648498,
          13.755237429210032,
          13.785264716771566,
          13.8152920043331,
          13.845319291894635,
          13.875346579456169,
          13.905373867017703,
          13.935401154579237,
          13.965428442140771,
          13.995455729702305,
          14.02548301726384,
          14.055510304825374,
          14.085537592386908,
          14.115564879948442,
          14.145592167509976,
          14.17561945507151,
          14.205646742633045,
          14.235674030194579,
          14.265701317756113,
          14.295728605317647,
          14.325755892879181,
          14.355783180440715,
          14.38581046800225,
          14.415837755563782,
          14.445865043125316,
          14.47589233068685,
          14.505919618248384,
          14.535946905809919,
          14.565974193371453,
          14.596001480932987,
          14.626028768494521,
          14.656056056056055,
          14.68608334361759,
          14.716110631179124,
          14.746137918740658,
          14.776165206302192,
          14.806192493863726,
          14.83621978142526,
          14.866247068986794,
          14.896274356548329,
          14.926301644109863,
          14.956328931671397,
          14.986356219232931,
          15.016383506794465,
          15.046410794356,
          15.076438081917534,
          15.106465369479068,
          15.136492657040602,
          15.166519944602136,
          15.19654723216367,
          15.226574519725204,
          15.256601807286739,
          15.286629094848273,
          15.316656382409807,
          15.346683669971341,
          15.376710957532875,
          15.40673824509441,
          15.436765532655944,
          15.466792820217478,
          15.496820107779012,
          15.526847395340546,
          15.55687468290208,
          15.586901970463614,
          15.616929258025149,
          15.646956545586683,
          15.676983833148217,
          15.707011120709751,
          15.737038408271285,
          15.76706569583282,
          15.797092983394354,
          15.827120270955888,
          15.857147558517422,
          15.887174846078956,
          15.91720213364049,
          15.947229421202024,
          15.977256708763559,
          16.007283996325093,
          16.037311283886627,
          16.06733857144816,
          16.097365859009695,
          16.12739314657123,
          16.157420434132764,
          16.187447721694298,
          16.217475009255832,
          16.247502296817366,
          16.2775295843789,
          16.307556871940434,
          16.33758415950197,
          16.367611447063503,
          16.397638734625037,
          16.42766602218657,
          16.457693309748105,
          16.48772059730964,
          16.517747884871174,
          16.547775172432708,
          16.577802459994242,
          16.607829747555776,
          16.63785703511731,
          16.667884322678844,
          16.69791161024038,
          16.727938897801913,
          16.757966185363447,
          16.78799347292498,
          16.818020760486515,
          16.84804804804805,
          16.878075335609584,
          16.908102623171118,
          16.938129910732652,
          16.968157198294186,
          16.99818448585572,
          17.028211773417254,
          17.05823906097879,
          17.088266348540323,
          17.118293636101857,
          17.14832092366339,
          17.178348211224925,
          17.20837549878646,
          17.238402786347994,
          17.268430073909528,
          17.298457361471062,
          17.328484649032593,
          17.358511936594127,
          17.38853922415566,
          17.418566511717195,
          17.44859379927873,
          17.478621086840263,
          17.508648374401798,
          17.53867566196333,
          17.568702949524866,
          17.5987302370864,
          17.628757524647934,
          17.65878481220947,
          17.688812099771003,
          17.718839387332537,
          17.74886667489407,
          17.778893962455605,
          17.80892125001714,
          17.838948537578673,
          17.868975825140208,
          17.89900311270174,
          17.929030400263276,
          17.95905768782481,
          17.989084975386344,
          18.01911226294788,
          18.049139550509413,
          18.079166838070947,
          18.10919412563248,
          18.139221413194015,
          18.16924870075555,
          18.199275988317083,
          18.229303275878618,
          18.25933056344015,
          18.289357851001686,
          18.31938513856322,
          18.349412426124754,
          18.37943971368629,
          18.409467001247823,
          18.439494288809357,
          18.46952157637089,
          18.499548863932425,
          18.52957615149396,
          18.559603439055493,
          18.589630726617028,
          18.61965801417856,
          18.649685301740096,
          18.67971258930163,
          18.709739876863164,
          18.7397671644247,
          18.769794451986233,
          18.799821739547767,
          18.8298490271093,
          18.859876314670835,
          18.88990360223237,
          18.919930889793903,
          18.949958177355438,
          18.97998546491697,
          19.010012752478506,
          19.04004004004004,
          19.070067327601574,
          19.10009461516311,
          19.130121902724643,
          19.160149190286177,
          19.19017647784771,
          19.220203765409245,
          19.25023105297078,
          19.280258340532313,
          19.310285628093848,
          19.34031291565538,
          19.370340203216916,
          19.40036749077845,
          19.430394778339984,
          19.46042206590152,
          19.490449353463053,
          19.520476641024587,
          19.55050392858612,
          19.580531216147655,
          19.61055850370919,
          19.640585791270723,
          19.670613078832258,
          19.70064036639379,
          19.730667653955326,
          19.76069494151686,
          19.790722229078394,
          19.82074951663993,
          19.850776804201463,
          19.880804091762997,
          19.91083137932453,
          19.940858666886065,
          19.9708859544476,
          20.000913242009133,
          20.030940529570668,
          20.0609678171322,
          20.090995104693736,
          20.12102239225527,
          20.151049679816804,
          20.18107696737834,
          20.211104254939873,
          20.241131542501407,
          20.27115883006294,
          20.301186117624475,
          20.33121340518601,
          20.361240692747543,
          20.391267980309078,
          20.42129526787061,
          20.451322555432146,
          20.48134984299368,
          20.511377130555214,
          20.54140441811675,
          20.571431705678282,
          20.601458993239817,
          20.63148628080135,
          20.661513568362885,
          20.69154085592442,
          20.721568143485953,
          20.751595431047487,
          20.78162271860902,
          20.811650006170556,
          20.84167729373209,
          20.871704581293624,
          20.90173186885516,
          20.931759156416692,
          20.961786443978227,
          20.99181373153976,
          21.021841019101295,
          21.05186830666283,
          21.081895594224363,
          21.111922881785897,
          21.141950169347428,
          21.171977456908962,
          21.202004744470496,
          21.23203203203203,
          21.262059319593565,
          21.2920866071551,
          21.322113894716633,
          21.352141182278167,
          21.3821684698397,
          21.412195757401236,
          21.44222304496277,
          21.472250332524304,
          21.502277620085838,
          21.532304907647372,
          21.562332195208906,
          21.59235948277044,
          21.622386770331975,
          21.65241405789351,
          21.682441345455043,
          21.712468633016577,
          21.74249592057811,
          21.772523208139646,
          21.80255049570118,
          21.832577783262714,
          21.862605070824248,
          21.892632358385782,
          21.922659645947316,
          21.95268693350885,
          21.982714221070385,
          22.01274150863192,
          22.042768796193453,
          22.072796083754987,
          22.10282337131652,
          22.132850658878056,
          22.16287794643959,
          22.192905234001124,
          22.222932521562658,
          22.252959809124192,
          22.282987096685726,
          22.31301438424726,
          22.343041671808795,
          22.37306895937033,
          22.403096246931863,
          22.433123534493397,
          22.46315082205493,
          22.493178109616466,
          22.523205397178,
          22.553232684739534,
          22.583259972301068,
          22.613287259862602,
          22.643314547424136,
          22.67334183498567,
          22.703369122547205,
          22.73339641010874,
          22.763423697670273,
          22.793450985231807,
          22.82347827279334,
          22.853505560354876,
          22.88353284791641,
          22.913560135477944,
          22.943587423039478,
          22.973614710601012,
          23.003641998162546,
          23.03366928572408,
          23.063696573285615,
          23.09372386084715,
          23.123751148408683,
          23.153778435970217,
          23.18380572353175,
          23.213833011093286,
          23.24386029865482,
          23.273887586216354,
          23.303914873777888,
          23.333942161339422,
          23.363969448900956,
          23.39399673646249,
          23.424024024024025,
          23.45405131158556,
          23.484078599147093,
          23.514105886708627,
          23.54413317427016,
          23.574160461831696,
          23.60418774939323,
          23.634215036954764,
          23.664242324516298,
          23.694269612077832,
          23.724296899639366,
          23.7543241872009,
          23.784351474762435,
          23.81437876232397,
          23.844406049885503,
          23.874433337447037,
          23.90446062500857,
          23.934487912570106,
          23.96451520013164,
          23.994542487693174,
          24.024569775254708,
          24.054597062816242,
          24.084624350377776,
          24.11465163793931,
          24.144678925500845,
          24.17470621306238,
          24.204733500623913,
          24.234760788185447,
          24.26478807574698,
          24.294815363308516,
          24.32484265087005,
          24.354869938431584,
          24.384897225993118,
          24.414924513554652,
          24.444951801116186,
          24.47497908867772,
          24.505006376239255,
          24.53503366380079,
          24.565060951362323,
          24.595088238923857,
          24.62511552648539,
          24.655142814046926,
          24.68517010160846,
          24.715197389169994,
          24.745224676731528,
          24.775251964293062,
          24.805279251854596,
          24.83530653941613,
          24.865333826977665,
          24.8953611145392,
          24.925388402100733,
          24.955415689662267,
          24.9854429772238,
          25.015470264785332,
          25.045497552346866,
          25.0755248399084,
          25.105552127469934,
          25.13557941503147,
          25.165606702593003,
          25.195633990154537,
          25.22566127771607,
          25.255688565277605,
          25.28571585283914,
          25.315743140400674,
          25.345770427962208,
          25.375797715523742,
          25.405825003085276,
          25.43585229064681,
          25.465879578208344,
          25.49590686576988,
          25.525934153331413,
          25.555961440892947,
          25.58598872845448,
          25.616016016016015,
          25.64604330357755,
          25.676070591139084,
          25.706097878700618,
          25.736125166262152,
          25.766152453823686,
          25.79617974138522,
          25.826207028946754,
          25.85623431650829,
          25.886261604069823,
          25.916288891631357,
          25.94631617919289,
          25.976343466754425,
          26.00637075431596,
          26.036398041877494,
          26.066425329439028,
          26.096452617000562,
          26.126479904562096,
          26.15650719212363,
          26.186534479685164,
          26.2165617672467,
          26.246589054808233,
          26.276616342369767,
          26.3066436299313,
          26.336670917492835,
          26.36669820505437,
          26.396725492615904,
          26.426752780177438,
          26.456780067738972,
          26.486807355300506,
          26.51683464286204,
          26.546861930423574,
          26.57688921798511,
          26.606916505546643,
          26.636943793108177,
          26.66697108066971,
          26.696998368231245,
          26.72702565579278,
          26.757052943354314,
          26.787080230915848,
          26.817107518477382,
          26.847134806038916,
          26.87716209360045,
          26.907189381161984,
          26.93721666872352,
          26.967243956285053,
          26.997271243846587,
          27.02729853140812,
          27.057325818969655,
          27.08735310653119,
          27.117380394092724,
          27.147407681654258,
          27.177434969215792,
          27.207462256777326,
          27.23748954433886,
          27.267516831900394,
          27.29754411946193,
          27.327571407023463,
          27.357598694584997,
          27.38762598214653,
          27.417653269708065,
          27.4476805572696,
          27.477707844831134,
          27.507735132392668,
          27.537762419954202,
          27.567789707515736,
          27.59781699507727,
          27.627844282638804,
          27.65787157020034,
          27.687898857761873,
          27.717926145323407,
          27.74795343288494,
          27.777980720446475,
          27.80800800800801,
          27.838035295569544,
          27.868062583131078,
          27.898089870692612,
          27.928117158254146,
          27.95814444581568,
          27.988171733377214,
          28.01819902093875,
          28.048226308500283,
          28.078253596061817,
          28.10828088362335,
          28.138308171184885,
          28.16833545874642,
          28.198362746307954,
          28.228390033869488,
          28.258417321431022,
          28.288444608992556,
          28.31847189655409,
          28.348499184115624,
          28.37852647167716,
          28.408553759238693,
          28.438581046800227,
          28.46860833436176,
          28.498635621923295,
          28.52866290948483,
          28.558690197046364,
          28.588717484607898,
          28.618744772169432,
          28.648772059730966,
          28.6787993472925,
          28.708826634854034,
          28.73885392241557,
          28.768881209977103,
          28.798908497538637,
          28.828935785100168,
          28.8589630726617,
          28.888990360223236,
          28.91901764778477,
          28.949044935346304,
          28.97907222290784,
          29.009099510469373,
          29.039126798030907,
          29.06915408559244,
          29.099181373153975,
          29.12920866071551,
          29.159235948277043,
          29.189263235838578,
          29.21929052340011,
          29.249317810961646,
          29.27934509852318,
          29.309372386084714,
          29.33939967364625,
          29.369426961207783,
          29.399454248769317,
          29.42948153633085,
          29.459508823892385,
          29.48953611145392,
          29.519563399015453,
          29.549590686576988,
          29.57961797413852,
          29.609645261700056,
          29.63967254926159,
          29.669699836823124,
          29.69972712438466,
          29.729754411946193,
          29.759781699507727,
          29.78980898706926,
          29.819836274630795,
          29.84986356219233,
          29.879890849753863,
          29.909918137315398,
          29.93994542487693,
          29.969972712438466,
          30
         ],
         "y": [
          5.422690633245218,
          5.379472823870143,
          5.336841040251475,
          5.2948000561531305,
          5.253354565996383,
          5.212509185445127,
          5.172268452050955,
          5.132636825957091,
          5.093618690668426,
          5.055218353876656,
          5.017440048347593,
          4.9802879328663066,
          4.943766093238329,
          4.90787854334976,
          4.8726292262808775,
          4.838022015475117,
          4.804060715961609,
          4.770749065630663,
          4.738090736560291,
          4.706089336393927,
          4.6747484097674885,
          4.644071439785849,
          4.614061849546371,
          4.584723003710026,
          4.556058210117829,
          4.528070727123906,
          4.500763970535303,
          4.474140867705793,
          4.4482045162048225,
          4.422957965526735,
          4.398404218965596,
          4.374546235529331,
          4.351386931893667,
          4.328929184394678,
          4.307172189524082,
          4.286088613249762,
          4.265642140205333,
          4.245800392865268,
          4.2265344844982895,
          4.207818571918682,
          4.189629475200271,
          4.171946352947886,
          4.154750423887564,
          4.13802472725242,
          4.121753915805814,
          4.105924076435985,
          4.090522574135492,
          4.075537915890385,
          4.060959631581251,
          4.04677816947147,
          4.032984810578883,
          4.019571686328659,
          4.006531367969842,
          3.993857159474323,
          3.981542918130531,
          3.969583004209499,
          3.957972236044978,
          3.946705849864351,
          3.9357794637981063,
          3.925189045573673,
          3.914930883464598,
          3.9050015601227153,
          3.8953979289687646,
          3.886117092857669,
          3.8771563847710646,
          3.868513350318829,
          3.8601857318590427,
          3.8521712045269725,
          3.8444616962014937,
          3.837043541444288,
          3.8299035671652213,
          3.8230293385938436,
          3.8164091080564786,
          3.8100317679578803,
          3.803886807570465,
          3.797964278599727,
          3.792254805032699,
          3.7867493723405974,
          3.7814394900677293,
          3.7763170944442375,
          3.7713745217349617,
          3.766604483559907,
          3.7620000440186283,
          3.7575545984660534,
          3.753261853802946,
          3.749115810155751,
          3.745110743833453,
          3.7412411914582675,
          3.737501935177466,
          3.733887988870855,
          3.7303945852769216,
          3.7270171639669645,
          3.723751360102661,
          3.720592993918275,
          3.7175380608735678,
          3.714582722428006,
          3.711723297391119,
          3.708956253807293,
          3.7062782013370454,
          3.7036858840996034,
          3.7011761774689282,
          3.698746328002511,
          3.69639418450554,
          3.6941177804591767,
          3.691915226052621,
          3.6897847045390644,
          3.687724468797805,
          3.68573283808902,
          3.6838081949886883,
          3.6819489824921017,
          3.680153701275302,
          3.6784209071045137,
          3.6767492083841358,
          3.675137263835029,
          3.6735837802948432,
          3.672087510633053,
          3.6706472517738673,
          3.6692618428204122,
          3.6679301632742916,
          3.6666511313449,
          3.6654237023432694,
          3.6642468671554567,
          3.663119650791104,
          3.66204111100273,
          3.6610103369718425,
          3.6600264499760757,
          3.659088609559694,
          3.6581959782735045,
          3.657347759112038,
          3.6565431808072426,
          3.6557814968446922,
          3.655061984524962,
          3.654383944067592,
          3.6537466977555715,
          3.6531495891180987,
          3.652591982149685,
          3.6520732605637725,
          3.651592827079013,
          3.6511501027366617,
          3.650744526247425,
          3.6503755533663282,
          3.6500426562942203,
          3.64974532310465,
          3.6494830571947365,
          3.6492553767589992,
          3.649061814285022,
          3.648901916069831,
          3.648775241756052,
          3.648681363886968,
          3.6486198674794643,
          3.6485903511934468,
          3.6485924310035913,
          3.6486257179031645,
          3.6486898428746404,
          3.6487844474800974,
          3.6489091835258316,
          3.6490637127399634,
          3.6492477064623428,
          3.6494608453463036,
          3.6497028190717544,
          3.6499733260690084,
          3.6502720732530114,
          3.6505987757674054,
          3.650953156738127,
          3.651334947035993,
          3.651743885048028,
          3.6521797164570775,
          3.6526421771613062,
          3.6531307384966185,
          3.6536446620304326,
          3.654183218682681,
          3.6547456950992916,
          3.6553313931866924,
          3.655939629662446,
          3.656569735621351,
          3.6572210573164154,
          3.657892957564374,
          3.658584802312925,
          3.6592959761280794,
          3.6600258759947457,
          3.6607739109637754,
          3.6615395018106045,
          3.662322080705232,
          3.663121090892928,
          3.6639359863854715,
          3.66476623166227,
          3.6656113013812086,
          3.6664706800987528,
          3.6673438619989684,
          3.6682303506311875,
          3.6691296586558924,
          3.6700413075986735,
          3.6709648276117983,
          3.671899757243252,
          3.672845643212904,
          3.6738020401955627,
          3.6747685106107038,
          3.6757446244185794,
          3.676729958922537,
          3.6777240985772823,
          3.6787266353358796,
          3.679737168843587,
          3.6807553016828187,
          3.6817806451151545,
          3.6828128166772305,
          3.6838514400208124,
          3.684896144757415,
          3.6859465663075417,
          3.6870023457542236,
          3.6880631297008186,
          3.6891285701328638,
          3.690198324283885,
          3.6912720545050166,
          3.6923494281383094,
          3.693430117393624,
          3.694513799228978,
          3.695600155234196,
          3.696688871517864,
          3.6977796385973756,
          3.698872151292008,
          3.6999661086189506,
          3.701061213692198,
          3.702157173624159,
          3.703253699429977,
          3.7043505059344093,
          3.7054473116602895,
          3.70654383861867,
          3.707639812532815,
          3.708734962587341,
          3.7098290213469527,
          3.7109217246773354,
          3.712012811668068,
          3.7131020245576036,
          3.714189108660188,
          3.715273854994737,
          3.7163562417192124,
          3.7174362978157376,
          3.718514051764436,
          3.719589531542415,
          3.720662764634172,
          3.7217337780417536,
          3.7228025982946176,
          3.7238692514593077,
          3.72493376314884,
          3.7259961585318964,
          3.7270564623417557,
          3.7281146988850358,
          3.7291708920502176,
          3.73022506531595,
          3.7312772417591606,
          3.732327443900338,
          3.733375693720392,
          3.734422013631027,
          3.7354664251792338,
          3.7365089495480426,
          3.737549607563529,
          3.7385884197016845,
          3.7396254060950938,
          3.7406605865394904,
          3.7416939805001257,
          3.742725607118022,
          3.7437554852160555,
          3.7447836333049316,
          3.7458100695889702,
          3.746834811971827,
          3.747857878062017,
          3.7488792851783885,
          3.749899050355378,
          3.7509171903482557,
          3.7519337216381565,
          3.7529486604370454,
          3.7539620226925985,
          3.7549738240929185,
          3.7559840800711664,
          3.7569928058101243,
          3.758000016109056,
          3.759005725444245,
          3.7600099486394924,
          3.761012699919183,
          3.762013993278547,
          3.7630138424876476,
          3.7640122610952655,
          3.765009262432697,
          3.766004859617503,
          3.7669990655571377,
          3.767991892952524,
          3.7689833543015463,
          3.7699734619024787,
          3.7709622278573303,
          3.7719496640751133,
          3.772935782275082,
          3.773920593989852,
          3.7749041105684884,
          3.7758863431795233,
          3.7768673028139035,
          3.7778470002879123,
          3.7788254462459565,
          3.7798026511633775,
          3.7807786253491638,
          3.781753378948627,
          3.7827269218259136,
          3.7836992636508247,
          3.784670414375403,
          3.7856403835156374,
          3.7866091804363915,
          3.7875768143537476,
          3.788543294337339,
          3.789508629312587,
          3.790472828062952,
          3.791435899232115,
          3.7923978513260885,
          3.7933586927153558,
          3.7943184316368765,
          3.7952770761961427,
          3.796234634369136,
          3.797191114004277,
          3.7981465228243114,
          3.799100868428193,
          3.800054158292902,
          3.801006399775241,
          3.8019576001135995,
          3.8029077664296755,
          3.803856905730183,
          3.8048050249084824,
          3.8057521307462667,
          3.8066982298067593,
          3.807643328539204,
          3.8085874336260526,
          3.8095305514178,
          3.8104726881609436,
          3.811413849999465,
          3.8123540429762395,
          3.813293273034452,
          3.814231546027476,
          3.8151688877819208,
          3.8161053902528588,
          3.8170411586149675,
          3.8179762972650995,
          3.8189109098357257,
          3.8198450992081,
          3.820778967525254,
          3.8217126162047594,
          3.8226461459512944,
          3.823579656768992,
          3.8245132479736053,
          3.825447018204471,
          3.8263810654362946,
          3.827315486990726,
          3.828250379547786,
          3.829185839157075,
          3.8301219613372313,
          3.8310588410283533,
          3.831996572310388,
          3.8329352488196218,
          3.83387496361555,
          3.8348158091911433,
          3.8357578774829086,
          3.8367012598808494,
          3.8376460472382274,
          3.838592329881234,
          3.839540197618481,
          3.840489739750374,
          3.8414410450783345,
          3.8423942019139097,
          3.8433492980877406,
          3.8443064209584055,
          3.8452656574211352,
          3.846227093916423,
          3.84719081643849,
          3.8481569105436524,
          3.8491254613585832,
          3.8500965535884375,
          3.851070271524873,
          3.852046699054003,
          3.853025919664171,
          3.854008016823591,
          3.8549930735326288,
          3.8559811715327297,
          3.85697239279705,
          3.8579668189385945,
          3.858964531217455,
          3.8599656105479525,
          3.8609701375056957,
          3.8619781923345426,
          3.862989854953498,
          3.8640052049634948,
          3.8650243216541407,
          3.866047284010329,
          3.867074170718836,
          3.868105060174787,
          3.8691400304880688,
          3.870179159489696,
          3.8712225247380467,
          3.872270203525097,
          3.8733222728825276,
          3.874378809587812,
          3.8754398901702043,
          3.8765055909166795,
          3.8775759878778158,
          3.878651156873617,
          3.8797311741556695,
          3.880816115463436,
          3.88190605498975,
          3.8830010676890656,
          3.884101228313469,
          3.885206611418174,
          3.8863172913669453,
          3.887433342337466,
          3.8885548383266824,
          3.8896818531560693,
          3.89081446047688,
          3.8919527337753195,
          3.8930967463776995,
          3.894246571455535,
          3.895402282030595,
          3.8965639509799357,
          3.8977316510408633,
          3.8989054548158726,
          3.9000854347775555,
          3.9012716632734525,
          3.902464212530883,
          3.903663154661737,
          3.9048685616672323,
          3.9060805054426306,
          3.9072990577819424,
          3.908524291339111,
          3.909756278091265,
          3.910995088276017,
          3.912240793328543,
          3.9134934646057697,
          3.9147531733908907,
          3.9160199908978477,
          3.9172939882757953,
          3.9185752366135636,
          3.9198638069440297,
          3.921159770248558,
          3.9224631974613398,
          3.923774159473762,
          3.925092727138725,
          3.926418971274957,
          3.927752962671313,
          3.929094772091036,
          3.9304444702760186,
          3.931802127951047,
          3.9331678158280114,
          3.9345416046101307,
          3.935923564996129,
          3.937313767684437,
          3.9387122833773347,
          3.940119182785129,
          3.941534537909084,
          3.9429584198064695,
          3.944390897686501,
          3.9458320423329076,
          3.947281924558053,
          3.9487406152070346,
          3.950208185161768,
          3.9516847053450714,
          3.9531702467247434,
          3.95466488031763,
          3.9561686771936824,
          3.957681708480033,
          3.959204045365038,
          3.960735759102339,
          3.9622769210149125,
          3.963827602499122,
          3.9653878750287643,
          3.966957810159117,
          3.9685374795309967,
          3.970126954874795,
          3.97172630801454,
          3.9733356108719424,
          3.974954935470463,
          3.9765843539393524,
          3.978223938517738,
          3.979873763191277,
          3.981533900638699,
          3.983204421661556,
          3.9848853989792947,
          3.9865769054416305,
          3.988279014032641,
          3.989991797874887,
          3.9917153302335135,
          3.9934496845203875,
          3.9951949342982362,
          3.9969511532847806,
          3.998718415356906,
          4.000496794554829,
          4.002286365086277,
          4.004087201330689,
          4.005899377843426,
          4.00772296935999,
          4.009558050800264,
          4.011404697272773,
          4.013262984078944,
          4.015132986717406,
          4.01701478088829,
          4.018908442497547,
          4.020814047661304,
          4.022731672710209,
          4.024661387831818,
          4.026603104549497,
          4.028556593776177,
          4.030521624434743,
          4.032497966252579,
          4.034485389744164,
          4.036483666193835,
          4.03849256763875,
          4.0405118668520235,
          4.042541337326026,
          4.044580753255894,
          4.046629889523165,
          4.048688521679636,
          4.050756425931354,
          4.05283337912279,
          4.054919158721185,
          4.057013542801046,
          4.0591163100288234,
          4.061227239647731,
          4.063346111462739,
          4.065472705825727,
          4.067606803620786,
          4.069748186249683,
          4.071896635617461,
          4.074051934118235,
          4.076213865743688,
          4.078382213606726,
          4.080556760435067,
          4.082737290440176,
          4.0849235882536385,
          4.0871154389138376,
          4.0893126278527525,
          4.091514940882913,
          4.093722164184478,
          4.095934084292475,
          4.098150488084179,
          4.100371162766614,
          4.10259589586421,
          4.104824475206594,
          4.107056688916507,
          4.109292325397882,
          4.111531173324024,
          4.113773021625963,
          4.116017659480901,
          4.118264876300835,
          4.1205144617212675,
          4.122766205590094,
          4.125019897956589,
          4.127275329060543,
          4.129532289321518,
          4.131790569531742,
          4.1340499602932015,
          4.136310252303786,
          4.1385712365975,
          4.140832704336358,
          4.143094446800443,
          4.145356255378052,
          4.147617921556003,
          4.14987923691006,
          4.1521399930954805,
          4.154399981837701,
          4.156658994923137,
          4.158916824190135,
          4.161173261520011,
          4.163428098828258,
          4.165681128055872,
          4.167932141160774,
          4.170180930109407,
          4.172427286868419,
          4.174671003396512,
          4.176911871636386,
          4.179149683506826,
          4.181384230894924,
          4.1836153056484235,
          4.185842699568173,
          4.188066203615319,
          4.19028560956998,
          4.192500709599346,
          4.194711295243983,
          4.196917157961869,
          4.199118089121661,
          4.201313879996068,
          4.203504321755373,
          4.205689205461083,
          4.207868322059709,
          4.210041462376684,
          4.212208417110413,
          4.214368976826452,
          4.216522931951837,
          4.218670072769532,
          4.220810189413025,
          4.222943071861051,
          4.225068509932473,
          4.227186293281272,
          4.229296211391695,
          4.231398053573551,
          4.233491608957625,
          4.235576666491242,
          4.237653014933996,
          4.239720442853582,
          4.24177873675289,
          4.243827685313439,
          4.245867077721209,
          4.2478967017375435,
          4.249916344913342,
          4.251925794585778,
          4.253924837875188,
          4.255913261682103,
          4.2578908526844295,
          4.2598573973347795,
          4.2618126818579745,
          4.2637564922486755,
          4.265688614269187,
          4.267608833447422,
          4.269516935075,
          4.2714127042055345,
          4.273295925653059,
          4.275166383990631,
          4.277023863549077,
          4.278868148415921,
          4.280699022434469,
          4.282516269203062,
          4.2843196720744885,
          4.2861090141555795,
          4.287884078306959,
          4.2896446440776375,
          4.291390494943464,
          4.293121414838349,
          4.294837185638849,
          4.296537588976676,
          4.298222406239515,
          4.299891418571984,
          4.301544406876799,
          4.303181151816109,
          4.304801433813019,
          4.306405033053292,
          4.307991729487233,
          4.30956130283176,
          4.311113532572674,
          4.312648197967094,
          4.31416507804611,
          4.315663951617599,
          4.317144597269246,
          4.31860679337177,
          4.32005031808232,
          4.321474949348083,
          4.322880464910093,
          4.32426664230722,
          4.3256332588803765,
          4.326980091776918,
          4.328306913571926,
          4.329613502939387,
          4.330899638808351,
          4.332165097599832,
          4.333409655566349,
          4.3346330887975695,
          4.335835173226131,
          4.337015684633703,
          4.33817439865724,
          4.339311090795469,
          4.340425536415564,
          4.341517510760056,
          4.342586788953948,
          4.3436331460120545,
          4.34465635684654,
          4.345656196274714,
          4.346632439043125,
          4.34758492980188,
          4.348513766949309,
          4.349419107241007,
          4.350301107359433,
          4.351159923914968,
          4.351995713446905,
          4.352808632424417,
          4.353598837247481,
          4.354366479207455,
          4.355111717269517,
          4.355834710074866,
          4.3565356137549704,
          4.357214584376075,
          4.357871777939881,
          4.3585073503841905,
          4.359121457583502,
          4.359714255349582,
          4.360285899431992,
          4.360836545518586,
          4.361366349235968,
          4.36187546614992,
          4.3623640517657964,
          4.36283226152888,
          4.363280250824714,
          4.363708174979401,
          4.364116189259864,
          4.364504448874087,
          4.364873108971317,
          4.365222324642249,
          4.365552250919172,
          4.365863042776086,
          4.366154855128811,
          4.366427842835046,
          4.366682156374289,
          4.366917953044729,
          4.367135389396825,
          4.367334620055933,
          4.3675157995892695,
          4.367679082505832,
          4.367824623256303,
          4.367952576232939,
          4.368063095769423,
          4.36815633614071,
          4.3682324515628554,
          4.3682915961928135,
          4.3683339241282235,
          4.36835958940718,
          4.368368746007986,
          4.368361547848889,
          4.368338148787797,
          4.368298702621988,
          4.368243363087805,
          4.36817228386032,
          4.368085618553017,
          4.367983520717429,
          4.367866143842782,
          4.367733641355632,
          4.367586166619471,
          4.36742386939021,
          4.367246905192247,
          4.367055428555876,
          4.3668495925882755,
          4.36662955033153,
          4.366395454762176,
          4.36614745879078,
          4.365885715261481,
          4.365610376951539,
          4.365321596570889,
          4.365019526761682,
          4.364704320097802,
          4.364376129084433,
          4.364035106157561,
          4.3636814036835245,
          4.363315173958528,
          4.3629365692081805,
          4.362545741587023,
          4.36214284317805,
          4.361728025992248,
          4.361301441968117,
          4.360863242971219,
          4.360413580793698,
          4.359952607153828,
          4.359480473695558,
          4.358997329273963,
          4.358503327281031,
          4.35799862005233,
          4.357483358929949,
          4.356957695179449,
          4.356421779989435,
          4.35587576447114,
          4.3553197996580275,
          4.35475403650539,
          4.354178625889957,
          4.353593718609524,
          4.352999465382585,
          4.352396016847967,
          4.351783523564501,
          4.351162136010671,
          4.350532004584308,
          4.349893279602274,
          4.349246111300168,
          4.3485906498320555,
          4.3479270452701915,
          4.347255447604774,
          4.346576006743708,
          4.345888872512396,
          4.34519419465352,
          4.3444921228268685,
          4.343782804776425,
          4.343066391385079,
          4.342343032606245,
          4.34161287776655,
          4.340876076109058,
          4.340132776793224,
          4.339383128894821,
          4.3386272814059215,
          4.337865383234885,
          4.337097583206364,
          4.3363240300613555,
          4.335544872457244,
          4.3347602589678855,
          4.333970338083725,
          4.333175258211909,
          4.332375167676457,
          4.331570214718426,
          4.330760547496132,
          4.329946314085371,
          4.329127662479678,
          4.328304740590623,
          4.32747769624812,
          4.326646677200757,
          4.3258118311161935,
          4.3249733055815245,
          4.324131247201333,
          4.323285804168496,
          4.3224371240665675,
          4.3215853541649905,
          4.320730641655109,
          4.319873133650764,
          4.319012977188894,
          4.3181503192302,
          4.317285306659811,
          4.316418086288017,
          4.3155488048510025,
          4.314677609011638,
          4.313804645360302,
          4.31293006041573,
          4.312054000625903,
          4.311176612368984,
          4.310298041954274,
          4.309418435623212,
          4.308537939550423,
          4.307656699844776,
          4.30677486255052,
          4.305892573648427,
          4.3050099790569885,
          4.304127224633644,
          4.303244456176069,
          4.30236181949989,
          4.301479460315926,
          4.3005975242428525,
          4.299716156852762,
          4.298835503664966,
          4.297955710147535,
          4.297076921718854,
          4.296199283749239,
          4.295322933999341,
          4.2944478515669475,
          4.29357386320031,
          4.292700789453436,
          4.291828451000095,
          4.290956668631695,
          4.290085263255267,
          4.289214055891526,
          4.288342867673041,
          4.287471519842487,
          4.286599833751003,
          4.285727630856628,
          4.284854732722853,
          4.283980961017249,
          4.283106137510205,
          4.2822300840737535,
          4.281352622680498,
          4.280473574902734,
          4.279592763213049,
          4.278710009959674,
          4.277825137508791,
          4.276937968323251,
          4.2760483249620735,
          4.275156030080074,
          4.274260906427573,
          4.273362776850208,
          4.272461464288853,
          4.271556791779639,
          4.270648582454059,
          4.269736659539206,
          4.268820846358086,
          4.2679009663300445,
          4.266976842971298,
          4.266048299895574,
          4.265115160814835,
          4.264177249540133,
          4.263234389982553,
          4.26228640615426,
          4.26133312216967,
          4.260374362246707,
          4.259409950708169,
          4.25843971198322,
          4.257463468806849,
          4.256481047260539,
          4.2554922723527095,
          4.254496968955005,
          4.253494962054453,
          4.252486076755578,
          4.251470138282646,
          4.2504469719820035,
          4.249416403324546,
          4.248378257908279,
          4.247332361461005,
          4.2462785398431,
          4.245216619050428,
          4.244146425217349,
          4.243067784619847,
          4.241980523678763,
          4.240884468963143,
          4.239779447193713,
          4.238665285246437,
          4.237541810156219,
          4.236408849120701,
          4.235266229504166,
          4.234113778841592,
          4.232951324842767,
          4.2317786953965655,
          4.230595715419354,
          4.229402215867631,
          4.2281980255392995,
          4.226982973084598,
          4.225756887355844,
          4.224519597412375,
          4.22327093252561,
          4.222010722184218,
          4.220738796099397,
          4.219454984210286,
          4.218159116689468,
          4.216851023948603,
          4.215530536644174,
          4.2141974856833375,
          4.212851702229895,
          4.211493017710384,
          4.210121263820267,
          4.208736272530247,
          4.207337876092696,
          4.205925907048183,
          4.204500198232134,
          4.20306058278159,
          4.201606894142079,
          4.200138966074609,
          4.198656632662758,
          4.197159723775998,
          4.1956480782340595,
          4.194121531496565,
          4.1925799190109485,
          4.191023076584367,
          4.18945084039146,
          4.187863046982223,
          4.186259533289964,
          4.184640136639399,
          4.183004694754823,
          4.181353045768409,
          4.179685028228601,
          4.178000481108609,
          4.176299243815018,
          4.174581156196488,
          4.172846058552562,
          4.171093791642572,
          4.169324196694648,
          4.167537115414822,
          4.165732389996233,
          4.163909863128423,
          4.162069378006743,
          4.160210778341832,
          4.158333908369216,
          4.156438612858972,
          4.15452473119271,
          4.15259211475938,
          4.15064061030196,
          4.148670064827935,
          4.146680325929099,
          4.144671241791757,
          4.142642661207018,
          4.140594433581171,
          4.1385264089461336,
          4.136438437969993,
          4.134330371967608,
          4.132202062911303,
          4.130053363441629,
          4.127884126878195,
          4.1256942072305804,
          4.123483459209301,
          4.121251738236865,
          4.11899890045887,
          4.116724802755183,
          4.114429302751178,
          4.112112258829031,
          4.10977353013907,
          4.1074129766111955,
          4.105030458966335,
          4.1026258387279775,
          4.100198970960911,
          4.097749725824948,
          4.095277967507026,
          4.0927835608578675,
          4.090266371589072,
          4.087726266284896,
          4.0851631124140875,
          4.08257677834174,
          4.079967133341189,
          4.077334047605932,
          4.074677392261586,
          4.072005085342894,
          4.0693324075317365,
          4.066659729720579,
          4.063987051909421,
          4.061314374098263,
          4.058641696287105,
          4.055969018475946,
          4.053296340664788,
          4.0506236628536305,
          4.047950985042473,
          4.045278307231315,
          4.042605629420157,
          4.039932951608999,
          4.037260273797841
         ]
        }
       ],
       "layout": {
        "height": 800,
        "legend": {
         "title": {
          "text": "Label"
         },
         "tracegroupgap": 0
        },
        "template": {
         "data": {
          "bar": [
           {
            "error_x": {
             "color": "#f2f5fa"
            },
            "error_y": {
             "color": "#f2f5fa"
            },
            "marker": {
             "line": {
              "color": "rgb(17,17,17)",
              "width": 0.5
             },
             "pattern": {
              "fillmode": "overlay",
              "size": 10,
              "solidity": 0.2
             }
            },
            "type": "bar"
           }
          ],
          "barpolar": [
           {
            "marker": {
             "line": {
              "color": "rgb(17,17,17)",
              "width": 0.5
             },
             "pattern": {
              "fillmode": "overlay",
              "size": 10,
              "solidity": 0.2
             }
            },
            "type": "barpolar"
           }
          ],
          "carpet": [
           {
            "aaxis": {
             "endlinecolor": "#A2B1C6",
             "gridcolor": "#506784",
             "linecolor": "#506784",
             "minorgridcolor": "#506784",
             "startlinecolor": "#A2B1C6"
            },
            "baxis": {
             "endlinecolor": "#A2B1C6",
             "gridcolor": "#506784",
             "linecolor": "#506784",
             "minorgridcolor": "#506784",
             "startlinecolor": "#A2B1C6"
            },
            "type": "carpet"
           }
          ],
          "choropleth": [
           {
            "colorbar": {
             "outlinewidth": 0,
             "ticks": ""
            },
            "type": "choropleth"
           }
          ],
          "contour": [
           {
            "colorbar": {
             "outlinewidth": 0,
             "ticks": ""
            },
            "colorscale": [
             [
              0,
              "#0d0887"
             ],
             [
              0.1111111111111111,
              "#46039f"
             ],
             [
              0.2222222222222222,
              "#7201a8"
             ],
             [
              0.3333333333333333,
              "#9c179e"
             ],
             [
              0.4444444444444444,
              "#bd3786"
             ],
             [
              0.5555555555555556,
              "#d8576b"
             ],
             [
              0.6666666666666666,
              "#ed7953"
             ],
             [
              0.7777777777777778,
              "#fb9f3a"
             ],
             [
              0.8888888888888888,
              "#fdca26"
             ],
             [
              1,
              "#f0f921"
             ]
            ],
            "type": "contour"
           }
          ],
          "contourcarpet": [
           {
            "colorbar": {
             "outlinewidth": 0,
             "ticks": ""
            },
            "type": "contourcarpet"
           }
          ],
          "heatmap": [
           {
            "colorbar": {
             "outlinewidth": 0,
             "ticks": ""
            },
            "colorscale": [
             [
              0,
              "#0d0887"
             ],
             [
              0.1111111111111111,
              "#46039f"
             ],
             [
              0.2222222222222222,
              "#7201a8"
             ],
             [
              0.3333333333333333,
              "#9c179e"
             ],
             [
              0.4444444444444444,
              "#bd3786"
             ],
             [
              0.5555555555555556,
              "#d8576b"
             ],
             [
              0.6666666666666666,
              "#ed7953"
             ],
             [
              0.7777777777777778,
              "#fb9f3a"
             ],
             [
              0.8888888888888888,
              "#fdca26"
             ],
             [
              1,
              "#f0f921"
             ]
            ],
            "type": "heatmap"
           }
          ],
          "heatmapgl": [
           {
            "colorbar": {
             "outlinewidth": 0,
             "ticks": ""
            },
            "colorscale": [
             [
              0,
              "#0d0887"
             ],
             [
              0.1111111111111111,
              "#46039f"
             ],
             [
              0.2222222222222222,
              "#7201a8"
             ],
             [
              0.3333333333333333,
              "#9c179e"
             ],
             [
              0.4444444444444444,
              "#bd3786"
             ],
             [
              0.5555555555555556,
              "#d8576b"
             ],
             [
              0.6666666666666666,
              "#ed7953"
             ],
             [
              0.7777777777777778,
              "#fb9f3a"
             ],
             [
              0.8888888888888888,
              "#fdca26"
             ],
             [
              1,
              "#f0f921"
             ]
            ],
            "type": "heatmapgl"
           }
          ],
          "histogram": [
           {
            "marker": {
             "pattern": {
              "fillmode": "overlay",
              "size": 10,
              "solidity": 0.2
             }
            },
            "type": "histogram"
           }
          ],
          "histogram2d": [
           {
            "colorbar": {
             "outlinewidth": 0,
             "ticks": ""
            },
            "colorscale": [
             [
              0,
              "#0d0887"
             ],
             [
              0.1111111111111111,
              "#46039f"
             ],
             [
              0.2222222222222222,
              "#7201a8"
             ],
             [
              0.3333333333333333,
              "#9c179e"
             ],
             [
              0.4444444444444444,
              "#bd3786"
             ],
             [
              0.5555555555555556,
              "#d8576b"
             ],
             [
              0.6666666666666666,
              "#ed7953"
             ],
             [
              0.7777777777777778,
              "#fb9f3a"
             ],
             [
              0.8888888888888888,
              "#fdca26"
             ],
             [
              1,
              "#f0f921"
             ]
            ],
            "type": "histogram2d"
           }
          ],
          "histogram2dcontour": [
           {
            "colorbar": {
             "outlinewidth": 0,
             "ticks": ""
            },
            "colorscale": [
             [
              0,
              "#0d0887"
             ],
             [
              0.1111111111111111,
              "#46039f"
             ],
             [
              0.2222222222222222,
              "#7201a8"
             ],
             [
              0.3333333333333333,
              "#9c179e"
             ],
             [
              0.4444444444444444,
              "#bd3786"
             ],
             [
              0.5555555555555556,
              "#d8576b"
             ],
             [
              0.6666666666666666,
              "#ed7953"
             ],
             [
              0.7777777777777778,
              "#fb9f3a"
             ],
             [
              0.8888888888888888,
              "#fdca26"
             ],
             [
              1,
              "#f0f921"
             ]
            ],
            "type": "histogram2dcontour"
           }
          ],
          "mesh3d": [
           {
            "colorbar": {
             "outlinewidth": 0,
             "ticks": ""
            },
            "type": "mesh3d"
           }
          ],
          "parcoords": [
           {
            "line": {
             "colorbar": {
              "outlinewidth": 0,
              "ticks": ""
             }
            },
            "type": "parcoords"
           }
          ],
          "pie": [
           {
            "automargin": true,
            "type": "pie"
           }
          ],
          "scatter": [
           {
            "marker": {
             "line": {
              "color": "#283442"
             }
            },
            "type": "scatter"
           }
          ],
          "scatter3d": [
           {
            "line": {
             "colorbar": {
              "outlinewidth": 0,
              "ticks": ""
             }
            },
            "marker": {
             "colorbar": {
              "outlinewidth": 0,
              "ticks": ""
             }
            },
            "type": "scatter3d"
           }
          ],
          "scattercarpet": [
           {
            "marker": {
             "colorbar": {
              "outlinewidth": 0,
              "ticks": ""
             }
            },
            "type": "scattercarpet"
           }
          ],
          "scattergeo": [
           {
            "marker": {
             "colorbar": {
              "outlinewidth": 0,
              "ticks": ""
             }
            },
            "type": "scattergeo"
           }
          ],
          "scattergl": [
           {
            "marker": {
             "line": {
              "color": "#283442"
             }
            },
            "type": "scattergl"
           }
          ],
          "scattermapbox": [
           {
            "marker": {
             "colorbar": {
              "outlinewidth": 0,
              "ticks": ""
             }
            },
            "type": "scattermapbox"
           }
          ],
          "scatterpolar": [
           {
            "marker": {
             "colorbar": {
              "outlinewidth": 0,
              "ticks": ""
             }
            },
            "type": "scatterpolar"
           }
          ],
          "scatterpolargl": [
           {
            "marker": {
             "colorbar": {
              "outlinewidth": 0,
              "ticks": ""
             }
            },
            "type": "scatterpolargl"
           }
          ],
          "scatterternary": [
           {
            "marker": {
             "colorbar": {
              "outlinewidth": 0,
              "ticks": ""
             }
            },
            "type": "scatterternary"
           }
          ],
          "surface": [
           {
            "colorbar": {
             "outlinewidth": 0,
             "ticks": ""
            },
            "colorscale": [
             [
              0,
              "#0d0887"
             ],
             [
              0.1111111111111111,
              "#46039f"
             ],
             [
              0.2222222222222222,
              "#7201a8"
             ],
             [
              0.3333333333333333,
              "#9c179e"
             ],
             [
              0.4444444444444444,
              "#bd3786"
             ],
             [
              0.5555555555555556,
              "#d8576b"
             ],
             [
              0.6666666666666666,
              "#ed7953"
             ],
             [
              0.7777777777777778,
              "#fb9f3a"
             ],
             [
              0.8888888888888888,
              "#fdca26"
             ],
             [
              1,
              "#f0f921"
             ]
            ],
            "type": "surface"
           }
          ],
          "table": [
           {
            "cells": {
             "fill": {
              "color": "#506784"
             },
             "line": {
              "color": "rgb(17,17,17)"
             }
            },
            "header": {
             "fill": {
              "color": "#2a3f5f"
             },
             "line": {
              "color": "rgb(17,17,17)"
             }
            },
            "type": "table"
           }
          ]
         },
         "layout": {
          "annotationdefaults": {
           "arrowcolor": "#f2f5fa",
           "arrowhead": 0,
           "arrowwidth": 1
          },
          "autotypenumbers": "strict",
          "coloraxis": {
           "colorbar": {
            "outlinewidth": 0,
            "ticks": ""
           }
          },
          "colorscale": {
           "diverging": [
            [
             0,
             "#8e0152"
            ],
            [
             0.1,
             "#c51b7d"
            ],
            [
             0.2,
             "#de77ae"
            ],
            [
             0.3,
             "#f1b6da"
            ],
            [
             0.4,
             "#fde0ef"
            ],
            [
             0.5,
             "#f7f7f7"
            ],
            [
             0.6,
             "#e6f5d0"
            ],
            [
             0.7,
             "#b8e186"
            ],
            [
             0.8,
             "#7fbc41"
            ],
            [
             0.9,
             "#4d9221"
            ],
            [
             1,
             "#276419"
            ]
           ],
           "sequential": [
            [
             0,
             "#0d0887"
            ],
            [
             0.1111111111111111,
             "#46039f"
            ],
            [
             0.2222222222222222,
             "#7201a8"
            ],
            [
             0.3333333333333333,
             "#9c179e"
            ],
            [
             0.4444444444444444,
             "#bd3786"
            ],
            [
             0.5555555555555556,
             "#d8576b"
            ],
            [
             0.6666666666666666,
             "#ed7953"
            ],
            [
             0.7777777777777778,
             "#fb9f3a"
            ],
            [
             0.8888888888888888,
             "#fdca26"
            ],
            [
             1,
             "#f0f921"
            ]
           ],
           "sequentialminus": [
            [
             0,
             "#0d0887"
            ],
            [
             0.1111111111111111,
             "#46039f"
            ],
            [
             0.2222222222222222,
             "#7201a8"
            ],
            [
             0.3333333333333333,
             "#9c179e"
            ],
            [
             0.4444444444444444,
             "#bd3786"
            ],
            [
             0.5555555555555556,
             "#d8576b"
            ],
            [
             0.6666666666666666,
             "#ed7953"
            ],
            [
             0.7777777777777778,
             "#fb9f3a"
            ],
            [
             0.8888888888888888,
             "#fdca26"
            ],
            [
             1,
             "#f0f921"
            ]
           ]
          },
          "colorway": [
           "#636efa",
           "#EF553B",
           "#00cc96",
           "#ab63fa",
           "#FFA15A",
           "#19d3f3",
           "#FF6692",
           "#B6E880",
           "#FF97FF",
           "#FECB52"
          ],
          "font": {
           "color": "#f2f5fa"
          },
          "geo": {
           "bgcolor": "rgb(17,17,17)",
           "lakecolor": "rgb(17,17,17)",
           "landcolor": "rgb(17,17,17)",
           "showlakes": true,
           "showland": true,
           "subunitcolor": "#506784"
          },
          "hoverlabel": {
           "align": "left"
          },
          "hovermode": "closest",
          "mapbox": {
           "style": "dark"
          },
          "paper_bgcolor": "rgb(17,17,17)",
          "plot_bgcolor": "rgb(17,17,17)",
          "polar": {
           "angularaxis": {
            "gridcolor": "#506784",
            "linecolor": "#506784",
            "ticks": ""
           },
           "bgcolor": "rgb(17,17,17)",
           "radialaxis": {
            "gridcolor": "#506784",
            "linecolor": "#506784",
            "ticks": ""
           }
          },
          "scene": {
           "xaxis": {
            "backgroundcolor": "rgb(17,17,17)",
            "gridcolor": "#506784",
            "gridwidth": 2,
            "linecolor": "#506784",
            "showbackground": true,
            "ticks": "",
            "zerolinecolor": "#C8D4E3"
           },
           "yaxis": {
            "backgroundcolor": "rgb(17,17,17)",
            "gridcolor": "#506784",
            "gridwidth": 2,
            "linecolor": "#506784",
            "showbackground": true,
            "ticks": "",
            "zerolinecolor": "#C8D4E3"
           },
           "zaxis": {
            "backgroundcolor": "rgb(17,17,17)",
            "gridcolor": "#506784",
            "gridwidth": 2,
            "linecolor": "#506784",
            "showbackground": true,
            "ticks": "",
            "zerolinecolor": "#C8D4E3"
           }
          },
          "shapedefaults": {
           "line": {
            "color": "#f2f5fa"
           }
          },
          "sliderdefaults": {
           "bgcolor": "#C8D4E3",
           "bordercolor": "rgb(17,17,17)",
           "borderwidth": 1,
           "tickwidth": 0
          },
          "ternary": {
           "aaxis": {
            "gridcolor": "#506784",
            "linecolor": "#506784",
            "ticks": ""
           },
           "baxis": {
            "gridcolor": "#506784",
            "linecolor": "#506784",
            "ticks": ""
           },
           "bgcolor": "rgb(17,17,17)",
           "caxis": {
            "gridcolor": "#506784",
            "linecolor": "#506784",
            "ticks": ""
           }
          },
          "title": {
           "x": 0.05
          },
          "updatemenudefaults": {
           "bgcolor": "#506784",
           "borderwidth": 0
          },
          "xaxis": {
           "automargin": true,
           "gridcolor": "#283442",
           "linecolor": "#506784",
           "ticks": "",
           "title": {
            "standoff": 15
           },
           "zerolinecolor": "#283442",
           "zerolinewidth": 2
          },
          "yaxis": {
           "automargin": true,
           "gridcolor": "#283442",
           "linecolor": "#506784",
           "ticks": "",
           "title": {
            "standoff": 15
           },
           "zerolinecolor": "#283442",
           "zerolinewidth": 2
          }
         }
        },
        "title": {
         "text": "Filtered USTs Curve Set"
        },
        "width": 1600,
        "xaxis": {
         "anchor": "y",
         "domain": [
          0,
          1
         ],
         "showgrid": true,
         "showspikes": true,
         "spikecolor": "white",
         "spikemode": "across",
         "spikesnap": "cursor",
         "title": {
          "text": "Time to Maturity (Years)"
         }
        },
        "yaxis": {
         "anchor": "x",
         "domain": [
          0,
          1
         ],
         "showgrid": true,
         "showspikes": true,
         "spikecolor": "white",
         "spikethickness": 1,
         "title": {
          "text": "YTMs: eod_yield"
         }
        }
       }
      }
     },
     "metadata": {},
     "output_type": "display_data"
    }
   ],
   "source": [
    "fig = px.scatter(\n",
    "    curve_set_df,\n",
    "    x=\"time_to_maturity\",\n",
    "    y=f\"{quote_type}_yield\",\n",
    "    color=\"original_security_term\",\n",
    "    hover_data=[\"label\"],\n",
    "    labels={\"time_to_maturity\": \"Time to Maturity (Years)\", \"yield\": \"Yield (%)\"},\n",
    "    title=\"Filtered USTs Curve Set\"\n",
    ")\n",
    "\n",
    "# fig.add_trace(\n",
    "#     go.Scatter(\n",
    "#         x=t2, y=fitted_zero_curve_func_ns(t2), mode=\"lines\", name=\"Nelson-Siegel\"\n",
    "#     )\n",
    "# )\n",
    "# fig.add_trace(\n",
    "#     go.Scatter(\n",
    "#         x=t2, y=fitted_zero_curve_func_nss(t2), mode=\"lines\", name=\"Svensson\"\n",
    "#     )\n",
    "# )\n",
    "# fig.add_trace(\n",
    "#     go.Scatter(\n",
    "#         x=t2, y=fitted_zero_curve_func_dl(t2), mode=\"lines\", name=\"Diebold-Li\"\n",
    "#     )\n",
    "# )\n",
    "# fig.add_trace(\n",
    "#     go.Scatter(\n",
    "#         x=t2, y=fitted_zero_curve_func_bc(t2), mode=\"lines\", name=\"Björk-Christensen\"\n",
    "#     )\n",
    "# )\n",
    "# fig.add_trace(\n",
    "#     go.Scatter(\n",
    "#         x=t2, y=fitted_zero_curve_func_aug_bc(t2), mode=\"lines\", name=\"Augmented Björk-Christensen\"\n",
    "#     )\n",
    "# )\n",
    "\n",
    "# fig.add_trace(\n",
    "#     go.Scatter(\n",
    "#         x=t2, y=fitted_zero_curve_dict[\"ql_f_nss\"][\"zero_interp_func\"](t2), mode=\"lines\", name=\"Fitted NSS - Zero Curve\"\n",
    "#     )\n",
    "# )\n",
    "fig.add_trace(\n",
    "    go.Scatter(\n",
    "        x=t2, y=fitted_zero_curve_dict[\"ql_f_cbs\"][\"zero_interp_func\"](t2), mode=\"lines\", name=\"Fitted Zero Curve\"\n",
    "    )\n",
    ")\n",
    "\n",
    "fig.update_layout(\n",
    "    legend_title_text='Label',\n",
    "    xaxis_title=\"Time to Maturity (Years)\",\n",
    "    yaxis_title=f\"YTMs: {quote_type}_yield\",\n",
    "    width=1600,\n",
    "    height=800,\n",
    "    template=\"plotly_dark\",\n",
    ")\n",
    "\n",
    "fig.update_xaxes(\n",
    "    showgrid=True,\n",
    "    showspikes=True,\n",
    "    spikecolor=\"white\",\n",
    "    spikesnap=\"cursor\",\n",
    "    spikemode=\"across\",\n",
    ")\n",
    "fig.update_yaxes(showgrid=True, showspikes=True, spikecolor=\"white\", spikethickness=1)\n",
    "fig.show()"
   ]
  },
  {
   "cell_type": "code",
   "execution_count": null,
   "metadata": {},
   "outputs": [],
   "source": []
  }
 ],
 "metadata": {
  "kernelspec": {
   "display_name": "Python 3",
   "language": "python",
   "name": "python3"
  },
  "language_info": {
   "codemirror_mode": {
    "name": "ipython",
    "version": 3
   },
   "file_extension": ".py",
   "mimetype": "text/x-python",
   "name": "python",
   "nbconvert_exporter": "python",
   "pygments_lexer": "ipython3",
   "version": "3.12.1"
  }
 },
 "nbformat": 4,
 "nbformat_minor": 2
}
