{
 "cells": [
  {
   "cell_type": "markdown",
   "metadata": {},
   "source": [
    "# Pretending to be a Rates RV Portfolio Manager:\n",
    "## An Introduction to Swaps Relative Value with Curvy-CUSIPS:"
   ]
  },
  {
   "cell_type": "code",
   "execution_count": 1,
   "metadata": {},
   "outputs": [],
   "source": [
    "import sys\n",
    "sys.path.append(\"../\")"
   ]
  },
  {
   "cell_type": "code",
   "execution_count": 21,
   "metadata": {},
   "outputs": [
    {
     "name": "stdout",
     "output_type": "stream",
     "text": [
      "The autoreload extension is already loaded. To reload it, use:\n",
      "  %reload_ext autoreload\n"
     ]
    }
   ],
   "source": [
    "from CurvyCUSIPs.CurveDataFetcher import CurveDataFetcher\n",
    "from CurvyCUSIPs.S490Swaps import S490Swaps\n",
    "from CurvyCUSIPs.USTs import USTs\n",
    "from CurvyCUSIPs.utils.pca_utils import calc_pca_loadings_matrix\n",
    "from CurvyCUSIPs.utils.regression_utils import (\n",
    "        run_basic_linear_regression_df, \n",
    "        run_multiple_linear_regression_df, \n",
    "        run_basic_linear_regression, \n",
    "        plot_residuals_timeseries,\n",
    "        modified_partial_regression_fly_plot\n",
    ")\n",
    "\n",
    "from datetime import datetime\n",
    "import numpy as np\n",
    "import pandas as pd\n",
    "from pandas.tseries.offsets import CustomBusinessDay \n",
    "from pandas.tseries.holiday import USFederalHolidayCalendar\n",
    "from typing import Dict, List\n",
    "\n",
    "import matplotlib.pyplot as plt\n",
    "import matplotlib.pylab as pylab\n",
    "plt.style.use('ggplot')\n",
    "params = {'legend.fontsize': 'large',\n",
    "        'figure.figsize': (15, 9),\n",
    "        'axes.labelsize': 'large',\n",
    "        'axes.titlesize':'large',\n",
    "        'xtick.labelsize':'large',\n",
    "        'ytick.labelsize':'large'}\n",
    "pylab.rcParams.update(params)\n",
    "\n",
    "import os\n",
    "from dotenv import dotenv_values\n",
    "env_path = os.path.join(os.getcwd(), \"../.env\")\n",
    "config = dotenv_values(env_path)\n",
    "\n",
    "import nest_asyncio\n",
    "nest_asyncio.apply()\n",
    "\n",
    "import warnings\n",
    "warnings.filterwarnings('ignore', category=FutureWarning)\n",
    "warnings.filterwarnings('ignore', category=pd.errors.SettingWithCopyWarning)\n",
    "\n",
    "%load_ext autoreload\n",
    "%autoreload 2"
   ]
  },
  {
   "cell_type": "markdown",
   "metadata": {},
   "source": [
    "# Set up data fetching infra"
   ]
  },
  {
   "cell_type": "code",
   "execution_count": 3,
   "metadata": {},
   "outputs": [],
   "source": [
    "curve_data_fetcher = CurveDataFetcher(fred_api_key=config[\"FRED_API_KEY\"])"
   ]
  },
  {
   "cell_type": "code",
   "execution_count": 4,
   "metadata": {},
   "outputs": [],
   "source": [
    "sofr_ois = S490Swaps(s490_curve_db_path=r\"..\\db\\nyclose_sofr_ois\")\n",
    "usts = USTs(\n",
    "    cusip_set_db_path=r\"..\\db\\ust_cusip_set\",\n",
    "    cusip_timeseries_db_path=r\"..\\db\\ust_cusip_timeseries\",\n",
    "    ct_eod_db_path=r\"..\\db\\ust_eod_ct_yields\",\n",
    "    curve_data_fetcher=curve_data_fetcher,\n",
    ")"
   ]
  },
  {
   "cell_type": "markdown",
   "metadata": {},
   "source": [
    "# Calc Fwd SOFR OIS Grids"
   ]
  },
  {
   "cell_type": "code",
   "execution_count": 5,
   "metadata": {},
   "outputs": [],
   "source": [
    "start_date = datetime(2018, 1, 1)\n",
    "end_date = datetime(2024, 12, 27)\n",
    "bdates = pd.date_range(start=start_date, end=end_date, freq=CustomBusinessDay(calendar=USFederalHolidayCalendar()))"
   ]
  },
  {
   "cell_type": "code",
   "execution_count": 6,
   "metadata": {},
   "outputs": [
    {
     "name": "stderr",
     "output_type": "stream",
     "text": [
      "Building Implied Fwd Curves...: 100%|██████████| 1751/1751 [00:19<00:00, 88.08it/s] \n"
     ]
    }
   ],
   "source": [
    "fwd_tenors = [\"1M\", \"3M\", \"6M\", \"9M\", \"12M\", \"18M\", \"2Y\", \"3Y\", \"4Y\", \"5Y\", \"6Y\", \"7Y\", \"8Y\", \"9Y\", \"10Y\", \"15Y\"]\n",
    "fwd_grid_dict, ql_curves = sofr_ois.s490_nyclose_fwd_curve_matrices(\n",
    "    start_date=start_date,\n",
    "    end_date=end_date,\n",
    "    ql_piecewise_method=\"logLinearDiscount\",\n",
    "    fwd_tenors=fwd_tenors,\n",
    ")"
   ]
  },
  {
   "cell_type": "code",
   "execution_count": 7,
   "metadata": {},
   "outputs": [
    {
     "data": {
      "application/vnd.plotly.v1+json": {
       "config": {
        "plotlyServerURL": "https://plot.ly"
       },
       "data": [
        {
         "mode": "lines",
         "name": "Spot",
         "type": "scatter",
         "x": [
          0.002777777777777778,
          0.019230769230769232,
          0.038461538461538464,
          0.057692307692307696,
          0.08333333333333333,
          0.16666666666666666,
          0.25,
          0.3333333333333333,
          0.4166666666666667,
          0.5,
          0.75,
          1,
          1.5,
          2,
          3,
          4,
          5,
          6,
          7,
          8,
          9,
          10,
          12,
          15,
          20,
          25,
          30,
          40,
          50
         ],
         "y": [
          4.3248825965,
          4.3261577486,
          4.327947423342044,
          4.329737838449063,
          4.3321262108,
          4.329042564566499,
          4.3259611133,
          4.3062160407120915,
          4.286561090961928,
          4.2669958527,
          4.2301007976,
          4.2106799215,
          4.1507554811,
          4.1440678909,
          4.125332172,
          4.1158713082,
          4.116694962,
          4.1198659735,
          4.1236016642,
          4.1282731596,
          4.134080318,
          4.1413273958,
          4.1593992297,
          4.1794484965,
          4.1570495178,
          4.0754914224,
          3.9812845661999994,
          3.7844560020999998,
          3.5944223804
         ]
        },
        {
         "mode": "lines",
         "name": "3M Fwd",
         "type": "scatter",
         "x": [
          0.002777777777777778,
          0.019230769230769232,
          0.038461538461538464,
          0.057692307692307696,
          0.08333333333333333,
          0.16666666666666666,
          0.25,
          0.3333333333333333,
          0.4166666666666667,
          0.5,
          0.75,
          1,
          1.5,
          2,
          3,
          4,
          5,
          6,
          7,
          8,
          9,
          10,
          12,
          15,
          20,
          25,
          30,
          40,
          50
         ],
         "y": [
          3.902089104959039,
          4.070812404923241,
          4.183295038143076,
          4.2207893262400376,
          4.246566671649132,
          4.269962221461365,
          4.098024071563122,
          4.110748175888079,
          4.127527522236218,
          4.139733148370461,
          4.050696302180801,
          4.00642032492593,
          4.00402047006998,
          4.019098530634868,
          4.011834779811596,
          4.017549572584489,
          4.020979700542937,
          4.025847011930206,
          4.034613899692396,
          4.038071962934153,
          4.047604834567897,
          4.057317187105003,
          4.077828950463713,
          4.102690586867075,
          4.061477586085882,
          3.936090139316506,
          3.7877523606556496,
          3.471425405109807,
          3.1511275776835435
         ]
        },
        {
         "mode": "lines",
         "name": "6M Fwd",
         "type": "scatter",
         "x": [
          0.002777777777777778,
          0.019230769230769232,
          0.038461538461538464,
          0.057692307692307696,
          0.08333333333333333,
          0.16666666666666666,
          0.25,
          0.3333333333333333,
          0.4166666666666667,
          0.5,
          0.75,
          1,
          1.5,
          2,
          3,
          4,
          5,
          6,
          7,
          8,
          9,
          10,
          12,
          15,
          20,
          25,
          30,
          40,
          50
         ],
         "y": [
          3.7022596928174556,
          4.048103251737434,
          4.09045166779598,
          4.125742052043968,
          4.148510059985289,
          4.17202457489374,
          4.180554844157025,
          4.1108633165724,
          4.059789129345348,
          4.027160353229919,
          3.9755502496350292,
          3.9477722789483805,
          4.010610964292227,
          4.004977198421966,
          4.006520070836794,
          4.013562630725942,
          4.017789710039965,
          4.025948483462272,
          4.0326701205679605,
          4.0387561868070465,
          4.048648381106079,
          4.059246297954844,
          4.08051873764248,
          4.1004078389592635,
          4.053352617504946,
          3.925846757980467,
          3.7747775171382836,
          3.4574972305951857,
          3.1398955285153463
         ]
        },
        {
         "mode": "lines",
         "name": "12M Fwd",
         "type": "scatter",
         "x": [
          0.002777777777777778,
          0.019230769230769232,
          0.038461538461538464,
          0.057692307692307696,
          0.08333333333333333,
          0.16666666666666666,
          0.25,
          0.3333333333333333,
          0.4166666666666667,
          0.5,
          0.75,
          1,
          1.5,
          2,
          3,
          4,
          5,
          6,
          7,
          8,
          9,
          10,
          12,
          15,
          20,
          25,
          30,
          40,
          50
         ],
         "y": [
          3.865069446105318,
          3.866518470055369,
          3.866808274851863,
          3.866913658414961,
          3.866967200068072,
          3.8670336785878723,
          3.867053494298167,
          3.8670645485245903,
          3.8670712103343607,
          3.8670757869773142,
          3.957325607546802,
          4.002574170620332,
          3.997438982561441,
          3.994434802498059,
          4.007794352027361,
          4.014546162104171,
          4.018563400521313,
          4.032135996336006,
          4.033889903345966,
          4.044675480693982,
          4.05473519087185,
          4.066774295484077,
          4.088722755783203,
          4.098160592272526,
          4.03880900188025,
          3.9064941027256994,
          3.749764509469733,
          3.4303798716769363,
          3.1179587858956026
         ]
        },
        {
         "mode": "lines",
         "name": "5Y Fwd",
         "type": "scatter",
         "x": [
          0.002777777777777778,
          0.019230769230769232,
          0.038461538461538464,
          0.057692307692307696,
          0.08333333333333333,
          0.16666666666666666,
          0.25,
          0.3333333333333333,
          0.4166666666666667,
          0.5,
          0.75,
          1,
          1.5,
          2,
          3,
          4,
          5,
          6,
          7,
          8,
          9,
          10,
          12,
          15,
          20,
          25,
          30,
          40,
          50
         ],
         "y": [
          4.0347096132347104,
          4.0347096132347104,
          4.0347096132347104,
          4.0347096132347104,
          4.0347096132347104,
          4.0347096132347104,
          4.0347096132347104,
          4.0347096132347104,
          4.0347096132347104,
          4.0347096132347104,
          4.0347096132347104,
          4.0347096132347104,
          4.0560992223652725,
          4.067305723857384,
          4.059695383955231,
          4.074714775992749,
          4.086802747776064,
          4.101393319954405,
          4.111921106183969,
          4.125729297531411,
          4.136508765440583,
          4.145160176889595,
          4.114803967672498,
          4.084252903040153,
          3.926641595770608,
          3.7558194970698233,
          3.5531128258449174,
          3.216069538574118,
          2.9465756129267717
         ]
        }
       ],
       "layout": {
        "font": {
         "size": 11
        },
        "height": 750,
        "legend": {
         "orientation": "h",
         "x": 1,
         "xanchor": "right",
         "y": 1.02,
         "yanchor": "bottom"
        },
        "template": {
         "data": {
          "bar": [
           {
            "error_x": {
             "color": "#f2f5fa"
            },
            "error_y": {
             "color": "#f2f5fa"
            },
            "marker": {
             "line": {
              "color": "rgb(17,17,17)",
              "width": 0.5
             },
             "pattern": {
              "fillmode": "overlay",
              "size": 10,
              "solidity": 0.2
             }
            },
            "type": "bar"
           }
          ],
          "barpolar": [
           {
            "marker": {
             "line": {
              "color": "rgb(17,17,17)",
              "width": 0.5
             },
             "pattern": {
              "fillmode": "overlay",
              "size": 10,
              "solidity": 0.2
             }
            },
            "type": "barpolar"
           }
          ],
          "carpet": [
           {
            "aaxis": {
             "endlinecolor": "#A2B1C6",
             "gridcolor": "#506784",
             "linecolor": "#506784",
             "minorgridcolor": "#506784",
             "startlinecolor": "#A2B1C6"
            },
            "baxis": {
             "endlinecolor": "#A2B1C6",
             "gridcolor": "#506784",
             "linecolor": "#506784",
             "minorgridcolor": "#506784",
             "startlinecolor": "#A2B1C6"
            },
            "type": "carpet"
           }
          ],
          "choropleth": [
           {
            "colorbar": {
             "outlinewidth": 0,
             "ticks": ""
            },
            "type": "choropleth"
           }
          ],
          "contour": [
           {
            "colorbar": {
             "outlinewidth": 0,
             "ticks": ""
            },
            "colorscale": [
             [
              0,
              "#0d0887"
             ],
             [
              0.1111111111111111,
              "#46039f"
             ],
             [
              0.2222222222222222,
              "#7201a8"
             ],
             [
              0.3333333333333333,
              "#9c179e"
             ],
             [
              0.4444444444444444,
              "#bd3786"
             ],
             [
              0.5555555555555556,
              "#d8576b"
             ],
             [
              0.6666666666666666,
              "#ed7953"
             ],
             [
              0.7777777777777778,
              "#fb9f3a"
             ],
             [
              0.8888888888888888,
              "#fdca26"
             ],
             [
              1,
              "#f0f921"
             ]
            ],
            "type": "contour"
           }
          ],
          "contourcarpet": [
           {
            "colorbar": {
             "outlinewidth": 0,
             "ticks": ""
            },
            "type": "contourcarpet"
           }
          ],
          "heatmap": [
           {
            "colorbar": {
             "outlinewidth": 0,
             "ticks": ""
            },
            "colorscale": [
             [
              0,
              "#0d0887"
             ],
             [
              0.1111111111111111,
              "#46039f"
             ],
             [
              0.2222222222222222,
              "#7201a8"
             ],
             [
              0.3333333333333333,
              "#9c179e"
             ],
             [
              0.4444444444444444,
              "#bd3786"
             ],
             [
              0.5555555555555556,
              "#d8576b"
             ],
             [
              0.6666666666666666,
              "#ed7953"
             ],
             [
              0.7777777777777778,
              "#fb9f3a"
             ],
             [
              0.8888888888888888,
              "#fdca26"
             ],
             [
              1,
              "#f0f921"
             ]
            ],
            "type": "heatmap"
           }
          ],
          "heatmapgl": [
           {
            "colorbar": {
             "outlinewidth": 0,
             "ticks": ""
            },
            "colorscale": [
             [
              0,
              "#0d0887"
             ],
             [
              0.1111111111111111,
              "#46039f"
             ],
             [
              0.2222222222222222,
              "#7201a8"
             ],
             [
              0.3333333333333333,
              "#9c179e"
             ],
             [
              0.4444444444444444,
              "#bd3786"
             ],
             [
              0.5555555555555556,
              "#d8576b"
             ],
             [
              0.6666666666666666,
              "#ed7953"
             ],
             [
              0.7777777777777778,
              "#fb9f3a"
             ],
             [
              0.8888888888888888,
              "#fdca26"
             ],
             [
              1,
              "#f0f921"
             ]
            ],
            "type": "heatmapgl"
           }
          ],
          "histogram": [
           {
            "marker": {
             "pattern": {
              "fillmode": "overlay",
              "size": 10,
              "solidity": 0.2
             }
            },
            "type": "histogram"
           }
          ],
          "histogram2d": [
           {
            "colorbar": {
             "outlinewidth": 0,
             "ticks": ""
            },
            "colorscale": [
             [
              0,
              "#0d0887"
             ],
             [
              0.1111111111111111,
              "#46039f"
             ],
             [
              0.2222222222222222,
              "#7201a8"
             ],
             [
              0.3333333333333333,
              "#9c179e"
             ],
             [
              0.4444444444444444,
              "#bd3786"
             ],
             [
              0.5555555555555556,
              "#d8576b"
             ],
             [
              0.6666666666666666,
              "#ed7953"
             ],
             [
              0.7777777777777778,
              "#fb9f3a"
             ],
             [
              0.8888888888888888,
              "#fdca26"
             ],
             [
              1,
              "#f0f921"
             ]
            ],
            "type": "histogram2d"
           }
          ],
          "histogram2dcontour": [
           {
            "colorbar": {
             "outlinewidth": 0,
             "ticks": ""
            },
            "colorscale": [
             [
              0,
              "#0d0887"
             ],
             [
              0.1111111111111111,
              "#46039f"
             ],
             [
              0.2222222222222222,
              "#7201a8"
             ],
             [
              0.3333333333333333,
              "#9c179e"
             ],
             [
              0.4444444444444444,
              "#bd3786"
             ],
             [
              0.5555555555555556,
              "#d8576b"
             ],
             [
              0.6666666666666666,
              "#ed7953"
             ],
             [
              0.7777777777777778,
              "#fb9f3a"
             ],
             [
              0.8888888888888888,
              "#fdca26"
             ],
             [
              1,
              "#f0f921"
             ]
            ],
            "type": "histogram2dcontour"
           }
          ],
          "mesh3d": [
           {
            "colorbar": {
             "outlinewidth": 0,
             "ticks": ""
            },
            "type": "mesh3d"
           }
          ],
          "parcoords": [
           {
            "line": {
             "colorbar": {
              "outlinewidth": 0,
              "ticks": ""
             }
            },
            "type": "parcoords"
           }
          ],
          "pie": [
           {
            "automargin": true,
            "type": "pie"
           }
          ],
          "scatter": [
           {
            "marker": {
             "line": {
              "color": "#283442"
             }
            },
            "type": "scatter"
           }
          ],
          "scatter3d": [
           {
            "line": {
             "colorbar": {
              "outlinewidth": 0,
              "ticks": ""
             }
            },
            "marker": {
             "colorbar": {
              "outlinewidth": 0,
              "ticks": ""
             }
            },
            "type": "scatter3d"
           }
          ],
          "scattercarpet": [
           {
            "marker": {
             "colorbar": {
              "outlinewidth": 0,
              "ticks": ""
             }
            },
            "type": "scattercarpet"
           }
          ],
          "scattergeo": [
           {
            "marker": {
             "colorbar": {
              "outlinewidth": 0,
              "ticks": ""
             }
            },
            "type": "scattergeo"
           }
          ],
          "scattergl": [
           {
            "marker": {
             "line": {
              "color": "#283442"
             }
            },
            "type": "scattergl"
           }
          ],
          "scattermapbox": [
           {
            "marker": {
             "colorbar": {
              "outlinewidth": 0,
              "ticks": ""
             }
            },
            "type": "scattermapbox"
           }
          ],
          "scatterpolar": [
           {
            "marker": {
             "colorbar": {
              "outlinewidth": 0,
              "ticks": ""
             }
            },
            "type": "scatterpolar"
           }
          ],
          "scatterpolargl": [
           {
            "marker": {
             "colorbar": {
              "outlinewidth": 0,
              "ticks": ""
             }
            },
            "type": "scatterpolargl"
           }
          ],
          "scatterternary": [
           {
            "marker": {
             "colorbar": {
              "outlinewidth": 0,
              "ticks": ""
             }
            },
            "type": "scatterternary"
           }
          ],
          "surface": [
           {
            "colorbar": {
             "outlinewidth": 0,
             "ticks": ""
            },
            "colorscale": [
             [
              0,
              "#0d0887"
             ],
             [
              0.1111111111111111,
              "#46039f"
             ],
             [
              0.2222222222222222,
              "#7201a8"
             ],
             [
              0.3333333333333333,
              "#9c179e"
             ],
             [
              0.4444444444444444,
              "#bd3786"
             ],
             [
              0.5555555555555556,
              "#d8576b"
             ],
             [
              0.6666666666666666,
              "#ed7953"
             ],
             [
              0.7777777777777778,
              "#fb9f3a"
             ],
             [
              0.8888888888888888,
              "#fdca26"
             ],
             [
              1,
              "#f0f921"
             ]
            ],
            "type": "surface"
           }
          ],
          "table": [
           {
            "cells": {
             "fill": {
              "color": "#506784"
             },
             "line": {
              "color": "rgb(17,17,17)"
             }
            },
            "header": {
             "fill": {
              "color": "#2a3f5f"
             },
             "line": {
              "color": "rgb(17,17,17)"
             }
            },
            "type": "table"
           }
          ]
         },
         "layout": {
          "annotationdefaults": {
           "arrowcolor": "#f2f5fa",
           "arrowhead": 0,
           "arrowwidth": 1
          },
          "autotypenumbers": "strict",
          "coloraxis": {
           "colorbar": {
            "outlinewidth": 0,
            "ticks": ""
           }
          },
          "colorscale": {
           "diverging": [
            [
             0,
             "#8e0152"
            ],
            [
             0.1,
             "#c51b7d"
            ],
            [
             0.2,
             "#de77ae"
            ],
            [
             0.3,
             "#f1b6da"
            ],
            [
             0.4,
             "#fde0ef"
            ],
            [
             0.5,
             "#f7f7f7"
            ],
            [
             0.6,
             "#e6f5d0"
            ],
            [
             0.7,
             "#b8e186"
            ],
            [
             0.8,
             "#7fbc41"
            ],
            [
             0.9,
             "#4d9221"
            ],
            [
             1,
             "#276419"
            ]
           ],
           "sequential": [
            [
             0,
             "#0d0887"
            ],
            [
             0.1111111111111111,
             "#46039f"
            ],
            [
             0.2222222222222222,
             "#7201a8"
            ],
            [
             0.3333333333333333,
             "#9c179e"
            ],
            [
             0.4444444444444444,
             "#bd3786"
            ],
            [
             0.5555555555555556,
             "#d8576b"
            ],
            [
             0.6666666666666666,
             "#ed7953"
            ],
            [
             0.7777777777777778,
             "#fb9f3a"
            ],
            [
             0.8888888888888888,
             "#fdca26"
            ],
            [
             1,
             "#f0f921"
            ]
           ],
           "sequentialminus": [
            [
             0,
             "#0d0887"
            ],
            [
             0.1111111111111111,
             "#46039f"
            ],
            [
             0.2222222222222222,
             "#7201a8"
            ],
            [
             0.3333333333333333,
             "#9c179e"
            ],
            [
             0.4444444444444444,
             "#bd3786"
            ],
            [
             0.5555555555555556,
             "#d8576b"
            ],
            [
             0.6666666666666666,
             "#ed7953"
            ],
            [
             0.7777777777777778,
             "#fb9f3a"
            ],
            [
             0.8888888888888888,
             "#fdca26"
            ],
            [
             1,
             "#f0f921"
            ]
           ]
          },
          "colorway": [
           "#636efa",
           "#EF553B",
           "#00cc96",
           "#ab63fa",
           "#FFA15A",
           "#19d3f3",
           "#FF6692",
           "#B6E880",
           "#FF97FF",
           "#FECB52"
          ],
          "font": {
           "color": "#f2f5fa"
          },
          "geo": {
           "bgcolor": "rgb(17,17,17)",
           "lakecolor": "rgb(17,17,17)",
           "landcolor": "rgb(17,17,17)",
           "showlakes": true,
           "showland": true,
           "subunitcolor": "#506784"
          },
          "hoverlabel": {
           "align": "left"
          },
          "hovermode": "closest",
          "mapbox": {
           "style": "dark"
          },
          "paper_bgcolor": "rgb(17,17,17)",
          "plot_bgcolor": "rgb(17,17,17)",
          "polar": {
           "angularaxis": {
            "gridcolor": "#506784",
            "linecolor": "#506784",
            "ticks": ""
           },
           "bgcolor": "rgb(17,17,17)",
           "radialaxis": {
            "gridcolor": "#506784",
            "linecolor": "#506784",
            "ticks": ""
           }
          },
          "scene": {
           "xaxis": {
            "backgroundcolor": "rgb(17,17,17)",
            "gridcolor": "#506784",
            "gridwidth": 2,
            "linecolor": "#506784",
            "showbackground": true,
            "ticks": "",
            "zerolinecolor": "#C8D4E3"
           },
           "yaxis": {
            "backgroundcolor": "rgb(17,17,17)",
            "gridcolor": "#506784",
            "gridwidth": 2,
            "linecolor": "#506784",
            "showbackground": true,
            "ticks": "",
            "zerolinecolor": "#C8D4E3"
           },
           "zaxis": {
            "backgroundcolor": "rgb(17,17,17)",
            "gridcolor": "#506784",
            "gridwidth": 2,
            "linecolor": "#506784",
            "showbackground": true,
            "ticks": "",
            "zerolinecolor": "#C8D4E3"
           }
          },
          "shapedefaults": {
           "line": {
            "color": "#f2f5fa"
           }
          },
          "sliderdefaults": {
           "bgcolor": "#C8D4E3",
           "bordercolor": "rgb(17,17,17)",
           "borderwidth": 1,
           "tickwidth": 0
          },
          "ternary": {
           "aaxis": {
            "gridcolor": "#506784",
            "linecolor": "#506784",
            "ticks": ""
           },
           "baxis": {
            "gridcolor": "#506784",
            "linecolor": "#506784",
            "ticks": ""
           },
           "bgcolor": "rgb(17,17,17)",
           "caxis": {
            "gridcolor": "#506784",
            "linecolor": "#506784",
            "ticks": ""
           }
          },
          "title": {
           "x": 0.05
          },
          "updatemenudefaults": {
           "bgcolor": "#506784",
           "borderwidth": 0
          },
          "xaxis": {
           "automargin": true,
           "gridcolor": "#283442",
           "linecolor": "#506784",
           "ticks": "",
           "title": {
            "standoff": 15
           },
           "zerolinecolor": "#283442",
           "zerolinewidth": 2
          },
          "yaxis": {
           "automargin": true,
           "gridcolor": "#283442",
           "linecolor": "#506784",
           "ticks": "",
           "title": {
            "standoff": 15
           },
           "zerolinecolor": "#283442",
           "zerolinewidth": 2
          }
         }
        },
        "title": {
         "text": "SOFR OIS Fwd Curve"
        },
        "xaxis": {
         "showgrid": true,
         "showspikes": true,
         "spikecolor": "white",
         "spikemode": "across",
         "spikesnap": "cursor",
         "title": {
          "text": "Tenor"
         }
        },
        "yaxis": {
         "showgrid": true,
         "showspikes": true,
         "spikecolor": "white",
         "spikesnap": "cursor",
         "spikethickness": 0.5,
         "title": {
          "text": "Yield"
         }
        }
       }
      }
     },
     "metadata": {},
     "output_type": "display_data"
    }
   ],
   "source": [
    "dt = datetime(2024, 12, 27)\n",
    "sofr_ois.fwd_grid_dict_curve_plotter(\n",
    "    tenor_date_pairs=[(\"Spot\", dt), (\"3M Fwd\", dt), (\"6M Fwd\", dt), (\"12M Fwd\", dt), (\"5Y Fwd\", dt)],\n",
    "    fwd_grid_dict=fwd_grid_dict,\n",
    "    use_plotly=True\n",
    ")"
   ]
  },
  {
   "cell_type": "code",
   "execution_count": 31,
   "metadata": {},
   "outputs": [
    {
     "name": "stderr",
     "output_type": "stream",
     "text": [
      "PLOTTING SWAPS: 100%|██████████| 1751/1751 [00:01<00:00, 1264.63it/s]\n"
     ]
    },
    {
     "data": {
      "application/vnd.plotly.v1+json": {
       "config": {
        "modeBarButtonsToAdd": [
         "drawline",
         "drawopenpath",
         "drawclosedpath",
         "drawcircle",
         "drawrect",
         "eraseshape"
        ],
        "plotlyServerURL": "https://plot.ly"
       },
       "data": [
        {
         "mode": "lines",
         "name": "2Y Fwd 12M-2Y Fwd 5Y-2Y Fwd 30Y",
         "type": "scatter",
         "x": [
          "2018-01-02T00:00:00",
          "2018-01-03T00:00:00",
          "2018-01-04T00:00:00",
          "2018-01-05T00:00:00",
          "2018-01-08T00:00:00",
          "2018-01-09T00:00:00",
          "2018-01-10T00:00:00",
          "2018-01-11T00:00:00",
          "2018-01-12T00:00:00",
          "2018-01-16T00:00:00",
          "2018-01-17T00:00:00",
          "2018-01-18T00:00:00",
          "2018-01-19T00:00:00",
          "2018-01-22T00:00:00",
          "2018-01-23T00:00:00",
          "2018-01-24T00:00:00",
          "2018-01-25T00:00:00",
          "2018-01-26T00:00:00",
          "2018-01-29T00:00:00",
          "2018-01-30T00:00:00",
          "2018-01-31T00:00:00",
          "2018-02-01T00:00:00",
          "2018-02-02T00:00:00",
          "2018-02-05T00:00:00",
          "2018-02-06T00:00:00",
          "2018-02-07T00:00:00",
          "2018-02-08T00:00:00",
          "2018-02-09T00:00:00",
          "2018-02-12T00:00:00",
          "2018-02-13T00:00:00",
          "2018-02-14T00:00:00",
          "2018-02-15T00:00:00",
          "2018-02-16T00:00:00",
          "2018-02-20T00:00:00",
          "2018-02-21T00:00:00",
          "2018-02-22T00:00:00",
          "2018-02-23T00:00:00",
          "2018-02-26T00:00:00",
          "2018-02-27T00:00:00",
          "2018-02-28T00:00:00",
          "2018-03-01T00:00:00",
          "2018-03-02T00:00:00",
          "2018-03-05T00:00:00",
          "2018-03-06T00:00:00",
          "2018-03-07T00:00:00",
          "2018-03-08T00:00:00",
          "2018-03-09T00:00:00",
          "2018-03-12T00:00:00",
          "2018-03-13T00:00:00",
          "2018-03-14T00:00:00",
          "2018-03-15T00:00:00",
          "2018-03-16T00:00:00",
          "2018-03-19T00:00:00",
          "2018-03-20T00:00:00",
          "2018-03-21T00:00:00",
          "2018-03-22T00:00:00",
          "2018-03-23T00:00:00",
          "2018-03-26T00:00:00",
          "2018-03-27T00:00:00",
          "2018-03-28T00:00:00",
          "2018-03-29T00:00:00",
          "2018-03-30T00:00:00",
          "2018-04-02T00:00:00",
          "2018-04-03T00:00:00",
          "2018-04-04T00:00:00",
          "2018-04-05T00:00:00",
          "2018-04-06T00:00:00",
          "2018-04-09T00:00:00",
          "2018-04-10T00:00:00",
          "2018-04-11T00:00:00",
          "2018-04-12T00:00:00",
          "2018-04-13T00:00:00",
          "2018-04-16T00:00:00",
          "2018-04-17T00:00:00",
          "2018-04-18T00:00:00",
          "2018-04-19T00:00:00",
          "2018-04-20T00:00:00",
          "2018-04-23T00:00:00",
          "2018-04-24T00:00:00",
          "2018-04-25T00:00:00",
          "2018-04-26T00:00:00",
          "2018-04-27T00:00:00",
          "2018-04-30T00:00:00",
          "2018-05-01T00:00:00",
          "2018-05-02T00:00:00",
          "2018-05-03T00:00:00",
          "2018-05-04T00:00:00",
          "2018-05-07T00:00:00",
          "2018-05-08T00:00:00",
          "2018-05-09T00:00:00",
          "2018-05-10T00:00:00",
          "2018-05-11T00:00:00",
          "2018-05-14T00:00:00",
          "2018-05-15T00:00:00",
          "2018-05-16T00:00:00",
          "2018-05-17T00:00:00",
          "2018-05-18T00:00:00",
          "2018-05-21T00:00:00",
          "2018-05-22T00:00:00",
          "2018-05-23T00:00:00",
          "2018-05-24T00:00:00",
          "2018-05-25T00:00:00",
          "2018-05-29T00:00:00",
          "2018-05-30T00:00:00",
          "2018-05-31T00:00:00",
          "2018-06-01T00:00:00",
          "2018-06-04T00:00:00",
          "2018-06-05T00:00:00",
          "2018-06-06T00:00:00",
          "2018-06-07T00:00:00",
          "2018-06-08T00:00:00",
          "2018-06-11T00:00:00",
          "2018-06-12T00:00:00",
          "2018-06-13T00:00:00",
          "2018-06-14T00:00:00",
          "2018-06-15T00:00:00",
          "2018-06-18T00:00:00",
          "2018-06-19T00:00:00",
          "2018-06-20T00:00:00",
          "2018-06-21T00:00:00",
          "2018-06-22T00:00:00",
          "2018-06-25T00:00:00",
          "2018-06-26T00:00:00",
          "2018-06-27T00:00:00",
          "2018-06-28T00:00:00",
          "2018-06-29T00:00:00",
          "2018-07-02T00:00:00",
          "2018-07-03T00:00:00",
          "2018-07-05T00:00:00",
          "2018-07-06T00:00:00",
          "2018-07-09T00:00:00",
          "2018-07-10T00:00:00",
          "2018-07-11T00:00:00",
          "2018-07-12T00:00:00",
          "2018-07-13T00:00:00",
          "2018-07-16T00:00:00",
          "2018-07-17T00:00:00",
          "2018-07-18T00:00:00",
          "2018-07-19T00:00:00",
          "2018-07-20T00:00:00",
          "2018-07-23T00:00:00",
          "2018-07-24T00:00:00",
          "2018-07-25T00:00:00",
          "2018-07-26T00:00:00",
          "2018-07-27T00:00:00",
          "2018-07-30T00:00:00",
          "2018-07-31T00:00:00",
          "2018-08-01T00:00:00",
          "2018-08-02T00:00:00",
          "2018-08-03T00:00:00",
          "2018-08-06T00:00:00",
          "2018-08-07T00:00:00",
          "2018-08-08T00:00:00",
          "2018-08-09T00:00:00",
          "2018-08-10T00:00:00",
          "2018-08-13T00:00:00",
          "2018-08-14T00:00:00",
          "2018-08-15T00:00:00",
          "2018-08-16T00:00:00",
          "2018-08-17T00:00:00",
          "2018-08-20T00:00:00",
          "2018-08-21T00:00:00",
          "2018-08-22T00:00:00",
          "2018-08-23T00:00:00",
          "2018-08-24T00:00:00",
          "2018-08-27T00:00:00",
          "2018-08-28T00:00:00",
          "2018-08-29T00:00:00",
          "2018-08-30T00:00:00",
          "2018-08-31T00:00:00",
          "2018-09-04T00:00:00",
          "2018-09-05T00:00:00",
          "2018-09-06T00:00:00",
          "2018-09-07T00:00:00",
          "2018-09-10T00:00:00",
          "2018-09-11T00:00:00",
          "2018-09-12T00:00:00",
          "2018-09-13T00:00:00",
          "2018-09-14T00:00:00",
          "2018-09-17T00:00:00",
          "2018-09-18T00:00:00",
          "2018-09-19T00:00:00",
          "2018-09-20T00:00:00",
          "2018-09-21T00:00:00",
          "2018-09-24T00:00:00",
          "2018-09-25T00:00:00",
          "2018-09-26T00:00:00",
          "2018-09-27T00:00:00",
          "2018-09-28T00:00:00",
          "2018-10-01T00:00:00",
          "2018-10-02T00:00:00",
          "2018-10-03T00:00:00",
          "2018-10-04T00:00:00",
          "2018-10-05T00:00:00",
          "2018-10-09T00:00:00",
          "2018-10-10T00:00:00",
          "2018-10-11T00:00:00",
          "2018-10-12T00:00:00",
          "2018-10-15T00:00:00",
          "2018-10-16T00:00:00",
          "2018-10-17T00:00:00",
          "2018-10-18T00:00:00",
          "2018-10-19T00:00:00",
          "2018-10-22T00:00:00",
          "2018-10-23T00:00:00",
          "2018-10-24T00:00:00",
          "2018-10-25T00:00:00",
          "2018-10-26T00:00:00",
          "2018-10-29T00:00:00",
          "2018-10-30T00:00:00",
          "2018-10-31T00:00:00",
          "2018-11-01T00:00:00",
          "2018-11-02T00:00:00",
          "2018-11-05T00:00:00",
          "2018-11-06T00:00:00",
          "2018-11-07T00:00:00",
          "2018-11-08T00:00:00",
          "2018-11-09T00:00:00",
          "2018-11-13T00:00:00",
          "2018-11-14T00:00:00",
          "2018-11-15T00:00:00",
          "2018-11-16T00:00:00",
          "2018-11-19T00:00:00",
          "2018-11-20T00:00:00",
          "2018-11-21T00:00:00",
          "2018-11-23T00:00:00",
          "2018-11-26T00:00:00",
          "2018-11-27T00:00:00",
          "2018-11-28T00:00:00",
          "2018-11-29T00:00:00",
          "2018-11-30T00:00:00",
          "2018-12-03T00:00:00",
          "2018-12-04T00:00:00",
          "2018-12-06T00:00:00",
          "2018-12-07T00:00:00",
          "2018-12-10T00:00:00",
          "2018-12-11T00:00:00",
          "2018-12-12T00:00:00",
          "2018-12-13T00:00:00",
          "2018-12-14T00:00:00",
          "2018-12-17T00:00:00",
          "2018-12-18T00:00:00",
          "2018-12-19T00:00:00",
          "2018-12-20T00:00:00",
          "2018-12-21T00:00:00",
          "2018-12-24T00:00:00",
          "2018-12-26T00:00:00",
          "2018-12-27T00:00:00",
          "2018-12-28T00:00:00",
          "2018-12-31T00:00:00",
          "2019-01-02T00:00:00",
          "2019-01-03T00:00:00",
          "2019-01-04T00:00:00",
          "2019-01-07T00:00:00",
          "2019-01-08T00:00:00",
          "2019-01-09T00:00:00",
          "2019-01-10T00:00:00",
          "2019-01-11T00:00:00",
          "2019-01-14T00:00:00",
          "2019-01-15T00:00:00",
          "2019-01-16T00:00:00",
          "2019-01-17T00:00:00",
          "2019-01-18T00:00:00",
          "2019-01-22T00:00:00",
          "2019-01-23T00:00:00",
          "2019-01-24T00:00:00",
          "2019-01-25T00:00:00",
          "2019-01-28T00:00:00",
          "2019-01-29T00:00:00",
          "2019-01-30T00:00:00",
          "2019-01-31T00:00:00",
          "2019-02-01T00:00:00",
          "2019-02-04T00:00:00",
          "2019-02-05T00:00:00",
          "2019-02-06T00:00:00",
          "2019-02-07T00:00:00",
          "2019-02-08T00:00:00",
          "2019-02-11T00:00:00",
          "2019-02-12T00:00:00",
          "2019-02-13T00:00:00",
          "2019-02-14T00:00:00",
          "2019-02-15T00:00:00",
          "2019-02-19T00:00:00",
          "2019-02-20T00:00:00",
          "2019-02-21T00:00:00",
          "2019-02-22T00:00:00",
          "2019-02-25T00:00:00",
          "2019-02-26T00:00:00",
          "2019-02-27T00:00:00",
          "2019-02-28T00:00:00",
          "2019-03-01T00:00:00",
          "2019-03-04T00:00:00",
          "2019-03-05T00:00:00",
          "2019-03-06T00:00:00",
          "2019-03-07T00:00:00",
          "2019-03-08T00:00:00",
          "2019-03-11T00:00:00",
          "2019-03-12T00:00:00",
          "2019-03-13T00:00:00",
          "2019-03-14T00:00:00",
          "2019-03-15T00:00:00",
          "2019-03-18T00:00:00",
          "2019-03-19T00:00:00",
          "2019-03-20T00:00:00",
          "2019-03-21T00:00:00",
          "2019-03-22T00:00:00",
          "2019-03-25T00:00:00",
          "2019-03-26T00:00:00",
          "2019-03-27T00:00:00",
          "2019-03-28T00:00:00",
          "2019-03-29T00:00:00",
          "2019-04-01T00:00:00",
          "2019-04-02T00:00:00",
          "2019-04-03T00:00:00",
          "2019-04-04T00:00:00",
          "2019-04-05T00:00:00",
          "2019-04-08T00:00:00",
          "2019-04-09T00:00:00",
          "2019-04-10T00:00:00",
          "2019-04-11T00:00:00",
          "2019-04-12T00:00:00",
          "2019-04-15T00:00:00",
          "2019-04-16T00:00:00",
          "2019-04-17T00:00:00",
          "2019-04-18T00:00:00",
          "2019-04-22T00:00:00",
          "2019-04-23T00:00:00",
          "2019-04-24T00:00:00",
          "2019-04-25T00:00:00",
          "2019-04-26T00:00:00",
          "2019-04-29T00:00:00",
          "2019-04-30T00:00:00",
          "2019-05-01T00:00:00",
          "2019-05-02T00:00:00",
          "2019-05-03T00:00:00",
          "2019-05-06T00:00:00",
          "2019-05-07T00:00:00",
          "2019-05-08T00:00:00",
          "2019-05-09T00:00:00",
          "2019-05-10T00:00:00",
          "2019-05-13T00:00:00",
          "2019-05-14T00:00:00",
          "2019-05-15T00:00:00",
          "2019-05-16T00:00:00",
          "2019-05-17T00:00:00",
          "2019-05-20T00:00:00",
          "2019-05-21T00:00:00",
          "2019-05-22T00:00:00",
          "2019-05-23T00:00:00",
          "2019-05-24T00:00:00",
          "2019-05-28T00:00:00",
          "2019-05-29T00:00:00",
          "2019-05-30T00:00:00",
          "2019-05-31T00:00:00",
          "2019-06-03T00:00:00",
          "2019-06-04T00:00:00",
          "2019-06-05T00:00:00",
          "2019-06-06T00:00:00",
          "2019-06-07T00:00:00",
          "2019-06-10T00:00:00",
          "2019-06-11T00:00:00",
          "2019-06-12T00:00:00",
          "2019-06-13T00:00:00",
          "2019-06-14T00:00:00",
          "2019-06-17T00:00:00",
          "2019-06-18T00:00:00",
          "2019-06-19T00:00:00",
          "2019-06-20T00:00:00",
          "2019-06-21T00:00:00",
          "2019-06-24T00:00:00",
          "2019-06-25T00:00:00",
          "2019-06-26T00:00:00",
          "2019-06-27T00:00:00",
          "2019-06-28T00:00:00",
          "2019-07-01T00:00:00",
          "2019-07-02T00:00:00",
          "2019-07-03T00:00:00",
          "2019-07-05T00:00:00",
          "2019-07-08T00:00:00",
          "2019-07-09T00:00:00",
          "2019-07-10T00:00:00",
          "2019-07-11T00:00:00",
          "2019-07-12T00:00:00",
          "2019-07-15T00:00:00",
          "2019-07-16T00:00:00",
          "2019-07-17T00:00:00",
          "2019-07-18T00:00:00",
          "2019-07-19T00:00:00",
          "2019-07-22T00:00:00",
          "2019-07-23T00:00:00",
          "2019-07-24T00:00:00",
          "2019-07-25T00:00:00",
          "2019-07-26T00:00:00",
          "2019-07-29T00:00:00",
          "2019-07-30T00:00:00",
          "2019-07-31T00:00:00",
          "2019-08-01T00:00:00",
          "2019-08-02T00:00:00",
          "2019-08-05T00:00:00",
          "2019-08-06T00:00:00",
          "2019-08-07T00:00:00",
          "2019-08-08T00:00:00",
          "2019-08-09T00:00:00",
          "2019-08-12T00:00:00",
          "2019-08-13T00:00:00",
          "2019-08-14T00:00:00",
          "2019-08-15T00:00:00",
          "2019-08-16T00:00:00",
          "2019-08-19T00:00:00",
          "2019-08-20T00:00:00",
          "2019-08-21T00:00:00",
          "2019-08-22T00:00:00",
          "2019-08-23T00:00:00",
          "2019-08-26T00:00:00",
          "2019-08-27T00:00:00",
          "2019-08-28T00:00:00",
          "2019-08-29T00:00:00",
          "2019-08-30T00:00:00",
          "2019-09-03T00:00:00",
          "2019-09-04T00:00:00",
          "2019-09-05T00:00:00",
          "2019-09-06T00:00:00",
          "2019-09-09T00:00:00",
          "2019-09-10T00:00:00",
          "2019-09-11T00:00:00",
          "2019-09-12T00:00:00",
          "2019-09-13T00:00:00",
          "2019-09-16T00:00:00",
          "2019-09-17T00:00:00",
          "2019-09-18T00:00:00",
          "2019-09-19T00:00:00",
          "2019-09-20T00:00:00",
          "2019-09-23T00:00:00",
          "2019-09-24T00:00:00",
          "2019-09-25T00:00:00",
          "2019-09-26T00:00:00",
          "2019-09-27T00:00:00",
          "2019-09-30T00:00:00",
          "2019-10-01T00:00:00",
          "2019-10-02T00:00:00",
          "2019-10-03T00:00:00",
          "2019-10-04T00:00:00",
          "2019-10-07T00:00:00",
          "2019-10-08T00:00:00",
          "2019-10-09T00:00:00",
          "2019-10-10T00:00:00",
          "2019-10-11T00:00:00",
          "2019-10-15T00:00:00",
          "2019-10-16T00:00:00",
          "2019-10-17T00:00:00",
          "2019-10-18T00:00:00",
          "2019-10-21T00:00:00",
          "2019-10-22T00:00:00",
          "2019-10-23T00:00:00",
          "2019-10-24T00:00:00",
          "2019-10-25T00:00:00",
          "2019-10-28T00:00:00",
          "2019-10-29T00:00:00",
          "2019-10-30T00:00:00",
          "2019-10-31T00:00:00",
          "2019-11-01T00:00:00",
          "2019-11-04T00:00:00",
          "2019-11-05T00:00:00",
          "2019-11-06T00:00:00",
          "2019-11-07T00:00:00",
          "2019-11-08T00:00:00",
          "2019-11-12T00:00:00",
          "2019-11-13T00:00:00",
          "2019-11-14T00:00:00",
          "2019-11-15T00:00:00",
          "2019-11-18T00:00:00",
          "2019-11-19T00:00:00",
          "2019-11-20T00:00:00",
          "2019-11-21T00:00:00",
          "2019-11-22T00:00:00",
          "2019-11-25T00:00:00",
          "2019-11-26T00:00:00",
          "2019-11-27T00:00:00",
          "2019-11-29T00:00:00",
          "2019-12-02T00:00:00",
          "2019-12-03T00:00:00",
          "2019-12-04T00:00:00",
          "2019-12-05T00:00:00",
          "2019-12-06T00:00:00",
          "2019-12-09T00:00:00",
          "2019-12-10T00:00:00",
          "2019-12-11T00:00:00",
          "2019-12-12T00:00:00",
          "2019-12-13T00:00:00",
          "2019-12-16T00:00:00",
          "2019-12-17T00:00:00",
          "2019-12-18T00:00:00",
          "2019-12-19T00:00:00",
          "2019-12-20T00:00:00",
          "2019-12-23T00:00:00",
          "2019-12-24T00:00:00",
          "2019-12-26T00:00:00",
          "2019-12-27T00:00:00",
          "2019-12-30T00:00:00",
          "2019-12-31T00:00:00",
          "2020-01-02T00:00:00",
          "2020-01-03T00:00:00",
          "2020-01-06T00:00:00",
          "2020-01-07T00:00:00",
          "2020-01-08T00:00:00",
          "2020-01-09T00:00:00",
          "2020-01-10T00:00:00",
          "2020-01-13T00:00:00",
          "2020-01-14T00:00:00",
          "2020-01-15T00:00:00",
          "2020-01-16T00:00:00",
          "2020-01-17T00:00:00",
          "2020-01-21T00:00:00",
          "2020-01-22T00:00:00",
          "2020-01-23T00:00:00",
          "2020-01-24T00:00:00",
          "2020-01-27T00:00:00",
          "2020-01-28T00:00:00",
          "2020-01-29T00:00:00",
          "2020-01-30T00:00:00",
          "2020-01-31T00:00:00",
          "2020-02-03T00:00:00",
          "2020-02-04T00:00:00",
          "2020-02-05T00:00:00",
          "2020-02-06T00:00:00",
          "2020-02-07T00:00:00",
          "2020-02-10T00:00:00",
          "2020-02-11T00:00:00",
          "2020-02-12T00:00:00",
          "2020-02-13T00:00:00",
          "2020-02-14T00:00:00",
          "2020-02-18T00:00:00",
          "2020-02-19T00:00:00",
          "2020-02-20T00:00:00",
          "2020-02-21T00:00:00",
          "2020-02-24T00:00:00",
          "2020-02-25T00:00:00",
          "2020-02-26T00:00:00",
          "2020-02-27T00:00:00",
          "2020-02-28T00:00:00",
          "2020-03-02T00:00:00",
          "2020-03-03T00:00:00",
          "2020-03-04T00:00:00",
          "2020-03-05T00:00:00",
          "2020-03-06T00:00:00",
          "2020-03-09T00:00:00",
          "2020-03-10T00:00:00",
          "2020-03-11T00:00:00",
          "2020-03-12T00:00:00",
          "2020-03-13T00:00:00",
          "2020-03-16T00:00:00",
          "2020-03-17T00:00:00",
          "2020-03-18T00:00:00",
          "2020-03-19T00:00:00",
          "2020-03-20T00:00:00",
          "2020-03-23T00:00:00",
          "2020-03-24T00:00:00",
          "2020-03-25T00:00:00",
          "2020-03-26T00:00:00",
          "2020-03-27T00:00:00",
          "2020-03-30T00:00:00",
          "2020-03-31T00:00:00",
          "2020-04-01T00:00:00",
          "2020-04-02T00:00:00",
          "2020-04-03T00:00:00",
          "2020-04-06T00:00:00",
          "2020-04-07T00:00:00",
          "2020-04-08T00:00:00",
          "2020-04-09T00:00:00",
          "2020-04-13T00:00:00",
          "2020-04-14T00:00:00",
          "2020-04-15T00:00:00",
          "2020-04-16T00:00:00",
          "2020-04-17T00:00:00",
          "2020-04-20T00:00:00",
          "2020-04-21T00:00:00",
          "2020-04-22T00:00:00",
          "2020-04-23T00:00:00",
          "2020-04-24T00:00:00",
          "2020-04-27T00:00:00",
          "2020-04-28T00:00:00",
          "2020-04-29T00:00:00",
          "2020-04-30T00:00:00",
          "2020-05-01T00:00:00",
          "2020-05-04T00:00:00",
          "2020-05-05T00:00:00",
          "2020-05-06T00:00:00",
          "2020-05-07T00:00:00",
          "2020-05-08T00:00:00",
          "2020-05-11T00:00:00",
          "2020-05-12T00:00:00",
          "2020-05-13T00:00:00",
          "2020-05-14T00:00:00",
          "2020-05-15T00:00:00",
          "2020-05-18T00:00:00",
          "2020-05-19T00:00:00",
          "2020-05-20T00:00:00",
          "2020-05-21T00:00:00",
          "2020-05-22T00:00:00",
          "2020-05-26T00:00:00",
          "2020-05-27T00:00:00",
          "2020-05-28T00:00:00",
          "2020-05-29T00:00:00",
          "2020-06-01T00:00:00",
          "2020-06-02T00:00:00",
          "2020-06-03T00:00:00",
          "2020-06-04T00:00:00",
          "2020-06-05T00:00:00",
          "2020-06-08T00:00:00",
          "2020-06-09T00:00:00",
          "2020-06-10T00:00:00",
          "2020-06-11T00:00:00",
          "2020-06-12T00:00:00",
          "2020-06-15T00:00:00",
          "2020-06-16T00:00:00",
          "2020-06-17T00:00:00",
          "2020-06-18T00:00:00",
          "2020-06-19T00:00:00",
          "2020-06-22T00:00:00",
          "2020-06-23T00:00:00",
          "2020-06-24T00:00:00",
          "2020-06-25T00:00:00",
          "2020-06-26T00:00:00",
          "2020-06-29T00:00:00",
          "2020-06-30T00:00:00",
          "2020-07-01T00:00:00",
          "2020-07-02T00:00:00",
          "2020-07-06T00:00:00",
          "2020-07-07T00:00:00",
          "2020-07-08T00:00:00",
          "2020-07-09T00:00:00",
          "2020-07-10T00:00:00",
          "2020-07-13T00:00:00",
          "2020-07-14T00:00:00",
          "2020-07-15T00:00:00",
          "2020-07-16T00:00:00",
          "2020-07-17T00:00:00",
          "2020-07-20T00:00:00",
          "2020-07-21T00:00:00",
          "2020-07-22T00:00:00",
          "2020-07-23T00:00:00",
          "2020-07-24T00:00:00",
          "2020-07-27T00:00:00",
          "2020-07-28T00:00:00",
          "2020-07-29T00:00:00",
          "2020-07-30T00:00:00",
          "2020-07-31T00:00:00",
          "2020-08-03T00:00:00",
          "2020-08-04T00:00:00",
          "2020-08-05T00:00:00",
          "2020-08-06T00:00:00",
          "2020-08-07T00:00:00",
          "2020-08-10T00:00:00",
          "2020-08-11T00:00:00",
          "2020-08-12T00:00:00",
          "2020-08-13T00:00:00",
          "2020-08-14T00:00:00",
          "2020-08-17T00:00:00",
          "2020-08-18T00:00:00",
          "2020-08-19T00:00:00",
          "2020-08-20T00:00:00",
          "2020-08-21T00:00:00",
          "2020-08-24T00:00:00",
          "2020-08-25T00:00:00",
          "2020-08-26T00:00:00",
          "2020-08-27T00:00:00",
          "2020-08-28T00:00:00",
          "2020-08-31T00:00:00",
          "2020-09-01T00:00:00",
          "2020-09-02T00:00:00",
          "2020-09-03T00:00:00",
          "2020-09-04T00:00:00",
          "2020-09-08T00:00:00",
          "2020-09-09T00:00:00",
          "2020-09-10T00:00:00",
          "2020-09-11T00:00:00",
          "2020-09-14T00:00:00",
          "2020-09-15T00:00:00",
          "2020-09-16T00:00:00",
          "2020-09-17T00:00:00",
          "2020-09-18T00:00:00",
          "2020-09-21T00:00:00",
          "2020-09-22T00:00:00",
          "2020-09-23T00:00:00",
          "2020-09-24T00:00:00",
          "2020-09-25T00:00:00",
          "2020-09-28T00:00:00",
          "2020-09-29T00:00:00",
          "2020-09-30T00:00:00",
          "2020-10-01T00:00:00",
          "2020-10-02T00:00:00",
          "2020-10-05T00:00:00",
          "2020-10-06T00:00:00",
          "2020-10-07T00:00:00",
          "2020-10-08T00:00:00",
          "2020-10-09T00:00:00",
          "2020-10-13T00:00:00",
          "2020-10-14T00:00:00",
          "2020-10-15T00:00:00",
          "2020-10-16T00:00:00",
          "2020-10-19T00:00:00",
          "2020-10-20T00:00:00",
          "2020-10-21T00:00:00",
          "2020-10-22T00:00:00",
          "2020-10-23T00:00:00",
          "2020-10-26T00:00:00",
          "2020-10-27T00:00:00",
          "2020-10-28T00:00:00",
          "2020-10-29T00:00:00",
          "2020-10-30T00:00:00",
          "2020-11-02T00:00:00",
          "2020-11-03T00:00:00",
          "2020-11-04T00:00:00",
          "2020-11-05T00:00:00",
          "2020-11-06T00:00:00",
          "2020-11-09T00:00:00",
          "2020-11-10T00:00:00",
          "2020-11-12T00:00:00",
          "2020-11-13T00:00:00",
          "2020-11-16T00:00:00",
          "2020-11-17T00:00:00",
          "2020-11-18T00:00:00",
          "2020-11-19T00:00:00",
          "2020-11-20T00:00:00",
          "2020-11-23T00:00:00",
          "2020-11-24T00:00:00",
          "2020-11-25T00:00:00",
          "2020-11-27T00:00:00",
          "2020-11-30T00:00:00",
          "2020-12-01T00:00:00",
          "2020-12-02T00:00:00",
          "2020-12-03T00:00:00",
          "2020-12-04T00:00:00",
          "2020-12-07T00:00:00",
          "2020-12-08T00:00:00",
          "2020-12-09T00:00:00",
          "2020-12-10T00:00:00",
          "2020-12-11T00:00:00",
          "2020-12-14T00:00:00",
          "2020-12-15T00:00:00",
          "2020-12-16T00:00:00",
          "2020-12-17T00:00:00",
          "2020-12-18T00:00:00",
          "2020-12-21T00:00:00",
          "2020-12-22T00:00:00",
          "2020-12-23T00:00:00",
          "2020-12-24T00:00:00",
          "2020-12-28T00:00:00",
          "2020-12-29T00:00:00",
          "2020-12-30T00:00:00",
          "2020-12-31T00:00:00",
          "2021-01-04T00:00:00",
          "2021-01-05T00:00:00",
          "2021-01-06T00:00:00",
          "2021-01-07T00:00:00",
          "2021-01-08T00:00:00",
          "2021-01-11T00:00:00",
          "2021-01-12T00:00:00",
          "2021-01-13T00:00:00",
          "2021-01-14T00:00:00",
          "2021-01-15T00:00:00",
          "2021-01-19T00:00:00",
          "2021-01-20T00:00:00",
          "2021-01-21T00:00:00",
          "2021-01-22T00:00:00",
          "2021-01-25T00:00:00",
          "2021-01-26T00:00:00",
          "2021-01-27T00:00:00",
          "2021-01-28T00:00:00",
          "2021-01-29T00:00:00",
          "2021-02-01T00:00:00",
          "2021-02-02T00:00:00",
          "2021-02-03T00:00:00",
          "2021-02-04T00:00:00",
          "2021-02-05T00:00:00",
          "2021-02-08T00:00:00",
          "2021-02-09T00:00:00",
          "2021-02-10T00:00:00",
          "2021-02-11T00:00:00",
          "2021-02-12T00:00:00",
          "2021-02-16T00:00:00",
          "2021-02-17T00:00:00",
          "2021-02-18T00:00:00",
          "2021-02-19T00:00:00",
          "2021-02-22T00:00:00",
          "2021-02-23T00:00:00",
          "2021-02-24T00:00:00",
          "2021-02-25T00:00:00",
          "2021-02-26T00:00:00",
          "2021-03-01T00:00:00",
          "2021-03-02T00:00:00",
          "2021-03-03T00:00:00",
          "2021-03-04T00:00:00",
          "2021-03-05T00:00:00",
          "2021-03-08T00:00:00",
          "2021-03-09T00:00:00",
          "2021-03-10T00:00:00",
          "2021-03-11T00:00:00",
          "2021-03-12T00:00:00",
          "2021-03-15T00:00:00",
          "2021-03-16T00:00:00",
          "2021-03-17T00:00:00",
          "2021-03-18T00:00:00",
          "2021-03-19T00:00:00",
          "2021-03-22T00:00:00",
          "2021-03-23T00:00:00",
          "2021-03-24T00:00:00",
          "2021-03-25T00:00:00",
          "2021-03-26T00:00:00",
          "2021-03-29T00:00:00",
          "2021-03-30T00:00:00",
          "2021-03-31T00:00:00",
          "2021-04-01T00:00:00",
          "2021-04-05T00:00:00",
          "2021-04-06T00:00:00",
          "2021-04-07T00:00:00",
          "2021-04-08T00:00:00",
          "2021-04-09T00:00:00",
          "2021-04-12T00:00:00",
          "2021-04-13T00:00:00",
          "2021-04-14T00:00:00",
          "2021-04-15T00:00:00",
          "2021-04-16T00:00:00",
          "2021-04-19T00:00:00",
          "2021-04-20T00:00:00",
          "2021-04-21T00:00:00",
          "2021-04-22T00:00:00",
          "2021-04-23T00:00:00",
          "2021-04-26T00:00:00",
          "2021-04-27T00:00:00",
          "2021-04-28T00:00:00",
          "2021-04-29T00:00:00",
          "2021-04-30T00:00:00",
          "2021-05-03T00:00:00",
          "2021-05-04T00:00:00",
          "2021-05-05T00:00:00",
          "2021-05-06T00:00:00",
          "2021-05-07T00:00:00",
          "2021-05-10T00:00:00",
          "2021-05-11T00:00:00",
          "2021-05-12T00:00:00",
          "2021-05-13T00:00:00",
          "2021-05-14T00:00:00",
          "2021-05-17T00:00:00",
          "2021-05-18T00:00:00",
          "2021-05-19T00:00:00",
          "2021-05-20T00:00:00",
          "2021-05-21T00:00:00",
          "2021-05-24T00:00:00",
          "2021-05-25T00:00:00",
          "2021-05-26T00:00:00",
          "2021-05-27T00:00:00",
          "2021-05-28T00:00:00",
          "2021-06-01T00:00:00",
          "2021-06-02T00:00:00",
          "2021-06-03T00:00:00",
          "2021-06-04T00:00:00",
          "2021-06-07T00:00:00",
          "2021-06-08T00:00:00",
          "2021-06-09T00:00:00",
          "2021-06-10T00:00:00",
          "2021-06-11T00:00:00",
          "2021-06-14T00:00:00",
          "2021-06-15T00:00:00",
          "2021-06-16T00:00:00",
          "2021-06-17T00:00:00",
          "2021-06-21T00:00:00",
          "2021-06-22T00:00:00",
          "2021-06-23T00:00:00",
          "2021-06-24T00:00:00",
          "2021-06-25T00:00:00",
          "2021-06-28T00:00:00",
          "2021-06-29T00:00:00",
          "2021-06-30T00:00:00",
          "2021-07-01T00:00:00",
          "2021-07-02T00:00:00",
          "2021-07-06T00:00:00",
          "2021-07-07T00:00:00",
          "2021-07-08T00:00:00",
          "2021-07-09T00:00:00",
          "2021-07-12T00:00:00",
          "2021-07-13T00:00:00",
          "2021-07-14T00:00:00",
          "2021-07-15T00:00:00",
          "2021-07-16T00:00:00",
          "2021-07-19T00:00:00",
          "2021-07-20T00:00:00",
          "2021-07-21T00:00:00",
          "2021-07-22T00:00:00",
          "2021-07-23T00:00:00",
          "2021-07-26T00:00:00",
          "2021-07-27T00:00:00",
          "2021-07-28T00:00:00",
          "2021-07-29T00:00:00",
          "2021-07-30T00:00:00",
          "2021-08-02T00:00:00",
          "2021-08-03T00:00:00",
          "2021-08-04T00:00:00",
          "2021-08-05T00:00:00",
          "2021-08-06T00:00:00",
          "2021-08-09T00:00:00",
          "2021-08-10T00:00:00",
          "2021-08-11T00:00:00",
          "2021-08-12T00:00:00",
          "2021-08-13T00:00:00",
          "2021-08-16T00:00:00",
          "2021-08-17T00:00:00",
          "2021-08-18T00:00:00",
          "2021-08-19T00:00:00",
          "2021-08-20T00:00:00",
          "2021-08-23T00:00:00",
          "2021-08-24T00:00:00",
          "2021-08-25T00:00:00",
          "2021-08-26T00:00:00",
          "2021-08-27T00:00:00",
          "2021-08-30T00:00:00",
          "2021-08-31T00:00:00",
          "2021-09-01T00:00:00",
          "2021-09-02T00:00:00",
          "2021-09-03T00:00:00",
          "2021-09-07T00:00:00",
          "2021-09-08T00:00:00",
          "2021-09-09T00:00:00",
          "2021-09-10T00:00:00",
          "2021-09-13T00:00:00",
          "2021-09-14T00:00:00",
          "2021-09-15T00:00:00",
          "2021-09-16T00:00:00",
          "2021-09-17T00:00:00",
          "2021-09-20T00:00:00",
          "2021-09-21T00:00:00",
          "2021-09-22T00:00:00",
          "2021-09-23T00:00:00",
          "2021-09-24T00:00:00",
          "2021-09-27T00:00:00",
          "2021-09-28T00:00:00",
          "2021-09-29T00:00:00",
          "2021-09-30T00:00:00",
          "2021-10-01T00:00:00",
          "2021-10-04T00:00:00",
          "2021-10-05T00:00:00",
          "2021-10-06T00:00:00",
          "2021-10-07T00:00:00",
          "2021-10-08T00:00:00",
          "2021-10-12T00:00:00",
          "2021-10-13T00:00:00",
          "2021-10-14T00:00:00",
          "2021-10-15T00:00:00",
          "2021-10-18T00:00:00",
          "2021-10-19T00:00:00",
          "2021-10-20T00:00:00",
          "2021-10-21T00:00:00",
          "2021-10-22T00:00:00",
          "2021-10-25T00:00:00",
          "2021-10-26T00:00:00",
          "2021-10-27T00:00:00",
          "2021-10-28T00:00:00",
          "2021-10-29T00:00:00",
          "2021-11-01T00:00:00",
          "2021-11-02T00:00:00",
          "2021-11-03T00:00:00",
          "2021-11-04T00:00:00",
          "2021-11-05T00:00:00",
          "2021-11-08T00:00:00",
          "2021-11-09T00:00:00",
          "2021-11-10T00:00:00",
          "2021-11-12T00:00:00",
          "2021-11-15T00:00:00",
          "2021-11-16T00:00:00",
          "2021-11-17T00:00:00",
          "2021-11-18T00:00:00",
          "2021-11-19T00:00:00",
          "2021-11-22T00:00:00",
          "2021-11-23T00:00:00",
          "2021-11-24T00:00:00",
          "2021-11-26T00:00:00",
          "2021-11-29T00:00:00",
          "2021-11-30T00:00:00",
          "2021-12-01T00:00:00",
          "2021-12-02T00:00:00",
          "2021-12-03T00:00:00",
          "2021-12-06T00:00:00",
          "2021-12-07T00:00:00",
          "2021-12-08T00:00:00",
          "2021-12-09T00:00:00",
          "2021-12-10T00:00:00",
          "2021-12-13T00:00:00",
          "2021-12-14T00:00:00",
          "2021-12-15T00:00:00",
          "2021-12-16T00:00:00",
          "2021-12-17T00:00:00",
          "2021-12-20T00:00:00",
          "2021-12-21T00:00:00",
          "2021-12-22T00:00:00",
          "2021-12-23T00:00:00",
          "2021-12-27T00:00:00",
          "2021-12-28T00:00:00",
          "2021-12-29T00:00:00",
          "2021-12-30T00:00:00",
          "2022-01-03T00:00:00",
          "2022-01-04T00:00:00",
          "2022-01-05T00:00:00",
          "2022-01-06T00:00:00",
          "2022-01-07T00:00:00",
          "2022-01-10T00:00:00",
          "2022-01-11T00:00:00",
          "2022-01-12T00:00:00",
          "2022-01-13T00:00:00",
          "2022-01-14T00:00:00",
          "2022-01-18T00:00:00",
          "2022-01-19T00:00:00",
          "2022-01-20T00:00:00",
          "2022-01-21T00:00:00",
          "2022-01-24T00:00:00",
          "2022-01-25T00:00:00",
          "2022-01-26T00:00:00",
          "2022-01-27T00:00:00",
          "2022-01-28T00:00:00",
          "2022-01-31T00:00:00",
          "2022-02-01T00:00:00",
          "2022-02-02T00:00:00",
          "2022-02-03T00:00:00",
          "2022-02-04T00:00:00",
          "2022-02-07T00:00:00",
          "2022-02-08T00:00:00",
          "2022-02-09T00:00:00",
          "2022-02-10T00:00:00",
          "2022-02-11T00:00:00",
          "2022-02-14T00:00:00",
          "2022-02-15T00:00:00",
          "2022-02-16T00:00:00",
          "2022-02-17T00:00:00",
          "2022-02-18T00:00:00",
          "2022-02-22T00:00:00",
          "2022-02-23T00:00:00",
          "2022-02-24T00:00:00",
          "2022-02-25T00:00:00",
          "2022-02-28T00:00:00",
          "2022-03-01T00:00:00",
          "2022-03-02T00:00:00",
          "2022-03-03T00:00:00",
          "2022-03-04T00:00:00",
          "2022-03-07T00:00:00",
          "2022-03-08T00:00:00",
          "2022-03-09T00:00:00",
          "2022-03-10T00:00:00",
          "2022-03-11T00:00:00",
          "2022-03-14T00:00:00",
          "2022-03-15T00:00:00",
          "2022-03-16T00:00:00",
          "2022-03-17T00:00:00",
          "2022-03-18T00:00:00",
          "2022-03-21T00:00:00",
          "2022-03-22T00:00:00",
          "2022-03-23T00:00:00",
          "2022-03-24T00:00:00",
          "2022-03-25T00:00:00",
          "2022-03-28T00:00:00",
          "2022-03-29T00:00:00",
          "2022-03-30T00:00:00",
          "2022-03-31T00:00:00",
          "2022-04-01T00:00:00",
          "2022-04-04T00:00:00",
          "2022-04-05T00:00:00",
          "2022-04-06T00:00:00",
          "2022-04-07T00:00:00",
          "2022-04-08T00:00:00",
          "2022-04-11T00:00:00",
          "2022-04-12T00:00:00",
          "2022-04-13T00:00:00",
          "2022-04-14T00:00:00",
          "2022-04-18T00:00:00",
          "2022-04-19T00:00:00",
          "2022-04-20T00:00:00",
          "2022-04-21T00:00:00",
          "2022-04-22T00:00:00",
          "2022-04-25T00:00:00",
          "2022-04-26T00:00:00",
          "2022-04-27T00:00:00",
          "2022-04-28T00:00:00",
          "2022-04-29T00:00:00",
          "2022-05-02T00:00:00",
          "2022-05-03T00:00:00",
          "2022-05-04T00:00:00",
          "2022-05-05T00:00:00",
          "2022-05-06T00:00:00",
          "2022-05-09T00:00:00",
          "2022-05-10T00:00:00",
          "2022-05-11T00:00:00",
          "2022-05-12T00:00:00",
          "2022-05-13T00:00:00",
          "2022-05-16T00:00:00",
          "2022-05-17T00:00:00",
          "2022-05-18T00:00:00",
          "2022-05-19T00:00:00",
          "2022-05-20T00:00:00",
          "2022-05-23T00:00:00",
          "2022-05-24T00:00:00",
          "2022-05-25T00:00:00",
          "2022-05-26T00:00:00",
          "2022-05-27T00:00:00",
          "2022-05-31T00:00:00",
          "2022-06-01T00:00:00",
          "2022-06-02T00:00:00",
          "2022-06-03T00:00:00",
          "2022-06-06T00:00:00",
          "2022-06-07T00:00:00",
          "2022-06-08T00:00:00",
          "2022-06-09T00:00:00",
          "2022-06-10T00:00:00",
          "2022-06-13T00:00:00",
          "2022-06-14T00:00:00",
          "2022-06-15T00:00:00",
          "2022-06-16T00:00:00",
          "2022-06-17T00:00:00",
          "2022-06-21T00:00:00",
          "2022-06-22T00:00:00",
          "2022-06-23T00:00:00",
          "2022-06-24T00:00:00",
          "2022-06-27T00:00:00",
          "2022-06-28T00:00:00",
          "2022-06-29T00:00:00",
          "2022-06-30T00:00:00",
          "2022-07-01T00:00:00",
          "2022-07-05T00:00:00",
          "2022-07-06T00:00:00",
          "2022-07-07T00:00:00",
          "2022-07-08T00:00:00",
          "2022-07-11T00:00:00",
          "2022-07-12T00:00:00",
          "2022-07-13T00:00:00",
          "2022-07-14T00:00:00",
          "2022-07-15T00:00:00",
          "2022-07-18T00:00:00",
          "2022-07-19T00:00:00",
          "2022-07-20T00:00:00",
          "2022-07-21T00:00:00",
          "2022-07-22T00:00:00",
          "2022-07-25T00:00:00",
          "2022-07-26T00:00:00",
          "2022-07-27T00:00:00",
          "2022-07-28T00:00:00",
          "2022-07-29T00:00:00",
          "2022-08-01T00:00:00",
          "2022-08-02T00:00:00",
          "2022-08-03T00:00:00",
          "2022-08-04T00:00:00",
          "2022-08-05T00:00:00",
          "2022-08-08T00:00:00",
          "2022-08-09T00:00:00",
          "2022-08-10T00:00:00",
          "2022-08-11T00:00:00",
          "2022-08-12T00:00:00",
          "2022-08-15T00:00:00",
          "2022-08-16T00:00:00",
          "2022-08-17T00:00:00",
          "2022-08-18T00:00:00",
          "2022-08-19T00:00:00",
          "2022-08-22T00:00:00",
          "2022-08-23T00:00:00",
          "2022-08-24T00:00:00",
          "2022-08-25T00:00:00",
          "2022-08-26T00:00:00",
          "2022-08-29T00:00:00",
          "2022-08-30T00:00:00",
          "2022-08-31T00:00:00",
          "2022-09-01T00:00:00",
          "2022-09-02T00:00:00",
          "2022-09-06T00:00:00",
          "2022-09-07T00:00:00",
          "2022-09-08T00:00:00",
          "2022-09-09T00:00:00",
          "2022-09-12T00:00:00",
          "2022-09-13T00:00:00",
          "2022-09-14T00:00:00",
          "2022-09-15T00:00:00",
          "2022-09-16T00:00:00",
          "2022-09-19T00:00:00",
          "2022-09-20T00:00:00",
          "2022-09-21T00:00:00",
          "2022-09-22T00:00:00",
          "2022-09-23T00:00:00",
          "2022-09-26T00:00:00",
          "2022-09-27T00:00:00",
          "2022-09-28T00:00:00",
          "2022-09-29T00:00:00",
          "2022-09-30T00:00:00",
          "2022-10-03T00:00:00",
          "2022-10-04T00:00:00",
          "2022-10-05T00:00:00",
          "2022-10-06T00:00:00",
          "2022-10-07T00:00:00",
          "2022-10-11T00:00:00",
          "2022-10-12T00:00:00",
          "2022-10-13T00:00:00",
          "2022-10-14T00:00:00",
          "2022-10-17T00:00:00",
          "2022-10-18T00:00:00",
          "2022-10-19T00:00:00",
          "2022-10-20T00:00:00",
          "2022-10-21T00:00:00",
          "2022-10-24T00:00:00",
          "2022-10-25T00:00:00",
          "2022-10-26T00:00:00",
          "2022-10-27T00:00:00",
          "2022-10-28T00:00:00",
          "2022-10-31T00:00:00",
          "2022-11-01T00:00:00",
          "2022-11-02T00:00:00",
          "2022-11-03T00:00:00",
          "2022-11-04T00:00:00",
          "2022-11-07T00:00:00",
          "2022-11-08T00:00:00",
          "2022-11-09T00:00:00",
          "2022-11-10T00:00:00",
          "2022-11-14T00:00:00",
          "2022-11-15T00:00:00",
          "2022-11-16T00:00:00",
          "2022-11-17T00:00:00",
          "2022-11-18T00:00:00",
          "2022-11-21T00:00:00",
          "2022-11-22T00:00:00",
          "2022-11-23T00:00:00",
          "2022-11-25T00:00:00",
          "2022-11-28T00:00:00",
          "2022-11-29T00:00:00",
          "2022-11-30T00:00:00",
          "2022-12-01T00:00:00",
          "2022-12-02T00:00:00",
          "2022-12-05T00:00:00",
          "2022-12-06T00:00:00",
          "2022-12-07T00:00:00",
          "2022-12-08T00:00:00",
          "2022-12-09T00:00:00",
          "2022-12-12T00:00:00",
          "2022-12-13T00:00:00",
          "2022-12-14T00:00:00",
          "2022-12-15T00:00:00",
          "2022-12-16T00:00:00",
          "2022-12-19T00:00:00",
          "2022-12-20T00:00:00",
          "2022-12-21T00:00:00",
          "2022-12-22T00:00:00",
          "2022-12-23T00:00:00",
          "2022-12-27T00:00:00",
          "2022-12-28T00:00:00",
          "2022-12-29T00:00:00",
          "2022-12-30T00:00:00",
          "2023-01-03T00:00:00",
          "2023-01-04T00:00:00",
          "2023-01-05T00:00:00",
          "2023-01-06T00:00:00",
          "2023-01-09T00:00:00",
          "2023-01-10T00:00:00",
          "2023-01-11T00:00:00",
          "2023-01-12T00:00:00",
          "2023-01-13T00:00:00",
          "2023-01-17T00:00:00",
          "2023-01-18T00:00:00",
          "2023-01-19T00:00:00",
          "2023-01-20T00:00:00",
          "2023-01-23T00:00:00",
          "2023-01-24T00:00:00",
          "2023-01-25T00:00:00",
          "2023-01-26T00:00:00",
          "2023-01-27T00:00:00",
          "2023-01-30T00:00:00",
          "2023-01-31T00:00:00",
          "2023-02-01T00:00:00",
          "2023-02-02T00:00:00",
          "2023-02-03T00:00:00",
          "2023-02-06T00:00:00",
          "2023-02-07T00:00:00",
          "2023-02-08T00:00:00",
          "2023-02-09T00:00:00",
          "2023-02-10T00:00:00",
          "2023-02-13T00:00:00",
          "2023-02-14T00:00:00",
          "2023-02-15T00:00:00",
          "2023-02-16T00:00:00",
          "2023-02-17T00:00:00",
          "2023-02-21T00:00:00",
          "2023-02-22T00:00:00",
          "2023-02-23T00:00:00",
          "2023-02-24T00:00:00",
          "2023-02-27T00:00:00",
          "2023-02-28T00:00:00",
          "2023-03-01T00:00:00",
          "2023-03-02T00:00:00",
          "2023-03-03T00:00:00",
          "2023-03-06T00:00:00",
          "2023-03-07T00:00:00",
          "2023-03-08T00:00:00",
          "2023-03-09T00:00:00",
          "2023-03-10T00:00:00",
          "2023-03-13T00:00:00",
          "2023-03-14T00:00:00",
          "2023-03-15T00:00:00",
          "2023-03-16T00:00:00",
          "2023-03-17T00:00:00",
          "2023-03-20T00:00:00",
          "2023-03-21T00:00:00",
          "2023-03-22T00:00:00",
          "2023-03-23T00:00:00",
          "2023-03-24T00:00:00",
          "2023-03-27T00:00:00",
          "2023-03-28T00:00:00",
          "2023-03-29T00:00:00",
          "2023-03-30T00:00:00",
          "2023-03-31T00:00:00",
          "2023-04-03T00:00:00",
          "2023-04-04T00:00:00",
          "2023-04-05T00:00:00",
          "2023-04-06T00:00:00",
          "2023-04-10T00:00:00",
          "2023-04-11T00:00:00",
          "2023-04-12T00:00:00",
          "2023-04-13T00:00:00",
          "2023-04-14T00:00:00",
          "2023-04-17T00:00:00",
          "2023-04-18T00:00:00",
          "2023-04-19T00:00:00",
          "2023-04-20T00:00:00",
          "2023-04-21T00:00:00",
          "2023-04-24T00:00:00",
          "2023-04-25T00:00:00",
          "2023-04-26T00:00:00",
          "2023-04-27T00:00:00",
          "2023-04-28T00:00:00",
          "2023-05-01T00:00:00",
          "2023-05-02T00:00:00",
          "2023-05-03T00:00:00",
          "2023-05-04T00:00:00",
          "2023-05-05T00:00:00",
          "2023-05-08T00:00:00",
          "2023-05-09T00:00:00",
          "2023-05-10T00:00:00",
          "2023-05-11T00:00:00",
          "2023-05-12T00:00:00",
          "2023-05-15T00:00:00",
          "2023-05-16T00:00:00",
          "2023-05-17T00:00:00",
          "2023-05-18T00:00:00",
          "2023-05-19T00:00:00",
          "2023-05-22T00:00:00",
          "2023-05-23T00:00:00",
          "2023-05-24T00:00:00",
          "2023-05-25T00:00:00",
          "2023-05-26T00:00:00",
          "2023-05-30T00:00:00",
          "2023-05-31T00:00:00",
          "2023-06-01T00:00:00",
          "2023-06-02T00:00:00",
          "2023-06-05T00:00:00",
          "2023-06-06T00:00:00",
          "2023-06-07T00:00:00",
          "2023-06-08T00:00:00",
          "2023-06-09T00:00:00",
          "2023-06-12T00:00:00",
          "2023-06-13T00:00:00",
          "2023-06-14T00:00:00",
          "2023-06-15T00:00:00",
          "2023-06-16T00:00:00",
          "2023-06-20T00:00:00",
          "2023-06-21T00:00:00",
          "2023-06-22T00:00:00",
          "2023-06-23T00:00:00",
          "2023-06-26T00:00:00",
          "2023-06-27T00:00:00",
          "2023-06-28T00:00:00",
          "2023-06-29T00:00:00",
          "2023-06-30T00:00:00",
          "2023-07-03T00:00:00",
          "2023-07-05T00:00:00",
          "2023-07-06T00:00:00",
          "2023-07-07T00:00:00",
          "2023-07-10T00:00:00",
          "2023-07-11T00:00:00",
          "2023-07-12T00:00:00",
          "2023-07-13T00:00:00",
          "2023-07-14T00:00:00",
          "2023-07-17T00:00:00",
          "2023-07-18T00:00:00",
          "2023-07-19T00:00:00",
          "2023-07-20T00:00:00",
          "2023-07-21T00:00:00",
          "2023-07-24T00:00:00",
          "2023-07-25T00:00:00",
          "2023-07-26T00:00:00",
          "2023-07-27T00:00:00",
          "2023-07-28T00:00:00",
          "2023-07-31T00:00:00",
          "2023-08-01T00:00:00",
          "2023-08-02T00:00:00",
          "2023-08-03T00:00:00",
          "2023-08-04T00:00:00",
          "2023-08-07T00:00:00",
          "2023-08-08T00:00:00",
          "2023-08-09T00:00:00",
          "2023-08-10T00:00:00",
          "2023-08-11T00:00:00",
          "2023-08-14T00:00:00",
          "2023-08-15T00:00:00",
          "2023-08-16T00:00:00",
          "2023-08-17T00:00:00",
          "2023-08-18T00:00:00",
          "2023-08-21T00:00:00",
          "2023-08-22T00:00:00",
          "2023-08-23T00:00:00",
          "2023-08-24T00:00:00",
          "2023-08-25T00:00:00",
          "2023-08-28T00:00:00",
          "2023-08-29T00:00:00",
          "2023-08-30T00:00:00",
          "2023-08-31T00:00:00",
          "2023-09-01T00:00:00",
          "2023-09-05T00:00:00",
          "2023-09-06T00:00:00",
          "2023-09-07T00:00:00",
          "2023-09-08T00:00:00",
          "2023-09-11T00:00:00",
          "2023-09-12T00:00:00",
          "2023-09-13T00:00:00",
          "2023-09-14T00:00:00",
          "2023-09-15T00:00:00",
          "2023-09-18T00:00:00",
          "2023-09-19T00:00:00",
          "2023-09-20T00:00:00",
          "2023-09-21T00:00:00",
          "2023-09-22T00:00:00",
          "2023-09-25T00:00:00",
          "2023-09-26T00:00:00",
          "2023-09-27T00:00:00",
          "2023-09-28T00:00:00",
          "2023-09-29T00:00:00",
          "2023-10-02T00:00:00",
          "2023-10-03T00:00:00",
          "2023-10-04T00:00:00",
          "2023-10-05T00:00:00",
          "2023-10-06T00:00:00",
          "2023-10-10T00:00:00",
          "2023-10-11T00:00:00",
          "2023-10-12T00:00:00",
          "2023-10-13T00:00:00",
          "2023-10-16T00:00:00",
          "2023-10-17T00:00:00",
          "2023-10-18T00:00:00",
          "2023-10-19T00:00:00",
          "2023-10-20T00:00:00",
          "2023-10-23T00:00:00",
          "2023-10-24T00:00:00",
          "2023-10-25T00:00:00",
          "2023-10-26T00:00:00",
          "2023-10-27T00:00:00",
          "2023-10-30T00:00:00",
          "2023-10-31T00:00:00",
          "2023-11-01T00:00:00",
          "2023-11-02T00:00:00",
          "2023-11-03T00:00:00",
          "2023-11-06T00:00:00",
          "2023-11-07T00:00:00",
          "2023-11-08T00:00:00",
          "2023-11-09T00:00:00",
          "2023-11-13T00:00:00",
          "2023-11-14T00:00:00",
          "2023-11-15T00:00:00",
          "2023-11-16T00:00:00",
          "2023-11-17T00:00:00",
          "2023-11-20T00:00:00",
          "2023-11-21T00:00:00",
          "2023-11-22T00:00:00",
          "2023-11-24T00:00:00",
          "2023-11-27T00:00:00",
          "2023-11-28T00:00:00",
          "2023-11-29T00:00:00",
          "2023-11-30T00:00:00",
          "2023-12-01T00:00:00",
          "2023-12-04T00:00:00",
          "2023-12-05T00:00:00",
          "2023-12-06T00:00:00",
          "2023-12-07T00:00:00",
          "2023-12-08T00:00:00",
          "2023-12-11T00:00:00",
          "2023-12-12T00:00:00",
          "2023-12-13T00:00:00",
          "2023-12-14T00:00:00",
          "2023-12-15T00:00:00",
          "2023-12-18T00:00:00",
          "2023-12-19T00:00:00",
          "2023-12-20T00:00:00",
          "2023-12-21T00:00:00",
          "2023-12-22T00:00:00",
          "2023-12-26T00:00:00",
          "2023-12-27T00:00:00",
          "2023-12-28T00:00:00",
          "2023-12-29T00:00:00",
          "2024-01-02T00:00:00",
          "2024-01-03T00:00:00",
          "2024-01-04T00:00:00",
          "2024-01-05T00:00:00",
          "2024-01-08T00:00:00",
          "2024-01-09T00:00:00",
          "2024-01-10T00:00:00",
          "2024-01-11T00:00:00",
          "2024-01-12T00:00:00",
          "2024-01-16T00:00:00",
          "2024-01-17T00:00:00",
          "2024-01-18T00:00:00",
          "2024-01-19T00:00:00",
          "2024-01-22T00:00:00",
          "2024-01-23T00:00:00",
          "2024-01-24T00:00:00",
          "2024-01-25T00:00:00",
          "2024-01-26T00:00:00",
          "2024-01-29T00:00:00",
          "2024-01-30T00:00:00",
          "2024-01-31T00:00:00",
          "2024-02-01T00:00:00",
          "2024-02-02T00:00:00",
          "2024-02-05T00:00:00",
          "2024-02-06T00:00:00",
          "2024-02-07T00:00:00",
          "2024-02-08T00:00:00",
          "2024-02-09T00:00:00",
          "2024-02-12T00:00:00",
          "2024-02-13T00:00:00",
          "2024-02-14T00:00:00",
          "2024-02-15T00:00:00",
          "2024-02-16T00:00:00",
          "2024-02-20T00:00:00",
          "2024-02-21T00:00:00",
          "2024-02-22T00:00:00",
          "2024-02-23T00:00:00",
          "2024-02-26T00:00:00",
          "2024-02-27T00:00:00",
          "2024-02-28T00:00:00",
          "2024-02-29T00:00:00",
          "2024-03-01T00:00:00",
          "2024-03-04T00:00:00",
          "2024-03-05T00:00:00",
          "2024-03-06T00:00:00",
          "2024-03-07T00:00:00",
          "2024-03-08T00:00:00",
          "2024-03-11T00:00:00",
          "2024-03-12T00:00:00",
          "2024-03-13T00:00:00",
          "2024-03-14T00:00:00",
          "2024-03-15T00:00:00",
          "2024-03-18T00:00:00",
          "2024-03-19T00:00:00",
          "2024-03-20T00:00:00",
          "2024-03-21T00:00:00",
          "2024-03-22T00:00:00",
          "2024-03-25T00:00:00",
          "2024-03-26T00:00:00",
          "2024-03-27T00:00:00",
          "2024-03-28T00:00:00",
          "2024-04-01T00:00:00",
          "2024-04-02T00:00:00",
          "2024-04-03T00:00:00",
          "2024-04-04T00:00:00",
          "2024-04-05T00:00:00",
          "2024-04-08T00:00:00",
          "2024-04-09T00:00:00",
          "2024-04-10T00:00:00",
          "2024-04-11T00:00:00",
          "2024-04-12T00:00:00",
          "2024-04-15T00:00:00",
          "2024-04-16T00:00:00",
          "2024-04-17T00:00:00",
          "2024-04-18T00:00:00",
          "2024-04-19T00:00:00",
          "2024-04-22T00:00:00",
          "2024-04-23T00:00:00",
          "2024-04-24T00:00:00",
          "2024-04-25T00:00:00",
          "2024-04-26T00:00:00",
          "2024-04-29T00:00:00",
          "2024-04-30T00:00:00",
          "2024-05-01T00:00:00",
          "2024-05-02T00:00:00",
          "2024-05-03T00:00:00",
          "2024-05-06T00:00:00",
          "2024-05-07T00:00:00",
          "2024-05-08T00:00:00",
          "2024-05-09T00:00:00",
          "2024-05-10T00:00:00",
          "2024-05-13T00:00:00",
          "2024-05-14T00:00:00",
          "2024-05-15T00:00:00",
          "2024-05-16T00:00:00",
          "2024-05-17T00:00:00",
          "2024-05-20T00:00:00",
          "2024-05-21T00:00:00",
          "2024-05-22T00:00:00",
          "2024-05-23T00:00:00",
          "2024-05-24T00:00:00",
          "2024-05-28T00:00:00",
          "2024-05-29T00:00:00",
          "2024-05-30T00:00:00",
          "2024-05-31T00:00:00",
          "2024-06-03T00:00:00",
          "2024-06-04T00:00:00",
          "2024-06-05T00:00:00",
          "2024-06-06T00:00:00",
          "2024-06-07T00:00:00",
          "2024-06-10T00:00:00",
          "2024-06-11T00:00:00",
          "2024-06-12T00:00:00",
          "2024-06-13T00:00:00",
          "2024-06-14T00:00:00",
          "2024-06-17T00:00:00",
          "2024-06-18T00:00:00",
          "2024-06-20T00:00:00",
          "2024-06-21T00:00:00",
          "2024-06-24T00:00:00",
          "2024-06-25T00:00:00",
          "2024-06-26T00:00:00",
          "2024-06-27T00:00:00",
          "2024-06-28T00:00:00",
          "2024-07-01T00:00:00",
          "2024-07-02T00:00:00",
          "2024-07-03T00:00:00",
          "2024-07-05T00:00:00",
          "2024-07-08T00:00:00",
          "2024-07-09T00:00:00",
          "2024-07-10T00:00:00",
          "2024-07-11T00:00:00",
          "2024-07-12T00:00:00",
          "2024-07-15T00:00:00",
          "2024-07-16T00:00:00",
          "2024-07-17T00:00:00",
          "2024-07-18T00:00:00",
          "2024-07-19T00:00:00",
          "2024-07-22T00:00:00",
          "2024-07-23T00:00:00",
          "2024-07-24T00:00:00",
          "2024-07-25T00:00:00",
          "2024-07-26T00:00:00",
          "2024-07-29T00:00:00",
          "2024-07-30T00:00:00",
          "2024-07-31T00:00:00",
          "2024-08-01T00:00:00",
          "2024-08-02T00:00:00",
          "2024-08-05T00:00:00",
          "2024-08-06T00:00:00",
          "2024-08-07T00:00:00",
          "2024-08-08T00:00:00",
          "2024-08-09T00:00:00",
          "2024-08-12T00:00:00",
          "2024-08-13T00:00:00",
          "2024-08-14T00:00:00",
          "2024-08-15T00:00:00",
          "2024-08-16T00:00:00",
          "2024-08-19T00:00:00",
          "2024-08-20T00:00:00",
          "2024-08-21T00:00:00",
          "2024-08-22T00:00:00",
          "2024-08-23T00:00:00",
          "2024-08-26T00:00:00",
          "2024-08-27T00:00:00",
          "2024-08-28T00:00:00",
          "2024-08-29T00:00:00",
          "2024-08-30T00:00:00",
          "2024-09-03T00:00:00",
          "2024-09-04T00:00:00",
          "2024-09-05T00:00:00",
          "2024-09-06T00:00:00",
          "2024-09-09T00:00:00",
          "2024-09-10T00:00:00",
          "2024-09-11T00:00:00",
          "2024-09-12T00:00:00",
          "2024-09-13T00:00:00",
          "2024-09-16T00:00:00",
          "2024-09-17T00:00:00",
          "2024-09-18T00:00:00",
          "2024-09-19T00:00:00",
          "2024-09-20T00:00:00",
          "2024-09-23T00:00:00",
          "2024-09-24T00:00:00",
          "2024-09-25T00:00:00",
          "2024-09-26T00:00:00",
          "2024-09-27T00:00:00",
          "2024-09-30T00:00:00",
          "2024-10-01T00:00:00",
          "2024-10-02T00:00:00",
          "2024-10-03T00:00:00",
          "2024-10-04T00:00:00",
          "2024-10-07T00:00:00",
          "2024-10-08T00:00:00",
          "2024-10-09T00:00:00",
          "2024-10-10T00:00:00",
          "2024-10-11T00:00:00",
          "2024-10-15T00:00:00",
          "2024-10-16T00:00:00",
          "2024-10-17T00:00:00",
          "2024-10-18T00:00:00",
          "2024-10-21T00:00:00",
          "2024-10-22T00:00:00",
          "2024-10-23T00:00:00",
          "2024-10-24T00:00:00",
          "2024-10-25T00:00:00",
          "2024-10-28T00:00:00",
          "2024-10-29T00:00:00",
          "2024-10-30T00:00:00",
          "2024-10-31T00:00:00",
          "2024-11-01T00:00:00",
          "2024-11-04T00:00:00",
          "2024-11-05T00:00:00",
          "2024-11-06T00:00:00",
          "2024-11-07T00:00:00",
          "2024-11-08T00:00:00",
          "2024-11-12T00:00:00",
          "2024-11-13T00:00:00",
          "2024-11-14T00:00:00",
          "2024-11-15T00:00:00",
          "2024-11-18T00:00:00",
          "2024-11-19T00:00:00",
          "2024-11-20T00:00:00",
          "2024-11-21T00:00:00",
          "2024-11-22T00:00:00",
          "2024-11-25T00:00:00",
          "2024-11-26T00:00:00",
          "2024-11-27T00:00:00",
          "2024-11-29T00:00:00",
          "2024-12-02T00:00:00",
          "2024-12-03T00:00:00",
          "2024-12-04T00:00:00",
          "2024-12-05T00:00:00",
          "2024-12-06T00:00:00",
          "2024-12-09T00:00:00",
          "2024-12-10T00:00:00",
          "2024-12-11T00:00:00",
          "2024-12-12T00:00:00",
          "2024-12-13T00:00:00",
          "2024-12-16T00:00:00",
          "2024-12-17T00:00:00",
          "2024-12-18T00:00:00",
          "2024-12-19T00:00:00",
          "2024-12-20T00:00:00",
          "2024-12-23T00:00:00",
          "2024-12-24T00:00:00",
          "2024-12-26T00:00:00",
          "2024-12-27T00:00:00"
         ],
         "y": [
          -52.628940679734,
          -52.57650657191712,
          -51.7688685814425,
          -51.5700014974263,
          -50.92053174386795,
          -51.14081000179986,
          -50.715844357705244,
          -48.01864001356662,
          -47.79780524692568,
          -47.42689237737299,
          -45.54955342228402,
          -46.641573009537176,
          -45.677440191640486,
          -46.26592343567286,
          -46.60750824286532,
          -45.07853680243477,
          -43.65054156429391,
          -42.7742896831202,
          -41.87035916544439,
          -41.36963011829402,
          -42.799789021851,
          -42.20588338964135,
          -39.73082741063298,
          -46.10592931692632,
          -42.33546973132491,
          -41.93311654237557,
          -41.51856094444604,
          -43.22243821068268,
          -40.26673513704297,
          -36.90305319734337,
          -40.606991101464644,
          -41.030462683081836,
          -43.378205952308235,
          -45.246605574477215,
          -47.8345308667155,
          -48.320449968066725,
          -49.43357797557968,
          -49.00361803840552,
          -47.493197764907926,
          -47.38554009052347,
          -47.06044411555679,
          -46.86463304122701,
          -45.978685126366294,
          -44.594578452932154,
          -45.500496799733185,
          -45.281064334534136,
          -46.35452921415091,
          -47.47713026719924,
          -44.002008188585066,
          -44.78394163630202,
          -42.929215604645556,
          -44.48647154467289,
          -42.999005583631345,
          -43.46035542698634,
          -43.67568364931369,
          -44.895944833154644,
          -43.45110263296243,
          -41.59989345923374,
          -43.88439220925409,
          -42.68351917725117,
          -45.16327415755504,
          -47.666374929749054,
          -43.43474444054234,
          -42.84530073436876,
          -41.34857384018149,
          -44.55373399976601,
          -43.405805072921446,
          -44.295884779305354,
          -43.116123530090974,
          -43.251191927423434,
          -43.09170734597969,
          -45.078774580459594,
          -47.60048973943349,
          -46.41551001705109,
          -44.6768921725591,
          -42.43231789067066,
          -42.32391728741058,
          -39.658478355425466,
          -39.60986961875976,
          -37.08212110064997,
          -39.79458952984105,
          -40.35428376901966,
          -42.353539810423825,
          -41.782900852973896,
          -42.74548480539817,
          -39.26303009907204,
          -41.8411391581698,
          -42.5355156115673,
          -41.00421188677785,
          -41.79547329185107,
          -41.67838058802311,
          -40.323668064382815,
          -39.615005489023545,
          -38.19478459384285,
          -39.19804125517716,
          -38.297870595078805,
          -40.27011781852994,
          -39.96921173288279,
          -41.22301578947063,
          -40.844082698288055,
          -40.19297063977581,
          -39.628386904923204,
          -39.097517892671085,
          -40.22410297833825,
          -40.0796290549001,
          -41.94884032932351,
          -41.070502853982795,
          -41.51556104841063,
          -40.704668749089734,
          -41.12564220156636,
          -39.954584938155556,
          -42.814315731467815,
          -41.63741235114,
          -39.87780588773533,
          -43.74416670549968,
          -43.79641304253221,
          -43.08640122397169,
          -43.264943118417285,
          -41.26316470987001,
          -42.23691471880784,
          -40.95816627904991,
          -40.138993523143895,
          -41.41588040294781,
          -35.47198086508092,
          -40.38479345408583,
          -41.56258486500417,
          -42.50999261064905,
          -44.02770023803857,
          -43.529143456589296,
          -35.31511132539107,
          -42.5631776828435,
          -40.11061747499616,
          -38.442588904471094,
          -38.55972104844998,
          -38.80490477228147,
          -38.92760852098029,
          -40.01235046090872,
          -38.00620157123235,
          -38.67275497413858,
          -37.916950234540714,
          -41.48660822868862,
          -41.85369418822553,
          -43.68158777605742,
          -44.64539001487129,
          -47.41105739362581,
          -46.46664682480215,
          -47.46316023465913,
          -44.78564891125929,
          -46.07439390880148,
          -42.35851946319178,
          -43.69446663341235,
          -43.52057780871057,
          -44.91491567359587,
          -44.519453506179204,
          -45.816944950724505,
          -44.46599830327762,
          -46.55464395188598,
          -48.1537680567401,
          -45.79467726141178,
          -46.843052749712214,
          -49.111305799649195,
          -48.48798716797411,
          -48.89655397647665,
          -49.17400074621763,
          -52.22542438202527,
          -51.133643216310396,
          -48.84617067485597,
          -50.70409909505757,
          -51.543299375607575,
          -49.19445178331263,
          -51.70217950847045,
          -52.628028653915806,
          -53.623768702375685,
          -54.07030033468851,
          -53.082432690211775,
          -51.3046706470687,
          -53.20698396731189,
          -52.945937032477005,
          -50.26024211836999,
          -56.05304026603499,
          -52.364370978243045,
          -50.79536475659947,
          -49.445188675345705,
          -48.73609305488786,
          -50.156234689625514,
          -56.80885266343445,
          -52.819160649531405,
          -52.43780572473118,
          -51.664091160026345,
          -53.00300211057141,
          -54.322771991192994,
          -57.78975923283789,
          -58.92787848088395,
          -60.19339585607866,
          -59.80130550146243,
          -53.9531024228193,
          -55.69207050945351,
          -56.0754067023784,
          -57.99170221640719,
          -56.759755009895365,
          -56.02374577743654,
          -57.48248619038377,
          -58.318100216508874,
          -57.73797141976078,
          -59.112563164120814,
          -56.74214343800159,
          -63.57848308359016,
          -60.91963627745467,
          -60.37978684621059,
          -59.46213194157362,
          -62.610754720227305,
          -62.63953846524366,
          -58.902094114363514,
          -59.746898570499994,
          -58.74460424672758,
          -58.45439746689265,
          -58.614641013239186,
          -60.55151203141009,
          -61.476280183218805,
          -63.20322165282568,
          -63.967398783770115,
          -64.30350029486615,
          -63.20289815731526,
          -62.5501312976914,
          -63.5098644003659,
          -66.04224904168419,
          -59.42256370587202,
          -66.95867478326734,
          -61.12253461901744,
          -66.36913964578576,
          -65.15121109292919,
          -67.35862641199621,
          -64.48173110582083,
          -57.0183888098553,
          -59.83144743326299,
          -57.2103962030714,
          -60.07230467152689,
          -56.33458943885401,
          -61.01445160282477,
          -56.804769398507204,
          -57.449819551460244,
          -54.838611792444155,
          -55.10312941299907,
          -55.43722029708702,
          -53.4391115284552,
          -50.2479261749599,
          -50.134271248718946,
          -51.471678519290705,
          -52.77836017985642,
          -62.39694513126683,
          -56.34581641025762,
          -53.75630695516129,
          -56.26330884592705,
          -56.63312901591713,
          -57.56649421252269,
          -55.82307848207875,
          -60.72064513371696,
          -60.32187869726027,
          -62.41033555365889,
          -61.537617534473114,
          -61.19333796447264,
          -57.263324519128744,
          -59.598846229884785,
          -60.97156242913604,
          -61.49816530977432,
          -60.82727302394706,
          -58.70478199393885,
          -62.4851857316115,
          -60.61284827392037,
          -61.086528871370405,
          -61.56129314376675,
          -62.176630927995014,
          -61.50213853982898,
          -62.03389083122053,
          -61.46243768535311,
          -62.63312012539948,
          -63.029776493821245,
          -63.39050511971402,
          -62.23149819351126,
          -62.702966266546056,
          -63.14136050245995,
          -64.5409166017696,
          -65.02392007908551,
          -63.80574655986284,
          -64.55008051099531,
          -65.53643464670435,
          -65.87130588803412,
          -64.10142297465976,
          -65.36229960095375,
          -65.55741562560189,
          -64.51388239817754,
          -66.1159469077135,
          -67.97937060408042,
          -67.22255594290854,
          -68.04800856072642,
          -67.0584888038424,
          -69.26955898743192,
          -68.92415688739905,
          -68.24378800243775,
          -68.14341083402083,
          -68.03011306375328,
          -67.10884889832896,
          -67.34254736428831,
          -65.48414189709462,
          -62.704999230736604,
          -59.340502234404056,
          -59.79636476034575,
          -58.200683801656794,
          -57.362968568095376,
          -56.17014319979634,
          -58.06076869585928,
          -55.81813630045911,
          -56.8501314647627,
          -57.93230347399256,
          -57.19615351414875,
          -59.93146946134278,
          -60.510693890669074,
          -60.33377070485315,
          -61.662229226132006,
          -63.41183714064083,
          -62.98415527714418,
          -62.659911101684294,
          -65.61315152079139,
          -61.966262722354415,
          -61.76557313674307,
          -60.7686687075764,
          -61.07338862016829,
          -60.36578011115101,
          -59.69591005501411,
          -60.761948154396265,
          -60.95275675284761,
          -60.49188732089754,
          -61.15188656998707,
          -59.35359315566635,
          -59.08742810271255,
          -61.85257722094546,
          -60.12055606273634,
          -60.68855950834289,
          -61.5660578067073,
          -59.588184622992244,
          -58.35032953703938,
          -58.90668889839805,
          -58.02407817186106,
          -60.15768400046113,
          -56.99544429627856,
          -59.09397901129574,
          -57.80947025896022,
          -57.14939273465025,
          -59.09631337351349,
          -58.00129660218849,
          -57.85617521984192,
          -55.90669474880312,
          -53.71041546795683,
          -48.66262373337251,
          -45.13751038891507,
          -49.876096193420324,
          -54.991200918801766,
          -53.44365536127336,
          -56.95191429419344,
          -51.986255045011795,
          -53.58259097176224,
          -50.65081625619303,
          -46.47324727971765,
          -53.56603801380218,
          -53.597880685446995,
          -58.61175756867083,
          -52.97696142628085,
          -53.402930546967895,
          -50.228881062349416,
          -54.94015488924835,
          -58.9944300067583,
          -53.93804580813881,
          -53.45097990878245,
          -55.78618535638134,
          -58.556438379208544,
          -60.50949378902215,
          -57.625886793713235,
          -63.36351501705335,
          -58.06481246078879,
          -59.347320470450796,
          -58.65850922574791,
          -52.921087904968125,
          -54.694533480448456,
          -57.42378397000098,
          -54.58572760145468,
          -50.767114044427,
          -54.10910526632424,
          -66.18750401116505,
          -56.71713981098947,
          -57.53628839798417,
          -58.38403939803987,
          -56.03126884802847,
          -55.18226392729157,
          -53.297703094149206,
          -58.82665856425125,
          -59.23556729116481,
          -58.802831008759426,
          -55.399338881316986,
          -56.99411759410273,
          -54.261344582649265,
          -51.822434876049805,
          -63.8648030001562,
          -50.67422689907999,
          -47.51614818686043,
          -48.03512385224285,
          -43.51406024848659,
          -42.45871131400853,
          -47.37800892803177,
          -43.41173914428851,
          -44.91665694026088,
          -46.91928235490759,
          -44.42645847292048,
          -48.77898141282577,
          -46.33300870166575,
          -43.45393898747738,
          -45.67482155281692,
          -41.182532933011814,
          -44.69315256094064,
          -41.83252072806396,
          -44.279557638479346,
          -46.32857231959182,
          -42.003059999486524,
          -48.18151323071604,
          -49.898741347687746,
          -58.87741086696234,
          -53.6096893815035,
          -51.831273637273426,
          -48.26785837123823,
          -50.77672137728584,
          -43.718705199071636,
          -45.14497263354789,
          -46.33186310172886,
          -38.02033496450117,
          -47.16882796205941,
          -47.37784999643782,
          -47.588658726694824,
          -46.211401585353215,
          -45.99467603849219,
          -42.996218685688014,
          -46.08299726047535,
          -44.21645585020579,
          -42.71398456692283,
          -45.77060793596264,
          -50.04927085711284,
          -46.36614674828512,
          -48.00117365738572,
          -45.595227795331205,
          -49.840355245635635,
          -52.896107066546016,
          -54.724855906392555,
          -55.87682551481387,
          -53.908435691141456,
          -50.07827993091523,
          -56.74357262537137,
          -49.84938320638077,
          -50.69988724549728,
          -49.069569755434614,
          -56.36872512211284,
          -51.898137528054946,
          -46.68394327131635,
          -46.46409806153344,
          -50.58841322680596,
          -45.82916716825669,
          -49.614919526823506,
          -44.12665498017834,
          -41.18100090815344,
          -45.12290025393606,
          -45.53764895298149,
          -46.53470893106639,
          -40.77414661220633,
          -48.13321913245232,
          -45.09254593064445,
          -44.78511624056145,
          -46.62688796353069,
          -46.116209603977424,
          -42.8234684240222,
          -43.68368459255041,
          -42.59270439334249,
          -46.57591092526092,
          -47.69102389900573,
          -41.25796414088103,
          -43.74985710282671,
          -42.91953940241242,
          -44.084081828874375,
          -43.328837530238374,
          -45.417113233438265,
          -45.43539776016077,
          -48.90654018221987,
          -46.56286436533161,
          -43.88525962954128,
          -41.7502885881069,
          -46.589670202642885,
          -47.45954123454832,
          -47.49756344594551,
          -46.81823679503878,
          -40.766015298022864,
          -42.45305391890077,
          -46.89815436519274,
          -48.64525889212863,
          -40.684414864556516,
          -46.380433600288654,
          -41.519875482057,
          -46.56630216944426,
          -44.613145451536454,
          -46.2350684023775,
          -47.347313210387966,
          -49.068753091485796,
          -45.9054053573519,
          -44.01962475070518,
          -44.71326353133307,
          -45.46422707152675,
          -46.422132041365984,
          -46.78587225134305,
          -48.56914154634122,
          -48.88641854284095,
          -44.779505004136475,
          -43.254703580302035,
          -43.855875472144575,
          -46.56199167181343,
          -44.48737208390112,
          -45.50972030470064,
          -44.51909436957586,
          -45.21909958807744,
          -45.97198191314731,
          -43.60063456515817,
          -41.833607917339855,
          -42.00535610201506,
          -42.564793827140136,
          -41.62221556284895,
          -43.50697138365456,
          -43.46645196829366,
          -42.13438740398217,
          -42.22021915236998,
          -39.47919332619936,
          -35.94908783716102,
          -36.363164241348535,
          -36.93858165546195,
          -35.4491738494076,
          -35.918505308966566,
          -32.073896501032365,
          -33.0360604245491,
          -34.23469807423828,
          -34.158933762464905,
          -27.701035313706733,
          -20.02867806436781,
          0.21289712544128037,
          -0.6925733587947902,
          8.084116502556327,
          -1.3526983635918866,
          23.21402806912607,
          14.203726990598764,
          18.232663128476457,
          21.88310758020101,
          10.372226461131707,
          11.26743527323909,
          3.3593717104700715,
          -0.2542209814821339,
          -8.332922645478448,
          -0.7894653698933829,
          -7.034769930619278,
          -7.385243020841914,
          -11.173057872498514,
          -7.876733746420628,
          -12.617352225520317,
          -9.62004429202109,
          -8.61598699034265,
          -10.315383558167923,
          -6.751140029716818,
          -11.022550013241883,
          -9.487779392172246,
          -13.272376603456093,
          -15.72618834238062,
          -4.498010121645302,
          -5.735614987501647,
          -8.193534308342853,
          -8.299901662345366,
          -11.033401678648037,
          -6.741166439046986,
          -9.124431212638529,
          -2.940234933413355,
          -4.391661584000861,
          -9.896481240749399,
          -9.708259807801788,
          -10.300612698006063,
          -7.856782474668,
          -10.419297156009721,
          -13.930893072704698,
          -9.152271465535723,
          -15.570719494499318,
          -13.477633409150991,
          -13.232173176403993,
          -15.477143280452932,
          -13.260768976975667,
          -17.651736744191858,
          -15.04938399651058,
          -16.950194973089637,
          -17.408704556304578,
          -20.261786138532976,
          -16.041289217013343,
          -20.529202958455784,
          -20.392743525698076,
          -19.51820252696075,
          -22.211738410448124,
          -24.156082831463156,
          -26.950856899803455,
          -25.890636168264425,
          -22.646823580750553,
          -15.257473495233354,
          -16.10967795121573,
          -19.90611106502007,
          -27.25646505627153,
          -22.86979564418563,
          -17.56101229232555,
          -18.26192697943929,
          -25.162713549689453,
          -25.579246814151666,
          -18.113520272897876,
          -19.174889363401913,
          -21.58552377331706,
          -24.806908250007254,
          -22.07240011920508,
          -20.73628270200286,
          -14.612232477948893,
          -23.71796088386574,
          -20.708124900214763,
          -18.370987207331147,
          -21.27307281038604,
          -20.097397211323763,
          -19.120164103402672,
          -17.743870295726595,
          -14.678183925878407,
          -11.484322490059872,
          -16.090199440035136,
          -16.73990284796526,
          -15.643731612603995,
          -14.53896463761054,
          -17.850287632714846,
          -15.82659527210355,
          -18.216569821673424,
          -15.113597109990229,
          -16.26681098078105,
          -16.93633050902633,
          -15.650200216164912,
          -18.570287567750913,
          -21.538423695663305,
          -21.510812756444643,
          -24.23596787602947,
          -25.23256044477233,
          -30.138094447076032,
          -22.809947983111762,
          -18.677541559429717,
          -22.61131484389142,
          -23.99233961820373,
          -25.602802373379095,
          -23.53958202952301,
          -27.04609129073886,
          -32.20032196692277,
          -27.349632534545144,
          -29.08201907302841,
          -28.528818544608782,
          -30.847402378004464,
          -31.122416160029466,
          -32.71288898205614,
          -32.0291977566789,
          -32.31499413266346,
          -34.42194635320417,
          -35.70966823126855,
          -31.77703624024829,
          -36.52293247306409,
          -29.23473318642702,
          -35.34432004981072,
          -29.964019808848008,
          -33.56873654205654,
          -35.247648924372484,
          -30.404502892394735,
          -33.609387053999995,
          -30.587533399504373,
          -37.83417562383045,
          -38.147418894871144,
          -40.20028116025646,
          -37.603445090122925,
          -37.39729472213844,
          -38.364206080569204,
          -37.28600613341953,
          -36.48899739991522,
          -37.672120923513944,
          -40.85157740823925,
          -40.84130987147828,
          -40.37640068929347,
          -39.008292163541505,
          -40.59347004314795,
          -37.81699894083598,
          -40.612219514098534,
          -37.34903158271889,
          -37.99955350233777,
          -40.66363421737882,
          -40.394017521151824,
          -37.539220384320025,
          -35.987879355567856,
          -37.75639380216016,
          -37.67784842360281,
          -39.347398112509325,
          -38.679551743274885,
          -36.87471314215022,
          -35.918736030139556,
          -38.815864022978715,
          -38.45974657450866,
          -38.74781523219946,
          -33.413480713457275,
          -32.529884666308305,
          -32.92321255142212,
          -34.345169172651666,
          -41.648338868191125,
          -38.95603678911906,
          -40.04894675237459,
          -35.15277972054249,
          -31.48134131523921,
          -40.49079340922882,
          -36.934282268160246,
          -38.15783197080462,
          -39.441838104665926,
          -35.64355167979668,
          -34.39214123469689,
          -31.466330193609604,
          -31.63076871525925,
          -33.93484704530122,
          -35.12011066135281,
          -38.333932127336304,
          -33.87958457103398,
          -39.321534336593736,
          -35.884467122916305,
          -38.568634172133784,
          -38.71248966713894,
          -40.23864170315048,
          -39.012385751497526,
          -40.168457426375696,
          -35.82159175427253,
          -37.42772167771622,
          -39.46570920893253,
          -40.34011755888625,
          -40.29709062436155,
          -42.16630695680088,
          -38.15446023856639,
          -36.57898523101333,
          -38.03125371001641,
          -38.21083367770448,
          -38.88789815789331,
          -40.02514260406302,
          -45.03412784355343,
          -40.008346617582255,
          -39.5016887581884,
          -41.10832677828551,
          -39.52056708248646,
          -38.05005810520099,
          -39.27241051625017,
          -34.626316388434475,
          -29.166087110389594,
          -29.85652759297888,
          -33.53109384273134,
          -32.13414102605523,
          -35.30506631031578,
          -34.5928626709813,
          -35.20086197841914,
          -34.989360736886745,
          -33.97044951600199,
          -37.58115799728563,
          -35.02182227526267,
          -29.840714904695886,
          -34.07717455384205,
          -27.252560106234334,
          -30.891781336299108,
          -29.94295449676363,
          -29.833125512450653,
          -32.20459338912547,
          -34.14272187032383,
          -29.505272748001744,
          -31.976641212591737,
          -33.20208268760898,
          -33.29850967389327,
          -31.8021710248243,
          -20.317989572138174,
          -19.424877603889314,
          -21.243231337101463,
          -19.22497094410751,
          -19.172445409724183,
          -23.003411385865412,
          -25.78404830218868,
          -5.575645214614955,
          -3.8385594072515516,
          -5.5190910836460105,
          -11.889431965932351,
          -10.025431778708427,
          -0.6164482524467996,
          -0.6793620404015766,
          0.4625423450893784,
          2.0420811896206814,
          3.819662008970237,
          -3.9266194718913905,
          0.5063358106401683,
          -0.6899518772714774,
          -1.734895405874859,
          0.10582288796694428,
          5.1419277056045765,
          9.970778664626812,
          9.82186731749115,
          4.487425157151037,
          6.460768185189769,
          3.951103029188685,
          7.111198285665754,
          6.082127150960925,
          10.709131934523874,
          12.48272351745241,
          9.8621098083846,
          13.45267488617039,
          7.541478482850961,
          6.805477449287789,
          4.890099290060679,
          4.8789365226957315,
          1.2824763486253055,
          0.7959188897849856,
          1.641797448749971,
          -4.270962232396336,
          -1.3413619040313574,
          0.1214354912126403,
          -1.9392463554867678,
          -4.051984440606615,
          -2.4785974601520877,
          -1.9834846365060166,
          -0.23270427929054094,
          1.614262889888174,
          2.447999865608219,
          4.648215363873787,
          3.1933903561707666,
          0.08431017188534895,
          2.2497676695864666,
          0.29582616034486975,
          1.6641289801563985,
          -2.1683055404638996,
          -3.6479858957504607,
          -1.7663735874085873,
          -0.23210052982416407,
          -2.3477392796065644,
          -3.2169693237215746,
          -1.2482407181988897,
          -3.211840300040514,
          0.5124369767825598,
          -1.9041456668588808,
          -2.3810054192110464,
          -2.9494809534523103,
          -2.937170209526707,
          -0.4137125488902882,
          0.3332729613132912,
          -4.00781896908633,
          0.3013040329637562,
          -0.6932734645449745,
          3.467360198319769,
          -1.788347281970415,
          -2.5628001222589347,
          -3.8183455653995058,
          -4.520721093328772,
          -7.85922943605275,
          -6.124059052420461,
          -2.943078608775629,
          -5.333884870853223,
          1.9703335239752207,
          -1.29180900568171,
          -5.500982026927437,
          -2.3529227025224086,
          -3.3009637256435687,
          -3.569097903353069,
          -5.709886360951089,
          -6.677989776246562,
          -6.272412236220459,
          -7.714748141059191,
          -8.128773408555734,
          -10.005010663912927,
          -15.605334713872399,
          -18.18866277199538,
          -14.684697946664382,
          -16.93541112004995,
          -17.883362140957537,
          -19.5497891616653,
          -18.55276915211499,
          -20.890114239194958,
          -20.63233463996297,
          -22.073171951460722,
          -19.710303812559427,
          -21.187181210823102,
          -22.921150980796433,
          -22.980069669780345,
          -24.265930111442692,
          -22.40648882583791,
          -22.60403981246968,
          -24.79578487319676,
          -25.173668351182975,
          -27.31126358520264,
          -22.883014539586988,
          -22.759204608506266,
          -24.130156161671334,
          -21.213162920482453,
          -20.113847139065054,
          -19.108694020862018,
          -18.801234057485992,
          -16.622172928844293,
          -21.018187324797033,
          -20.89520374227558,
          -23.00198534293505,
          -21.277629902885977,
          -21.201326323278025,
          -19.060329308169678,
          -18.821769133657497,
          -17.874190227523545,
          -14.262777205742339,
          -13.312100408658246,
          -14.99947061893745,
          -16.078506991147034,
          -15.20996825765124,
          -18.152721801441317,
          -17.105059516449785,
          -16.139687287794757,
          -11.553190457299788,
          -15.232421050821255,
          -13.654016097082389,
          -11.51502964365032,
          -10.137727060705837,
          -11.42010505871145,
          -9.389332312464704,
          -6.889171926375837,
          -5.041762473928646,
          -6.087458321930672,
          -5.075316311748312,
          -7.086426094631015,
          -4.009159805986107,
          -6.039498304684399,
          -0.5183426258678292,
          -3.3640030736971527,
          -0.6109424054007606,
          -3.530845594466192,
          -3.6363371444675163,
          -4.894734297621306,
          -6.331600220232603,
          -6.012820964971755,
          -5.082727032060141,
          -5.496974422321754,
          -9.723268783965079,
          -13.638944422542721,
          -15.715993362187719,
          -14.426151908929263,
          -13.612618172966995,
          -11.147538108699706,
          -12.449096353584444,
          -12.73935996152864,
          -14.204058832766165,
          -14.419519136157044,
          -14.667280079030576,
          -17.856654796800164,
          -17.269378689330807,
          -17.549495399733004,
          -19.345645699847868,
          -13.061864416987689,
          -14.23558632125539,
          -13.700809031605665,
          -15.000042481067988,
          -11.799039714648686,
          -13.009743633306915,
          -15.14771303243756,
          -16.322413917197842,
          -15.883353552981472,
          -15.180370704289148,
          -14.345794206470575,
          -15.328001218225706,
          -17.71977039664865,
          -17.796377428249887,
          -17.4374208993229,
          -17.93983499838665,
          -17.05479950314559,
          -15.731312756024973,
          -20.485413617115157,
          -21.656697013046355,
          -24.348776470578137,
          -29.104307841689845,
          -27.68700081382147,
          -27.14201989945073,
          -30.511395215513957,
          -32.2759819224582,
          -33.219040586689786,
          -31.36954734559363,
          -32.25729986060517,
          -34.64676744388733,
          -37.9115679251679,
          -34.90652209574099,
          -35.44368706346235,
          -32.886944301869626,
          -33.31426231583359,
          -36.61066453149036,
          -38.11468226038413,
          -37.4806460230046,
          -33.30025043641176,
          -32.882453060222794,
          -27.200268799361105,
          -25.692096277091792,
          -24.06267834947362,
          -24.84946590576307,
          -24.207733777893647,
          -23.152616835525585,
          -24.490779653472217,
          -28.83023322546454,
          -29.050506816765797,
          -27.83031597120833,
          -23.82452895586873,
          -24.740391222120284,
          -25.54105641533029,
          -24.836647430287574,
          -24.59294183941627,
          -24.107582441920684,
          -24.083747054752802,
          -30.88941639918954,
          -28.623359808966153,
          -31.8360743372615,
          -29.271612133895196,
          -31.675387563760783,
          -29.876707408226988,
          -29.648888063377953,
          -28.05443082790633,
          -28.507418137701677,
          -32.8628210536434,
          -36.06375154939081,
          -35.28313028013568,
          -38.04922752455941,
          -38.23703244788452,
          -35.46715278554733,
          -40.09803057468198,
          -38.03446710253111,
          -39.9257532170906,
          -39.59664889912526,
          -40.768283894851855,
          -41.07826177898326,
          -36.53416256276858,
          -34.51307597480402,
          -39.568245598731046,
          -44.901803753322845,
          -45.059361814541376,
          -42.102813599007675,
          -38.20886151042433,
          -42.467275313406795,
          -40.95702053958363,
          -43.87269135326102,
          -45.21529729040146,
          -45.29394408572567,
          -45.947870484871345,
          -50.207529003704735,
          -53.870407905817515,
          -55.163863842090066,
          -53.78132658100427,
          -50.19355520634892,
          -48.5143344617406,
          -41.40114724211141,
          -44.526046633815454,
          -58.10174454047754,
          -58.940739349763184,
          -56.53887182642028,
          -54.81026885310367,
          -53.64652624792594,
          -46.40230756663457,
          -40.685074473200046,
          -35.56491901866043,
          -38.44172857586487,
          -33.79078122324124,
          -35.27368927280001,
          -33.71127280239907,
          -33.6561936222024,
          -26.090128987208637,
          -29.57403220775636,
          -33.66779741335253,
          -31.371142319488364,
          -34.234881789345685,
          -39.48594725998844,
          -36.41081407094959,
          -35.11123065917059,
          -32.267953373359774,
          -30.991016861172717,
          -28.440499354328395,
          -28.14891109818798,
          -29.031566750578584,
          -25.863857902638276,
          -20.89517010550872,
          -15.187492928523394,
          -22.81245319802796,
          -25.5643660361085,
          -22.03331918050506,
          -26.09721635373856,
          -29.78502863354504,
          -32.11620416999725,
          -31.392391311937118,
          -31.439474499584286,
          -35.121948659685074,
          -34.037050997977715,
          -35.7482732298736,
          -36.53841724597618,
          -40.17379727247761,
          -40.059802241660016,
          -36.62764689932385,
          -35.46379071252544,
          -36.564413461163305,
          -34.800130594554176,
          -35.78956303502561,
          -35.73578447606218,
          -36.58463820542393,
          -35.364312927426454,
          -32.583212134531124,
          -26.477123411410595,
          -16.51308968744236,
          -22.125152362838563,
          -23.990511275321282,
          -30.32506918179103,
          -23.42523647242647,
          -23.086110220069813,
          -25.193604091755173,
          -28.391083746468926,
          -25.556016242983183,
          -28.21892243728672,
          -25.830030385786927,
          -23.232049794119504,
          -17.279648926313662,
          -23.81905386306782,
          -21.855142951770688,
          -19.16086193395463,
          -18.65161013784391,
          -21.539189756821877,
          -24.998997387506392,
          -32.60483179908942,
          -25.197600035258727,
          -27.770328393771848,
          -32.9661699348097,
          -35.376636960429366,
          -26.51852853811212,
          -31.521147901529734,
          -35.29047962322003,
          -35.32182235285277,
          -40.776462895181666,
          -47.71900194421419,
          -53.54862351261613,
          -56.36256776543309,
          -58.12299887844223,
          -49.22247378035514,
          -50.65920979147842,
          -52.14074346403841,
          -53.91974175036793,
          -53.13336661226686,
          -56.81133135335838,
          -57.84866008998266,
          -56.75097420324513,
          -61.67190941340128,
          -65.94795402580749,
          -68.88006124945734,
          -67.65576974255092,
          -60.972752719520564,
          -58.54699626888862,
          -58.10581136328472,
          -55.99939244576157,
          -54.124819262513356,
          -59.106802516039636,
          -49.76766465458109,
          -46.72522095260816,
          -43.47002773898687,
          -38.671844997882275,
          -34.81424922009984,
          -35.14745912984796,
          -31.14678338270305,
          -28.897148581520014,
          -34.09945208140756,
          -32.55501122297324,
          -35.429467570581785,
          -36.62998588382722,
          -36.937633897435475,
          -35.007046005480014,
          -37.32469859127061,
          -36.77870263515395,
          -32.87772882078905,
          -40.075748479148565,
          -21.835075292983408,
          -27.84178798119825,
          -7.781147081154627,
          -5.635581036297532,
          -13.50547743783772,
          -4.1334370180550195,
          -6.41093671148858,
          -24.795575428130377,
          -25.891747980360115,
          -17.629358291567108,
          -15.36558587660668,
          -17.1893035989803,
          -14.866921339755912,
          -16.252458067650366,
          -18.215298567913905,
          -19.417312587454294,
          -24.279785063425628,
          -25.69142944142948,
          -25.099313181539085,
          -27.082611547797786,
          -32.875779748240234,
          -26.8598118807136,
          -34.260190789079516,
          -32.310196760531795,
          -32.25869034316724,
          -31.287956506943225,
          -30.367955865965257,
          -28.304247328160812,
          -28.212644396242847,
          -31.696343697500538,
          -35.07558133943638,
          -38.93373930448738,
          -45.56738422510631,
          -48.26133686265219,
          -50.72475206870117,
          -49.28521595915125,
          -46.129678533041975,
          -47.611412809041376,
          -42.61441934466457,
          -44.22016549680974,
          -40.52077816309594,
          -37.98053597612254,
          -36.15466376881567,
          -39.51162587163317,
          -31.67370903733966,
          -36.376830249888314,
          -39.08696527886586,
          -37.13570980579903,
          -35.3051373087057,
          -33.556910815972515,
          -34.70034566424025,
          -35.90325963983236,
          -26.738240877081722,
          -29.035864058548945,
          -29.28831139006025,
          -32.84431081519941,
          -30.612311915875033,
          -34.67422311341517,
          -30.177397926844883,
          -30.213835872750792,
          -23.872343070745707,
          -23.6085101303102,
          -27.18080432265544,
          -32.52456236714956,
          -30.527569037499582,
          -27.2954223679422,
          -27.603596432386368,
          -26.56202474325564,
          -29.134142112654526,
          -32.93838819463839,
          -36.053464125810606,
          -36.62589718491787,
          -36.43223428286646,
          -35.16441888148294,
          -38.28878927838826,
          -41.79442580160031,
          -40.32321479613592,
          -36.7606106851309,
          -45.391231291018656,
          -43.935544634233196,
          -42.32365318205722,
          -44.85518320660442,
          -44.15979722657344,
          -45.33162690795267,
          -46.16281684273083,
          -42.26256421789047,
          -43.66891403969571,
          -39.28448966592262,
          -40.58982824985398,
          -45.33035097106946,
          -40.57074813452499,
          -40.872909866885806,
          -39.72730936226676,
          -42.482268211717454,
          -47.03146340092745,
          -48.36276212442314,
          -48.35771272118103,
          -48.216110296753854,
          -47.688045913007215,
          -48.244350317645825,
          -43.54627791808583,
          -38.81934029503347,
          -36.16249784708438,
          -37.48129199322481,
          -43.11120351577924,
          -45.96643268765344,
          -44.643440038924,
          -40.53646668752662,
          -36.432169845503594,
          -35.438243551983106,
          -38.516159346247704,
          -42.14411534408122,
          -40.24966096192726,
          -33.6035141439972,
          -38.82925596879354,
          -32.95518842524574,
          -42.55034719258517,
          -50.225834007211525,
          -42.366961073188406,
          -36.62050066295976,
          -41.516436739289155,
          -30.509577118221245,
          -37.012098131325864,
          -41.815670535893766,
          -42.10125337675419,
          -37.83027465502311,
          -39.26784770094849,
          -39.00070302750866,
          -41.3863279187344,
          -38.70176834472146,
          -45.09841224353836,
          -43.81486902940743,
          -43.63409135179674,
          -47.82169171282753,
          -47.034428427730425,
          -46.2219299700851,
          -46.4816309330379,
          -46.56785260666525,
          -49.84970161651101,
          -51.979569769955035,
          -50.03983527252114,
          -51.328831073288896,
          -48.267648902442104,
          -45.717290187714845,
          -45.04162823662385,
          -44.533543012191544,
          -43.724734120696326,
          -43.81035372382311,
          -43.989654615234386,
          -42.3622034414433,
          -42.04297539793353,
          -42.29079648144718,
          -45.068765282214684,
          -44.655435755595676,
          -46.127774144412115,
          -45.956500671967284,
          -47.70630293305107,
          -50.668760932735914,
          -46.37916475597894,
          -48.880881435850476,
          -46.020954221190195,
          -45.611568063531394,
          -44.36296262986432,
          -45.23320998306861,
          -45.961327683146806,
          -44.69315229620516,
          -43.1843903463561,
          -38.91468080081842,
          -41.21918882665958,
          -41.720936085431546,
          -41.91407944252119,
          -41.463301452966796,
          -42.509778978208736,
          -44.478754137701856,
          -43.53770757474016,
          -40.14343138957348,
          -45.379026625030995,
          -45.390769907095674,
          -46.37165476833833,
          -45.21243709738209,
          -47.47078373790554,
          -51.549346236916364,
          -51.19445639275053,
          -50.99066489482769,
          -51.15535465772636,
          -51.91999099976394,
          -50.6498312211384,
          -51.518798291208334,
          -53.90276975810329,
          -53.97559201762081,
          -52.368154640405564,
          -49.55784439243178,
          -50.29543775694951,
          -46.127295959307936,
          -38.27737072580892,
          -35.73669937571364,
          -40.04940080811621,
          -43.08102144499051,
          -45.76890438104875,
          -46.515984370986985,
          -48.86816509280627,
          -51.7481551142756,
          -52.085378446245215,
          -50.44938105885181,
          -47.3547944938479,
          -49.532684608194224,
          -51.703621834560295,
          -51.64464881756614,
          -52.618394548116456,
          -49.322817022316116,
          -49.52494085596699,
          -46.693346503542045,
          -50.6467688900635,
          -46.774983446224994,
          -46.336331831223944,
          -52.91469817706815,
          -52.947899713931655,
          -53.51907279731396,
          -54.40693763913491,
          -49.090932874971884,
          -48.61770033866533,
          -50.0635275548698,
          -47.05762930596236,
          -46.34854419089196,
          -43.7334902836283,
          -47.080567067227584,
          -45.84364865119337,
          -44.8881632197486,
          -45.25682476532707,
          -44.22248659219923,
          -45.58703339361445,
          -46.52653341926403,
          -46.57338383465706,
          -46.53338373975582,
          -45.00458369023499,
          -46.574019892140896,
          -45.82641013674858,
          -47.22434430681677,
          -45.88077213782324,
          -45.53698904870589,
          -44.96905871277082,
          -47.27374344218176,
          -47.82976516256841,
          -49.51504750321938,
          -47.77838328980701,
          -50.931103617648475,
          -50.0582394249399,
          -45.70063509022515,
          -45.58485153528675,
          -47.66452014558844,
          -45.837666986154126,
          -48.06602895171714,
          -44.10568745950254,
          -42.55721489026287,
          -41.13699723891284,
          -36.63621885202488,
          -37.428981771680725,
          -36.90476092373469,
          -41.79559253896032,
          -40.95360040034963,
          -43.03326049395464,
          -39.53444653678901,
          -41.58863691361834,
          -42.95651421588862,
          -43.07741228786108,
          -38.124515926710686,
          -36.047607605352994,
          -37.84320244396744,
          -38.20953800588222,
          -34.456922426679256,
          -37.483617591969676,
          -38.26750565303758,
          -36.93372647696034,
          -41.17915908358833,
          -37.173578470062374,
          -40.01527497466731,
          -46.243050694928996,
          -47.46757502493138,
          -46.817745163893235,
          -45.649663764647826,
          -48.23364119733369,
          -48.44079790217721,
          -49.288758231958816,
          -45.18138567612535,
          -51.35988116307723,
          -51.96824479895885,
          -52.54333428095017,
          -52.43435395972562,
          -50.63270110847058,
          -52.38889829742908,
          -48.21477553380858,
          -48.83632742340582,
          -50.159772125654015,
          -52.49278925611534,
          -51.48699058304032,
          -48.30941580277517,
          -51.89181018920199,
          -49.728947829096626,
          -47.388376697879764,
          -45.89881746872941,
          -44.50646280606634,
          -43.881791526359315,
          -44.921398357070295,
          -46.79230997384334,
          -46.68913919855577,
          -40.99618930191773,
          -42.655200381506475,
          -42.94016301564212,
          -42.240512314415746,
          -41.99229839140579,
          -40.867909832325466,
          -42.688654772341025,
          -39.39934533905443,
          -42.349439075328334,
          -39.69029379079241,
          -38.616627915407655,
          -39.812882531443485,
          -42.43124042632282,
          -43.32848151977586,
          -45.02150497291133,
          -43.9078046527587,
          -46.95561852888108,
          -46.969426292559916,
          -46.54837263490541,
          -45.350900254822335,
          -43.574614854267594,
          -44.539438101239256,
          -45.77416590070831,
          -43.83571209246173,
          -46.71845780891957,
          -44.76016713383295,
          -42.63622938798122,
          -41.18901988520598,
          -43.97283739540625,
          -45.00804303757122,
          -47.0829661969157,
          -47.27833879523335,
          -47.01918949088353,
          -44.258089975485014,
          -44.63669122604506,
          -46.591251816342535,
          -46.40313197790431,
          -45.184707078604625,
          -45.123773132853096,
          -44.31575640341858,
          -43.31200669408126,
          -44.69937600563987,
          -43.51440829608539,
          -41.965846974338696,
          -44.02529221888138,
          -44.06947987644565,
          -42.77979821514792,
          -45.043357153006134,
          -47.62858282825513,
          -47.28647077311399,
          -45.195427290855726,
          -43.6426316504932,
          -42.48787312246542,
          -43.06131390453314,
          -43.01206268007074,
          -44.89986234548664,
          -43.70211805614819,
          -44.51503038456646,
          -45.67321100361155,
          -46.43090610463534,
          -46.56266396670481,
          -44.625605928494316,
          -46.2514994970924,
          -45.55807433087966,
          -47.17057418848141,
          -46.71074617861963,
          -47.24581732975648,
          -47.3778770387145,
          -47.8246793287842,
          -48.408459701341535,
          -46.1633736808166,
          -47.64819650102537,
          -47.7846968425097,
          -44.440609094801296,
          -44.66393970154887,
          -47.10030325181651,
          -47.63274424012218,
          -48.85053717340906,
          -48.90886637871446,
          -48.0974709708927,
          -48.05588834315388,
          -51.87343368471677,
          -50.40439034130184,
          -48.11355441317904,
          -49.60395762593875,
          -49.25968546103903,
          -48.07479908791636,
          -48.05386152583688,
          -48.47134311690722,
          -48.929142282981175,
          -47.51168769509144,
          -50.087284082474156,
          -52.983703734579365,
          -50.177847571874956,
          -51.39653831502295,
          -51.117486787139384,
          -51.95193195672623,
          -51.447999777820066,
          -51.936959983972166,
          -51.829140471201775,
          -52.427588012217896,
          -52.158748538298205,
          -51.769857114083436,
          -51.54763329211307,
          -50.748664520539144,
          -51.71552659252461,
          -52.711712038036,
          -51.95066329963316,
          -53.39935691024542,
          -52.59541414998896,
          -53.13754976535292,
          -54.57190572885793,
          -54.39407492239381,
          -51.040688040889215,
          -51.97600922019898,
          -51.43417532031247,
          -54.22490378118305,
          -52.881992343321826,
          -53.82307186984718,
          -51.37664824863437,
          -50.85825930325618,
          -49.958952150075305,
          -50.835837209715116,
          -51.12024022051713,
          -50.65400673559992,
          -49.229582328737955,
          -49.86747880227256,
          -48.514763427136074,
          -50.26966809412809,
          -48.90645694359619,
          -48.57456365377728,
          -50.096813374053895,
          -49.51361145398199,
          -49.60769668364491,
          -49.038037176491976,
          -48.41034110317466,
          -49.62939376449991,
          -49.398818979861936,
          -49.32470546191552,
          -49.455264873094464,
          -49.712416495168554,
          -50.64143447132854,
          -50.415543671005466,
          -52.063442781370384,
          -51.28406664860097,
          -51.18251695910456,
          -50.503576668739214,
          -50.97943091588779,
          -51.15157096838341,
          -51.25013648311629,
          -51.30846325375047,
          -50.22792002026599,
          -51.18210821769007,
          -51.940603529581566,
          -51.45799458736518,
          -52.44568405773515,
          -53.448729343112376,
          -52.46007167248901,
          -44.46995519025112,
          -42.59889608687879,
          -40.795122883760015,
          -42.28861464302254,
          -42.41597484636701,
          -45.6732929435415,
          -43.19198581839161,
          -45.165469710604086,
          -44.60929754727951,
          -45.85276741375588,
          -46.33153473215508,
          -45.886764404513514,
          -43.761514194983995,
          -43.086657684752616,
          -45.04538630187884,
          -43.62794317153931,
          -43.04170555406763,
          -43.244057688206716,
          -42.86218089331406,
          -43.20286932982147,
          -42.800016828832725,
          -42.91439703407494,
          -41.19321666227194,
          -39.360393966413554,
          -38.129257356154824,
          -38.3390485880398,
          -39.16032503432696,
          -41.16575028894785,
          -43.3517166654664,
          -41.869656663440495,
          -42.34088382306393,
          -44.81510806810181,
          -46.39318343454195,
          -44.09649947297254,
          -45.33601257879263,
          -44.027134430026926,
          -44.49693727556476,
          -45.4104621295087,
          -46.49467845639514,
          -46.80939078470527,
          -46.474417163874904,
          -47.38484185147978,
          -49.036602868676795,
          -46.645875224343044,
          -50.273100690557726,
          -52.11634651083781,
          -50.877942137900334,
          -51.32240514236726,
          -49.9105339564403,
          -50.47271299876406,
          -50.3194139041133,
          -48.642204817185196,
          -50.44523945313904,
          -50.67804420883153,
          -50.25365189631974,
          -47.24725942521313,
          -48.034818684613036,
          -47.01059503356415,
          -48.987469233018686,
          -48.03383095618949,
          -46.145419069432016,
          -50.392755407913015,
          -45.05645573277444,
          -45.23315607692946,
          -45.93657172801899,
          -43.754857744356144,
          -44.72061466182935,
          -50.56117160747715,
          -48.57210604790856,
          -45.69506815657274,
          -47.723391765777244,
          -46.148850523797734,
          -47.88259311303338,
          -48.494940944138996,
          -47.23520215336015,
          -47.247340129351166,
          -49.42342098812005,
          -51.89387125978611,
          -53.020198035802935,
          -51.254708948483966,
          -48.281301067417324,
          -47.353266004673465,
          -46.53497842823491,
          -49.66316098110464,
          -45.597658407432284,
          -48.258143712580235,
          -50.518977457329896,
          -49.47257267069931,
          -51.27932589907709,
          -51.00039741000324,
          -49.87218509695492,
          -48.425816393513045,
          -51.15302949323248,
          -47.00296031435727,
          -42.68939316592446,
          -36.628831007946786,
          -41.422288161961475,
          -42.40019885740338,
          -41.39611707125263,
          -41.104176755275645,
          -37.77601573687814
         ]
        }
       ],
       "layout": {
        "font": {
         "size": 11
        },
        "height": 750,
        "legend": {
         "orientation": "h",
         "title": {
          "text": "Tenors"
         },
         "x": 1,
         "xanchor": "right",
         "y": 1.02,
         "yanchor": "bottom"
        },
        "template": {
         "data": {
          "bar": [
           {
            "error_x": {
             "color": "#f2f5fa"
            },
            "error_y": {
             "color": "#f2f5fa"
            },
            "marker": {
             "line": {
              "color": "rgb(17,17,17)",
              "width": 0.5
             },
             "pattern": {
              "fillmode": "overlay",
              "size": 10,
              "solidity": 0.2
             }
            },
            "type": "bar"
           }
          ],
          "barpolar": [
           {
            "marker": {
             "line": {
              "color": "rgb(17,17,17)",
              "width": 0.5
             },
             "pattern": {
              "fillmode": "overlay",
              "size": 10,
              "solidity": 0.2
             }
            },
            "type": "barpolar"
           }
          ],
          "carpet": [
           {
            "aaxis": {
             "endlinecolor": "#A2B1C6",
             "gridcolor": "#506784",
             "linecolor": "#506784",
             "minorgridcolor": "#506784",
             "startlinecolor": "#A2B1C6"
            },
            "baxis": {
             "endlinecolor": "#A2B1C6",
             "gridcolor": "#506784",
             "linecolor": "#506784",
             "minorgridcolor": "#506784",
             "startlinecolor": "#A2B1C6"
            },
            "type": "carpet"
           }
          ],
          "choropleth": [
           {
            "colorbar": {
             "outlinewidth": 0,
             "ticks": ""
            },
            "type": "choropleth"
           }
          ],
          "contour": [
           {
            "colorbar": {
             "outlinewidth": 0,
             "ticks": ""
            },
            "colorscale": [
             [
              0,
              "#0d0887"
             ],
             [
              0.1111111111111111,
              "#46039f"
             ],
             [
              0.2222222222222222,
              "#7201a8"
             ],
             [
              0.3333333333333333,
              "#9c179e"
             ],
             [
              0.4444444444444444,
              "#bd3786"
             ],
             [
              0.5555555555555556,
              "#d8576b"
             ],
             [
              0.6666666666666666,
              "#ed7953"
             ],
             [
              0.7777777777777778,
              "#fb9f3a"
             ],
             [
              0.8888888888888888,
              "#fdca26"
             ],
             [
              1,
              "#f0f921"
             ]
            ],
            "type": "contour"
           }
          ],
          "contourcarpet": [
           {
            "colorbar": {
             "outlinewidth": 0,
             "ticks": ""
            },
            "type": "contourcarpet"
           }
          ],
          "heatmap": [
           {
            "colorbar": {
             "outlinewidth": 0,
             "ticks": ""
            },
            "colorscale": [
             [
              0,
              "#0d0887"
             ],
             [
              0.1111111111111111,
              "#46039f"
             ],
             [
              0.2222222222222222,
              "#7201a8"
             ],
             [
              0.3333333333333333,
              "#9c179e"
             ],
             [
              0.4444444444444444,
              "#bd3786"
             ],
             [
              0.5555555555555556,
              "#d8576b"
             ],
             [
              0.6666666666666666,
              "#ed7953"
             ],
             [
              0.7777777777777778,
              "#fb9f3a"
             ],
             [
              0.8888888888888888,
              "#fdca26"
             ],
             [
              1,
              "#f0f921"
             ]
            ],
            "type": "heatmap"
           }
          ],
          "heatmapgl": [
           {
            "colorbar": {
             "outlinewidth": 0,
             "ticks": ""
            },
            "colorscale": [
             [
              0,
              "#0d0887"
             ],
             [
              0.1111111111111111,
              "#46039f"
             ],
             [
              0.2222222222222222,
              "#7201a8"
             ],
             [
              0.3333333333333333,
              "#9c179e"
             ],
             [
              0.4444444444444444,
              "#bd3786"
             ],
             [
              0.5555555555555556,
              "#d8576b"
             ],
             [
              0.6666666666666666,
              "#ed7953"
             ],
             [
              0.7777777777777778,
              "#fb9f3a"
             ],
             [
              0.8888888888888888,
              "#fdca26"
             ],
             [
              1,
              "#f0f921"
             ]
            ],
            "type": "heatmapgl"
           }
          ],
          "histogram": [
           {
            "marker": {
             "pattern": {
              "fillmode": "overlay",
              "size": 10,
              "solidity": 0.2
             }
            },
            "type": "histogram"
           }
          ],
          "histogram2d": [
           {
            "colorbar": {
             "outlinewidth": 0,
             "ticks": ""
            },
            "colorscale": [
             [
              0,
              "#0d0887"
             ],
             [
              0.1111111111111111,
              "#46039f"
             ],
             [
              0.2222222222222222,
              "#7201a8"
             ],
             [
              0.3333333333333333,
              "#9c179e"
             ],
             [
              0.4444444444444444,
              "#bd3786"
             ],
             [
              0.5555555555555556,
              "#d8576b"
             ],
             [
              0.6666666666666666,
              "#ed7953"
             ],
             [
              0.7777777777777778,
              "#fb9f3a"
             ],
             [
              0.8888888888888888,
              "#fdca26"
             ],
             [
              1,
              "#f0f921"
             ]
            ],
            "type": "histogram2d"
           }
          ],
          "histogram2dcontour": [
           {
            "colorbar": {
             "outlinewidth": 0,
             "ticks": ""
            },
            "colorscale": [
             [
              0,
              "#0d0887"
             ],
             [
              0.1111111111111111,
              "#46039f"
             ],
             [
              0.2222222222222222,
              "#7201a8"
             ],
             [
              0.3333333333333333,
              "#9c179e"
             ],
             [
              0.4444444444444444,
              "#bd3786"
             ],
             [
              0.5555555555555556,
              "#d8576b"
             ],
             [
              0.6666666666666666,
              "#ed7953"
             ],
             [
              0.7777777777777778,
              "#fb9f3a"
             ],
             [
              0.8888888888888888,
              "#fdca26"
             ],
             [
              1,
              "#f0f921"
             ]
            ],
            "type": "histogram2dcontour"
           }
          ],
          "mesh3d": [
           {
            "colorbar": {
             "outlinewidth": 0,
             "ticks": ""
            },
            "type": "mesh3d"
           }
          ],
          "parcoords": [
           {
            "line": {
             "colorbar": {
              "outlinewidth": 0,
              "ticks": ""
             }
            },
            "type": "parcoords"
           }
          ],
          "pie": [
           {
            "automargin": true,
            "type": "pie"
           }
          ],
          "scatter": [
           {
            "marker": {
             "line": {
              "color": "#283442"
             }
            },
            "type": "scatter"
           }
          ],
          "scatter3d": [
           {
            "line": {
             "colorbar": {
              "outlinewidth": 0,
              "ticks": ""
             }
            },
            "marker": {
             "colorbar": {
              "outlinewidth": 0,
              "ticks": ""
             }
            },
            "type": "scatter3d"
           }
          ],
          "scattercarpet": [
           {
            "marker": {
             "colorbar": {
              "outlinewidth": 0,
              "ticks": ""
             }
            },
            "type": "scattercarpet"
           }
          ],
          "scattergeo": [
           {
            "marker": {
             "colorbar": {
              "outlinewidth": 0,
              "ticks": ""
             }
            },
            "type": "scattergeo"
           }
          ],
          "scattergl": [
           {
            "marker": {
             "line": {
              "color": "#283442"
             }
            },
            "type": "scattergl"
           }
          ],
          "scattermapbox": [
           {
            "marker": {
             "colorbar": {
              "outlinewidth": 0,
              "ticks": ""
             }
            },
            "type": "scattermapbox"
           }
          ],
          "scatterpolar": [
           {
            "marker": {
             "colorbar": {
              "outlinewidth": 0,
              "ticks": ""
             }
            },
            "type": "scatterpolar"
           }
          ],
          "scatterpolargl": [
           {
            "marker": {
             "colorbar": {
              "outlinewidth": 0,
              "ticks": ""
             }
            },
            "type": "scatterpolargl"
           }
          ],
          "scatterternary": [
           {
            "marker": {
             "colorbar": {
              "outlinewidth": 0,
              "ticks": ""
             }
            },
            "type": "scatterternary"
           }
          ],
          "surface": [
           {
            "colorbar": {
             "outlinewidth": 0,
             "ticks": ""
            },
            "colorscale": [
             [
              0,
              "#0d0887"
             ],
             [
              0.1111111111111111,
              "#46039f"
             ],
             [
              0.2222222222222222,
              "#7201a8"
             ],
             [
              0.3333333333333333,
              "#9c179e"
             ],
             [
              0.4444444444444444,
              "#bd3786"
             ],
             [
              0.5555555555555556,
              "#d8576b"
             ],
             [
              0.6666666666666666,
              "#ed7953"
             ],
             [
              0.7777777777777778,
              "#fb9f3a"
             ],
             [
              0.8888888888888888,
              "#fdca26"
             ],
             [
              1,
              "#f0f921"
             ]
            ],
            "type": "surface"
           }
          ],
          "table": [
           {
            "cells": {
             "fill": {
              "color": "#506784"
             },
             "line": {
              "color": "rgb(17,17,17)"
             }
            },
            "header": {
             "fill": {
              "color": "#2a3f5f"
             },
             "line": {
              "color": "rgb(17,17,17)"
             }
            },
            "type": "table"
           }
          ]
         },
         "layout": {
          "annotationdefaults": {
           "arrowcolor": "#f2f5fa",
           "arrowhead": 0,
           "arrowwidth": 1
          },
          "autotypenumbers": "strict",
          "coloraxis": {
           "colorbar": {
            "outlinewidth": 0,
            "ticks": ""
           }
          },
          "colorscale": {
           "diverging": [
            [
             0,
             "#8e0152"
            ],
            [
             0.1,
             "#c51b7d"
            ],
            [
             0.2,
             "#de77ae"
            ],
            [
             0.3,
             "#f1b6da"
            ],
            [
             0.4,
             "#fde0ef"
            ],
            [
             0.5,
             "#f7f7f7"
            ],
            [
             0.6,
             "#e6f5d0"
            ],
            [
             0.7,
             "#b8e186"
            ],
            [
             0.8,
             "#7fbc41"
            ],
            [
             0.9,
             "#4d9221"
            ],
            [
             1,
             "#276419"
            ]
           ],
           "sequential": [
            [
             0,
             "#0d0887"
            ],
            [
             0.1111111111111111,
             "#46039f"
            ],
            [
             0.2222222222222222,
             "#7201a8"
            ],
            [
             0.3333333333333333,
             "#9c179e"
            ],
            [
             0.4444444444444444,
             "#bd3786"
            ],
            [
             0.5555555555555556,
             "#d8576b"
            ],
            [
             0.6666666666666666,
             "#ed7953"
            ],
            [
             0.7777777777777778,
             "#fb9f3a"
            ],
            [
             0.8888888888888888,
             "#fdca26"
            ],
            [
             1,
             "#f0f921"
            ]
           ],
           "sequentialminus": [
            [
             0,
             "#0d0887"
            ],
            [
             0.1111111111111111,
             "#46039f"
            ],
            [
             0.2222222222222222,
             "#7201a8"
            ],
            [
             0.3333333333333333,
             "#9c179e"
            ],
            [
             0.4444444444444444,
             "#bd3786"
            ],
            [
             0.5555555555555556,
             "#d8576b"
            ],
            [
             0.6666666666666666,
             "#ed7953"
            ],
            [
             0.7777777777777778,
             "#fb9f3a"
            ],
            [
             0.8888888888888888,
             "#fdca26"
            ],
            [
             1,
             "#f0f921"
            ]
           ]
          },
          "colorway": [
           "#636efa",
           "#EF553B",
           "#00cc96",
           "#ab63fa",
           "#FFA15A",
           "#19d3f3",
           "#FF6692",
           "#B6E880",
           "#FF97FF",
           "#FECB52"
          ],
          "font": {
           "color": "#f2f5fa"
          },
          "geo": {
           "bgcolor": "rgb(17,17,17)",
           "lakecolor": "rgb(17,17,17)",
           "landcolor": "rgb(17,17,17)",
           "showlakes": true,
           "showland": true,
           "subunitcolor": "#506784"
          },
          "hoverlabel": {
           "align": "left"
          },
          "hovermode": "closest",
          "mapbox": {
           "style": "dark"
          },
          "paper_bgcolor": "rgb(17,17,17)",
          "plot_bgcolor": "rgb(17,17,17)",
          "polar": {
           "angularaxis": {
            "gridcolor": "#506784",
            "linecolor": "#506784",
            "ticks": ""
           },
           "bgcolor": "rgb(17,17,17)",
           "radialaxis": {
            "gridcolor": "#506784",
            "linecolor": "#506784",
            "ticks": ""
           }
          },
          "scene": {
           "xaxis": {
            "backgroundcolor": "rgb(17,17,17)",
            "gridcolor": "#506784",
            "gridwidth": 2,
            "linecolor": "#506784",
            "showbackground": true,
            "ticks": "",
            "zerolinecolor": "#C8D4E3"
           },
           "yaxis": {
            "backgroundcolor": "rgb(17,17,17)",
            "gridcolor": "#506784",
            "gridwidth": 2,
            "linecolor": "#506784",
            "showbackground": true,
            "ticks": "",
            "zerolinecolor": "#C8D4E3"
           },
           "zaxis": {
            "backgroundcolor": "rgb(17,17,17)",
            "gridcolor": "#506784",
            "gridwidth": 2,
            "linecolor": "#506784",
            "showbackground": true,
            "ticks": "",
            "zerolinecolor": "#C8D4E3"
           }
          },
          "shapedefaults": {
           "line": {
            "color": "#f2f5fa"
           }
          },
          "sliderdefaults": {
           "bgcolor": "#C8D4E3",
           "bordercolor": "rgb(17,17,17)",
           "borderwidth": 1,
           "tickwidth": 0
          },
          "ternary": {
           "aaxis": {
            "gridcolor": "#506784",
            "linecolor": "#506784",
            "ticks": ""
           },
           "baxis": {
            "gridcolor": "#506784",
            "linecolor": "#506784",
            "ticks": ""
           },
           "bgcolor": "rgb(17,17,17)",
           "caxis": {
            "gridcolor": "#506784",
            "linecolor": "#506784",
            "ticks": ""
           }
          },
          "title": {
           "x": 0.05
          },
          "updatemenudefaults": {
           "bgcolor": "#506784",
           "borderwidth": 0
          },
          "xaxis": {
           "automargin": true,
           "gridcolor": "#283442",
           "linecolor": "#506784",
           "ticks": "",
           "title": {
            "standoff": 15
           },
           "zerolinecolor": "#283442",
           "zerolinewidth": 2
          },
          "yaxis": {
           "automargin": true,
           "gridcolor": "#283442",
           "linecolor": "#506784",
           "ticks": "",
           "title": {
            "standoff": 15
           },
           "zerolinecolor": "#283442",
           "zerolinewidth": 2
          }
         }
        },
        "title": {
         "text": "SOFR OIS Plot"
        },
        "xaxis": {
         "showgrid": true,
         "showspikes": true,
         "spikecolor": "white",
         "spikemode": "across",
         "spikesnap": "cursor",
         "title": {
          "text": "Date"
         }
        },
        "yaxis": {
         "showgrid": true,
         "showspikes": true,
         "spikecolor": "white",
         "spikesnap": "cursor",
         "spikethickness": 0.5,
         "title": {
          "text": "bps"
         }
        }
       }
      }
     },
     "metadata": {},
     "output_type": "display_data"
    }
   ],
   "source": [
    "sofr_ois.fwd_grid_dict_timeseries_plotter(\n",
    "    fwd_grid_dict=fwd_grid_dict, \n",
    "    tenors_to_plot=[\"2Y Fwd 12M-2Y Fwd 5Y-2Y Fwd 30Y\"], \n",
    "    bdates=bdates, \n",
    "    use_plotly=True,\n",
    "    custom_fly_weights=[1.0085119595731922, 2, 1.197851727324713]\n",
    ")"
   ]
  },
  {
   "cell_type": "markdown",
   "metadata": {},
   "source": [
    "# PCA for Asset Selection:\n",
    "- References:\n",
    "    - [Standard Chartered Swaps RV Tool](https://github.com/yieldcurvemonkey/Curvy-CUSIPs/blob/main/research/PCA/Introducing_a_relative-value_tool_for_swaps_19_08_13_08_57.pdf)\n",
    "    - [Credit Suisse PCA Unleashed](https://github.com/yieldcurvemonkey/Curvy-CUSIPs/blob/main/research/PCA/PCA%20Unleashed.%20Interest%20Rate%20Strategy.%20Spot%201y%201y1y%202y1y%203y1y%204y1y%205y1y%206y1y%207y1y%208y1y%209y1y%2010y2y%2012y3y%2015y5y%2020y5y%2025y5y%2030y10y%2040y10y.pdf)\n",
    "    - [ASM Quant Macro PCA Part II](https://asmquantmacro.com/2015/06/29/principal-component-analysis-part-ii/)\n",
    "    "
   ]
  },
  {
   "cell_type": "code",
   "execution_count": null,
   "metadata": {},
   "outputs": [
    {
     "name": "stderr",
     "output_type": "stream",
     "text": [
      "PCA ON INDY FWD STRIPS...: 100%|██████████| 17/17 [00:00<00:00, 26.94it/s]\n",
      "CLEANING UP PCA ON INDY FWD STRIPS RESULTS...: 100%|██████████| 17/17 [00:00<00:00, 90.84it/s]\n"
     ]
    }
   ],
   "source": [
    "pca_results = sofr_ois.pca_on_fwd_grids(\n",
    "    start_date=datetime(2024, 1, 1),\n",
    "    end_date=datetime(2024, 12, 27),\n",
    "    fwd_grid_dict=fwd_grid_dict, \n",
    "    rm_swap_tenors=[\"1D\", \"1W\", \"2W\", \"3W\", \"1M\", \"2M\", \"3M\", \"4M\", \"5M\", \"6M\", \"7M\", \"8M\", \"9M\", \"10M\", \"11M\"],\n",
    "    indy_fwd_strips=True,\n",
    "    # run_on_level_changes=True,\n",
    "    # rolling_window=20,\n",
    "    n_jobs=1,\n",
    "    # n_jobs_child=1,\n",
    "    # n_jobs_parent=-1,\n",
    "    # verbose=True\n",
    ")\n",
    "\n",
    "# df: pd.DataFrame = pca_results[\"rich_cheap_zscore_heatmap\"]\n",
    "# df.style.background_gradient(cmap=\"RdYlGn\", axis=0)"
   ]
  },
  {
   "cell_type": "code",
   "execution_count": 35,
   "metadata": {},
   "outputs": [
    {
     "data": {
      "text/html": [
       "<style type=\"text/css\">\n",
       "#T_3c625_row0_col0 {\n",
       "  background-color: #54b45f;\n",
       "  color: #f1f1f1;\n",
       "}\n",
       "#T_3c625_row0_col1 {\n",
       "  background-color: #8ecf67;\n",
       "  color: #000000;\n",
       "}\n",
       "#T_3c625_row0_col2, #T_3c625_row6_col6, #T_3c625_row6_col12, #T_3c625_row8_col5, #T_3c625_row11_col10 {\n",
       "  background-color: #60ba62;\n",
       "  color: #f1f1f1;\n",
       "}\n",
       "#T_3c625_row0_col3, #T_3c625_row6_col1 {\n",
       "  background-color: #39a758;\n",
       "  color: #f1f1f1;\n",
       "}\n",
       "#T_3c625_row0_col4, #T_3c625_row4_col7, #T_3c625_row7_col15, #T_3c625_row11_col4 {\n",
       "  background-color: #17934e;\n",
       "  color: #f1f1f1;\n",
       "}\n",
       "#T_3c625_row0_col5, #T_3c625_row4_col15, #T_3c625_row5_col6, #T_3c625_row5_col7, #T_3c625_row5_col15, #T_3c625_row6_col3, #T_3c625_row6_col4, #T_3c625_row6_col13, #T_3c625_row6_col14, #T_3c625_row7_col2, #T_3c625_row7_col12, #T_3c625_row8_col11, #T_3c625_row9_col10, #T_3c625_row9_col16, #T_3c625_row10_col9, #T_3c625_row10_col16, #T_3c625_row11_col0, #T_3c625_row12_col1, #T_3c625_row12_col2, #T_3c625_row17_col8 {\n",
       "  background-color: #006837;\n",
       "  color: #f1f1f1;\n",
       "}\n",
       "#T_3c625_row0_col6 {\n",
       "  background-color: #91d068;\n",
       "  color: #000000;\n",
       "}\n",
       "#T_3c625_row0_col7, #T_3c625_row1_col5, #T_3c625_row1_col6, #T_3c625_row1_col11, #T_3c625_row1_col14, #T_3c625_row1_col15, #T_3c625_row2_col3, #T_3c625_row2_col4, #T_3c625_row2_col15, #T_3c625_row3_col1, #T_3c625_row3_col2, #T_3c625_row3_col10, #T_3c625_row4_col0, #T_3c625_row5_col16, #T_3c625_row13_col12, #T_3c625_row14_col12, #T_3c625_row14_col13, #T_3c625_row15_col8, #T_3c625_row15_col9 {\n",
       "  background-color: #a50026;\n",
       "  color: #f1f1f1;\n",
       "}\n",
       "#T_3c625_row0_col8, #T_3c625_row14_col11, #T_3c625_row16_col6, #T_3c625_row17_col6 {\n",
       "  background-color: #eb5a3a;\n",
       "  color: #f1f1f1;\n",
       "}\n",
       "#T_3c625_row0_col9 {\n",
       "  background-color: #f99153;\n",
       "  color: #000000;\n",
       "}\n",
       "#T_3c625_row0_col10 {\n",
       "  background-color: #fa9656;\n",
       "  color: #000000;\n",
       "}\n",
       "#T_3c625_row0_col11, #T_3c625_row5_col0, #T_3c625_row13_col2 {\n",
       "  background-color: #c9e881;\n",
       "  color: #000000;\n",
       "}\n",
       "#T_3c625_row0_col12 {\n",
       "  background-color: #e0422f;\n",
       "  color: #f1f1f1;\n",
       "}\n",
       "#T_3c625_row0_col13, #T_3c625_row4_col3, #T_3c625_row11_col12 {\n",
       "  background-color: #fa9b58;\n",
       "  color: #000000;\n",
       "}\n",
       "#T_3c625_row0_col14 {\n",
       "  background-color: #fdb567;\n",
       "  color: #000000;\n",
       "}\n",
       "#T_3c625_row0_col15 {\n",
       "  background-color: #a90426;\n",
       "  color: #f1f1f1;\n",
       "}\n",
       "#T_3c625_row0_col16 {\n",
       "  background-color: #e75337;\n",
       "  color: #f1f1f1;\n",
       "}\n",
       "#T_3c625_row1_col0 {\n",
       "  background-color: #e9f6a1;\n",
       "  color: #000000;\n",
       "}\n",
       "#T_3c625_row1_col1 {\n",
       "  background-color: #b9e176;\n",
       "  color: #000000;\n",
       "}\n",
       "#T_3c625_row1_col2 {\n",
       "  background-color: #e6f59d;\n",
       "  color: #000000;\n",
       "}\n",
       "#T_3c625_row1_col3 {\n",
       "  background-color: #fdbf6f;\n",
       "  color: #000000;\n",
       "}\n",
       "#T_3c625_row1_col4 {\n",
       "  background-color: #f16640;\n",
       "  color: #f1f1f1;\n",
       "}\n",
       "#T_3c625_row1_col7, #T_3c625_row13_col8, #T_3c625_row13_col9, #T_3c625_row17_col5 {\n",
       "  background-color: #f67f4b;\n",
       "  color: #f1f1f1;\n",
       "}\n",
       "#T_3c625_row1_col8, #T_3c625_row15_col3 {\n",
       "  background-color: #ee613e;\n",
       "  color: #f1f1f1;\n",
       "}\n",
       "#T_3c625_row1_col9, #T_3c625_row13_col11 {\n",
       "  background-color: #f98e52;\n",
       "  color: #f1f1f1;\n",
       "}\n",
       "#T_3c625_row1_col10 {\n",
       "  background-color: #ddf191;\n",
       "  color: #000000;\n",
       "}\n",
       "#T_3c625_row1_col12, #T_3c625_row4_col11 {\n",
       "  background-color: #f4fab0;\n",
       "  color: #000000;\n",
       "}\n",
       "#T_3c625_row1_col13 {\n",
       "  background-color: #f99355;\n",
       "  color: #000000;\n",
       "}\n",
       "#T_3c625_row1_col16 {\n",
       "  background-color: #ca2427;\n",
       "  color: #f1f1f1;\n",
       "}\n",
       "#T_3c625_row2_col0 {\n",
       "  background-color: #fee18d;\n",
       "  color: #000000;\n",
       "}\n",
       "#T_3c625_row2_col1 {\n",
       "  background-color: #fecc7b;\n",
       "  color: #000000;\n",
       "}\n",
       "#T_3c625_row2_col2 {\n",
       "  background-color: #f88c51;\n",
       "  color: #f1f1f1;\n",
       "}\n",
       "#T_3c625_row2_col5 {\n",
       "  background-color: #b30d26;\n",
       "  color: #f1f1f1;\n",
       "}\n",
       "#T_3c625_row2_col6, #T_3c625_row13_col10 {\n",
       "  background-color: #fa9857;\n",
       "  color: #000000;\n",
       "}\n",
       "#T_3c625_row2_col7, #T_3c625_row9_col11 {\n",
       "  background-color: #016a38;\n",
       "  color: #f1f1f1;\n",
       "}\n",
       "#T_3c625_row2_col8, #T_3c625_row5_col8 {\n",
       "  background-color: #fff8b4;\n",
       "  color: #000000;\n",
       "}\n",
       "#T_3c625_row2_col9, #T_3c625_row3_col6 {\n",
       "  background-color: #fee491;\n",
       "  color: #000000;\n",
       "}\n",
       "#T_3c625_row2_col10, #T_3c625_row13_col0 {\n",
       "  background-color: #b3df72;\n",
       "  color: #000000;\n",
       "}\n",
       "#T_3c625_row2_col11, #T_3c625_row2_col16 {\n",
       "  background-color: #b91326;\n",
       "  color: #f1f1f1;\n",
       "}\n",
       "#T_3c625_row2_col12, #T_3c625_row8_col6 {\n",
       "  background-color: #a9da6c;\n",
       "  color: #000000;\n",
       "}\n",
       "#T_3c625_row2_col13 {\n",
       "  background-color: #fede89;\n",
       "  color: #000000;\n",
       "}\n",
       "#T_3c625_row2_col14 {\n",
       "  background-color: #fdc574;\n",
       "  color: #000000;\n",
       "}\n",
       "#T_3c625_row3_col0 {\n",
       "  background-color: #f57748;\n",
       "  color: #f1f1f1;\n",
       "}\n",
       "#T_3c625_row3_col3, #T_3c625_row4_col16, #T_3c625_row15_col13 {\n",
       "  background-color: #a70226;\n",
       "  color: #f1f1f1;\n",
       "}\n",
       "#T_3c625_row3_col4 {\n",
       "  background-color: #dd3d2d;\n",
       "  color: #f1f1f1;\n",
       "}\n",
       "#T_3c625_row3_col5, #T_3c625_row12_col16, #T_3c625_row15_col1 {\n",
       "  background-color: #fdaf62;\n",
       "  color: #000000;\n",
       "}\n",
       "#T_3c625_row3_col7, #T_3c625_row10_col0 {\n",
       "  background-color: #07753e;\n",
       "  color: #f1f1f1;\n",
       "}\n",
       "#T_3c625_row3_col8 {\n",
       "  background-color: #d7ee8a;\n",
       "  color: #000000;\n",
       "}\n",
       "#T_3c625_row3_col9, #T_3c625_row9_col5, #T_3c625_row10_col6 {\n",
       "  background-color: #63bc62;\n",
       "  color: #f1f1f1;\n",
       "}\n",
       "#T_3c625_row3_col11 {\n",
       "  background-color: #fafdb8;\n",
       "  color: #000000;\n",
       "}\n",
       "#T_3c625_row3_col12, #T_3c625_row4_col12 {\n",
       "  background-color: #a7d96b;\n",
       "  color: #000000;\n",
       "}\n",
       "#T_3c625_row3_col13, #T_3c625_row14_col1 {\n",
       "  background-color: #feeda1;\n",
       "  color: #000000;\n",
       "}\n",
       "#T_3c625_row3_col14 {\n",
       "  background-color: #fee695;\n",
       "  color: #000000;\n",
       "}\n",
       "#T_3c625_row3_col15, #T_3c625_row6_col15, #T_3c625_row7_col13, #T_3c625_row7_col16 {\n",
       "  background-color: #036e3a;\n",
       "  color: #f1f1f1;\n",
       "}\n",
       "#T_3c625_row3_col16 {\n",
       "  background-color: #ab0626;\n",
       "  color: #f1f1f1;\n",
       "}\n",
       "#T_3c625_row4_col1, #T_3c625_row16_col7 {\n",
       "  background-color: #ec5c3b;\n",
       "  color: #f1f1f1;\n",
       "}\n",
       "#T_3c625_row4_col2 {\n",
       "  background-color: #f47044;\n",
       "  color: #f1f1f1;\n",
       "}\n",
       "#T_3c625_row4_col4 {\n",
       "  background-color: #fcaa5f;\n",
       "  color: #000000;\n",
       "}\n",
       "#T_3c625_row4_col5 {\n",
       "  background-color: #fff6b0;\n",
       "  color: #000000;\n",
       "}\n",
       "#T_3c625_row4_col6 {\n",
       "  background-color: #e8f59f;\n",
       "  color: #000000;\n",
       "}\n",
       "#T_3c625_row4_col8, #T_3c625_row7_col0, #T_3c625_row8_col12, #T_3c625_row10_col2 {\n",
       "  background-color: #0e8245;\n",
       "  color: #f1f1f1;\n",
       "}\n",
       "#T_3c625_row4_col9, #T_3c625_row16_col1 {\n",
       "  background-color: #f57245;\n",
       "  color: #f1f1f1;\n",
       "}\n",
       "#T_3c625_row4_col10, #T_3c625_row15_col6 {\n",
       "  background-color: #feffbe;\n",
       "  color: #000000;\n",
       "}\n",
       "#T_3c625_row4_col13, #T_3c625_row7_col10, #T_3c625_row14_col0 {\n",
       "  background-color: #fff2aa;\n",
       "  color: #000000;\n",
       "}\n",
       "#T_3c625_row4_col14 {\n",
       "  background-color: #93d168;\n",
       "  color: #000000;\n",
       "}\n",
       "#T_3c625_row5_col1 {\n",
       "  background-color: #dff293;\n",
       "  color: #000000;\n",
       "}\n",
       "#T_3c625_row5_col2 {\n",
       "  background-color: #c3e67d;\n",
       "  color: #000000;\n",
       "}\n",
       "#T_3c625_row5_col3, #T_3c625_row8_col7 {\n",
       "  background-color: #9bd469;\n",
       "  color: #000000;\n",
       "}\n",
       "#T_3c625_row5_col4, #T_3c625_row11_col16 {\n",
       "  background-color: #98d368;\n",
       "  color: #000000;\n",
       "}\n",
       "#T_3c625_row5_col5, #T_3c625_row6_col7 {\n",
       "  background-color: #73c264;\n",
       "  color: #000000;\n",
       "}\n",
       "#T_3c625_row5_col9, #T_3c625_row6_col9 {\n",
       "  background-color: #b5df74;\n",
       "  color: #000000;\n",
       "}\n",
       "#T_3c625_row5_col10 {\n",
       "  background-color: #f7fcb4;\n",
       "  color: #000000;\n",
       "}\n",
       "#T_3c625_row5_col11, #T_3c625_row10_col7 {\n",
       "  background-color: #fffebe;\n",
       "  color: #000000;\n",
       "}\n",
       "#T_3c625_row5_col12, #T_3c625_row16_col14 {\n",
       "  background-color: #dcf08f;\n",
       "  color: #000000;\n",
       "}\n",
       "#T_3c625_row5_col13, #T_3c625_row8_col10 {\n",
       "  background-color: #89cc67;\n",
       "  color: #000000;\n",
       "}\n",
       "#T_3c625_row5_col14, #T_3c625_row10_col10 {\n",
       "  background-color: #026c39;\n",
       "  color: #f1f1f1;\n",
       "}\n",
       "#T_3c625_row6_col0 {\n",
       "  background-color: #199750;\n",
       "  color: #f1f1f1;\n",
       "}\n",
       "#T_3c625_row6_col2, #T_3c625_row7_col3, #T_3c625_row9_col2, #T_3c625_row11_col1 {\n",
       "  background-color: #108647;\n",
       "  color: #f1f1f1;\n",
       "}\n",
       "#T_3c625_row6_col5 {\n",
       "  background-color: #097940;\n",
       "  color: #f1f1f1;\n",
       "}\n",
       "#T_3c625_row6_col8 {\n",
       "  background-color: #6bbf64;\n",
       "  color: #000000;\n",
       "}\n",
       "#T_3c625_row6_col10 {\n",
       "  background-color: #fdfebc;\n",
       "  color: #000000;\n",
       "}\n",
       "#T_3c625_row6_col11 {\n",
       "  background-color: #fee797;\n",
       "  color: #000000;\n",
       "}\n",
       "#T_3c625_row6_col16, #T_3c625_row11_col6, #T_3c625_row12_col6 {\n",
       "  background-color: #138c4a;\n",
       "  color: #f1f1f1;\n",
       "}\n",
       "#T_3c625_row7_col1, #T_3c625_row8_col16 {\n",
       "  background-color: #05713c;\n",
       "  color: #f1f1f1;\n",
       "}\n",
       "#T_3c625_row7_col4, #T_3c625_row10_col5 {\n",
       "  background-color: #4eb15d;\n",
       "  color: #f1f1f1;\n",
       "}\n",
       "#T_3c625_row7_col5 {\n",
       "  background-color: #84ca66;\n",
       "  color: #000000;\n",
       "}\n",
       "#T_3c625_row7_col6, #T_3c625_row9_col8 {\n",
       "  background-color: #bbe278;\n",
       "  color: #000000;\n",
       "}\n",
       "#T_3c625_row7_col7 {\n",
       "  background-color: #5db961;\n",
       "  color: #f1f1f1;\n",
       "}\n",
       "#T_3c625_row7_col8 {\n",
       "  background-color: #78c565;\n",
       "  color: #000000;\n",
       "}\n",
       "#T_3c625_row7_col9 {\n",
       "  background-color: #b7e075;\n",
       "  color: #000000;\n",
       "}\n",
       "#T_3c625_row7_col11, #T_3c625_row9_col6 {\n",
       "  background-color: #8ccd67;\n",
       "  color: #000000;\n",
       "}\n",
       "#T_3c625_row7_col14, #T_3c625_row9_col0 {\n",
       "  background-color: #08773f;\n",
       "  color: #f1f1f1;\n",
       "}\n",
       "#T_3c625_row8_col0 {\n",
       "  background-color: #0a7b41;\n",
       "  color: #f1f1f1;\n",
       "}\n",
       "#T_3c625_row8_col1, #T_3c625_row8_col14, #T_3c625_row16_col15 {\n",
       "  background-color: #3ca959;\n",
       "  color: #f1f1f1;\n",
       "}\n",
       "#T_3c625_row8_col2, #T_3c625_row11_col3, #T_3c625_row12_col3 {\n",
       "  background-color: #1e9a51;\n",
       "  color: #f1f1f1;\n",
       "}\n",
       "#T_3c625_row8_col3, #T_3c625_row10_col8, #T_3c625_row13_col6, #T_3c625_row17_col14 {\n",
       "  background-color: #30a356;\n",
       "  color: #f1f1f1;\n",
       "}\n",
       "#T_3c625_row8_col4, #T_3c625_row11_col9 {\n",
       "  background-color: #45ad5b;\n",
       "  color: #f1f1f1;\n",
       "}\n",
       "#T_3c625_row8_col8 {\n",
       "  background-color: #7ac665;\n",
       "  color: #000000;\n",
       "}\n",
       "#T_3c625_row8_col9 {\n",
       "  background-color: #e2f397;\n",
       "  color: #000000;\n",
       "}\n",
       "#T_3c625_row8_col13, #T_3c625_row10_col3 {\n",
       "  background-color: #219c52;\n",
       "  color: #f1f1f1;\n",
       "}\n",
       "#T_3c625_row8_col15 {\n",
       "  background-color: #a5d86a;\n",
       "  color: #000000;\n",
       "}\n",
       "#T_3c625_row9_col1 {\n",
       "  background-color: #16914d;\n",
       "  color: #f1f1f1;\n",
       "}\n",
       "#T_3c625_row9_col3 {\n",
       "  background-color: #279f53;\n",
       "  color: #f1f1f1;\n",
       "}\n",
       "#T_3c625_row9_col4, #T_3c625_row9_col9, #T_3c625_row12_col5 {\n",
       "  background-color: #3faa59;\n",
       "  color: #f1f1f1;\n",
       "}\n",
       "#T_3c625_row9_col7, #T_3c625_row9_col14 {\n",
       "  background-color: #c5e67e;\n",
       "  color: #000000;\n",
       "}\n",
       "#T_3c625_row9_col12 {\n",
       "  background-color: #70c164;\n",
       "  color: #000000;\n",
       "}\n",
       "#T_3c625_row9_col13 {\n",
       "  background-color: #addc6f;\n",
       "  color: #000000;\n",
       "}\n",
       "#T_3c625_row9_col15 {\n",
       "  background-color: #fffab6;\n",
       "  color: #000000;\n",
       "}\n",
       "#T_3c625_row10_col1 {\n",
       "  background-color: #128a49;\n",
       "  color: #f1f1f1;\n",
       "}\n",
       "#T_3c625_row10_col4, #T_3c625_row11_col5 {\n",
       "  background-color: #2da155;\n",
       "  color: #f1f1f1;\n",
       "}\n",
       "#T_3c625_row10_col11 {\n",
       "  background-color: #0b7d42;\n",
       "  color: #f1f1f1;\n",
       "}\n",
       "#T_3c625_row10_col12 {\n",
       "  background-color: #e0f295;\n",
       "  color: #000000;\n",
       "}\n",
       "#T_3c625_row10_col13 {\n",
       "  background-color: #feea9b;\n",
       "  color: #000000;\n",
       "}\n",
       "#T_3c625_row10_col14 {\n",
       "  background-color: #fff0a6;\n",
       "  color: #000000;\n",
       "}\n",
       "#T_3c625_row10_col15 {\n",
       "  background-color: #fdc372;\n",
       "  color: #000000;\n",
       "}\n",
       "#T_3c625_row11_col2, #T_3c625_row17_col12 {\n",
       "  background-color: #0c7f43;\n",
       "  color: #f1f1f1;\n",
       "}\n",
       "#T_3c625_row11_col7 {\n",
       "  background-color: #fed683;\n",
       "  color: #000000;\n",
       "}\n",
       "#T_3c625_row11_col8 {\n",
       "  background-color: #2aa054;\n",
       "  color: #f1f1f1;\n",
       "}\n",
       "#T_3c625_row11_col11 {\n",
       "  background-color: #cbe982;\n",
       "  color: #000000;\n",
       "}\n",
       "#T_3c625_row11_col13, #T_3c625_row15_col11, #T_3c625_row15_col15 {\n",
       "  background-color: #e44c34;\n",
       "  color: #f1f1f1;\n",
       "}\n",
       "#T_3c625_row11_col14 {\n",
       "  background-color: #f8864f;\n",
       "  color: #f1f1f1;\n",
       "}\n",
       "#T_3c625_row11_col15, #T_3c625_row17_col2 {\n",
       "  background-color: #f46d43;\n",
       "  color: #f1f1f1;\n",
       "}\n",
       "#T_3c625_row12_col0, #T_3c625_row17_col7 {\n",
       "  background-color: #06733d;\n",
       "  color: #f1f1f1;\n",
       "}\n",
       "#T_3c625_row12_col4, #T_3c625_row17_col9 {\n",
       "  background-color: #18954f;\n",
       "  color: #f1f1f1;\n",
       "}\n",
       "#T_3c625_row12_col7, #T_3c625_row16_col0 {\n",
       "  background-color: #f88950;\n",
       "  color: #f1f1f1;\n",
       "}\n",
       "#T_3c625_row12_col8 {\n",
       "  background-color: #fff5ae;\n",
       "  color: #000000;\n",
       "}\n",
       "#T_3c625_row12_col9, #T_3c625_row14_col2 {\n",
       "  background-color: #feec9f;\n",
       "  color: #000000;\n",
       "}\n",
       "#T_3c625_row12_col10 {\n",
       "  background-color: #fedc88;\n",
       "  color: #000000;\n",
       "}\n",
       "#T_3c625_row12_col11 {\n",
       "  background-color: #fece7c;\n",
       "  color: #000000;\n",
       "}\n",
       "#T_3c625_row12_col12, #T_3c625_row14_col15 {\n",
       "  background-color: #ce2827;\n",
       "  color: #f1f1f1;\n",
       "}\n",
       "#T_3c625_row12_col13, #T_3c625_row13_col15, #T_3c625_row15_col14 {\n",
       "  background-color: #d62f27;\n",
       "  color: #f1f1f1;\n",
       "}\n",
       "#T_3c625_row12_col14, #T_3c625_row14_col7, #T_3c625_row16_col10 {\n",
       "  background-color: #e95538;\n",
       "  color: #f1f1f1;\n",
       "}\n",
       "#T_3c625_row12_col15, #T_3c625_row17_col0 {\n",
       "  background-color: #f57547;\n",
       "  color: #f1f1f1;\n",
       "}\n",
       "#T_3c625_row13_col1 {\n",
       "  background-color: #cdea83;\n",
       "  color: #000000;\n",
       "}\n",
       "#T_3c625_row13_col3 {\n",
       "  background-color: #f1f9ac;\n",
       "  color: #000000;\n",
       "}\n",
       "#T_3c625_row13_col4, #T_3c625_row13_col5 {\n",
       "  background-color: #d3ec87;\n",
       "  color: #000000;\n",
       "}\n",
       "#T_3c625_row13_col7, #T_3c625_row16_col2 {\n",
       "  background-color: #ef633f;\n",
       "  color: #f1f1f1;\n",
       "}\n",
       "#T_3c625_row13_col13, #T_3c625_row14_col9 {\n",
       "  background-color: #b50f26;\n",
       "  color: #f1f1f1;\n",
       "}\n",
       "#T_3c625_row13_col14, #T_3c625_row14_col14 {\n",
       "  background-color: #be1827;\n",
       "  color: #f1f1f1;\n",
       "}\n",
       "#T_3c625_row13_col16 {\n",
       "  background-color: #ad0826;\n",
       "  color: #f1f1f1;\n",
       "}\n",
       "#T_3c625_row14_col3 {\n",
       "  background-color: #fdc776;\n",
       "  color: #000000;\n",
       "}\n",
       "#T_3c625_row14_col4 {\n",
       "  background-color: #fee28f;\n",
       "  color: #000000;\n",
       "}\n",
       "#T_3c625_row14_col5 {\n",
       "  background-color: #fee999;\n",
       "  color: #000000;\n",
       "}\n",
       "#T_3c625_row14_col6 {\n",
       "  background-color: #1b9950;\n",
       "  color: #f1f1f1;\n",
       "}\n",
       "#T_3c625_row14_col8 {\n",
       "  background-color: #c82227;\n",
       "  color: #f1f1f1;\n",
       "}\n",
       "#T_3c625_row14_col10 {\n",
       "  background-color: #d22b27;\n",
       "  color: #f1f1f1;\n",
       "}\n",
       "#T_3c625_row14_col16, #T_3c625_row15_col0 {\n",
       "  background-color: #feca79;\n",
       "  color: #000000;\n",
       "}\n",
       "#T_3c625_row15_col2 {\n",
       "  background-color: #fca55d;\n",
       "  color: #000000;\n",
       "}\n",
       "#T_3c625_row15_col4, #T_3c625_row16_col9 {\n",
       "  background-color: #f7814c;\n",
       "  color: #f1f1f1;\n",
       "}\n",
       "#T_3c625_row15_col5 {\n",
       "  background-color: #f7844e;\n",
       "  color: #f1f1f1;\n",
       "}\n",
       "#T_3c625_row15_col7, #T_3c625_row16_col3 {\n",
       "  background-color: #da362a;\n",
       "  color: #f1f1f1;\n",
       "}\n",
       "#T_3c625_row15_col10 {\n",
       "  background-color: #c01a27;\n",
       "  color: #f1f1f1;\n",
       "}\n",
       "#T_3c625_row15_col12 {\n",
       "  background-color: #c21c27;\n",
       "  color: #f1f1f1;\n",
       "}\n",
       "#T_3c625_row15_col16 {\n",
       "  background-color: #feda86;\n",
       "  color: #000000;\n",
       "}\n",
       "#T_3c625_row16_col4 {\n",
       "  background-color: #e34933;\n",
       "  color: #f1f1f1;\n",
       "}\n",
       "#T_3c625_row16_col5, #T_3c625_row16_col11, #T_3c625_row17_col1 {\n",
       "  background-color: #f36b42;\n",
       "  color: #f1f1f1;\n",
       "}\n",
       "#T_3c625_row16_col8, #T_3c625_row17_col3 {\n",
       "  background-color: #ed5f3c;\n",
       "  color: #f1f1f1;\n",
       "}\n",
       "#T_3c625_row16_col12, #T_3c625_row16_col13 {\n",
       "  background-color: #fffdbc;\n",
       "  color: #000000;\n",
       "}\n",
       "#T_3c625_row16_col16 {\n",
       "  background-color: #fbfdba;\n",
       "  color: #000000;\n",
       "}\n",
       "#T_3c625_row17_col4 {\n",
       "  background-color: #dc3b2c;\n",
       "  color: #f1f1f1;\n",
       "}\n",
       "#T_3c625_row17_col10 {\n",
       "  background-color: #5ab760;\n",
       "  color: #f1f1f1;\n",
       "}\n",
       "#T_3c625_row17_col11 {\n",
       "  background-color: #bde379;\n",
       "  color: #000000;\n",
       "}\n",
       "#T_3c625_row17_col13 {\n",
       "  background-color: #57b65f;\n",
       "  color: #f1f1f1;\n",
       "}\n",
       "#T_3c625_row17_col15 {\n",
       "  background-color: #118848;\n",
       "  color: #f1f1f1;\n",
       "}\n",
       "#T_3c625_row17_col16 {\n",
       "  background-color: #e5f49b;\n",
       "  color: #000000;\n",
       "}\n",
       "</style>\n",
       "<table id=\"T_3c625\">\n",
       "  <thead>\n",
       "    <tr>\n",
       "      <th class=\"blank level0\" >&nbsp;</th>\n",
       "      <th id=\"T_3c625_level0_col0\" class=\"col_heading level0 col0\" >Spot</th>\n",
       "      <th id=\"T_3c625_level0_col1\" class=\"col_heading level0 col1\" >1M Fwd</th>\n",
       "      <th id=\"T_3c625_level0_col2\" class=\"col_heading level0 col2\" >3M Fwd</th>\n",
       "      <th id=\"T_3c625_level0_col3\" class=\"col_heading level0 col3\" >6M Fwd</th>\n",
       "      <th id=\"T_3c625_level0_col4\" class=\"col_heading level0 col4\" >9M Fwd</th>\n",
       "      <th id=\"T_3c625_level0_col5\" class=\"col_heading level0 col5\" >12M Fwd</th>\n",
       "      <th id=\"T_3c625_level0_col6\" class=\"col_heading level0 col6\" >18M Fwd</th>\n",
       "      <th id=\"T_3c625_level0_col7\" class=\"col_heading level0 col7\" >2Y Fwd</th>\n",
       "      <th id=\"T_3c625_level0_col8\" class=\"col_heading level0 col8\" >3Y Fwd</th>\n",
       "      <th id=\"T_3c625_level0_col9\" class=\"col_heading level0 col9\" >4Y Fwd</th>\n",
       "      <th id=\"T_3c625_level0_col10\" class=\"col_heading level0 col10\" >5Y Fwd</th>\n",
       "      <th id=\"T_3c625_level0_col11\" class=\"col_heading level0 col11\" >6Y Fwd</th>\n",
       "      <th id=\"T_3c625_level0_col12\" class=\"col_heading level0 col12\" >7Y Fwd</th>\n",
       "      <th id=\"T_3c625_level0_col13\" class=\"col_heading level0 col13\" >8Y Fwd</th>\n",
       "      <th id=\"T_3c625_level0_col14\" class=\"col_heading level0 col14\" >9Y Fwd</th>\n",
       "      <th id=\"T_3c625_level0_col15\" class=\"col_heading level0 col15\" >10Y Fwd</th>\n",
       "      <th id=\"T_3c625_level0_col16\" class=\"col_heading level0 col16\" >15Y Fwd</th>\n",
       "    </tr>\n",
       "    <tr>\n",
       "      <th class=\"index_name level0\" >Tenor</th>\n",
       "      <th class=\"blank col0\" >&nbsp;</th>\n",
       "      <th class=\"blank col1\" >&nbsp;</th>\n",
       "      <th class=\"blank col2\" >&nbsp;</th>\n",
       "      <th class=\"blank col3\" >&nbsp;</th>\n",
       "      <th class=\"blank col4\" >&nbsp;</th>\n",
       "      <th class=\"blank col5\" >&nbsp;</th>\n",
       "      <th class=\"blank col6\" >&nbsp;</th>\n",
       "      <th class=\"blank col7\" >&nbsp;</th>\n",
       "      <th class=\"blank col8\" >&nbsp;</th>\n",
       "      <th class=\"blank col9\" >&nbsp;</th>\n",
       "      <th class=\"blank col10\" >&nbsp;</th>\n",
       "      <th class=\"blank col11\" >&nbsp;</th>\n",
       "      <th class=\"blank col12\" >&nbsp;</th>\n",
       "      <th class=\"blank col13\" >&nbsp;</th>\n",
       "      <th class=\"blank col14\" >&nbsp;</th>\n",
       "      <th class=\"blank col15\" >&nbsp;</th>\n",
       "      <th class=\"blank col16\" >&nbsp;</th>\n",
       "    </tr>\n",
       "  </thead>\n",
       "  <tbody>\n",
       "    <tr>\n",
       "      <th id=\"T_3c625_level0_row0\" class=\"row_heading level0 row0\" >12M</th>\n",
       "      <td id=\"T_3c625_row0_col0\" class=\"data row0 col0\" >1.330991</td>\n",
       "      <td id=\"T_3c625_row0_col1\" class=\"data row0 col1\" >0.983490</td>\n",
       "      <td id=\"T_3c625_row0_col2\" class=\"data row0 col2\" >1.386095</td>\n",
       "      <td id=\"T_3c625_row0_col3\" class=\"data row0 col3\" >2.043758</td>\n",
       "      <td id=\"T_3c625_row0_col4\" class=\"data row0 col4\" >2.352100</td>\n",
       "      <td id=\"T_3c625_row0_col5\" class=\"data row0 col5\" >2.888554</td>\n",
       "      <td id=\"T_3c625_row0_col6\" class=\"data row0 col6\" >0.800595</td>\n",
       "      <td id=\"T_3c625_row0_col7\" class=\"data row0 col7\" >-3.872879</td>\n",
       "      <td id=\"T_3c625_row0_col8\" class=\"data row0 col8\" >-1.504720</td>\n",
       "      <td id=\"T_3c625_row0_col9\" class=\"data row0 col9\" >-0.799352</td>\n",
       "      <td id=\"T_3c625_row0_col10\" class=\"data row0 col10\" >-0.544136</td>\n",
       "      <td id=\"T_3c625_row0_col11\" class=\"data row0 col11\" >0.779373</td>\n",
       "      <td id=\"T_3c625_row0_col12\" class=\"data row0 col12\" >-1.692832</td>\n",
       "      <td id=\"T_3c625_row0_col13\" class=\"data row0 col13\" >-0.392015</td>\n",
       "      <td id=\"T_3c625_row0_col14\" class=\"data row0 col14\" >-0.495578</td>\n",
       "      <td id=\"T_3c625_row0_col15\" class=\"data row0 col15\" >-1.788778</td>\n",
       "      <td id=\"T_3c625_row0_col16\" class=\"data row0 col16\" >-0.351781</td>\n",
       "    </tr>\n",
       "    <tr>\n",
       "      <th id=\"T_3c625_level0_row1\" class=\"row_heading level0 row1\" >18M</th>\n",
       "      <td id=\"T_3c625_row1_col0\" class=\"data row1 col0\" >-0.304386</td>\n",
       "      <td id=\"T_3c625_row1_col1\" class=\"data row1 col1\" >0.531319</td>\n",
       "      <td id=\"T_3c625_row1_col2\" class=\"data row1 col2\" >-0.065076</td>\n",
       "      <td id=\"T_3c625_row1_col3\" class=\"data row1 col3\" >-1.067700</td>\n",
       "      <td id=\"T_3c625_row1_col4\" class=\"data row1 col4\" >-1.934387</td>\n",
       "      <td id=\"T_3c625_row1_col5\" class=\"data row1 col5\" >-3.329084</td>\n",
       "      <td id=\"T_3c625_row1_col6\" class=\"data row1 col6\" >-2.206009</td>\n",
       "      <td id=\"T_3c625_row1_col7\" class=\"data row1 col7\" >-2.245390</td>\n",
       "      <td id=\"T_3c625_row1_col8\" class=\"data row1 col8\" >-1.444438</td>\n",
       "      <td id=\"T_3c625_row1_col9\" class=\"data row1 col9\" >-0.807138</td>\n",
       "      <td id=\"T_3c625_row1_col10\" class=\"data row1 col10\" >0.537133</td>\n",
       "      <td id=\"T_3c625_row1_col11\" class=\"data row1 col11\" >-1.718191</td>\n",
       "      <td id=\"T_3c625_row1_col12\" class=\"data row1 col12\" >0.208319</td>\n",
       "      <td id=\"T_3c625_row1_col13\" class=\"data row1 col13\" >-0.422403</td>\n",
       "      <td id=\"T_3c625_row1_col14\" class=\"data row1 col14\" >-1.562930</td>\n",
       "      <td id=\"T_3c625_row1_col15\" class=\"data row1 col15\" >-1.813261</td>\n",
       "      <td id=\"T_3c625_row1_col16\" class=\"data row1 col16\" >-0.438884</td>\n",
       "    </tr>\n",
       "    <tr>\n",
       "      <th id=\"T_3c625_level0_row2\" class=\"row_heading level0 row2\" >2Y</th>\n",
       "      <td id=\"T_3c625_row2_col0\" class=\"data row2 col0\" >-1.212261</td>\n",
       "      <td id=\"T_3c625_row2_col1\" class=\"data row2 col1\" >-1.292166</td>\n",
       "      <td id=\"T_3c625_row2_col2\" class=\"data row2 col2\" >-1.936008</td>\n",
       "      <td id=\"T_3c625_row2_col3\" class=\"data row2 col3\" >-3.067252</td>\n",
       "      <td id=\"T_3c625_row2_col4\" class=\"data row2 col4\" >-3.072563</td>\n",
       "      <td id=\"T_3c625_row2_col5\" class=\"data row2 col5\" >-3.144471</td>\n",
       "      <td id=\"T_3c625_row2_col6\" class=\"data row2 col6\" >-1.110274</td>\n",
       "      <td id=\"T_3c625_row2_col7\" class=\"data row2 col7\" >3.202363</td>\n",
       "      <td id=\"T_3c625_row2_col8\" class=\"data row2 col8\" >-0.167008</td>\n",
       "      <td id=\"T_3c625_row2_col9\" class=\"data row2 col9\" >-0.217741</td>\n",
       "      <td id=\"T_3c625_row2_col10\" class=\"data row2 col10\" >0.814425</td>\n",
       "      <td id=\"T_3c625_row2_col11\" class=\"data row2 col11\" >-1.552168</td>\n",
       "      <td id=\"T_3c625_row2_col12\" class=\"data row2 col12\" >0.982797</td>\n",
       "      <td id=\"T_3c625_row2_col13\" class=\"data row2 col13\" >-0.050582</td>\n",
       "      <td id=\"T_3c625_row2_col14\" class=\"data row2 col14\" >-0.395093</td>\n",
       "      <td id=\"T_3c625_row2_col15\" class=\"data row2 col15\" >-1.821420</td>\n",
       "      <td id=\"T_3c625_row2_col16\" class=\"data row2 col16\" >-0.475026</td>\n",
       "    </tr>\n",
       "    <tr>\n",
       "      <th id=\"T_3c625_level0_row3\" class=\"row_heading level0 row3\" >3Y</th>\n",
       "      <td id=\"T_3c625_row3_col0\" class=\"data row3 col0\" >-2.375553</td>\n",
       "      <td id=\"T_3c625_row3_col1\" class=\"data row3 col1\" >-3.500658</td>\n",
       "      <td id=\"T_3c625_row3_col2\" class=\"data row3 col2\" >-3.420768</td>\n",
       "      <td id=\"T_3c625_row3_col3\" class=\"data row3 col3\" >-3.034798</td>\n",
       "      <td id=\"T_3c625_row3_col4\" class=\"data row3 col4\" >-2.347226</td>\n",
       "      <td id=\"T_3c625_row3_col5\" class=\"data row3 col5\" >-1.453420</td>\n",
       "      <td id=\"T_3c625_row3_col6\" class=\"data row3 col6\" >-0.512843</td>\n",
       "      <td id=\"T_3c625_row3_col7\" class=\"data row3 col7\" >3.050959</td>\n",
       "      <td id=\"T_3c625_row3_col8\" class=\"data row3 col8\" >0.383681</td>\n",
       "      <td id=\"T_3c625_row3_col9\" class=\"data row3 col9\" >1.205263</td>\n",
       "      <td id=\"T_3c625_row3_col10\" class=\"data row3 col10\" >-1.420478</td>\n",
       "      <td id=\"T_3c625_row3_col11\" class=\"data row3 col11\" >0.315137</td>\n",
       "      <td id=\"T_3c625_row3_col12\" class=\"data row3 col12\" >1.004051</td>\n",
       "      <td id=\"T_3c625_row3_col13\" class=\"data row3 col13\" >0.071872</td>\n",
       "      <td id=\"T_3c625_row3_col14\" class=\"data row3 col14\" >-0.147620</td>\n",
       "      <td id=\"T_3c625_row3_col15\" class=\"data row3 col15\" >1.828872</td>\n",
       "      <td id=\"T_3c625_row3_col16\" class=\"data row3 col16\" >-0.503303</td>\n",
       "    </tr>\n",
       "    <tr>\n",
       "      <th id=\"T_3c625_level0_row4\" class=\"row_heading level0 row4\" >4Y</th>\n",
       "      <td id=\"T_3c625_row4_col0\" class=\"data row4 col0\" >-3.692879</td>\n",
       "      <td id=\"T_3c625_row4_col1\" class=\"data row4 col1\" >-2.442775</td>\n",
       "      <td id=\"T_3c625_row4_col2\" class=\"data row4 col2\" >-2.200199</td>\n",
       "      <td id=\"T_3c625_row4_col3\" class=\"data row4 col3\" >-1.448129</td>\n",
       "      <td id=\"T_3c625_row4_col4\" class=\"data row4 col4\" >-1.308400</td>\n",
       "      <td id=\"T_3c625_row4_col5\" class=\"data row4 col5\" >-0.407657</td>\n",
       "      <td id=\"T_3c625_row4_col6\" class=\"data row4 col6\" >0.085776</td>\n",
       "      <td id=\"T_3c625_row4_col7\" class=\"data row4 col7\" >2.585701</td>\n",
       "      <td id=\"T_3c625_row4_col8\" class=\"data row4 col8\" >1.864780</td>\n",
       "      <td id=\"T_3c625_row4_col9\" class=\"data row4 col9\" >-0.959484</td>\n",
       "      <td id=\"T_3c625_row4_col10\" class=\"data row4 col10\" >0.244098</td>\n",
       "      <td id=\"T_3c625_row4_col11\" class=\"data row4 col11\" >0.374885</td>\n",
       "      <td id=\"T_3c625_row4_col12\" class=\"data row4 col12\" >0.996414</td>\n",
       "      <td id=\"T_3c625_row4_col13\" class=\"data row4 col13\" >0.114548</td>\n",
       "      <td id=\"T_3c625_row4_col14\" class=\"data row4 col14\" >0.888885</td>\n",
       "      <td id=\"T_3c625_row4_col15\" class=\"data row4 col15\" >1.865884</td>\n",
       "      <td id=\"T_3c625_row4_col16\" class=\"data row4 col16\" >-0.513375</td>\n",
       "    </tr>\n",
       "    <tr>\n",
       "      <th id=\"T_3c625_level0_row5\" class=\"row_heading level0 row5\" >5Y</th>\n",
       "      <td id=\"T_3c625_row5_col0\" class=\"data row5 col0\" >0.168626</td>\n",
       "      <td id=\"T_3c625_row5_col1\" class=\"data row5 col1\" >0.051987</td>\n",
       "      <td id=\"T_3c625_row5_col2\" class=\"data row5 col2\" >0.394593</td>\n",
       "      <td id=\"T_3c625_row5_col3\" class=\"data row5 col3\" >1.205353</td>\n",
       "      <td id=\"T_3c625_row5_col4\" class=\"data row5 col4\" >1.240259</td>\n",
       "      <td id=\"T_3c625_row5_col5\" class=\"data row5 col5\" >1.523983</td>\n",
       "      <td id=\"T_3c625_row5_col6\" class=\"data row5 col6\" >1.888891</td>\n",
       "      <td id=\"T_3c625_row5_col7\" class=\"data row5 col7\" >3.250807</td>\n",
       "      <td id=\"T_3c625_row5_col8\" class=\"data row5 col8\" >-0.156453</td>\n",
       "      <td id=\"T_3c625_row5_col9\" class=\"data row5 col9\" >0.723306</td>\n",
       "      <td id=\"T_3c625_row5_col10\" class=\"data row5 col10\" >0.314155</td>\n",
       "      <td id=\"T_3c625_row5_col11\" class=\"data row5 col11\" >0.250591</td>\n",
       "      <td id=\"T_3c625_row5_col12\" class=\"data row5 col12\" >0.499183</td>\n",
       "      <td id=\"T_3c625_row5_col13\" class=\"data row5 col13\" >0.885778</td>\n",
       "      <td id=\"T_3c625_row5_col14\" class=\"data row5 col14\" >1.776464</td>\n",
       "      <td id=\"T_3c625_row5_col15\" class=\"data row5 col15\" >1.875213</td>\n",
       "      <td id=\"T_3c625_row5_col16\" class=\"data row5 col16\" >-0.519544</td>\n",
       "    </tr>\n",
       "    <tr>\n",
       "      <th id=\"T_3c625_level0_row6\" class=\"row_heading level0 row6\" >6Y</th>\n",
       "      <td id=\"T_3c625_row6_col0\" class=\"data row6 col0\" >1.807835</td>\n",
       "      <td id=\"T_3c625_row6_col1\" class=\"data row6 col1\" >1.723607</td>\n",
       "      <td id=\"T_3c625_row6_col2\" class=\"data row6 col2\" >2.141875</td>\n",
       "      <td id=\"T_3c625_row6_col3\" class=\"data row6 col3\" >2.906850</td>\n",
       "      <td id=\"T_3c625_row6_col4\" class=\"data row6 col4\" >2.912492</td>\n",
       "      <td id=\"T_3c625_row6_col5\" class=\"data row6 col5\" >2.667274</td>\n",
       "      <td id=\"T_3c625_row6_col6\" class=\"data row6 col6\" >1.104295</td>\n",
       "      <td id=\"T_3c625_row6_col7\" class=\"data row6 col7\" >1.668271</td>\n",
       "      <td id=\"T_3c625_row6_col8\" class=\"data row6 col8\" >1.189264</td>\n",
       "      <td id=\"T_3c625_row6_col9\" class=\"data row6 col9\" >0.719553</td>\n",
       "      <td id=\"T_3c625_row6_col10\" class=\"data row6 col10\" >0.259000</td>\n",
       "      <td id=\"T_3c625_row6_col11\" class=\"data row6 col11\" >-0.032894</td>\n",
       "      <td id=\"T_3c625_row6_col12\" class=\"data row6 col12\" >1.514660</td>\n",
       "      <td id=\"T_3c625_row6_col13\" class=\"data row6 col13\" >1.582864</td>\n",
       "      <td id=\"T_3c625_row6_col14\" class=\"data row6 col14\" >1.811597</td>\n",
       "      <td id=\"T_3c625_row6_col15\" class=\"data row6 col15\" >1.823569</td>\n",
       "      <td id=\"T_3c625_row6_col16\" class=\"data row6 col16\" >0.454656</td>\n",
       "    </tr>\n",
       "    <tr>\n",
       "      <th id=\"T_3c625_level0_row7\" class=\"row_heading level0 row7\" >7Y</th>\n",
       "      <td id=\"T_3c625_row7_col0\" class=\"data row7 col0\" >2.065409</td>\n",
       "      <td id=\"T_3c625_row7_col1\" class=\"data row7 col1\" >2.473873</td>\n",
       "      <td id=\"T_3c625_row7_col2\" class=\"data row7 col2\" >2.526694</td>\n",
       "      <td id=\"T_3c625_row7_col3\" class=\"data row7 col3\" >2.524367</td>\n",
       "      <td id=\"T_3c625_row7_col4\" class=\"data row7 col4\" >1.898638</td>\n",
       "      <td id=\"T_3c625_row7_col5\" class=\"data row7 col5\" >1.340516</td>\n",
       "      <td id=\"T_3c625_row7_col6\" class=\"data row7 col6\" >0.494152</td>\n",
       "      <td id=\"T_3c625_row7_col7\" class=\"data row7 col7\" >1.891955</td>\n",
       "      <td id=\"T_3c625_row7_col8\" class=\"data row7 col8\" >1.104357</td>\n",
       "      <td id=\"T_3c625_row7_col9\" class=\"data row7 col9\" >0.706108</td>\n",
       "      <td id=\"T_3c625_row7_col10\" class=\"data row7 col10\" >0.097932</td>\n",
       "      <td id=\"T_3c625_row7_col11\" class=\"data row7 col11\" >1.215099</td>\n",
       "      <td id=\"T_3c625_row7_col12\" class=\"data row7 col12\" >2.441819</td>\n",
       "      <td id=\"T_3c625_row7_col13\" class=\"data row7 col13\" >1.543430</td>\n",
       "      <td id=\"T_3c625_row7_col14\" class=\"data row7 col14\" >1.695795</td>\n",
       "      <td id=\"T_3c625_row7_col15\" class=\"data row7 col15\" >1.542089</td>\n",
       "      <td id=\"T_3c625_row7_col16\" class=\"data row7 col16\" >0.517285</td>\n",
       "    </tr>\n",
       "    <tr>\n",
       "      <th id=\"T_3c625_level0_row8\" class=\"row_heading level0 row8\" >8Y</th>\n",
       "      <td id=\"T_3c625_row8_col0\" class=\"data row8 col0\" >2.155197</td>\n",
       "      <td id=\"T_3c625_row8_col1\" class=\"data row8 col1\" >1.713793</td>\n",
       "      <td id=\"T_3c625_row8_col2\" class=\"data row8 col2\" >1.895331</td>\n",
       "      <td id=\"T_3c625_row8_col3\" class=\"data row8 col3\" >2.123385</td>\n",
       "      <td id=\"T_3c625_row8_col4\" class=\"data row8 col4\" >1.956643</td>\n",
       "      <td id=\"T_3c625_row8_col5\" class=\"data row8 col5\" >1.685064</td>\n",
       "      <td id=\"T_3c625_row8_col6\" class=\"data row8 col6\" >0.636963</td>\n",
       "      <td id=\"T_3c625_row8_col7\" class=\"data row8 col7\" >1.228628</td>\n",
       "      <td id=\"T_3c625_row8_col8\" class=\"data row8 col8\" >1.101722</td>\n",
       "      <td id=\"T_3c625_row8_col9\" class=\"data row8 col9\" >0.379537</td>\n",
       "      <td id=\"T_3c625_row8_col10\" class=\"data row8 col10\" >1.056000</td>\n",
       "      <td id=\"T_3c625_row8_col11\" class=\"data row8 col11\" >2.241215</td>\n",
       "      <td id=\"T_3c625_row8_col12\" class=\"data row8 col12\" >2.171146</td>\n",
       "      <td id=\"T_3c625_row8_col13\" class=\"data row8 col13\" >1.278333</td>\n",
       "      <td id=\"T_3c625_row8_col14\" class=\"data row8 col14\" >1.313493</td>\n",
       "      <td id=\"T_3c625_row8_col15\" class=\"data row8 col15\" >0.768046</td>\n",
       "      <td id=\"T_3c625_row8_col16\" class=\"data row8 col16\" >0.510565</td>\n",
       "    </tr>\n",
       "    <tr>\n",
       "      <th id=\"T_3c625_level0_row9\" class=\"row_heading level0 row9\" >9Y</th>\n",
       "      <td id=\"T_3c625_row9_col0\" class=\"data row9 col0\" >2.207520</td>\n",
       "      <td id=\"T_3c625_row9_col1\" class=\"data row9 col1\" >2.066159</td>\n",
       "      <td id=\"T_3c625_row9_col2\" class=\"data row9 col2\" >2.137468</td>\n",
       "      <td id=\"T_3c625_row9_col3\" class=\"data row9 col3\" >2.200324</td>\n",
       "      <td id=\"T_3c625_row9_col4\" class=\"data row9 col4\" >2.012283</td>\n",
       "      <td id=\"T_3c625_row9_col5\" class=\"data row9 col5\" >1.658683</td>\n",
       "      <td id=\"T_3c625_row9_col6\" class=\"data row9 col6\" >0.829292</td>\n",
       "      <td id=\"T_3c625_row9_col7\" class=\"data row9 col7\" >0.677601</td>\n",
       "      <td id=\"T_3c625_row9_col8\" class=\"data row9 col8\" >0.617107</td>\n",
       "      <td id=\"T_3c625_row9_col9\" class=\"data row9 col9\" >1.369971</td>\n",
       "      <td id=\"T_3c625_row9_col10\" class=\"data row9 col10\" >1.899138</td>\n",
       "      <td id=\"T_3c625_row9_col11\" class=\"data row9 col11\" >2.218036</td>\n",
       "      <td id=\"T_3c625_row9_col12\" class=\"data row9 col12\" >1.410805</td>\n",
       "      <td id=\"T_3c625_row9_col13\" class=\"data row9 col13\" >0.725914</td>\n",
       "      <td id=\"T_3c625_row9_col14\" class=\"data row9 col14\" >0.594644</td>\n",
       "      <td id=\"T_3c625_row9_col15\" class=\"data row9 col15\" >-0.033705</td>\n",
       "      <td id=\"T_3c625_row9_col16\" class=\"data row9 col16\" >0.532837</td>\n",
       "    </tr>\n",
       "    <tr>\n",
       "      <th id=\"T_3c625_level0_row10\" class=\"row_heading level0 row10\" >10Y</th>\n",
       "      <td id=\"T_3c625_row10_col0\" class=\"data row10 col0\" >2.234608</td>\n",
       "      <td id=\"T_3c625_row10_col1\" class=\"data row10 col1\" >2.150132</td>\n",
       "      <td id=\"T_3c625_row10_col2\" class=\"data row10 col2\" >2.200763</td>\n",
       "      <td id=\"T_3c625_row10_col3\" class=\"data row10 col3\" >2.239454</td>\n",
       "      <td id=\"T_3c625_row10_col4\" class=\"data row10 col4\" >2.160178</td>\n",
       "      <td id=\"T_3c625_row10_col5\" class=\"data row10 col5\" >1.836257</td>\n",
       "      <td id=\"T_3c625_row10_col6\" class=\"data row10 col6\" >1.083198</td>\n",
       "      <td id=\"T_3c625_row10_col7\" class=\"data row10 col7\" >-0.334410</td>\n",
       "      <td id=\"T_3c625_row10_col8\" class=\"data row10 col8\" >1.532527</td>\n",
       "      <td id=\"T_3c625_row10_col9\" class=\"data row10 col9\" >1.920954</td>\n",
       "      <td id=\"T_3c625_row10_col10\" class=\"data row10 col10\" >1.870090</td>\n",
       "      <td id=\"T_3c625_row10_col11\" class=\"data row10 col11\" >2.058339</td>\n",
       "      <td id=\"T_3c625_row10_col12\" class=\"data row10 col12\" >0.448285</td>\n",
       "      <td id=\"T_3c625_row10_col13\" class=\"data row10 col13\" >0.039812</td>\n",
       "      <td id=\"T_3c625_row10_col14\" class=\"data row10 col14\" >-0.036246</td>\n",
       "      <td id=\"T_3c625_row10_col15\" class=\"data row10 col15\" >-0.550768</td>\n",
       "      <td id=\"T_3c625_row10_col16\" class=\"data row10 col16\" >0.533358</td>\n",
       "    </tr>\n",
       "    <tr>\n",
       "      <th id=\"T_3c625_level0_row11\" class=\"row_heading level0 row11\" >12Y</th>\n",
       "      <td id=\"T_3c625_row11_col0\" class=\"data row11 col0\" >2.413386</td>\n",
       "      <td id=\"T_3c625_row11_col1\" class=\"data row11 col1\" >2.215421</td>\n",
       "      <td id=\"T_3c625_row11_col2\" class=\"data row11 col2\" >2.247402</td>\n",
       "      <td id=\"T_3c625_row11_col3\" class=\"data row11 col3\" >2.270062</td>\n",
       "      <td id=\"T_3c625_row11_col4\" class=\"data row11 col4\" >2.365472</td>\n",
       "      <td id=\"T_3c625_row11_col5\" class=\"data row11 col5\" >2.087233</td>\n",
       "      <td id=\"T_3c625_row11_col6\" class=\"data row11 col6\" >1.578202</td>\n",
       "      <td id=\"T_3c625_row11_col7\" class=\"data row11 col7\" >-1.146550</td>\n",
       "      <td id=\"T_3c625_row11_col8\" class=\"data row11 col8\" >1.570374</td>\n",
       "      <td id=\"T_3c625_row11_col9\" class=\"data row11 col9\" >1.347900</td>\n",
       "      <td id=\"T_3c625_row11_col10\" class=\"data row11 col10\" >1.262315</td>\n",
       "      <td id=\"T_3c625_row11_col11\" class=\"data row11 col11\" >0.771190</td>\n",
       "      <td id=\"T_3c625_row11_col12\" class=\"data row11 col12\" >-1.015062</td>\n",
       "      <td id=\"T_3c625_row11_col13\" class=\"data row11 col13\" >-0.726422</td>\n",
       "      <td id=\"T_3c625_row11_col14\" class=\"data row11 col14\" >-0.745846</td>\n",
       "      <td id=\"T_3c625_row11_col15\" class=\"data row11 col15\" >-1.072954</td>\n",
       "      <td id=\"T_3c625_row11_col16\" class=\"data row11 col16\" >0.239933</td>\n",
       "    </tr>\n",
       "    <tr>\n",
       "      <th id=\"T_3c625_level0_row12\" class=\"row_heading level0 row12\" >15Y</th>\n",
       "      <td id=\"T_3c625_row12_col0\" class=\"data row12 col0\" >2.268561</td>\n",
       "      <td id=\"T_3c625_row12_col1\" class=\"data row12 col1\" >2.599316</td>\n",
       "      <td id=\"T_3c625_row12_col2\" class=\"data row12 col2\" >2.517577</td>\n",
       "      <td id=\"T_3c625_row12_col3\" class=\"data row12 col3\" >2.272994</td>\n",
       "      <td id=\"T_3c625_row12_col4\" class=\"data row12 col4\" >2.331495</td>\n",
       "      <td id=\"T_3c625_row12_col5\" class=\"data row12 col5\" >1.958627</td>\n",
       "      <td id=\"T_3c625_row12_col6\" class=\"data row12 col6\" >1.575353</td>\n",
       "      <td id=\"T_3c625_row12_col7\" class=\"data row12 col7\" >-2.124773</td>\n",
       "      <td id=\"T_3c625_row12_col8\" class=\"data row12 col8\" >-0.217810</td>\n",
       "      <td id=\"T_3c625_row12_col9\" class=\"data row12 col9\" >-0.123439</td>\n",
       "      <td id=\"T_3c625_row12_col10\" class=\"data row12 col10\" >-0.114805</td>\n",
       "      <td id=\"T_3c625_row12_col11\" class=\"data row12 col11\" >-0.271941</td>\n",
       "      <td id=\"T_3c625_row12_col12\" class=\"data row12 col12\" >-1.899425</td>\n",
       "      <td id=\"T_3c625_row12_col13\" class=\"data row12 col13\" >-0.857909</td>\n",
       "      <td id=\"T_3c625_row12_col14\" class=\"data row12 col14\" >-1.017105</td>\n",
       "      <td id=\"T_3c625_row12_col15\" class=\"data row12 col15\" >-1.039741</td>\n",
       "      <td id=\"T_3c625_row12_col16\" class=\"data row12 col16\" >-0.201071</td>\n",
       "    </tr>\n",
       "    <tr>\n",
       "      <th id=\"T_3c625_level0_row13\" class=\"row_heading level0 row13\" >20Y</th>\n",
       "      <td id=\"T_3c625_row13_col0\" class=\"data row13 col0\" >0.421891</td>\n",
       "      <td id=\"T_3c625_row13_col1\" class=\"data row13 col1\" >0.300399</td>\n",
       "      <td id=\"T_3c625_row13_col2\" class=\"data row13 col2\" >0.321130</td>\n",
       "      <td id=\"T_3c625_row13_col3\" class=\"data row13 col3\" >0.150228</td>\n",
       "      <td id=\"T_3c625_row13_col4\" class=\"data row13 col4\" >0.584729</td>\n",
       "      <td id=\"T_3c625_row13_col5\" class=\"data row13 col5\" >0.462983</td>\n",
       "      <td id=\"T_3c625_row13_col6\" class=\"data row13 col6\" >1.353945</td>\n",
       "      <td id=\"T_3c625_row13_col7\" class=\"data row13 col7\" >-2.548763</td>\n",
       "      <td id=\"T_3c625_row13_col8\" class=\"data row13 col8\" >-1.249355</td>\n",
       "      <td id=\"T_3c625_row13_col9\" class=\"data row13 col9\" >-0.895868</td>\n",
       "      <td id=\"T_3c625_row13_col10\" class=\"data row13 col10\" >-0.537110</td>\n",
       "      <td id=\"T_3c625_row13_col11\" class=\"data row13 col11\" >-0.723046</td>\n",
       "      <td id=\"T_3c625_row13_col12\" class=\"data row13 col12\" >-2.301854</td>\n",
       "      <td id=\"T_3c625_row13_col13\" class=\"data row13 col13\" >-1.034174</td>\n",
       "      <td id=\"T_3c625_row13_col14\" class=\"data row13 col14\" >-1.390492</td>\n",
       "      <td id=\"T_3c625_row13_col15\" class=\"data row13 col15\" >-1.450383</td>\n",
       "      <td id=\"T_3c625_row13_col16\" class=\"data row13 col16\" >-0.499744</td>\n",
       "    </tr>\n",
       "    <tr>\n",
       "      <th id=\"T_3c625_level0_row14\" class=\"row_heading level0 row14\" >25Y</th>\n",
       "      <td id=\"T_3c625_row14_col0\" class=\"data row14 col0\" >-0.891590</td>\n",
       "      <td id=\"T_3c625_row14_col1\" class=\"data row14 col1\" >-0.797305</td>\n",
       "      <td id=\"T_3c625_row14_col2\" class=\"data row14 col2\" >-0.817297</td>\n",
       "      <td id=\"T_3c625_row14_col3\" class=\"data row14 col3\" >-0.989778</td>\n",
       "      <td id=\"T_3c625_row14_col4\" class=\"data row14 col4\" >-0.618575</td>\n",
       "      <td id=\"T_3c625_row14_col5\" class=\"data row14 col5\" >-0.678515</td>\n",
       "      <td id=\"T_3c625_row14_col6\" class=\"data row14 col6\" >1.462035</td>\n",
       "      <td id=\"T_3c625_row14_col7\" class=\"data row14 col7\" >-2.721527</td>\n",
       "      <td id=\"T_3c625_row14_col8\" class=\"data row14 col8\" >-1.925334</td>\n",
       "      <td id=\"T_3c625_row14_col9\" class=\"data row14 col9\" >-1.604085</td>\n",
       "      <td id=\"T_3c625_row14_col10\" class=\"data row14 col10\" >-1.113754</td>\n",
       "      <td id=\"T_3c625_row14_col11\" class=\"data row14 col11\" >-1.051191</td>\n",
       "      <td id=\"T_3c625_row14_col12\" class=\"data row14 col12\" >-2.307093</td>\n",
       "      <td id=\"T_3c625_row14_col13\" class=\"data row14 col13\" >-1.128826</td>\n",
       "      <td id=\"T_3c625_row14_col14\" class=\"data row14 col14\" >-1.386320</td>\n",
       "      <td id=\"T_3c625_row14_col15\" class=\"data row14 col15\" >-1.515242</td>\n",
       "      <td id=\"T_3c625_row14_col16\" class=\"data row14 col16\" >-0.144110</td>\n",
       "    </tr>\n",
       "    <tr>\n",
       "      <th id=\"T_3c625_level0_row15\" class=\"row_heading level0 row15\" >30Y</th>\n",
       "      <td id=\"T_3c625_row15_col0\" class=\"data row15 col0\" >-1.520337</td>\n",
       "      <td id=\"T_3c625_row15_col1\" class=\"data row15 col1\" >-1.651097</td>\n",
       "      <td id=\"T_3c625_row15_col2\" class=\"data row15 col2\" >-1.724337</td>\n",
       "      <td id=\"T_3c625_row15_col3\" class=\"data row15 col3\" >-1.989551</td>\n",
       "      <td id=\"T_3c625_row15_col4\" class=\"data row15 col4\" >-1.690696</td>\n",
       "      <td id=\"T_3c625_row15_col5\" class=\"data row15 col5\" >-1.867176</td>\n",
       "      <td id=\"T_3c625_row15_col6\" class=\"data row15 col6\" >-0.144645</td>\n",
       "      <td id=\"T_3c625_row15_col7\" class=\"data row15 col7\" >-3.083887</td>\n",
       "      <td id=\"T_3c625_row15_col8\" class=\"data row15 col8\" >-2.235697</td>\n",
       "      <td id=\"T_3c625_row15_col9\" class=\"data row15 col9\" >-1.726487</td>\n",
       "      <td id=\"T_3c625_row15_col10\" class=\"data row15 col10\" >-1.232573</td>\n",
       "      <td id=\"T_3c625_row15_col11\" class=\"data row15 col11\" >-1.141633</td>\n",
       "      <td id=\"T_3c625_row15_col12\" class=\"data row15 col12\" >-2.014936</td>\n",
       "      <td id=\"T_3c625_row15_col13\" class=\"data row15 col13\" >-1.112947</td>\n",
       "      <td id=\"T_3c625_row15_col14\" class=\"data row15 col14\" >-1.222556</td>\n",
       "      <td id=\"T_3c625_row15_col15\" class=\"data row15 col15\" >-1.286162</td>\n",
       "      <td id=\"T_3c625_row15_col16\" class=\"data row15 col16\" >-0.111111</td>\n",
       "    </tr>\n",
       "    <tr>\n",
       "      <th id=\"T_3c625_level0_row16\" class=\"row_heading level0 row16\" >40Y</th>\n",
       "      <td id=\"T_3c625_row16_col0\" class=\"data row16 col0\" >-2.191451</td>\n",
       "      <td id=\"T_3c625_row16_col1\" class=\"data row16 col1\" >-2.221890</td>\n",
       "      <td id=\"T_3c625_row16_col2\" class=\"data row16 col2\" >-2.307358</td>\n",
       "      <td id=\"T_3c625_row16_col3\" class=\"data row16 col3\" >-2.391626</td>\n",
       "      <td id=\"T_3c625_row16_col4\" class=\"data row16 col4\" >-2.208487</td>\n",
       "      <td id=\"T_3c625_row16_col5\" class=\"data row16 col5\" >-2.104799</td>\n",
       "      <td id=\"T_3c625_row16_col6\" class=\"data row16 col6\" >-1.513592</td>\n",
       "      <td id=\"T_3c625_row16_col7\" class=\"data row16 col7\" >-2.637986</td>\n",
       "      <td id=\"T_3c625_row16_col8\" class=\"data row16 col8\" >-1.457448</td>\n",
       "      <td id=\"T_3c625_row16_col9\" class=\"data row16 col9\" >-0.880321</td>\n",
       "      <td id=\"T_3c625_row16_col10\" class=\"data row16 col10\" >-0.884858</td>\n",
       "      <td id=\"T_3c625_row16_col11\" class=\"data row16 col11\" >-0.929771</td>\n",
       "      <td id=\"T_3c625_row16_col12\" class=\"data row16 col12\" >0.048038</td>\n",
       "      <td id=\"T_3c625_row16_col13\" class=\"data row16 col13\" >0.206670</td>\n",
       "      <td id=\"T_3c625_row16_col14\" class=\"data row16 col14\" >0.435124</td>\n",
       "      <td id=\"T_3c625_row16_col15\" class=\"data row16 col15\" >1.335974</td>\n",
       "      <td id=\"T_3c625_row16_col16\" class=\"data row16 col16\" >0.017670</td>\n",
       "    </tr>\n",
       "    <tr>\n",
       "      <th id=\"T_3c625_level0_row17\" class=\"row_heading level0 row17\" >50Y</th>\n",
       "      <td id=\"T_3c625_row17_col0\" class=\"data row17 col0\" >-2.403276</td>\n",
       "      <td id=\"T_3c625_row17_col1\" class=\"data row17 col1\" >-2.286567</td>\n",
       "      <td id=\"T_3c625_row17_col2\" class=\"data row17 col2\" >-2.224216</td>\n",
       "      <td id=\"T_3c625_row17_col3\" class=\"data row17 col3\" >-2.014203</td>\n",
       "      <td id=\"T_3c625_row17_col4\" class=\"data row17 col4\" >-2.348045</td>\n",
       "      <td id=\"T_3c625_row17_col5\" class=\"data row17 col5\" >-1.897053</td>\n",
       "      <td id=\"T_3c625_row17_col6\" class=\"data row17 col6\" >-1.507397</td>\n",
       "      <td id=\"T_3c625_row17_col7\" class=\"data row17 col7\" >3.064513</td>\n",
       "      <td id=\"T_3c625_row17_col8\" class=\"data row17 col8\" >2.104150</td>\n",
       "      <td id=\"T_3c625_row17_col9\" class=\"data row17 col9\" >1.576669</td>\n",
       "      <td id=\"T_3c625_row17_col10\" class=\"data row17 col10\" >1.277317</td>\n",
       "      <td id=\"T_3c625_row17_col11\" class=\"data row17 col11\" >0.874305</td>\n",
       "      <td id=\"T_3c625_row17_col12\" class=\"data row17 col12\" >2.202261</td>\n",
       "      <td id=\"T_3c625_row17_col13\" class=\"data row17 col13\" >1.091615</td>\n",
       "      <td id=\"T_3c625_row17_col14\" class=\"data row17 col14\" >1.364381</td>\n",
       "      <td id=\"T_3c625_row17_col15\" class=\"data row17 col15\" >1.627746</td>\n",
       "      <td id=\"T_3c625_row17_col16\" class=\"data row17 col16\" >0.080266</td>\n",
       "    </tr>\n",
       "  </tbody>\n",
       "</table>\n"
      ],
      "text/plain": [
       "<pandas.io.formats.style.Styler at 0x28be822b110>"
      ]
     },
     "execution_count": 35,
     "metadata": {},
     "output_type": "execute_result"
    }
   ],
   "source": [
    "df = pca_results[\"rich_cheap_residual_zscore_timeseries_dict\"][datetime(2024, 12, 27)]\n",
    "df.style.background_gradient(cmap=\"RdYlGn\", axis=0)"
   ]
  },
  {
   "cell_type": "code",
   "execution_count": 36,
   "metadata": {},
   "outputs": [
    {
     "data": {
      "text/html": [
       "<div>\n",
       "<style scoped>\n",
       "    .dataframe tbody tr th:only-of-type {\n",
       "        vertical-align: middle;\n",
       "    }\n",
       "\n",
       "    .dataframe tbody tr th {\n",
       "        vertical-align: top;\n",
       "    }\n",
       "\n",
       "    .dataframe thead th {\n",
       "        text-align: right;\n",
       "    }\n",
       "</style>\n",
       "<table border=\"1\" class=\"dataframe\">\n",
       "  <thead>\n",
       "    <tr style=\"text-align: right;\">\n",
       "      <th></th>\n",
       "      <th>Forward</th>\n",
       "      <th>ShortWing</th>\n",
       "      <th>Belly</th>\n",
       "      <th>LongWing</th>\n",
       "      <th>ZScore-Spread</th>\n",
       "      <th>Trade</th>\n",
       "      <th>Full Tenor</th>\n",
       "    </tr>\n",
       "  </thead>\n",
       "  <tbody>\n",
       "    <tr>\n",
       "      <th>0</th>\n",
       "      <td>10Y Fwd</td>\n",
       "      <td>2Y</td>\n",
       "      <td>5Y</td>\n",
       "      <td>25Y</td>\n",
       "      <td>7.087088</td>\n",
       "      <td>rec belly</td>\n",
       "      <td>10Y Fwd 2Y-10Y Fwd 5Y-10Y Fwd 25Y</td>\n",
       "    </tr>\n",
       "    <tr>\n",
       "      <th>1</th>\n",
       "      <td>10Y Fwd</td>\n",
       "      <td>18M</td>\n",
       "      <td>5Y</td>\n",
       "      <td>25Y</td>\n",
       "      <td>7.078929</td>\n",
       "      <td>rec belly</td>\n",
       "      <td>10Y Fwd 18M-10Y Fwd 5Y-10Y Fwd 25Y</td>\n",
       "    </tr>\n",
       "    <tr>\n",
       "      <th>2</th>\n",
       "      <td>10Y Fwd</td>\n",
       "      <td>2Y</td>\n",
       "      <td>4Y</td>\n",
       "      <td>25Y</td>\n",
       "      <td>7.068432</td>\n",
       "      <td>rec belly</td>\n",
       "      <td>10Y Fwd 2Y-10Y Fwd 4Y-10Y Fwd 25Y</td>\n",
       "    </tr>\n",
       "    <tr>\n",
       "      <th>3</th>\n",
       "      <td>10Y Fwd</td>\n",
       "      <td>18M</td>\n",
       "      <td>4Y</td>\n",
       "      <td>25Y</td>\n",
       "      <td>7.060273</td>\n",
       "      <td>rec belly</td>\n",
       "      <td>10Y Fwd 18M-10Y Fwd 4Y-10Y Fwd 25Y</td>\n",
       "    </tr>\n",
       "    <tr>\n",
       "      <th>4</th>\n",
       "      <td>10Y Fwd</td>\n",
       "      <td>12M</td>\n",
       "      <td>5Y</td>\n",
       "      <td>25Y</td>\n",
       "      <td>7.054445</td>\n",
       "      <td>rec belly</td>\n",
       "      <td>10Y Fwd 12M-10Y Fwd 5Y-10Y Fwd 25Y</td>\n",
       "    </tr>\n",
       "    <tr>\n",
       "      <th>5</th>\n",
       "      <td>10Y Fwd</td>\n",
       "      <td>12M</td>\n",
       "      <td>4Y</td>\n",
       "      <td>25Y</td>\n",
       "      <td>7.035789</td>\n",
       "      <td>rec belly</td>\n",
       "      <td>10Y Fwd 12M-10Y Fwd 4Y-10Y Fwd 25Y</td>\n",
       "    </tr>\n",
       "    <tr>\n",
       "      <th>6</th>\n",
       "      <td>10Y Fwd</td>\n",
       "      <td>2Y</td>\n",
       "      <td>5Y</td>\n",
       "      <td>20Y</td>\n",
       "      <td>7.022229</td>\n",
       "      <td>rec belly</td>\n",
       "      <td>10Y Fwd 2Y-10Y Fwd 5Y-10Y Fwd 20Y</td>\n",
       "    </tr>\n",
       "    <tr>\n",
       "      <th>7</th>\n",
       "      <td>10Y Fwd</td>\n",
       "      <td>18M</td>\n",
       "      <td>5Y</td>\n",
       "      <td>20Y</td>\n",
       "      <td>7.014069</td>\n",
       "      <td>rec belly</td>\n",
       "      <td>10Y Fwd 18M-10Y Fwd 5Y-10Y Fwd 20Y</td>\n",
       "    </tr>\n",
       "    <tr>\n",
       "      <th>8</th>\n",
       "      <td>10Y Fwd</td>\n",
       "      <td>2Y</td>\n",
       "      <td>4Y</td>\n",
       "      <td>20Y</td>\n",
       "      <td>7.003572</td>\n",
       "      <td>rec belly</td>\n",
       "      <td>10Y Fwd 2Y-10Y Fwd 4Y-10Y Fwd 20Y</td>\n",
       "    </tr>\n",
       "    <tr>\n",
       "      <th>9</th>\n",
       "      <td>10Y Fwd</td>\n",
       "      <td>18M</td>\n",
       "      <td>4Y</td>\n",
       "      <td>20Y</td>\n",
       "      <td>6.995413</td>\n",
       "      <td>rec belly</td>\n",
       "      <td>10Y Fwd 18M-10Y Fwd 4Y-10Y Fwd 20Y</td>\n",
       "    </tr>\n",
       "    <tr>\n",
       "      <th>10</th>\n",
       "      <td>10Y Fwd</td>\n",
       "      <td>2Y</td>\n",
       "      <td>3Y</td>\n",
       "      <td>25Y</td>\n",
       "      <td>6.994408</td>\n",
       "      <td>rec belly</td>\n",
       "      <td>10Y Fwd 2Y-10Y Fwd 3Y-10Y Fwd 25Y</td>\n",
       "    </tr>\n",
       "    <tr>\n",
       "      <th>11</th>\n",
       "      <td>10Y Fwd</td>\n",
       "      <td>12M</td>\n",
       "      <td>5Y</td>\n",
       "      <td>20Y</td>\n",
       "      <td>6.989586</td>\n",
       "      <td>rec belly</td>\n",
       "      <td>10Y Fwd 12M-10Y Fwd 5Y-10Y Fwd 20Y</td>\n",
       "    </tr>\n",
       "    <tr>\n",
       "      <th>12</th>\n",
       "      <td>10Y Fwd</td>\n",
       "      <td>18M</td>\n",
       "      <td>3Y</td>\n",
       "      <td>25Y</td>\n",
       "      <td>6.986248</td>\n",
       "      <td>rec belly</td>\n",
       "      <td>10Y Fwd 18M-10Y Fwd 3Y-10Y Fwd 25Y</td>\n",
       "    </tr>\n",
       "    <tr>\n",
       "      <th>13</th>\n",
       "      <td>10Y Fwd</td>\n",
       "      <td>2Y</td>\n",
       "      <td>6Y</td>\n",
       "      <td>25Y</td>\n",
       "      <td>6.983801</td>\n",
       "      <td>rec belly</td>\n",
       "      <td>10Y Fwd 2Y-10Y Fwd 6Y-10Y Fwd 25Y</td>\n",
       "    </tr>\n",
       "    <tr>\n",
       "      <th>14</th>\n",
       "      <td>10Y Fwd</td>\n",
       "      <td>18M</td>\n",
       "      <td>6Y</td>\n",
       "      <td>25Y</td>\n",
       "      <td>6.975642</td>\n",
       "      <td>rec belly</td>\n",
       "      <td>10Y Fwd 18M-10Y Fwd 6Y-10Y Fwd 25Y</td>\n",
       "    </tr>\n",
       "    <tr>\n",
       "      <th>15</th>\n",
       "      <td>10Y Fwd</td>\n",
       "      <td>12M</td>\n",
       "      <td>4Y</td>\n",
       "      <td>20Y</td>\n",
       "      <td>6.970930</td>\n",
       "      <td>rec belly</td>\n",
       "      <td>10Y Fwd 12M-10Y Fwd 4Y-10Y Fwd 20Y</td>\n",
       "    </tr>\n",
       "    <tr>\n",
       "      <th>16</th>\n",
       "      <td>10Y Fwd</td>\n",
       "      <td>12M</td>\n",
       "      <td>3Y</td>\n",
       "      <td>25Y</td>\n",
       "      <td>6.961765</td>\n",
       "      <td>rec belly</td>\n",
       "      <td>10Y Fwd 12M-10Y Fwd 3Y-10Y Fwd 25Y</td>\n",
       "    </tr>\n",
       "    <tr>\n",
       "      <th>17</th>\n",
       "      <td>10Y Fwd</td>\n",
       "      <td>12M</td>\n",
       "      <td>6Y</td>\n",
       "      <td>25Y</td>\n",
       "      <td>6.951158</td>\n",
       "      <td>rec belly</td>\n",
       "      <td>10Y Fwd 12M-10Y Fwd 6Y-10Y Fwd 25Y</td>\n",
       "    </tr>\n",
       "    <tr>\n",
       "      <th>18</th>\n",
       "      <td>10Y Fwd</td>\n",
       "      <td>2Y</td>\n",
       "      <td>3Y</td>\n",
       "      <td>20Y</td>\n",
       "      <td>6.929548</td>\n",
       "      <td>rec belly</td>\n",
       "      <td>10Y Fwd 2Y-10Y Fwd 3Y-10Y Fwd 20Y</td>\n",
       "    </tr>\n",
       "    <tr>\n",
       "      <th>19</th>\n",
       "      <td>10Y Fwd</td>\n",
       "      <td>18M</td>\n",
       "      <td>3Y</td>\n",
       "      <td>20Y</td>\n",
       "      <td>6.921389</td>\n",
       "      <td>rec belly</td>\n",
       "      <td>10Y Fwd 18M-10Y Fwd 3Y-10Y Fwd 20Y</td>\n",
       "    </tr>\n",
       "    <tr>\n",
       "      <th>20</th>\n",
       "      <td>10Y Fwd</td>\n",
       "      <td>2Y</td>\n",
       "      <td>6Y</td>\n",
       "      <td>20Y</td>\n",
       "      <td>6.918942</td>\n",
       "      <td>rec belly</td>\n",
       "      <td>10Y Fwd 2Y-10Y Fwd 6Y-10Y Fwd 20Y</td>\n",
       "    </tr>\n",
       "    <tr>\n",
       "      <th>21</th>\n",
       "      <td>10Y Fwd</td>\n",
       "      <td>18M</td>\n",
       "      <td>6Y</td>\n",
       "      <td>20Y</td>\n",
       "      <td>6.910782</td>\n",
       "      <td>rec belly</td>\n",
       "      <td>10Y Fwd 18M-10Y Fwd 6Y-10Y Fwd 20Y</td>\n",
       "    </tr>\n",
       "    <tr>\n",
       "      <th>22</th>\n",
       "      <td>10Y Fwd</td>\n",
       "      <td>12M</td>\n",
       "      <td>3Y</td>\n",
       "      <td>20Y</td>\n",
       "      <td>6.896905</td>\n",
       "      <td>rec belly</td>\n",
       "      <td>10Y Fwd 12M-10Y Fwd 3Y-10Y Fwd 20Y</td>\n",
       "    </tr>\n",
       "    <tr>\n",
       "      <th>23</th>\n",
       "      <td>10Y Fwd</td>\n",
       "      <td>12M</td>\n",
       "      <td>6Y</td>\n",
       "      <td>20Y</td>\n",
       "      <td>6.886299</td>\n",
       "      <td>rec belly</td>\n",
       "      <td>10Y Fwd 12M-10Y Fwd 6Y-10Y Fwd 20Y</td>\n",
       "    </tr>\n",
       "    <tr>\n",
       "      <th>24</th>\n",
       "      <td>10Y Fwd</td>\n",
       "      <td>2Y</td>\n",
       "      <td>5Y</td>\n",
       "      <td>30Y</td>\n",
       "      <td>6.858007</td>\n",
       "      <td>rec belly</td>\n",
       "      <td>10Y Fwd 2Y-10Y Fwd 5Y-10Y Fwd 30Y</td>\n",
       "    </tr>\n",
       "  </tbody>\n",
       "</table>\n",
       "</div>"
      ],
      "text/plain": [
       "    Forward ShortWing Belly LongWing  ZScore-Spread      Trade  \\\n",
       "0   10Y Fwd        2Y    5Y      25Y       7.087088  rec belly   \n",
       "1   10Y Fwd       18M    5Y      25Y       7.078929  rec belly   \n",
       "2   10Y Fwd        2Y    4Y      25Y       7.068432  rec belly   \n",
       "3   10Y Fwd       18M    4Y      25Y       7.060273  rec belly   \n",
       "4   10Y Fwd       12M    5Y      25Y       7.054445  rec belly   \n",
       "5   10Y Fwd       12M    4Y      25Y       7.035789  rec belly   \n",
       "6   10Y Fwd        2Y    5Y      20Y       7.022229  rec belly   \n",
       "7   10Y Fwd       18M    5Y      20Y       7.014069  rec belly   \n",
       "8   10Y Fwd        2Y    4Y      20Y       7.003572  rec belly   \n",
       "9   10Y Fwd       18M    4Y      20Y       6.995413  rec belly   \n",
       "10  10Y Fwd        2Y    3Y      25Y       6.994408  rec belly   \n",
       "11  10Y Fwd       12M    5Y      20Y       6.989586  rec belly   \n",
       "12  10Y Fwd       18M    3Y      25Y       6.986248  rec belly   \n",
       "13  10Y Fwd        2Y    6Y      25Y       6.983801  rec belly   \n",
       "14  10Y Fwd       18M    6Y      25Y       6.975642  rec belly   \n",
       "15  10Y Fwd       12M    4Y      20Y       6.970930  rec belly   \n",
       "16  10Y Fwd       12M    3Y      25Y       6.961765  rec belly   \n",
       "17  10Y Fwd       12M    6Y      25Y       6.951158  rec belly   \n",
       "18  10Y Fwd        2Y    3Y      20Y       6.929548  rec belly   \n",
       "19  10Y Fwd       18M    3Y      20Y       6.921389  rec belly   \n",
       "20  10Y Fwd        2Y    6Y      20Y       6.918942  rec belly   \n",
       "21  10Y Fwd       18M    6Y      20Y       6.910782  rec belly   \n",
       "22  10Y Fwd       12M    3Y      20Y       6.896905  rec belly   \n",
       "23  10Y Fwd       12M    6Y      20Y       6.886299  rec belly   \n",
       "24  10Y Fwd        2Y    5Y      30Y       6.858007  rec belly   \n",
       "\n",
       "                            Full Tenor  \n",
       "0    10Y Fwd 2Y-10Y Fwd 5Y-10Y Fwd 25Y  \n",
       "1   10Y Fwd 18M-10Y Fwd 5Y-10Y Fwd 25Y  \n",
       "2    10Y Fwd 2Y-10Y Fwd 4Y-10Y Fwd 25Y  \n",
       "3   10Y Fwd 18M-10Y Fwd 4Y-10Y Fwd 25Y  \n",
       "4   10Y Fwd 12M-10Y Fwd 5Y-10Y Fwd 25Y  \n",
       "5   10Y Fwd 12M-10Y Fwd 4Y-10Y Fwd 25Y  \n",
       "6    10Y Fwd 2Y-10Y Fwd 5Y-10Y Fwd 20Y  \n",
       "7   10Y Fwd 18M-10Y Fwd 5Y-10Y Fwd 20Y  \n",
       "8    10Y Fwd 2Y-10Y Fwd 4Y-10Y Fwd 20Y  \n",
       "9   10Y Fwd 18M-10Y Fwd 4Y-10Y Fwd 20Y  \n",
       "10   10Y Fwd 2Y-10Y Fwd 3Y-10Y Fwd 25Y  \n",
       "11  10Y Fwd 12M-10Y Fwd 5Y-10Y Fwd 20Y  \n",
       "12  10Y Fwd 18M-10Y Fwd 3Y-10Y Fwd 25Y  \n",
       "13   10Y Fwd 2Y-10Y Fwd 6Y-10Y Fwd 25Y  \n",
       "14  10Y Fwd 18M-10Y Fwd 6Y-10Y Fwd 25Y  \n",
       "15  10Y Fwd 12M-10Y Fwd 4Y-10Y Fwd 20Y  \n",
       "16  10Y Fwd 12M-10Y Fwd 3Y-10Y Fwd 25Y  \n",
       "17  10Y Fwd 12M-10Y Fwd 6Y-10Y Fwd 25Y  \n",
       "18   10Y Fwd 2Y-10Y Fwd 3Y-10Y Fwd 20Y  \n",
       "19  10Y Fwd 18M-10Y Fwd 3Y-10Y Fwd 20Y  \n",
       "20   10Y Fwd 2Y-10Y Fwd 6Y-10Y Fwd 20Y  \n",
       "21  10Y Fwd 18M-10Y Fwd 6Y-10Y Fwd 20Y  \n",
       "22  10Y Fwd 12M-10Y Fwd 3Y-10Y Fwd 20Y  \n",
       "23  10Y Fwd 12M-10Y Fwd 6Y-10Y Fwd 20Y  \n",
       "24   10Y Fwd 2Y-10Y Fwd 5Y-10Y Fwd 30Y  "
      ]
     },
     "metadata": {},
     "output_type": "display_data"
    }
   ],
   "source": [
    "most_mispriced_dict = sofr_ois.most_mispriced_pca_resid_zscores(df, top_n=25, exclusive_tenors={\"Forward\": [\"9Y Fwd\", \"10Y Fwd\", \"15Y Fwd\"]})\n",
    "# display(most_mispriced_dict[\"curve\"])\n",
    "display(most_mispriced_dict[\"fly\"])"
   ]
  },
  {
   "cell_type": "code",
   "execution_count": 15,
   "metadata": {},
   "outputs": [
    {
     "name": "stderr",
     "output_type": "stream",
     "text": [
      "PLOTTING PCA RESIDUAL ZSCORES: 100%|██████████| 248/248 [00:00<00:00, 392.61it/s]\n"
     ]
    },
    {
     "data": {
      "application/vnd.plotly.v1+json": {
       "config": {
        "modeBarButtonsToAdd": [
         "drawline",
         "drawopenpath",
         "drawclosedpath",
         "drawcircle",
         "drawrect",
         "eraseshape"
        ],
        "plotlyServerURL": "https://plot.ly"
       },
       "data": [
        {
         "mode": "lines",
         "name": "10Y Fwd 2Y-10Y Fwd 5Y-10Y Fwd 25Y",
         "type": "scatter",
         "x": [
          "2024-01-02T00:00:00",
          "2024-01-03T00:00:00",
          "2024-01-04T00:00:00",
          "2024-01-05T00:00:00",
          "2024-01-08T00:00:00",
          "2024-01-09T00:00:00",
          "2024-01-10T00:00:00",
          "2024-01-11T00:00:00",
          "2024-01-12T00:00:00",
          "2024-01-16T00:00:00",
          "2024-01-17T00:00:00",
          "2024-01-18T00:00:00",
          "2024-01-19T00:00:00",
          "2024-01-22T00:00:00",
          "2024-01-23T00:00:00",
          "2024-01-24T00:00:00",
          "2024-01-25T00:00:00",
          "2024-01-26T00:00:00",
          "2024-01-29T00:00:00",
          "2024-01-30T00:00:00",
          "2024-01-31T00:00:00",
          "2024-02-01T00:00:00",
          "2024-02-02T00:00:00",
          "2024-02-05T00:00:00",
          "2024-02-06T00:00:00",
          "2024-02-07T00:00:00",
          "2024-02-08T00:00:00",
          "2024-02-09T00:00:00",
          "2024-02-12T00:00:00",
          "2024-02-13T00:00:00",
          "2024-02-14T00:00:00",
          "2024-02-15T00:00:00",
          "2024-02-16T00:00:00",
          "2024-02-20T00:00:00",
          "2024-02-21T00:00:00",
          "2024-02-22T00:00:00",
          "2024-02-23T00:00:00",
          "2024-02-26T00:00:00",
          "2024-02-27T00:00:00",
          "2024-02-28T00:00:00",
          "2024-02-29T00:00:00",
          "2024-03-01T00:00:00",
          "2024-03-04T00:00:00",
          "2024-03-05T00:00:00",
          "2024-03-06T00:00:00",
          "2024-03-07T00:00:00",
          "2024-03-08T00:00:00",
          "2024-03-11T00:00:00",
          "2024-03-12T00:00:00",
          "2024-03-13T00:00:00",
          "2024-03-14T00:00:00",
          "2024-03-15T00:00:00",
          "2024-03-18T00:00:00",
          "2024-03-19T00:00:00",
          "2024-03-20T00:00:00",
          "2024-03-21T00:00:00",
          "2024-03-22T00:00:00",
          "2024-03-25T00:00:00",
          "2024-03-26T00:00:00",
          "2024-03-27T00:00:00",
          "2024-03-28T00:00:00",
          "2024-04-01T00:00:00",
          "2024-04-02T00:00:00",
          "2024-04-03T00:00:00",
          "2024-04-04T00:00:00",
          "2024-04-05T00:00:00",
          "2024-04-08T00:00:00",
          "2024-04-09T00:00:00",
          "2024-04-10T00:00:00",
          "2024-04-11T00:00:00",
          "2024-04-12T00:00:00",
          "2024-04-15T00:00:00",
          "2024-04-16T00:00:00",
          "2024-04-17T00:00:00",
          "2024-04-18T00:00:00",
          "2024-04-19T00:00:00",
          "2024-04-22T00:00:00",
          "2024-04-23T00:00:00",
          "2024-04-24T00:00:00",
          "2024-04-25T00:00:00",
          "2024-04-26T00:00:00",
          "2024-04-29T00:00:00",
          "2024-04-30T00:00:00",
          "2024-05-01T00:00:00",
          "2024-05-02T00:00:00",
          "2024-05-03T00:00:00",
          "2024-05-06T00:00:00",
          "2024-05-07T00:00:00",
          "2024-05-08T00:00:00",
          "2024-05-09T00:00:00",
          "2024-05-10T00:00:00",
          "2024-05-13T00:00:00",
          "2024-05-14T00:00:00",
          "2024-05-15T00:00:00",
          "2024-05-16T00:00:00",
          "2024-05-17T00:00:00",
          "2024-05-20T00:00:00",
          "2024-05-21T00:00:00",
          "2024-05-22T00:00:00",
          "2024-05-23T00:00:00",
          "2024-05-24T00:00:00",
          "2024-05-28T00:00:00",
          "2024-05-29T00:00:00",
          "2024-05-30T00:00:00",
          "2024-05-31T00:00:00",
          "2024-06-03T00:00:00",
          "2024-06-04T00:00:00",
          "2024-06-05T00:00:00",
          "2024-06-06T00:00:00",
          "2024-06-07T00:00:00",
          "2024-06-10T00:00:00",
          "2024-06-11T00:00:00",
          "2024-06-12T00:00:00",
          "2024-06-13T00:00:00",
          "2024-06-14T00:00:00",
          "2024-06-17T00:00:00",
          "2024-06-18T00:00:00",
          "2024-06-20T00:00:00",
          "2024-06-21T00:00:00",
          "2024-06-24T00:00:00",
          "2024-06-25T00:00:00",
          "2024-06-26T00:00:00",
          "2024-06-27T00:00:00",
          "2024-06-28T00:00:00",
          "2024-07-01T00:00:00",
          "2024-07-02T00:00:00",
          "2024-07-03T00:00:00",
          "2024-07-05T00:00:00",
          "2024-07-08T00:00:00",
          "2024-07-09T00:00:00",
          "2024-07-10T00:00:00",
          "2024-07-11T00:00:00",
          "2024-07-12T00:00:00",
          "2024-07-15T00:00:00",
          "2024-07-16T00:00:00",
          "2024-07-17T00:00:00",
          "2024-07-18T00:00:00",
          "2024-07-19T00:00:00",
          "2024-07-22T00:00:00",
          "2024-07-23T00:00:00",
          "2024-07-24T00:00:00",
          "2024-07-25T00:00:00",
          "2024-07-26T00:00:00",
          "2024-07-29T00:00:00",
          "2024-07-30T00:00:00",
          "2024-07-31T00:00:00",
          "2024-08-01T00:00:00",
          "2024-08-02T00:00:00",
          "2024-08-05T00:00:00",
          "2024-08-06T00:00:00",
          "2024-08-07T00:00:00",
          "2024-08-08T00:00:00",
          "2024-08-09T00:00:00",
          "2024-08-12T00:00:00",
          "2024-08-13T00:00:00",
          "2024-08-14T00:00:00",
          "2024-08-15T00:00:00",
          "2024-08-16T00:00:00",
          "2024-08-19T00:00:00",
          "2024-08-20T00:00:00",
          "2024-08-21T00:00:00",
          "2024-08-22T00:00:00",
          "2024-08-23T00:00:00",
          "2024-08-26T00:00:00",
          "2024-08-27T00:00:00",
          "2024-08-28T00:00:00",
          "2024-08-29T00:00:00",
          "2024-08-30T00:00:00",
          "2024-09-03T00:00:00",
          "2024-09-04T00:00:00",
          "2024-09-05T00:00:00",
          "2024-09-06T00:00:00",
          "2024-09-09T00:00:00",
          "2024-09-10T00:00:00",
          "2024-09-11T00:00:00",
          "2024-09-12T00:00:00",
          "2024-09-13T00:00:00",
          "2024-09-16T00:00:00",
          "2024-09-17T00:00:00",
          "2024-09-18T00:00:00",
          "2024-09-19T00:00:00",
          "2024-09-20T00:00:00",
          "2024-09-23T00:00:00",
          "2024-09-24T00:00:00",
          "2024-09-25T00:00:00",
          "2024-09-26T00:00:00",
          "2024-09-27T00:00:00",
          "2024-09-30T00:00:00",
          "2024-10-01T00:00:00",
          "2024-10-02T00:00:00",
          "2024-10-03T00:00:00",
          "2024-10-04T00:00:00",
          "2024-10-07T00:00:00",
          "2024-10-08T00:00:00",
          "2024-10-09T00:00:00",
          "2024-10-10T00:00:00",
          "2024-10-11T00:00:00",
          "2024-10-15T00:00:00",
          "2024-10-16T00:00:00",
          "2024-10-17T00:00:00",
          "2024-10-18T00:00:00",
          "2024-10-21T00:00:00",
          "2024-10-22T00:00:00",
          "2024-10-23T00:00:00",
          "2024-10-24T00:00:00",
          "2024-10-25T00:00:00",
          "2024-10-28T00:00:00",
          "2024-10-29T00:00:00",
          "2024-10-30T00:00:00",
          "2024-10-31T00:00:00",
          "2024-11-01T00:00:00",
          "2024-11-04T00:00:00",
          "2024-11-05T00:00:00",
          "2024-11-06T00:00:00",
          "2024-11-07T00:00:00",
          "2024-11-08T00:00:00",
          "2024-11-12T00:00:00",
          "2024-11-13T00:00:00",
          "2024-11-14T00:00:00",
          "2024-11-15T00:00:00",
          "2024-11-18T00:00:00",
          "2024-11-19T00:00:00",
          "2024-11-20T00:00:00",
          "2024-11-21T00:00:00",
          "2024-11-22T00:00:00",
          "2024-11-25T00:00:00",
          "2024-11-26T00:00:00",
          "2024-11-27T00:00:00",
          "2024-11-29T00:00:00",
          "2024-12-02T00:00:00",
          "2024-12-03T00:00:00",
          "2024-12-04T00:00:00",
          "2024-12-05T00:00:00",
          "2024-12-06T00:00:00",
          "2024-12-09T00:00:00",
          "2024-12-10T00:00:00",
          "2024-12-11T00:00:00",
          "2024-12-12T00:00:00",
          "2024-12-13T00:00:00",
          "2024-12-16T00:00:00",
          "2024-12-17T00:00:00",
          "2024-12-18T00:00:00",
          "2024-12-19T00:00:00",
          "2024-12-20T00:00:00",
          "2024-12-23T00:00:00",
          "2024-12-24T00:00:00",
          "2024-12-26T00:00:00",
          "2024-12-27T00:00:00"
         ],
         "y": [
          619.4582658090582,
          313.5051655683432,
          71.39806667232386,
          257.72466658333946,
          211.69647388012754,
          225.75513918147215,
          165.4192050224115,
          204.90978773038825,
          -319.2860069537896,
          -580.2934195148008,
          -256.1256190386565,
          -668.7398674231023,
          -132.60299236602776,
          -177.8616572136503,
          -195.19177031508949,
          -177.01032778737198,
          -615.6075853946337,
          -153.27196098042467,
          -505.7632549806717,
          12.581935145430007,
          -234.59626947453472,
          -3.01511769373968,
          120.12358622164348,
          -462.1149985560546,
          21.52889362907392,
          54.85446541736453,
          51.7523977573264,
          -289.86630898828327,
          -296.23693551745197,
          233.27592137295818,
          -89.87500283489199,
          -61.93416112623127,
          91.81598509790507,
          60.02778995169993,
          -152.95248118436848,
          147.33362341827996,
          380.3331650055797,
          353.3376028899613,
          67.51367682957752,
          127.77149562969751,
          262.0002498115646,
          191.27306489013606,
          336.35908528408754,
          403.7557581323014,
          505.28048785514716,
          139.70543783445976,
          -128.13736252246622,
          -205.76519776511103,
          -61.747138389915676,
          -71.67818151150034,
          375.16075744716375,
          241.74222688549438,
          -140.14876496732697,
          301.26546568951915,
          -283.37956411126277,
          -331.9416306891929,
          -370.74481758147,
          -435.9343111158635,
          -409.5731450703304,
          -253.38996484659063,
          -286.0847100825926,
          -193.32952086359893,
          -170.35285679450928,
          -417.42836949555954,
          -493.83968969267016,
          -342.87419102170827,
          -323.0619794699902,
          121.15052143530352,
          231.42445390812614,
          81.37951139258048,
          742.1719178013878,
          514.3303368121663,
          302.74144391107995,
          604.0565218305799,
          976.7572897816947,
          650.1798697068293,
          235.06868444112925,
          136.93881622750484,
          486.6773554885552,
          696.3084151880489,
          617.8445113468465,
          195.6300165900392,
          115.55928290299077,
          638.2990285688613,
          -254.7866003870073,
          -47.16591691759659,
          50.216130218016374,
          -160.71487712583422,
          -310.6654133210073,
          -441.939486493904,
          -29.770672729603977,
          -164.08801113816364,
          82.13879840325262,
          -365.44053303925017,
          -59.93105906366021,
          -92.60096807789841,
          -528.7464881098462,
          -488.23364935407267,
          -551.8976379696146,
          -565.0018754273804,
          79.94290460531654,
          -786.2019244015316,
          -639.1724684546574,
          -198.1295769878789,
          -305.7892203488313,
          -567.7851644470496,
          -72.73519613873218,
          -540.4294924140522,
          31.37337527536166,
          -411.0543153412216,
          -405.9806888918048,
          -7.816379953285557,
          -671.5745752480327,
          -268.88054790156406,
          -109.45214303453437,
          -53.48477128046129,
          495.13461238767366,
          -112.42001452256743,
          -96.41426193485309,
          248.0245106313673,
          199.54337796639717,
          291.09816821071854,
          233.49447592166612,
          -304.2058613694984,
          -87.73424076372036,
          -220.11420750661102,
          -135.62077734776926,
          -250.16774982104505,
          -267.3404458347855,
          -199.5079377917693,
          -422.1614992848193,
          17.485401819710198,
          -50.84891913140609,
          -350.344405654665,
          -212.73683101980544,
          -233.0444093738599,
          -333.14392123337433,
          -350.1310128450398,
          -336.49581804180934,
          -479.76736489317375,
          -592.9642379136889,
          -413.9426771822615,
          -360.64196580800564,
          -334.11644192592576,
          -252.56930242689305,
          -185.95744566124495,
          -711.2062139765969,
          -410.1506593771336,
          -23.95936603709367,
          17.952323149109304,
          -51.32547247902546,
          -75.01613106214262,
          -33.07261397854761,
          -0.43376508376623546,
          -90.97733295191588,
          96.93804439037544,
          350.7756069370062,
          450.041158525859,
          560.43848454071,
          630.2110411724344,
          286.1041648002942,
          80.782801463681,
          17.705461219625487,
          221.58298253792682,
          136.2316890838053,
          138.60054664795848,
          45.0250339103001,
          12.713514919167629,
          103.64220685344145,
          191.73746377529864,
          297.52293857599244,
          274.6794337290117,
          146.9683849995096,
          292.5848385503771,
          206.2361094291659,
          32.88900140714093,
          284.07892586776626,
          189.40399522889243,
          34.12233212877,
          49.61179633663259,
          -225.42281036998412,
          -274.0635771687675,
          -160.63520092752972,
          -272.0859721024125,
          -175.41292480295607,
          -262.4452893982175,
          -240.11274865973922,
          -346.7777437934396,
          -321.7705715798533,
          -371.47413030260674,
          -385.43661309488976,
          -365.3811098793699,
          -234.69131590126042,
          -454.4484350082262,
          -264.54793098628534,
          -485.67548787906674,
          -655.7253516075635,
          -597.2969410752266,
          -541.1179117383803,
          -703.0720204750133,
          -696.8102203153799,
          -709.8807253793783,
          -607.5884178913146,
          -466.8426119786122,
          -227.25686433087375,
          -354.3881763954583,
          -277.58005583127476,
          -266.45410532075346,
          114.49086039889387,
          596.9041292454131,
          570.1237276283123,
          703.8538255223957,
          206.94451981646677,
          720.8132446137364,
          383.84322474337364,
          401.0597845511713,
          -7.194554371555613,
          292.328181652654,
          -147.3682547185864,
          367.6316089725203,
          418.6538320143999,
          551.836167109011,
          559.3913040320109,
          437.1984262792296,
          581.698921640949,
          680.1963364268621,
          559.1527726612693,
          696.3174068407698,
          610.6080727996524,
          731.9549026276677,
          648.7025666342591,
          1052.341815299685,
          1014.1716623590133,
          623.2359605341424,
          481.9261660428019,
          514.3053603679833,
          369.64879557446517,
          91.87708111708814,
          180.78203384677838,
          105.40655645118042,
          475.79730321464143,
          -171.06399719721566,
          193.05880997579328,
          1120.2287163657452,
          -2.4877319045918,
          210.3312830808507,
          -105.46411832984022,
          708.708796245875
         ]
        }
       ],
       "layout": {
        "font": {
         "size": 11
        },
        "height": 750,
        "legend": {
         "orientation": "h",
         "title": {
          "text": "Tenors"
         },
         "x": 1,
         "xanchor": "right",
         "y": 1.02,
         "yanchor": "bottom"
        },
        "template": {
         "data": {
          "bar": [
           {
            "error_x": {
             "color": "#f2f5fa"
            },
            "error_y": {
             "color": "#f2f5fa"
            },
            "marker": {
             "line": {
              "color": "rgb(17,17,17)",
              "width": 0.5
             },
             "pattern": {
              "fillmode": "overlay",
              "size": 10,
              "solidity": 0.2
             }
            },
            "type": "bar"
           }
          ],
          "barpolar": [
           {
            "marker": {
             "line": {
              "color": "rgb(17,17,17)",
              "width": 0.5
             },
             "pattern": {
              "fillmode": "overlay",
              "size": 10,
              "solidity": 0.2
             }
            },
            "type": "barpolar"
           }
          ],
          "carpet": [
           {
            "aaxis": {
             "endlinecolor": "#A2B1C6",
             "gridcolor": "#506784",
             "linecolor": "#506784",
             "minorgridcolor": "#506784",
             "startlinecolor": "#A2B1C6"
            },
            "baxis": {
             "endlinecolor": "#A2B1C6",
             "gridcolor": "#506784",
             "linecolor": "#506784",
             "minorgridcolor": "#506784",
             "startlinecolor": "#A2B1C6"
            },
            "type": "carpet"
           }
          ],
          "choropleth": [
           {
            "colorbar": {
             "outlinewidth": 0,
             "ticks": ""
            },
            "type": "choropleth"
           }
          ],
          "contour": [
           {
            "colorbar": {
             "outlinewidth": 0,
             "ticks": ""
            },
            "colorscale": [
             [
              0,
              "#0d0887"
             ],
             [
              0.1111111111111111,
              "#46039f"
             ],
             [
              0.2222222222222222,
              "#7201a8"
             ],
             [
              0.3333333333333333,
              "#9c179e"
             ],
             [
              0.4444444444444444,
              "#bd3786"
             ],
             [
              0.5555555555555556,
              "#d8576b"
             ],
             [
              0.6666666666666666,
              "#ed7953"
             ],
             [
              0.7777777777777778,
              "#fb9f3a"
             ],
             [
              0.8888888888888888,
              "#fdca26"
             ],
             [
              1,
              "#f0f921"
             ]
            ],
            "type": "contour"
           }
          ],
          "contourcarpet": [
           {
            "colorbar": {
             "outlinewidth": 0,
             "ticks": ""
            },
            "type": "contourcarpet"
           }
          ],
          "heatmap": [
           {
            "colorbar": {
             "outlinewidth": 0,
             "ticks": ""
            },
            "colorscale": [
             [
              0,
              "#0d0887"
             ],
             [
              0.1111111111111111,
              "#46039f"
             ],
             [
              0.2222222222222222,
              "#7201a8"
             ],
             [
              0.3333333333333333,
              "#9c179e"
             ],
             [
              0.4444444444444444,
              "#bd3786"
             ],
             [
              0.5555555555555556,
              "#d8576b"
             ],
             [
              0.6666666666666666,
              "#ed7953"
             ],
             [
              0.7777777777777778,
              "#fb9f3a"
             ],
             [
              0.8888888888888888,
              "#fdca26"
             ],
             [
              1,
              "#f0f921"
             ]
            ],
            "type": "heatmap"
           }
          ],
          "heatmapgl": [
           {
            "colorbar": {
             "outlinewidth": 0,
             "ticks": ""
            },
            "colorscale": [
             [
              0,
              "#0d0887"
             ],
             [
              0.1111111111111111,
              "#46039f"
             ],
             [
              0.2222222222222222,
              "#7201a8"
             ],
             [
              0.3333333333333333,
              "#9c179e"
             ],
             [
              0.4444444444444444,
              "#bd3786"
             ],
             [
              0.5555555555555556,
              "#d8576b"
             ],
             [
              0.6666666666666666,
              "#ed7953"
             ],
             [
              0.7777777777777778,
              "#fb9f3a"
             ],
             [
              0.8888888888888888,
              "#fdca26"
             ],
             [
              1,
              "#f0f921"
             ]
            ],
            "type": "heatmapgl"
           }
          ],
          "histogram": [
           {
            "marker": {
             "pattern": {
              "fillmode": "overlay",
              "size": 10,
              "solidity": 0.2
             }
            },
            "type": "histogram"
           }
          ],
          "histogram2d": [
           {
            "colorbar": {
             "outlinewidth": 0,
             "ticks": ""
            },
            "colorscale": [
             [
              0,
              "#0d0887"
             ],
             [
              0.1111111111111111,
              "#46039f"
             ],
             [
              0.2222222222222222,
              "#7201a8"
             ],
             [
              0.3333333333333333,
              "#9c179e"
             ],
             [
              0.4444444444444444,
              "#bd3786"
             ],
             [
              0.5555555555555556,
              "#d8576b"
             ],
             [
              0.6666666666666666,
              "#ed7953"
             ],
             [
              0.7777777777777778,
              "#fb9f3a"
             ],
             [
              0.8888888888888888,
              "#fdca26"
             ],
             [
              1,
              "#f0f921"
             ]
            ],
            "type": "histogram2d"
           }
          ],
          "histogram2dcontour": [
           {
            "colorbar": {
             "outlinewidth": 0,
             "ticks": ""
            },
            "colorscale": [
             [
              0,
              "#0d0887"
             ],
             [
              0.1111111111111111,
              "#46039f"
             ],
             [
              0.2222222222222222,
              "#7201a8"
             ],
             [
              0.3333333333333333,
              "#9c179e"
             ],
             [
              0.4444444444444444,
              "#bd3786"
             ],
             [
              0.5555555555555556,
              "#d8576b"
             ],
             [
              0.6666666666666666,
              "#ed7953"
             ],
             [
              0.7777777777777778,
              "#fb9f3a"
             ],
             [
              0.8888888888888888,
              "#fdca26"
             ],
             [
              1,
              "#f0f921"
             ]
            ],
            "type": "histogram2dcontour"
           }
          ],
          "mesh3d": [
           {
            "colorbar": {
             "outlinewidth": 0,
             "ticks": ""
            },
            "type": "mesh3d"
           }
          ],
          "parcoords": [
           {
            "line": {
             "colorbar": {
              "outlinewidth": 0,
              "ticks": ""
             }
            },
            "type": "parcoords"
           }
          ],
          "pie": [
           {
            "automargin": true,
            "type": "pie"
           }
          ],
          "scatter": [
           {
            "marker": {
             "line": {
              "color": "#283442"
             }
            },
            "type": "scatter"
           }
          ],
          "scatter3d": [
           {
            "line": {
             "colorbar": {
              "outlinewidth": 0,
              "ticks": ""
             }
            },
            "marker": {
             "colorbar": {
              "outlinewidth": 0,
              "ticks": ""
             }
            },
            "type": "scatter3d"
           }
          ],
          "scattercarpet": [
           {
            "marker": {
             "colorbar": {
              "outlinewidth": 0,
              "ticks": ""
             }
            },
            "type": "scattercarpet"
           }
          ],
          "scattergeo": [
           {
            "marker": {
             "colorbar": {
              "outlinewidth": 0,
              "ticks": ""
             }
            },
            "type": "scattergeo"
           }
          ],
          "scattergl": [
           {
            "marker": {
             "line": {
              "color": "#283442"
             }
            },
            "type": "scattergl"
           }
          ],
          "scattermapbox": [
           {
            "marker": {
             "colorbar": {
              "outlinewidth": 0,
              "ticks": ""
             }
            },
            "type": "scattermapbox"
           }
          ],
          "scatterpolar": [
           {
            "marker": {
             "colorbar": {
              "outlinewidth": 0,
              "ticks": ""
             }
            },
            "type": "scatterpolar"
           }
          ],
          "scatterpolargl": [
           {
            "marker": {
             "colorbar": {
              "outlinewidth": 0,
              "ticks": ""
             }
            },
            "type": "scatterpolargl"
           }
          ],
          "scatterternary": [
           {
            "marker": {
             "colorbar": {
              "outlinewidth": 0,
              "ticks": ""
             }
            },
            "type": "scatterternary"
           }
          ],
          "surface": [
           {
            "colorbar": {
             "outlinewidth": 0,
             "ticks": ""
            },
            "colorscale": [
             [
              0,
              "#0d0887"
             ],
             [
              0.1111111111111111,
              "#46039f"
             ],
             [
              0.2222222222222222,
              "#7201a8"
             ],
             [
              0.3333333333333333,
              "#9c179e"
             ],
             [
              0.4444444444444444,
              "#bd3786"
             ],
             [
              0.5555555555555556,
              "#d8576b"
             ],
             [
              0.6666666666666666,
              "#ed7953"
             ],
             [
              0.7777777777777778,
              "#fb9f3a"
             ],
             [
              0.8888888888888888,
              "#fdca26"
             ],
             [
              1,
              "#f0f921"
             ]
            ],
            "type": "surface"
           }
          ],
          "table": [
           {
            "cells": {
             "fill": {
              "color": "#506784"
             },
             "line": {
              "color": "rgb(17,17,17)"
             }
            },
            "header": {
             "fill": {
              "color": "#2a3f5f"
             },
             "line": {
              "color": "rgb(17,17,17)"
             }
            },
            "type": "table"
           }
          ]
         },
         "layout": {
          "annotationdefaults": {
           "arrowcolor": "#f2f5fa",
           "arrowhead": 0,
           "arrowwidth": 1
          },
          "autotypenumbers": "strict",
          "coloraxis": {
           "colorbar": {
            "outlinewidth": 0,
            "ticks": ""
           }
          },
          "colorscale": {
           "diverging": [
            [
             0,
             "#8e0152"
            ],
            [
             0.1,
             "#c51b7d"
            ],
            [
             0.2,
             "#de77ae"
            ],
            [
             0.3,
             "#f1b6da"
            ],
            [
             0.4,
             "#fde0ef"
            ],
            [
             0.5,
             "#f7f7f7"
            ],
            [
             0.6,
             "#e6f5d0"
            ],
            [
             0.7,
             "#b8e186"
            ],
            [
             0.8,
             "#7fbc41"
            ],
            [
             0.9,
             "#4d9221"
            ],
            [
             1,
             "#276419"
            ]
           ],
           "sequential": [
            [
             0,
             "#0d0887"
            ],
            [
             0.1111111111111111,
             "#46039f"
            ],
            [
             0.2222222222222222,
             "#7201a8"
            ],
            [
             0.3333333333333333,
             "#9c179e"
            ],
            [
             0.4444444444444444,
             "#bd3786"
            ],
            [
             0.5555555555555556,
             "#d8576b"
            ],
            [
             0.6666666666666666,
             "#ed7953"
            ],
            [
             0.7777777777777778,
             "#fb9f3a"
            ],
            [
             0.8888888888888888,
             "#fdca26"
            ],
            [
             1,
             "#f0f921"
            ]
           ],
           "sequentialminus": [
            [
             0,
             "#0d0887"
            ],
            [
             0.1111111111111111,
             "#46039f"
            ],
            [
             0.2222222222222222,
             "#7201a8"
            ],
            [
             0.3333333333333333,
             "#9c179e"
            ],
            [
             0.4444444444444444,
             "#bd3786"
            ],
            [
             0.5555555555555556,
             "#d8576b"
            ],
            [
             0.6666666666666666,
             "#ed7953"
            ],
            [
             0.7777777777777778,
             "#fb9f3a"
            ],
            [
             0.8888888888888888,
             "#fdca26"
            ],
            [
             1,
             "#f0f921"
            ]
           ]
          },
          "colorway": [
           "#636efa",
           "#EF553B",
           "#00cc96",
           "#ab63fa",
           "#FFA15A",
           "#19d3f3",
           "#FF6692",
           "#B6E880",
           "#FF97FF",
           "#FECB52"
          ],
          "font": {
           "color": "#f2f5fa"
          },
          "geo": {
           "bgcolor": "rgb(17,17,17)",
           "lakecolor": "rgb(17,17,17)",
           "landcolor": "rgb(17,17,17)",
           "showlakes": true,
           "showland": true,
           "subunitcolor": "#506784"
          },
          "hoverlabel": {
           "align": "left"
          },
          "hovermode": "closest",
          "mapbox": {
           "style": "dark"
          },
          "paper_bgcolor": "rgb(17,17,17)",
          "plot_bgcolor": "rgb(17,17,17)",
          "polar": {
           "angularaxis": {
            "gridcolor": "#506784",
            "linecolor": "#506784",
            "ticks": ""
           },
           "bgcolor": "rgb(17,17,17)",
           "radialaxis": {
            "gridcolor": "#506784",
            "linecolor": "#506784",
            "ticks": ""
           }
          },
          "scene": {
           "xaxis": {
            "backgroundcolor": "rgb(17,17,17)",
            "gridcolor": "#506784",
            "gridwidth": 2,
            "linecolor": "#506784",
            "showbackground": true,
            "ticks": "",
            "zerolinecolor": "#C8D4E3"
           },
           "yaxis": {
            "backgroundcolor": "rgb(17,17,17)",
            "gridcolor": "#506784",
            "gridwidth": 2,
            "linecolor": "#506784",
            "showbackground": true,
            "ticks": "",
            "zerolinecolor": "#C8D4E3"
           },
           "zaxis": {
            "backgroundcolor": "rgb(17,17,17)",
            "gridcolor": "#506784",
            "gridwidth": 2,
            "linecolor": "#506784",
            "showbackground": true,
            "ticks": "",
            "zerolinecolor": "#C8D4E3"
           }
          },
          "shapedefaults": {
           "line": {
            "color": "#f2f5fa"
           }
          },
          "sliderdefaults": {
           "bgcolor": "#C8D4E3",
           "bordercolor": "rgb(17,17,17)",
           "borderwidth": 1,
           "tickwidth": 0
          },
          "ternary": {
           "aaxis": {
            "gridcolor": "#506784",
            "linecolor": "#506784",
            "ticks": ""
           },
           "baxis": {
            "gridcolor": "#506784",
            "linecolor": "#506784",
            "ticks": ""
           },
           "bgcolor": "rgb(17,17,17)",
           "caxis": {
            "gridcolor": "#506784",
            "linecolor": "#506784",
            "ticks": ""
           }
          },
          "title": {
           "x": 0.05
          },
          "updatemenudefaults": {
           "bgcolor": "#506784",
           "borderwidth": 0
          },
          "xaxis": {
           "automargin": true,
           "gridcolor": "#283442",
           "linecolor": "#506784",
           "ticks": "",
           "title": {
            "standoff": 15
           },
           "zerolinecolor": "#283442",
           "zerolinewidth": 2
          },
          "yaxis": {
           "automargin": true,
           "gridcolor": "#283442",
           "linecolor": "#506784",
           "ticks": "",
           "title": {
            "standoff": 15
           },
           "zerolinecolor": "#283442",
           "zerolinewidth": 2
          }
         }
        },
        "title": {
         "text": "PCA Residuals: 10Y Fwd 2Y-10Y Fwd 5Y-10Y Fwd 25Y"
        },
        "xaxis": {
         "showgrid": true,
         "showspikes": true,
         "spikecolor": "white",
         "spikemode": "across",
         "spikesnap": "cursor",
         "title": {
          "text": "Date"
         }
        },
        "yaxis": {
         "showgrid": true,
         "showspikes": true,
         "spikecolor": "white",
         "spikesnap": "cursor",
         "spikethickness": 0.5,
         "title": {
          "text": "Residuals (bps)"
         }
        }
       }
      }
     },
     "metadata": {},
     "output_type": "display_data"
    }
   ],
   "source": [
    "sofr_ois.pca_residual_timeseries_plotter(\n",
    "    pca_results=pca_results, tenors_to_plot=[\"10Y Fwd 2Y-10Y Fwd 5Y-10Y Fwd 25Y\"], use_plotly=True, key=\"rich_cheap_residual_zscore_timeseries_dict\"\n",
    ")"
   ]
  },
  {
   "cell_type": "code",
   "execution_count": 16,
   "metadata": {},
   "outputs": [
    {
     "name": "stderr",
     "output_type": "stream",
     "text": [
      "BUILDING OIS SWAP TIMESERIES DF...: 100%|██████████| 249/249 [00:00<00:00, 380.90it/s]\n"
     ]
    },
    {
     "data": {
      "text/html": [
       "<div>\n",
       "<style scoped>\n",
       "    .dataframe tbody tr th:only-of-type {\n",
       "        vertical-align: middle;\n",
       "    }\n",
       "\n",
       "    .dataframe tbody tr th {\n",
       "        vertical-align: top;\n",
       "    }\n",
       "\n",
       "    .dataframe thead th {\n",
       "        text-align: right;\n",
       "    }\n",
       "</style>\n",
       "<table border=\"1\" class=\"dataframe\">\n",
       "  <thead>\n",
       "    <tr style=\"text-align: right;\">\n",
       "      <th></th>\n",
       "      <th>Date</th>\n",
       "      <th>10Y Fwd 2Y-10Y Fwd 5Y-10Y Fwd 25Y</th>\n",
       "      <th>10Y Fwd 2Y-10Y Fwd 25Y</th>\n",
       "      <th>10Y Fwd 2Y</th>\n",
       "      <th>10Y Fwd 5Y</th>\n",
       "      <th>10Y Fwd 25Y</th>\n",
       "    </tr>\n",
       "  </thead>\n",
       "  <tbody>\n",
       "    <tr>\n",
       "      <th>0</th>\n",
       "      <td>2024-01-02</td>\n",
       "      <td>35.631122</td>\n",
       "      <td>-65.630319</td>\n",
       "      <td>3.531244</td>\n",
       "      <td>3.559403</td>\n",
       "      <td>2.874941</td>\n",
       "    </tr>\n",
       "    <tr>\n",
       "      <th>1</th>\n",
       "      <td>2024-01-03</td>\n",
       "      <td>35.884995</td>\n",
       "      <td>-61.936683</td>\n",
       "      <td>3.532963</td>\n",
       "      <td>3.582130</td>\n",
       "      <td>2.913596</td>\n",
       "    </tr>\n",
       "    <tr>\n",
       "      <th>2</th>\n",
       "      <td>2024-01-04</td>\n",
       "      <td>36.190767</td>\n",
       "      <td>-62.763702</td>\n",
       "      <td>3.611994</td>\n",
       "      <td>3.660083</td>\n",
       "      <td>2.984357</td>\n",
       "    </tr>\n",
       "    <tr>\n",
       "      <th>3</th>\n",
       "      <td>2024-01-05</td>\n",
       "      <td>36.766349</td>\n",
       "      <td>-63.641621</td>\n",
       "      <td>3.659121</td>\n",
       "      <td>3.708576</td>\n",
       "      <td>3.022704</td>\n",
       "    </tr>\n",
       "    <tr>\n",
       "      <th>4</th>\n",
       "      <td>2024-01-08</td>\n",
       "      <td>36.777537</td>\n",
       "      <td>-63.333221</td>\n",
       "      <td>3.665542</td>\n",
       "      <td>3.716652</td>\n",
       "      <td>3.032210</td>\n",
       "    </tr>\n",
       "    <tr>\n",
       "      <th>...</th>\n",
       "      <td>...</td>\n",
       "      <td>...</td>\n",
       "      <td>...</td>\n",
       "      <td>...</td>\n",
       "      <td>...</td>\n",
       "      <td>...</td>\n",
       "    </tr>\n",
       "    <tr>\n",
       "      <th>243</th>\n",
       "      <td>2024-12-20</td>\n",
       "      <td>39.914954</td>\n",
       "      <td>-67.566685</td>\n",
       "      <td>4.012130</td>\n",
       "      <td>4.073446</td>\n",
       "      <td>3.336463</td>\n",
       "    </tr>\n",
       "    <tr>\n",
       "      <th>244</th>\n",
       "      <td>2024-12-23</td>\n",
       "      <td>36.633686</td>\n",
       "      <td>-70.148146</td>\n",
       "      <td>4.106248</td>\n",
       "      <td>4.121844</td>\n",
       "      <td>3.404766</td>\n",
       "    </tr>\n",
       "    <tr>\n",
       "      <th>245</th>\n",
       "      <td>2024-12-24</td>\n",
       "      <td>36.562476</td>\n",
       "      <td>-70.594477</td>\n",
       "      <td>4.087091</td>\n",
       "      <td>4.099743</td>\n",
       "      <td>3.381146</td>\n",
       "    </tr>\n",
       "    <tr>\n",
       "      <th>246</th>\n",
       "      <td>2024-12-26</td>\n",
       "      <td>36.240237</td>\n",
       "      <td>-71.236259</td>\n",
       "      <td>4.112365</td>\n",
       "      <td>4.118586</td>\n",
       "      <td>3.400002</td>\n",
       "    </tr>\n",
       "    <tr>\n",
       "      <th>247</th>\n",
       "      <td>2024-12-27</td>\n",
       "      <td>39.306511</td>\n",
       "      <td>-72.808350</td>\n",
       "      <td>4.174494</td>\n",
       "      <td>4.203518</td>\n",
       "      <td>3.446411</td>\n",
       "    </tr>\n",
       "  </tbody>\n",
       "</table>\n",
       "<p>248 rows × 6 columns</p>\n",
       "</div>"
      ],
      "text/plain": [
       "          Date  10Y Fwd 2Y-10Y Fwd 5Y-10Y Fwd 25Y  10Y Fwd 2Y-10Y Fwd 25Y  \\\n",
       "0   2024-01-02                          35.631122              -65.630319   \n",
       "1   2024-01-03                          35.884995              -61.936683   \n",
       "2   2024-01-04                          36.190767              -62.763702   \n",
       "3   2024-01-05                          36.766349              -63.641621   \n",
       "4   2024-01-08                          36.777537              -63.333221   \n",
       "..         ...                                ...                     ...   \n",
       "243 2024-12-20                          39.914954              -67.566685   \n",
       "244 2024-12-23                          36.633686              -70.148146   \n",
       "245 2024-12-24                          36.562476              -70.594477   \n",
       "246 2024-12-26                          36.240237              -71.236259   \n",
       "247 2024-12-27                          39.306511              -72.808350   \n",
       "\n",
       "     10Y Fwd 2Y  10Y Fwd 5Y  10Y Fwd 25Y  \n",
       "0      3.531244    3.559403     2.874941  \n",
       "1      3.532963    3.582130     2.913596  \n",
       "2      3.611994    3.660083     2.984357  \n",
       "3      3.659121    3.708576     3.022704  \n",
       "4      3.665542    3.716652     3.032210  \n",
       "..          ...         ...          ...  \n",
       "243    4.012130    4.073446     3.336463  \n",
       "244    4.106248    4.121844     3.404766  \n",
       "245    4.087091    4.099743     3.381146  \n",
       "246    4.112365    4.118586     3.400002  \n",
       "247    4.174494    4.203518     3.446411  \n",
       "\n",
       "[248 rows x 6 columns]"
      ]
     },
     "execution_count": 16,
     "metadata": {},
     "output_type": "execute_result"
    }
   ],
   "source": [
    "timeseries_df = sofr_ois.timeseries_builder(\n",
    "    fwd_dict_df=fwd_grid_dict,\n",
    "    cols=[\"10Y Fwd 2Y-10Y Fwd 5Y-10Y Fwd 25Y\", \"10Y Fwd 2Y-10Y Fwd 25Y\", \"10Y Fwd 2Y\", \"10Y Fwd 5Y\", \"10Y Fwd 25Y\"],\n",
    "    start_date=datetime(2024, 1, 1),\n",
    "    end_date=datetime(2024, 12, 27),\n",
    "    tenor_is_df_index=True,\n",
    "    scale_curve=True,\n",
    "    scale_fly=True,\n",
    "    fifty_fifty_fly=True\n",
    ")\n",
    "timeseries_df"
   ]
  },
  {
   "cell_type": "code",
   "execution_count": 29,
   "metadata": {},
   "outputs": [],
   "source": [
    "pca_hedge_results = calc_pca_loadings_matrix(\n",
    "    df=timeseries_df[[\"Date\", \"10Y Fwd 2Y\", \"10Y Fwd 5Y\", \"10Y Fwd 25Y\"]].set_index(\"Date\"), run_on_level_changes=False, scale_loadings=True\n",
    ")"
   ]
  },
  {
   "cell_type": "code",
   "execution_count": 30,
   "metadata": {},
   "outputs": [
    {
     "name": "stdout",
     "output_type": "stream",
     "text": [
      "Weights for trade using PCA are: -1.0085119595731922 2 -1.197851727324713\n"
     ]
    }
   ],
   "source": [
    "evec = pca_hedge_results[\"loading_matrix\"].values\n",
    "w = np.array([-1 / evec[0, 0], 2 / evec[1, 0], -1 / evec[2, 0]])\n",
    "print(\"Weights for trade using PCA are:\", 2 * w[0] / w[1], 2, 2 * w[2] / w[1])"
   ]
  },
  {
   "cell_type": "code",
   "execution_count": 23,
   "metadata": {},
   "outputs": [
    {
     "name": "stdout",
     "output_type": "stream",
     "text": [
      "                                   OLS Regression Results                                  \n",
      "===========================================================================================\n",
      "Dep. Variable:     2Y Fwd 12M-2Y Fwd 5Y-2Y Fwd 30Y   R-squared:                       0.284\n",
      "Model:                                         OLS   Adj. R-squared:                  0.280\n",
      "Method:                              Least Squares   F-statistic:                     64.63\n",
      "Date:                             Mon, 30 Dec 2024   Prob (F-statistic):           1.74e-13\n",
      "Time:                                     20:18:50   Log-Likelihood:                -320.69\n",
      "No. Observations:                              165   AIC:                             645.4\n",
      "Df Residuals:                                  163   BIC:                             651.6\n",
      "Df Model:                                        1                                         \n",
      "Covariance Type:                         nonrobust                                         \n",
      "==============================================================================\n",
      "                 coef    std err          t      P>|t|      [0.025      0.975]\n",
      "------------------------------------------------------------------------------\n",
      "const         -3.3035      1.702     -1.941      0.054      -6.664       0.057\n",
      "2Y Fwd 5Y      3.8921      0.484      8.039      0.000       2.936       4.848\n",
      "==============================================================================\n",
      "Omnibus:                       50.050   Durbin-Watson:                   0.298\n",
      "Prob(Omnibus):                  0.000   Jarque-Bera (JB):              105.710\n",
      "Skew:                           1.365   Prob(JB):                     1.11e-23\n",
      "Kurtosis:                       5.815   Cond. No.                         48.8\n",
      "==============================================================================\n",
      "\n",
      "Notes:\n",
      "[1] Standard Errors assume that the covariance matrix of the errors is correctly specified.\n"
     ]
    },
    {
     "data": {
      "image/png": "[encoded data removed]",
      "text/plain": [
       "<Figure size 1500x900 with 2 Axes>"
      ]
     },
     "metadata": {},
     "output_type": "display_data"
    },
    {
     "data": {
      "text/plain": [
       "<statsmodels.regression.linear_model.RegressionResultsWrapper at 0x274b67cf110>"
      ]
     },
     "execution_count": 23,
     "metadata": {},
     "output_type": "execute_result"
    }
   ],
   "source": [
    "run_basic_linear_regression_df(\n",
    "    df=timeseries_df,\n",
    "    x_col=\"2Y Fwd 5Y\",\n",
    "    y_col=\"2Y Fwd 12M-2Y Fwd 5Y-2Y Fwd 30Y\",\n",
    "    plot_most_recent=True,\n",
    "    date_color_bar=True,\n",
    ")"
   ]
  },
  {
   "cell_type": "code",
   "execution_count": 25,
   "metadata": {},
   "outputs": [
    {
     "data": {
      "image/png": "[encoded data removed]",
      "text/plain": [
       "<Figure size 1500x900 with 1 Axes>"
      ]
     },
     "metadata": {},
     "output_type": "display_data"
    },
    {
     "data": {
      "image/png": "[encoded data removed]",
      "text/plain": [
       "<Figure size 1500x900 with 1 Axes>"
      ]
     },
     "metadata": {},
     "output_type": "display_data"
    },
    {
     "data": {
      "image/png": "[encoded data removed]",
      "text/plain": [
       "<Figure size 1500x900 with 1 Axes>"
      ]
     },
     "metadata": {},
     "output_type": "display_data"
    }
   ],
   "source": [
    "d, r = run_multiple_linear_regression_df(\n",
    "    df=timeseries_df, x_cols=[\"2Y Fwd 5Y\", \"2Y Fwd 12M-2Y Fwd 30Y\"], y_col=\"2Y Fwd 12M-2Y Fwd 5Y-2Y Fwd 30Y\", show_plot=False\n",
    ")\n",
    "plot_residuals_timeseries(df=timeseries_df, results=r, stds=[1, 2])\n",
    "\n",
    "modified_partial_regression_fly_plot(\n",
    "    df=timeseries_df,\n",
    "    x_cols=[\"2Y Fwd 5Y\", \"2Y Fwd 12M-2Y Fwd 30Y\"],\n",
    "    y_col=\"2Y Fwd 12M-2Y Fwd 5Y-2Y Fwd 30Y\",\n",
    "    show_residual_timeseries=True,\n",
    "    stds=[1, 2],\n",
    ")\n",
    "modified_partial_regression_fly_plot(\n",
    "    df=timeseries_df,\n",
    "    x_cols=[\"2Y Fwd 12M-2Y Fwd 30Y\", \"2Y Fwd 5Y\"],\n",
    "    y_col=\"2Y Fwd 12M-2Y Fwd 5Y-2Y Fwd 30Y\",\n",
    "    show_residual_timeseries=True,\n",
    "    stds=[1, 2],\n",
    ")"
   ]
  },
  {
   "cell_type": "code",
   "execution_count": 407,
   "metadata": {},
   "outputs": [
    {
     "data": {
      "application/vnd.plotly.v1+json": {
       "config": {
        "modeBarButtonsToAdd": [
         "drawline",
         "drawopenpath",
         "drawclosedpath",
         "drawcircle",
         "drawrect",
         "eraseshape"
        ],
        "plotlyServerURL": "https://plot.ly"
       },
       "data": [
        {
         "marker": {
          "color": "rgb(120, 154, 255)"
         },
         "name": "2024-12-24",
         "showlegend": false,
         "type": "bar",
         "x": [
          "2Y"
         ],
         "y": [
          -1.2730623213188963
         ]
        },
        {
         "marker": {
          "color": "rgb(120, 154, 255)"
         },
         "name": "2024-12-24",
         "showlegend": false,
         "type": "bar",
         "x": [
          "3Y"
         ],
         "y": [
          -1.630051165584856
         ]
        },
        {
         "marker": {
          "color": "rgb(120, 154, 255)"
         },
         "name": "2024-12-24",
         "showlegend": false,
         "type": "bar",
         "x": [
          "4Y"
         ],
         "y": [
          -0.757965286973139
         ]
        },
        {
         "marker": {
          "color": "rgb(120, 154, 255)"
         },
         "name": "2024-12-24",
         "showlegend": false,
         "type": "bar",
         "x": [
          "5Y"
         ],
         "y": [
          0.12605923270658792
         ]
        },
        {
         "marker": {
          "color": "rgb(120, 154, 255)"
         },
         "name": "2024-12-24",
         "showlegend": false,
         "type": "bar",
         "x": [
          "6Y"
         ],
         "y": [
          0.6290234711716636
         ]
        },
        {
         "marker": {
          "color": "rgb(120, 154, 255)"
         },
         "name": "2024-12-24",
         "showlegend": false,
         "type": "bar",
         "x": [
          "7Y"
         ],
         "y": [
          0.8957258839912718
         ]
        },
        {
         "marker": {
          "color": "rgb(120, 154, 255)"
         },
         "name": "2024-12-24",
         "showlegend": false,
         "type": "bar",
         "x": [
          "8Y"
         ],
         "y": [
          1.1466339561668093
         ]
        },
        {
         "marker": {
          "color": "rgb(120, 154, 255)"
         },
         "name": "2024-12-24",
         "showlegend": false,
         "type": "bar",
         "x": [
          "9Y"
         ],
         "y": [
          1.348402184110764
         ]
        },
        {
         "marker": {
          "color": "rgb(120, 154, 255)"
         },
         "name": "2024-12-24",
         "showlegend": false,
         "type": "bar",
         "x": [
          "10Y"
         ],
         "y": [
          1.3596781343887088
         ]
        },
        {
         "marker": {
          "color": "rgb(120, 154, 255)"
         },
         "name": "2024-12-24",
         "showlegend": false,
         "type": "bar",
         "x": [
          "12Y"
         ],
         "y": [
          0.9054325632425808
         ]
        },
        {
         "marker": {
          "color": "rgb(120, 154, 255)"
         },
         "name": "2024-12-24",
         "showlegend": false,
         "type": "bar",
         "x": [
          "15Y"
         ],
         "y": [
          0.46643446483383144
         ]
        },
        {
         "marker": {
          "color": "rgb(120, 154, 255)"
         },
         "name": "2024-12-24",
         "showlegend": false,
         "type": "bar",
         "x": [
          "20Y"
         ],
         "y": [
          -0.12110071247910525
         ]
        },
        {
         "marker": {
          "color": "rgb(120, 154, 255)"
         },
         "name": "2024-12-24",
         "showlegend": false,
         "type": "bar",
         "x": [
          "25Y"
         ],
         "y": [
          -0.676410411170103
         ]
        },
        {
         "marker": {
          "color": "rgb(120, 154, 255)"
         },
         "name": "2024-12-24",
         "showlegend": false,
         "type": "bar",
         "x": [
          "30Y"
         ],
         "y": [
          -1.3899324432090854
         ]
        },
        {
         "marker": {
          "color": "rgb(120, 154, 255)"
         },
         "name": "2024-12-24",
         "showlegend": false,
         "type": "bar",
         "x": [
          "40Y"
         ],
         "y": [
          -1.06948720366411
         ]
        },
        {
         "marker": {
          "color": "rgb(120, 154, 255)"
         },
         "name": "2024-12-24",
         "showlegend": false,
         "type": "bar",
         "x": [
          "50Y"
         ],
         "y": [
          -0.9824573553617988
         ]
        },
        {
         "marker": {
          "color": "rgb(120, 154, 255)"
         },
         "name": "2024-12-24",
         "showlegend": false,
         "type": "bar",
         "x": [
          "12M Fwd 12M"
         ],
         "y": [
          0.9400306897654254
         ]
        },
        {
         "marker": {
          "color": "rgb(120, 154, 255)"
         },
         "name": "2024-12-24",
         "showlegend": false,
         "type": "bar",
         "x": [
          "12M Fwd 2Y"
         ],
         "y": [
          -1.409781745326466
         ]
        },
        {
         "marker": {
          "color": "rgb(120, 154, 255)"
         },
         "name": "2024-12-24",
         "showlegend": false,
         "type": "bar",
         "x": [
          "12M Fwd 3Y"
         ],
         "y": [
          -0.32231429800226863
         ]
        },
        {
         "marker": {
          "color": "rgb(120, 154, 255)"
         },
         "name": "2024-12-24",
         "showlegend": false,
         "type": "bar",
         "x": [
          "12M Fwd 4Y"
         ],
         "y": [
          -1.1097992572601356
         ]
        },
        {
         "marker": {
          "color": "rgb(120, 154, 255)"
         },
         "name": "2024-12-24",
         "showlegend": false,
         "type": "bar",
         "x": [
          "12M Fwd 5Y"
         ],
         "y": [
          0.4225020780954658
         ]
        },
        {
         "marker": {
          "color": "rgb(120, 154, 255)"
         },
         "name": "2024-12-24",
         "showlegend": false,
         "type": "bar",
         "x": [
          "12M Fwd 6Y"
         ],
         "y": [
          0.4706316204146965
         ]
        },
        {
         "marker": {
          "color": "rgb(120, 154, 255)"
         },
         "name": "2024-12-24",
         "showlegend": false,
         "type": "bar",
         "x": [
          "12M Fwd 7Y"
         ],
         "y": [
          0.40566630886837984
         ]
        },
        {
         "marker": {
          "color": "rgb(120, 154, 255)"
         },
         "name": "2024-12-24",
         "showlegend": false,
         "type": "bar",
         "x": [
          "12M Fwd 8Y"
         ],
         "y": [
          1.043907747150108
         ]
        },
        {
         "marker": {
          "color": "rgb(120, 154, 255)"
         },
         "name": "2024-12-24",
         "showlegend": false,
         "type": "bar",
         "x": [
          "12M Fwd 9Y"
         ],
         "y": [
          1.2986823460495955
         ]
        },
        {
         "marker": {
          "color": "rgb(120, 154, 255)"
         },
         "name": "2024-12-24",
         "showlegend": false,
         "type": "bar",
         "x": [
          "12M Fwd 10Y"
         ],
         "y": [
          0.9950491380769755
         ]
        },
        {
         "marker": {
          "color": "rgb(120, 154, 255)"
         },
         "name": "2024-12-24",
         "showlegend": false,
         "type": "bar",
         "x": [
          "12M Fwd 12Y"
         ],
         "y": [
          0.45283264899271813
         ]
        },
        {
         "marker": {
          "color": "rgb(120, 154, 255)"
         },
         "name": "2024-12-24",
         "showlegend": false,
         "type": "bar",
         "x": [
          "12M Fwd 15Y"
         ],
         "y": [
          -0.0060227630680920186
         ]
        },
        {
         "marker": {
          "color": "rgb(120, 154, 255)"
         },
         "name": "2024-12-24",
         "showlegend": false,
         "type": "bar",
         "x": [
          "12M Fwd 20Y"
         ],
         "y": [
          -0.14776470078987636
         ]
        },
        {
         "marker": {
          "color": "rgb(120, 154, 255)"
         },
         "name": "2024-12-24",
         "showlegend": false,
         "type": "bar",
         "x": [
          "12M Fwd 25Y"
         ],
         "y": [
          -0.6714478040392713
         ]
        },
        {
         "marker": {
          "color": "rgb(120, 154, 255)"
         },
         "name": "2024-12-24",
         "showlegend": false,
         "type": "bar",
         "x": [
          "12M Fwd 30Y"
         ],
         "y": [
          -0.8792723401325198
         ]
        },
        {
         "marker": {
          "color": "rgb(120, 154, 255)"
         },
         "name": "2024-12-24",
         "showlegend": false,
         "type": "bar",
         "x": [
          "12M Fwd 40Y"
         ],
         "y": [
          -0.5650493944542312
         ]
        },
        {
         "marker": {
          "color": "rgb(120, 154, 255)"
         },
         "name": "2024-12-24",
         "showlegend": false,
         "type": "bar",
         "x": [
          "12M Fwd 50Y"
         ],
         "y": [
          -0.5720554309496251
         ]
        },
        {
         "marker": {
          "color": "rgb(120, 154, 255)",
          "opacity": 0.5
         },
         "name": "2024-12-17",
         "showlegend": false,
         "type": "bar",
         "width": 0.6,
         "x": [
          "2Y"
         ],
         "y": [
          0.05978047582013701
         ]
        },
        {
         "marker": {
          "color": "rgb(120, 154, 255)",
          "opacity": 0.5
         },
         "name": "2024-12-17",
         "showlegend": false,
         "type": "bar",
         "width": 0.6,
         "x": [
          "3Y"
         ],
         "y": [
          -0.10250239012736806
         ]
        },
        {
         "marker": {
          "color": "rgb(120, 154, 255)",
          "opacity": 0.5
         },
         "name": "2024-12-17",
         "showlegend": false,
         "type": "bar",
         "width": 0.6,
         "x": [
          "4Y"
         ],
         "y": [
          0.0013834102864596076
         ]
        },
        {
         "marker": {
          "color": "rgb(120, 154, 255)",
          "opacity": 0.5
         },
         "name": "2024-12-17",
         "showlegend": false,
         "type": "bar",
         "width": 0.6,
         "x": [
          "5Y"
         ],
         "y": [
          0.029528490706187682
         ]
        },
        {
         "marker": {
          "color": "rgb(120, 154, 255)",
          "opacity": 0.5
         },
         "name": "2024-12-17",
         "showlegend": false,
         "type": "bar",
         "width": 0.6,
         "x": [
          "6Y"
         ],
         "y": [
          0.04958051254653206
         ]
        },
        {
         "marker": {
          "color": "rgb(120, 154, 255)",
          "opacity": 0.5
         },
         "name": "2024-12-17",
         "showlegend": false,
         "type": "bar",
         "width": 0.6,
         "x": [
          "7Y"
         ],
         "y": [
          -0.03792743000947674
         ]
        },
        {
         "marker": {
          "color": "rgb(120, 154, 255)",
          "opacity": 0.5
         },
         "name": "2024-12-17",
         "showlegend": false,
         "type": "bar",
         "width": 0.6,
         "x": [
          "8Y"
         ],
         "y": [
          -0.07477901769625817
         ]
        },
        {
         "marker": {
          "color": "rgb(120, 154, 255)",
          "opacity": 0.5
         },
         "name": "2024-12-17",
         "showlegend": false,
         "type": "bar",
         "width": 0.6,
         "x": [
          "9Y"
         ],
         "y": [
          -0.06895070420402938
         ]
        },
        {
         "marker": {
          "color": "rgb(120, 154, 255)",
          "opacity": 0.5
         },
         "name": "2024-12-17",
         "showlegend": false,
         "type": "bar",
         "width": 0.6,
         "x": [
          "10Y"
         ],
         "y": [
          -0.0760880760210636
         ]
        },
        {
         "marker": {
          "color": "rgb(120, 154, 255)",
          "opacity": 0.5
         },
         "name": "2024-12-17",
         "showlegend": false,
         "type": "bar",
         "width": 0.6,
         "x": [
          "12Y"
         ],
         "y": [
          -0.0985106398703639
         ]
        },
        {
         "marker": {
          "color": "rgb(120, 154, 255)",
          "opacity": 0.5
         },
         "name": "2024-12-17",
         "showlegend": false,
         "type": "bar",
         "width": 0.6,
         "x": [
          "15Y"
         ],
         "y": [
          0.04121560806655822
         ]
        },
        {
         "marker": {
          "color": "rgb(120, 154, 255)",
          "opacity": 0.5
         },
         "name": "2024-12-17",
         "showlegend": false,
         "type": "bar",
         "width": 0.6,
         "x": [
          "20Y"
         ],
         "y": [
          0.126769809682159
         ]
        },
        {
         "marker": {
          "color": "rgb(120, 154, 255)",
          "opacity": 0.5
         },
         "name": "2024-12-17",
         "showlegend": false,
         "type": "bar",
         "width": 0.6,
         "x": [
          "25Y"
         ],
         "y": [
          0.0872358676514029
         ]
        },
        {
         "marker": {
          "color": "rgb(120, 154, 255)",
          "opacity": 0.5
         },
         "name": "2024-12-17",
         "showlegend": false,
         "type": "bar",
         "width": 0.6,
         "x": [
          "30Y"
         ],
         "y": [
          -0.08511943700955094
         ]
        },
        {
         "marker": {
          "color": "rgb(120, 154, 255)",
          "opacity": 0.5
         },
         "name": "2024-12-17",
         "showlegend": false,
         "type": "bar",
         "width": 0.6,
         "x": [
          "40Y"
         ],
         "y": [
          0.2217877082893338
         ]
        },
        {
         "marker": {
          "color": "rgb(120, 154, 255)",
          "opacity": 0.5
         },
         "name": "2024-12-17",
         "showlegend": false,
         "type": "bar",
         "width": 0.6,
         "x": [
          "50Y"
         ],
         "y": [
          -0.1398613723730957
         ]
        },
        {
         "marker": {
          "color": "rgb(120, 154, 255)",
          "opacity": 0.5
         },
         "name": "2024-12-17",
         "showlegend": false,
         "type": "bar",
         "width": 0.6,
         "x": [
          "12M Fwd 12M"
         ],
         "y": [
          -0.18288392505172446
         ]
        },
        {
         "marker": {
          "color": "rgb(120, 154, 255)",
          "opacity": 0.5
         },
         "name": "2024-12-17",
         "showlegend": false,
         "type": "bar",
         "width": 0.6,
         "x": [
          "12M Fwd 2Y"
         ],
         "y": [
          0.2354904535742275
         ]
        },
        {
         "marker": {
          "color": "rgb(120, 154, 255)",
          "opacity": 0.5
         },
         "name": "2024-12-17",
         "showlegend": false,
         "type": "bar",
         "width": 0.6,
         "x": [
          "12M Fwd 3Y"
         ],
         "y": [
          0.25189022687062135
         ]
        },
        {
         "marker": {
          "color": "rgb(120, 154, 255)",
          "opacity": 0.5
         },
         "name": "2024-12-17",
         "showlegend": false,
         "type": "bar",
         "width": 0.6,
         "x": [
          "12M Fwd 4Y"
         ],
         "y": [
          0.24745789416438235
         ]
        },
        {
         "marker": {
          "color": "rgb(120, 154, 255)",
          "opacity": 0.5
         },
         "name": "2024-12-17",
         "showlegend": false,
         "type": "bar",
         "width": 0.6,
         "x": [
          "12M Fwd 5Y"
         ],
         "y": [
          -0.38216409737232837
         ]
        },
        {
         "marker": {
          "color": "rgb(120, 154, 255)",
          "opacity": 0.5
         },
         "name": "2024-12-17",
         "showlegend": false,
         "type": "bar",
         "width": 0.6,
         "x": [
          "12M Fwd 6Y"
         ],
         "y": [
          -0.018940159209268614
         ]
        },
        {
         "marker": {
          "color": "rgb(120, 154, 255)",
          "opacity": 0.5
         },
         "name": "2024-12-17",
         "showlegend": false,
         "type": "bar",
         "width": 0.6,
         "x": [
          "12M Fwd 7Y"
         ],
         "y": [
          0.004667064133112575
         ]
        },
        {
         "marker": {
          "color": "rgb(120, 154, 255)",
          "opacity": 0.5
         },
         "name": "2024-12-17",
         "showlegend": false,
         "type": "bar",
         "width": 0.6,
         "x": [
          "12M Fwd 8Y"
         ],
         "y": [
          -0.2036601003565952
         ]
        },
        {
         "marker": {
          "color": "rgb(120, 154, 255)",
          "opacity": 0.5
         },
         "name": "2024-12-17",
         "showlegend": false,
         "type": "bar",
         "width": 0.6,
         "x": [
          "12M Fwd 9Y"
         ],
         "y": [
          -0.07065256968790123
         ]
        },
        {
         "marker": {
          "color": "rgb(120, 154, 255)",
          "opacity": 0.5
         },
         "name": "2024-12-17",
         "showlegend": false,
         "type": "bar",
         "width": 0.6,
         "x": [
          "12M Fwd 10Y"
         ],
         "y": [
          -0.31632453006698036
         ]
        },
        {
         "marker": {
          "color": "rgb(120, 154, 255)",
          "opacity": 0.5
         },
         "name": "2024-12-17",
         "showlegend": false,
         "type": "bar",
         "width": 0.6,
         "x": [
          "12M Fwd 12Y"
         ],
         "y": [
          -0.33473538435866423
         ]
        },
        {
         "marker": {
          "color": "rgb(120, 154, 255)",
          "opacity": 0.5
         },
         "name": "2024-12-17",
         "showlegend": false,
         "type": "bar",
         "width": 0.6,
         "x": [
          "12M Fwd 15Y"
         ],
         "y": [
          -0.004927270226406932
         ]
        },
        {
         "marker": {
          "color": "rgb(120, 154, 255)",
          "opacity": 0.5
         },
         "name": "2024-12-17",
         "showlegend": false,
         "type": "bar",
         "width": 0.6,
         "x": [
          "12M Fwd 20Y"
         ],
         "y": [
          0.11456744275735176
         ]
        },
        {
         "marker": {
          "color": "rgb(120, 154, 255)",
          "opacity": 0.5
         },
         "name": "2024-12-17",
         "showlegend": false,
         "type": "bar",
         "width": 0.6,
         "x": [
          "12M Fwd 25Y"
         ],
         "y": [
          0.0675818841494813
         ]
        },
        {
         "marker": {
          "color": "rgb(120, 154, 255)",
          "opacity": 0.5
         },
         "name": "2024-12-17",
         "showlegend": false,
         "type": "bar",
         "width": 0.6,
         "x": [
          "12M Fwd 30Y"
         ],
         "y": [
          -0.01968365181519438
         ]
        },
        {
         "marker": {
          "color": "rgb(120, 154, 255)",
          "opacity": 0.5
         },
         "name": "2024-12-17",
         "showlegend": false,
         "type": "bar",
         "width": 0.6,
         "x": [
          "12M Fwd 40Y"
         ],
         "y": [
          0.47498252922006934
         ]
        },
        {
         "marker": {
          "color": "rgb(120, 154, 255)",
          "opacity": 0.5
         },
         "name": "2024-12-17",
         "showlegend": false,
         "type": "bar",
         "width": 0.6,
         "x": [
          "12M Fwd 50Y"
         ],
         "y": [
          0.08284965030860292
         ]
        },
        {
         "marker": {
          "color": "rgb(120, 154, 255)",
          "opacity": 0.35
         },
         "name": "2024-11-26",
         "showlegend": false,
         "type": "bar",
         "width": 0.45,
         "x": [
          "2Y"
         ],
         "y": [
          0.24931345910461644
         ]
        },
        {
         "marker": {
          "color": "rgb(120, 154, 255)",
          "opacity": 0.35
         },
         "name": "2024-11-26",
         "showlegend": false,
         "type": "bar",
         "width": 0.45,
         "x": [
          "3Y"
         ],
         "y": [
          0.03698625308365955
         ]
        },
        {
         "marker": {
          "color": "rgb(120, 154, 255)",
          "opacity": 0.35
         },
         "name": "2024-11-26",
         "showlegend": false,
         "type": "bar",
         "width": 0.45,
         "x": [
          "4Y"
         ],
         "y": [
          0.14607217514139847
         ]
        },
        {
         "marker": {
          "color": "rgb(120, 154, 255)",
          "opacity": 0.35
         },
         "name": "2024-11-26",
         "showlegend": false,
         "type": "bar",
         "width": 0.45,
         "x": [
          "5Y"
         ],
         "y": [
          0.005318692980216255
         ]
        },
        {
         "marker": {
          "color": "rgb(120, 154, 255)",
          "opacity": 0.35
         },
         "name": "2024-11-26",
         "showlegend": false,
         "type": "bar",
         "width": 0.45,
         "x": [
          "6Y"
         ],
         "y": [
          -0.1854398687578307
         ]
        },
        {
         "marker": {
          "color": "rgb(120, 154, 255)",
          "opacity": 0.35
         },
         "name": "2024-11-26",
         "showlegend": false,
         "type": "bar",
         "width": 0.45,
         "x": [
          "7Y"
         ],
         "y": [
          -0.30416952018548216
         ]
        },
        {
         "marker": {
          "color": "rgb(120, 154, 255)",
          "opacity": 0.35
         },
         "name": "2024-11-26",
         "showlegend": false,
         "type": "bar",
         "width": 0.45,
         "x": [
          "8Y"
         ],
         "y": [
          -0.26072201310523013
         ]
        },
        {
         "marker": {
          "color": "rgb(120, 154, 255)",
          "opacity": 0.35
         },
         "name": "2024-11-26",
         "showlegend": false,
         "type": "bar",
         "width": 0.45,
         "x": [
          "9Y"
         ],
         "y": [
          -0.14094546988272505
         ]
        },
        {
         "marker": {
          "color": "rgb(120, 154, 255)",
          "opacity": 0.35
         },
         "name": "2024-11-26",
         "showlegend": false,
         "type": "bar",
         "width": 0.45,
         "x": [
          "10Y"
         ],
         "y": [
          -0.05843538640752932
         ]
        },
        {
         "marker": {
          "color": "rgb(120, 154, 255)",
          "opacity": 0.35
         },
         "name": "2024-11-26",
         "showlegend": false,
         "type": "bar",
         "width": 0.45,
         "x": [
          "12Y"
         ],
         "y": [
          -0.09506039559847856
         ]
        },
        {
         "marker": {
          "color": "rgb(120, 154, 255)",
          "opacity": 0.35
         },
         "name": "2024-11-26",
         "showlegend": false,
         "type": "bar",
         "width": 0.45,
         "x": [
          "15Y"
         ],
         "y": [
          -0.1056113875841369
         ]
        },
        {
         "marker": {
          "color": "rgb(120, 154, 255)",
          "opacity": 0.35
         },
         "name": "2024-11-26",
         "showlegend": false,
         "type": "bar",
         "width": 0.45,
         "x": [
          "20Y"
         ],
         "y": [
          -0.0016544766436421554
         ]
        },
        {
         "marker": {
          "color": "rgb(120, 154, 255)",
          "opacity": 0.35
         },
         "name": "2024-11-26",
         "showlegend": false,
         "type": "bar",
         "width": 0.45,
         "x": [
          "25Y"
         ],
         "y": [
          0.011531165563294365
         ]
        },
        {
         "marker": {
          "color": "rgb(120, 154, 255)",
          "opacity": 0.35
         },
         "name": "2024-11-26",
         "showlegend": false,
         "type": "bar",
         "width": 0.45,
         "x": [
          "30Y"
         ],
         "y": [
          0.18986536776703922
         ]
        },
        {
         "marker": {
          "color": "rgb(120, 154, 255)",
          "opacity": 0.35
         },
         "name": "2024-11-26",
         "showlegend": false,
         "type": "bar",
         "width": 0.45,
         "x": [
          "40Y"
         ],
         "y": [
          0.014626490554858762
         ]
        },
        {
         "marker": {
          "color": "rgb(120, 154, 255)",
          "opacity": 0.35
         },
         "name": "2024-11-26",
         "showlegend": false,
         "type": "bar",
         "width": 0.45,
         "x": [
          "50Y"
         ],
         "y": [
          0.4768392314958181
         ]
        },
        {
         "marker": {
          "color": "rgb(120, 154, 255)",
          "opacity": 0.35
         },
         "name": "2024-11-26",
         "showlegend": false,
         "type": "bar",
         "width": 0.45,
         "x": [
          "12M Fwd 12M"
         ],
         "y": [
          -0.4410423587188461
         ]
        },
        {
         "marker": {
          "color": "rgb(120, 154, 255)",
          "opacity": 0.35
         },
         "name": "2024-11-26",
         "showlegend": false,
         "type": "bar",
         "width": 0.45,
         "x": [
          "12M Fwd 2Y"
         ],
         "y": [
          0.8588174618316291
         ]
        },
        {
         "marker": {
          "color": "rgb(120, 154, 255)",
          "opacity": 0.35
         },
         "name": "2024-11-26",
         "showlegend": false,
         "type": "bar",
         "width": 0.45,
         "x": [
          "12M Fwd 3Y"
         ],
         "y": [
          0.6560880231909927
         ]
        },
        {
         "marker": {
          "color": "rgb(120, 154, 255)",
          "opacity": 0.35
         },
         "name": "2024-11-26",
         "showlegend": false,
         "type": "bar",
         "width": 0.45,
         "x": [
          "12M Fwd 4Y"
         ],
         "y": [
          0.0688462854153471
         ]
        },
        {
         "marker": {
          "color": "rgb(120, 154, 255)",
          "opacity": 0.35
         },
         "name": "2024-11-26",
         "showlegend": false,
         "type": "bar",
         "width": 0.45,
         "x": [
          "12M Fwd 5Y"
         ],
         "y": [
          0.3397405633072115
         ]
        },
        {
         "marker": {
          "color": "rgb(120, 154, 255)",
          "opacity": 0.35
         },
         "name": "2024-11-26",
         "showlegend": false,
         "type": "bar",
         "width": 0.45,
         "x": [
          "12M Fwd 6Y"
         ],
         "y": [
          -1.030584185943706
         ]
        },
        {
         "marker": {
          "color": "rgb(120, 154, 255)",
          "opacity": 0.35
         },
         "name": "2024-11-26",
         "showlegend": false,
         "type": "bar",
         "width": 0.45,
         "x": [
          "12M Fwd 7Y"
         ],
         "y": [
          -0.70379881971947
         ]
        },
        {
         "marker": {
          "color": "rgb(120, 154, 255)",
          "opacity": 0.35
         },
         "name": "2024-11-26",
         "showlegend": false,
         "type": "bar",
         "width": 0.45,
         "x": [
          "12M Fwd 8Y"
         ],
         "y": [
          -0.6146549699193482
         ]
        },
        {
         "marker": {
          "color": "rgb(120, 154, 255)",
          "opacity": 0.35
         },
         "name": "2024-11-26",
         "showlegend": false,
         "type": "bar",
         "width": 0.45,
         "x": [
          "12M Fwd 9Y"
         ],
         "y": [
          -0.38445221702989585
         ]
        },
        {
         "marker": {
          "color": "rgb(120, 154, 255)",
          "opacity": 0.35
         },
         "name": "2024-11-26",
         "showlegend": false,
         "type": "bar",
         "width": 0.45,
         "x": [
          "12M Fwd 10Y"
         ],
         "y": [
          -0.48079717130034005
         ]
        },
        {
         "marker": {
          "color": "rgb(120, 154, 255)",
          "opacity": 0.35
         },
         "name": "2024-11-26",
         "showlegend": false,
         "type": "bar",
         "width": 0.45,
         "x": [
          "12M Fwd 12Y"
         ],
         "y": [
          -0.4208096171155695
         ]
        },
        {
         "marker": {
          "color": "rgb(120, 154, 255)",
          "opacity": 0.35
         },
         "name": "2024-11-26",
         "showlegend": false,
         "type": "bar",
         "width": 0.45,
         "x": [
          "12M Fwd 15Y"
         ],
         "y": [
          -0.1693416357210875
         ]
        },
        {
         "marker": {
          "color": "rgb(120, 154, 255)",
          "opacity": 0.35
         },
         "name": "2024-11-26",
         "showlegend": false,
         "type": "bar",
         "width": 0.45,
         "x": [
          "12M Fwd 20Y"
         ],
         "y": [
          -0.06504854117936887
         ]
        },
        {
         "marker": {
          "color": "rgb(120, 154, 255)",
          "opacity": 0.35
         },
         "name": "2024-11-26",
         "showlegend": false,
         "type": "bar",
         "width": 0.45,
         "x": [
          "12M Fwd 25Y"
         ],
         "y": [
          0.03646528715619546
         ]
        },
        {
         "marker": {
          "color": "rgb(120, 154, 255)",
          "opacity": 0.35
         },
         "name": "2024-11-26",
         "showlegend": false,
         "type": "bar",
         "width": 0.45,
         "x": [
          "12M Fwd 30Y"
         ],
         "y": [
          0.3115797966609879
         ]
        },
        {
         "marker": {
          "color": "rgb(120, 154, 255)",
          "opacity": 0.35
         },
         "name": "2024-11-26",
         "showlegend": false,
         "type": "bar",
         "width": 0.45,
         "x": [
          "12M Fwd 40Y"
         ],
         "y": [
          0.3373824106039258
         ]
        },
        {
         "marker": {
          "color": "rgb(120, 154, 255)",
          "opacity": 0.35
         },
         "name": "2024-11-26",
         "showlegend": false,
         "type": "bar",
         "width": 0.45,
         "x": [
          "12M Fwd 50Y"
         ],
         "y": [
          1.5784667740634806
         ]
        }
       ],
       "layout": {
        "barmode": "overlay",
        "font": {
         "size": 11
        },
        "height": 750,
        "legend": {
         "orientation": "h",
         "title": {
          "text": "Dates"
         },
         "x": 1,
         "xanchor": "right",
         "y": 1.02,
         "yanchor": "bottom"
        },
        "template": {
         "data": {
          "bar": [
           {
            "error_x": {
             "color": "#f2f5fa"
            },
            "error_y": {
             "color": "#f2f5fa"
            },
            "marker": {
             "line": {
              "color": "rgb(17,17,17)",
              "width": 0.5
             },
             "pattern": {
              "fillmode": "overlay",
              "size": 10,
              "solidity": 0.2
             }
            },
            "type": "bar"
           }
          ],
          "barpolar": [
           {
            "marker": {
             "line": {
              "color": "rgb(17,17,17)",
              "width": 0.5
             },
             "pattern": {
              "fillmode": "overlay",
              "size": 10,
              "solidity": 0.2
             }
            },
            "type": "barpolar"
           }
          ],
          "carpet": [
           {
            "aaxis": {
             "endlinecolor": "#A2B1C6",
             "gridcolor": "#506784",
             "linecolor": "#506784",
             "minorgridcolor": "#506784",
             "startlinecolor": "#A2B1C6"
            },
            "baxis": {
             "endlinecolor": "#A2B1C6",
             "gridcolor": "#506784",
             "linecolor": "#506784",
             "minorgridcolor": "#506784",
             "startlinecolor": "#A2B1C6"
            },
            "type": "carpet"
           }
          ],
          "choropleth": [
           {
            "colorbar": {
             "outlinewidth": 0,
             "ticks": ""
            },
            "type": "choropleth"
           }
          ],
          "contour": [
           {
            "colorbar": {
             "outlinewidth": 0,
             "ticks": ""
            },
            "colorscale": [
             [
              0,
              "#0d0887"
             ],
             [
              0.1111111111111111,
              "#46039f"
             ],
             [
              0.2222222222222222,
              "#7201a8"
             ],
             [
              0.3333333333333333,
              "#9c179e"
             ],
             [
              0.4444444444444444,
              "#bd3786"
             ],
             [
              0.5555555555555556,
              "#d8576b"
             ],
             [
              0.6666666666666666,
              "#ed7953"
             ],
             [
              0.7777777777777778,
              "#fb9f3a"
             ],
             [
              0.8888888888888888,
              "#fdca26"
             ],
             [
              1,
              "#f0f921"
             ]
            ],
            "type": "contour"
           }
          ],
          "contourcarpet": [
           {
            "colorbar": {
             "outlinewidth": 0,
             "ticks": ""
            },
            "type": "contourcarpet"
           }
          ],
          "heatmap": [
           {
            "colorbar": {
             "outlinewidth": 0,
             "ticks": ""
            },
            "colorscale": [
             [
              0,
              "#0d0887"
             ],
             [
              0.1111111111111111,
              "#46039f"
             ],
             [
              0.2222222222222222,
              "#7201a8"
             ],
             [
              0.3333333333333333,
              "#9c179e"
             ],
             [
              0.4444444444444444,
              "#bd3786"
             ],
             [
              0.5555555555555556,
              "#d8576b"
             ],
             [
              0.6666666666666666,
              "#ed7953"
             ],
             [
              0.7777777777777778,
              "#fb9f3a"
             ],
             [
              0.8888888888888888,
              "#fdca26"
             ],
             [
              1,
              "#f0f921"
             ]
            ],
            "type": "heatmap"
           }
          ],
          "heatmapgl": [
           {
            "colorbar": {
             "outlinewidth": 0,
             "ticks": ""
            },
            "colorscale": [
             [
              0,
              "#0d0887"
             ],
             [
              0.1111111111111111,
              "#46039f"
             ],
             [
              0.2222222222222222,
              "#7201a8"
             ],
             [
              0.3333333333333333,
              "#9c179e"
             ],
             [
              0.4444444444444444,
              "#bd3786"
             ],
             [
              0.5555555555555556,
              "#d8576b"
             ],
             [
              0.6666666666666666,
              "#ed7953"
             ],
             [
              0.7777777777777778,
              "#fb9f3a"
             ],
             [
              0.8888888888888888,
              "#fdca26"
             ],
             [
              1,
              "#f0f921"
             ]
            ],
            "type": "heatmapgl"
           }
          ],
          "histogram": [
           {
            "marker": {
             "pattern": {
              "fillmode": "overlay",
              "size": 10,
              "solidity": 0.2
             }
            },
            "type": "histogram"
           }
          ],
          "histogram2d": [
           {
            "colorbar": {
             "outlinewidth": 0,
             "ticks": ""
            },
            "colorscale": [
             [
              0,
              "#0d0887"
             ],
             [
              0.1111111111111111,
              "#46039f"
             ],
             [
              0.2222222222222222,
              "#7201a8"
             ],
             [
              0.3333333333333333,
              "#9c179e"
             ],
             [
              0.4444444444444444,
              "#bd3786"
             ],
             [
              0.5555555555555556,
              "#d8576b"
             ],
             [
              0.6666666666666666,
              "#ed7953"
             ],
             [
              0.7777777777777778,
              "#fb9f3a"
             ],
             [
              0.8888888888888888,
              "#fdca26"
             ],
             [
              1,
              "#f0f921"
             ]
            ],
            "type": "histogram2d"
           }
          ],
          "histogram2dcontour": [
           {
            "colorbar": {
             "outlinewidth": 0,
             "ticks": ""
            },
            "colorscale": [
             [
              0,
              "#0d0887"
             ],
             [
              0.1111111111111111,
              "#46039f"
             ],
             [
              0.2222222222222222,
              "#7201a8"
             ],
             [
              0.3333333333333333,
              "#9c179e"
             ],
             [
              0.4444444444444444,
              "#bd3786"
             ],
             [
              0.5555555555555556,
              "#d8576b"
             ],
             [
              0.6666666666666666,
              "#ed7953"
             ],
             [
              0.7777777777777778,
              "#fb9f3a"
             ],
             [
              0.8888888888888888,
              "#fdca26"
             ],
             [
              1,
              "#f0f921"
             ]
            ],
            "type": "histogram2dcontour"
           }
          ],
          "mesh3d": [
           {
            "colorbar": {
             "outlinewidth": 0,
             "ticks": ""
            },
            "type": "mesh3d"
           }
          ],
          "parcoords": [
           {
            "line": {
             "colorbar": {
              "outlinewidth": 0,
              "ticks": ""
             }
            },
            "type": "parcoords"
           }
          ],
          "pie": [
           {
            "automargin": true,
            "type": "pie"
           }
          ],
          "scatter": [
           {
            "marker": {
             "line": {
              "color": "#283442"
             }
            },
            "type": "scatter"
           }
          ],
          "scatter3d": [
           {
            "line": {
             "colorbar": {
              "outlinewidth": 0,
              "ticks": ""
             }
            },
            "marker": {
             "colorbar": {
              "outlinewidth": 0,
              "ticks": ""
             }
            },
            "type": "scatter3d"
           }
          ],
          "scattercarpet": [
           {
            "marker": {
             "colorbar": {
              "outlinewidth": 0,
              "ticks": ""
             }
            },
            "type": "scattercarpet"
           }
          ],
          "scattergeo": [
           {
            "marker": {
             "colorbar": {
              "outlinewidth": 0,
              "ticks": ""
             }
            },
            "type": "scattergeo"
           }
          ],
          "scattergl": [
           {
            "marker": {
             "line": {
              "color": "#283442"
             }
            },
            "type": "scattergl"
           }
          ],
          "scattermapbox": [
           {
            "marker": {
             "colorbar": {
              "outlinewidth": 0,
              "ticks": ""
             }
            },
            "type": "scattermapbox"
           }
          ],
          "scatterpolar": [
           {
            "marker": {
             "colorbar": {
              "outlinewidth": 0,
              "ticks": ""
             }
            },
            "type": "scatterpolar"
           }
          ],
          "scatterpolargl": [
           {
            "marker": {
             "colorbar": {
              "outlinewidth": 0,
              "ticks": ""
             }
            },
            "type": "scatterpolargl"
           }
          ],
          "scatterternary": [
           {
            "marker": {
             "colorbar": {
              "outlinewidth": 0,
              "ticks": ""
             }
            },
            "type": "scatterternary"
           }
          ],
          "surface": [
           {
            "colorbar": {
             "outlinewidth": 0,
             "ticks": ""
            },
            "colorscale": [
             [
              0,
              "#0d0887"
             ],
             [
              0.1111111111111111,
              "#46039f"
             ],
             [
              0.2222222222222222,
              "#7201a8"
             ],
             [
              0.3333333333333333,
              "#9c179e"
             ],
             [
              0.4444444444444444,
              "#bd3786"
             ],
             [
              0.5555555555555556,
              "#d8576b"
             ],
             [
              0.6666666666666666,
              "#ed7953"
             ],
             [
              0.7777777777777778,
              "#fb9f3a"
             ],
             [
              0.8888888888888888,
              "#fdca26"
             ],
             [
              1,
              "#f0f921"
             ]
            ],
            "type": "surface"
           }
          ],
          "table": [
           {
            "cells": {
             "fill": {
              "color": "#506784"
             },
             "line": {
              "color": "rgb(17,17,17)"
             }
            },
            "header": {
             "fill": {
              "color": "#2a3f5f"
             },
             "line": {
              "color": "rgb(17,17,17)"
             }
            },
            "type": "table"
           }
          ]
         },
         "layout": {
          "annotationdefaults": {
           "arrowcolor": "#f2f5fa",
           "arrowhead": 0,
           "arrowwidth": 1
          },
          "autotypenumbers": "strict",
          "coloraxis": {
           "colorbar": {
            "outlinewidth": 0,
            "ticks": ""
           }
          },
          "colorscale": {
           "diverging": [
            [
             0,
             "#8e0152"
            ],
            [
             0.1,
             "#c51b7d"
            ],
            [
             0.2,
             "#de77ae"
            ],
            [
             0.3,
             "#f1b6da"
            ],
            [
             0.4,
             "#fde0ef"
            ],
            [
             0.5,
             "#f7f7f7"
            ],
            [
             0.6,
             "#e6f5d0"
            ],
            [
             0.7,
             "#b8e186"
            ],
            [
             0.8,
             "#7fbc41"
            ],
            [
             0.9,
             "#4d9221"
            ],
            [
             1,
             "#276419"
            ]
           ],
           "sequential": [
            [
             0,
             "#0d0887"
            ],
            [
             0.1111111111111111,
             "#46039f"
            ],
            [
             0.2222222222222222,
             "#7201a8"
            ],
            [
             0.3333333333333333,
             "#9c179e"
            ],
            [
             0.4444444444444444,
             "#bd3786"
            ],
            [
             0.5555555555555556,
             "#d8576b"
            ],
            [
             0.6666666666666666,
             "#ed7953"
            ],
            [
             0.7777777777777778,
             "#fb9f3a"
            ],
            [
             0.8888888888888888,
             "#fdca26"
            ],
            [
             1,
             "#f0f921"
            ]
           ],
           "sequentialminus": [
            [
             0,
             "#0d0887"
            ],
            [
             0.1111111111111111,
             "#46039f"
            ],
            [
             0.2222222222222222,
             "#7201a8"
            ],
            [
             0.3333333333333333,
             "#9c179e"
            ],
            [
             0.4444444444444444,
             "#bd3786"
            ],
            [
             0.5555555555555556,
             "#d8576b"
            ],
            [
             0.6666666666666666,
             "#ed7953"
            ],
            [
             0.7777777777777778,
             "#fb9f3a"
            ],
            [
             0.8888888888888888,
             "#fdca26"
            ],
            [
             1,
             "#f0f921"
            ]
           ]
          },
          "colorway": [
           "#636efa",
           "#EF553B",
           "#00cc96",
           "#ab63fa",
           "#FFA15A",
           "#19d3f3",
           "#FF6692",
           "#B6E880",
           "#FF97FF",
           "#FECB52"
          ],
          "font": {
           "color": "#f2f5fa"
          },
          "geo": {
           "bgcolor": "rgb(17,17,17)",
           "lakecolor": "rgb(17,17,17)",
           "landcolor": "rgb(17,17,17)",
           "showlakes": true,
           "showland": true,
           "subunitcolor": "#506784"
          },
          "hoverlabel": {
           "align": "left"
          },
          "hovermode": "closest",
          "mapbox": {
           "style": "dark"
          },
          "paper_bgcolor": "rgb(17,17,17)",
          "plot_bgcolor": "rgb(17,17,17)",
          "polar": {
           "angularaxis": {
            "gridcolor": "#506784",
            "linecolor": "#506784",
            "ticks": ""
           },
           "bgcolor": "rgb(17,17,17)",
           "radialaxis": {
            "gridcolor": "#506784",
            "linecolor": "#506784",
            "ticks": ""
           }
          },
          "scene": {
           "xaxis": {
            "backgroundcolor": "rgb(17,17,17)",
            "gridcolor": "#506784",
            "gridwidth": 2,
            "linecolor": "#506784",
            "showbackground": true,
            "ticks": "",
            "zerolinecolor": "#C8D4E3"
           },
           "yaxis": {
            "backgroundcolor": "rgb(17,17,17)",
            "gridcolor": "#506784",
            "gridwidth": 2,
            "linecolor": "#506784",
            "showbackground": true,
            "ticks": "",
            "zerolinecolor": "#C8D4E3"
           },
           "zaxis": {
            "backgroundcolor": "rgb(17,17,17)",
            "gridcolor": "#506784",
            "gridwidth": 2,
            "linecolor": "#506784",
            "showbackground": true,
            "ticks": "",
            "zerolinecolor": "#C8D4E3"
           }
          },
          "shapedefaults": {
           "line": {
            "color": "#f2f5fa"
           }
          },
          "sliderdefaults": {
           "bgcolor": "#C8D4E3",
           "bordercolor": "rgb(17,17,17)",
           "borderwidth": 1,
           "tickwidth": 0
          },
          "ternary": {
           "aaxis": {
            "gridcolor": "#506784",
            "linecolor": "#506784",
            "ticks": ""
           },
           "baxis": {
            "gridcolor": "#506784",
            "linecolor": "#506784",
            "ticks": ""
           },
           "bgcolor": "rgb(17,17,17)",
           "caxis": {
            "gridcolor": "#506784",
            "linecolor": "#506784",
            "ticks": ""
           }
          },
          "title": {
           "x": 0.05
          },
          "updatemenudefaults": {
           "bgcolor": "#506784",
           "borderwidth": 0
          },
          "xaxis": {
           "automargin": true,
           "gridcolor": "#283442",
           "linecolor": "#506784",
           "ticks": "",
           "title": {
            "standoff": 15
           },
           "zerolinecolor": "#283442",
           "zerolinewidth": 2
          },
          "yaxis": {
           "automargin": true,
           "gridcolor": "#283442",
           "linecolor": "#506784",
           "ticks": "",
           "title": {
            "standoff": 15
           },
           "zerolinecolor": "#283442",
           "zerolinewidth": 2
          }
         }
        },
        "title": {
         "text": "2024-12-24 PCA Residuals from YTD Spot & 12M Fwd SOFR OIS Daily Rates with 1W & 1M Old Residuals Overlaid (skinner & lighter => older)"
        },
        "xaxis": {
         "showgrid": true,
         "showspikes": true,
         "spikecolor": "white",
         "spikemode": "across",
         "spikesnap": "cursor",
         "title": {
          "text": "Tenor"
         }
        },
        "yaxis": {
         "showgrid": true,
         "showspikes": true,
         "spikecolor": "white",
         "spikesnap": "cursor",
         "spikethickness": 0.5,
         "title": {
          "text": "Residuals (bps)"
         }
        }
       }
      }
     },
     "metadata": {},
     "output_type": "display_data"
    }
   ],
   "source": [
    "sofr_ois.pca_residual_credit_suisse_BBar_plot(\n",
    "    pca_results=pca_results,\n",
    "    tenors_to_plot=[\n",
    "        \"2Y\",\n",
    "        \"3Y\",\n",
    "        \"4Y\",\n",
    "        \"5Y\",\n",
    "        \"6Y\",\n",
    "        \"7Y\",\n",
    "        \"8Y\",\n",
    "        \"9Y\",\n",
    "        \"10Y\",\n",
    "        \"12Y\",\n",
    "        \"15Y\",\n",
    "        \"20Y\",\n",
    "        \"25Y\",\n",
    "        \"30Y\",\n",
    "        \"40Y\",\n",
    "        \"50Y\",\n",
    "        \"12M Fwd 12M\",\n",
    "        \"12M Fwd 2Y\",\n",
    "        \"12M Fwd 3Y\",\n",
    "        \"12M Fwd 4Y\",\n",
    "        \"12M Fwd 5Y\",\n",
    "        \"12M Fwd 6Y\",\n",
    "        \"12M Fwd 7Y\",\n",
    "        \"12M Fwd 8Y\",\n",
    "        \"12M Fwd 9Y\",\n",
    "        \"12M Fwd 10Y\",\n",
    "        \"12M Fwd 12Y\",\n",
    "        \"12M Fwd 15Y\",\n",
    "        \"12M Fwd 20Y\",\n",
    "        \"12M Fwd 25Y\",\n",
    "        \"12M Fwd 30Y\",\n",
    "        \"12M Fwd 40Y\",\n",
    "        \"12M Fwd 50Y\",\n",
    "    ],\n",
    "    bday_offsets=[20, 5], \n",
    "    title=\"2024-12-24 PCA Residuals from YTD Spot & 12M Fwd SOFR OIS Daily Rates with 1W & 1M Old Residuals Overlaid (skinner & lighter => older)\"\n",
    ")"
   ]
  }
 ],
 "metadata": {
  "kernelspec": {
   "display_name": "Python 3",
   "language": "python",
   "name": "python3"
  },
  "language_info": {
   "codemirror_mode": {
    "name": "ipython",
    "version": 3
   },
   "file_extension": ".py",
   "mimetype": "text/x-python",
   "name": "python",
   "nbconvert_exporter": "python",
   "pygments_lexer": "ipython3",
   "version": "3.13.0"
  }
 },
 "nbformat": 4,
 "nbformat_minor": 2
}
