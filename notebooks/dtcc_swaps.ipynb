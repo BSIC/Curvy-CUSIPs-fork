{
 "cells": [
  {
   "cell_type": "code",
   "execution_count": 1,
   "metadata": {},
   "outputs": [],
   "source": [
    "import sys\n",
    "sys.path.append(\"../src\")"
   ]
  },
  {
   "cell_type": "code",
   "execution_count": 2,
   "metadata": {},
   "outputs": [
    {
     "name": "stdout",
     "output_type": "stream",
     "text": [
      "c:\\Users\\chris\\Project Bond King\\Curvy-CUSIPs\\notebooks\\../.env\n"
     ]
    }
   ],
   "source": [
    "from CurvyCUSIPs.CurveDataFetcher import CurveDataFetcher\n",
    "from CurvyCUSIPs.utils.dtcc_swaps_utils import datetime_to_ql_date, tenor_to_ql_period, format_swap_time_and_sales, build_ql_piecewise_curves\n",
    "from datetime import datetime\n",
    "import pandas.tseries.offsets as offsets\n",
    "import pandas as pd\n",
    "import matplotlib.pyplot as plt\n",
    "import seaborn as sns\n",
    "import numpy as np\n",
    "import scipy\n",
    "from scipy.optimize import brentq\n",
    "import scipy.interpolate\n",
    "import rateslib as rl\n",
    "import QuantLib as ql\n",
    "import plotly.graph_objects as go\n",
    "from termcolor import colored\n",
    "from functools import reduce\n",
    "from sklearn.cluster import KMeans\n",
    "from sklearn.metrics import silhouette_score\n",
    "from sklearn.decomposition import PCA\n",
    "import statsmodels.api as sm\n",
    "from typing import Dict, List, Optional, Tuple\n",
    "import urllib.parse\n",
    "import requests\n",
    "import pickle\n",
    "import os\n",
    "import shelve\n",
    "\n",
    "from dotenv import dotenv_values\n",
    "env_path = os.path.join(os.getcwd(), \"../.env\")\n",
    "print(env_path)\n",
    "config = dotenv_values(env_path)\n",
    "\n",
    "import nest_asyncio\n",
    "nest_asyncio.apply()\n",
    "\n",
    "import matplotlib.pylab as pylab\n",
    "params = {\n",
    "    \"legend.fontsize\": \"x-large\",\n",
    "    \"axes.labelsize\": \"x-large\",\n",
    "    \"axes.titlesize\": \"x-large\",\n",
    "    \"xtick.labelsize\": \"x-large\",\n",
    "    \"ytick.labelsize\": \"x-large\",\n",
    "}\n",
    "pylab.rcParams.update(params)\n",
    "sns.set(style=\"whitegrid\", palette=\"dark\")\n",
    "import warnings\n",
    "warnings.filterwarnings('ignore', category=FutureWarning)\n",
    "warnings.filterwarnings('ignore', category=pd.errors.SettingWithCopyWarning)\n",
    "\n",
    "%load_ext autoreload\n",
    "%autoreload 2"
   ]
  },
  {
   "cell_type": "code",
   "execution_count": 8,
   "metadata": {},
   "outputs": [
    {
     "name": "stderr",
     "output_type": "stream",
     "text": [
      "2024-11-19 11:51:33,298 - CurvyCUSIPs.DataFetcher.base - DEBUG - UST Auctions - Number of Links to Fetch: 2\n",
      "2024-11-19 11:51:33,299 - CurvyCUSIPs.DataFetcher.base - DEBUG - UST Auctions - Links: ['https://api.fiscaldata.treasury.gov/services/api/fiscal_service/v1/accounting/od/auctions_query?page[number]=1&page[size]=10000', 'https://api.fiscaldata.treasury.gov/services/api/fiscal_service/v1/accounting/od/auctions_query?page[number]=2&page[size]=10000']\n"
     ]
    }
   ],
   "source": [
    "curve_data_fetcher = CurveDataFetcher(use_ust_issue_date=True, fred_api_key=config[\"FRED_API_KEY\"], error_verbose=True, debug_verbose=True)"
   ]
  },
  {
   "cell_type": "code",
   "execution_count": 302,
   "metadata": {},
   "outputs": [
    {
     "name": "stderr",
     "output_type": "stream",
     "text": [
      "FETCHING DTCC SDR DATASETS...: 100%|██████████| 1/1 [00:00<00:00,  1.56it/s]\n",
      "BUILDING SOFR CURVES...: 100%|██████████| 1/1 [00:00<00:00,  1.01it/s]\n"
     ]
    },
    {
     "data": {
      "text/html": [
       "<div>\n",
       "<style scoped>\n",
       "    .dataframe tbody tr th:only-of-type {\n",
       "        vertical-align: middle;\n",
       "    }\n",
       "\n",
       "    .dataframe tbody tr th {\n",
       "        vertical-align: top;\n",
       "    }\n",
       "\n",
       "    .dataframe thead th {\n",
       "        text-align: right;\n",
       "    }\n",
       "</style>\n",
       "<table border=\"1\" class=\"dataframe\">\n",
       "  <thead>\n",
       "    <tr style=\"text-align: right;\">\n",
       "      <th></th>\n",
       "      <th>Tenor</th>\n",
       "      <th>Expiry</th>\n",
       "      <th>Open</th>\n",
       "      <th>High</th>\n",
       "      <th>Low</th>\n",
       "      <th>Close</th>\n",
       "      <th>VWAP</th>\n",
       "    </tr>\n",
       "  </thead>\n",
       "  <tbody>\n",
       "    <tr>\n",
       "      <th>0</th>\n",
       "      <td>1D</td>\n",
       "      <td>2024-11-21</td>\n",
       "      <td>0.046152</td>\n",
       "      <td>0.046152</td>\n",
       "      <td>0.046206</td>\n",
       "      <td>0.046204</td>\n",
       "      <td>0.046190</td>\n",
       "    </tr>\n",
       "    <tr>\n",
       "      <th>1</th>\n",
       "      <td>1W</td>\n",
       "      <td>2024-11-27</td>\n",
       "      <td>0.046091</td>\n",
       "      <td>0.046091</td>\n",
       "      <td>0.046139</td>\n",
       "      <td>0.046138</td>\n",
       "      <td>0.046125</td>\n",
       "    </tr>\n",
       "    <tr>\n",
       "      <th>2</th>\n",
       "      <td>2W</td>\n",
       "      <td>2024-12-04</td>\n",
       "      <td>0.046020</td>\n",
       "      <td>0.046020</td>\n",
       "      <td>0.046062</td>\n",
       "      <td>0.046060</td>\n",
       "      <td>0.046050</td>\n",
       "    </tr>\n",
       "    <tr>\n",
       "      <th>3</th>\n",
       "      <td>3W</td>\n",
       "      <td>2024-12-11</td>\n",
       "      <td>0.045948</td>\n",
       "      <td>0.045948</td>\n",
       "      <td>0.045984</td>\n",
       "      <td>0.045983</td>\n",
       "      <td>0.045974</td>\n",
       "    </tr>\n",
       "    <tr>\n",
       "      <th>4</th>\n",
       "      <td>1M</td>\n",
       "      <td>2024-12-20</td>\n",
       "      <td>0.045854</td>\n",
       "      <td>0.045854</td>\n",
       "      <td>0.045881</td>\n",
       "      <td>0.045880</td>\n",
       "      <td>0.045873</td>\n",
       "    </tr>\n",
       "    <tr>\n",
       "      <th>5</th>\n",
       "      <td>2M</td>\n",
       "      <td>2025-01-21</td>\n",
       "      <td>0.045545</td>\n",
       "      <td>0.045545</td>\n",
       "      <td>0.045545</td>\n",
       "      <td>0.045545</td>\n",
       "      <td>0.045545</td>\n",
       "    </tr>\n",
       "    <tr>\n",
       "      <th>6</th>\n",
       "      <td>3M</td>\n",
       "      <td>2025-02-20</td>\n",
       "      <td>0.045236</td>\n",
       "      <td>0.045236</td>\n",
       "      <td>0.045209</td>\n",
       "      <td>0.045210</td>\n",
       "      <td>0.045217</td>\n",
       "    </tr>\n",
       "    <tr>\n",
       "      <th>7</th>\n",
       "      <td>4M</td>\n",
       "      <td>2025-03-20</td>\n",
       "      <td>0.044917</td>\n",
       "      <td>0.044933</td>\n",
       "      <td>0.044898</td>\n",
       "      <td>0.044912</td>\n",
       "      <td>0.044913</td>\n",
       "    </tr>\n",
       "    <tr>\n",
       "      <th>8</th>\n",
       "      <td>5M</td>\n",
       "      <td>2025-04-21</td>\n",
       "      <td>0.044597</td>\n",
       "      <td>0.044629</td>\n",
       "      <td>0.044588</td>\n",
       "      <td>0.044613</td>\n",
       "      <td>0.044609</td>\n",
       "    </tr>\n",
       "    <tr>\n",
       "      <th>9</th>\n",
       "      <td>6M</td>\n",
       "      <td>2025-05-20</td>\n",
       "      <td>0.044277</td>\n",
       "      <td>0.044325</td>\n",
       "      <td>0.044277</td>\n",
       "      <td>0.044315</td>\n",
       "      <td>0.044304</td>\n",
       "    </tr>\n",
       "    <tr>\n",
       "      <th>10</th>\n",
       "      <td>9M</td>\n",
       "      <td>2025-08-20</td>\n",
       "      <td>0.043565</td>\n",
       "      <td>0.043590</td>\n",
       "      <td>0.043487</td>\n",
       "      <td>0.043522</td>\n",
       "      <td>0.043555</td>\n",
       "    </tr>\n",
       "    <tr>\n",
       "      <th>11</th>\n",
       "      <td>12M</td>\n",
       "      <td>2025-11-20</td>\n",
       "      <td>0.042853</td>\n",
       "      <td>0.042855</td>\n",
       "      <td>0.042696</td>\n",
       "      <td>0.042729</td>\n",
       "      <td>0.042805</td>\n",
       "    </tr>\n",
       "    <tr>\n",
       "      <th>12</th>\n",
       "      <td>18M</td>\n",
       "      <td>2026-05-20</td>\n",
       "      <td>0.041625</td>\n",
       "      <td>0.041625</td>\n",
       "      <td>0.041625</td>\n",
       "      <td>0.041625</td>\n",
       "      <td>0.041625</td>\n",
       "    </tr>\n",
       "    <tr>\n",
       "      <th>13</th>\n",
       "      <td>2Y</td>\n",
       "      <td>2026-11-20</td>\n",
       "      <td>0.040950</td>\n",
       "      <td>0.040950</td>\n",
       "      <td>0.040639</td>\n",
       "      <td>0.040842</td>\n",
       "      <td>0.040877</td>\n",
       "    </tr>\n",
       "    <tr>\n",
       "      <th>14</th>\n",
       "      <td>3Y</td>\n",
       "      <td>2027-11-22</td>\n",
       "      <td>0.040120</td>\n",
       "      <td>0.040120</td>\n",
       "      <td>0.039899</td>\n",
       "      <td>0.040044</td>\n",
       "      <td>0.040041</td>\n",
       "    </tr>\n",
       "    <tr>\n",
       "      <th>15</th>\n",
       "      <td>4Y</td>\n",
       "      <td>2028-11-20</td>\n",
       "      <td>0.039782</td>\n",
       "      <td>0.039783</td>\n",
       "      <td>0.039542</td>\n",
       "      <td>0.039630</td>\n",
       "      <td>0.039678</td>\n",
       "    </tr>\n",
       "    <tr>\n",
       "      <th>16</th>\n",
       "      <td>5Y</td>\n",
       "      <td>2029-11-20</td>\n",
       "      <td>0.039444</td>\n",
       "      <td>0.039446</td>\n",
       "      <td>0.039185</td>\n",
       "      <td>0.039215</td>\n",
       "      <td>0.039314</td>\n",
       "    </tr>\n",
       "    <tr>\n",
       "      <th>17</th>\n",
       "      <td>6Y</td>\n",
       "      <td>2030-11-20</td>\n",
       "      <td>0.039344</td>\n",
       "      <td>0.039377</td>\n",
       "      <td>0.039077</td>\n",
       "      <td>0.039123</td>\n",
       "      <td>0.039282</td>\n",
       "    </tr>\n",
       "    <tr>\n",
       "      <th>18</th>\n",
       "      <td>7Y</td>\n",
       "      <td>2031-11-20</td>\n",
       "      <td>0.039244</td>\n",
       "      <td>0.039307</td>\n",
       "      <td>0.038969</td>\n",
       "      <td>0.039031</td>\n",
       "      <td>0.039249</td>\n",
       "    </tr>\n",
       "    <tr>\n",
       "      <th>19</th>\n",
       "      <td>8Y</td>\n",
       "      <td>2032-11-22</td>\n",
       "      <td>0.039270</td>\n",
       "      <td>0.039338</td>\n",
       "      <td>0.038971</td>\n",
       "      <td>0.039051</td>\n",
       "      <td>0.039234</td>\n",
       "    </tr>\n",
       "    <tr>\n",
       "      <th>20</th>\n",
       "      <td>9Y</td>\n",
       "      <td>2033-11-21</td>\n",
       "      <td>0.039296</td>\n",
       "      <td>0.039369</td>\n",
       "      <td>0.038973</td>\n",
       "      <td>0.039071</td>\n",
       "      <td>0.039219</td>\n",
       "    </tr>\n",
       "    <tr>\n",
       "      <th>21</th>\n",
       "      <td>10Y</td>\n",
       "      <td>2034-11-20</td>\n",
       "      <td>0.039322</td>\n",
       "      <td>0.039400</td>\n",
       "      <td>0.038975</td>\n",
       "      <td>0.039091</td>\n",
       "      <td>0.039203</td>\n",
       "    </tr>\n",
       "    <tr>\n",
       "      <th>22</th>\n",
       "      <td>12Y</td>\n",
       "      <td>2036-11-20</td>\n",
       "      <td>0.039670</td>\n",
       "      <td>0.039670</td>\n",
       "      <td>0.039623</td>\n",
       "      <td>0.039623</td>\n",
       "      <td>0.039660</td>\n",
       "    </tr>\n",
       "    <tr>\n",
       "      <th>23</th>\n",
       "      <td>15Y</td>\n",
       "      <td>2039-11-21</td>\n",
       "      <td>0.039625</td>\n",
       "      <td>0.039625</td>\n",
       "      <td>0.039625</td>\n",
       "      <td>0.039625</td>\n",
       "      <td>0.039625</td>\n",
       "    </tr>\n",
       "    <tr>\n",
       "      <th>24</th>\n",
       "      <td>20Y</td>\n",
       "      <td>2044-11-21</td>\n",
       "      <td>0.039600</td>\n",
       "      <td>0.039600</td>\n",
       "      <td>0.039361</td>\n",
       "      <td>0.039385</td>\n",
       "      <td>0.039541</td>\n",
       "    </tr>\n",
       "    <tr>\n",
       "      <th>25</th>\n",
       "      <td>25Y</td>\n",
       "      <td>2049-11-22</td>\n",
       "      <td>0.039010</td>\n",
       "      <td>0.039010</td>\n",
       "      <td>0.038947</td>\n",
       "      <td>0.038947</td>\n",
       "      <td>0.039002</td>\n",
       "    </tr>\n",
       "    <tr>\n",
       "      <th>26</th>\n",
       "      <td>30Y</td>\n",
       "      <td>2054-11-20</td>\n",
       "      <td>0.038000</td>\n",
       "      <td>0.038015</td>\n",
       "      <td>0.037620</td>\n",
       "      <td>0.037710</td>\n",
       "      <td>0.037873</td>\n",
       "    </tr>\n",
       "    <tr>\n",
       "      <th>27</th>\n",
       "      <td>40Y</td>\n",
       "      <td>2064-11-20</td>\n",
       "      <td>0.035980</td>\n",
       "      <td>0.036025</td>\n",
       "      <td>0.034967</td>\n",
       "      <td>0.035236</td>\n",
       "      <td>0.035614</td>\n",
       "    </tr>\n",
       "    <tr>\n",
       "      <th>28</th>\n",
       "      <td>50Y</td>\n",
       "      <td>2074-11-20</td>\n",
       "      <td>0.033960</td>\n",
       "      <td>0.034035</td>\n",
       "      <td>0.032314</td>\n",
       "      <td>0.032762</td>\n",
       "      <td>0.033356</td>\n",
       "    </tr>\n",
       "  </tbody>\n",
       "</table>\n",
       "</div>"
      ],
      "text/plain": [
       "   Tenor     Expiry      Open      High       Low     Close      VWAP\n",
       "0     1D 2024-11-21  0.046152  0.046152  0.046206  0.046204  0.046190\n",
       "1     1W 2024-11-27  0.046091  0.046091  0.046139  0.046138  0.046125\n",
       "2     2W 2024-12-04  0.046020  0.046020  0.046062  0.046060  0.046050\n",
       "3     3W 2024-12-11  0.045948  0.045948  0.045984  0.045983  0.045974\n",
       "4     1M 2024-12-20  0.045854  0.045854  0.045881  0.045880  0.045873\n",
       "5     2M 2025-01-21  0.045545  0.045545  0.045545  0.045545  0.045545\n",
       "6     3M 2025-02-20  0.045236  0.045236  0.045209  0.045210  0.045217\n",
       "7     4M 2025-03-20  0.044917  0.044933  0.044898  0.044912  0.044913\n",
       "8     5M 2025-04-21  0.044597  0.044629  0.044588  0.044613  0.044609\n",
       "9     6M 2025-05-20  0.044277  0.044325  0.044277  0.044315  0.044304\n",
       "10    9M 2025-08-20  0.043565  0.043590  0.043487  0.043522  0.043555\n",
       "11   12M 2025-11-20  0.042853  0.042855  0.042696  0.042729  0.042805\n",
       "12   18M 2026-05-20  0.041625  0.041625  0.041625  0.041625  0.041625\n",
       "13    2Y 2026-11-20  0.040950  0.040950  0.040639  0.040842  0.040877\n",
       "14    3Y 2027-11-22  0.040120  0.040120  0.039899  0.040044  0.040041\n",
       "15    4Y 2028-11-20  0.039782  0.039783  0.039542  0.039630  0.039678\n",
       "16    5Y 2029-11-20  0.039444  0.039446  0.039185  0.039215  0.039314\n",
       "17    6Y 2030-11-20  0.039344  0.039377  0.039077  0.039123  0.039282\n",
       "18    7Y 2031-11-20  0.039244  0.039307  0.038969  0.039031  0.039249\n",
       "19    8Y 2032-11-22  0.039270  0.039338  0.038971  0.039051  0.039234\n",
       "20    9Y 2033-11-21  0.039296  0.039369  0.038973  0.039071  0.039219\n",
       "21   10Y 2034-11-20  0.039322  0.039400  0.038975  0.039091  0.039203\n",
       "22   12Y 2036-11-20  0.039670  0.039670  0.039623  0.039623  0.039660\n",
       "23   15Y 2039-11-21  0.039625  0.039625  0.039625  0.039625  0.039625\n",
       "24   20Y 2044-11-21  0.039600  0.039600  0.039361  0.039385  0.039541\n",
       "25   25Y 2049-11-22  0.039010  0.039010  0.038947  0.038947  0.039002\n",
       "26   30Y 2054-11-20  0.038000  0.038015  0.037620  0.037710  0.037873\n",
       "27   40Y 2064-11-20  0.035980  0.036025  0.034967  0.035236  0.035614\n",
       "28   50Y 2074-11-20  0.033960  0.034035  0.032314  0.032762  0.033356"
      ]
     },
     "metadata": {},
     "output_type": "display_data"
    },
    {
     "data": {
      "text/html": [
       "<div>\n",
       "<style scoped>\n",
       "    .dataframe tbody tr th:only-of-type {\n",
       "        vertical-align: middle;\n",
       "    }\n",
       "\n",
       "    .dataframe tbody tr th {\n",
       "        vertical-align: top;\n",
       "    }\n",
       "\n",
       "    .dataframe thead th {\n",
       "        text-align: right;\n",
       "    }\n",
       "</style>\n",
       "<table border=\"1\" class=\"dataframe\">\n",
       "  <thead>\n",
       "    <tr style=\"text-align: right;\">\n",
       "      <th></th>\n",
       "      <th>Event timestamp</th>\n",
       "      <th>Execution Timestamp</th>\n",
       "      <th>Effective Date</th>\n",
       "      <th>Expiration Date</th>\n",
       "      <th>Platform identifier</th>\n",
       "      <th>Tenor</th>\n",
       "      <th>Fwd</th>\n",
       "      <th>Fixed Rate</th>\n",
       "      <th>Direction</th>\n",
       "      <th>Notional Amount</th>\n",
       "      <th>Unique Product Identifier</th>\n",
       "      <th>UPI FISN</th>\n",
       "      <th>UPI Underlier Name</th>\n",
       "    </tr>\n",
       "  </thead>\n",
       "  <tbody>\n",
       "    <tr>\n",
       "      <th>0</th>\n",
       "      <td>2024-11-18 00:26:50</td>\n",
       "      <td>2024-11-18 00:26:50</td>\n",
       "      <td>2025-03-19</td>\n",
       "      <td>2045-03-19</td>\n",
       "      <td>TWSF</td>\n",
       "      <td>20Y</td>\n",
       "      <td>3M</td>\n",
       "      <td>0.034002</td>\n",
       "      <td>receive</td>\n",
       "      <td>7000000</td>\n",
       "      <td>QZXQ4R16245X</td>\n",
       "      <td>NA/Swap OIS USD</td>\n",
       "      <td>USD-SOFR-COMPOUND</td>\n",
       "    </tr>\n",
       "    <tr>\n",
       "      <th>1</th>\n",
       "      <td>2024-11-18 00:51:04</td>\n",
       "      <td>2024-11-18 00:51:04</td>\n",
       "      <td>2024-11-20</td>\n",
       "      <td>2025-02-20</td>\n",
       "      <td>BMTF</td>\n",
       "      <td>3M</td>\n",
       "      <td>0D</td>\n",
       "      <td>0.045144</td>\n",
       "      <td>receive</td>\n",
       "      <td>400000000</td>\n",
       "      <td>QZXQ4R16245X</td>\n",
       "      <td>NA/Swap OIS USD</td>\n",
       "      <td>USD-SOFR-COMPOUND</td>\n",
       "    </tr>\n",
       "    <tr>\n",
       "      <th>2</th>\n",
       "      <td>2024-11-18 01:04:01</td>\n",
       "      <td>2024-11-18 01:04:01</td>\n",
       "      <td>2024-11-20</td>\n",
       "      <td>2054-11-20</td>\n",
       "      <td>BBSF</td>\n",
       "      <td>30Y</td>\n",
       "      <td>0D</td>\n",
       "      <td>0.037765</td>\n",
       "      <td>receive</td>\n",
       "      <td>3000000</td>\n",
       "      <td>QZXQ4R16245X</td>\n",
       "      <td>NA/Swap OIS USD</td>\n",
       "      <td>USD-SOFR-COMPOUND</td>\n",
       "    </tr>\n",
       "    <tr>\n",
       "      <th>3</th>\n",
       "      <td>2024-11-18 01:19:12</td>\n",
       "      <td>2024-11-18 01:19:12</td>\n",
       "      <td>2024-11-20</td>\n",
       "      <td>2034-11-20</td>\n",
       "      <td>BBSF</td>\n",
       "      <td>10Y</td>\n",
       "      <td>0D</td>\n",
       "      <td>0.039215</td>\n",
       "      <td>receive</td>\n",
       "      <td>5000000</td>\n",
       "      <td>QZXQ4R16245X</td>\n",
       "      <td>NA/Swap OIS USD</td>\n",
       "      <td>USD-SOFR-COMPOUND</td>\n",
       "    </tr>\n",
       "    <tr>\n",
       "      <th>4</th>\n",
       "      <td>2024-11-18 01:29:55</td>\n",
       "      <td>2024-11-18 01:29:55</td>\n",
       "      <td>2024-11-20</td>\n",
       "      <td>2054-11-20</td>\n",
       "      <td>BBSF</td>\n",
       "      <td>30Y</td>\n",
       "      <td>0D</td>\n",
       "      <td>0.037761</td>\n",
       "      <td>receive</td>\n",
       "      <td>3000000</td>\n",
       "      <td>QZXQ4R16245X</td>\n",
       "      <td>NA/Swap OIS USD</td>\n",
       "      <td>USD-SOFR-COMPOUND</td>\n",
       "    </tr>\n",
       "    <tr>\n",
       "      <th>...</th>\n",
       "      <td>...</td>\n",
       "      <td>...</td>\n",
       "      <td>...</td>\n",
       "      <td>...</td>\n",
       "      <td>...</td>\n",
       "      <td>...</td>\n",
       "      <td>...</td>\n",
       "      <td>...</td>\n",
       "      <td>...</td>\n",
       "      <td>...</td>\n",
       "      <td>...</td>\n",
       "      <td>...</td>\n",
       "      <td>...</td>\n",
       "    </tr>\n",
       "    <tr>\n",
       "      <th>530</th>\n",
       "      <td>2024-11-18 21:42:30</td>\n",
       "      <td>2024-11-18 21:42:30</td>\n",
       "      <td>2024-11-20</td>\n",
       "      <td>2044-11-20</td>\n",
       "      <td>BBSF</td>\n",
       "      <td>20Y</td>\n",
       "      <td>0D</td>\n",
       "      <td>0.039356</td>\n",
       "      <td>receive</td>\n",
       "      <td>9000000</td>\n",
       "      <td>QZXQ4R16245X</td>\n",
       "      <td>NA/Swap OIS USD</td>\n",
       "      <td>USD-SOFR-COMPOUND</td>\n",
       "    </tr>\n",
       "    <tr>\n",
       "      <th>531</th>\n",
       "      <td>2024-11-18 21:44:45</td>\n",
       "      <td>2024-11-18 21:44:45</td>\n",
       "      <td>2024-11-20</td>\n",
       "      <td>2027-01-19</td>\n",
       "      <td>BBSF</td>\n",
       "      <td>2Y</td>\n",
       "      <td>0D</td>\n",
       "      <td>0.040545</td>\n",
       "      <td>receive</td>\n",
       "      <td>370000000</td>\n",
       "      <td>QZXQ4R16245X</td>\n",
       "      <td>NA/Swap OIS USD</td>\n",
       "      <td>USD-SOFR-COMPOUND</td>\n",
       "    </tr>\n",
       "    <tr>\n",
       "      <th>532</th>\n",
       "      <td>2024-11-18 21:46:52</td>\n",
       "      <td>2024-11-18 21:46:52</td>\n",
       "      <td>2024-11-20</td>\n",
       "      <td>2026-08-22</td>\n",
       "      <td>BBSF</td>\n",
       "      <td>21M</td>\n",
       "      <td>0D</td>\n",
       "      <td>0.040989</td>\n",
       "      <td>receive</td>\n",
       "      <td>300000000</td>\n",
       "      <td>QZXQ4R16245X</td>\n",
       "      <td>NA/Swap OIS USD</td>\n",
       "      <td>USD-SOFR-COMPOUND</td>\n",
       "    </tr>\n",
       "    <tr>\n",
       "      <th>533</th>\n",
       "      <td>2024-11-18 21:55:21</td>\n",
       "      <td>2024-11-18 21:55:21</td>\n",
       "      <td>2022-11-25</td>\n",
       "      <td>2032-11-25</td>\n",
       "      <td>BBSF</td>\n",
       "      <td>10Y</td>\n",
       "      <td>-726D</td>\n",
       "      <td>0.034672</td>\n",
       "      <td>receive</td>\n",
       "      <td>8000000</td>\n",
       "      <td>QZXQ4R16245X</td>\n",
       "      <td>NA/Swap OIS USD</td>\n",
       "      <td>USD-SOFR-COMPOUND</td>\n",
       "    </tr>\n",
       "    <tr>\n",
       "      <th>534</th>\n",
       "      <td>2024-11-18 21:57:59</td>\n",
       "      <td>2024-11-18 21:57:59</td>\n",
       "      <td>2024-11-20</td>\n",
       "      <td>2034-11-20</td>\n",
       "      <td>BBSF</td>\n",
       "      <td>10Y</td>\n",
       "      <td>0D</td>\n",
       "      <td>0.039091</td>\n",
       "      <td>receive</td>\n",
       "      <td>18000000</td>\n",
       "      <td>QZXQ4R16245X</td>\n",
       "      <td>NA/Swap OIS USD</td>\n",
       "      <td>USD-SOFR-COMPOUND</td>\n",
       "    </tr>\n",
       "  </tbody>\n",
       "</table>\n",
       "<p>535 rows × 13 columns</p>\n",
       "</div>"
      ],
      "text/plain": [
       "        Event timestamp Execution Timestamp Effective Date Expiration Date  \\\n",
       "0   2024-11-18 00:26:50 2024-11-18 00:26:50     2025-03-19      2045-03-19   \n",
       "1   2024-11-18 00:51:04 2024-11-18 00:51:04     2024-11-20      2025-02-20   \n",
       "2   2024-11-18 01:04:01 2024-11-18 01:04:01     2024-11-20      2054-11-20   \n",
       "3   2024-11-18 01:19:12 2024-11-18 01:19:12     2024-11-20      2034-11-20   \n",
       "4   2024-11-18 01:29:55 2024-11-18 01:29:55     2024-11-20      2054-11-20   \n",
       "..                  ...                 ...            ...             ...   \n",
       "530 2024-11-18 21:42:30 2024-11-18 21:42:30     2024-11-20      2044-11-20   \n",
       "531 2024-11-18 21:44:45 2024-11-18 21:44:45     2024-11-20      2027-01-19   \n",
       "532 2024-11-18 21:46:52 2024-11-18 21:46:52     2024-11-20      2026-08-22   \n",
       "533 2024-11-18 21:55:21 2024-11-18 21:55:21     2022-11-25      2032-11-25   \n",
       "534 2024-11-18 21:57:59 2024-11-18 21:57:59     2024-11-20      2034-11-20   \n",
       "\n",
       "    Platform identifier Tenor    Fwd  Fixed Rate Direction  Notional Amount  \\\n",
       "0                  TWSF   20Y     3M    0.034002   receive          7000000   \n",
       "1                  BMTF    3M     0D    0.045144   receive        400000000   \n",
       "2                  BBSF   30Y     0D    0.037765   receive          3000000   \n",
       "3                  BBSF   10Y     0D    0.039215   receive          5000000   \n",
       "4                  BBSF   30Y     0D    0.037761   receive          3000000   \n",
       "..                  ...   ...    ...         ...       ...              ...   \n",
       "530                BBSF   20Y     0D    0.039356   receive          9000000   \n",
       "531                BBSF    2Y     0D    0.040545   receive        370000000   \n",
       "532                BBSF   21M     0D    0.040989   receive        300000000   \n",
       "533                BBSF   10Y  -726D    0.034672   receive          8000000   \n",
       "534                BBSF   10Y     0D    0.039091   receive         18000000   \n",
       "\n",
       "    Unique Product Identifier         UPI FISN UPI Underlier Name  \n",
       "0                QZXQ4R16245X  NA/Swap OIS USD  USD-SOFR-COMPOUND  \n",
       "1                QZXQ4R16245X  NA/Swap OIS USD  USD-SOFR-COMPOUND  \n",
       "2                QZXQ4R16245X  NA/Swap OIS USD  USD-SOFR-COMPOUND  \n",
       "3                QZXQ4R16245X  NA/Swap OIS USD  USD-SOFR-COMPOUND  \n",
       "4                QZXQ4R16245X  NA/Swap OIS USD  USD-SOFR-COMPOUND  \n",
       "..                        ...              ...                ...  \n",
       "530              QZXQ4R16245X  NA/Swap OIS USD  USD-SOFR-COMPOUND  \n",
       "531              QZXQ4R16245X  NA/Swap OIS USD  USD-SOFR-COMPOUND  \n",
       "532              QZXQ4R16245X  NA/Swap OIS USD  USD-SOFR-COMPOUND  \n",
       "533              QZXQ4R16245X  NA/Swap OIS USD  USD-SOFR-COMPOUND  \n",
       "534              QZXQ4R16245X  NA/Swap OIS USD  USD-SOFR-COMPOUND  \n",
       "\n",
       "[535 rows x 13 columns]"
      ]
     },
     "metadata": {},
     "output_type": "display_data"
    },
    {
     "data": {
      "text/plain": [
       "{'logLinearDiscount': <QuantLib.QuantLib.PiecewiseLogLinearDiscount; proxy of <Swig Object of type 'ext::shared_ptr< PiecewiseLogLinearDiscount > *' at 0x000002E68A64E1F0> >,\n",
       " 'logCubicDiscount': <QuantLib.QuantLib.PiecewiseLogCubicDiscount; proxy of <Swig Object of type 'ext::shared_ptr< PiecewiseLogCubicDiscount > *' at 0x000002E68A63BAE0> >,\n",
       " 'linearZero': <QuantLib.QuantLib.PiecewiseLinearZero; proxy of <Swig Object of type 'ext::shared_ptr< PiecewiseLinearZero > *' at 0x000002E68A75A0A0> >,\n",
       " 'cubicZero': <QuantLib.QuantLib.PiecewiseCubicZero; proxy of <Swig Object of type 'ext::shared_ptr< PiecewiseCubicZero > *' at 0x000002E68A6382D0> >,\n",
       " 'linearForward': <QuantLib.QuantLib.PiecewiseLinearForward; proxy of <Swig Object of type 'ext::shared_ptr< PiecewiseLinearForward > *' at 0x000002E68A63AB80> >,\n",
       " 'splineCubicDiscount': <QuantLib.QuantLib.PiecewiseSplineCubicDiscount; proxy of <Swig Object of type 'ext::shared_ptr< PiecewiseSplineCubicDiscount > *' at 0x000002E68A6389C0> >}"
      ]
     },
     "metadata": {},
     "output_type": "display_data"
    },
    {
     "data": {
      "image/png": "[encoded data removed]",
      "text/plain": [
       "<Figure size 1200x600 with 1 Axes>"
      ]
     },
     "metadata": {},
     "output_type": "display_data"
    },
    {
     "data": {
      "image/png": "[encoded data removed]",
      "text/plain": [
       "<Figure size 1200x600 with 1 Axes>"
      ]
     },
     "metadata": {},
     "output_type": "display_data"
    },
    {
     "data": {
      "image/png": "[encoded data removed]",
      "text/plain": [
       "<Figure size 1200x600 with 1 Axes>"
      ]
     },
     "metadata": {},
     "output_type": "display_data"
    }
   ],
   "source": [
    "# https://www.jpmorgan.com/content/dam/jpm/global/disclosures/IN/usd-inr-irs.pdf\n",
    "\n",
    "as_of_date = datetime(2024, 11, 18)\n",
    "calendar = ql.UnitedStates(ql.UnitedStates.GovernmentBond)\n",
    "day_count = ql.Actual360()\n",
    "fixing_lag = 1\n",
    "\n",
    "swaps_dict = curve_data_fetcher.dtcc_sdr_fetcher.fetch_historical_swaps_term_structure(\n",
    "    start_date=as_of_date,\n",
    "    end_date=as_of_date,\n",
    "    swap_type=\"Fixed_Float_OIS\",\n",
    "    # reference_floating_rates=[\"USD-SOFR-COMPOUND\", \"USD-SOFR-OIS Compound\"],\n",
    "    reference_floating_rates=[\"USD-SOFR-COMPOUND\"],\n",
    "    ccy=\"USD\",\n",
    "    reference_floating_rate_term_value=1,\n",
    "    reference_floating_rate_term_unit=\"DAYS\",\n",
    "    notional_schedule=\"Constant\",\n",
    "    delivery_types=[\"CASH\", \"PHYS\"],\n",
    "    tenor_col=\"Tenor\",\n",
    "    fixed_rate_col=\"Close\",\n",
    "    settlement_t_plus=2,\n",
    "    payment_lag=2,\n",
    "    ql_index=ql.OvernightIndex(\n",
    "        \"SOFR\",\n",
    "        fixing_lag,\n",
    "        ql.USDCurrency(),\n",
    "        calendar,\n",
    "        day_count,\n",
    "        ql.YieldTermStructureHandle()\n",
    "    ),\n",
    "    fixed_leg_frequency=ql.Annual,\n",
    "    fixed_leg_daycount=day_count,\n",
    "    fixed_leg_convention=ql.ModifiedFollowing,\n",
    "    fixed_leg_calendar=calendar,\n",
    "    logLinearDiscount=True,\n",
    "    logCubicDiscount=True,\n",
    "    linearZero=True,\n",
    "    cubicZero=True,\n",
    "    linearForward=True,\n",
    "    splineCubicDiscount=True,\n",
    "    ny_hours_only=True,\n",
    "    filter_extreme_time_and_sales=True,\n",
    "    # verbose=True\n",
    ")\n",
    "\n",
    "display(swaps_dict[as_of_date][\"ohlc\"])\n",
    "display(swaps_dict[as_of_date][\"time_and_sales\"])\n",
    "display(swaps_dict[as_of_date][\"ql_curves\"])\n",
    "\n",
    "test_ql_curve = swaps_dict[as_of_date][\"ql_curves\"][\"logLinearDiscount\"]\n",
    "test_ql_curve.enableExtrapolation()\n",
    "expiry_dates = swaps_dict[as_of_date][\"ohlc\"][\"Expiry\"].dt.to_pydatetime()\n",
    "\n",
    "plt.figure(figsize=(12, 6))\n",
    "plt.plot(expiry_dates, swaps_dict[as_of_date][\"ohlc\"][\"Close\"] * 100, label=\"Swaps Curve (NY Close)\")\n",
    "plt.title(\"Swaps Curve (NY Clos)\")\n",
    "plt.xlabel(\"Maturity Date\")\n",
    "plt.ylabel(\"Fixed Rate\")\n",
    "plt.grid(True)\n",
    "plt.legend()\n",
    "plt.show()\n",
    "\n",
    "zero_rates = [\n",
    "    test_ql_curve.zeroRate(datetime_to_ql_date(maturity), ql.Actual360(), ql.Compounded, ql.Annual).rate() * 100 for maturity in expiry_dates\n",
    "]\n",
    "\n",
    "plt.figure(figsize=(12, 6))\n",
    "plt.plot(expiry_dates, zero_rates, label=\"Zero Curve\")\n",
    "plt.title(\"Zero Rate Curve\")\n",
    "plt.xlabel(\"Maturity Date\")\n",
    "plt.ylabel(\"Zero Rate\")\n",
    "plt.grid(True)\n",
    "plt.legend()\n",
    "plt.show()\n",
    "\n",
    "fwd_rates = [\n",
    "    test_ql_curve.forwardRate(datetime_to_ql_date(date), datetime_to_ql_date(date) + tenor_to_ql_period(\"3M\"), ql.Actual360(), ql.Simple).rate()\n",
    "    * 100\n",
    "    for date in expiry_dates\n",
    "]\n",
    "plt.figure(figsize=(12, 6))\n",
    "plt.plot(expiry_dates, fwd_rates, label=\"Zero Curve\")\n",
    "plt.title(\"Implied Rate 3m fwd Curve\")\n",
    "plt.xlabel(\"Maturity Date\")\n",
    "plt.ylabel(\"Zero Rate\")\n",
    "plt.grid(True)\n",
    "plt.legend()\n",
    "plt.show()"
   ]
  },
  {
   "cell_type": "code",
   "execution_count": 299,
   "metadata": {},
   "outputs": [
    {
     "data": {
      "text/html": [
       "<div>\n",
       "<style scoped>\n",
       "    .dataframe tbody tr th:only-of-type {\n",
       "        vertical-align: middle;\n",
       "    }\n",
       "\n",
       "    .dataframe tbody tr th {\n",
       "        vertical-align: top;\n",
       "    }\n",
       "\n",
       "    .dataframe thead th {\n",
       "        text-align: right;\n",
       "    }\n",
       "</style>\n",
       "<table border=\"1\" class=\"dataframe\">\n",
       "  <thead>\n",
       "    <tr style=\"text-align: right;\">\n",
       "      <th></th>\n",
       "      <th>Event timestamp</th>\n",
       "      <th>Execution Timestamp</th>\n",
       "      <th>Effective Date</th>\n",
       "      <th>Expiration Date</th>\n",
       "      <th>Platform identifier</th>\n",
       "      <th>Tenor</th>\n",
       "      <th>Fwd</th>\n",
       "      <th>Fixed Rate</th>\n",
       "      <th>Direction</th>\n",
       "      <th>Notional Amount</th>\n",
       "      <th>Unique Product Identifier</th>\n",
       "      <th>UPI FISN</th>\n",
       "      <th>UPI Underlier Name</th>\n",
       "    </tr>\n",
       "  </thead>\n",
       "  <tbody>\n",
       "    <tr>\n",
       "      <th>13</th>\n",
       "      <td>2023-10-06 01:56:19</td>\n",
       "      <td>2023-10-06 01:56:19</td>\n",
       "      <td>2023-10-11</td>\n",
       "      <td>2033-10-11</td>\n",
       "      <td>BBSF</td>\n",
       "      <td>10Y</td>\n",
       "      <td>1D</td>\n",
       "      <td>0.044126</td>\n",
       "      <td>pay</td>\n",
       "      <td>2000000.0</td>\n",
       "      <td>DNE</td>\n",
       "      <td>DNE</td>\n",
       "      <td>USD-SOFR-COMPOUND</td>\n",
       "    </tr>\n",
       "    <tr>\n",
       "      <th>30</th>\n",
       "      <td>2023-10-06 05:11:31</td>\n",
       "      <td>2023-10-06 05:11:31</td>\n",
       "      <td>2023-10-11</td>\n",
       "      <td>2033-10-11</td>\n",
       "      <td>TREU</td>\n",
       "      <td>10Y</td>\n",
       "      <td>1D</td>\n",
       "      <td>0.044132</td>\n",
       "      <td>receive</td>\n",
       "      <td>5000000.0</td>\n",
       "      <td>DNE</td>\n",
       "      <td>DNE</td>\n",
       "      <td>USD-SOFR-COMPOUND</td>\n",
       "    </tr>\n",
       "    <tr>\n",
       "      <th>35</th>\n",
       "      <td>2023-10-06 05:54:34</td>\n",
       "      <td>2023-10-06 05:54:34</td>\n",
       "      <td>2023-10-11</td>\n",
       "      <td>2033-10-11</td>\n",
       "      <td>BBSF</td>\n",
       "      <td>10Y</td>\n",
       "      <td>1D</td>\n",
       "      <td>0.044190</td>\n",
       "      <td>receive</td>\n",
       "      <td>50000000.0</td>\n",
       "      <td>DNE</td>\n",
       "      <td>DNE</td>\n",
       "      <td>USD-SOFR-COMPOUND</td>\n",
       "    </tr>\n",
       "    <tr>\n",
       "      <th>36</th>\n",
       "      <td>2023-10-06 05:55:17</td>\n",
       "      <td>2023-10-06 05:55:17</td>\n",
       "      <td>2023-10-11</td>\n",
       "      <td>2033-10-11</td>\n",
       "      <td>BBSF</td>\n",
       "      <td>10Y</td>\n",
       "      <td>1D</td>\n",
       "      <td>0.044199</td>\n",
       "      <td>receive</td>\n",
       "      <td>50000000.0</td>\n",
       "      <td>DNE</td>\n",
       "      <td>DNE</td>\n",
       "      <td>USD-SOFR-COMPOUND</td>\n",
       "    </tr>\n",
       "    <tr>\n",
       "      <th>37</th>\n",
       "      <td>2023-10-06 05:55:59</td>\n",
       "      <td>2023-10-06 05:55:59</td>\n",
       "      <td>2023-10-11</td>\n",
       "      <td>2033-10-11</td>\n",
       "      <td>BBSF</td>\n",
       "      <td>10Y</td>\n",
       "      <td>1D</td>\n",
       "      <td>0.044199</td>\n",
       "      <td>receive</td>\n",
       "      <td>50000000.0</td>\n",
       "      <td>DNE</td>\n",
       "      <td>DNE</td>\n",
       "      <td>USD-SOFR-COMPOUND</td>\n",
       "    </tr>\n",
       "    <tr>\n",
       "      <th>...</th>\n",
       "      <td>...</td>\n",
       "      <td>...</td>\n",
       "      <td>...</td>\n",
       "      <td>...</td>\n",
       "      <td>...</td>\n",
       "      <td>...</td>\n",
       "      <td>...</td>\n",
       "      <td>...</td>\n",
       "      <td>...</td>\n",
       "      <td>...</td>\n",
       "      <td>...</td>\n",
       "      <td>...</td>\n",
       "      <td>...</td>\n",
       "    </tr>\n",
       "    <tr>\n",
       "      <th>752</th>\n",
       "      <td>2023-10-06 20:05:16</td>\n",
       "      <td>2023-10-06 20:05:16</td>\n",
       "      <td>2023-10-11</td>\n",
       "      <td>2033-10-11</td>\n",
       "      <td>TWSF</td>\n",
       "      <td>10Y</td>\n",
       "      <td>1D</td>\n",
       "      <td>0.044840</td>\n",
       "      <td>receive</td>\n",
       "      <td>130000000.0</td>\n",
       "      <td>DNE</td>\n",
       "      <td>DNE</td>\n",
       "      <td>USD-SOFR-COMPOUND</td>\n",
       "    </tr>\n",
       "    <tr>\n",
       "      <th>768</th>\n",
       "      <td>2023-10-06 20:57:15</td>\n",
       "      <td>2023-10-06 20:57:15</td>\n",
       "      <td>2023-10-11</td>\n",
       "      <td>2033-10-11</td>\n",
       "      <td>TWSF</td>\n",
       "      <td>10Y</td>\n",
       "      <td>1D</td>\n",
       "      <td>0.044905</td>\n",
       "      <td>receive</td>\n",
       "      <td>25000000.0</td>\n",
       "      <td>DNE</td>\n",
       "      <td>DNE</td>\n",
       "      <td>USD-SOFR-COMPOUND</td>\n",
       "    </tr>\n",
       "    <tr>\n",
       "      <th>769</th>\n",
       "      <td>2023-10-06 20:58:26</td>\n",
       "      <td>2023-10-06 20:58:26</td>\n",
       "      <td>2023-10-11</td>\n",
       "      <td>2033-10-11</td>\n",
       "      <td>TWSF</td>\n",
       "      <td>10Y</td>\n",
       "      <td>1D</td>\n",
       "      <td>0.044922</td>\n",
       "      <td>receive</td>\n",
       "      <td>2000000.0</td>\n",
       "      <td>DNE</td>\n",
       "      <td>DNE</td>\n",
       "      <td>USD-SOFR-COMPOUND</td>\n",
       "    </tr>\n",
       "    <tr>\n",
       "      <th>770</th>\n",
       "      <td>2023-10-06 20:58:47</td>\n",
       "      <td>2023-10-06 20:58:47</td>\n",
       "      <td>2023-10-11</td>\n",
       "      <td>2033-10-11</td>\n",
       "      <td>TWSF</td>\n",
       "      <td>10Y</td>\n",
       "      <td>1D</td>\n",
       "      <td>0.044925</td>\n",
       "      <td>receive</td>\n",
       "      <td>23000000.0</td>\n",
       "      <td>DNE</td>\n",
       "      <td>DNE</td>\n",
       "      <td>USD-SOFR-COMPOUND</td>\n",
       "    </tr>\n",
       "    <tr>\n",
       "      <th>772</th>\n",
       "      <td>2023-10-06 21:48:12</td>\n",
       "      <td>2023-10-06 21:48:12</td>\n",
       "      <td>2023-10-11</td>\n",
       "      <td>2033-10-11</td>\n",
       "      <td>BILT</td>\n",
       "      <td>10Y</td>\n",
       "      <td>1D</td>\n",
       "      <td>0.037600</td>\n",
       "      <td>pay</td>\n",
       "      <td>50000000.0</td>\n",
       "      <td>DNE</td>\n",
       "      <td>DNE</td>\n",
       "      <td>USD-SOFR-COMPOUND</td>\n",
       "    </tr>\n",
       "  </tbody>\n",
       "</table>\n",
       "<p>89 rows × 13 columns</p>\n",
       "</div>"
      ],
      "text/plain": [
       "        Event timestamp Execution Timestamp Effective Date Expiration Date  \\\n",
       "13  2023-10-06 01:56:19 2023-10-06 01:56:19     2023-10-11      2033-10-11   \n",
       "30  2023-10-06 05:11:31 2023-10-06 05:11:31     2023-10-11      2033-10-11   \n",
       "35  2023-10-06 05:54:34 2023-10-06 05:54:34     2023-10-11      2033-10-11   \n",
       "36  2023-10-06 05:55:17 2023-10-06 05:55:17     2023-10-11      2033-10-11   \n",
       "37  2023-10-06 05:55:59 2023-10-06 05:55:59     2023-10-11      2033-10-11   \n",
       "..                  ...                 ...            ...             ...   \n",
       "752 2023-10-06 20:05:16 2023-10-06 20:05:16     2023-10-11      2033-10-11   \n",
       "768 2023-10-06 20:57:15 2023-10-06 20:57:15     2023-10-11      2033-10-11   \n",
       "769 2023-10-06 20:58:26 2023-10-06 20:58:26     2023-10-11      2033-10-11   \n",
       "770 2023-10-06 20:58:47 2023-10-06 20:58:47     2023-10-11      2033-10-11   \n",
       "772 2023-10-06 21:48:12 2023-10-06 21:48:12     2023-10-11      2033-10-11   \n",
       "\n",
       "    Platform identifier Tenor Fwd  Fixed Rate Direction  Notional Amount  \\\n",
       "13                 BBSF   10Y  1D    0.044126       pay        2000000.0   \n",
       "30                 TREU   10Y  1D    0.044132   receive        5000000.0   \n",
       "35                 BBSF   10Y  1D    0.044190   receive       50000000.0   \n",
       "36                 BBSF   10Y  1D    0.044199   receive       50000000.0   \n",
       "37                 BBSF   10Y  1D    0.044199   receive       50000000.0   \n",
       "..                  ...   ...  ..         ...       ...              ...   \n",
       "752                TWSF   10Y  1D    0.044840   receive      130000000.0   \n",
       "768                TWSF   10Y  1D    0.044905   receive       25000000.0   \n",
       "769                TWSF   10Y  1D    0.044922   receive        2000000.0   \n",
       "770                TWSF   10Y  1D    0.044925   receive       23000000.0   \n",
       "772                BILT   10Y  1D    0.037600       pay       50000000.0   \n",
       "\n",
       "    Unique Product Identifier UPI FISN UPI Underlier Name  \n",
       "13                        DNE      DNE  USD-SOFR-COMPOUND  \n",
       "30                        DNE      DNE  USD-SOFR-COMPOUND  \n",
       "35                        DNE      DNE  USD-SOFR-COMPOUND  \n",
       "36                        DNE      DNE  USD-SOFR-COMPOUND  \n",
       "37                        DNE      DNE  USD-SOFR-COMPOUND  \n",
       "..                        ...      ...                ...  \n",
       "752                       DNE      DNE  USD-SOFR-COMPOUND  \n",
       "768                       DNE      DNE  USD-SOFR-COMPOUND  \n",
       "769                       DNE      DNE  USD-SOFR-COMPOUND  \n",
       "770                       DNE      DNE  USD-SOFR-COMPOUND  \n",
       "772                       DNE      DNE  USD-SOFR-COMPOUND  \n",
       "\n",
       "[89 rows x 13 columns]"
      ]
     },
     "execution_count": 299,
     "metadata": {},
     "output_type": "execute_result"
    }
   ],
   "source": [
    "ts_df = swaps_dict[as_of_date][\"time_and_sales\"]\n",
    "ts_df[(ts_df[\"Fwd\"] == \"1D\") & (ts_df[\"Tenor\"] == \"10Y\")]"
   ]
  },
  {
   "cell_type": "code",
   "execution_count": 264,
   "metadata": {},
   "outputs": [
    {
     "name": "stderr",
     "output_type": "stream",
     "text": [
      "FETCHING DTCC SDR DATASETS...: 100%|██████████| 1/1 [00:00<00:00,  1.87it/s]\n"
     ]
    },
    {
     "ename": "KeyError",
     "evalue": "'Unique Product Identifier'",
     "output_type": "error",
     "traceback": [
      "\u001b[1;31m---------------------------------------------------------------------------\u001b[0m",
      "\u001b[1;31mKeyError\u001b[0m                                  Traceback (most recent call last)",
      "File \u001b[1;32mc:\\Users\\chris\\Project Bond King\\Curvy-CUSIPs\\src\\curvycusipsdev\\Lib\\site-packages\\pandas\\core\\indexes\\base.py:3805\u001b[0m, in \u001b[0;36mIndex.get_loc\u001b[1;34m(self, key)\u001b[0m\n\u001b[0;32m   3804\u001b[0m \u001b[38;5;28;01mtry\u001b[39;00m:\n\u001b[1;32m-> 3805\u001b[0m     \u001b[38;5;28;01mreturn\u001b[39;00m \u001b[38;5;28;43mself\u001b[39;49m\u001b[38;5;241;43m.\u001b[39;49m\u001b[43m_engine\u001b[49m\u001b[38;5;241;43m.\u001b[39;49m\u001b[43mget_loc\u001b[49m\u001b[43m(\u001b[49m\u001b[43mcasted_key\u001b[49m\u001b[43m)\u001b[49m\n\u001b[0;32m   3806\u001b[0m \u001b[38;5;28;01mexcept\u001b[39;00m \u001b[38;5;167;01mKeyError\u001b[39;00m \u001b[38;5;28;01mas\u001b[39;00m err:\n",
      "File \u001b[1;32mindex.pyx:167\u001b[0m, in \u001b[0;36mpandas._libs.index.IndexEngine.get_loc\u001b[1;34m()\u001b[0m\n",
      "File \u001b[1;32mindex.pyx:196\u001b[0m, in \u001b[0;36mpandas._libs.index.IndexEngine.get_loc\u001b[1;34m()\u001b[0m\n",
      "File \u001b[1;32mpandas\\\\_libs\\\\hashtable_class_helper.pxi:7081\u001b[0m, in \u001b[0;36mpandas._libs.hashtable.PyObjectHashTable.get_item\u001b[1;34m()\u001b[0m\n",
      "File \u001b[1;32mpandas\\\\_libs\\\\hashtable_class_helper.pxi:7089\u001b[0m, in \u001b[0;36mpandas._libs.hashtable.PyObjectHashTable.get_item\u001b[1;34m()\u001b[0m\n",
      "\u001b[1;31mKeyError\u001b[0m: 'Unique Product Identifier'",
      "\nThe above exception was the direct cause of the following exception:\n",
      "\u001b[1;31mKeyError\u001b[0m                                  Traceback (most recent call last)",
      "Cell \u001b[1;32mIn[264], line 3\u001b[0m\n\u001b[0;32m      1\u001b[0m sdr_time_and_sales \u001b[38;5;241m=\u001b[39m curve_data_fetcher\u001b[38;5;241m.\u001b[39mdtcc_sdr_fetcher\u001b[38;5;241m.\u001b[39mfetch_dtcc_sdr_data_timeseries(start_date\u001b[38;5;241m=\u001b[39mas_of_date, end_date\u001b[38;5;241m=\u001b[39mas_of_date, agency\u001b[38;5;241m=\u001b[39m\u001b[38;5;124m\"\u001b[39m\u001b[38;5;124mCFTC\u001b[39m\u001b[38;5;124m\"\u001b[39m, asset_class\u001b[38;5;241m=\u001b[39m\u001b[38;5;124m\"\u001b[39m\u001b[38;5;124mRATES\u001b[39m\u001b[38;5;124m\"\u001b[39m)\n\u001b[0;32m      2\u001b[0m sdr_time_and_sales_df \u001b[38;5;241m=\u001b[39m sdr_time_and_sales[as_of_date]\n\u001b[1;32m----> 3\u001b[0m sdr_time_and_sales_df[\u001b[43msdr_time_and_sales_df\u001b[49m\u001b[43m[\u001b[49m\u001b[38;5;124;43m\"\u001b[39;49m\u001b[38;5;124;43mUnique Product Identifier\u001b[39;49m\u001b[38;5;124;43m\"\u001b[39;49m\u001b[43m]\u001b[49m \u001b[38;5;241m==\u001b[39m \u001b[38;5;124m\"\u001b[39m\u001b[38;5;124mQZXQ4R16245X\u001b[39m\u001b[38;5;124m\"\u001b[39m]\n",
      "File \u001b[1;32mc:\\Users\\chris\\Project Bond King\\Curvy-CUSIPs\\src\\curvycusipsdev\\Lib\\site-packages\\pandas\\core\\frame.py:4102\u001b[0m, in \u001b[0;36mDataFrame.__getitem__\u001b[1;34m(self, key)\u001b[0m\n\u001b[0;32m   4100\u001b[0m \u001b[38;5;28;01mif\u001b[39;00m \u001b[38;5;28mself\u001b[39m\u001b[38;5;241m.\u001b[39mcolumns\u001b[38;5;241m.\u001b[39mnlevels \u001b[38;5;241m>\u001b[39m \u001b[38;5;241m1\u001b[39m:\n\u001b[0;32m   4101\u001b[0m     \u001b[38;5;28;01mreturn\u001b[39;00m \u001b[38;5;28mself\u001b[39m\u001b[38;5;241m.\u001b[39m_getitem_multilevel(key)\n\u001b[1;32m-> 4102\u001b[0m indexer \u001b[38;5;241m=\u001b[39m \u001b[38;5;28;43mself\u001b[39;49m\u001b[38;5;241;43m.\u001b[39;49m\u001b[43mcolumns\u001b[49m\u001b[38;5;241;43m.\u001b[39;49m\u001b[43mget_loc\u001b[49m\u001b[43m(\u001b[49m\u001b[43mkey\u001b[49m\u001b[43m)\u001b[49m\n\u001b[0;32m   4103\u001b[0m \u001b[38;5;28;01mif\u001b[39;00m is_integer(indexer):\n\u001b[0;32m   4104\u001b[0m     indexer \u001b[38;5;241m=\u001b[39m [indexer]\n",
      "File \u001b[1;32mc:\\Users\\chris\\Project Bond King\\Curvy-CUSIPs\\src\\curvycusipsdev\\Lib\\site-packages\\pandas\\core\\indexes\\base.py:3812\u001b[0m, in \u001b[0;36mIndex.get_loc\u001b[1;34m(self, key)\u001b[0m\n\u001b[0;32m   3807\u001b[0m     \u001b[38;5;28;01mif\u001b[39;00m \u001b[38;5;28misinstance\u001b[39m(casted_key, \u001b[38;5;28mslice\u001b[39m) \u001b[38;5;129;01mor\u001b[39;00m (\n\u001b[0;32m   3808\u001b[0m         \u001b[38;5;28misinstance\u001b[39m(casted_key, abc\u001b[38;5;241m.\u001b[39mIterable)\n\u001b[0;32m   3809\u001b[0m         \u001b[38;5;129;01mand\u001b[39;00m \u001b[38;5;28many\u001b[39m(\u001b[38;5;28misinstance\u001b[39m(x, \u001b[38;5;28mslice\u001b[39m) \u001b[38;5;28;01mfor\u001b[39;00m x \u001b[38;5;129;01min\u001b[39;00m casted_key)\n\u001b[0;32m   3810\u001b[0m     ):\n\u001b[0;32m   3811\u001b[0m         \u001b[38;5;28;01mraise\u001b[39;00m InvalidIndexError(key)\n\u001b[1;32m-> 3812\u001b[0m     \u001b[38;5;28;01mraise\u001b[39;00m \u001b[38;5;167;01mKeyError\u001b[39;00m(key) \u001b[38;5;28;01mfrom\u001b[39;00m \u001b[38;5;21;01merr\u001b[39;00m\n\u001b[0;32m   3813\u001b[0m \u001b[38;5;28;01mexcept\u001b[39;00m \u001b[38;5;167;01mTypeError\u001b[39;00m:\n\u001b[0;32m   3814\u001b[0m     \u001b[38;5;66;03m# If we have a listlike key, _check_indexing_error will raise\u001b[39;00m\n\u001b[0;32m   3815\u001b[0m     \u001b[38;5;66;03m#  InvalidIndexError. Otherwise we fall through and re-raise\u001b[39;00m\n\u001b[0;32m   3816\u001b[0m     \u001b[38;5;66;03m#  the TypeError.\u001b[39;00m\n\u001b[0;32m   3817\u001b[0m     \u001b[38;5;28mself\u001b[39m\u001b[38;5;241m.\u001b[39m_check_indexing_error(key)\n",
      "\u001b[1;31mKeyError\u001b[0m: 'Unique Product Identifier'"
     ]
    }
   ],
   "source": [
    "sdr_time_and_sales = curve_data_fetcher.dtcc_sdr_fetcher.fetch_dtcc_sdr_data_timeseries(start_date=as_of_date, end_date=as_of_date, agency=\"CFTC\", asset_class=\"RATES\")\n",
    "sdr_time_and_sales_df = sdr_time_and_sales[as_of_date]\n",
    "sdr_time_and_sales_df[sdr_time_and_sales_df[\"Unique Product Identifier\"] == \"QZXQ4R16245X\"]"
   ]
  },
  {
   "cell_type": "code",
   "execution_count": 44,
   "metadata": {},
   "outputs": [],
   "source": [
    "ql_discount_factor_curve_from_loaded = {}\n",
    "with shelve.open(r\"C:\\Users\\chris\\Project Bond King\\ql_swap_curve_objs\\nyc_sofr_ois_curve_builds_master\") as db:\n",
    "    for curr_date in [datetime(2024, 11, 15)]:\n",
    "        loaded_ql_nodes_dict: Dict = db[str(int(curr_date.timestamp()))][\"splineCubicDiscount\"]\n",
    "        ql_discount_factor_curve_from_loaded[curr_date] = ql.DiscountCurve(\n",
    "            [datetime_to_ql_date(mat) for mat in loaded_ql_nodes_dict.keys()],\n",
    "            loaded_ql_nodes_dict.values(),\n",
    "            ql.Actual360(),\n",
    "            ql.UnitedStates(ql.UnitedStates.FederalReserve),\n",
    "        )"
   ]
  },
  {
   "cell_type": "code",
   "execution_count": 45,
   "metadata": {},
   "outputs": [
    {
     "data": {
      "image/png": "[encoded data removed]",
      "text/plain": [
       "<Figure size 1200x600 with 1 Axes>"
      ]
     },
     "metadata": {},
     "output_type": "display_data"
    },
    {
     "data": {
      "image/png": "[encoded data removed]",
      "text/plain": [
       "<Figure size 1200x600 with 1 Axes>"
      ]
     },
     "metadata": {},
     "output_type": "display_data"
    }
   ],
   "source": [
    "test_date = datetime(2024, 11, 15) \n",
    "loaded_ql_df_curve: ql.DiscountCurve = ql_discount_factor_curve_from_loaded[test_date]\n",
    "loaded_ql_df_curve.enableExtrapolation()\n",
    "\n",
    "expiry_dates = [datetime(node[0].year(), node[0].month(), node[0].dayOfMonth()) for node in loaded_ql_df_curve.nodes()]\n",
    "\n",
    "zero_rates = [\n",
    "    loaded_ql_df_curve.zeroRate(datetime_to_ql_date(maturity), ql.Actual360(), ql.Compounded, ql.Annual).rate() * 100 for maturity in expiry_dates\n",
    "]\n",
    "\n",
    "plt.figure(figsize=(12, 6))\n",
    "plt.plot(expiry_dates, zero_rates, label=\"Zero Curve\")\n",
    "plt.title(\"Zero Rate Curve\")\n",
    "plt.xlabel(\"Maturity Date\")\n",
    "plt.ylabel(\"Zero Rate\")\n",
    "plt.grid(True)\n",
    "plt.legend()\n",
    "plt.show()\n",
    "\n",
    "fwd_rates = [\n",
    "    loaded_ql_df_curve.forwardRate(datetime_to_ql_date(date), datetime_to_ql_date(date) + tenor_to_ql_period(\"1M\"), ql.Actual360(), ql.Simple).rate()\n",
    "    * 100\n",
    "    for date in expiry_dates\n",
    "]\n",
    "plt.figure(figsize=(12, 6))\n",
    "plt.plot(expiry_dates, fwd_rates, label=\"Zero Curve\")\n",
    "plt.title(\"Implied Rate 1m fwd Curve\")\n",
    "plt.xlabel(\"Maturity Date\")\n",
    "plt.ylabel(\"Zero Rate\")\n",
    "plt.grid(True)\n",
    "plt.legend()\n",
    "plt.show()"
   ]
  },
  {
   "cell_type": "code",
   "execution_count": 139,
   "metadata": {},
   "outputs": [
    {
     "ename": "KeyError",
     "evalue": "0",
     "output_type": "error",
     "traceback": [
      "\u001b[1;31m---------------------------------------------------------------------------\u001b[0m",
      "\u001b[1;31mKeyError\u001b[0m                                  Traceback (most recent call last)",
      "File \u001b[1;32mc:\\Users\\chris\\Project Bond King\\Curvy-CUSIPs\\src\\curvycusipsdev\\Lib\\site-packages\\pandas\\core\\indexes\\base.py:3805\u001b[0m, in \u001b[0;36mIndex.get_loc\u001b[1;34m(self, key)\u001b[0m\n\u001b[0;32m   3804\u001b[0m \u001b[38;5;28;01mtry\u001b[39;00m:\n\u001b[1;32m-> 3805\u001b[0m     \u001b[38;5;28;01mreturn\u001b[39;00m \u001b[38;5;28;43mself\u001b[39;49m\u001b[38;5;241;43m.\u001b[39;49m\u001b[43m_engine\u001b[49m\u001b[38;5;241;43m.\u001b[39;49m\u001b[43mget_loc\u001b[49m\u001b[43m(\u001b[49m\u001b[43mcasted_key\u001b[49m\u001b[43m)\u001b[49m\n\u001b[0;32m   3806\u001b[0m \u001b[38;5;28;01mexcept\u001b[39;00m \u001b[38;5;167;01mKeyError\u001b[39;00m \u001b[38;5;28;01mas\u001b[39;00m err:\n",
      "File \u001b[1;32mindex.pyx:167\u001b[0m, in \u001b[0;36mpandas._libs.index.IndexEngine.get_loc\u001b[1;34m()\u001b[0m\n",
      "File \u001b[1;32mindex.pyx:196\u001b[0m, in \u001b[0;36mpandas._libs.index.IndexEngine.get_loc\u001b[1;34m()\u001b[0m\n",
      "File \u001b[1;32mpandas\\\\_libs\\\\hashtable_class_helper.pxi:7081\u001b[0m, in \u001b[0;36mpandas._libs.hashtable.PyObjectHashTable.get_item\u001b[1;34m()\u001b[0m\n",
      "File \u001b[1;32mpandas\\\\_libs\\\\hashtable_class_helper.pxi:7089\u001b[0m, in \u001b[0;36mpandas._libs.hashtable.PyObjectHashTable.get_item\u001b[1;34m()\u001b[0m\n",
      "\u001b[1;31mKeyError\u001b[0m: 0",
      "\nThe above exception was the direct cause of the following exception:\n",
      "\u001b[1;31mKeyError\u001b[0m                                  Traceback (most recent call last)",
      "Cell \u001b[1;32mIn[139], line 1\u001b[0m\n\u001b[1;32m----> 1\u001b[0m curr_curve \u001b[38;5;241m=\u001b[39m \u001b[43msofr_ois_term_structures\u001b[49m\u001b[43m[\u001b[49m\u001b[43mtest_date\u001b[49m\u001b[43m]\u001b[49m\u001b[43m[\u001b[49m\u001b[38;5;241;43m0\u001b[39;49m\u001b[43m]\u001b[49m[\u001b[38;5;124m\"\u001b[39m\u001b[38;5;124mNelsonSiegelFitting\u001b[39m\u001b[38;5;124m\"\u001b[39m]\n\u001b[0;32m      2\u001b[0m curr_curve\u001b[38;5;241m.\u001b[39menableExtrapolation()\n\u001b[0;32m      4\u001b[0m ts_df, scipy_interp_dict\u001b[38;5;241m=\u001b[39m build_sofr_ois_term_structure_df(\n\u001b[0;32m      5\u001b[0m     df\u001b[38;5;241m=\u001b[39msofr_ois_term_structures[start_date][\u001b[38;5;241m0\u001b[39m],\n\u001b[0;32m      6\u001b[0m     as_of_date\u001b[38;5;241m=\u001b[39mstart_date,\n\u001b[1;32m   (...)\u001b[0m\n\u001b[0;32m      9\u001b[0m     fwd_rate_tenors\u001b[38;5;241m=\u001b[39m[\u001b[38;5;124m\"\u001b[39m\u001b[38;5;124m1M\u001b[39m\u001b[38;5;124m\"\u001b[39m, \u001b[38;5;124m\"\u001b[39m\u001b[38;5;124m3M\u001b[39m\u001b[38;5;124m\"\u001b[39m, \u001b[38;5;124m\"\u001b[39m\u001b[38;5;124m6M\u001b[39m\u001b[38;5;124m\"\u001b[39m, \u001b[38;5;124m\"\u001b[39m\u001b[38;5;124m12M\u001b[39m\u001b[38;5;124m\"\u001b[39m],\n\u001b[0;32m     10\u001b[0m )\n",
      "File \u001b[1;32mc:\\Users\\chris\\Project Bond King\\Curvy-CUSIPs\\src\\curvycusipsdev\\Lib\\site-packages\\pandas\\core\\frame.py:4102\u001b[0m, in \u001b[0;36mDataFrame.__getitem__\u001b[1;34m(self, key)\u001b[0m\n\u001b[0;32m   4100\u001b[0m \u001b[38;5;28;01mif\u001b[39;00m \u001b[38;5;28mself\u001b[39m\u001b[38;5;241m.\u001b[39mcolumns\u001b[38;5;241m.\u001b[39mnlevels \u001b[38;5;241m>\u001b[39m \u001b[38;5;241m1\u001b[39m:\n\u001b[0;32m   4101\u001b[0m     \u001b[38;5;28;01mreturn\u001b[39;00m \u001b[38;5;28mself\u001b[39m\u001b[38;5;241m.\u001b[39m_getitem_multilevel(key)\n\u001b[1;32m-> 4102\u001b[0m indexer \u001b[38;5;241m=\u001b[39m \u001b[38;5;28;43mself\u001b[39;49m\u001b[38;5;241;43m.\u001b[39;49m\u001b[43mcolumns\u001b[49m\u001b[38;5;241;43m.\u001b[39;49m\u001b[43mget_loc\u001b[49m\u001b[43m(\u001b[49m\u001b[43mkey\u001b[49m\u001b[43m)\u001b[49m\n\u001b[0;32m   4103\u001b[0m \u001b[38;5;28;01mif\u001b[39;00m is_integer(indexer):\n\u001b[0;32m   4104\u001b[0m     indexer \u001b[38;5;241m=\u001b[39m [indexer]\n",
      "File \u001b[1;32mc:\\Users\\chris\\Project Bond King\\Curvy-CUSIPs\\src\\curvycusipsdev\\Lib\\site-packages\\pandas\\core\\indexes\\base.py:3812\u001b[0m, in \u001b[0;36mIndex.get_loc\u001b[1;34m(self, key)\u001b[0m\n\u001b[0;32m   3807\u001b[0m     \u001b[38;5;28;01mif\u001b[39;00m \u001b[38;5;28misinstance\u001b[39m(casted_key, \u001b[38;5;28mslice\u001b[39m) \u001b[38;5;129;01mor\u001b[39;00m (\n\u001b[0;32m   3808\u001b[0m         \u001b[38;5;28misinstance\u001b[39m(casted_key, abc\u001b[38;5;241m.\u001b[39mIterable)\n\u001b[0;32m   3809\u001b[0m         \u001b[38;5;129;01mand\u001b[39;00m \u001b[38;5;28many\u001b[39m(\u001b[38;5;28misinstance\u001b[39m(x, \u001b[38;5;28mslice\u001b[39m) \u001b[38;5;28;01mfor\u001b[39;00m x \u001b[38;5;129;01min\u001b[39;00m casted_key)\n\u001b[0;32m   3810\u001b[0m     ):\n\u001b[0;32m   3811\u001b[0m         \u001b[38;5;28;01mraise\u001b[39;00m InvalidIndexError(key)\n\u001b[1;32m-> 3812\u001b[0m     \u001b[38;5;28;01mraise\u001b[39;00m \u001b[38;5;167;01mKeyError\u001b[39;00m(key) \u001b[38;5;28;01mfrom\u001b[39;00m \u001b[38;5;21;01merr\u001b[39;00m\n\u001b[0;32m   3813\u001b[0m \u001b[38;5;28;01mexcept\u001b[39;00m \u001b[38;5;167;01mTypeError\u001b[39;00m:\n\u001b[0;32m   3814\u001b[0m     \u001b[38;5;66;03m# If we have a listlike key, _check_indexing_error will raise\u001b[39;00m\n\u001b[0;32m   3815\u001b[0m     \u001b[38;5;66;03m#  InvalidIndexError. Otherwise we fall through and re-raise\u001b[39;00m\n\u001b[0;32m   3816\u001b[0m     \u001b[38;5;66;03m#  the TypeError.\u001b[39;00m\n\u001b[0;32m   3817\u001b[0m     \u001b[38;5;28mself\u001b[39m\u001b[38;5;241m.\u001b[39m_check_indexing_error(key)\n",
      "\u001b[1;31mKeyError\u001b[0m: 0"
     ]
    }
   ],
   "source": [
    "curr_curve = sofr_ois_term_structures[test_date][0][\"NelsonSiegelFitting\"]\n",
    "curr_curve.enableExtrapolation()\n",
    "\n",
    "ts_df, scipy_interp_dict= build_sofr_ois_term_structure_df(\n",
    "    df=sofr_ois_term_structures[start_date][0],\n",
    "    as_of_date=start_date,\n",
    "    fixed_rate_col=\"Close\",\n",
    "    curve=curr_curve,\n",
    "    fwd_rate_tenors=[\"1M\", \"3M\", \"6M\", \"12M\"],\n",
    ")\n",
    "ts_df\n",
    "\n",
    "plt.figure(figsize=(12, 6))\n",
    "plt.plot(ts_df[\"Expiry\"], ts_df[\"Zero Rate\"], label=\"Zero Curve\")\n",
    "plt.title(\"Zero Rate Curve\")\n",
    "plt.xlabel(\"Maturity Date\")\n",
    "plt.ylabel(\"Zero Rate\")\n",
    "plt.grid(True)\n",
    "plt.legend()\n",
    "plt.show()\n",
    "\n",
    "plt.figure(figsize=(12, 6))\n",
    "plt.plot(ts_df[\"Expiry\"], ts_df[\"1M Fwd\"], label=\"Fwd Curve\")\n",
    "plt.title(\"Implied Rate 1m fwd Curve\")\n",
    "plt.xlabel(\"Maturity Date\")\n",
    "plt.ylabel(\"Zero Rate\")\n",
    "plt.grid(True)\n",
    "plt.legend()\n",
    "plt.show()"
   ]
  },
  {
   "cell_type": "code",
   "execution_count": 937,
   "metadata": {},
   "outputs": [
    {
     "data": {
      "application/vnd.plotly.v1+json": {
       "config": {
        "plotlyServerURL": "https://plot.ly"
       },
       "data": [
        {
         "mode": "lines",
         "name": "Fixed Rate",
         "type": "scatter",
         "x": [
          "2024-11-13",
          "2024-11-20",
          "2024-11-27",
          "2024-12-06",
          "2025-01-06",
          "2025-02-06",
          "2025-03-06",
          "2025-04-07",
          "2025-05-06",
          "2025-08-06",
          "2025-11-06",
          "2026-05-06",
          "2026-11-06",
          "2027-11-08",
          "2028-11-06",
          "2029-11-06",
          "2030-11-06",
          "2031-11-06",
          "2032-11-08",
          "2033-11-07",
          "2034-11-06",
          "2036-11-06",
          "2039-11-07",
          "2044-11-07",
          "2049-11-08",
          "2054-11-06",
          "2064-11-06",
          "2074-11-06"
         ],
         "y": [
          4.658528571428571,
          4.64937,
          4.640211428571429,
          4.628,
          4.585,
          4.52688,
          4.4562,
          4.428,
          4.3895,
          4.269,
          4.15,
          4.0183,
          3.948,
          3.8665,
          3.8265000000000002,
          3.7865,
          3.7855,
          3.76318,
          3.7784999999999997,
          3.8014399999999995,
          3.77275,
          3.7935000000000003,
          3.8379999999999996,
          3.79983,
          3.76177,
          3.627,
          3.4403499999999996,
          3.2910000000000004
         ]
        },
        {
         "mode": "lines",
         "name": "1M Fwd",
         "type": "scatter",
         "x": [
          "2024-11-13",
          "2024-11-20",
          "2024-11-27",
          "2024-12-06",
          "2025-01-06",
          "2025-02-06",
          "2025-03-06",
          "2025-04-07",
          "2025-05-06",
          "2025-08-06",
          "2025-11-06",
          "2026-05-06",
          "2026-11-06",
          "2027-11-08",
          "2028-11-06",
          "2029-11-06",
          "2030-11-06",
          "2031-11-06",
          "2032-11-08",
          "2033-11-07",
          "2034-11-06",
          "2036-11-06",
          "2039-11-07",
          "2044-11-07",
          "2049-11-08",
          "2054-11-06",
          "2064-11-06",
          "2074-11-06"
         ],
         "y": [
          4.5917371493595205,
          4.565369313641199,
          4.544411042929486,
          4.526943221881783,
          4.3661786187548906,
          4.178702494770719,
          4.2616407367362115,
          4.0910065966176745,
          3.9317570804481963,
          3.666417048374735,
          3.721646595337802,
          3.6290074656229194,
          3.6321734219448842,
          3.635435281213173,
          3.5512541977073653,
          3.7150114845908355,
          3.5513053482327805,
          3.8336504008869454,
          3.9450969323540086,
          3.4048869453941144,
          3.854462505369405,
          4.00166492358629,
          3.5703895324544987,
          3.4579888862407593,
          2.431611259560107,
          2.3375087919227155,
          2.0122734560150235,
          2.0122734560150235
         ]
        },
        {
         "mode": "lines",
         "name": "3M Fwd",
         "type": "scatter",
         "x": [
          "2024-11-13",
          "2024-11-20",
          "2024-11-27",
          "2024-12-06",
          "2025-01-06",
          "2025-02-06",
          "2025-03-06",
          "2025-04-07",
          "2025-05-06",
          "2025-08-06",
          "2025-11-06",
          "2026-05-06",
          "2026-11-06",
          "2027-11-08",
          "2028-11-06",
          "2029-11-06",
          "2030-11-06",
          "2031-11-06",
          "2032-11-08",
          "2033-11-07",
          "2034-11-06",
          "2036-11-06",
          "2039-11-07",
          "2044-11-07",
          "2049-11-08",
          "2054-11-06",
          "2064-11-06",
          "2074-11-06"
         ],
         "y": [
          4.484245539390897,
          4.448705565627574,
          4.414945754484172,
          4.3790644377528665,
          4.287040778571249,
          4.196145787854908,
          4.112743820523561,
          3.9975742876779443,
          3.941964653066935,
          3.678423672675979,
          3.733586699509329,
          3.640176371323325,
          3.643546015159893,
          3.6468283208267214,
          3.5621254473881274,
          3.726909028690681,
          3.562176911248692,
          3.8463204198535363,
          3.958514751556166,
          3.414880098144989,
          3.8672705425308105,
          4.015470523749418,
          3.5813783158099146,
          3.4682963340951827,
          2.436706448366316,
          2.342217116510074,
          2.0157623844322745,
          2.0157623844322745
         ]
        }
       ],
       "layout": {
        "height": 700,
        "template": {
         "data": {
          "bar": [
           {
            "error_x": {
             "color": "#f2f5fa"
            },
            "error_y": {
             "color": "#f2f5fa"
            },
            "marker": {
             "line": {
              "color": "rgb(17,17,17)",
              "width": 0.5
             },
             "pattern": {
              "fillmode": "overlay",
              "size": 10,
              "solidity": 0.2
             }
            },
            "type": "bar"
           }
          ],
          "barpolar": [
           {
            "marker": {
             "line": {
              "color": "rgb(17,17,17)",
              "width": 0.5
             },
             "pattern": {
              "fillmode": "overlay",
              "size": 10,
              "solidity": 0.2
             }
            },
            "type": "barpolar"
           }
          ],
          "carpet": [
           {
            "aaxis": {
             "endlinecolor": "#A2B1C6",
             "gridcolor": "#506784",
             "linecolor": "#506784",
             "minorgridcolor": "#506784",
             "startlinecolor": "#A2B1C6"
            },
            "baxis": {
             "endlinecolor": "#A2B1C6",
             "gridcolor": "#506784",
             "linecolor": "#506784",
             "minorgridcolor": "#506784",
             "startlinecolor": "#A2B1C6"
            },
            "type": "carpet"
           }
          ],
          "choropleth": [
           {
            "colorbar": {
             "outlinewidth": 0,
             "ticks": ""
            },
            "type": "choropleth"
           }
          ],
          "contour": [
           {
            "colorbar": {
             "outlinewidth": 0,
             "ticks": ""
            },
            "colorscale": [
             [
              0,
              "#0d0887"
             ],
             [
              0.1111111111111111,
              "#46039f"
             ],
             [
              0.2222222222222222,
              "#7201a8"
             ],
             [
              0.3333333333333333,
              "#9c179e"
             ],
             [
              0.4444444444444444,
              "#bd3786"
             ],
             [
              0.5555555555555556,
              "#d8576b"
             ],
             [
              0.6666666666666666,
              "#ed7953"
             ],
             [
              0.7777777777777778,
              "#fb9f3a"
             ],
             [
              0.8888888888888888,
              "#fdca26"
             ],
             [
              1,
              "#f0f921"
             ]
            ],
            "type": "contour"
           }
          ],
          "contourcarpet": [
           {
            "colorbar": {
             "outlinewidth": 0,
             "ticks": ""
            },
            "type": "contourcarpet"
           }
          ],
          "heatmap": [
           {
            "colorbar": {
             "outlinewidth": 0,
             "ticks": ""
            },
            "colorscale": [
             [
              0,
              "#0d0887"
             ],
             [
              0.1111111111111111,
              "#46039f"
             ],
             [
              0.2222222222222222,
              "#7201a8"
             ],
             [
              0.3333333333333333,
              "#9c179e"
             ],
             [
              0.4444444444444444,
              "#bd3786"
             ],
             [
              0.5555555555555556,
              "#d8576b"
             ],
             [
              0.6666666666666666,
              "#ed7953"
             ],
             [
              0.7777777777777778,
              "#fb9f3a"
             ],
             [
              0.8888888888888888,
              "#fdca26"
             ],
             [
              1,
              "#f0f921"
             ]
            ],
            "type": "heatmap"
           }
          ],
          "heatmapgl": [
           {
            "colorbar": {
             "outlinewidth": 0,
             "ticks": ""
            },
            "colorscale": [
             [
              0,
              "#0d0887"
             ],
             [
              0.1111111111111111,
              "#46039f"
             ],
             [
              0.2222222222222222,
              "#7201a8"
             ],
             [
              0.3333333333333333,
              "#9c179e"
             ],
             [
              0.4444444444444444,
              "#bd3786"
             ],
             [
              0.5555555555555556,
              "#d8576b"
             ],
             [
              0.6666666666666666,
              "#ed7953"
             ],
             [
              0.7777777777777778,
              "#fb9f3a"
             ],
             [
              0.8888888888888888,
              "#fdca26"
             ],
             [
              1,
              "#f0f921"
             ]
            ],
            "type": "heatmapgl"
           }
          ],
          "histogram": [
           {
            "marker": {
             "pattern": {
              "fillmode": "overlay",
              "size": 10,
              "solidity": 0.2
             }
            },
            "type": "histogram"
           }
          ],
          "histogram2d": [
           {
            "colorbar": {
             "outlinewidth": 0,
             "ticks": ""
            },
            "colorscale": [
             [
              0,
              "#0d0887"
             ],
             [
              0.1111111111111111,
              "#46039f"
             ],
             [
              0.2222222222222222,
              "#7201a8"
             ],
             [
              0.3333333333333333,
              "#9c179e"
             ],
             [
              0.4444444444444444,
              "#bd3786"
             ],
             [
              0.5555555555555556,
              "#d8576b"
             ],
             [
              0.6666666666666666,
              "#ed7953"
             ],
             [
              0.7777777777777778,
              "#fb9f3a"
             ],
             [
              0.8888888888888888,
              "#fdca26"
             ],
             [
              1,
              "#f0f921"
             ]
            ],
            "type": "histogram2d"
           }
          ],
          "histogram2dcontour": [
           {
            "colorbar": {
             "outlinewidth": 0,
             "ticks": ""
            },
            "colorscale": [
             [
              0,
              "#0d0887"
             ],
             [
              0.1111111111111111,
              "#46039f"
             ],
             [
              0.2222222222222222,
              "#7201a8"
             ],
             [
              0.3333333333333333,
              "#9c179e"
             ],
             [
              0.4444444444444444,
              "#bd3786"
             ],
             [
              0.5555555555555556,
              "#d8576b"
             ],
             [
              0.6666666666666666,
              "#ed7953"
             ],
             [
              0.7777777777777778,
              "#fb9f3a"
             ],
             [
              0.8888888888888888,
              "#fdca26"
             ],
             [
              1,
              "#f0f921"
             ]
            ],
            "type": "histogram2dcontour"
           }
          ],
          "mesh3d": [
           {
            "colorbar": {
             "outlinewidth": 0,
             "ticks": ""
            },
            "type": "mesh3d"
           }
          ],
          "parcoords": [
           {
            "line": {
             "colorbar": {
              "outlinewidth": 0,
              "ticks": ""
             }
            },
            "type": "parcoords"
           }
          ],
          "pie": [
           {
            "automargin": true,
            "type": "pie"
           }
          ],
          "scatter": [
           {
            "marker": {
             "line": {
              "color": "#283442"
             }
            },
            "type": "scatter"
           }
          ],
          "scatter3d": [
           {
            "line": {
             "colorbar": {
              "outlinewidth": 0,
              "ticks": ""
             }
            },
            "marker": {
             "colorbar": {
              "outlinewidth": 0,
              "ticks": ""
             }
            },
            "type": "scatter3d"
           }
          ],
          "scattercarpet": [
           {
            "marker": {
             "colorbar": {
              "outlinewidth": 0,
              "ticks": ""
             }
            },
            "type": "scattercarpet"
           }
          ],
          "scattergeo": [
           {
            "marker": {
             "colorbar": {
              "outlinewidth": 0,
              "ticks": ""
             }
            },
            "type": "scattergeo"
           }
          ],
          "scattergl": [
           {
            "marker": {
             "line": {
              "color": "#283442"
             }
            },
            "type": "scattergl"
           }
          ],
          "scattermapbox": [
           {
            "marker": {
             "colorbar": {
              "outlinewidth": 0,
              "ticks": ""
             }
            },
            "type": "scattermapbox"
           }
          ],
          "scatterpolar": [
           {
            "marker": {
             "colorbar": {
              "outlinewidth": 0,
              "ticks": ""
             }
            },
            "type": "scatterpolar"
           }
          ],
          "scatterpolargl": [
           {
            "marker": {
             "colorbar": {
              "outlinewidth": 0,
              "ticks": ""
             }
            },
            "type": "scatterpolargl"
           }
          ],
          "scatterternary": [
           {
            "marker": {
             "colorbar": {
              "outlinewidth": 0,
              "ticks": ""
             }
            },
            "type": "scatterternary"
           }
          ],
          "surface": [
           {
            "colorbar": {
             "outlinewidth": 0,
             "ticks": ""
            },
            "colorscale": [
             [
              0,
              "#0d0887"
             ],
             [
              0.1111111111111111,
              "#46039f"
             ],
             [
              0.2222222222222222,
              "#7201a8"
             ],
             [
              0.3333333333333333,
              "#9c179e"
             ],
             [
              0.4444444444444444,
              "#bd3786"
             ],
             [
              0.5555555555555556,
              "#d8576b"
             ],
             [
              0.6666666666666666,
              "#ed7953"
             ],
             [
              0.7777777777777778,
              "#fb9f3a"
             ],
             [
              0.8888888888888888,
              "#fdca26"
             ],
             [
              1,
              "#f0f921"
             ]
            ],
            "type": "surface"
           }
          ],
          "table": [
           {
            "cells": {
             "fill": {
              "color": "#506784"
             },
             "line": {
              "color": "rgb(17,17,17)"
             }
            },
            "header": {
             "fill": {
              "color": "#2a3f5f"
             },
             "line": {
              "color": "rgb(17,17,17)"
             }
            },
            "type": "table"
           }
          ]
         },
         "layout": {
          "annotationdefaults": {
           "arrowcolor": "#f2f5fa",
           "arrowhead": 0,
           "arrowwidth": 1
          },
          "autotypenumbers": "strict",
          "coloraxis": {
           "colorbar": {
            "outlinewidth": 0,
            "ticks": ""
           }
          },
          "colorscale": {
           "diverging": [
            [
             0,
             "#8e0152"
            ],
            [
             0.1,
             "#c51b7d"
            ],
            [
             0.2,
             "#de77ae"
            ],
            [
             0.3,
             "#f1b6da"
            ],
            [
             0.4,
             "#fde0ef"
            ],
            [
             0.5,
             "#f7f7f7"
            ],
            [
             0.6,
             "#e6f5d0"
            ],
            [
             0.7,
             "#b8e186"
            ],
            [
             0.8,
             "#7fbc41"
            ],
            [
             0.9,
             "#4d9221"
            ],
            [
             1,
             "#276419"
            ]
           ],
           "sequential": [
            [
             0,
             "#0d0887"
            ],
            [
             0.1111111111111111,
             "#46039f"
            ],
            [
             0.2222222222222222,
             "#7201a8"
            ],
            [
             0.3333333333333333,
             "#9c179e"
            ],
            [
             0.4444444444444444,
             "#bd3786"
            ],
            [
             0.5555555555555556,
             "#d8576b"
            ],
            [
             0.6666666666666666,
             "#ed7953"
            ],
            [
             0.7777777777777778,
             "#fb9f3a"
            ],
            [
             0.8888888888888888,
             "#fdca26"
            ],
            [
             1,
             "#f0f921"
            ]
           ],
           "sequentialminus": [
            [
             0,
             "#0d0887"
            ],
            [
             0.1111111111111111,
             "#46039f"
            ],
            [
             0.2222222222222222,
             "#7201a8"
            ],
            [
             0.3333333333333333,
             "#9c179e"
            ],
            [
             0.4444444444444444,
             "#bd3786"
            ],
            [
             0.5555555555555556,
             "#d8576b"
            ],
            [
             0.6666666666666666,
             "#ed7953"
            ],
            [
             0.7777777777777778,
             "#fb9f3a"
            ],
            [
             0.8888888888888888,
             "#fdca26"
            ],
            [
             1,
             "#f0f921"
            ]
           ]
          },
          "colorway": [
           "#636efa",
           "#EF553B",
           "#00cc96",
           "#ab63fa",
           "#FFA15A",
           "#19d3f3",
           "#FF6692",
           "#B6E880",
           "#FF97FF",
           "#FECB52"
          ],
          "font": {
           "color": "#f2f5fa"
          },
          "geo": {
           "bgcolor": "rgb(17,17,17)",
           "lakecolor": "rgb(17,17,17)",
           "landcolor": "rgb(17,17,17)",
           "showlakes": true,
           "showland": true,
           "subunitcolor": "#506784"
          },
          "hoverlabel": {
           "align": "left"
          },
          "hovermode": "closest",
          "mapbox": {
           "style": "dark"
          },
          "paper_bgcolor": "rgb(17,17,17)",
          "plot_bgcolor": "rgb(17,17,17)",
          "polar": {
           "angularaxis": {
            "gridcolor": "#506784",
            "linecolor": "#506784",
            "ticks": ""
           },
           "bgcolor": "rgb(17,17,17)",
           "radialaxis": {
            "gridcolor": "#506784",
            "linecolor": "#506784",
            "ticks": ""
           }
          },
          "scene": {
           "xaxis": {
            "backgroundcolor": "rgb(17,17,17)",
            "gridcolor": "#506784",
            "gridwidth": 2,
            "linecolor": "#506784",
            "showbackground": true,
            "ticks": "",
            "zerolinecolor": "#C8D4E3"
           },
           "yaxis": {
            "backgroundcolor": "rgb(17,17,17)",
            "gridcolor": "#506784",
            "gridwidth": 2,
            "linecolor": "#506784",
            "showbackground": true,
            "ticks": "",
            "zerolinecolor": "#C8D4E3"
           },
           "zaxis": {
            "backgroundcolor": "rgb(17,17,17)",
            "gridcolor": "#506784",
            "gridwidth": 2,
            "linecolor": "#506784",
            "showbackground": true,
            "ticks": "",
            "zerolinecolor": "#C8D4E3"
           }
          },
          "shapedefaults": {
           "line": {
            "color": "#f2f5fa"
           }
          },
          "sliderdefaults": {
           "bgcolor": "#C8D4E3",
           "bordercolor": "rgb(17,17,17)",
           "borderwidth": 1,
           "tickwidth": 0
          },
          "ternary": {
           "aaxis": {
            "gridcolor": "#506784",
            "linecolor": "#506784",
            "ticks": ""
           },
           "baxis": {
            "gridcolor": "#506784",
            "linecolor": "#506784",
            "ticks": ""
           },
           "bgcolor": "rgb(17,17,17)",
           "caxis": {
            "gridcolor": "#506784",
            "linecolor": "#506784",
            "ticks": ""
           }
          },
          "title": {
           "x": 0.05
          },
          "updatemenudefaults": {
           "bgcolor": "#506784",
           "borderwidth": 0
          },
          "xaxis": {
           "automargin": true,
           "gridcolor": "#283442",
           "linecolor": "#506784",
           "ticks": "",
           "title": {
            "standoff": 15
           },
           "zerolinecolor": "#283442",
           "zerolinewidth": 2
          },
          "yaxis": {
           "automargin": true,
           "gridcolor": "#283442",
           "linecolor": "#506784",
           "ticks": "",
           "title": {
            "standoff": 15
           },
           "zerolinecolor": "#283442",
           "zerolinewidth": 2
          }
         }
        },
        "title": {
         "text": "SOFR OIS Swaps"
        },
        "xaxis": {
         "showgrid": true,
         "showspikes": true,
         "spikecolor": "white",
         "spikemode": "across",
         "spikesnap": "cursor",
         "title": {
          "text": "Tenor"
         }
        },
        "yaxis": {
         "showgrid": true,
         "showspikes": true,
         "spikecolor": "white",
         "spikesnap": "cursor",
         "spikethickness": 0.5,
         "title": {
          "text": "Yields"
         }
        }
       }
      }
     },
     "metadata": {},
     "output_type": "display_data"
    }
   ],
   "source": [
    "fig = go.Figure()\n",
    "fig.add_trace(go.Scatter(x=ts_df[\"Expiry\"], y=ts_df[\"Fixed Rate\"], mode=\"lines\", name=\"Fixed Rate\"))\n",
    "fig.add_trace(go.Scatter(x=ts_df[\"Expiry\"], y=ts_df[\"1M Fwd\"], mode=\"lines\", name=\"1M Fwd\"))\n",
    "fig.add_trace(go.Scatter(x=ts_df[\"Expiry\"], y=ts_df[\"3M Fwd\"], mode=\"lines\", name=\"3M Fwd\"))\n",
    "fig.update_layout(title=\"SOFR OIS Swaps\", xaxis_title=\"Tenor\", yaxis_title=\"Yields\", template=\"plotly_dark\", height=700)\n",
    "fig.update_xaxes(\n",
    "    showgrid=True,\n",
    "    showspikes=True,\n",
    "    spikecolor=\"white\",\n",
    "    spikesnap=\"cursor\",\n",
    "    spikemode=\"across\",\n",
    ")\n",
    "fig.update_yaxes(showgrid=True, showspikes=True, spikecolor=\"white\", spikesnap=\"cursor\", spikethickness=0.5)\n",
    "fig.show()"
   ]
  },
  {
   "cell_type": "code",
   "execution_count": null,
   "metadata": {},
   "outputs": [],
   "source": []
  }
 ],
 "metadata": {
  "kernelspec": {
   "display_name": "curvycusipsdev",
   "language": "python",
   "name": "myenv"
  },
  "language_info": {
   "codemirror_mode": {
    "name": "ipython",
    "version": 3
   },
   "file_extension": ".py",
   "mimetype": "text/x-python",
   "name": "python",
   "nbconvert_exporter": "python",
   "pygments_lexer": "ipython3",
   "version": "3.13.0"
  }
 },
 "nbformat": 4,
 "nbformat_minor": 2
}
