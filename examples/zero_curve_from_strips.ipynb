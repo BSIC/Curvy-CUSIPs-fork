{
 "cells": [
  {
   "cell_type": "markdown",
   "metadata": {},
   "source": [
    "# Motivated by Brian Sack's ***Using Treasury STRIPS to Measure the Yield Curve***\n",
    "\n",
    "\n",
    "https://www.federalreserve.gov/pubs/feds/2000/200042/200042pap.pdf"
   ]
  },
  {
   "cell_type": "code",
   "execution_count": 126,
   "metadata": {},
   "outputs": [
    {
     "name": "stdout",
     "output_type": "stream",
     "text": [
      "The autoreload extension is already loaded. To reload it, use:\n",
      "  %reload_ext autoreload\n"
     ]
    }
   ],
   "source": [
    "import sys\n",
    "import os\n",
    "parent_dir = os.path.abspath(os.path.join(os.getcwd(), os.pardir))\n",
    "sys.path.insert(0, parent_dir)\n",
    "\n",
    "import numpy as np\n",
    "import pandas as pd\n",
    "import plotly.graph_objects as go\n",
    "import plotly.express as px\n",
    "from datetime import datetime\n",
    "\n",
    "from CurveDataFetcher import CurveDataFetcher\n",
    "from CurveInterpolator import GeneralCurveInterpolator\n",
    "\n",
    "import nest_asyncio\n",
    "nest_asyncio.apply()\n",
    "\n",
    "%load_ext autoreload\n",
    "%autoreload 2"
   ]
  },
  {
   "cell_type": "code",
   "execution_count": 4,
   "metadata": {},
   "outputs": [],
   "source": [
    "curve_data_fetcher = CurveDataFetcher(use_ust_issue_date=True, no_logs_plz=True)"
   ]
  },
  {
   "cell_type": "code",
   "execution_count": 5,
   "metadata": {},
   "outputs": [],
   "source": [
    "as_of_date = datetime(2024, 8, 29)\n",
    "quote_type = \"eod\"\n",
    "\n",
    "curve_set_df = curve_data_fetcher.build_curve_set(\n",
    "    as_of_date=as_of_date,\n",
    "    sorted=True, \n",
    "    use_github=True, \n",
    ")"
   ]
  },
  {
   "cell_type": "code",
   "execution_count": 6,
   "metadata": {},
   "outputs": [
    {
     "data": {
      "text/html": [
       "<div>\n",
       "<style scoped>\n",
       "    .dataframe tbody tr th:only-of-type {\n",
       "        vertical-align: middle;\n",
       "    }\n",
       "\n",
       "    .dataframe tbody tr th {\n",
       "        vertical-align: top;\n",
       "    }\n",
       "\n",
       "    .dataframe thead th {\n",
       "        text-align: right;\n",
       "    }\n",
       "</style>\n",
       "<table border=\"1\" class=\"dataframe\">\n",
       "  <thead>\n",
       "    <tr style=\"text-align: right;\">\n",
       "      <th></th>\n",
       "      <th>cusip</th>\n",
       "      <th>label</th>\n",
       "      <th>issue_date</th>\n",
       "      <th>maturity_date</th>\n",
       "      <th>time_to_maturity</th>\n",
       "      <th>corpus_cusip</th>\n",
       "      <th>pstrip_price</th>\n",
       "      <th>pstrip_ytm</th>\n",
       "    </tr>\n",
       "  </thead>\n",
       "  <tbody>\n",
       "    <tr>\n",
       "      <th>1</th>\n",
       "      <td>91282CFN6</td>\n",
       "      <td>Sep 24s, 2-Year</td>\n",
       "      <td>2022-09-30</td>\n",
       "      <td>2024-09-30</td>\n",
       "      <td>0.087671</td>\n",
       "      <td>912821JT3</td>\n",
       "      <td>99.6045</td>\n",
       "      <td>4.687815</td>\n",
       "    </tr>\n",
       "    <tr>\n",
       "      <th>2</th>\n",
       "      <td>91282CFQ9</td>\n",
       "      <td>Oct 24s, 2-Year</td>\n",
       "      <td>2022-10-31</td>\n",
       "      <td>2024-10-31</td>\n",
       "      <td>0.172603</td>\n",
       "      <td>912821JY2</td>\n",
       "      <td>99.2319</td>\n",
       "      <td>4.569212</td>\n",
       "    </tr>\n",
       "    <tr>\n",
       "      <th>3</th>\n",
       "      <td>91282CFX4</td>\n",
       "      <td>Nov 24s, 2-Year</td>\n",
       "      <td>2022-11-30</td>\n",
       "      <td>2024-11-30</td>\n",
       "      <td>0.254795</td>\n",
       "      <td>912821KD6</td>\n",
       "      <td>98.8663</td>\n",
       "      <td>4.561705</td>\n",
       "    </tr>\n",
       "    <tr>\n",
       "      <th>4</th>\n",
       "      <td>91282CGD7</td>\n",
       "      <td>Dec 24s, 2-Year</td>\n",
       "      <td>2023-01-03</td>\n",
       "      <td>2024-12-31</td>\n",
       "      <td>0.339726</td>\n",
       "      <td>912821KH7</td>\n",
       "      <td>98.5092</td>\n",
       "      <td>4.502871</td>\n",
       "    </tr>\n",
       "    <tr>\n",
       "      <th>5</th>\n",
       "      <td>91282CGG0</td>\n",
       "      <td>Jan 25s, 2-Year</td>\n",
       "      <td>2023-01-31</td>\n",
       "      <td>2025-01-31</td>\n",
       "      <td>0.424658</td>\n",
       "      <td>912821KN4</td>\n",
       "      <td>98.1556</td>\n",
       "      <td>4.465770</td>\n",
       "    </tr>\n",
       "    <tr>\n",
       "      <th>...</th>\n",
       "      <td>...</td>\n",
       "      <td>...</td>\n",
       "      <td>...</td>\n",
       "      <td>...</td>\n",
       "      <td>...</td>\n",
       "      <td>...</td>\n",
       "      <td>...</td>\n",
       "      <td>...</td>\n",
       "    </tr>\n",
       "    <tr>\n",
       "      <th>214</th>\n",
       "      <td>912810SX7</td>\n",
       "      <td>May 51s, 30-Year</td>\n",
       "      <td>2021-07-15</td>\n",
       "      <td>2051-05-15</td>\n",
       "      <td>26.726027</td>\n",
       "      <td>912803FY4</td>\n",
       "      <td>32.6239</td>\n",
       "      <td>4.283344</td>\n",
       "    </tr>\n",
       "    <tr>\n",
       "      <th>215</th>\n",
       "      <td>912810SZ2</td>\n",
       "      <td>Aug 51s, 30-Year</td>\n",
       "      <td>2021-10-15</td>\n",
       "      <td>2051-08-15</td>\n",
       "      <td>26.978082</td>\n",
       "      <td>912803GA5</td>\n",
       "      <td>32.4270</td>\n",
       "      <td>4.265868</td>\n",
       "    </tr>\n",
       "    <tr>\n",
       "      <th>216</th>\n",
       "      <td>912810TD0</td>\n",
       "      <td>Feb 52s, 30-Year</td>\n",
       "      <td>2022-04-18</td>\n",
       "      <td>2052-02-15</td>\n",
       "      <td>27.482192</td>\n",
       "      <td>912803GE7</td>\n",
       "      <td>31.9849</td>\n",
       "      <td>4.238236</td>\n",
       "    </tr>\n",
       "    <tr>\n",
       "      <th>217</th>\n",
       "      <td>912810TJ7</td>\n",
       "      <td>Aug 52s, 30-Year</td>\n",
       "      <td>2022-10-17</td>\n",
       "      <td>2052-08-15</td>\n",
       "      <td>27.980822</td>\n",
       "      <td>912803GK3</td>\n",
       "      <td>31.5925</td>\n",
       "      <td>4.207328</td>\n",
       "    </tr>\n",
       "    <tr>\n",
       "      <th>218</th>\n",
       "      <td>912810TN8</td>\n",
       "      <td>Feb 53s, 30-Year</td>\n",
       "      <td>2023-04-17</td>\n",
       "      <td>2053-02-15</td>\n",
       "      <td>28.484932</td>\n",
       "      <td>912803GP2</td>\n",
       "      <td>31.3680</td>\n",
       "      <td>4.157582</td>\n",
       "    </tr>\n",
       "  </tbody>\n",
       "</table>\n",
       "<p>216 rows × 8 columns</p>\n",
       "</div>"
      ],
      "text/plain": [
       "         cusip             label issue_date maturity_date  time_to_maturity  \\\n",
       "1    91282CFN6   Sep 24s, 2-Year 2022-09-30    2024-09-30          0.087671   \n",
       "2    91282CFQ9   Oct 24s, 2-Year 2022-10-31    2024-10-31          0.172603   \n",
       "3    91282CFX4   Nov 24s, 2-Year 2022-11-30    2024-11-30          0.254795   \n",
       "4    91282CGD7   Dec 24s, 2-Year 2023-01-03    2024-12-31          0.339726   \n",
       "5    91282CGG0   Jan 25s, 2-Year 2023-01-31    2025-01-31          0.424658   \n",
       "..         ...               ...        ...           ...               ...   \n",
       "214  912810SX7  May 51s, 30-Year 2021-07-15    2051-05-15         26.726027   \n",
       "215  912810SZ2  Aug 51s, 30-Year 2021-10-15    2051-08-15         26.978082   \n",
       "216  912810TD0  Feb 52s, 30-Year 2022-04-18    2052-02-15         27.482192   \n",
       "217  912810TJ7  Aug 52s, 30-Year 2022-10-17    2052-08-15         27.980822   \n",
       "218  912810TN8  Feb 53s, 30-Year 2023-04-17    2053-02-15         28.484932   \n",
       "\n",
       "    corpus_cusip  pstrip_price  pstrip_ytm  \n",
       "1      912821JT3       99.6045    4.687815  \n",
       "2      912821JY2       99.2319    4.569212  \n",
       "3      912821KD6       98.8663    4.561705  \n",
       "4      912821KH7       98.5092    4.502871  \n",
       "5      912821KN4       98.1556    4.465770  \n",
       "..           ...           ...         ...  \n",
       "214    912803FY4       32.6239    4.283344  \n",
       "215    912803GA5       32.4270    4.265868  \n",
       "216    912803GE7       31.9849    4.238236  \n",
       "217    912803GK3       31.5925    4.207328  \n",
       "218    912803GP2       31.3680    4.157582  \n",
       "\n",
       "[216 rows x 8 columns]"
      ]
     },
     "execution_count": 6,
     "metadata": {},
     "output_type": "execute_result"
    }
   ],
   "source": [
    "pstrips_dict_df = curve_data_fetcher.public_dotcom_timeseries_api(\n",
    "    cusips=curve_set_df[curve_set_df[\"security_type\"] != \"Bill\"][\n",
    "        \"corpus_cusip\"\n",
    "    ].to_list(),\n",
    "    start_date=as_of_date,\n",
    "    end_date=as_of_date,\n",
    "    max_concurrent_tasks=32,\n",
    ")\n",
    "pstrips_df = pd.DataFrame(\n",
    "    [\n",
    "        {\n",
    "            \"corpus_cusip\": cusip,\n",
    "            \"pstrip_price\": df.iloc[-1][\"Price\"],\n",
    "            \"pstrip_ytm\": df.iloc[-1][\"YTM\"],\n",
    "        }\n",
    "        for cusip, df in pstrips_dict_df.items()\n",
    "        if not df.empty\n",
    "    ]\n",
    ")\n",
    "pstrips_df = pd.merge(\n",
    "    curve_set_df[\n",
    "        [\n",
    "            \"cusip\",\n",
    "            \"label\",\n",
    "            \"issue_date\",\n",
    "            \"maturity_date\",\n",
    "            \"time_to_maturity\",\n",
    "            \"corpus_cusip\",\n",
    "        ]\n",
    "    ],\n",
    "    right=pstrips_df,\n",
    "    on=\"corpus_cusip\",\n",
    ")\n",
    "\n",
    "pstrips_df = pstrips_df[pstrips_df[\"time_to_maturity\"] > 2/365]\n",
    "pstrips_df"
   ]
  },
  {
   "cell_type": "code",
   "execution_count": 133,
   "metadata": {},
   "outputs": [
    {
     "data": {
      "text/html": [
       "<div>\n",
       "<style scoped>\n",
       "    .dataframe tbody tr th:only-of-type {\n",
       "        vertical-align: middle;\n",
       "    }\n",
       "\n",
       "    .dataframe tbody tr th {\n",
       "        vertical-align: top;\n",
       "    }\n",
       "\n",
       "    .dataframe thead th {\n",
       "        text-align: right;\n",
       "    }\n",
       "</style>\n",
       "<table border=\"1\" class=\"dataframe\">\n",
       "  <thead>\n",
       "    <tr style=\"text-align: right;\">\n",
       "      <th></th>\n",
       "      <th>cusip</th>\n",
       "      <th>label</th>\n",
       "      <th>maturity_date</th>\n",
       "      <th>time_to_maturity</th>\n",
       "      <th>cstrip_price</th>\n",
       "      <th>cstrip_ytm</th>\n",
       "    </tr>\n",
       "  </thead>\n",
       "  <tbody>\n",
       "    <tr>\n",
       "      <th>0</th>\n",
       "      <td>912833LT5</td>\n",
       "      <td>Nov 24, UST STRIPPED INT PMT</td>\n",
       "      <td>2024-11-15</td>\n",
       "      <td>0.213699</td>\n",
       "      <td>98.9632</td>\n",
       "      <td>4.979738</td>\n",
       "    </tr>\n",
       "    <tr>\n",
       "      <th>1</th>\n",
       "      <td>912833LU2</td>\n",
       "      <td>Feb 25, UST STRIPPED INT PMT</td>\n",
       "      <td>2025-02-15</td>\n",
       "      <td>0.465753</td>\n",
       "      <td>97.9991</td>\n",
       "      <td>4.421774</td>\n",
       "    </tr>\n",
       "    <tr>\n",
       "      <th>2</th>\n",
       "      <td>912833LV0</td>\n",
       "      <td>May 25, UST STRIPPED INT PMT</td>\n",
       "      <td>2025-05-15</td>\n",
       "      <td>0.709589</td>\n",
       "      <td>96.9464</td>\n",
       "      <td>4.456016</td>\n",
       "    </tr>\n",
       "    <tr>\n",
       "      <th>3</th>\n",
       "      <td>912833LW8</td>\n",
       "      <td>Aug 25, UST STRIPPED INT PMT</td>\n",
       "      <td>2025-08-15</td>\n",
       "      <td>0.961644</td>\n",
       "      <td>96.0307</td>\n",
       "      <td>4.310477</td>\n",
       "    </tr>\n",
       "    <tr>\n",
       "      <th>4</th>\n",
       "      <td>912833LX6</td>\n",
       "      <td>Nov 25, UST STRIPPED INT PMT</td>\n",
       "      <td>2025-11-15</td>\n",
       "      <td>1.213699</td>\n",
       "      <td>95.1620</td>\n",
       "      <td>4.182046</td>\n",
       "    </tr>\n",
       "    <tr>\n",
       "      <th>...</th>\n",
       "      <td>...</td>\n",
       "      <td>...</td>\n",
       "      <td>...</td>\n",
       "      <td>...</td>\n",
       "      <td>...</td>\n",
       "      <td>...</td>\n",
       "    </tr>\n",
       "    <tr>\n",
       "      <th>108</th>\n",
       "      <td>912834A65</td>\n",
       "      <td>Nov 51, UST STRIPPED INT PMT</td>\n",
       "      <td>2051-11-15</td>\n",
       "      <td>27.230137</td>\n",
       "      <td>31.0869</td>\n",
       "      <td>4.387399</td>\n",
       "    </tr>\n",
       "    <tr>\n",
       "      <th>109</th>\n",
       "      <td>912834B56</td>\n",
       "      <td>Feb 52, UST STRIPPED INT PMT</td>\n",
       "      <td>2052-02-15</td>\n",
       "      <td>27.482192</td>\n",
       "      <td>31.1078</td>\n",
       "      <td>4.343839</td>\n",
       "    </tr>\n",
       "    <tr>\n",
       "      <th>110</th>\n",
       "      <td>912834C55</td>\n",
       "      <td>May 52, UST STRIPPED INT PMT</td>\n",
       "      <td>2052-05-15</td>\n",
       "      <td>27.728767</td>\n",
       "      <td>30.9668</td>\n",
       "      <td>4.321705</td>\n",
       "    </tr>\n",
       "    <tr>\n",
       "      <th>111</th>\n",
       "      <td>912834D47</td>\n",
       "      <td>Aug 52, UST STRIPPED INT PMT</td>\n",
       "      <td>2052-08-15</td>\n",
       "      <td>27.980822</td>\n",
       "      <td>30.7939</td>\n",
       "      <td>4.302804</td>\n",
       "    </tr>\n",
       "    <tr>\n",
       "      <th>112</th>\n",
       "      <td>912834F29</td>\n",
       "      <td>Nov 52, UST STRIPPED INT PMT</td>\n",
       "      <td>2052-11-15</td>\n",
       "      <td>28.232877</td>\n",
       "      <td>30.8735</td>\n",
       "      <td>4.254091</td>\n",
       "    </tr>\n",
       "  </tbody>\n",
       "</table>\n",
       "<p>113 rows × 6 columns</p>\n",
       "</div>"
      ],
      "text/plain": [
       "         cusip                         label maturity_date  time_to_maturity  \\\n",
       "0    912833LT5  Nov 24, UST STRIPPED INT PMT    2024-11-15          0.213699   \n",
       "1    912833LU2  Feb 25, UST STRIPPED INT PMT    2025-02-15          0.465753   \n",
       "2    912833LV0  May 25, UST STRIPPED INT PMT    2025-05-15          0.709589   \n",
       "3    912833LW8  Aug 25, UST STRIPPED INT PMT    2025-08-15          0.961644   \n",
       "4    912833LX6  Nov 25, UST STRIPPED INT PMT    2025-11-15          1.213699   \n",
       "..         ...                           ...           ...               ...   \n",
       "108  912834A65  Nov 51, UST STRIPPED INT PMT    2051-11-15         27.230137   \n",
       "109  912834B56  Feb 52, UST STRIPPED INT PMT    2052-02-15         27.482192   \n",
       "110  912834C55  May 52, UST STRIPPED INT PMT    2052-05-15         27.728767   \n",
       "111  912834D47  Aug 52, UST STRIPPED INT PMT    2052-08-15         27.980822   \n",
       "112  912834F29  Nov 52, UST STRIPPED INT PMT    2052-11-15         28.232877   \n",
       "\n",
       "     cstrip_price  cstrip_ytm  \n",
       "0         98.9632    4.979738  \n",
       "1         97.9991    4.421774  \n",
       "2         96.9464    4.456016  \n",
       "3         96.0307    4.310477  \n",
       "4         95.1620    4.182046  \n",
       "..            ...         ...  \n",
       "108       31.0869    4.387399  \n",
       "109       31.1078    4.343839  \n",
       "110       30.9668    4.321705  \n",
       "111       30.7939    4.302804  \n",
       "112       30.8735    4.254091  \n",
       "\n",
       "[113 rows x 6 columns]"
      ]
     },
     "execution_count": 133,
     "metadata": {},
     "output_type": "execute_result"
    }
   ],
   "source": [
    "cstrips_curve_set_df = pd.read_excel(r\"C:\\Users\\chris\\Curvy-CUSIPs\\data\\cstrips_info.xlsx\")\n",
    "cstrips_curve_set_df[\"time_to_maturity\"] = (cstrips_curve_set_df[\"maturity_date\"] - as_of_date).dt.days / 365\n",
    "\n",
    "cstrips_dict_df = curve_data_fetcher.public_dotcom_timeseries_api(\n",
    "    cusips=cstrips_curve_set_df[\"cusip\"].to_list(),\n",
    "    start_date=as_of_date,\n",
    "    end_date=as_of_date,\n",
    "    max_concurrent_tasks=32,\n",
    ")\n",
    "cstrips_quote_df = pd.DataFrame(\n",
    "    [\n",
    "        {\n",
    "            \"cusip\": cusip,\n",
    "            \"cstrip_price\": df.iloc[-1][\"Price\"],\n",
    "            \"cstrip_ytm\": df.iloc[-1][\"YTM\"],\n",
    "        }\n",
    "        for cusip, df in cstrips_dict_df.items()\n",
    "        if not df.empty\n",
    "    ]\n",
    ")\n",
    "cstrips_quote_df = pd.merge(\n",
    "    cstrips_curve_set_df[\n",
    "        [\n",
    "            \"cusip\",\n",
    "            \"label\",\n",
    "            \"maturity_date\",\n",
    "            \"time_to_maturity\",\n",
    "        ]\n",
    "    ],\n",
    "    right=cstrips_quote_df,\n",
    "    on=\"cusip\",\n",
    ")\n",
    "cstrips_quote_df"
   ]
  },
  {
   "cell_type": "code",
   "execution_count": 8,
   "metadata": {},
   "outputs": [
    {
     "data": {
      "text/html": [
       "<div>\n",
       "<style scoped>\n",
       "    .dataframe tbody tr th:only-of-type {\n",
       "        vertical-align: middle;\n",
       "    }\n",
       "\n",
       "    .dataframe tbody tr th {\n",
       "        vertical-align: top;\n",
       "    }\n",
       "\n",
       "    .dataframe thead th {\n",
       "        text-align: right;\n",
       "    }\n",
       "</style>\n",
       "<table border=\"1\" class=\"dataframe\">\n",
       "  <thead>\n",
       "    <tr style=\"text-align: right;\">\n",
       "      <th></th>\n",
       "      <th>cusip</th>\n",
       "      <th>label</th>\n",
       "      <th>maturity_date</th>\n",
       "      <th>time_to_maturity</th>\n",
       "      <th>tbill_price</th>\n",
       "      <th>tbill_ytm</th>\n",
       "    </tr>\n",
       "  </thead>\n",
       "  <tbody>\n",
       "    <tr>\n",
       "      <th>0</th>\n",
       "      <td>912797LG0</td>\n",
       "      <td>Sep 24s, 17-Week</td>\n",
       "      <td>2024-09-10</td>\n",
       "      <td>0.032877</td>\n",
       "      <td>99.8310</td>\n",
       "      <td>5.530916</td>\n",
       "    </tr>\n",
       "    <tr>\n",
       "      <th>1</th>\n",
       "      <td>912797LH8</td>\n",
       "      <td>Sep 24s, 17-Week</td>\n",
       "      <td>2024-09-17</td>\n",
       "      <td>0.052055</td>\n",
       "      <td>99.7096</td>\n",
       "      <td>5.806853</td>\n",
       "    </tr>\n",
       "    <tr>\n",
       "      <th>2</th>\n",
       "      <td>912797LJ4</td>\n",
       "      <td>Sep 24s, 17-Week</td>\n",
       "      <td>2024-09-24</td>\n",
       "      <td>0.071233</td>\n",
       "      <td>99.6094</td>\n",
       "      <td>5.624514</td>\n",
       "    </tr>\n",
       "    <tr>\n",
       "      <th>3</th>\n",
       "      <td>912797LK1</td>\n",
       "      <td>Oct 24s, 17-Week</td>\n",
       "      <td>2024-10-01</td>\n",
       "      <td>0.090411</td>\n",
       "      <td>99.5137</td>\n",
       "      <td>5.470692</td>\n",
       "    </tr>\n",
       "    <tr>\n",
       "      <th>4</th>\n",
       "      <td>912797LS4</td>\n",
       "      <td>Oct 24s, 17-Week</td>\n",
       "      <td>2024-10-08</td>\n",
       "      <td>0.109589</td>\n",
       "      <td>99.4159</td>\n",
       "      <td>5.391075</td>\n",
       "    </tr>\n",
       "    <tr>\n",
       "      <th>5</th>\n",
       "      <td>912797LT2</td>\n",
       "      <td>Oct 24s, 17-Week</td>\n",
       "      <td>2024-10-15</td>\n",
       "      <td>0.128767</td>\n",
       "      <td>99.3213</td>\n",
       "      <td>5.310998</td>\n",
       "    </tr>\n",
       "    <tr>\n",
       "      <th>6</th>\n",
       "      <td>912797LU9</td>\n",
       "      <td>Oct 24s, 17-Week</td>\n",
       "      <td>2024-10-22</td>\n",
       "      <td>0.147945</td>\n",
       "      <td>99.2217</td>\n",
       "      <td>5.286430</td>\n",
       "    </tr>\n",
       "    <tr>\n",
       "      <th>7</th>\n",
       "      <td>912797LV7</td>\n",
       "      <td>Oct 24s, 17-Week</td>\n",
       "      <td>2024-10-29</td>\n",
       "      <td>0.167123</td>\n",
       "      <td>99.1254</td>\n",
       "      <td>5.247039</td>\n",
       "    </tr>\n",
       "    <tr>\n",
       "      <th>8</th>\n",
       "      <td>912797MA2</td>\n",
       "      <td>Nov 24s, 17-Week</td>\n",
       "      <td>2024-11-05</td>\n",
       "      <td>0.186301</td>\n",
       "      <td>99.0377</td>\n",
       "      <td>5.170517</td>\n",
       "    </tr>\n",
       "    <tr>\n",
       "      <th>9</th>\n",
       "      <td>912797MB0</td>\n",
       "      <td>Nov 24s, 17-Week</td>\n",
       "      <td>2024-11-12</td>\n",
       "      <td>0.205479</td>\n",
       "      <td>98.9472</td>\n",
       "      <td>5.121420</td>\n",
       "    </tr>\n",
       "    <tr>\n",
       "      <th>10</th>\n",
       "      <td>912797MC8</td>\n",
       "      <td>Nov 24s, 17-Week</td>\n",
       "      <td>2024-11-19</td>\n",
       "      <td>0.224658</td>\n",
       "      <td>98.8561</td>\n",
       "      <td>5.083908</td>\n",
       "    </tr>\n",
       "    <tr>\n",
       "      <th>11</th>\n",
       "      <td>912797MD6</td>\n",
       "      <td>Nov 24s, 17-Week</td>\n",
       "      <td>2024-11-26</td>\n",
       "      <td>0.243836</td>\n",
       "      <td>98.7634</td>\n",
       "      <td>5.058772</td>\n",
       "    </tr>\n",
       "    <tr>\n",
       "      <th>12</th>\n",
       "      <td>912797MN4</td>\n",
       "      <td>Dec 24s, 17-Week</td>\n",
       "      <td>2024-12-10</td>\n",
       "      <td>0.282192</td>\n",
       "      <td>98.5910</td>\n",
       "      <td>4.972890</td>\n",
       "    </tr>\n",
       "    <tr>\n",
       "      <th>13</th>\n",
       "      <td>912797KK2</td>\n",
       "      <td>Sep 24s, 26-Week</td>\n",
       "      <td>2024-09-12</td>\n",
       "      <td>0.038356</td>\n",
       "      <td>99.8002</td>\n",
       "      <td>5.530916</td>\n",
       "    </tr>\n",
       "    <tr>\n",
       "      <th>14</th>\n",
       "      <td>912797KL0</td>\n",
       "      <td>Sep 24s, 26-Week</td>\n",
       "      <td>2024-09-19</td>\n",
       "      <td>0.057534</td>\n",
       "      <td>99.6817</td>\n",
       "      <td>5.728366</td>\n",
       "    </tr>\n",
       "    <tr>\n",
       "      <th>15</th>\n",
       "      <td>912797KM8</td>\n",
       "      <td>Sep 24s, 26-Week</td>\n",
       "      <td>2024-09-26</td>\n",
       "      <td>0.076712</td>\n",
       "      <td>99.5806</td>\n",
       "      <td>5.591140</td>\n",
       "    </tr>\n",
       "    <tr>\n",
       "      <th>16</th>\n",
       "      <td>912797KT3</td>\n",
       "      <td>Oct 24s, 26-Week</td>\n",
       "      <td>2024-10-10</td>\n",
       "      <td>0.115068</td>\n",
       "      <td>99.3879</td>\n",
       "      <td>5.373933</td>\n",
       "    </tr>\n",
       "    <tr>\n",
       "      <th>17</th>\n",
       "      <td>912797KU0</td>\n",
       "      <td>Oct 24s, 26-Week</td>\n",
       "      <td>2024-10-17</td>\n",
       "      <td>0.134247</td>\n",
       "      <td>99.2938</td>\n",
       "      <td>5.296351</td>\n",
       "    </tr>\n",
       "    <tr>\n",
       "      <th>18</th>\n",
       "      <td>912797KV8</td>\n",
       "      <td>Oct 24s, 26-Week</td>\n",
       "      <td>2024-10-24</td>\n",
       "      <td>0.153425</td>\n",
       "      <td>99.1959</td>\n",
       "      <td>5.262736</td>\n",
       "    </tr>\n",
       "    <tr>\n",
       "      <th>19</th>\n",
       "      <td>912797LC9</td>\n",
       "      <td>Nov 24s, 26-Week</td>\n",
       "      <td>2024-11-07</td>\n",
       "      <td>0.191781</td>\n",
       "      <td>99.0198</td>\n",
       "      <td>5.113928</td>\n",
       "    </tr>\n",
       "    <tr>\n",
       "      <th>20</th>\n",
       "      <td>912797LD7</td>\n",
       "      <td>Nov 24s, 26-Week</td>\n",
       "      <td>2024-11-14</td>\n",
       "      <td>0.210959</td>\n",
       "      <td>98.9242</td>\n",
       "      <td>5.095495</td>\n",
       "    </tr>\n",
       "    <tr>\n",
       "      <th>21</th>\n",
       "      <td>912797LE5</td>\n",
       "      <td>Nov 24s, 26-Week</td>\n",
       "      <td>2024-11-21</td>\n",
       "      <td>0.230137</td>\n",
       "      <td>98.8291</td>\n",
       "      <td>5.078453</td>\n",
       "    </tr>\n",
       "    <tr>\n",
       "      <th>22</th>\n",
       "      <td>912797LF2</td>\n",
       "      <td>Dec 24s, 26-Week</td>\n",
       "      <td>2024-12-05</td>\n",
       "      <td>0.268493</td>\n",
       "      <td>98.6635</td>\n",
       "      <td>4.960044</td>\n",
       "    </tr>\n",
       "    <tr>\n",
       "      <th>23</th>\n",
       "      <td>912797LP0</td>\n",
       "      <td>Dec 24s, 26-Week</td>\n",
       "      <td>2024-12-12</td>\n",
       "      <td>0.287671</td>\n",
       "      <td>98.5758</td>\n",
       "      <td>4.929596</td>\n",
       "    </tr>\n",
       "    <tr>\n",
       "      <th>24</th>\n",
       "      <td>912797LR6</td>\n",
       "      <td>Jan 25s, 26-Week</td>\n",
       "      <td>2025-01-02</td>\n",
       "      <td>0.345205</td>\n",
       "      <td>98.2942</td>\n",
       "      <td>4.912502</td>\n",
       "    </tr>\n",
       "    <tr>\n",
       "      <th>25</th>\n",
       "      <td>912797LX3</td>\n",
       "      <td>Jan 25s, 26-Week</td>\n",
       "      <td>2025-01-09</td>\n",
       "      <td>0.364384</td>\n",
       "      <td>98.2021</td>\n",
       "      <td>4.903227</td>\n",
       "    </tr>\n",
       "    <tr>\n",
       "      <th>26</th>\n",
       "      <td>912797LY1</td>\n",
       "      <td>Jan 25s, 26-Week</td>\n",
       "      <td>2025-01-16</td>\n",
       "      <td>0.383562</td>\n",
       "      <td>98.1094</td>\n",
       "      <td>4.896375</td>\n",
       "    </tr>\n",
       "    <tr>\n",
       "      <th>27</th>\n",
       "      <td>912797LZ8</td>\n",
       "      <td>Jan 25s, 26-Week</td>\n",
       "      <td>2025-01-30</td>\n",
       "      <td>0.421918</td>\n",
       "      <td>97.9254</td>\n",
       "      <td>4.881246</td>\n",
       "    </tr>\n",
       "    <tr>\n",
       "      <th>28</th>\n",
       "      <td>912797MJ3</td>\n",
       "      <td>Feb 25s, 26-Week</td>\n",
       "      <td>2025-02-06</td>\n",
       "      <td>0.441096</td>\n",
       "      <td>97.8468</td>\n",
       "      <td>4.844643</td>\n",
       "    </tr>\n",
       "    <tr>\n",
       "      <th>29</th>\n",
       "      <td>912797MK0</td>\n",
       "      <td>Feb 25s, 26-Week</td>\n",
       "      <td>2025-02-13</td>\n",
       "      <td>0.460274</td>\n",
       "      <td>97.7699</td>\n",
       "      <td>4.807336</td>\n",
       "    </tr>\n",
       "    <tr>\n",
       "      <th>30</th>\n",
       "      <td>912797GL5</td>\n",
       "      <td>Sep 24s, 52-Week</td>\n",
       "      <td>2024-09-05</td>\n",
       "      <td>0.019178</td>\n",
       "      <td>99.9078</td>\n",
       "      <td>5.530916</td>\n",
       "    </tr>\n",
       "    <tr>\n",
       "      <th>31</th>\n",
       "      <td>912797GW1</td>\n",
       "      <td>Oct 24s, 52-Week</td>\n",
       "      <td>2024-10-03</td>\n",
       "      <td>0.095890</td>\n",
       "      <td>99.4869</td>\n",
       "      <td>5.432636</td>\n",
       "    </tr>\n",
       "    <tr>\n",
       "      <th>32</th>\n",
       "      <td>912797HE0</td>\n",
       "      <td>Oct 24s, 52-Week</td>\n",
       "      <td>2024-10-31</td>\n",
       "      <td>0.172603</td>\n",
       "      <td>99.1115</td>\n",
       "      <td>5.158866</td>\n",
       "    </tr>\n",
       "    <tr>\n",
       "      <th>33</th>\n",
       "      <td>912797HP5</td>\n",
       "      <td>Nov 24s, 52-Week</td>\n",
       "      <td>2024-11-29</td>\n",
       "      <td>0.252055</td>\n",
       "      <td>98.7252</td>\n",
       "      <td>5.042825</td>\n",
       "    </tr>\n",
       "    <tr>\n",
       "      <th>34</th>\n",
       "      <td>912796ZV4</td>\n",
       "      <td>Dec 24s, 52-Week</td>\n",
       "      <td>2024-12-26</td>\n",
       "      <td>0.326027</td>\n",
       "      <td>98.3954</td>\n",
       "      <td>4.895258</td>\n",
       "    </tr>\n",
       "    <tr>\n",
       "      <th>35</th>\n",
       "      <td>912797JR9</td>\n",
       "      <td>Jan 25s, 52-Week</td>\n",
       "      <td>2025-01-23</td>\n",
       "      <td>0.402740</td>\n",
       "      <td>98.0798</td>\n",
       "      <td>4.734666</td>\n",
       "    </tr>\n",
       "    <tr>\n",
       "      <th>36</th>\n",
       "      <td>912797KA4</td>\n",
       "      <td>Feb 25s, 52-Week</td>\n",
       "      <td>2025-02-20</td>\n",
       "      <td>0.479452</td>\n",
       "      <td>97.7217</td>\n",
       "      <td>4.713563</td>\n",
       "    </tr>\n",
       "    <tr>\n",
       "      <th>37</th>\n",
       "      <td>912797KJ5</td>\n",
       "      <td>Mar 25s, 52-Week</td>\n",
       "      <td>2025-03-20</td>\n",
       "      <td>0.556164</td>\n",
       "      <td>97.5157</td>\n",
       "      <td>4.427433</td>\n",
       "    </tr>\n",
       "    <tr>\n",
       "      <th>38</th>\n",
       "      <td>912797KS5</td>\n",
       "      <td>Apr 25s, 52-Week</td>\n",
       "      <td>2025-04-17</td>\n",
       "      <td>0.632877</td>\n",
       "      <td>97.1932</td>\n",
       "      <td>4.393165</td>\n",
       "    </tr>\n",
       "    <tr>\n",
       "      <th>39</th>\n",
       "      <td>912797LB1</td>\n",
       "      <td>May 25s, 52-Week</td>\n",
       "      <td>2025-05-15</td>\n",
       "      <td>0.709589</td>\n",
       "      <td>96.8740</td>\n",
       "      <td>4.361725</td>\n",
       "    </tr>\n",
       "    <tr>\n",
       "      <th>40</th>\n",
       "      <td>912797LN5</td>\n",
       "      <td>Jun 25s, 52-Week</td>\n",
       "      <td>2025-06-12</td>\n",
       "      <td>0.786301</td>\n",
       "      <td>96.5746</td>\n",
       "      <td>4.311606</td>\n",
       "    </tr>\n",
       "    <tr>\n",
       "      <th>41</th>\n",
       "      <td>912797LW5</td>\n",
       "      <td>Jul 25s, 52-Week</td>\n",
       "      <td>2025-07-10</td>\n",
       "      <td>0.863014</td>\n",
       "      <td>96.1323</td>\n",
       "      <td>4.434233</td>\n",
       "    </tr>\n",
       "    <tr>\n",
       "      <th>42</th>\n",
       "      <td>912797MG9</td>\n",
       "      <td>Aug 25s, 52-Week</td>\n",
       "      <td>2025-08-07</td>\n",
       "      <td>0.939726</td>\n",
       "      <td>95.8310</td>\n",
       "      <td>4.388365</td>\n",
       "    </tr>\n",
       "  </tbody>\n",
       "</table>\n",
       "</div>"
      ],
      "text/plain": [
       "        cusip             label maturity_date  time_to_maturity  tbill_price  \\\n",
       "0   912797LG0  Sep 24s, 17-Week    2024-09-10          0.032877      99.8310   \n",
       "1   912797LH8  Sep 24s, 17-Week    2024-09-17          0.052055      99.7096   \n",
       "2   912797LJ4  Sep 24s, 17-Week    2024-09-24          0.071233      99.6094   \n",
       "3   912797LK1  Oct 24s, 17-Week    2024-10-01          0.090411      99.5137   \n",
       "4   912797LS4  Oct 24s, 17-Week    2024-10-08          0.109589      99.4159   \n",
       "5   912797LT2  Oct 24s, 17-Week    2024-10-15          0.128767      99.3213   \n",
       "6   912797LU9  Oct 24s, 17-Week    2024-10-22          0.147945      99.2217   \n",
       "7   912797LV7  Oct 24s, 17-Week    2024-10-29          0.167123      99.1254   \n",
       "8   912797MA2  Nov 24s, 17-Week    2024-11-05          0.186301      99.0377   \n",
       "9   912797MB0  Nov 24s, 17-Week    2024-11-12          0.205479      98.9472   \n",
       "10  912797MC8  Nov 24s, 17-Week    2024-11-19          0.224658      98.8561   \n",
       "11  912797MD6  Nov 24s, 17-Week    2024-11-26          0.243836      98.7634   \n",
       "12  912797MN4  Dec 24s, 17-Week    2024-12-10          0.282192      98.5910   \n",
       "13  912797KK2  Sep 24s, 26-Week    2024-09-12          0.038356      99.8002   \n",
       "14  912797KL0  Sep 24s, 26-Week    2024-09-19          0.057534      99.6817   \n",
       "15  912797KM8  Sep 24s, 26-Week    2024-09-26          0.076712      99.5806   \n",
       "16  912797KT3  Oct 24s, 26-Week    2024-10-10          0.115068      99.3879   \n",
       "17  912797KU0  Oct 24s, 26-Week    2024-10-17          0.134247      99.2938   \n",
       "18  912797KV8  Oct 24s, 26-Week    2024-10-24          0.153425      99.1959   \n",
       "19  912797LC9  Nov 24s, 26-Week    2024-11-07          0.191781      99.0198   \n",
       "20  912797LD7  Nov 24s, 26-Week    2024-11-14          0.210959      98.9242   \n",
       "21  912797LE5  Nov 24s, 26-Week    2024-11-21          0.230137      98.8291   \n",
       "22  912797LF2  Dec 24s, 26-Week    2024-12-05          0.268493      98.6635   \n",
       "23  912797LP0  Dec 24s, 26-Week    2024-12-12          0.287671      98.5758   \n",
       "24  912797LR6  Jan 25s, 26-Week    2025-01-02          0.345205      98.2942   \n",
       "25  912797LX3  Jan 25s, 26-Week    2025-01-09          0.364384      98.2021   \n",
       "26  912797LY1  Jan 25s, 26-Week    2025-01-16          0.383562      98.1094   \n",
       "27  912797LZ8  Jan 25s, 26-Week    2025-01-30          0.421918      97.9254   \n",
       "28  912797MJ3  Feb 25s, 26-Week    2025-02-06          0.441096      97.8468   \n",
       "29  912797MK0  Feb 25s, 26-Week    2025-02-13          0.460274      97.7699   \n",
       "30  912797GL5  Sep 24s, 52-Week    2024-09-05          0.019178      99.9078   \n",
       "31  912797GW1  Oct 24s, 52-Week    2024-10-03          0.095890      99.4869   \n",
       "32  912797HE0  Oct 24s, 52-Week    2024-10-31          0.172603      99.1115   \n",
       "33  912797HP5  Nov 24s, 52-Week    2024-11-29          0.252055      98.7252   \n",
       "34  912796ZV4  Dec 24s, 52-Week    2024-12-26          0.326027      98.3954   \n",
       "35  912797JR9  Jan 25s, 52-Week    2025-01-23          0.402740      98.0798   \n",
       "36  912797KA4  Feb 25s, 52-Week    2025-02-20          0.479452      97.7217   \n",
       "37  912797KJ5  Mar 25s, 52-Week    2025-03-20          0.556164      97.5157   \n",
       "38  912797KS5  Apr 25s, 52-Week    2025-04-17          0.632877      97.1932   \n",
       "39  912797LB1  May 25s, 52-Week    2025-05-15          0.709589      96.8740   \n",
       "40  912797LN5  Jun 25s, 52-Week    2025-06-12          0.786301      96.5746   \n",
       "41  912797LW5  Jul 25s, 52-Week    2025-07-10          0.863014      96.1323   \n",
       "42  912797MG9  Aug 25s, 52-Week    2025-08-07          0.939726      95.8310   \n",
       "\n",
       "    tbill_ytm  \n",
       "0    5.530916  \n",
       "1    5.806853  \n",
       "2    5.624514  \n",
       "3    5.470692  \n",
       "4    5.391075  \n",
       "5    5.310998  \n",
       "6    5.286430  \n",
       "7    5.247039  \n",
       "8    5.170517  \n",
       "9    5.121420  \n",
       "10   5.083908  \n",
       "11   5.058772  \n",
       "12   4.972890  \n",
       "13   5.530916  \n",
       "14   5.728366  \n",
       "15   5.591140  \n",
       "16   5.373933  \n",
       "17   5.296351  \n",
       "18   5.262736  \n",
       "19   5.113928  \n",
       "20   5.095495  \n",
       "21   5.078453  \n",
       "22   4.960044  \n",
       "23   4.929596  \n",
       "24   4.912502  \n",
       "25   4.903227  \n",
       "26   4.896375  \n",
       "27   4.881246  \n",
       "28   4.844643  \n",
       "29   4.807336  \n",
       "30   5.530916  \n",
       "31   5.432636  \n",
       "32   5.158866  \n",
       "33   5.042825  \n",
       "34   4.895258  \n",
       "35   4.734666  \n",
       "36   4.713563  \n",
       "37   4.427433  \n",
       "38   4.393165  \n",
       "39   4.361725  \n",
       "40   4.311606  \n",
       "41   4.434233  \n",
       "42   4.388365  "
      ]
     },
     "execution_count": 8,
     "metadata": {},
     "output_type": "execute_result"
    }
   ],
   "source": [
    "tbill_curve_set_df = curve_set_df[\n",
    "    (curve_set_df[\"security_type\"] == \"Bill\")\n",
    "    & (curve_set_df[\"time_to_maturity\"] > 5 / 360)\n",
    "]\n",
    "\n",
    "tbill_quotes = curve_data_fetcher.public_dotcom_timeseries_api(\n",
    "    cusips=tbill_curve_set_df[\"cusip\"].to_list(),\n",
    "    start_date=as_of_date,\n",
    "    end_date=as_of_date,\n",
    ")\n",
    "\n",
    "tbill_quotes_df = pd.DataFrame(\n",
    "    [\n",
    "        {\n",
    "            \"cusip\": cusip,\n",
    "            \"tbill_price\": df.iloc[-1][\"Price\"],\n",
    "            \"tbill_ytm\": df.iloc[-1][\"YTM\"],\n",
    "        }\n",
    "        for cusip, df in tbill_quotes.items()\n",
    "        if not df.empty\n",
    "    ]\n",
    ")\n",
    "tbill_quotes_df = pd.merge(\n",
    "    tbill_curve_set_df[\n",
    "        [\n",
    "            \"cusip\",\n",
    "            \"label\",\n",
    "            \"maturity_date\",\n",
    "            \"time_to_maturity\",\n",
    "        ]\n",
    "    ],\n",
    "    right=tbill_quotes_df,\n",
    "    on=\"cusip\",\n",
    ")\n",
    "tbill_quotes_df"
   ]
  },
  {
   "cell_type": "code",
   "execution_count": 149,
   "metadata": {},
   "outputs": [
    {
     "data": {
      "application/vnd.plotly.v1+json": {
       "config": {
        "plotlyServerURL": "https://plot.ly"
       },
       "data": [
        {
         "customdata": [
          [
           "Sep 24s, 2-Year",
           "912821JT3"
          ],
          [
           "Oct 24s, 2-Year",
           "912821JY2"
          ],
          [
           "Nov 24s, 2-Year",
           "912821KD6"
          ],
          [
           "Dec 24s, 2-Year",
           "912821KH7"
          ],
          [
           "Jan 25s, 2-Year",
           "912821KN4"
          ],
          [
           "Feb 25s, 2-Year",
           "912821KT1"
          ],
          [
           "Mar 25s, 2-Year",
           "912821KX2"
          ],
          [
           "Sep 24s, 3-Year",
           "912821GJ8"
          ],
          [
           "Oct 24s, 3-Year",
           "912821GN9"
          ],
          [
           "Nov 24s, 3-Year",
           "912821GT6"
          ],
          [
           "Dec 24s, 3-Year",
           "912821GY5"
          ],
          [
           "Jan 25s, 3-Year",
           "912821HC2"
          ],
          [
           "Apr 25s, 3-Year",
           "912821HS7"
          ],
          [
           "Jun 25s, 3-Year",
           "912821JC0"
          ],
          [
           "Jul 25s, 3-Year",
           "912821JG1"
          ],
          [
           "Aug 25s, 3-Year",
           "912821JM8"
          ],
          [
           "Sep 25s, 3-Year",
           "912821JS5"
          ],
          [
           "Oct 25s, 3-Year",
           "912821JW6"
          ],
          [
           "Nov 25s, 3-Year",
           "912821KB0"
          ],
          [
           "Dec 25s, 3-Year",
           "912821KG9"
          ],
          [
           "Jan 26s, 3-Year",
           "912821KL8"
          ],
          [
           "Feb 26s, 3-Year",
           "912821KR5"
          ],
          [
           "Mar 26s, 3-Year",
           "912821KW4"
          ],
          [
           "Apr 26s, 3-Year",
           "912821LA1"
          ],
          [
           "Sep 24s, 5-Year",
           "912821CX1"
          ],
          [
           "Oct 24s, 5-Year",
           "912821DC6"
          ],
          [
           "Nov 24s, 5-Year",
           "912821DH5"
          ],
          [
           "Jan 25s, 5-Year",
           "912821DS1"
          ],
          [
           "Feb 25s, 5-Year",
           "912821DX0"
          ],
          [
           "Apr 25s, 5-Year",
           "912821EG6"
          ],
          [
           "May 25s, 5-Year",
           "912821EM3"
          ],
          [
           "Jun 25s, 5-Year",
           "912821ER2"
          ],
          [
           "Jul 25s, 5-Year",
           "912821EW1"
          ],
          [
           "Aug 25s, 5-Year",
           "912821FB6"
          ],
          [
           "Oct 25s, 5-Year",
           "912821FL4"
          ],
          [
           "Nov 25s, 5-Year",
           "912821FR1"
          ],
          [
           "Jan 26s, 5-Year",
           "912821GA7"
          ],
          [
           "Feb 26s, 5-Year",
           "912821GF6"
          ],
          [
           "Mar 26s, 5-Year",
           "912821LZ6"
          ],
          [
           "Apr 26s, 5-Year",
           "912821ME2"
          ],
          [
           "May 26s, 5-Year",
           "912821MK8"
          ],
          [
           "Jun 26s, 5-Year",
           "912821MP7"
          ],
          [
           "Jul 26s, 5-Year",
           "912821MU6"
          ],
          [
           "Aug 26s, 5-Year",
           "912821MZ5"
          ],
          [
           "Sep 26s, 5-Year",
           "912821GL3"
          ],
          [
           "Oct 26s, 5-Year",
           "912821GR0"
          ],
          [
           "Nov 26s, 5-Year",
           "912821GW9"
          ],
          [
           "Dec 26s, 5-Year",
           "912821HA6"
          ],
          [
           "Feb 27s, 5-Year",
           "912821HL2"
          ],
          [
           "Mar 27s, 5-Year",
           "912821HQ1"
          ],
          [
           "Apr 27s, 5-Year",
           "912821HV0"
          ],
          [
           "May 27s, 5-Year",
           "912821JA4"
          ],
          [
           "Jun 27s, 5-Year",
           "912821JE6"
          ],
          [
           "Jul 27s, 5-Year",
           "912821JK2"
          ],
          [
           "Aug 27s, 5-Year",
           "912821JQ9"
          ],
          [
           "Nov 27s, 5-Year",
           "912821KE4"
          ],
          [
           "Dec 27s, 5-Year",
           "912821KJ3"
          ],
          [
           "Jan 28s, 5-Year",
           "912821KP9"
          ],
          [
           "Feb 28s, 5-Year",
           "912821KU8"
          ],
          [
           "Mar 28s, 5-Year",
           "912821KY0"
          ],
          [
           "Sep 24s, 7-Year",
           "9128203Q8"
          ],
          [
           "Oct 24s, 7-Year",
           "9128203U9"
          ],
          [
           "Nov 24s, 7-Year",
           "9128203Z8"
          ],
          [
           "Dec 24s, 7-Year",
           "9128204D6"
          ],
          [
           "Jan 25s, 7-Year",
           "9128204K0"
          ],
          [
           "Feb 25s, 7-Year",
           "9128204Q7"
          ],
          [
           "Mar 25s, 7-Year",
           "9128204U8"
          ],
          [
           "Apr 25s, 7-Year",
           "9128204Z7"
          ],
          [
           "May 25s, 7-Year",
           "9128205F0"
          ],
          [
           "Jun 25s, 7-Year",
           "912821AA3"
          ],
          [
           "Jul 25s, 7-Year",
           "912821AF2"
          ],
          [
           "Aug 25s, 7-Year",
           "912821AL9"
          ],
          [
           "Sep 25s, 7-Year",
           "912821AQ8"
          ],
          [
           "Oct 25s, 7-Year",
           "912821AU9"
          ],
          [
           "Nov 25s, 7-Year",
           "912821AZ8"
          ],
          [
           "Dec 25s, 7-Year",
           "912821BD6"
          ],
          [
           "Jan 26s, 7-Year",
           "912821BJ3"
          ],
          [
           "Feb 26s, 7-Year",
           "912821BP9"
          ],
          [
           "Mar 26s, 7-Year",
           "912821BT1"
          ],
          [
           "Apr 26s, 7-Year",
           "912821BY0"
          ],
          [
           "May 26s, 7-Year",
           "912821CD5"
          ],
          [
           "Jun 26s, 7-Year",
           "912821CJ2"
          ],
          [
           "Jul 26s, 7-Year",
           "912821CP8"
          ],
          [
           "Aug 26s, 7-Year",
           "912821CU7"
          ],
          [
           "Sep 26s, 7-Year",
           "912821CY9"
          ],
          [
           "Oct 26s, 7-Year",
           "912821DD4"
          ],
          [
           "Nov 26s, 7-Year",
           "912821DJ1"
          ],
          [
           "Jan 27s, 7-Year",
           "912821DT9"
          ],
          [
           "Feb 27s, 7-Year",
           "912821DY8"
          ],
          [
           "Apr 27s, 7-Year",
           "912821EH4"
          ],
          [
           "May 27s, 7-Year",
           "912821EN1"
          ],
          [
           "Jun 27s, 7-Year",
           "912821ES0"
          ],
          [
           "Jul 27s, 7-Year",
           "912821EX9"
          ],
          [
           "Aug 27s, 7-Year",
           "912821FC4"
          ],
          [
           "Sep 27s, 7-Year",
           "912821FG5"
          ],
          [
           "Oct 27s, 7-Year",
           "912821FM2"
          ],
          [
           "Nov 27s, 7-Year",
           "912821FS9"
          ],
          [
           "Jan 28s, 7-Year",
           "912821GB5"
          ],
          [
           "Feb 28s, 7-Year",
           "912821GG4"
          ],
          [
           "Mar 28s, 7-Year",
           "912821MA0"
          ],
          [
           "Apr 28s, 7-Year",
           "912821MF9"
          ],
          [
           "May 28s, 7-Year",
           "912821ML6"
          ],
          [
           "Jun 28s, 7-Year",
           "912821MQ5"
          ],
          [
           "Jul 28s, 7-Year",
           "912821MV4"
          ],
          [
           "Aug 28s, 7-Year",
           "912821NA9"
          ],
          [
           "Sep 28s, 7-Year",
           "912821GM1"
          ],
          [
           "Oct 28s, 7-Year",
           "912821GS8"
          ],
          [
           "Nov 28s, 7-Year",
           "912821GX7"
          ],
          [
           "Dec 28s, 7-Year",
           "912821HB4"
          ],
          [
           "Jan 29s, 7-Year",
           "912821HG3"
          ],
          [
           "Feb 29s, 7-Year",
           "912821HM0"
          ],
          [
           "Mar 29s, 7-Year",
           "912821HR9"
          ],
          [
           "Apr 29s, 7-Year",
           "912821HW8"
          ],
          [
           "May 29s, 7-Year",
           "912821JB2"
          ],
          [
           "Jun 29s, 7-Year",
           "912821JF3"
          ],
          [
           "Jul 29s, 7-Year",
           "912821JL0"
          ],
          [
           "Aug 29s, 7-Year",
           "912821JR7"
          ],
          [
           "Oct 29s, 7-Year",
           "912821KA2"
          ],
          [
           "Nov 29s, 7-Year",
           "912821KF1"
          ],
          [
           "Dec 29s, 7-Year",
           "912821KK0"
          ],
          [
           "Jan 30s, 7-Year",
           "912821KQ7"
          ],
          [
           "Feb 30s, 7-Year",
           "912821KV6"
          ],
          [
           "Nov 24s, 10-Year",
           "912820R58"
          ],
          [
           "Feb 25s, 10-Year",
           "912820T31"
          ],
          [
           "May 25s, 10-Year",
           "912820U96"
          ],
          [
           "Nov 25s, 10-Year",
           "912820Y43"
          ],
          [
           "Feb 26s, 10-Year",
           "9128202A4"
          ],
          [
           "May 26s, 10-Year",
           "9128202R7"
          ],
          [
           "Aug 26s, 10-Year",
           "9128205K9"
          ],
          [
           "May 27s, 10-Year",
           "9128207D3"
          ],
          [
           "Aug 27s, 10-Year",
           "9128203H8"
          ],
          [
           "Nov 27s, 10-Year",
           "9128203W5"
          ],
          [
           "Feb 28s, 10-Year",
           "9128204M6"
          ],
          [
           "May 28s, 10-Year",
           "9128205B9"
          ],
          [
           "Aug 28s, 10-Year",
           "912821AH8"
          ],
          [
           "Nov 28s, 10-Year",
           "912821AW5"
          ],
          [
           "Feb 29s, 10-Year",
           "912821BL8"
          ],
          [
           "May 29s, 10-Year",
           "912821CA1"
          ],
          [
           "Nov 29s, 10-Year",
           "912821DF9"
          ],
          [
           "Feb 30s, 10-Year",
           "912821DV4"
          ],
          [
           "May 30s, 10-Year",
           "912821EK7"
          ],
          [
           "Aug 30s, 10-Year",
           "912821EZ4"
          ],
          [
           "Nov 30s, 10-Year",
           "912821FP5"
          ],
          [
           "Feb 31s, 10-Year",
           "912821GD1"
          ],
          [
           "May 31s, 10-Year",
           "912821MH5"
          ],
          [
           "Aug 31s, 10-Year",
           "912821MX0"
          ],
          [
           "Nov 31s, 10-Year",
           "912821GU3"
          ],
          [
           "Feb 32s, 10-Year",
           "912821HJ7"
          ],
          [
           "May 32s, 10-Year",
           "912821HY4"
          ],
          [
           "Aug 32s, 10-Year",
           "912821JN6"
          ],
          [
           "Nov 32s, 10-Year",
           "912821KC8"
          ],
          [
           "Feb 33s, 10-Year",
           "912821KS3"
          ],
          [
           "May 40s, 20-Year",
           "912803FQ1"
          ],
          [
           "Aug 40s, 20-Year",
           "912803FS7"
          ],
          [
           "Nov 40s, 20-Year",
           "912803FU2"
          ],
          [
           "Feb 41s, 20-Year",
           "912803FW8"
          ],
          [
           "May 41s, 20-Year",
           "912803FZ1"
          ],
          [
           "Aug 41s, 20-Year",
           "912803GB3"
          ],
          [
           "Nov 41s, 20-Year",
           "912803GD9"
          ],
          [
           "Feb 42s, 20-Year",
           "912803GF4"
          ],
          [
           "Aug 42s, 20-Year",
           "912803GL1"
          ],
          [
           "Nov 42s, 20-Year",
           "912803GN7"
          ],
          [
           "Feb 43s, 20-Year",
           "912803GQ0"
          ],
          [
           "Feb 38s, 30-Year",
           "912803DC4"
          ],
          [
           "May 38s, 30-Year",
           "912803DD2"
          ],
          [
           "Feb 39s, 30-Year",
           "912803DF7"
          ],
          [
           "May 39s, 30-Year",
           "912803DG5"
          ],
          [
           "Aug 39s, 30-Year",
           "912803DH3"
          ],
          [
           "Nov 39s, 30-Year",
           "912803DJ9"
          ],
          [
           "Feb 40s, 30-Year",
           "912803DK6"
          ],
          [
           "Aug 40s, 30-Year",
           "912803DN0"
          ],
          [
           "Nov 40s, 30-Year",
           "912803DP5"
          ],
          [
           "Feb 41s, 30-Year",
           "912803DQ3"
          ],
          [
           "May 41s, 30-Year",
           "912803DS9"
          ],
          [
           "Aug 41s, 30-Year",
           "912803DT7"
          ],
          [
           "Nov 41s, 30-Year",
           "912803DU4"
          ],
          [
           "Feb 42s, 30-Year",
           "912803DV2"
          ],
          [
           "May 42s, 30-Year",
           "912803DX8"
          ],
          [
           "Aug 42s, 30-Year",
           "912803DY6"
          ],
          [
           "Nov 42s, 30-Year",
           "912803DZ3"
          ],
          [
           "Feb 43s, 30-Year",
           "912803EA7"
          ],
          [
           "May 43s, 30-Year",
           "912803EC3"
          ],
          [
           "Aug 43s, 30-Year",
           "912803ED1"
          ],
          [
           "Nov 43s, 30-Year",
           "912803EE9"
          ],
          [
           "Feb 44s, 30-Year",
           "912803EF6"
          ],
          [
           "May 44s, 30-Year",
           "912803EH2"
          ],
          [
           "Aug 44s, 30-Year",
           "912803EJ8"
          ],
          [
           "Nov 44s, 30-Year",
           "912803EK5"
          ],
          [
           "Feb 45s, 30-Year",
           "912803EL3"
          ],
          [
           "May 45s, 30-Year",
           "912803EN9"
          ],
          [
           "Aug 45s, 30-Year",
           "912803EP4"
          ],
          [
           "Nov 45s, 30-Year",
           "912803EQ2"
          ],
          [
           "Feb 46s, 30-Year",
           "912803ER0"
          ],
          [
           "May 46s, 30-Year",
           "912803ET6"
          ],
          [
           "Aug 46s, 30-Year",
           "912803EU3"
          ],
          [
           "Nov 46s, 30-Year",
           "912803EV1"
          ],
          [
           "May 47s, 30-Year",
           "912803EY5"
          ],
          [
           "Aug 47s, 30-Year",
           "912803EZ2"
          ],
          [
           "Nov 47s, 30-Year",
           "912803FA6"
          ],
          [
           "Feb 48s, 30-Year",
           "912803FB4"
          ],
          [
           "May 48s, 30-Year",
           "912803FD0"
          ],
          [
           "Nov 48s, 30-Year",
           "912803FF5"
          ],
          [
           "Feb 49s, 30-Year",
           "912803FG3"
          ],
          [
           "May 49s, 30-Year",
           "912803FJ7"
          ],
          [
           "Aug 49s, 30-Year",
           "912803FK4"
          ],
          [
           "Nov 49s, 30-Year",
           "912803FL2"
          ],
          [
           "Feb 50s, 30-Year",
           "912803FM0"
          ],
          [
           "May 50s, 30-Year",
           "912803FP3"
          ],
          [
           "Aug 50s, 30-Year",
           "912803FR9"
          ],
          [
           "Nov 50s, 30-Year",
           "912803FT5"
          ],
          [
           "Feb 51s, 30-Year",
           "912803FV0"
          ],
          [
           "May 51s, 30-Year",
           "912803FY4"
          ],
          [
           "Aug 51s, 30-Year",
           "912803GA5"
          ],
          [
           "Feb 52s, 30-Year",
           "912803GE7"
          ],
          [
           "Aug 52s, 30-Year",
           "912803GK3"
          ],
          [
           "Feb 53s, 30-Year",
           "912803GP2"
          ]
         ],
         "hovertemplate": "Time to Maturity (Years)=%{x}<br>YTM=%{y}<br>label=%{customdata[0]}<br>corpus_cusip=%{customdata[1]}<extra></extra>",
         "legendgroup": "",
         "marker": {
          "color": "blue",
          "symbol": "circle"
         },
         "mode": "markers",
         "name": "PSTRIPS",
         "orientation": "v",
         "showlegend": true,
         "type": "scatter",
         "x": [
          0.08767123287671233,
          0.1726027397260274,
          0.2547945205479452,
          0.33972602739726027,
          0.4246575342465753,
          0.5013698630136987,
          0.5863013698630137,
          0.04657534246575343,
          0.12876712328767123,
          0.2136986301369863,
          0.2958904109589041,
          0.38082191780821917,
          0.6273972602739726,
          0.7945205479452054,
          0.8767123287671232,
          0.9616438356164384,
          1.0465753424657533,
          1.1287671232876713,
          1.2136986301369863,
          1.295890410958904,
          1.3808219178082193,
          1.4657534246575343,
          1.5424657534246575,
          1.6273972602739726,
          0.08767123287671233,
          0.1726027397260274,
          0.2547945205479452,
          0.4246575342465753,
          0.5013698630136987,
          0.6684931506849315,
          0.7534246575342466,
          0.8356164383561644,
          0.9205479452054794,
          1.0054794520547945,
          1.1726027397260275,
          1.2547945205479452,
          1.4246575342465753,
          1.5013698630136987,
          1.5863013698630137,
          1.6684931506849314,
          1.7534246575342465,
          1.8356164383561644,
          1.9205479452054794,
          2.0054794520547947,
          2.0876712328767124,
          2.1726027397260275,
          2.254794520547945,
          2.33972602739726,
          2.5013698630136987,
          2.5863013698630137,
          2.6684931506849314,
          2.7534246575342465,
          2.835616438356164,
          2.9205479452054797,
          3.0054794520547947,
          3.254794520547945,
          3.33972602739726,
          3.4246575342465753,
          3.504109589041096,
          3.589041095890411,
          0.08767123287671233,
          0.1726027397260274,
          0.2547945205479452,
          0.33972602739726027,
          0.4246575342465753,
          0.5013698630136987,
          0.5863013698630137,
          0.6684931506849315,
          0.7534246575342466,
          0.8356164383561644,
          0.9205479452054794,
          1.0054794520547945,
          1.0876712328767124,
          1.1726027397260275,
          1.2547945205479452,
          1.3397260273972602,
          1.4246575342465753,
          1.5013698630136987,
          1.5863013698630137,
          1.6684931506849314,
          1.7534246575342465,
          1.8356164383561644,
          1.9205479452054794,
          2.0054794520547947,
          2.0876712328767124,
          2.1726027397260275,
          2.254794520547945,
          2.4246575342465753,
          2.5013698630136987,
          2.6684931506849314,
          2.7534246575342465,
          2.835616438356164,
          2.9205479452054797,
          3.0054794520547947,
          3.0876712328767124,
          3.1726027397260275,
          3.254794520547945,
          3.4246575342465753,
          3.504109589041096,
          3.589041095890411,
          3.671232876712329,
          3.756164383561644,
          3.8383561643835615,
          3.9232876712328766,
          4.008219178082192,
          4.090410958904109,
          4.175342465753425,
          4.257534246575342,
          4.342465753424658,
          4.427397260273972,
          4.504109589041096,
          4.589041095890411,
          4.671232876712328,
          4.756164383561644,
          4.838356164383562,
          4.923287671232877,
          5.008219178082192,
          5.175342465753425,
          5.257534246575342,
          5.342465753424658,
          5.427397260273972,
          5.504109589041096,
          0.2136986301369863,
          0.4657534246575342,
          0.7095890410958904,
          1.2136986301369863,
          1.4657534246575343,
          1.7095890410958905,
          1.9616438356164383,
          2.7095890410958905,
          2.9616438356164383,
          3.213698630136986,
          3.4657534246575343,
          3.712328767123288,
          3.9643835616438357,
          4.2164383561643834,
          4.468493150684932,
          4.712328767123288,
          5.2164383561643834,
          5.468493150684932,
          5.712328767123288,
          5.964383561643835,
          6.2164383561643834,
          6.468493150684932,
          6.712328767123288,
          6.964383561643835,
          7.2164383561643834,
          7.468493150684932,
          7.715068493150685,
          7.967123287671233,
          8.219178082191782,
          8.471232876712328,
          15.72054794520548,
          15.972602739726028,
          16.224657534246575,
          16.476712328767125,
          16.720547945205478,
          16.972602739726028,
          17.224657534246575,
          17.476712328767125,
          17.972602739726028,
          18.224657534246575,
          18.476712328767125,
          13.473972602739726,
          13.717808219178082,
          14.473972602739726,
          14.717808219178082,
          14.96986301369863,
          15.221917808219178,
          15.473972602739726,
          15.972602739726028,
          16.224657534246575,
          16.476712328767125,
          16.720547945205478,
          16.972602739726028,
          17.224657534246575,
          17.476712328767125,
          17.720547945205478,
          17.972602739726028,
          18.224657534246575,
          18.476712328767125,
          18.720547945205478,
          18.972602739726028,
          19.224657534246575,
          19.476712328767125,
          19.723287671232878,
          19.975342465753425,
          20.22739726027397,
          20.47945205479452,
          20.723287671232878,
          20.975342465753425,
          21.22739726027397,
          21.47945205479452,
          21.723287671232878,
          21.975342465753425,
          22.22739726027397,
          22.723287671232878,
          22.975342465753425,
          23.22739726027397,
          23.47945205479452,
          23.726027397260275,
          24.23013698630137,
          24.482191780821918,
          24.726027397260275,
          24.97808219178082,
          25.23013698630137,
          25.482191780821918,
          25.726027397260275,
          25.97808219178082,
          26.23013698630137,
          26.482191780821918,
          26.726027397260275,
          26.97808219178082,
          27.482191780821918,
          27.980821917808218,
          28.484931506849314
         ],
         "xaxis": "x",
         "y": [
          4.687815,
          4.569212,
          4.561705,
          4.502871,
          4.46577,
          4.5102,
          4.449426,
          4.713862,
          4.563504,
          5.266194,
          4.4930270000000005,
          4.438591,
          4.412999,
          4.347573,
          4.294316,
          4.581125,
          4.189998,
          4.167427,
          4.305056,
          4.118634,
          4.08948,
          4.156197,
          4.058536,
          4.026033,
          4.687815,
          4.569201,
          4.561705,
          4.46577,
          4.5102,
          4.43278,
          4.384666,
          4.328982,
          4.8780850000000004,
          4.199398,
          4.147509,
          4.128226,
          4.074669999999999,
          4.070552,
          4.035302000000001,
          4.017267,
          3.987496,
          3.9667920000000003,
          3.9405959999999998,
          3.914383,
          3.901834,
          3.885085,
          3.8712789999999995,
          3.854353,
          3.834986,
          3.8166239999999996,
          3.803219,
          3.7855060000000003,
          3.7728159999999997,
          3.7559910000000003,
          3.7422829999999996,
          3.735568,
          3.729986,
          3.728052,
          3.732444,
          3.726881,
          4.652177,
          4.527267,
          4.513094,
          4.453976,
          4.900289,
          4.820594,
          4.42778,
          4.41367,
          4.378969,
          4.323843,
          4.499191000000001,
          4.203641,
          4.178633,
          4.15124,
          4.131602,
          4.100407,
          4.146711,
          4.07055,
          4.038096,
          4.019763,
          3.9895859999999996,
          3.9667920000000003,
          3.97273,
          3.9166230000000004,
          3.901834,
          3.885085,
          3.8712789999999995,
          3.838929,
          3.834986,
          3.803219,
          3.7855060000000003,
          3.772881,
          3.7575730000000003,
          3.7422829999999996,
          3.7399250000000004,
          3.7366900000000003,
          3.735568,
          3.728052,
          3.733774,
          3.728199,
          3.7268290000000004,
          3.72225,
          3.720695,
          3.7179660000000005,
          3.715728,
          3.715268,
          3.714729,
          3.715911,
          3.7138400000000003,
          3.714295,
          3.719483,
          3.716713,
          3.7172530000000004,
          3.7155199999999997,
          3.715417,
          3.71444,
          3.714659,
          3.719908,
          3.7234620000000005,
          3.7253950000000002,
          3.728368,
          3.7359120000000003,
          5.072065,
          4.844046,
          4.638152,
          4.256262,
          4.123718,
          4.054695,
          4.007674,
          3.8491440000000003,
          3.8193360000000003,
          3.7680070000000003,
          3.7909159999999997,
          3.7767500000000003,
          3.791325,
          3.756876,
          3.769538,
          3.7455160000000003,
          3.710989,
          3.785085,
          3.8286019999999996,
          3.7574799999999997,
          3.753608,
          3.761788,
          3.791194,
          3.840038,
          3.853922,
          3.8629200000000004,
          3.8611439999999995,
          3.824214,
          3.851934,
          3.8594669999999995,
          4.201582,
          4.22289,
          4.255701,
          4.269842,
          4.280963,
          4.311236999999999,
          4.315472,
          4.334455999999999,
          4.326899,
          4.296329,
          4.316873,
          3.923019,
          3.947012,
          3.988424,
          4.027679,
          4.048783,
          4.050043,
          4.048515,
          4.094916,
          4.0927299999999995,
          4.078809,
          4.127423,
          4.190752,
          4.228384999999999,
          4.265265,
          4.299899,
          4.319105,
          4.335719,
          4.353924,
          4.363086,
          4.359646,
          4.3607569999999996,
          4.372209,
          4.367894,
          4.362621,
          4.364175,
          4.360273,
          4.360234999999999,
          4.358815,
          4.358907,
          4.370596,
          4.376398,
          4.372914,
          4.371446,
          4.381444,
          4.382399,
          4.383053,
          4.391363999999999,
          4.38855,
          4.390009,
          4.385701999999999,
          4.372089,
          4.365249,
          4.352945,
          4.346806,
          4.306995000000001,
          4.316577,
          4.306051,
          4.2881339999999994,
          4.283344,
          4.265867999999999,
          4.238236,
          4.2073279999999995,
          4.157582
         ],
         "yaxis": "y"
        },
        {
         "customdata": [
          [
           "Nov 24, UST STRIPPED INT PMT",
           "912833LT5"
          ],
          [
           "Feb 25, UST STRIPPED INT PMT",
           "912833LU2"
          ],
          [
           "May 25, UST STRIPPED INT PMT",
           "912833LV0"
          ],
          [
           "Aug 25, UST STRIPPED INT PMT",
           "912833LW8"
          ],
          [
           "Nov 25, UST STRIPPED INT PMT",
           "912833LX6"
          ],
          [
           "Feb 26, UST STRIPPED INT PMT",
           "912833LY4"
          ],
          [
           "May 26, UST STRIPPED INT PMT",
           "912833LZ1"
          ],
          [
           "Aug 26, UST STRIPPED INT PMT",
           "912833PA2"
          ],
          [
           "Nov 26, UST STRIPPED INT PMT",
           "912833PB0"
          ],
          [
           "Feb 27, UST STRIPPED INT PMT",
           "912833PC8"
          ],
          [
           "May 27, UST STRIPPED INT PMT",
           "912833PD6"
          ],
          [
           "Aug 27, UST STRIPPED INT PMT",
           "912833PE4"
          ],
          [
           "Nov 27, UST STRIPPED INT PMT",
           "912833QB9"
          ],
          [
           "Feb 28, UST STRIPPED INT PMT",
           "912833RY8"
          ],
          [
           "May 28, UST STRIPPED INT PMT",
           "912833WQ9"
          ],
          [
           "Aug 28, UST STRIPPED INT PMT",
           "912833RZ5"
          ],
          [
           "Nov 28, UST STRIPPED INT PMT",
           "912833WR7"
          ],
          [
           "Feb 29, UST STRIPPED INT PMT",
           "912833XN5"
          ],
          [
           "May 29, UST STRIPPED INT PMT",
           "912833XS4"
          ],
          [
           "Aug 29, UST STRIPPED INT PMT",
           "912833XP0"
          ],
          [
           "Nov 29, UST STRIPPED INT PMT",
           "912833XT2"
          ],
          [
           "Feb 30, UST STRIPPED INT PMT",
           "912833XX3"
          ],
          [
           "May 30, UST STRIPPED INT PMT",
           "912833XU9"
          ],
          [
           "Aug 30, UST STRIPPED INT PMT",
           "912833XY1"
          ],
          [
           "Nov 30, UST STRIPPED INT PMT",
           "9128337N4"
          ],
          [
           "Feb 31, UST STRIPPED INT PMT",
           "912833XZ8"
          ],
          [
           "May 31, UST STRIPPED INT PMT",
           "9128337P9"
          ],
          [
           "Aug 31, UST STRIPPED INT PMT",
           "9128334S6"
          ],
          [
           "Nov 31, UST STRIPPED INT PMT",
           "9128337Q7"
          ],
          [
           "Feb 32, UST STRIPPED INT PMT",
           "9128334T4"
          ],
          [
           "May 32, UST STRIPPED INT PMT",
           "9128337R5"
          ],
          [
           "Aug 32, UST STRIPPED INT PMT",
           "9128334U1"
          ],
          [
           "Nov 32, UST STRIPPED INT PMT",
           "9128337S3"
          ],
          [
           "Feb 33, UST STRIPPED INT PMT",
           "9128334V9"
          ],
          [
           "May 33, UST STRIPPED INT PMT",
           "9128337T1"
          ],
          [
           "Aug 33, UST STRIPPED INT PMT",
           "9128334W7"
          ],
          [
           "Nov 33, UST STRIPPED INT PMT",
           "9128337U8"
          ],
          [
           "Feb 34, UST STRIPPED INT PMT",
           "9128334X5"
          ],
          [
           "May 34, UST STRIPPED INT PMT",
           "9128337V6"
          ],
          [
           "Aug 34, UST STRIPPED INT PMT",
           "9128334Y3"
          ],
          [
           "Nov 34, UST STRIPPED INT PMT",
           "9128337W4"
          ],
          [
           "Feb 35, UST STRIPPED INT PMT",
           "9128334Z0"
          ],
          [
           "May 35, UST STRIPPED INT PMT",
           "912833X88"
          ],
          [
           "Aug 35, UST STRIPPED INT PMT",
           "9128335A4"
          ],
          [
           "Nov 35, UST STRIPPED INT PMT",
           "912833X96"
          ],
          [
           "Feb 36, UST STRIPPED INT PMT",
           "9128335B2"
          ],
          [
           "May 36, UST STRIPPED INT PMT",
           "912833Y20"
          ],
          [
           "Aug 36, UST STRIPPED INT PMT",
           "9128337E4"
          ],
          [
           "Nov 36, UST STRIPPED INT PMT",
           "912833Y38"
          ],
          [
           "Feb 37, UST STRIPPED INT PMT",
           "9128337F1"
          ],
          [
           "May 37, UST STRIPPED INT PMT",
           "912833Y46"
          ],
          [
           "Aug 37, UST STRIPPED INT PMT",
           "912833Z52"
          ],
          [
           "Nov 37, UST STRIPPED INT PMT",
           "912834AD0"
          ],
          [
           "Feb 38, UST STRIPPED INT PMT",
           "912833Z60"
          ],
          [
           "May 38, UST STRIPPED INT PMT",
           "912834AE8"
          ],
          [
           "Aug 38, UST STRIPPED INT PMT",
           "912834AT5"
          ],
          [
           "Nov 38, UST STRIPPED INT PMT",
           "912834DU9"
          ],
          [
           "Feb 39, UST STRIPPED INT PMT",
           "912834AU2"
          ],
          [
           "May 39, UST STRIPPED INT PMT",
           "912834DV7"
          ],
          [
           "Aug 39, UST STRIPPED INT PMT",
           "912834EP9"
          ],
          [
           "Nov 39, UST STRIPPED INT PMT",
           "912834EV6"
          ],
          [
           "Feb 40, UST STRIPPED INT PMT",
           "912834FB9"
          ],
          [
           "May 40, UST STRIPPED INT PMT",
           "912834HV3"
          ],
          [
           "Aug 40, UST STRIPPED INT PMT",
           "912834JB5"
          ],
          [
           "Nov 40, UST STRIPPED INT PMT",
           "912834JH2"
          ],
          [
           "Feb 41, UST STRIPPED INT PMT",
           "912834JP4"
          ],
          [
           "May 41, UST STRIPPED INT PMT",
           "912834KH0"
          ],
          [
           "Aug 41, UST STRIPPED INT PMT",
           "912834KP2"
          ],
          [
           "Nov 41, UST STRIPPED INT PMT",
           "912834KV9"
          ],
          [
           "Feb 42, UST STRIPPED INT PMT",
           "912834LB2"
          ],
          [
           "May 42, UST STRIPPED INT PMT",
           "912834LK2"
          ],
          [
           "Aug 42, UST STRIPPED INT PMT",
           "912834LR7"
          ],
          [
           "Nov 42, UST STRIPPED INT PMT",
           "912834LX4"
          ],
          [
           "Feb 43, UST STRIPPED INT PMT",
           "912834MD7"
          ],
          [
           "May 43, UST STRIPPED INT PMT",
           "912834MM7"
          ],
          [
           "Aug 43, UST STRIPPED INT PMT",
           "912834MT2"
          ],
          [
           "Nov 43, UST STRIPPED INT PMT",
           "912834MZ8"
          ],
          [
           "Feb 44, UST STRIPPED INT PMT",
           "912834NF1"
          ],
          [
           "May 44, UST STRIPPED INT PMT",
           "912834NP9"
          ],
          [
           "Aug 44, UST STRIPPED INT PMT",
           "912834NV6"
          ],
          [
           "Nov 44, UST STRIPPED INT PMT",
           "912834PB8"
          ],
          [
           "Feb 45, UST STRIPPED INT PMT",
           "912834PH5"
          ],
          [
           "May 45, UST STRIPPED INT PMT",
           "912834KB3"
          ],
          [
           "Aug 45, UST STRIPPED INT PMT",
           "912834PM4"
          ],
          [
           "Nov 45, UST STRIPPED INT PMT",
           "912834PT9"
          ],
          [
           "Feb 46, UST STRIPPED INT PMT",
           "912834PZ5"
          ],
          [
           "May 46, UST STRIPPED INT PMT",
           "912834QH4"
          ],
          [
           "Aug 46, UST STRIPPED INT PMT",
           "912834QP6"
          ],
          [
           "Nov 46, UST STRIPPED INT PMT",
           "912834QV3"
          ],
          [
           "Feb 47, UST STRIPPED INT PMT",
           "912834RB6"
          ],
          [
           "May 47, UST STRIPPED INT PMT",
           "912834RK6"
          ],
          [
           "Aug 47, UST STRIPPED INT PMT",
           "912834RR1"
          ],
          [
           "Nov 47, UST STRIPPED INT PMT",
           "912834SZ2"
          ],
          [
           "Feb 48, UST STRIPPED INT PMT",
           "912834TF5"
          ],
          [
           "May 48, UST STRIPPED INT PMT",
           "912834TP3"
          ],
          [
           "Aug 48, UST STRIPPED INT PMT",
           "912834TV0"
          ],
          [
           "Nov 48, UST STRIPPED INT PMT",
           "912834UB2"
          ],
          [
           "Feb 49, UST STRIPPED INT PMT",
           "912834UH9"
          ],
          [
           "May 49, UST STRIPPED INT PMT",
           "912834UR7"
          ],
          [
           "Aug 49, UST STRIPPED INT PMT",
           "912834UY2"
          ],
          [
           "Nov 49, UST STRIPPED INT PMT",
           "912834VE5"
          ],
          [
           "Feb 50, UST STRIPPED INT PMT",
           "912834VM7"
          ],
          [
           "May 50, UST STRIPPED INT PMT",
           "912834VV7"
          ],
          [
           "Aug 50, UST STRIPPED INT PMT",
           "912834WC8"
          ],
          [
           "Nov 50, UST STRIPPED INT PMT",
           "912834WJ3"
          ],
          [
           "Feb 51, UST STRIPPED INT PMT",
           "912834WR5"
          ],
          [
           "May 51, UST STRIPPED INT PMT",
           "912834WZ7"
          ],
          [
           "Aug 51, UST STRIPPED INT PMT",
           "912834XG8"
          ],
          [
           "Nov 51, UST STRIPPED INT PMT",
           "912834A65"
          ],
          [
           "Feb 52, UST STRIPPED INT PMT",
           "912834B56"
          ],
          [
           "May 52, UST STRIPPED INT PMT",
           "912834C55"
          ],
          [
           "Aug 52, UST STRIPPED INT PMT",
           "912834D47"
          ],
          [
           "Nov 52, UST STRIPPED INT PMT",
           "912834F29"
          ]
         ],
         "hovertemplate": "Time to Maturity (Years)=%{x}<br>YTM=%{y}<br>label=%{customdata[0]}<br>cusip=%{customdata[1]}<extra></extra>",
         "legendgroup": "",
         "marker": {
          "color": "red",
          "symbol": "circle"
         },
         "mode": "markers",
         "name": "CSTRIPS",
         "orientation": "v",
         "showlegend": true,
         "type": "scatter",
         "x": [
          0.2136986301369863,
          0.4657534246575342,
          0.7095890410958904,
          0.9616438356164384,
          1.2136986301369863,
          1.4657534246575343,
          1.7095890410958905,
          1.9616438356164383,
          2.213698630136986,
          2.4657534246575343,
          2.7095890410958905,
          2.9616438356164383,
          3.213698630136986,
          3.4657534246575343,
          3.712328767123288,
          3.9643835616438357,
          4.2164383561643834,
          4.468493150684932,
          4.712328767123288,
          4.964383561643835,
          5.2164383561643834,
          5.468493150684932,
          5.712328767123288,
          5.964383561643835,
          6.2164383561643834,
          6.468493150684932,
          6.712328767123288,
          6.964383561643835,
          7.2164383561643834,
          7.468493150684932,
          7.715068493150685,
          7.967123287671233,
          8.219178082191782,
          8.471232876712328,
          8.715068493150685,
          8.967123287671233,
          9.219178082191782,
          9.471232876712328,
          9.715068493150685,
          9.967123287671233,
          10.219178082191782,
          10.471232876712328,
          10.715068493150685,
          10.967123287671233,
          11.219178082191782,
          11.471232876712328,
          11.717808219178082,
          11.96986301369863,
          12.221917808219178,
          12.473972602739726,
          12.717808219178082,
          12.96986301369863,
          13.221917808219178,
          13.473972602739726,
          13.717808219178082,
          13.96986301369863,
          14.221917808219178,
          14.473972602739726,
          14.717808219178082,
          14.96986301369863,
          15.221917808219178,
          15.473972602739726,
          15.72054794520548,
          15.972602739726028,
          16.224657534246575,
          16.476712328767125,
          16.720547945205478,
          16.972602739726028,
          17.224657534246575,
          17.476712328767125,
          17.720547945205478,
          17.972602739726028,
          18.224657534246575,
          18.476712328767125,
          18.720547945205478,
          18.972602739726028,
          19.224657534246575,
          19.476712328767125,
          19.723287671232878,
          19.975342465753425,
          20.22739726027397,
          20.47945205479452,
          20.723287671232878,
          20.975342465753425,
          21.22739726027397,
          21.47945205479452,
          21.723287671232878,
          21.975342465753425,
          22.22739726027397,
          22.47945205479452,
          22.723287671232878,
          22.975342465753425,
          23.22739726027397,
          23.47945205479452,
          23.726027397260275,
          23.97808219178082,
          24.23013698630137,
          24.482191780821918,
          24.726027397260275,
          24.97808219178082,
          25.23013698630137,
          25.482191780821918,
          25.726027397260275,
          25.97808219178082,
          26.23013698630137,
          26.482191780821918,
          26.726027397260275,
          26.97808219178082,
          27.23013698630137,
          27.482191780821918,
          27.72876712328767,
          27.980821917808218,
          28.232876712328768
         ],
         "xaxis": "x",
         "y": [
          4.979738,
          4.421774,
          4.456016,
          4.310477,
          4.182046,
          4.088227,
          4.095178,
          3.9115749999999996,
          3.844375,
          3.781217,
          3.82415,
          3.816209,
          3.8134870000000003,
          3.8256110000000003,
          3.833011,
          3.798624,
          3.811831,
          3.817748,
          3.8385879999999997,
          3.830204,
          3.852995,
          3.8623570000000003,
          3.8495340000000002,
          3.8754299999999997,
          3.904151,
          3.92704,
          3.9179730000000004,
          3.9339939999999998,
          3.9427039999999995,
          3.950347,
          3.9570559999999997,
          3.965478,
          3.972259,
          3.9878120000000004,
          3.99011,
          4.0176929999999995,
          4.037648,
          4.04355,
          4.051883,
          4.076203,
          4.084433,
          4.099217,
          4.105583,
          4.112819,
          4.1285099999999995,
          4.129119,
          4.1338420000000005,
          3.920124,
          4.162336,
          4.183258,
          4.205253,
          4.212601,
          4.231051,
          4.233066,
          4.275951,
          4.273210000000001,
          4.294701,
          4.308475,
          4.33568,
          4.344397,
          4.371773,
          4.372848,
          4.396598,
          4.418571,
          4.443793,
          4.442497,
          4.474746000000001,
          4.474086,
          4.512447,
          4.532407,
          4.539493,
          4.561851,
          4.564908,
          4.581196,
          4.557569,
          4.559499000000001,
          4.563135,
          4.568109,
          4.588114,
          4.583748,
          4.579685,
          4.577189000000001,
          4.561551,
          4.572084,
          4.579960000000001,
          4.564291,
          4.580671,
          4.570494,
          4.553611,
          4.567376,
          4.552465,
          4.5678160000000005,
          4.553746,
          4.562958999999999,
          4.557531,
          4.563288,
          4.571616,
          4.558368,
          4.545687,
          4.533897,
          4.5161750000000005,
          4.501545,
          4.49052,
          4.475767,
          4.465112,
          4.458277,
          4.438971,
          4.419346,
          4.387399,
          4.343839,
          4.321705,
          4.302804,
          4.254091
         ],
         "yaxis": "y"
        },
        {
         "customdata": [
          [
           "Sep 24s, 17-Week",
           "912797LG0"
          ],
          [
           "Sep 24s, 17-Week",
           "912797LH8"
          ],
          [
           "Sep 24s, 17-Week",
           "912797LJ4"
          ],
          [
           "Oct 24s, 17-Week",
           "912797LK1"
          ],
          [
           "Oct 24s, 17-Week",
           "912797LS4"
          ],
          [
           "Oct 24s, 17-Week",
           "912797LT2"
          ],
          [
           "Oct 24s, 17-Week",
           "912797LU9"
          ],
          [
           "Oct 24s, 17-Week",
           "912797LV7"
          ],
          [
           "Nov 24s, 17-Week",
           "912797MA2"
          ],
          [
           "Nov 24s, 17-Week",
           "912797MB0"
          ],
          [
           "Nov 24s, 17-Week",
           "912797MC8"
          ],
          [
           "Nov 24s, 17-Week",
           "912797MD6"
          ],
          [
           "Dec 24s, 17-Week",
           "912797MN4"
          ],
          [
           "Sep 24s, 26-Week",
           "912797KK2"
          ],
          [
           "Sep 24s, 26-Week",
           "912797KL0"
          ],
          [
           "Sep 24s, 26-Week",
           "912797KM8"
          ],
          [
           "Oct 24s, 26-Week",
           "912797KT3"
          ],
          [
           "Oct 24s, 26-Week",
           "912797KU0"
          ],
          [
           "Oct 24s, 26-Week",
           "912797KV8"
          ],
          [
           "Nov 24s, 26-Week",
           "912797LC9"
          ],
          [
           "Nov 24s, 26-Week",
           "912797LD7"
          ],
          [
           "Nov 24s, 26-Week",
           "912797LE5"
          ],
          [
           "Dec 24s, 26-Week",
           "912797LF2"
          ],
          [
           "Dec 24s, 26-Week",
           "912797LP0"
          ],
          [
           "Jan 25s, 26-Week",
           "912797LR6"
          ],
          [
           "Jan 25s, 26-Week",
           "912797LX3"
          ],
          [
           "Jan 25s, 26-Week",
           "912797LY1"
          ],
          [
           "Jan 25s, 26-Week",
           "912797LZ8"
          ],
          [
           "Feb 25s, 26-Week",
           "912797MJ3"
          ],
          [
           "Feb 25s, 26-Week",
           "912797MK0"
          ],
          [
           "Sep 24s, 52-Week",
           "912797GL5"
          ],
          [
           "Oct 24s, 52-Week",
           "912797GW1"
          ],
          [
           "Oct 24s, 52-Week",
           "912797HE0"
          ],
          [
           "Nov 24s, 52-Week",
           "912797HP5"
          ],
          [
           "Dec 24s, 52-Week",
           "912796ZV4"
          ],
          [
           "Jan 25s, 52-Week",
           "912797JR9"
          ],
          [
           "Feb 25s, 52-Week",
           "912797KA4"
          ],
          [
           "Mar 25s, 52-Week",
           "912797KJ5"
          ],
          [
           "Apr 25s, 52-Week",
           "912797KS5"
          ],
          [
           "May 25s, 52-Week",
           "912797LB1"
          ],
          [
           "Jun 25s, 52-Week",
           "912797LN5"
          ],
          [
           "Jul 25s, 52-Week",
           "912797LW5"
          ],
          [
           "Aug 25s, 52-Week",
           "912797MG9"
          ]
         ],
         "hovertemplate": "Time to Maturity (Years)=%{x}<br>YTM=%{y}<br>label=%{customdata[0]}<br>cusip=%{customdata[1]}<extra></extra>",
         "legendgroup": "",
         "marker": {
          "color": "green",
          "symbol": "circle"
         },
         "mode": "markers",
         "name": "Bills",
         "orientation": "v",
         "showlegend": true,
         "type": "scatter",
         "x": [
          0.03287671232876712,
          0.052054794520547946,
          0.07123287671232877,
          0.09041095890410959,
          0.1095890410958904,
          0.12876712328767123,
          0.14794520547945206,
          0.16712328767123288,
          0.1863013698630137,
          0.2054794520547945,
          0.22465753424657534,
          0.24383561643835616,
          0.2821917808219178,
          0.038356164383561646,
          0.057534246575342465,
          0.07671232876712329,
          0.11506849315068493,
          0.13424657534246576,
          0.15342465753424658,
          0.1917808219178082,
          0.21095890410958903,
          0.23013698630136986,
          0.2684931506849315,
          0.2876712328767123,
          0.3452054794520548,
          0.3643835616438356,
          0.3835616438356164,
          0.42191780821917807,
          0.4410958904109589,
          0.4602739726027397,
          0.019178082191780823,
          0.0958904109589041,
          0.1726027397260274,
          0.25205479452054796,
          0.32602739726027397,
          0.40273972602739727,
          0.4794520547945205,
          0.5561643835616439,
          0.6328767123287671,
          0.7095890410958904,
          0.7863013698630137,
          0.863013698630137,
          0.9397260273972603
         ],
         "xaxis": "x",
         "y": [
          5.530916,
          5.806853,
          5.624514,
          5.470692,
          5.391075,
          5.310998,
          5.28643,
          5.247039,
          5.170517,
          5.1214200000000005,
          5.083908,
          5.058772,
          4.97289,
          5.530916,
          5.728366,
          5.59114,
          5.373933,
          5.296351,
          5.262735999999999,
          5.1139280000000005,
          5.095495,
          5.0784530000000006,
          4.960044,
          4.929596,
          4.912502,
          4.903227,
          4.896375,
          4.881246,
          4.844643,
          4.807336,
          5.530916,
          5.432636,
          5.158866,
          5.042825,
          4.895258,
          4.734666,
          4.713563,
          4.427433,
          4.393165000000001,
          4.361725000000001,
          4.311605999999999,
          4.434233,
          4.388365
         ],
         "yaxis": "y"
        }
       ],
       "layout": {
        "height": 800,
        "legend": {
         "title": {
          "text": "Label"
         },
         "tracegroupgap": 0
        },
        "margin": {
         "t": 60
        },
        "template": {
         "data": {
          "bar": [
           {
            "error_x": {
             "color": "#f2f5fa"
            },
            "error_y": {
             "color": "#f2f5fa"
            },
            "marker": {
             "line": {
              "color": "rgb(17,17,17)",
              "width": 0.5
             },
             "pattern": {
              "fillmode": "overlay",
              "size": 10,
              "solidity": 0.2
             }
            },
            "type": "bar"
           }
          ],
          "barpolar": [
           {
            "marker": {
             "line": {
              "color": "rgb(17,17,17)",
              "width": 0.5
             },
             "pattern": {
              "fillmode": "overlay",
              "size": 10,
              "solidity": 0.2
             }
            },
            "type": "barpolar"
           }
          ],
          "carpet": [
           {
            "aaxis": {
             "endlinecolor": "#A2B1C6",
             "gridcolor": "#506784",
             "linecolor": "#506784",
             "minorgridcolor": "#506784",
             "startlinecolor": "#A2B1C6"
            },
            "baxis": {
             "endlinecolor": "#A2B1C6",
             "gridcolor": "#506784",
             "linecolor": "#506784",
             "minorgridcolor": "#506784",
             "startlinecolor": "#A2B1C6"
            },
            "type": "carpet"
           }
          ],
          "choropleth": [
           {
            "colorbar": {
             "outlinewidth": 0,
             "ticks": ""
            },
            "type": "choropleth"
           }
          ],
          "contour": [
           {
            "colorbar": {
             "outlinewidth": 0,
             "ticks": ""
            },
            "colorscale": [
             [
              0,
              "#0d0887"
             ],
             [
              0.1111111111111111,
              "#46039f"
             ],
             [
              0.2222222222222222,
              "#7201a8"
             ],
             [
              0.3333333333333333,
              "#9c179e"
             ],
             [
              0.4444444444444444,
              "#bd3786"
             ],
             [
              0.5555555555555556,
              "#d8576b"
             ],
             [
              0.6666666666666666,
              "#ed7953"
             ],
             [
              0.7777777777777778,
              "#fb9f3a"
             ],
             [
              0.8888888888888888,
              "#fdca26"
             ],
             [
              1,
              "#f0f921"
             ]
            ],
            "type": "contour"
           }
          ],
          "contourcarpet": [
           {
            "colorbar": {
             "outlinewidth": 0,
             "ticks": ""
            },
            "type": "contourcarpet"
           }
          ],
          "heatmap": [
           {
            "colorbar": {
             "outlinewidth": 0,
             "ticks": ""
            },
            "colorscale": [
             [
              0,
              "#0d0887"
             ],
             [
              0.1111111111111111,
              "#46039f"
             ],
             [
              0.2222222222222222,
              "#7201a8"
             ],
             [
              0.3333333333333333,
              "#9c179e"
             ],
             [
              0.4444444444444444,
              "#bd3786"
             ],
             [
              0.5555555555555556,
              "#d8576b"
             ],
             [
              0.6666666666666666,
              "#ed7953"
             ],
             [
              0.7777777777777778,
              "#fb9f3a"
             ],
             [
              0.8888888888888888,
              "#fdca26"
             ],
             [
              1,
              "#f0f921"
             ]
            ],
            "type": "heatmap"
           }
          ],
          "heatmapgl": [
           {
            "colorbar": {
             "outlinewidth": 0,
             "ticks": ""
            },
            "colorscale": [
             [
              0,
              "#0d0887"
             ],
             [
              0.1111111111111111,
              "#46039f"
             ],
             [
              0.2222222222222222,
              "#7201a8"
             ],
             [
              0.3333333333333333,
              "#9c179e"
             ],
             [
              0.4444444444444444,
              "#bd3786"
             ],
             [
              0.5555555555555556,
              "#d8576b"
             ],
             [
              0.6666666666666666,
              "#ed7953"
             ],
             [
              0.7777777777777778,
              "#fb9f3a"
             ],
             [
              0.8888888888888888,
              "#fdca26"
             ],
             [
              1,
              "#f0f921"
             ]
            ],
            "type": "heatmapgl"
           }
          ],
          "histogram": [
           {
            "marker": {
             "pattern": {
              "fillmode": "overlay",
              "size": 10,
              "solidity": 0.2
             }
            },
            "type": "histogram"
           }
          ],
          "histogram2d": [
           {
            "colorbar": {
             "outlinewidth": 0,
             "ticks": ""
            },
            "colorscale": [
             [
              0,
              "#0d0887"
             ],
             [
              0.1111111111111111,
              "#46039f"
             ],
             [
              0.2222222222222222,
              "#7201a8"
             ],
             [
              0.3333333333333333,
              "#9c179e"
             ],
             [
              0.4444444444444444,
              "#bd3786"
             ],
             [
              0.5555555555555556,
              "#d8576b"
             ],
             [
              0.6666666666666666,
              "#ed7953"
             ],
             [
              0.7777777777777778,
              "#fb9f3a"
             ],
             [
              0.8888888888888888,
              "#fdca26"
             ],
             [
              1,
              "#f0f921"
             ]
            ],
            "type": "histogram2d"
           }
          ],
          "histogram2dcontour": [
           {
            "colorbar": {
             "outlinewidth": 0,
             "ticks": ""
            },
            "colorscale": [
             [
              0,
              "#0d0887"
             ],
             [
              0.1111111111111111,
              "#46039f"
             ],
             [
              0.2222222222222222,
              "#7201a8"
             ],
             [
              0.3333333333333333,
              "#9c179e"
             ],
             [
              0.4444444444444444,
              "#bd3786"
             ],
             [
              0.5555555555555556,
              "#d8576b"
             ],
             [
              0.6666666666666666,
              "#ed7953"
             ],
             [
              0.7777777777777778,
              "#fb9f3a"
             ],
             [
              0.8888888888888888,
              "#fdca26"
             ],
             [
              1,
              "#f0f921"
             ]
            ],
            "type": "histogram2dcontour"
           }
          ],
          "mesh3d": [
           {
            "colorbar": {
             "outlinewidth": 0,
             "ticks": ""
            },
            "type": "mesh3d"
           }
          ],
          "parcoords": [
           {
            "line": {
             "colorbar": {
              "outlinewidth": 0,
              "ticks": ""
             }
            },
            "type": "parcoords"
           }
          ],
          "pie": [
           {
            "automargin": true,
            "type": "pie"
           }
          ],
          "scatter": [
           {
            "marker": {
             "line": {
              "color": "#283442"
             }
            },
            "type": "scatter"
           }
          ],
          "scatter3d": [
           {
            "line": {
             "colorbar": {
              "outlinewidth": 0,
              "ticks": ""
             }
            },
            "marker": {
             "colorbar": {
              "outlinewidth": 0,
              "ticks": ""
             }
            },
            "type": "scatter3d"
           }
          ],
          "scattercarpet": [
           {
            "marker": {
             "colorbar": {
              "outlinewidth": 0,
              "ticks": ""
             }
            },
            "type": "scattercarpet"
           }
          ],
          "scattergeo": [
           {
            "marker": {
             "colorbar": {
              "outlinewidth": 0,
              "ticks": ""
             }
            },
            "type": "scattergeo"
           }
          ],
          "scattergl": [
           {
            "marker": {
             "line": {
              "color": "#283442"
             }
            },
            "type": "scattergl"
           }
          ],
          "scattermapbox": [
           {
            "marker": {
             "colorbar": {
              "outlinewidth": 0,
              "ticks": ""
             }
            },
            "type": "scattermapbox"
           }
          ],
          "scatterpolar": [
           {
            "marker": {
             "colorbar": {
              "outlinewidth": 0,
              "ticks": ""
             }
            },
            "type": "scatterpolar"
           }
          ],
          "scatterpolargl": [
           {
            "marker": {
             "colorbar": {
              "outlinewidth": 0,
              "ticks": ""
             }
            },
            "type": "scatterpolargl"
           }
          ],
          "scatterternary": [
           {
            "marker": {
             "colorbar": {
              "outlinewidth": 0,
              "ticks": ""
             }
            },
            "type": "scatterternary"
           }
          ],
          "surface": [
           {
            "colorbar": {
             "outlinewidth": 0,
             "ticks": ""
            },
            "colorscale": [
             [
              0,
              "#0d0887"
             ],
             [
              0.1111111111111111,
              "#46039f"
             ],
             [
              0.2222222222222222,
              "#7201a8"
             ],
             [
              0.3333333333333333,
              "#9c179e"
             ],
             [
              0.4444444444444444,
              "#bd3786"
             ],
             [
              0.5555555555555556,
              "#d8576b"
             ],
             [
              0.6666666666666666,
              "#ed7953"
             ],
             [
              0.7777777777777778,
              "#fb9f3a"
             ],
             [
              0.8888888888888888,
              "#fdca26"
             ],
             [
              1,
              "#f0f921"
             ]
            ],
            "type": "surface"
           }
          ],
          "table": [
           {
            "cells": {
             "fill": {
              "color": "#506784"
             },
             "line": {
              "color": "rgb(17,17,17)"
             }
            },
            "header": {
             "fill": {
              "color": "#2a3f5f"
             },
             "line": {
              "color": "rgb(17,17,17)"
             }
            },
            "type": "table"
           }
          ]
         },
         "layout": {
          "annotationdefaults": {
           "arrowcolor": "#f2f5fa",
           "arrowhead": 0,
           "arrowwidth": 1
          },
          "autotypenumbers": "strict",
          "coloraxis": {
           "colorbar": {
            "outlinewidth": 0,
            "ticks": ""
           }
          },
          "colorscale": {
           "diverging": [
            [
             0,
             "#8e0152"
            ],
            [
             0.1,
             "#c51b7d"
            ],
            [
             0.2,
             "#de77ae"
            ],
            [
             0.3,
             "#f1b6da"
            ],
            [
             0.4,
             "#fde0ef"
            ],
            [
             0.5,
             "#f7f7f7"
            ],
            [
             0.6,
             "#e6f5d0"
            ],
            [
             0.7,
             "#b8e186"
            ],
            [
             0.8,
             "#7fbc41"
            ],
            [
             0.9,
             "#4d9221"
            ],
            [
             1,
             "#276419"
            ]
           ],
           "sequential": [
            [
             0,
             "#0d0887"
            ],
            [
             0.1111111111111111,
             "#46039f"
            ],
            [
             0.2222222222222222,
             "#7201a8"
            ],
            [
             0.3333333333333333,
             "#9c179e"
            ],
            [
             0.4444444444444444,
             "#bd3786"
            ],
            [
             0.5555555555555556,
             "#d8576b"
            ],
            [
             0.6666666666666666,
             "#ed7953"
            ],
            [
             0.7777777777777778,
             "#fb9f3a"
            ],
            [
             0.8888888888888888,
             "#fdca26"
            ],
            [
             1,
             "#f0f921"
            ]
           ],
           "sequentialminus": [
            [
             0,
             "#0d0887"
            ],
            [
             0.1111111111111111,
             "#46039f"
            ],
            [
             0.2222222222222222,
             "#7201a8"
            ],
            [
             0.3333333333333333,
             "#9c179e"
            ],
            [
             0.4444444444444444,
             "#bd3786"
            ],
            [
             0.5555555555555556,
             "#d8576b"
            ],
            [
             0.6666666666666666,
             "#ed7953"
            ],
            [
             0.7777777777777778,
             "#fb9f3a"
            ],
            [
             0.8888888888888888,
             "#fdca26"
            ],
            [
             1,
             "#f0f921"
            ]
           ]
          },
          "colorway": [
           "#636efa",
           "#EF553B",
           "#00cc96",
           "#ab63fa",
           "#FFA15A",
           "#19d3f3",
           "#FF6692",
           "#B6E880",
           "#FF97FF",
           "#FECB52"
          ],
          "font": {
           "color": "#f2f5fa"
          },
          "geo": {
           "bgcolor": "rgb(17,17,17)",
           "lakecolor": "rgb(17,17,17)",
           "landcolor": "rgb(17,17,17)",
           "showlakes": true,
           "showland": true,
           "subunitcolor": "#506784"
          },
          "hoverlabel": {
           "align": "left"
          },
          "hovermode": "closest",
          "mapbox": {
           "style": "dark"
          },
          "paper_bgcolor": "rgb(17,17,17)",
          "plot_bgcolor": "rgb(17,17,17)",
          "polar": {
           "angularaxis": {
            "gridcolor": "#506784",
            "linecolor": "#506784",
            "ticks": ""
           },
           "bgcolor": "rgb(17,17,17)",
           "radialaxis": {
            "gridcolor": "#506784",
            "linecolor": "#506784",
            "ticks": ""
           }
          },
          "scene": {
           "xaxis": {
            "backgroundcolor": "rgb(17,17,17)",
            "gridcolor": "#506784",
            "gridwidth": 2,
            "linecolor": "#506784",
            "showbackground": true,
            "ticks": "",
            "zerolinecolor": "#C8D4E3"
           },
           "yaxis": {
            "backgroundcolor": "rgb(17,17,17)",
            "gridcolor": "#506784",
            "gridwidth": 2,
            "linecolor": "#506784",
            "showbackground": true,
            "ticks": "",
            "zerolinecolor": "#C8D4E3"
           },
           "zaxis": {
            "backgroundcolor": "rgb(17,17,17)",
            "gridcolor": "#506784",
            "gridwidth": 2,
            "linecolor": "#506784",
            "showbackground": true,
            "ticks": "",
            "zerolinecolor": "#C8D4E3"
           }
          },
          "shapedefaults": {
           "line": {
            "color": "#f2f5fa"
           }
          },
          "sliderdefaults": {
           "bgcolor": "#C8D4E3",
           "bordercolor": "rgb(17,17,17)",
           "borderwidth": 1,
           "tickwidth": 0
          },
          "ternary": {
           "aaxis": {
            "gridcolor": "#506784",
            "linecolor": "#506784",
            "ticks": ""
           },
           "baxis": {
            "gridcolor": "#506784",
            "linecolor": "#506784",
            "ticks": ""
           },
           "bgcolor": "rgb(17,17,17)",
           "caxis": {
            "gridcolor": "#506784",
            "linecolor": "#506784",
            "ticks": ""
           }
          },
          "title": {
           "x": 0.05
          },
          "updatemenudefaults": {
           "bgcolor": "#506784",
           "borderwidth": 0
          },
          "xaxis": {
           "automargin": true,
           "gridcolor": "#283442",
           "linecolor": "#506784",
           "ticks": "",
           "title": {
            "standoff": 15
           },
           "zerolinecolor": "#283442",
           "zerolinewidth": 2
          },
          "yaxis": {
           "automargin": true,
           "gridcolor": "#283442",
           "linecolor": "#506784",
           "ticks": "",
           "title": {
            "standoff": 15
           },
           "zerolinecolor": "#283442",
           "zerolinewidth": 2
          }
         }
        },
        "title": {
         "text": "Market Observed US Treasury Zero Coupons YTMs - As of: 2024-08-29"
        },
        "width": 1400,
        "xaxis": {
         "anchor": "y",
         "domain": [
          0,
          1
         ],
         "showgrid": true,
         "showspikes": true,
         "spikecolor": "white",
         "spikemode": "across",
         "spikesnap": "cursor",
         "title": {
          "text": "Time to Maturity (Years)"
         }
        },
        "yaxis": {
         "anchor": "x",
         "domain": [
          0,
          1
         ],
         "showgrid": true,
         "showspikes": true,
         "spikecolor": "white",
         "spikethickness": 1,
         "title": {
          "text": "YTMs: eod_yield"
         }
        }
       }
      }
     },
     "metadata": {},
     "output_type": "display_data"
    }
   ],
   "source": [
    "fig = px.scatter(\n",
    "    pstrips_df,\n",
    "    x=\"time_to_maturity\",\n",
    "    y=\"pstrip_ytm\",\n",
    "    hover_data=[\"label\", \"corpus_cusip\"],\n",
    "    labels={\"time_to_maturity\": \"Time to Maturity (Years)\", \"pstrip_ytm\": \"YTM\"},\n",
    ")\n",
    "fig.update_traces(\n",
    "    marker=dict(\n",
    "        color=\"blue\",\n",
    "    ),\n",
    "    name=\"PSTRIPS\",\n",
    "    showlegend=True,\n",
    ")\n",
    "\n",
    "fig2 = px.scatter(\n",
    "    cstrips_quote_df,\n",
    "    x=\"time_to_maturity\",\n",
    "    y=\"cstrip_ytm\",\n",
    "    hover_data=[\"label\", \"cusip\"],\n",
    "    labels={\"time_to_maturity\": \"Time to Maturity (Years)\", \"cstrip_ytm\": \"YTM\"},\n",
    ")\n",
    "fig2.update_traces(\n",
    "    marker=dict(\n",
    "        color=\"red\",\n",
    "    ),\n",
    "    name=\"CSTRIPS\",\n",
    "    showlegend=True,\n",
    ")\n",
    "\n",
    "fig3 = px.scatter(\n",
    "    tbill_quotes_df,\n",
    "    x=\"time_to_maturity\",\n",
    "    y=\"tbill_ytm\",\n",
    "    hover_data=[\"label\", \"cusip\"],\n",
    "    labels={\n",
    "        \"time_to_maturity\": \"Time to Maturity (Years)\",\n",
    "        \"tbill_ytm\": \"YTM\",\n",
    "    },\n",
    ")\n",
    "fig3.update_traces(\n",
    "    marker=dict(\n",
    "        color=\"green\",\n",
    "    ),\n",
    "    name=\"Bills\",\n",
    "    showlegend=True,\n",
    ")\n",
    "\n",
    "for fig_data in [fig2.data, fig3.data]:\n",
    "    for trace in fig_data:\n",
    "        fig.add_trace(trace)\n",
    "\n",
    "\n",
    "fig.update_layout(\n",
    "    title=f\"Market Observed US Treasury Zero Coupons YTMs - As of: {as_of_date.date()}\",\n",
    "    legend_title_text=\"Label\",\n",
    "    xaxis_title=\"Time to Maturity (Years)\",\n",
    "    yaxis_title=f\"YTMs: {quote_type}_yield\",\n",
    "    width=1400,\n",
    "    height=800,\n",
    "    template=\"plotly_dark\",\n",
    ")\n",
    "\n",
    "fig.update_xaxes(\n",
    "    showgrid=True,\n",
    "    showspikes=True,\n",
    "    spikecolor=\"white\",\n",
    "    spikesnap=\"cursor\",\n",
    "    spikemode=\"across\",\n",
    ")\n",
    "fig.update_yaxes(showgrid=True, showspikes=True, spikecolor=\"white\", spikethickness=1)\n",
    "fig.show()"
   ]
  },
  {
   "cell_type": "code",
   "execution_count": 112,
   "metadata": {},
   "outputs": [
    {
     "data": {
      "text/html": [
       "<div>\n",
       "<style scoped>\n",
       "    .dataframe tbody tr th:only-of-type {\n",
       "        vertical-align: middle;\n",
       "    }\n",
       "\n",
       "    .dataframe tbody tr th {\n",
       "        vertical-align: top;\n",
       "    }\n",
       "\n",
       "    .dataframe thead th {\n",
       "        text-align: right;\n",
       "    }\n",
       "</style>\n",
       "<table border=\"1\" class=\"dataframe\">\n",
       "  <thead>\n",
       "    <tr style=\"text-align: right;\">\n",
       "      <th></th>\n",
       "      <th>cusip</th>\n",
       "      <th>label</th>\n",
       "      <th>maturity_date</th>\n",
       "      <th>time_to_maturity</th>\n",
       "      <th>obsv_price</th>\n",
       "      <th>obsv_ytm</th>\n",
       "    </tr>\n",
       "  </thead>\n",
       "  <tbody>\n",
       "    <tr>\n",
       "      <th>3</th>\n",
       "      <td>912797LK1</td>\n",
       "      <td>Oct 24s, 17-Week</td>\n",
       "      <td>2024-10-01</td>\n",
       "      <td>0.090411</td>\n",
       "      <td>99.5137</td>\n",
       "      <td>5.470692</td>\n",
       "    </tr>\n",
       "    <tr>\n",
       "      <th>31</th>\n",
       "      <td>912797GW1</td>\n",
       "      <td>Oct 24s, 52-Week</td>\n",
       "      <td>2024-10-03</td>\n",
       "      <td>0.095890</td>\n",
       "      <td>99.4869</td>\n",
       "      <td>5.432636</td>\n",
       "    </tr>\n",
       "    <tr>\n",
       "      <th>4</th>\n",
       "      <td>912797LS4</td>\n",
       "      <td>Oct 24s, 17-Week</td>\n",
       "      <td>2024-10-08</td>\n",
       "      <td>0.109589</td>\n",
       "      <td>99.4159</td>\n",
       "      <td>5.391075</td>\n",
       "    </tr>\n",
       "    <tr>\n",
       "      <th>16</th>\n",
       "      <td>912797KT3</td>\n",
       "      <td>Oct 24s, 26-Week</td>\n",
       "      <td>2024-10-10</td>\n",
       "      <td>0.115068</td>\n",
       "      <td>99.3879</td>\n",
       "      <td>5.373933</td>\n",
       "    </tr>\n",
       "    <tr>\n",
       "      <th>5</th>\n",
       "      <td>912797LT2</td>\n",
       "      <td>Oct 24s, 17-Week</td>\n",
       "      <td>2024-10-15</td>\n",
       "      <td>0.128767</td>\n",
       "      <td>99.3213</td>\n",
       "      <td>5.310998</td>\n",
       "    </tr>\n",
       "    <tr>\n",
       "      <th>...</th>\n",
       "      <td>...</td>\n",
       "      <td>...</td>\n",
       "      <td>...</td>\n",
       "      <td>...</td>\n",
       "      <td>...</td>\n",
       "      <td>...</td>\n",
       "    </tr>\n",
       "    <tr>\n",
       "      <th>108</th>\n",
       "      <td>912834A65</td>\n",
       "      <td>U S TREAS SEC       STRIPPED INT PMT     0.000...</td>\n",
       "      <td>2051-11-15</td>\n",
       "      <td>27.230137</td>\n",
       "      <td>31.0869</td>\n",
       "      <td>4.387399</td>\n",
       "    </tr>\n",
       "    <tr>\n",
       "      <th>109</th>\n",
       "      <td>912834B56</td>\n",
       "      <td>U S TREAS SEC       STRIPPED INT PMT     0.000...</td>\n",
       "      <td>2052-02-15</td>\n",
       "      <td>27.482192</td>\n",
       "      <td>31.1078</td>\n",
       "      <td>4.343839</td>\n",
       "    </tr>\n",
       "    <tr>\n",
       "      <th>110</th>\n",
       "      <td>912834C55</td>\n",
       "      <td>U S TREAS SEC       STRIPPED INT PMT     0.000...</td>\n",
       "      <td>2052-05-15</td>\n",
       "      <td>27.728767</td>\n",
       "      <td>30.9668</td>\n",
       "      <td>4.321705</td>\n",
       "    </tr>\n",
       "    <tr>\n",
       "      <th>111</th>\n",
       "      <td>912834D47</td>\n",
       "      <td>U S TREAS SEC       STRIPPED INT PMT     0.000...</td>\n",
       "      <td>2052-08-15</td>\n",
       "      <td>27.980822</td>\n",
       "      <td>30.7939</td>\n",
       "      <td>4.302804</td>\n",
       "    </tr>\n",
       "    <tr>\n",
       "      <th>112</th>\n",
       "      <td>912834F29</td>\n",
       "      <td>U S TREAS SEC       STRIPPED INT PMT     0.000...</td>\n",
       "      <td>2052-11-15</td>\n",
       "      <td>28.232877</td>\n",
       "      <td>30.8735</td>\n",
       "      <td>4.254091</td>\n",
       "    </tr>\n",
       "  </tbody>\n",
       "</table>\n",
       "<p>148 rows × 6 columns</p>\n",
       "</div>"
      ],
      "text/plain": [
       "         cusip                                              label  \\\n",
       "3    912797LK1                                   Oct 24s, 17-Week   \n",
       "31   912797GW1                                   Oct 24s, 52-Week   \n",
       "4    912797LS4                                   Oct 24s, 17-Week   \n",
       "16   912797KT3                                   Oct 24s, 26-Week   \n",
       "5    912797LT2                                   Oct 24s, 17-Week   \n",
       "..         ...                                                ...   \n",
       "108  912834A65  U S TREAS SEC       STRIPPED INT PMT     0.000...   \n",
       "109  912834B56  U S TREAS SEC       STRIPPED INT PMT     0.000...   \n",
       "110  912834C55  U S TREAS SEC       STRIPPED INT PMT     0.000...   \n",
       "111  912834D47  U S TREAS SEC       STRIPPED INT PMT     0.000...   \n",
       "112  912834F29  U S TREAS SEC       STRIPPED INT PMT     0.000...   \n",
       "\n",
       "    maturity_date  time_to_maturity  obsv_price  obsv_ytm  \n",
       "3      2024-10-01          0.090411     99.5137  5.470692  \n",
       "31     2024-10-03          0.095890     99.4869  5.432636  \n",
       "4      2024-10-08          0.109589     99.4159  5.391075  \n",
       "16     2024-10-10          0.115068     99.3879  5.373933  \n",
       "5      2024-10-15          0.128767     99.3213  5.310998  \n",
       "..            ...               ...         ...       ...  \n",
       "108    2051-11-15         27.230137     31.0869  4.387399  \n",
       "109    2052-02-15         27.482192     31.1078  4.343839  \n",
       "110    2052-05-15         27.728767     30.9668  4.321705  \n",
       "111    2052-08-15         27.980822     30.7939  4.302804  \n",
       "112    2052-11-15         28.232877     30.8735  4.254091  \n",
       "\n",
       "[148 rows x 6 columns]"
      ]
     },
     "execution_count": 112,
     "metadata": {},
     "output_type": "execute_result"
    }
   ],
   "source": [
    "market_observed_zeros_curve_set_df = pd.concat(\n",
    "    [\n",
    "        tbill_quotes_df.rename(\n",
    "            columns={\"tbill_price\": \"obsv_price\", \"tbill_ytm\": \"obsv_ytm\"}\n",
    "        ),\n",
    "        cstrips_quote_df.rename(\n",
    "            columns={\"cstrip_price\": \"obsv_price\", \"cstrip_ytm\": \"obsv_ytm\"}\n",
    "        ),\n",
    "    ]\n",
    ")\n",
    "market_observed_zeros_curve_set_df = market_observed_zeros_curve_set_df.sort_values(\n",
    "    by=[\"time_to_maturity\"]\n",
    ").drop_duplicates(subset=[\"time_to_maturity\"])\n",
    "# )\n",
    "market_observed_zeros_curve_set_df = market_observed_zeros_curve_set_df[\n",
    "    market_observed_zeros_curve_set_df[\"time_to_maturity\"] > 30 / 360\n",
    "]\n",
    "market_observed_zeros_curve_set_df"
   ]
  },
  {
   "cell_type": "code",
   "execution_count": 113,
   "metadata": {},
   "outputs": [],
   "source": [
    "ttm_interp = np.linspace(0, 30, 1000)\n",
    "x = market_observed_zeros_curve_set_df[\"time_to_maturity\"].to_numpy()\n",
    "y = market_observed_zeros_curve_set_df[\"obsv_ytm\"].to_numpy() \n",
    "curve_interpolator = GeneralCurveInterpolator(\n",
    "    x=x,\n",
    "    y=y,\n",
    "    linspace_x_lower_bound=0,\n",
    "    linspace_x_upper_bound=30,\n",
    "    linspace_x_num=100,\n",
    "    enable_extrapolate_left_fill=True,\n",
    "    enable_extrapolate_right_fill=True,\n",
    ")"
   ]
  },
  {
   "cell_type": "code",
   "execution_count": 125,
   "metadata": {},
   "outputs": [
    {
     "data": {
      "application/vnd.plotly.v1+json": {
       "config": {
        "plotlyServerURL": "https://plot.ly"
       },
       "data": [
        {
         "customdata": [
          [
           "U S TREAS SEC       STRIPPED INT PMT     0.00000% 11/15/2024ZERO CPN",
           "912833LT5"
          ],
          [
           "U S TREAS SEC       STRIPPED INT PMT     0.00000% 02/15/2025ZERO CPN",
           "912833LU2"
          ],
          [
           "U S TREAS SEC       STRIPPED INT PMT     0.00000% 05/15/2025ZERO CPN",
           "912833LV0"
          ],
          [
           "U S TREAS SEC       STRIPPED INT PMT     0.00000% 08/15/2025ZERO CPN",
           "912833LW8"
          ],
          [
           "U S TREAS SEC       STRIPPED INT PMT     0.00000% 11/15/2025ZERO CPN",
           "912833LX6"
          ],
          [
           "U S TREAS SEC       STRIPPED INT PMT     0.00000% 02/15/2026ZERO CPN",
           "912833LY4"
          ],
          [
           "U S TREAS SEC       STRIPPED INT PMT     0.00000% 05/15/2026ZERO CPN",
           "912833LZ1"
          ],
          [
           "U S TREAS SEC       STRIPPED INT PMT     0.00000% 08/15/2026ZERO CPN",
           "912833PA2"
          ],
          [
           "U S TREAS SEC       STRIPPED INT PMT     0.00000% 11/15/2026ZERO CPN",
           "912833PB0"
          ],
          [
           "U S TREAS SEC       STRIPPED INT PMT     0.00000% 02/15/2027ZERO CPN",
           "912833PC8"
          ],
          [
           "U S TREAS SEC       STRIPPED INT PMT     0.00000% 05/15/2027ZERO CPN",
           "912833PD6"
          ],
          [
           "U S TREAS SEC       STRIPPED INT PMT     0.00000% 08/15/2027ZERO CPN",
           "912833PE4"
          ],
          [
           "U S TREAS SEC       STRIPPED INT PMT     0.00000% 11/15/2027ZERO CPN",
           "912833QB9"
          ],
          [
           "U S TREAS SEC       STRIPPED INT PMT     0.00000% 02/15/2028ZERO CPN",
           "912833RY8"
          ],
          [
           "U S TREAS SEC       STRIPPED INT PMT     0.00000% 05/15/2028ZERO CPN",
           "912833WQ9"
          ],
          [
           "U S TREAS SEC       STRIPPED INT PMT     0.00000% 08/15/2028ZERO CPN",
           "912833RZ5"
          ],
          [
           "U S TREAS SEC       STRIPPED INT PMT     0.00000% 11/15/2028ZERO CPN",
           "912833WR7"
          ],
          [
           "U S TREAS SEC       STRIPPED INT PMT     0.00000% 02/15/2029ZERO CPN",
           "912833XN5"
          ],
          [
           "U S TREAS SEC       STRIPPED INT PMT     0.00000% 05/15/2029ZERO CPN",
           "912833XS4"
          ],
          [
           "U S TREAS SEC       STRIPPED INT PMT     0.00000% 08/15/2029ZERO CPN",
           "912833XP0"
          ],
          [
           "U S TREAS SEC       STRIPPED INT PMT     0.00000% 11/15/2029ZERO CPN",
           "912833XT2"
          ],
          [
           "U S TREAS SEC       STRIPPED INT PMT     0.00000% 02/15/2030ZERO CPN",
           "912833XX3"
          ],
          [
           "U S TREAS SEC       STRIPPED INT PMT     0.00000% 05/15/2030ZERO CPN",
           "912833XU9"
          ],
          [
           "U S TREAS SEC       STRIPPED INT PMT     0.00000% 08/15/2030ZERO CPN",
           "912833XY1"
          ],
          [
           "U S TREAS SEC       STRIPPED INT PMT     0.00000% 11/15/2030ZERO CPN",
           "9128337N4"
          ],
          [
           "U S TREAS SEC       STRIPPED INT PMT     0.00000% 02/15/2031ZERO CPN",
           "912833XZ8"
          ],
          [
           "U S TREAS SEC       STRIPPED INT PMT     0.00000% 05/15/2031ZERO CPN",
           "9128337P9"
          ],
          [
           "U S TREAS SEC       STRIPPED INT PMT     0.00000% 08/15/2031ZERO CPN",
           "9128334S6"
          ],
          [
           "U S TREAS SEC       STRIPPED INT PMT     0.00000% 11/15/2031ZERO CPN",
           "9128337Q7"
          ],
          [
           "U S TREAS SEC       STRIPPED INT PMT     0.00000% 02/15/2032ZERO CPN",
           "9128334T4"
          ],
          [
           "U S TREAS SEC       STRIPPED INT PMT     0.00000% 05/15/2032ZERO CPN",
           "9128337R5"
          ],
          [
           "U S TREAS SEC       STRIPPED INT PMT     0.00000% 08/15/2032ZERO CPN",
           "9128334U1"
          ],
          [
           "U S TREAS SEC       STRIPPED INT PMT     0.00000% 11/15/2032ZERO CPN",
           "9128337S3"
          ],
          [
           "U S TREAS SEC       STRIPPED INT PMT     0.00000% 02/15/2033ZERO CPN",
           "9128334V9"
          ],
          [
           "U S TREAS SEC       STRIPPED INT PMT     0.00000% 05/15/2033ZERO CPN",
           "9128337T1"
          ],
          [
           "U S TREAS SEC       STRIPPED INT PMT     0.00000% 08/15/2033ZERO CPN",
           "9128334W7"
          ],
          [
           "U S TREAS SEC       STRIPPED INT PMT     0.00000% 11/15/2033ZERO CPN",
           "9128337U8"
          ],
          [
           "U S TREAS SEC       STRIPPED INT PMT     0.00000% 02/15/2034ZERO CPN",
           "9128334X5"
          ],
          [
           "U S TREAS SEC       STRIPPED INT PMT     0.00000% 05/15/2034ZERO CPN",
           "9128337V6"
          ],
          [
           "U S TREAS SEC       STRIPPED INT PMT     0.00000% 08/15/2034ZERO CPN",
           "9128334Y3"
          ],
          [
           "U S TREAS SEC       STRIPPED INT PMT     0.00000% 11/15/2034ZERO CPN",
           "9128337W4"
          ],
          [
           "U S TREAS SEC       STRIPPED INT PMT     0.00000% 02/15/2035ZERO CPN",
           "9128334Z0"
          ],
          [
           "U S TREAS SEC       STRIPPED INT PMT     0.00000% 05/15/2035ZERO CPN",
           "912833X88"
          ],
          [
           "U S TREAS SEC       STRIPPED INT PMT     0.00000% 08/15/2035ZERO CPN",
           "9128335A4"
          ],
          [
           "U S TREAS SEC       STRIPPED INT PMT     0.00000% 11/15/2035ZERO CPN",
           "912833X96"
          ],
          [
           "U S TREAS SEC       STRIPPED INT PMT     0.00000% 02/15/2036ZERO CPN",
           "9128335B2"
          ],
          [
           "U S TREAS SEC       STRIPPED INT PMT     0.00000% 05/15/2036ZERO CPN",
           "912833Y20"
          ],
          [
           "U S TREAS SEC       STRIPPED INT PMT     0.00000% 08/15/2036ZERO CPN",
           "9128337E4"
          ],
          [
           "U S TREAS SEC       STRIPPED INT PMT     0.00000% 11/15/2036ZERO CPN",
           "912833Y38"
          ],
          [
           "U S TREAS SEC       STRIPPED INT PMT     0.00000% 02/15/2037ZERO CPN",
           "9128337F1"
          ],
          [
           "U S TREAS SEC       STRIPPED INT PMT     0.00000% 05/15/2037ZERO CPN",
           "912833Y46"
          ],
          [
           "U S TREAS SEC       STRIPPED INT PMT     0.00000% 08/15/2037ZERO CPN",
           "912833Z52"
          ],
          [
           "U S TREAS SEC       STRIPPED INT PMT     0.00000% 11/15/2037ZERO CPN",
           "912834AD0"
          ],
          [
           "U S TREAS SEC       STRIPPED INT PMT     0.00000% 02/15/2038ZERO CPN",
           "912833Z60"
          ],
          [
           "U S TREAS SEC       STRIPPED INT PMT     0.00000% 05/15/2038ZERO CPN",
           "912834AE8"
          ],
          [
           "U S TREAS SEC       STRIPPED INT PMT     0.00000% 08/15/2038ZERO CPN",
           "912834AT5"
          ],
          [
           "U S TREAS SEC       STRIPPED INT PMT     0.00000% 11/15/2038ZERO CPN",
           "912834DU9"
          ],
          [
           "U S TREAS SEC       STRIPPED INT PMT     0.00000% 02/15/2039ZERO CPN",
           "912834AU2"
          ],
          [
           "U S TREAS SEC       STRIPPED INT PMT     0.00000% 05/15/2039ZERO CPN",
           "912834DV7"
          ],
          [
           "U S TREAS SEC       STRIPPED INT PMT     0.00000% 08/15/2039ZERO CPN",
           "912834EP9"
          ],
          [
           "U S TREAS SEC       STRIPPED INT PMT     0.00000% 11/15/2039ZERO CPN",
           "912834EV6"
          ],
          [
           "U S TREAS SEC STRIPPED INT PMT    0.00000% 02/15/2040 INT PMT",
           "912834FB9"
          ],
          [
           "U S TREAS SEC       STRIPPED INT PMT     0.00000% 05/15/2040ZERO CPN",
           "912834HV3"
          ],
          [
           "U S TREAS SEC       STRIPPED INT PMT     0.00000% 08/15/2040ZERO CPN",
           "912834JB5"
          ],
          [
           "U S TREAS SEC       STRIPPED INT PMT     0.00000% 11/15/2040ZERO CPN",
           "912834JH2"
          ],
          [
           "U S TREAS SEC       STRIPPED INT PMT     0.00000% 02/15/2041ZERO CPN",
           "912834JP4"
          ],
          [
           "U S TREAS SEC       STRIPPED INT PMT     0.00000% 05/15/2041ZERO CPN",
           "912834KH0"
          ],
          [
           "U S TREAS SEC       STRIPPED INT PMT     0.00000% 08/15/2041ZERO CPN",
           "912834KP2"
          ],
          [
           "U S TREAS SEC       STRIPPED INT PMT     0.00000% 11/15/2041ZERO CPN",
           "912834KV9"
          ],
          [
           "U S TREAS SEC       STRIPPED INT PMT     0.00000% 02/15/2042ZERO CPN",
           "912834LB2"
          ],
          [
           "U S TREAS SEC       STRIPPED INT PMT     0.00000% 05/15/2042ZERO CPN",
           "912834LK2"
          ],
          [
           "U S TREAS SEC       STRIPPED INT PMT     0.00000% 08/15/2042ZERO CPN",
           "912834LR7"
          ],
          [
           "U S TREAS SEC       STRIPPED INT PMT     0.00000% 11/15/2042ZERO CPN",
           "912834LX4"
          ],
          [
           "U S TREAS SEC       STRIPPED INT PMT     0.00000% 02/15/2043ZERO CPN",
           "912834MD7"
          ],
          [
           "U S TREAS SEC       STRIPPED INT PMT     0.00000% 05/15/2043ZERO CPN",
           "912834MM7"
          ],
          [
           "U S TREAS SEC       STRIPPED INT PMT     0.00000% 08/15/2043ZERO CPN",
           "912834MT2"
          ],
          [
           "U S TREAS SEC       STRIPPED INT PMT     0.00000% 11/15/2043ZERO CPN",
           "912834MZ8"
          ],
          [
           "U S TREAS SEC       STRIPPED INT PMT     0.00000% 02/15/2044ZERO CPN",
           "912834NF1"
          ],
          [
           "U S TREAS SEC       STRIPPED INT PMT     0.00000% 05/15/2044ZERO CPN",
           "912834NP9"
          ],
          [
           "U S TREAS SEC       STRIPPED INT PMT     0.00000% 08/15/2044ZERO CPN",
           "912834NV6"
          ],
          [
           "U S TREAS SEC       STRIPPED INT PMT     0.00000% 11/15/2044ZERO CPN",
           "912834PB8"
          ],
          [
           "U S TREAS SEC       STRIPPED INT PMT     0.00000% 02/15/2045ZERO CPN",
           "912834PH5"
          ],
          [
           "U S TREAS SEC STRIPPED INT PMT    0.00000% 05/15/2045 TINT",
           "912834KB3"
          ],
          [
           "U S TREAS SEC       STRIPPED INT PMT    0.00000% 08/15/2045 TINT",
           "912834PM4"
          ],
          [
           "U S TREAS SEC       STRIPPED INT PMT     0.00000% 11/15/2045ZERO CPN",
           "912834PT9"
          ],
          [
           "U S TREAS SEC       STRIPPED INT PMT     0.00000% 02/15/2046ZERO CPN",
           "912834PZ5"
          ],
          [
           "U S TREAS SEC       STRIPPED INT PMT     0.00000% 05/15/2046ZERO CPN",
           "912834QH4"
          ],
          [
           "U S TREAS SEC       STRIPPED INT PMT     0.00000% 08/15/2046ZERO CPN",
           "912834QP6"
          ],
          [
           "U S TREAS SEC       STRIPPED INT PMT     0.00000% 11/15/2046ZERO CPN",
           "912834QV3"
          ],
          [
           "U S TREAS SEC       STRIPPED INT PMT     0.00000% 02/15/2047ZERO CPN",
           "912834RB6"
          ],
          [
           "U S TREAS SEC       STRIPPED INT PMT     0.00000% 05/15/2047ZERO CPN",
           "912834RK6"
          ],
          [
           "U S TREAS SEC       STRIPPED INT PMT     0.00000% 08/15/2047ZERO CPN",
           "912834RR1"
          ],
          [
           "U S TREAS SEC       STRIPPED INT PMT     0.00000% 11/15/2047ZERO CPN",
           "912834SZ2"
          ],
          [
           "U S TREAS SEC       STRIPPED INT PMT     0.00000% 02/15/2048ZERO CPN",
           "912834TF5"
          ],
          [
           "U S TREAS SEC       STRIPPED INT PMT     0.00000% 05/15/2048ZERO CPN",
           "912834TP3"
          ],
          [
           "U S TREAS SEC       STRIPPED INT PMT     0.00000% 08/15/2048ZERO CPN",
           "912834TV0"
          ],
          [
           "U S TREAS SEC       STRIPPED INT PMT     0.00000% 11/15/2048ZERO CPN",
           "912834UB2"
          ],
          [
           "U S TREAS SEC       STRIPPED INT PMT     0.00000% 02/15/2049ZERO CPN",
           "912834UH9"
          ],
          [
           "U S TREAS SEC       STRIPPED INT PMT     0.00000% 05/15/2049ZERO CPN",
           "912834UR7"
          ],
          [
           "U S TREAS SEC       STRIPPED INT PMT     0.00000% 08/15/2049ZERO CPN",
           "912834UY2"
          ],
          [
           "U S TREAS SEC       STRIPPED INT PMT     0.00000% 11/15/2049ZERO CPN",
           "912834VE5"
          ],
          [
           "U S TREAS SEC       STRIPPED INT PMT     0.00000% 02/15/2050ZERO CPN",
           "912834VM7"
          ],
          [
           "U S TREAS SEC       STRIPPED INT PMT     0.00000% 05/15/2050ZERO CPN",
           "912834VV7"
          ],
          [
           "U S TREAS SEC       STRIPPED INT PMT     0.00000% 08/15/2050ZERO CPN",
           "912834WC8"
          ],
          [
           "U S TREAS SEC       STRIPPED INT PMT     0.00000% 11/15/2050ZERO CPN",
           "912834WJ3"
          ],
          [
           "U S TREAS SEC       STRIPPED INT PMT     0.00000% 02/15/2051ZERO CPN",
           "912834WR5"
          ],
          [
           "U S TREAS SEC       STRIPPED INT PMT     0.00000% 05/15/2051ZERO CPN",
           "912834WZ7"
          ],
          [
           "U S TREAS SEC       STRIPPED INT PMT     0.00000% 08/15/2051ZERO CPN",
           "912834XG8"
          ],
          [
           "U S TREAS SEC       STRIPPED INT PMT     0.00000% 11/15/2051ZERO CPN",
           "912834A65"
          ],
          [
           "U S TREAS SEC       STRIPPED INT PMT     0.00000% 02/15/2052ZERO CPN",
           "912834B56"
          ],
          [
           "U S TREAS SEC       STRIPPED INT PMT     0.00000% 05/15/2052ZERO CPN",
           "912834C55"
          ],
          [
           "U S TREAS SEC       STRIPPED INT PMT     0.00000% 08/15/2052ZERO CPN",
           "912834D47"
          ],
          [
           "U S TREAS SEC       STRIPPED INT PMT     0.00000% 11/15/2052ZERO CPN",
           "912834F29"
          ]
         ],
         "hovertemplate": "Time to Maturity (Years)=%{x}<br>YTM=%{y}<br>label=%{customdata[0]}<br>cusip=%{customdata[1]}<extra></extra>",
         "legendgroup": "",
         "marker": {
          "color": "red",
          "symbol": "circle"
         },
         "mode": "markers",
         "name": "CSTRIPS",
         "orientation": "v",
         "showlegend": true,
         "type": "scatter",
         "x": [
          0.2136986301369863,
          0.4657534246575342,
          0.7095890410958904,
          0.9616438356164384,
          1.2136986301369863,
          1.4657534246575343,
          1.7095890410958905,
          1.9616438356164383,
          2.213698630136986,
          2.4657534246575343,
          2.7095890410958905,
          2.9616438356164383,
          3.213698630136986,
          3.4657534246575343,
          3.712328767123288,
          3.9643835616438357,
          4.2164383561643834,
          4.468493150684932,
          4.712328767123288,
          4.964383561643835,
          5.2164383561643834,
          5.468493150684932,
          5.712328767123288,
          5.964383561643835,
          6.2164383561643834,
          6.468493150684932,
          6.712328767123288,
          6.964383561643835,
          7.2164383561643834,
          7.468493150684932,
          7.715068493150685,
          7.967123287671233,
          8.219178082191782,
          8.471232876712328,
          8.715068493150685,
          8.967123287671233,
          9.219178082191782,
          9.471232876712328,
          9.715068493150685,
          9.967123287671233,
          10.219178082191782,
          10.471232876712328,
          10.715068493150685,
          10.967123287671233,
          11.219178082191782,
          11.471232876712328,
          11.717808219178082,
          11.96986301369863,
          12.221917808219178,
          12.473972602739726,
          12.717808219178082,
          12.96986301369863,
          13.221917808219178,
          13.473972602739726,
          13.717808219178082,
          13.96986301369863,
          14.221917808219178,
          14.473972602739726,
          14.717808219178082,
          14.96986301369863,
          15.221917808219178,
          15.473972602739726,
          15.72054794520548,
          15.972602739726028,
          16.224657534246575,
          16.476712328767125,
          16.720547945205478,
          16.972602739726028,
          17.224657534246575,
          17.476712328767125,
          17.720547945205478,
          17.972602739726028,
          18.224657534246575,
          18.476712328767125,
          18.720547945205478,
          18.972602739726028,
          19.224657534246575,
          19.476712328767125,
          19.723287671232878,
          19.975342465753425,
          20.22739726027397,
          20.47945205479452,
          20.723287671232878,
          20.975342465753425,
          21.22739726027397,
          21.47945205479452,
          21.723287671232878,
          21.975342465753425,
          22.22739726027397,
          22.47945205479452,
          22.723287671232878,
          22.975342465753425,
          23.22739726027397,
          23.47945205479452,
          23.726027397260275,
          23.97808219178082,
          24.23013698630137,
          24.482191780821918,
          24.726027397260275,
          24.97808219178082,
          25.23013698630137,
          25.482191780821918,
          25.726027397260275,
          25.97808219178082,
          26.23013698630137,
          26.482191780821918,
          26.726027397260275,
          26.97808219178082,
          27.23013698630137,
          27.482191780821918,
          27.72876712328767,
          27.980821917808218,
          28.232876712328768
         ],
         "xaxis": "x",
         "y": [
          4.979738,
          4.421774,
          4.456016,
          4.310477,
          4.182046,
          4.088227,
          4.095178,
          3.9115749999999996,
          3.844375,
          3.781217,
          3.82415,
          3.816209,
          3.8134870000000003,
          3.8256110000000003,
          3.833011,
          3.798624,
          3.811831,
          3.817748,
          3.8385879999999997,
          3.830204,
          3.852995,
          3.8623570000000003,
          3.8495340000000002,
          3.8754299999999997,
          3.904151,
          3.92704,
          3.9179730000000004,
          3.9339939999999998,
          3.9427039999999995,
          3.950347,
          3.9570559999999997,
          3.965478,
          3.972259,
          3.9878120000000004,
          3.99011,
          4.0176929999999995,
          4.037648,
          4.04355,
          4.051883,
          4.076203,
          4.084433,
          4.099217,
          4.105583,
          4.112819,
          4.1285099999999995,
          4.129119,
          4.1338420000000005,
          3.920124,
          4.162336,
          4.183258,
          4.205253,
          4.212601,
          4.231051,
          4.233066,
          4.275951,
          4.273210000000001,
          4.294701,
          4.308475,
          4.33568,
          4.344397,
          4.371773,
          4.372848,
          4.396598,
          4.418571,
          4.443793,
          4.442497,
          4.474746000000001,
          4.474086,
          4.512447,
          4.532407,
          4.539493,
          4.561851,
          4.564908,
          4.581196,
          4.557569,
          4.559499000000001,
          4.563135,
          4.568109,
          4.588114,
          4.583748,
          4.579685,
          4.577189000000001,
          4.561551,
          4.572084,
          4.579960000000001,
          4.564291,
          4.580671,
          4.570494,
          4.553611,
          4.567376,
          4.552465,
          4.5678160000000005,
          4.553746,
          4.562958999999999,
          4.557531,
          4.563288,
          4.571616,
          4.558368,
          4.545687,
          4.533897,
          4.5161750000000005,
          4.501545,
          4.49052,
          4.475767,
          4.465112,
          4.458277,
          4.438971,
          4.419346,
          4.387399,
          4.343839,
          4.321705,
          4.302804,
          4.254091
         ],
         "yaxis": "y"
        },
        {
         "customdata": [
          [
           "Sep 24s, 17-Week",
           "912797LG0"
          ],
          [
           "Sep 24s, 17-Week",
           "912797LH8"
          ],
          [
           "Sep 24s, 17-Week",
           "912797LJ4"
          ],
          [
           "Oct 24s, 17-Week",
           "912797LK1"
          ],
          [
           "Oct 24s, 17-Week",
           "912797LS4"
          ],
          [
           "Oct 24s, 17-Week",
           "912797LT2"
          ],
          [
           "Oct 24s, 17-Week",
           "912797LU9"
          ],
          [
           "Oct 24s, 17-Week",
           "912797LV7"
          ],
          [
           "Nov 24s, 17-Week",
           "912797MA2"
          ],
          [
           "Nov 24s, 17-Week",
           "912797MB0"
          ],
          [
           "Nov 24s, 17-Week",
           "912797MC8"
          ],
          [
           "Nov 24s, 17-Week",
           "912797MD6"
          ],
          [
           "Dec 24s, 17-Week",
           "912797MN4"
          ],
          [
           "Sep 24s, 26-Week",
           "912797KK2"
          ],
          [
           "Sep 24s, 26-Week",
           "912797KL0"
          ],
          [
           "Sep 24s, 26-Week",
           "912797KM8"
          ],
          [
           "Oct 24s, 26-Week",
           "912797KT3"
          ],
          [
           "Oct 24s, 26-Week",
           "912797KU0"
          ],
          [
           "Oct 24s, 26-Week",
           "912797KV8"
          ],
          [
           "Nov 24s, 26-Week",
           "912797LC9"
          ],
          [
           "Nov 24s, 26-Week",
           "912797LD7"
          ],
          [
           "Nov 24s, 26-Week",
           "912797LE5"
          ],
          [
           "Dec 24s, 26-Week",
           "912797LF2"
          ],
          [
           "Dec 24s, 26-Week",
           "912797LP0"
          ],
          [
           "Jan 25s, 26-Week",
           "912797LR6"
          ],
          [
           "Jan 25s, 26-Week",
           "912797LX3"
          ],
          [
           "Jan 25s, 26-Week",
           "912797LY1"
          ],
          [
           "Jan 25s, 26-Week",
           "912797LZ8"
          ],
          [
           "Feb 25s, 26-Week",
           "912797MJ3"
          ],
          [
           "Feb 25s, 26-Week",
           "912797MK0"
          ],
          [
           "Sep 24s, 52-Week",
           "912797GL5"
          ],
          [
           "Oct 24s, 52-Week",
           "912797GW1"
          ],
          [
           "Oct 24s, 52-Week",
           "912797HE0"
          ],
          [
           "Nov 24s, 52-Week",
           "912797HP5"
          ],
          [
           "Dec 24s, 52-Week",
           "912796ZV4"
          ],
          [
           "Jan 25s, 52-Week",
           "912797JR9"
          ],
          [
           "Feb 25s, 52-Week",
           "912797KA4"
          ],
          [
           "Mar 25s, 52-Week",
           "912797KJ5"
          ],
          [
           "Apr 25s, 52-Week",
           "912797KS5"
          ],
          [
           "May 25s, 52-Week",
           "912797LB1"
          ],
          [
           "Jun 25s, 52-Week",
           "912797LN5"
          ],
          [
           "Jul 25s, 52-Week",
           "912797LW5"
          ],
          [
           "Aug 25s, 52-Week",
           "912797MG9"
          ]
         ],
         "hovertemplate": "Time to Maturity (Years)=%{x}<br>YTM=%{y}<br>label=%{customdata[0]}<br>cusip=%{customdata[1]}<extra></extra>",
         "legendgroup": "",
         "marker": {
          "color": "green",
          "symbol": "circle"
         },
         "mode": "markers",
         "name": "Bills",
         "orientation": "v",
         "showlegend": true,
         "type": "scatter",
         "x": [
          0.03287671232876712,
          0.052054794520547946,
          0.07123287671232877,
          0.09041095890410959,
          0.1095890410958904,
          0.12876712328767123,
          0.14794520547945206,
          0.16712328767123288,
          0.1863013698630137,
          0.2054794520547945,
          0.22465753424657534,
          0.24383561643835616,
          0.2821917808219178,
          0.038356164383561646,
          0.057534246575342465,
          0.07671232876712329,
          0.11506849315068493,
          0.13424657534246576,
          0.15342465753424658,
          0.1917808219178082,
          0.21095890410958903,
          0.23013698630136986,
          0.2684931506849315,
          0.2876712328767123,
          0.3452054794520548,
          0.3643835616438356,
          0.3835616438356164,
          0.42191780821917807,
          0.4410958904109589,
          0.4602739726027397,
          0.019178082191780823,
          0.0958904109589041,
          0.1726027397260274,
          0.25205479452054796,
          0.32602739726027397,
          0.40273972602739727,
          0.4794520547945205,
          0.5561643835616439,
          0.6328767123287671,
          0.7095890410958904,
          0.7863013698630137,
          0.863013698630137,
          0.9397260273972603
         ],
         "xaxis": "x",
         "y": [
          5.530916,
          5.806853,
          5.624514,
          5.470692,
          5.391075,
          5.310998,
          5.28643,
          5.247039,
          5.170517,
          5.1214200000000005,
          5.083908,
          5.058772,
          4.97289,
          5.530916,
          5.728366,
          5.59114,
          5.373933,
          5.296351,
          5.262735999999999,
          5.1139280000000005,
          5.095495,
          5.0784530000000006,
          4.960044,
          4.929596,
          4.912502,
          4.903227,
          4.896375,
          4.881246,
          4.844643,
          4.807336,
          5.530916,
          5.432636,
          5.158866,
          5.042825,
          4.895258,
          4.734666,
          4.713563,
          4.427433,
          4.393165000000001,
          4.361725000000001,
          4.311605999999999,
          4.434233,
          4.388365
         ],
         "yaxis": "y"
        },
        {
         "line": {
          "color": "blue"
         },
         "mode": "lines",
         "name": "UniSpline (Cubic)",
         "type": "scatter",
         "x": [
          0,
          0.03003003003003003,
          0.06006006006006006,
          0.09009009009009009,
          0.12012012012012012,
          0.15015015015015015,
          0.18018018018018017,
          0.21021021021021022,
          0.24024024024024024,
          0.2702702702702703,
          0.3003003003003003,
          0.3303303303303303,
          0.36036036036036034,
          0.39039039039039036,
          0.42042042042042044,
          0.45045045045045046,
          0.4804804804804805,
          0.5105105105105106,
          0.5405405405405406,
          0.5705705705705706,
          0.6006006006006006,
          0.6306306306306306,
          0.6606606606606606,
          0.6906906906906907,
          0.7207207207207207,
          0.7507507507507507,
          0.7807807807807807,
          0.8108108108108109,
          0.8408408408408409,
          0.8708708708708709,
          0.9009009009009009,
          0.9309309309309309,
          0.960960960960961,
          0.990990990990991,
          1.021021021021021,
          1.0510510510510511,
          1.0810810810810811,
          1.1111111111111112,
          1.1411411411411412,
          1.1711711711711712,
          1.2012012012012012,
          1.2312312312312312,
          1.2612612612612613,
          1.2912912912912913,
          1.3213213213213213,
          1.3513513513513513,
          1.3813813813813813,
          1.4114114114114114,
          1.4414414414414414,
          1.4714714714714714,
          1.5015015015015014,
          1.5315315315315314,
          1.5615615615615615,
          1.5915915915915915,
          1.6216216216216217,
          1.6516516516516517,
          1.6816816816816818,
          1.7117117117117118,
          1.7417417417417418,
          1.7717717717717718,
          1.8018018018018018,
          1.8318318318318318,
          1.8618618618618619,
          1.8918918918918919,
          1.921921921921922,
          1.951951951951952,
          1.981981981981982,
          2.012012012012012,
          2.042042042042042,
          2.0720720720720722,
          2.1021021021021022,
          2.1321321321321323,
          2.1621621621621623,
          2.1921921921921923,
          2.2222222222222223,
          2.2522522522522523,
          2.2822822822822824,
          2.3123123123123124,
          2.3423423423423424,
          2.3723723723723724,
          2.4024024024024024,
          2.4324324324324325,
          2.4624624624624625,
          2.4924924924924925,
          2.5225225225225225,
          2.5525525525525525,
          2.5825825825825826,
          2.6126126126126126,
          2.6426426426426426,
          2.6726726726726726,
          2.7027027027027026,
          2.7327327327327327,
          2.7627627627627627,
          2.7927927927927927,
          2.8228228228228227,
          2.8528528528528527,
          2.8828828828828827,
          2.9129129129129128,
          2.942942942942943,
          2.972972972972973,
          3.003003003003003,
          3.033033033033033,
          3.063063063063063,
          3.093093093093093,
          3.123123123123123,
          3.153153153153153,
          3.183183183183183,
          3.2132132132132134,
          3.2432432432432434,
          3.2732732732732734,
          3.3033033033033035,
          3.3333333333333335,
          3.3633633633633635,
          3.3933933933933935,
          3.4234234234234235,
          3.4534534534534536,
          3.4834834834834836,
          3.5135135135135136,
          3.5435435435435436,
          3.5735735735735736,
          3.6036036036036037,
          3.6336336336336337,
          3.6636636636636637,
          3.6936936936936937,
          3.7237237237237237,
          3.7537537537537538,
          3.7837837837837838,
          3.813813813813814,
          3.843843843843844,
          3.873873873873874,
          3.903903903903904,
          3.933933933933934,
          3.963963963963964,
          3.993993993993994,
          4.024024024024024,
          4.054054054054054,
          4.084084084084084,
          4.114114114114114,
          4.1441441441441444,
          4.1741741741741745,
          4.2042042042042045,
          4.2342342342342345,
          4.2642642642642645,
          4.2942942942942945,
          4.324324324324325,
          4.354354354354355,
          4.384384384384385,
          4.414414414414415,
          4.444444444444445,
          4.474474474474475,
          4.504504504504505,
          4.534534534534535,
          4.564564564564565,
          4.594594594594595,
          4.624624624624625,
          4.654654654654655,
          4.684684684684685,
          4.714714714714715,
          4.744744744744745,
          4.774774774774775,
          4.804804804804805,
          4.834834834834835,
          4.864864864864865,
          4.894894894894895,
          4.924924924924925,
          4.954954954954955,
          4.984984984984985,
          5.015015015015015,
          5.045045045045045,
          5.075075075075075,
          5.105105105105105,
          5.135135135135135,
          5.165165165165165,
          5.195195195195195,
          5.225225225225225,
          5.255255255255255,
          5.285285285285285,
          5.315315315315315,
          5.345345345345345,
          5.375375375375375,
          5.405405405405405,
          5.435435435435435,
          5.465465465465465,
          5.495495495495495,
          5.525525525525525,
          5.555555555555555,
          5.585585585585585,
          5.615615615615615,
          5.645645645645645,
          5.675675675675675,
          5.7057057057057055,
          5.7357357357357355,
          5.7657657657657655,
          5.7957957957957955,
          5.8258258258258255,
          5.8558558558558556,
          5.885885885885886,
          5.915915915915916,
          5.945945945945946,
          5.975975975975976,
          6.006006006006006,
          6.036036036036036,
          6.066066066066066,
          6.096096096096096,
          6.126126126126126,
          6.156156156156156,
          6.186186186186186,
          6.216216216216216,
          6.246246246246246,
          6.276276276276276,
          6.306306306306306,
          6.336336336336336,
          6.366366366366366,
          6.396396396396396,
          6.426426426426427,
          6.456456456456457,
          6.486486486486487,
          6.516516516516517,
          6.546546546546547,
          6.576576576576577,
          6.606606606606607,
          6.636636636636637,
          6.666666666666667,
          6.696696696696697,
          6.726726726726727,
          6.756756756756757,
          6.786786786786787,
          6.816816816816817,
          6.846846846846847,
          6.876876876876877,
          6.906906906906907,
          6.936936936936937,
          6.966966966966967,
          6.996996996996997,
          7.027027027027027,
          7.057057057057057,
          7.087087087087087,
          7.117117117117117,
          7.147147147147147,
          7.177177177177177,
          7.207207207207207,
          7.237237237237237,
          7.267267267267267,
          7.297297297297297,
          7.327327327327327,
          7.357357357357357,
          7.387387387387387,
          7.4174174174174174,
          7.4474474474474475,
          7.4774774774774775,
          7.5075075075075075,
          7.5375375375375375,
          7.5675675675675675,
          7.597597597597598,
          7.627627627627628,
          7.657657657657658,
          7.687687687687688,
          7.717717717717718,
          7.747747747747748,
          7.777777777777778,
          7.807807807807808,
          7.837837837837838,
          7.867867867867868,
          7.897897897897898,
          7.927927927927928,
          7.957957957957958,
          7.987987987987988,
          8.018018018018019,
          8.048048048048049,
          8.078078078078079,
          8.108108108108109,
          8.138138138138139,
          8.168168168168169,
          8.198198198198199,
          8.228228228228229,
          8.258258258258259,
          8.288288288288289,
          8.318318318318319,
          8.348348348348349,
          8.378378378378379,
          8.408408408408409,
          8.438438438438439,
          8.468468468468469,
          8.498498498498499,
          8.528528528528529,
          8.558558558558559,
          8.588588588588589,
          8.618618618618619,
          8.64864864864865,
          8.67867867867868,
          8.70870870870871,
          8.73873873873874,
          8.76876876876877,
          8.7987987987988,
          8.82882882882883,
          8.85885885885886,
          8.88888888888889,
          8.91891891891892,
          8.94894894894895,
          8.97897897897898,
          9.00900900900901,
          9.03903903903904,
          9.06906906906907,
          9.0990990990991,
          9.12912912912913,
          9.15915915915916,
          9.18918918918919,
          9.21921921921922,
          9.24924924924925,
          9.27927927927928,
          9.30930930930931,
          9.33933933933934,
          9.36936936936937,
          9.3993993993994,
          9.42942942942943,
          9.45945945945946,
          9.48948948948949,
          9.51951951951952,
          9.54954954954955,
          9.57957957957958,
          9.60960960960961,
          9.63963963963964,
          9.66966966966967,
          9.6996996996997,
          9.72972972972973,
          9.75975975975976,
          9.78978978978979,
          9.81981981981982,
          9.84984984984985,
          9.87987987987988,
          9.90990990990991,
          9.93993993993994,
          9.96996996996997,
          10,
          10.03003003003003,
          10.06006006006006,
          10.09009009009009,
          10.12012012012012,
          10.15015015015015,
          10.18018018018018,
          10.21021021021021,
          10.24024024024024,
          10.27027027027027,
          10.3003003003003,
          10.33033033033033,
          10.36036036036036,
          10.39039039039039,
          10.42042042042042,
          10.45045045045045,
          10.48048048048048,
          10.51051051051051,
          10.54054054054054,
          10.57057057057057,
          10.6006006006006,
          10.63063063063063,
          10.66066066066066,
          10.69069069069069,
          10.72072072072072,
          10.75075075075075,
          10.78078078078078,
          10.81081081081081,
          10.84084084084084,
          10.87087087087087,
          10.9009009009009,
          10.93093093093093,
          10.96096096096096,
          10.99099099099099,
          11.02102102102102,
          11.05105105105105,
          11.08108108108108,
          11.11111111111111,
          11.14114114114114,
          11.17117117117117,
          11.2012012012012,
          11.23123123123123,
          11.26126126126126,
          11.29129129129129,
          11.32132132132132,
          11.35135135135135,
          11.381381381381381,
          11.411411411411411,
          11.441441441441441,
          11.471471471471471,
          11.501501501501501,
          11.531531531531531,
          11.561561561561561,
          11.591591591591591,
          11.621621621621621,
          11.651651651651651,
          11.681681681681681,
          11.711711711711711,
          11.741741741741741,
          11.771771771771771,
          11.801801801801801,
          11.831831831831831,
          11.861861861861861,
          11.891891891891891,
          11.921921921921921,
          11.951951951951951,
          11.981981981981981,
          12.012012012012011,
          12.042042042042041,
          12.072072072072071,
          12.102102102102101,
          12.132132132132131,
          12.162162162162161,
          12.192192192192191,
          12.222222222222221,
          12.252252252252251,
          12.282282282282281,
          12.312312312312311,
          12.342342342342342,
          12.372372372372372,
          12.402402402402402,
          12.432432432432432,
          12.462462462462462,
          12.492492492492492,
          12.522522522522522,
          12.552552552552552,
          12.582582582582582,
          12.612612612612612,
          12.642642642642642,
          12.672672672672672,
          12.702702702702702,
          12.732732732732732,
          12.762762762762762,
          12.792792792792792,
          12.822822822822824,
          12.852852852852854,
          12.882882882882884,
          12.912912912912914,
          12.942942942942944,
          12.972972972972974,
          13.003003003003004,
          13.033033033033034,
          13.063063063063064,
          13.093093093093094,
          13.123123123123124,
          13.153153153153154,
          13.183183183183184,
          13.213213213213214,
          13.243243243243244,
          13.273273273273274,
          13.303303303303304,
          13.333333333333334,
          13.363363363363364,
          13.393393393393394,
          13.423423423423424,
          13.453453453453454,
          13.483483483483484,
          13.513513513513514,
          13.543543543543544,
          13.573573573573574,
          13.603603603603604,
          13.633633633633634,
          13.663663663663664,
          13.693693693693694,
          13.723723723723724,
          13.753753753753754,
          13.783783783783784,
          13.813813813813814,
          13.843843843843844,
          13.873873873873874,
          13.903903903903904,
          13.933933933933934,
          13.963963963963964,
          13.993993993993994,
          14.024024024024024,
          14.054054054054054,
          14.084084084084084,
          14.114114114114114,
          14.144144144144144,
          14.174174174174174,
          14.204204204204204,
          14.234234234234235,
          14.264264264264265,
          14.294294294294295,
          14.324324324324325,
          14.354354354354355,
          14.384384384384385,
          14.414414414414415,
          14.444444444444445,
          14.474474474474475,
          14.504504504504505,
          14.534534534534535,
          14.564564564564565,
          14.594594594594595,
          14.624624624624625,
          14.654654654654655,
          14.684684684684685,
          14.714714714714715,
          14.744744744744745,
          14.774774774774775,
          14.804804804804805,
          14.834834834834835,
          14.864864864864865,
          14.894894894894895,
          14.924924924924925,
          14.954954954954955,
          14.984984984984985,
          15.015015015015015,
          15.045045045045045,
          15.075075075075075,
          15.105105105105105,
          15.135135135135135,
          15.165165165165165,
          15.195195195195195,
          15.225225225225225,
          15.255255255255255,
          15.285285285285285,
          15.315315315315315,
          15.345345345345345,
          15.375375375375375,
          15.405405405405405,
          15.435435435435435,
          15.465465465465465,
          15.495495495495495,
          15.525525525525525,
          15.555555555555555,
          15.585585585585585,
          15.615615615615615,
          15.645645645645645,
          15.675675675675675,
          15.705705705705705,
          15.735735735735735,
          15.765765765765765,
          15.795795795795796,
          15.825825825825826,
          15.855855855855856,
          15.885885885885886,
          15.915915915915916,
          15.945945945945946,
          15.975975975975976,
          16.006006006006007,
          16.036036036036037,
          16.066066066066067,
          16.096096096096097,
          16.126126126126128,
          16.156156156156158,
          16.186186186186188,
          16.216216216216218,
          16.246246246246248,
          16.276276276276278,
          16.306306306306308,
          16.336336336336338,
          16.366366366366368,
          16.396396396396398,
          16.426426426426428,
          16.456456456456458,
          16.486486486486488,
          16.516516516516518,
          16.546546546546548,
          16.576576576576578,
          16.606606606606608,
          16.636636636636638,
          16.666666666666668,
          16.696696696696698,
          16.726726726726728,
          16.756756756756758,
          16.786786786786788,
          16.816816816816818,
          16.846846846846848,
          16.876876876876878,
          16.906906906906908,
          16.936936936936938,
          16.966966966966968,
          16.996996996996998,
          17.027027027027028,
          17.057057057057058,
          17.087087087087088,
          17.117117117117118,
          17.147147147147148,
          17.177177177177178,
          17.207207207207208,
          17.237237237237238,
          17.26726726726727,
          17.2972972972973,
          17.32732732732733,
          17.35735735735736,
          17.38738738738739,
          17.41741741741742,
          17.44744744744745,
          17.47747747747748,
          17.50750750750751,
          17.53753753753754,
          17.56756756756757,
          17.5975975975976,
          17.62762762762763,
          17.65765765765766,
          17.68768768768769,
          17.71771771771772,
          17.74774774774775,
          17.77777777777778,
          17.80780780780781,
          17.83783783783784,
          17.86786786786787,
          17.8978978978979,
          17.92792792792793,
          17.95795795795796,
          17.98798798798799,
          18.01801801801802,
          18.04804804804805,
          18.07807807807808,
          18.10810810810811,
          18.13813813813814,
          18.16816816816817,
          18.1981981981982,
          18.22822822822823,
          18.25825825825826,
          18.28828828828829,
          18.31831831831832,
          18.34834834834835,
          18.37837837837838,
          18.40840840840841,
          18.43843843843844,
          18.46846846846847,
          18.4984984984985,
          18.52852852852853,
          18.55855855855856,
          18.58858858858859,
          18.61861861861862,
          18.64864864864865,
          18.67867867867868,
          18.70870870870871,
          18.73873873873874,
          18.76876876876877,
          18.7987987987988,
          18.82882882882883,
          18.85885885885886,
          18.88888888888889,
          18.91891891891892,
          18.94894894894895,
          18.97897897897898,
          19.00900900900901,
          19.03903903903904,
          19.06906906906907,
          19.0990990990991,
          19.12912912912913,
          19.15915915915916,
          19.18918918918919,
          19.21921921921922,
          19.24924924924925,
          19.27927927927928,
          19.30930930930931,
          19.33933933933934,
          19.36936936936937,
          19.3993993993994,
          19.42942942942943,
          19.45945945945946,
          19.48948948948949,
          19.51951951951952,
          19.54954954954955,
          19.57957957957958,
          19.60960960960961,
          19.63963963963964,
          19.66966966966967,
          19.6996996996997,
          19.72972972972973,
          19.75975975975976,
          19.78978978978979,
          19.81981981981982,
          19.84984984984985,
          19.87987987987988,
          19.90990990990991,
          19.93993993993994,
          19.96996996996997,
          20,
          20.03003003003003,
          20.06006006006006,
          20.09009009009009,
          20.12012012012012,
          20.15015015015015,
          20.18018018018018,
          20.21021021021021,
          20.24024024024024,
          20.27027027027027,
          20.3003003003003,
          20.33033033033033,
          20.36036036036036,
          20.39039039039039,
          20.42042042042042,
          20.45045045045045,
          20.48048048048048,
          20.51051051051051,
          20.54054054054054,
          20.57057057057057,
          20.6006006006006,
          20.63063063063063,
          20.66066066066066,
          20.69069069069069,
          20.72072072072072,
          20.75075075075075,
          20.78078078078078,
          20.81081081081081,
          20.84084084084084,
          20.87087087087087,
          20.9009009009009,
          20.93093093093093,
          20.96096096096096,
          20.99099099099099,
          21.02102102102102,
          21.05105105105105,
          21.08108108108108,
          21.11111111111111,
          21.14114114114114,
          21.17117117117117,
          21.2012012012012,
          21.23123123123123,
          21.26126126126126,
          21.29129129129129,
          21.32132132132132,
          21.35135135135135,
          21.38138138138138,
          21.41141141141141,
          21.44144144144144,
          21.47147147147147,
          21.5015015015015,
          21.53153153153153,
          21.56156156156156,
          21.59159159159159,
          21.62162162162162,
          21.65165165165165,
          21.68168168168168,
          21.71171171171171,
          21.74174174174174,
          21.77177177177177,
          21.8018018018018,
          21.83183183183183,
          21.86186186186186,
          21.89189189189189,
          21.92192192192192,
          21.95195195195195,
          21.98198198198198,
          22.01201201201201,
          22.04204204204204,
          22.07207207207207,
          22.1021021021021,
          22.13213213213213,
          22.16216216216216,
          22.19219219219219,
          22.22222222222222,
          22.25225225225225,
          22.28228228228228,
          22.31231231231231,
          22.34234234234234,
          22.37237237237237,
          22.4024024024024,
          22.43243243243243,
          22.46246246246246,
          22.49249249249249,
          22.52252252252252,
          22.55255255255255,
          22.58258258258258,
          22.61261261261261,
          22.64264264264264,
          22.67267267267267,
          22.7027027027027,
          22.73273273273273,
          22.762762762762762,
          22.792792792792792,
          22.822822822822822,
          22.852852852852852,
          22.882882882882882,
          22.912912912912912,
          22.942942942942942,
          22.972972972972972,
          23.003003003003002,
          23.033033033033032,
          23.063063063063062,
          23.093093093093092,
          23.123123123123122,
          23.153153153153152,
          23.183183183183182,
          23.213213213213212,
          23.243243243243242,
          23.273273273273272,
          23.303303303303302,
          23.333333333333332,
          23.363363363363362,
          23.393393393393392,
          23.423423423423422,
          23.453453453453452,
          23.483483483483482,
          23.513513513513512,
          23.543543543543542,
          23.573573573573572,
          23.603603603603602,
          23.633633633633632,
          23.663663663663662,
          23.693693693693692,
          23.723723723723722,
          23.753753753753752,
          23.783783783783782,
          23.813813813813812,
          23.843843843843842,
          23.873873873873872,
          23.903903903903903,
          23.933933933933933,
          23.963963963963963,
          23.993993993993993,
          24.024024024024023,
          24.054054054054053,
          24.084084084084083,
          24.114114114114113,
          24.144144144144143,
          24.174174174174173,
          24.204204204204203,
          24.234234234234233,
          24.264264264264263,
          24.294294294294293,
          24.324324324324323,
          24.354354354354353,
          24.384384384384383,
          24.414414414414413,
          24.444444444444443,
          24.474474474474473,
          24.504504504504503,
          24.534534534534533,
          24.564564564564563,
          24.594594594594593,
          24.624624624624623,
          24.654654654654653,
          24.684684684684683,
          24.714714714714713,
          24.744744744744743,
          24.774774774774773,
          24.804804804804803,
          24.834834834834833,
          24.864864864864863,
          24.894894894894893,
          24.924924924924923,
          24.954954954954953,
          24.984984984984983,
          25.015015015015013,
          25.045045045045043,
          25.075075075075073,
          25.105105105105103,
          25.135135135135133,
          25.165165165165163,
          25.195195195195193,
          25.225225225225223,
          25.255255255255253,
          25.285285285285283,
          25.315315315315313,
          25.345345345345343,
          25.375375375375373,
          25.405405405405403,
          25.435435435435434,
          25.465465465465464,
          25.495495495495494,
          25.525525525525524,
          25.555555555555554,
          25.585585585585584,
          25.615615615615614,
          25.645645645645647,
          25.675675675675677,
          25.705705705705707,
          25.735735735735737,
          25.765765765765767,
          25.795795795795797,
          25.825825825825827,
          25.855855855855857,
          25.885885885885887,
          25.915915915915917,
          25.945945945945947,
          25.975975975975977,
          26.006006006006007,
          26.036036036036037,
          26.066066066066067,
          26.096096096096097,
          26.126126126126128,
          26.156156156156158,
          26.186186186186188,
          26.216216216216218,
          26.246246246246248,
          26.276276276276278,
          26.306306306306308,
          26.336336336336338,
          26.366366366366368,
          26.396396396396398,
          26.426426426426428,
          26.456456456456458,
          26.486486486486488,
          26.516516516516518,
          26.546546546546548,
          26.576576576576578,
          26.606606606606608,
          26.636636636636638,
          26.666666666666668,
          26.696696696696698,
          26.726726726726728,
          26.756756756756758,
          26.786786786786788,
          26.816816816816818,
          26.846846846846848,
          26.876876876876878,
          26.906906906906908,
          26.936936936936938,
          26.966966966966968,
          26.996996996996998,
          27.027027027027028,
          27.057057057057058,
          27.087087087087088,
          27.117117117117118,
          27.147147147147148,
          27.177177177177178,
          27.207207207207208,
          27.237237237237238,
          27.26726726726727,
          27.2972972972973,
          27.32732732732733,
          27.35735735735736,
          27.38738738738739,
          27.41741741741742,
          27.44744744744745,
          27.47747747747748,
          27.50750750750751,
          27.53753753753754,
          27.56756756756757,
          27.5975975975976,
          27.62762762762763,
          27.65765765765766,
          27.68768768768769,
          27.71771771771772,
          27.74774774774775,
          27.77777777777778,
          27.80780780780781,
          27.83783783783784,
          27.86786786786787,
          27.8978978978979,
          27.92792792792793,
          27.95795795795796,
          27.98798798798799,
          28.01801801801802,
          28.04804804804805,
          28.07807807807808,
          28.10810810810811,
          28.13813813813814,
          28.16816816816817,
          28.1981981981982,
          28.22822822822823,
          28.25825825825826,
          28.28828828828829,
          28.31831831831832,
          28.34834834834835,
          28.37837837837838,
          28.40840840840841,
          28.43843843843844,
          28.46846846846847,
          28.4984984984985,
          28.52852852852853,
          28.55855855855856,
          28.58858858858859,
          28.61861861861862,
          28.64864864864865,
          28.67867867867868,
          28.70870870870871,
          28.73873873873874,
          28.76876876876877,
          28.7987987987988,
          28.82882882882883,
          28.85885885885886,
          28.88888888888889,
          28.91891891891892,
          28.94894894894895,
          28.97897897897898,
          29.00900900900901,
          29.03903903903904,
          29.06906906906907,
          29.0990990990991,
          29.12912912912913,
          29.15915915915916,
          29.18918918918919,
          29.21921921921922,
          29.24924924924925,
          29.27927927927928,
          29.30930930930931,
          29.33933933933934,
          29.36936936936937,
          29.3993993993994,
          29.42942942942943,
          29.45945945945946,
          29.48948948948949,
          29.51951951951952,
          29.54954954954955,
          29.57957957957958,
          29.60960960960961,
          29.63963963963964,
          29.66966966966967,
          29.6996996996997,
          29.72972972972973,
          29.75975975975976,
          29.78978978978979,
          29.81981981981982,
          29.84984984984985,
          29.87987987987988,
          29.90990990990991,
          29.93993993993994,
          29.96996996996997,
          30
         ],
         "y": [
          5.89368448651331,
          5.721075631975594,
          5.57426900736856,
          5.4500618928013855,
          5.345251568383242,
          5.256635314223308,
          5.181010410430753,
          5.11517413711475,
          5.055923774384476,
          5.000056731589961,
          4.945110911235888,
          4.891105963577918,
          4.83858086414877,
          4.788074588481168,
          4.7401261121078235,
          4.6952707103047,
          4.653782312108087,
          4.615505363508225,
          4.580244359469797,
          4.547803794957488,
          4.517988164935981,
          4.4906019643699615,
          4.465449688224112,
          4.442335831463117,
          4.42106488905166,
          4.401441355954425,
          4.383269727136097,
          4.366354497561359,
          4.350500162194894,
          4.335511216001388,
          4.321192153945523,
          4.307347470991986,
          4.293793089784539,
          4.280460015301637,
          4.2673458511261275,
          4.254449012786842,
          4.241767915812611,
          4.229300975732268,
          4.21704660807464,
          4.205003228368563,
          4.193169252142866,
          4.181543094926382,
          4.17012317224794,
          4.158907899636374,
          4.147895692620514,
          4.137084966729192,
          4.126474137491238,
          4.116061620435486,
          4.105845831090765,
          4.095825184985905,
          4.0859980976497425,
          4.076362984611104,
          4.066918261398825,
          4.057662343541734,
          4.048593646568662,
          4.039710586008443,
          4.031011577389906,
          4.022495036241884,
          4.014159378093208,
          4.006003018472709,
          3.9980243729092186,
          3.990221856931569,
          3.982593886068589,
          3.975138875849113,
          3.967855241801971,
          3.9607413994559932,
          3.9537957643400135,
          3.947016751982863,
          3.9404027779133712,
          3.933952257660371,
          3.9276636067526924,
          3.9215352407191686,
          3.9155655750886305,
          3.9097530253899078,
          3.9040960071518342,
          3.8985929359032396,
          3.8932422271729554,
          3.888042296489815,
          3.882991559382647,
          3.8780884313802844,
          3.8733313280115578,
          3.8687186648053,
          3.8642488572903417,
          3.859920320995513,
          3.8557314714496465,
          3.8516807241815747,
          3.847766494720126,
          3.843987198594135,
          3.840341251332431,
          3.836827068463847,
          3.8334430655172125,
          3.83018765802136,
          3.827059261505121,
          3.8240562914973255,
          3.8211771635268073,
          3.8184202931223963,
          3.815784095812924,
          3.813266987127221,
          3.81086738259412,
          3.808583697742453,
          3.80641434810105,
          3.804357749198742,
          3.8024123165643617,
          3.80057646572674,
          3.798848612214709,
          3.7972271715570987,
          3.7957105592827403,
          3.7942971909204672,
          3.79298548199911,
          3.7917738480474985,
          3.790660704594467,
          3.7896444671688445,
          3.788723551299462,
          3.7878963725151533,
          3.787161346344748,
          3.7865168883170783,
          3.785961413960976,
          3.785493338805271,
          3.785111078378795,
          3.784813048210381,
          3.784597663828859,
          3.784463340763061,
          3.7844084945418177,
          3.7844315406939613,
          3.784530894748322,
          3.7847049722337327,
          3.7849521886790236,
          3.785270959613026,
          3.7856597005645733,
          3.7861168270624947,
          3.786640754635623,
          3.7872298988127886,
          3.7878826751228236,
          3.788597499094559,
          3.789372786256825,
          3.7902069521384556,
          3.7910984122682807,
          3.7920455821751315,
          3.7930468773878405,
          3.7941007134352374,
          3.795205505846155,
          3.7963596701494233,
          3.7975616218738755,
          3.7988097765483424,
          3.8001025497016543,
          3.8014383568626435,
          3.802815613560142,
          3.80423273532298,
          3.8056881376799905,
          3.8071802361600016,
          3.8087074462918484,
          3.8102681836043617,
          3.8118608636263707,
          3.8134839018867073,
          3.815135713914205,
          3.8168147152376934,
          3.8185193213860034,
          3.8202479478879683,
          3.8219990102724193,
          3.823770924068186,
          3.825562104804102,
          3.827370968008996,
          3.829195929211702,
          3.8310354039410495,
          3.832887807725872,
          3.834751556094999,
          3.836625064577263,
          3.838506748701494,
          3.840395023996525,
          3.842288305991186,
          3.844185010214309,
          3.8460835521947265,
          3.8479823474612687,
          3.849879811542767,
          3.851774359968053,
          3.853664408265958,
          3.8555483719653134,
          3.8574246665949503,
          3.8592917076837012,
          3.8611479107603968,
          3.8629916913538684,
          3.864821464992946,
          3.866635647206464,
          3.8684328679731856,
          3.8702129200977233,
          3.87197598867114,
          3.87372225908681,
          3.8754519167381063,
          3.877165147018402,
          3.8788621353210693,
          3.8805430670394836,
          3.8822081275670164,
          3.8838575022970407,
          3.885491376622932,
          3.887109935938061,
          3.8887133656358035,
          3.8903018511095304,
          3.8918755777526166,
          3.893434730958435,
          3.8949794961203583,
          3.89651005863176,
          3.8980266038860143,
          3.8995293172764933,
          3.90101838419657,
          3.9024939900396194,
          3.903956320199013,
          3.9054055600681257,
          3.90684189504033,
          3.9082655105089983,
          3.909676591867505,
          3.911075324509222,
          3.912461893827525,
          3.913836485215785,
          3.915199284067377,
          3.9165504757756717,
          3.9178902457340454,
          3.919218779335871,
          3.920536261974519,
          3.921842879043367,
          3.923138815935783,
          3.924424258045145,
          3.9256993907648234,
          3.926964399488193,
          3.928219469608626,
          3.9294647865194974,
          3.930700535614179,
          3.9319269022860435,
          3.9331440719284654,
          3.9343522299348175,
          3.935551561698473,
          3.9367422526128055,
          3.9379244880711886,
          3.939098453466994,
          3.9402643341935977,
          3.9414223156443704,
          3.942572583212687,
          3.9437153222919195,
          3.9448507182754415,
          3.9459789565566257,
          3.947100222528848,
          3.9482147015854796,
          3.9493225791198934,
          3.950424040525464,
          3.951519271195564,
          3.9526084565235666,
          3.9536917819028456,
          3.9547694327267733,
          3.9558415943887235,
          3.9569084522820703,
          3.957970191800185,
          3.959026998336443,
          3.9600790572842164,
          3.9611265540368783,
          3.9621696739878036,
          3.9632086025303637,
          3.9642435250579324,
          3.965274626963883,
          3.966302093641589,
          3.9673261104844233,
          3.9683468628857606,
          3.969364536238972,
          3.970379315937432,
          3.9713913873745152,
          3.9724009359435906,
          3.973408147038035,
          3.9744132060512225,
          3.975416298376524,
          3.9764176094073145,
          3.977417324536965,
          3.9784156291588504,
          3.9794127086663442,
          3.980408748452818,
          3.9814039339116465,
          3.9823984504362038,
          3.9833924834198613,
          3.9843862182559926,
          3.9853798403379725,
          3.9863735350591734,
          3.987367487812968,
          3.9883618839927295,
          3.9893569089918315,
          3.9903527482036485,
          3.991349587021552,
          3.9923476108389164,
          3.993347005049114,
          3.994347955045519,
          3.9953506462215036,
          3.996355263970443,
          3.997361993685709,
          3.998371020760675,
          3.9993825305887136,
          4.0003967085631995,
          4.001413740077506,
          4.002433810525004,
          4.003457105299071,
          4.004483809793077,
          4.005514109400395,
          4.0065481895144,
          4.007586235528465,
          4.008628432835962,
          4.009674966830266,
          4.010726022904748,
          4.011781786452786,
          4.012842442867747,
          4.013908177543008,
          4.014979175871942,
          4.016055623247921,
          4.017137705064321,
          4.018225606714512,
          4.019319513591868,
          4.020419611089764,
          4.021526084601572,
          4.022639119520666,
          4.0237589012404165,
          4.024885615154202,
          4.026019446655392,
          4.027160581137359,
          4.028309203993479,
          4.029465500617126,
          4.030629656401668,
          4.031801856740484,
          4.032982287026945,
          4.034171132654422,
          4.035368579016294,
          4.036574811505927,
          4.037790015516701,
          4.039014376441985,
          4.040248079675154,
          4.041491310609581,
          4.042744254638639,
          4.044007097155702,
          4.045280023554142,
          4.046563219190221,
          4.047856812398477,
          4.049160759477533,
          4.0504749844103385,
          4.051799411179842,
          4.053133963768997,
          4.05447856616075,
          4.055833142338056,
          4.057197616283861,
          4.058571911981117,
          4.059955953412774,
          4.061349664561783,
          4.062752969411092,
          4.0641657919436565,
          4.0655880561424205,
          4.0670196859903385,
          4.068460605470358,
          4.069910738565434,
          4.071370009258511,
          4.072838341532541,
          4.074315659370479,
          4.075801886755268,
          4.077296947669863,
          4.078800766097213,
          4.080313266020268,
          4.081834371421979,
          4.083364006285295,
          4.084902094593169,
          4.086448560328549,
          4.088003327474385,
          4.089566320013628,
          4.09113746192923,
          4.0927166772041375,
          4.094303889821305,
          4.095899023763679,
          4.0975020030142115,
          4.099112751555855,
          4.100731193371558,
          4.102357252444267,
          4.103990852756938,
          4.105631918292518,
          4.1072803730339595,
          4.108936140964211,
          4.110599146066224,
          4.1122693123229475,
          4.113946563717334,
          4.11563082423233,
          4.11732201785089,
          4.11902006855596,
          4.120724900330495,
          4.122436437157443,
          4.124154603019753,
          4.125879321900377,
          4.127610517782265,
          4.129348114648367,
          4.1310920364816335,
          4.132842207265015,
          4.134598550981462,
          4.136360991613923,
          4.13812945314535,
          4.139903859558694,
          4.141684134836903,
          4.143470202962929,
          4.145261987919721,
          4.147059413690232,
          4.148862404257409,
          4.150670883604204,
          4.1524847757135674,
          4.154304004568448,
          4.156128494151798,
          4.157958168446566,
          4.159792951435703,
          4.1616327671021605,
          4.163477539428887,
          4.165327192398834,
          4.167181649994952,
          4.169040836200191,
          4.170904674997499,
          4.172773090369829,
          4.17464600630013,
          4.176523346771353,
          4.17840503576645,
          4.180290997268367,
          4.182181155260058,
          4.1840754337244705,
          4.185973756644558,
          4.187876048003268,
          4.1897822317835525,
          4.191692231968361,
          4.193605972540643,
          4.195523377483351,
          4.197444370779433,
          4.1993688764118415,
          4.201296818363525,
          4.2032281206174344,
          4.2051627071565205,
          4.207100501963732,
          4.209041429022021,
          4.210985412314336,
          4.212932375823631,
          4.214882243532852,
          4.216834939424951,
          4.218790387482876,
          4.2207485116895835,
          4.222709236028018,
          4.2246724844811325,
          4.226638181031876,
          4.228606249663198,
          4.230576614358052,
          4.232549199099385,
          4.234523927870147,
          4.236500724653293,
          4.23847951343177,
          4.2404602181885265,
          4.242442762906516,
          4.244427071568687,
          4.246413068157991,
          4.248400676657378,
          4.250389821049797,
          4.252380425318201,
          4.2543724134455365,
          4.256365709414756,
          4.25836023720881,
          4.260355920810649,
          4.262352684203222,
          4.264350451369482,
          4.266349146292375,
          4.268348692954854,
          4.270349015339868,
          4.272350037430371,
          4.274351683209309,
          4.276353876659633,
          4.278356541764295,
          4.280359602506245,
          4.282362982868431,
          4.284366606833806,
          4.286370398385319,
          4.28837428150592,
          4.290378180178561,
          4.29238201838619,
          4.294385720111761,
          4.296389209338219,
          4.298392410048518,
          4.300395246225605,
          4.302397641852436,
          4.304399520911955,
          4.306400807387118,
          4.308401425260872,
          4.310401298516166,
          4.312400351135953,
          4.314398507103184,
          4.316395690400805,
          4.318391825011769,
          4.320386834919029,
          4.322380644105531,
          4.324373176554226,
          4.326364356248066,
          4.32835410717,
          4.33034235330298,
          4.332329018629953,
          4.334314027133873,
          4.336297302797688,
          4.338278769604349,
          4.340258351536806,
          4.342235972578009,
          4.34421155671091,
          4.346185027918456,
          4.348156310183602,
          4.350125327489294,
          4.352092003818484,
          4.354056263154122,
          4.35601802947916,
          4.357977226776546,
          4.359933779029231,
          4.361887610220165,
          4.3638386443323,
          4.365786805348584,
          4.367732017251968,
          4.3696742040254035,
          4.371613289651839,
          4.373549198114227,
          4.375481853395516,
          4.377411179478655,
          4.379337100346599,
          4.381259539982293,
          4.383178422368691,
          4.385093671488741,
          4.387005211325396,
          4.388912965861602,
          4.390816859080314,
          4.392716814964478,
          4.394612757497048,
          4.396504610660973,
          4.398392298439202,
          4.400275744814687,
          4.402154873770376,
          4.404029609289223,
          4.405899875354175,
          4.4077655959481845,
          4.4096266950542,
          4.411483096655173,
          4.413334724734052,
          4.41518150327379,
          4.417023356257336,
          4.418860207667639,
          4.420691981487653,
          4.422518601700324,
          4.424339992288604,
          4.426156077235443,
          4.427966780523793,
          4.429772026136603,
          4.431571738056822,
          4.433365840267402,
          4.435154256751293,
          4.436936911491444,
          4.438713728470809,
          4.440484631672335,
          4.4422495450789725,
          4.444008392673673,
          4.445761098439386,
          4.447507586359061,
          4.44924778041565,
          4.450981604592102,
          4.4527089828713695,
          4.4544298392364,
          4.456144097670144,
          4.457851682155553,
          4.4595525166755765,
          4.461246525213167,
          4.462933631751272,
          4.464613760272843,
          4.46628683476083,
          4.467952779198185,
          4.469611517567855,
          4.4712629738527925,
          4.472907072035949,
          4.47454373610027,
          4.47617289002871,
          4.47779445780422,
          4.479408363409747,
          4.481014530828242,
          4.482612884042658,
          4.484203347035943,
          4.485785843791047,
          4.4873602982909215,
          4.488926634518516,
          4.490484776456782,
          4.4920346480886675,
          4.493576173397125,
          4.4951092763651035,
          4.496633880975554,
          4.498149911211427,
          4.499657291055671,
          4.501155944491239,
          4.5026457955010795,
          4.504126768068144,
          4.50559878617538,
          4.507061773805741,
          4.508515654942176,
          4.509960353567636,
          4.511395793665071,
          4.512821899217429,
          4.514238594207664,
          4.515645802618724,
          4.51704344843356,
          4.518431455635121,
          4.51980974820636,
          4.521178250130226,
          4.522536885389669,
          4.523885577967638,
          4.525224251847085,
          4.52655283101096,
          4.527871239442214,
          4.5291794011237965,
          4.530477240038658,
          4.531764680169746,
          4.533041645500017,
          4.534308060012415,
          4.535563847689893,
          4.536808932515402,
          4.538043238471893,
          4.5392666895423135,
          4.540479209709615,
          4.541680722956749,
          4.542871153266664,
          4.544050424622311,
          4.545218461006641,
          4.546375186402602,
          4.547520524793148,
          4.548654400161226,
          4.549776736489787,
          4.550887457761783,
          4.551986487960163,
          4.553073751067877,
          4.554149171067875,
          4.555212671943109,
          4.556264177676527,
          4.557303612251083,
          4.558330899649723,
          4.5593459638553995,
          4.560348728851063,
          4.561339118619662,
          4.56231705714415,
          4.563282468407474,
          4.564235276392585,
          4.565175405082435,
          4.566102778459973,
          4.567017320508149,
          4.567918955209914,
          4.568807614496689,
          4.569683285605136,
          4.57054597927541,
          4.571395706333618,
          4.572232477605875,
          4.573056303918292,
          4.573867196096982,
          4.574665164968057,
          4.57545022135763,
          4.576222376091813,
          4.576981639996717,
          4.577728023898455,
          4.5784615386231415,
          4.579182194996884,
          4.579890003845798,
          4.580584975995995,
          4.581267122273589,
          4.5819364535046905,
          4.582592980515409,
          4.583236714131864,
          4.5838676651801595,
          4.584485844486414,
          4.585091262876736,
          4.585683931177241,
          4.586263860214039,
          4.58683106081324,
          4.587385543800961,
          4.587927320003313,
          4.588456400246407,
          4.588972795356354,
          4.589476516159271,
          4.589967573481264,
          4.590445978148452,
          4.59091174098694,
          4.5913648728228456,
          4.591805384482281,
          4.5922332867913545,
          4.592648590576182,
          4.593051306662874,
          4.593441445877542,
          4.593819019046301,
          4.594184036995262,
          4.594536510550536,
          4.594876450538238,
          4.595203867784477,
          4.5955187731153675,
          4.59582117735702,
          4.5961110913355485,
          4.596388525877065,
          4.59665349180768,
          4.596905999953508,
          4.597146061140659,
          4.597373686195249,
          4.597588885943385,
          4.597791671211184,
          4.597982052824756,
          4.598160041610213,
          4.598325648393667,
          4.598478884001232,
          4.59861975925902,
          4.598748284993142,
          4.598864472029711,
          4.598968331194838,
          4.599059873314637,
          4.599139109215221,
          4.5992060497226985,
          4.599260705663186,
          4.599303087862792,
          4.599333207147632,
          4.599351074343815,
          4.599356700277457,
          4.599350095774667,
          4.599331271661559,
          4.599300238764246,
          4.5992570079088395,
          4.599201589921449,
          4.599133995628191,
          4.599054235855174,
          4.598962321428513,
          4.5988582631743204,
          4.598742071918707,
          4.598613758487785,
          4.598473333707667,
          4.598320808404465,
          4.598156193404293,
          4.5979794995332615,
          4.597790737617484,
          4.59758991848307,
          4.5973770529561335,
          4.5971521518627885,
          4.596915226029145,
          4.596666286281315,
          4.596405343445413,
          4.59613240834755,
          4.595847491813839,
          4.595550604670388,
          4.595241757743316,
          4.59492096185873,
          4.5945882278427455,
          4.594243566521473,
          4.5938869887210245,
          4.5935185052675145,
          4.593138126987053,
          4.592745864705752,
          4.592341729249725,
          4.591925731445085,
          4.591497882117942,
          4.59105819209441,
          4.590606672200601,
          4.590143333262627,
          4.589668186106601,
          4.589181241558633,
          4.588682510444836,
          4.588172003591326,
          4.58764973182421,
          4.587115705969603,
          4.586569936853615,
          4.586012435302362,
          4.585443212141954,
          4.5848622781985044,
          4.584269644298123,
          4.583665321266924,
          4.583049319931019,
          4.5824216511165226,
          4.5817823256495425,
          4.581131354356194,
          4.58046874806259,
          4.579794517594841,
          4.57910867377906,
          4.578411227441357,
          4.577702189407847,
          4.576981570504644,
          4.576249381557854,
          4.575505633393597,
          4.57475033683798,
          4.573983502717116,
          4.573205141857118,
          4.572415265084098,
          4.571613883224168,
          4.570801007103441,
          4.569976647548029,
          4.569140815384043,
          4.568293521437598,
          4.567434776534803,
          4.566564591501773,
          4.565682977164619,
          4.564789944349453,
          4.563885503882387,
          4.562969666589536,
          4.562042443297008,
          4.561103844830919,
          4.560153882017377,
          4.559192565682499,
          4.558219906652395,
          4.557235915753177,
          4.556240603810958,
          4.555233981651849,
          4.554216060101965,
          4.553186849987414,
          4.552146362134312,
          4.55109460736877,
          4.550031596516899,
          4.548957340404814,
          4.547871849858624,
          4.546775135704444,
          4.545667208768385,
          4.54454807987656,
          4.54341775985508,
          4.542276259530057,
          4.541123589727606,
          4.5399597612738365,
          4.538784784994862,
          4.537598671716793,
          4.5364014322657455,
          4.535193077467829,
          4.533973618149154,
          4.532743065135837,
          4.531501429253988,
          4.53024872132972,
          4.528984952189144,
          4.527710132658373,
          4.526424273563519,
          4.525127385730694,
          4.523819479986011,
          4.522500567155582,
          4.521170658065522,
          4.519829763541937,
          4.518477894410943,
          4.517115061498654,
          4.515741275631178,
          4.514356547634631,
          4.512960888335122,
          4.511554308558767,
          4.5101368191316755,
          4.508708430879961,
          4.507269154629736,
          4.505819001207111,
          4.504357981438199,
          4.502886106149112,
          4.501403386165964,
          4.499909832314866,
          4.498405455421929,
          4.496890266313268,
          4.495364275814993,
          4.493827494753217,
          4.492279933954053,
          4.490721604243612,
          4.489152516448007,
          4.487572681393349,
          4.485982109905753,
          4.484380812811328,
          4.4827688009361895,
          4.481146085106447,
          4.479512676148214,
          4.477868584887602,
          4.476213822150726,
          4.4745483987636945,
          4.47287232555262,
          4.471185613343619,
          4.469488272962799,
          4.467780315236276,
          4.466061750990158,
          4.46433259105056,
          4.462592846243595,
          4.460842527395373,
          4.459081645332008,
          4.457310210879611,
          4.455528234864296,
          4.453735728112174,
          4.4519327014493575,
          4.450119165701957,
          4.448295131696088,
          4.44646061025786,
          4.444615612213388,
          4.44276014838878,
          4.440894229610155,
          4.439017866703617,
          4.437131070495285,
          4.435233851811267,
          4.433326221477678,
          4.431408190320628,
          4.429479769166233,
          4.4275409688406,
          4.425591800169846,
          4.423632273980079,
          4.421662401097415,
          4.419682192347965,
          4.417691658557841,
          4.415690810553153,
          4.413679659160017,
          4.411658215204543,
          4.409626489512846,
          4.407584492911035,
          4.405532236225223,
          4.403469730281523,
          4.4013969859060476,
          4.399314013924907,
          4.397220825164216,
          4.395117430450085,
          4.393003840608628,
          4.3908800664659555,
          4.3887461188481804,
          4.386602008581415,
          4.384447746491773,
          4.382283343405364,
          4.380108810148302,
          4.377924157546698,
          4.3757293964266655,
          4.3735245376143155,
          4.371309591935763,
          4.369084570217116,
          4.36684948328449,
          4.364604341963997,
          4.3623491570817485,
          4.3600839394638555,
          4.357808699936433,
          4.35552344932559,
          4.353228198457442,
          4.3509229581581,
          4.348607739253675,
          4.346282552570281,
          4.343947408934029,
          4.341602319171033,
          4.339247294107403,
          4.336882344569252,
          4.334507481382694,
          4.332122715373838,
          4.3297280573688,
          4.327323518193689,
          4.324909108674619,
          4.322484839637702,
          4.320050721909051,
          4.317606766314775,
          4.315152983680989,
          4.312689384833806,
          4.310215980599338,
          4.307732781803695,
          4.305239799272991,
          4.302737043833337,
          4.300224526310847,
          4.2977022575316335,
          4.295170248321806,
          4.2926285095074785,
          4.290077051914764,
          4.287515886369772,
          4.284945023698619,
          4.282364474727413,
          4.27977425028227,
          4.277174361189299,
          4.274564818274616,
          4.271945632364327,
          4.269316814284551,
          4.266678374861397,
          4.264030324920977,
          4.261372675289404,
          4.258705436792792,
          4.256028620257248,
          4.253342236508889,
          4.250646296373827,
          4.247940810678172,
          4.245225790248039,
          4.242501245909538,
          4.239767188488782,
          4.237023628811882,
          4.234270577704954,
          4.231508045994105,
          4.228736044505453,
          4.225954584065104,
          4.223163675499175,
          4.220363329633776,
          4.2175535572950205,
          4.214734369309021,
          4.211905776501888,
          4.209067789699736,
          4.206220419728675,
          4.203363677414818,
          4.200497573584277,
          4.197622119063166,
          4.194737324677595,
          4.191843201253678,
          4.1889397596175275,
          4.186027010595252,
          4.183104965012969,
          4.180173633696787,
          4.177233027472821,
          4.174283157167181,
          4.171324033605979,
          4.16835566761533,
          4.165378070021342,
          4.162391251650131,
          4.1593952233278095,
          4.156389995880486,
          4.153375580134277,
          4.150351986915293,
          4.147319227049646,
          4.144277311363446,
          4.14122625068281,
          4.138166055833848,
          4.135096737642671
         ]
        },
        {
         "line": {
          "color": "yellow"
         },
         "mode": "lines",
         "name": "BSpline 1",
         "type": "scatter",
         "x": [
          0,
          0.03003003003003003,
          0.06006006006006006,
          0.09009009009009009,
          0.12012012012012012,
          0.15015015015015015,
          0.18018018018018017,
          0.21021021021021022,
          0.24024024024024024,
          0.2702702702702703,
          0.3003003003003003,
          0.3303303303303303,
          0.36036036036036034,
          0.39039039039039036,
          0.42042042042042044,
          0.45045045045045046,
          0.4804804804804805,
          0.5105105105105106,
          0.5405405405405406,
          0.5705705705705706,
          0.6006006006006006,
          0.6306306306306306,
          0.6606606606606606,
          0.6906906906906907,
          0.7207207207207207,
          0.7507507507507507,
          0.7807807807807807,
          0.8108108108108109,
          0.8408408408408409,
          0.8708708708708709,
          0.9009009009009009,
          0.9309309309309309,
          0.960960960960961,
          0.990990990990991,
          1.021021021021021,
          1.0510510510510511,
          1.0810810810810811,
          1.1111111111111112,
          1.1411411411411412,
          1.1711711711711712,
          1.2012012012012012,
          1.2312312312312312,
          1.2612612612612613,
          1.2912912912912913,
          1.3213213213213213,
          1.3513513513513513,
          1.3813813813813813,
          1.4114114114114114,
          1.4414414414414414,
          1.4714714714714714,
          1.5015015015015014,
          1.5315315315315314,
          1.5615615615615615,
          1.5915915915915915,
          1.6216216216216217,
          1.6516516516516517,
          1.6816816816816818,
          1.7117117117117118,
          1.7417417417417418,
          1.7717717717717718,
          1.8018018018018018,
          1.8318318318318318,
          1.8618618618618619,
          1.8918918918918919,
          1.921921921921922,
          1.951951951951952,
          1.981981981981982,
          2.012012012012012,
          2.042042042042042,
          2.0720720720720722,
          2.1021021021021022,
          2.1321321321321323,
          2.1621621621621623,
          2.1921921921921923,
          2.2222222222222223,
          2.2522522522522523,
          2.2822822822822824,
          2.3123123123123124,
          2.3423423423423424,
          2.3723723723723724,
          2.4024024024024024,
          2.4324324324324325,
          2.4624624624624625,
          2.4924924924924925,
          2.5225225225225225,
          2.5525525525525525,
          2.5825825825825826,
          2.6126126126126126,
          2.6426426426426426,
          2.6726726726726726,
          2.7027027027027026,
          2.7327327327327327,
          2.7627627627627627,
          2.7927927927927927,
          2.8228228228228227,
          2.8528528528528527,
          2.8828828828828827,
          2.9129129129129128,
          2.942942942942943,
          2.972972972972973,
          3.003003003003003,
          3.033033033033033,
          3.063063063063063,
          3.093093093093093,
          3.123123123123123,
          3.153153153153153,
          3.183183183183183,
          3.2132132132132134,
          3.2432432432432434,
          3.2732732732732734,
          3.3033033033033035,
          3.3333333333333335,
          3.3633633633633635,
          3.3933933933933935,
          3.4234234234234235,
          3.4534534534534536,
          3.4834834834834836,
          3.5135135135135136,
          3.5435435435435436,
          3.5735735735735736,
          3.6036036036036037,
          3.6336336336336337,
          3.6636636636636637,
          3.6936936936936937,
          3.7237237237237237,
          3.7537537537537538,
          3.7837837837837838,
          3.813813813813814,
          3.843843843843844,
          3.873873873873874,
          3.903903903903904,
          3.933933933933934,
          3.963963963963964,
          3.993993993993994,
          4.024024024024024,
          4.054054054054054,
          4.084084084084084,
          4.114114114114114,
          4.1441441441441444,
          4.1741741741741745,
          4.2042042042042045,
          4.2342342342342345,
          4.2642642642642645,
          4.2942942942942945,
          4.324324324324325,
          4.354354354354355,
          4.384384384384385,
          4.414414414414415,
          4.444444444444445,
          4.474474474474475,
          4.504504504504505,
          4.534534534534535,
          4.564564564564565,
          4.594594594594595,
          4.624624624624625,
          4.654654654654655,
          4.684684684684685,
          4.714714714714715,
          4.744744744744745,
          4.774774774774775,
          4.804804804804805,
          4.834834834834835,
          4.864864864864865,
          4.894894894894895,
          4.924924924924925,
          4.954954954954955,
          4.984984984984985,
          5.015015015015015,
          5.045045045045045,
          5.075075075075075,
          5.105105105105105,
          5.135135135135135,
          5.165165165165165,
          5.195195195195195,
          5.225225225225225,
          5.255255255255255,
          5.285285285285285,
          5.315315315315315,
          5.345345345345345,
          5.375375375375375,
          5.405405405405405,
          5.435435435435435,
          5.465465465465465,
          5.495495495495495,
          5.525525525525525,
          5.555555555555555,
          5.585585585585585,
          5.615615615615615,
          5.645645645645645,
          5.675675675675675,
          5.7057057057057055,
          5.7357357357357355,
          5.7657657657657655,
          5.7957957957957955,
          5.8258258258258255,
          5.8558558558558556,
          5.885885885885886,
          5.915915915915916,
          5.945945945945946,
          5.975975975975976,
          6.006006006006006,
          6.036036036036036,
          6.066066066066066,
          6.096096096096096,
          6.126126126126126,
          6.156156156156156,
          6.186186186186186,
          6.216216216216216,
          6.246246246246246,
          6.276276276276276,
          6.306306306306306,
          6.336336336336336,
          6.366366366366366,
          6.396396396396396,
          6.426426426426427,
          6.456456456456457,
          6.486486486486487,
          6.516516516516517,
          6.546546546546547,
          6.576576576576577,
          6.606606606606607,
          6.636636636636637,
          6.666666666666667,
          6.696696696696697,
          6.726726726726727,
          6.756756756756757,
          6.786786786786787,
          6.816816816816817,
          6.846846846846847,
          6.876876876876877,
          6.906906906906907,
          6.936936936936937,
          6.966966966966967,
          6.996996996996997,
          7.027027027027027,
          7.057057057057057,
          7.087087087087087,
          7.117117117117117,
          7.147147147147147,
          7.177177177177177,
          7.207207207207207,
          7.237237237237237,
          7.267267267267267,
          7.297297297297297,
          7.327327327327327,
          7.357357357357357,
          7.387387387387387,
          7.4174174174174174,
          7.4474474474474475,
          7.4774774774774775,
          7.5075075075075075,
          7.5375375375375375,
          7.5675675675675675,
          7.597597597597598,
          7.627627627627628,
          7.657657657657658,
          7.687687687687688,
          7.717717717717718,
          7.747747747747748,
          7.777777777777778,
          7.807807807807808,
          7.837837837837838,
          7.867867867867868,
          7.897897897897898,
          7.927927927927928,
          7.957957957957958,
          7.987987987987988,
          8.018018018018019,
          8.048048048048049,
          8.078078078078079,
          8.108108108108109,
          8.138138138138139,
          8.168168168168169,
          8.198198198198199,
          8.228228228228229,
          8.258258258258259,
          8.288288288288289,
          8.318318318318319,
          8.348348348348349,
          8.378378378378379,
          8.408408408408409,
          8.438438438438439,
          8.468468468468469,
          8.498498498498499,
          8.528528528528529,
          8.558558558558559,
          8.588588588588589,
          8.618618618618619,
          8.64864864864865,
          8.67867867867868,
          8.70870870870871,
          8.73873873873874,
          8.76876876876877,
          8.7987987987988,
          8.82882882882883,
          8.85885885885886,
          8.88888888888889,
          8.91891891891892,
          8.94894894894895,
          8.97897897897898,
          9.00900900900901,
          9.03903903903904,
          9.06906906906907,
          9.0990990990991,
          9.12912912912913,
          9.15915915915916,
          9.18918918918919,
          9.21921921921922,
          9.24924924924925,
          9.27927927927928,
          9.30930930930931,
          9.33933933933934,
          9.36936936936937,
          9.3993993993994,
          9.42942942942943,
          9.45945945945946,
          9.48948948948949,
          9.51951951951952,
          9.54954954954955,
          9.57957957957958,
          9.60960960960961,
          9.63963963963964,
          9.66966966966967,
          9.6996996996997,
          9.72972972972973,
          9.75975975975976,
          9.78978978978979,
          9.81981981981982,
          9.84984984984985,
          9.87987987987988,
          9.90990990990991,
          9.93993993993994,
          9.96996996996997,
          10,
          10.03003003003003,
          10.06006006006006,
          10.09009009009009,
          10.12012012012012,
          10.15015015015015,
          10.18018018018018,
          10.21021021021021,
          10.24024024024024,
          10.27027027027027,
          10.3003003003003,
          10.33033033033033,
          10.36036036036036,
          10.39039039039039,
          10.42042042042042,
          10.45045045045045,
          10.48048048048048,
          10.51051051051051,
          10.54054054054054,
          10.57057057057057,
          10.6006006006006,
          10.63063063063063,
          10.66066066066066,
          10.69069069069069,
          10.72072072072072,
          10.75075075075075,
          10.78078078078078,
          10.81081081081081,
          10.84084084084084,
          10.87087087087087,
          10.9009009009009,
          10.93093093093093,
          10.96096096096096,
          10.99099099099099,
          11.02102102102102,
          11.05105105105105,
          11.08108108108108,
          11.11111111111111,
          11.14114114114114,
          11.17117117117117,
          11.2012012012012,
          11.23123123123123,
          11.26126126126126,
          11.29129129129129,
          11.32132132132132,
          11.35135135135135,
          11.381381381381381,
          11.411411411411411,
          11.441441441441441,
          11.471471471471471,
          11.501501501501501,
          11.531531531531531,
          11.561561561561561,
          11.591591591591591,
          11.621621621621621,
          11.651651651651651,
          11.681681681681681,
          11.711711711711711,
          11.741741741741741,
          11.771771771771771,
          11.801801801801801,
          11.831831831831831,
          11.861861861861861,
          11.891891891891891,
          11.921921921921921,
          11.951951951951951,
          11.981981981981981,
          12.012012012012011,
          12.042042042042041,
          12.072072072072071,
          12.102102102102101,
          12.132132132132131,
          12.162162162162161,
          12.192192192192191,
          12.222222222222221,
          12.252252252252251,
          12.282282282282281,
          12.312312312312311,
          12.342342342342342,
          12.372372372372372,
          12.402402402402402,
          12.432432432432432,
          12.462462462462462,
          12.492492492492492,
          12.522522522522522,
          12.552552552552552,
          12.582582582582582,
          12.612612612612612,
          12.642642642642642,
          12.672672672672672,
          12.702702702702702,
          12.732732732732732,
          12.762762762762762,
          12.792792792792792,
          12.822822822822824,
          12.852852852852854,
          12.882882882882884,
          12.912912912912914,
          12.942942942942944,
          12.972972972972974,
          13.003003003003004,
          13.033033033033034,
          13.063063063063064,
          13.093093093093094,
          13.123123123123124,
          13.153153153153154,
          13.183183183183184,
          13.213213213213214,
          13.243243243243244,
          13.273273273273274,
          13.303303303303304,
          13.333333333333334,
          13.363363363363364,
          13.393393393393394,
          13.423423423423424,
          13.453453453453454,
          13.483483483483484,
          13.513513513513514,
          13.543543543543544,
          13.573573573573574,
          13.603603603603604,
          13.633633633633634,
          13.663663663663664,
          13.693693693693694,
          13.723723723723724,
          13.753753753753754,
          13.783783783783784,
          13.813813813813814,
          13.843843843843844,
          13.873873873873874,
          13.903903903903904,
          13.933933933933934,
          13.963963963963964,
          13.993993993993994,
          14.024024024024024,
          14.054054054054054,
          14.084084084084084,
          14.114114114114114,
          14.144144144144144,
          14.174174174174174,
          14.204204204204204,
          14.234234234234235,
          14.264264264264265,
          14.294294294294295,
          14.324324324324325,
          14.354354354354355,
          14.384384384384385,
          14.414414414414415,
          14.444444444444445,
          14.474474474474475,
          14.504504504504505,
          14.534534534534535,
          14.564564564564565,
          14.594594594594595,
          14.624624624624625,
          14.654654654654655,
          14.684684684684685,
          14.714714714714715,
          14.744744744744745,
          14.774774774774775,
          14.804804804804805,
          14.834834834834835,
          14.864864864864865,
          14.894894894894895,
          14.924924924924925,
          14.954954954954955,
          14.984984984984985,
          15.015015015015015,
          15.045045045045045,
          15.075075075075075,
          15.105105105105105,
          15.135135135135135,
          15.165165165165165,
          15.195195195195195,
          15.225225225225225,
          15.255255255255255,
          15.285285285285285,
          15.315315315315315,
          15.345345345345345,
          15.375375375375375,
          15.405405405405405,
          15.435435435435435,
          15.465465465465465,
          15.495495495495495,
          15.525525525525525,
          15.555555555555555,
          15.585585585585585,
          15.615615615615615,
          15.645645645645645,
          15.675675675675675,
          15.705705705705705,
          15.735735735735735,
          15.765765765765765,
          15.795795795795796,
          15.825825825825826,
          15.855855855855856,
          15.885885885885886,
          15.915915915915916,
          15.945945945945946,
          15.975975975975976,
          16.006006006006007,
          16.036036036036037,
          16.066066066066067,
          16.096096096096097,
          16.126126126126128,
          16.156156156156158,
          16.186186186186188,
          16.216216216216218,
          16.246246246246248,
          16.276276276276278,
          16.306306306306308,
          16.336336336336338,
          16.366366366366368,
          16.396396396396398,
          16.426426426426428,
          16.456456456456458,
          16.486486486486488,
          16.516516516516518,
          16.546546546546548,
          16.576576576576578,
          16.606606606606608,
          16.636636636636638,
          16.666666666666668,
          16.696696696696698,
          16.726726726726728,
          16.756756756756758,
          16.786786786786788,
          16.816816816816818,
          16.846846846846848,
          16.876876876876878,
          16.906906906906908,
          16.936936936936938,
          16.966966966966968,
          16.996996996996998,
          17.027027027027028,
          17.057057057057058,
          17.087087087087088,
          17.117117117117118,
          17.147147147147148,
          17.177177177177178,
          17.207207207207208,
          17.237237237237238,
          17.26726726726727,
          17.2972972972973,
          17.32732732732733,
          17.35735735735736,
          17.38738738738739,
          17.41741741741742,
          17.44744744744745,
          17.47747747747748,
          17.50750750750751,
          17.53753753753754,
          17.56756756756757,
          17.5975975975976,
          17.62762762762763,
          17.65765765765766,
          17.68768768768769,
          17.71771771771772,
          17.74774774774775,
          17.77777777777778,
          17.80780780780781,
          17.83783783783784,
          17.86786786786787,
          17.8978978978979,
          17.92792792792793,
          17.95795795795796,
          17.98798798798799,
          18.01801801801802,
          18.04804804804805,
          18.07807807807808,
          18.10810810810811,
          18.13813813813814,
          18.16816816816817,
          18.1981981981982,
          18.22822822822823,
          18.25825825825826,
          18.28828828828829,
          18.31831831831832,
          18.34834834834835,
          18.37837837837838,
          18.40840840840841,
          18.43843843843844,
          18.46846846846847,
          18.4984984984985,
          18.52852852852853,
          18.55855855855856,
          18.58858858858859,
          18.61861861861862,
          18.64864864864865,
          18.67867867867868,
          18.70870870870871,
          18.73873873873874,
          18.76876876876877,
          18.7987987987988,
          18.82882882882883,
          18.85885885885886,
          18.88888888888889,
          18.91891891891892,
          18.94894894894895,
          18.97897897897898,
          19.00900900900901,
          19.03903903903904,
          19.06906906906907,
          19.0990990990991,
          19.12912912912913,
          19.15915915915916,
          19.18918918918919,
          19.21921921921922,
          19.24924924924925,
          19.27927927927928,
          19.30930930930931,
          19.33933933933934,
          19.36936936936937,
          19.3993993993994,
          19.42942942942943,
          19.45945945945946,
          19.48948948948949,
          19.51951951951952,
          19.54954954954955,
          19.57957957957958,
          19.60960960960961,
          19.63963963963964,
          19.66966966966967,
          19.6996996996997,
          19.72972972972973,
          19.75975975975976,
          19.78978978978979,
          19.81981981981982,
          19.84984984984985,
          19.87987987987988,
          19.90990990990991,
          19.93993993993994,
          19.96996996996997,
          20,
          20.03003003003003,
          20.06006006006006,
          20.09009009009009,
          20.12012012012012,
          20.15015015015015,
          20.18018018018018,
          20.21021021021021,
          20.24024024024024,
          20.27027027027027,
          20.3003003003003,
          20.33033033033033,
          20.36036036036036,
          20.39039039039039,
          20.42042042042042,
          20.45045045045045,
          20.48048048048048,
          20.51051051051051,
          20.54054054054054,
          20.57057057057057,
          20.6006006006006,
          20.63063063063063,
          20.66066066066066,
          20.69069069069069,
          20.72072072072072,
          20.75075075075075,
          20.78078078078078,
          20.81081081081081,
          20.84084084084084,
          20.87087087087087,
          20.9009009009009,
          20.93093093093093,
          20.96096096096096,
          20.99099099099099,
          21.02102102102102,
          21.05105105105105,
          21.08108108108108,
          21.11111111111111,
          21.14114114114114,
          21.17117117117117,
          21.2012012012012,
          21.23123123123123,
          21.26126126126126,
          21.29129129129129,
          21.32132132132132,
          21.35135135135135,
          21.38138138138138,
          21.41141141141141,
          21.44144144144144,
          21.47147147147147,
          21.5015015015015,
          21.53153153153153,
          21.56156156156156,
          21.59159159159159,
          21.62162162162162,
          21.65165165165165,
          21.68168168168168,
          21.71171171171171,
          21.74174174174174,
          21.77177177177177,
          21.8018018018018,
          21.83183183183183,
          21.86186186186186,
          21.89189189189189,
          21.92192192192192,
          21.95195195195195,
          21.98198198198198,
          22.01201201201201,
          22.04204204204204,
          22.07207207207207,
          22.1021021021021,
          22.13213213213213,
          22.16216216216216,
          22.19219219219219,
          22.22222222222222,
          22.25225225225225,
          22.28228228228228,
          22.31231231231231,
          22.34234234234234,
          22.37237237237237,
          22.4024024024024,
          22.43243243243243,
          22.46246246246246,
          22.49249249249249,
          22.52252252252252,
          22.55255255255255,
          22.58258258258258,
          22.61261261261261,
          22.64264264264264,
          22.67267267267267,
          22.7027027027027,
          22.73273273273273,
          22.762762762762762,
          22.792792792792792,
          22.822822822822822,
          22.852852852852852,
          22.882882882882882,
          22.912912912912912,
          22.942942942942942,
          22.972972972972972,
          23.003003003003002,
          23.033033033033032,
          23.063063063063062,
          23.093093093093092,
          23.123123123123122,
          23.153153153153152,
          23.183183183183182,
          23.213213213213212,
          23.243243243243242,
          23.273273273273272,
          23.303303303303302,
          23.333333333333332,
          23.363363363363362,
          23.393393393393392,
          23.423423423423422,
          23.453453453453452,
          23.483483483483482,
          23.513513513513512,
          23.543543543543542,
          23.573573573573572,
          23.603603603603602,
          23.633633633633632,
          23.663663663663662,
          23.693693693693692,
          23.723723723723722,
          23.753753753753752,
          23.783783783783782,
          23.813813813813812,
          23.843843843843842,
          23.873873873873872,
          23.903903903903903,
          23.933933933933933,
          23.963963963963963,
          23.993993993993993,
          24.024024024024023,
          24.054054054054053,
          24.084084084084083,
          24.114114114114113,
          24.144144144144143,
          24.174174174174173,
          24.204204204204203,
          24.234234234234233,
          24.264264264264263,
          24.294294294294293,
          24.324324324324323,
          24.354354354354353,
          24.384384384384383,
          24.414414414414413,
          24.444444444444443,
          24.474474474474473,
          24.504504504504503,
          24.534534534534533,
          24.564564564564563,
          24.594594594594593,
          24.624624624624623,
          24.654654654654653,
          24.684684684684683,
          24.714714714714713,
          24.744744744744743,
          24.774774774774773,
          24.804804804804803,
          24.834834834834833,
          24.864864864864863,
          24.894894894894893,
          24.924924924924923,
          24.954954954954953,
          24.984984984984983,
          25.015015015015013,
          25.045045045045043,
          25.075075075075073,
          25.105105105105103,
          25.135135135135133,
          25.165165165165163,
          25.195195195195193,
          25.225225225225223,
          25.255255255255253,
          25.285285285285283,
          25.315315315315313,
          25.345345345345343,
          25.375375375375373,
          25.405405405405403,
          25.435435435435434,
          25.465465465465464,
          25.495495495495494,
          25.525525525525524,
          25.555555555555554,
          25.585585585585584,
          25.615615615615614,
          25.645645645645647,
          25.675675675675677,
          25.705705705705707,
          25.735735735735737,
          25.765765765765767,
          25.795795795795797,
          25.825825825825827,
          25.855855855855857,
          25.885885885885887,
          25.915915915915917,
          25.945945945945947,
          25.975975975975977,
          26.006006006006007,
          26.036036036036037,
          26.066066066066067,
          26.096096096096097,
          26.126126126126128,
          26.156156156156158,
          26.186186186186188,
          26.216216216216218,
          26.246246246246248,
          26.276276276276278,
          26.306306306306308,
          26.336336336336338,
          26.366366366366368,
          26.396396396396398,
          26.426426426426428,
          26.456456456456458,
          26.486486486486488,
          26.516516516516518,
          26.546546546546548,
          26.576576576576578,
          26.606606606606608,
          26.636636636636638,
          26.666666666666668,
          26.696696696696698,
          26.726726726726728,
          26.756756756756758,
          26.786786786786788,
          26.816816816816818,
          26.846846846846848,
          26.876876876876878,
          26.906906906906908,
          26.936936936936938,
          26.966966966966968,
          26.996996996996998,
          27.027027027027028,
          27.057057057057058,
          27.087087087087088,
          27.117117117117118,
          27.147147147147148,
          27.177177177177178,
          27.207207207207208,
          27.237237237237238,
          27.26726726726727,
          27.2972972972973,
          27.32732732732733,
          27.35735735735736,
          27.38738738738739,
          27.41741741741742,
          27.44744744744745,
          27.47747747747748,
          27.50750750750751,
          27.53753753753754,
          27.56756756756757,
          27.5975975975976,
          27.62762762762763,
          27.65765765765766,
          27.68768768768769,
          27.71771771771772,
          27.74774774774775,
          27.77777777777778,
          27.80780780780781,
          27.83783783783784,
          27.86786786786787,
          27.8978978978979,
          27.92792792792793,
          27.95795795795796,
          27.98798798798799,
          28.01801801801802,
          28.04804804804805,
          28.07807807807808,
          28.10810810810811,
          28.13813813813814,
          28.16816816816817,
          28.1981981981982,
          28.22822822822823,
          28.25825825825826,
          28.28828828828829,
          28.31831831831832,
          28.34834834834835,
          28.37837837837838,
          28.40840840840841,
          28.43843843843844,
          28.46846846846847,
          28.4984984984985,
          28.52852852852853,
          28.55855855855856,
          28.58858858858859,
          28.61861861861862,
          28.64864864864865,
          28.67867867867868,
          28.70870870870871,
          28.73873873873874,
          28.76876876876877,
          28.7987987987988,
          28.82882882882883,
          28.85885885885886,
          28.88888888888889,
          28.91891891891892,
          28.94894894894895,
          28.97897897897898,
          29.00900900900901,
          29.03903903903904,
          29.06906906906907,
          29.0990990990991,
          29.12912912912913,
          29.15915915915916,
          29.18918918918919,
          29.21921921921922,
          29.24924924924925,
          29.27927927927928,
          29.30930930930931,
          29.33933933933934,
          29.36936936936937,
          29.3993993993994,
          29.42942942942943,
          29.45945945945946,
          29.48948948948949,
          29.51951951951952,
          29.54954954954955,
          29.57957957957958,
          29.60960960960961,
          29.63963963963964,
          29.66966966966967,
          29.6996996996997,
          29.72972972972973,
          29.75975975975976,
          29.78978978978979,
          29.81981981981982,
          29.84984984984985,
          29.87987987987988,
          29.90990990990991,
          29.93993993993994,
          29.96996996996997,
          30
         ],
         "y": [
          5.69142449534104,
          5.629183064557447,
          5.549132745319189,
          5.457183932292827,
          5.359247020144914,
          5.261232403542008,
          5.169050477150668,
          5.088611635637449,
          5.025826273668908,
          4.985489992903636,
          4.9598231470018534,
          4.933111824029225,
          4.892988584015874,
          4.8405189863656295,
          4.78001781914724,
          4.715799870429456,
          4.652179928281026,
          4.593438132065782,
          4.542004905591581,
          4.497568172113092,
          4.459593921343591,
          4.427548142996355,
          4.400896826784662,
          4.379105962421786,
          4.361641539621006,
          4.347969548095596,
          4.337555977558835,
          4.329866817723995,
          4.324368058304357,
          4.320525689013196,
          4.317805699563788,
          4.315674079669409,
          4.313596819043337,
          4.311039907398846,
          4.307503130548676,
          4.3028351722303295,
          4.2970905472360466,
          4.290326430692431,
          4.282599997726084,
          4.273968423463609,
          4.264488883031605,
          4.254218551556677,
          4.2432146041654235,
          4.231534215984448,
          4.219234562140355,
          4.206372817759743,
          4.193006157969214,
          4.179191757895372,
          4.164986792664816,
          4.150448437404153,
          4.135633867239978,
          4.120600257298898,
          4.105404782707514,
          4.090104618592427,
          4.074756940080238,
          4.059418922297551,
          4.044147740370968,
          4.0290005694270885,
          4.014034584592517,
          3.999306960993853,
          3.9848748737577004,
          3.97079549801066,
          3.9571260088793347,
          3.943923581490326,
          3.9312453909702345,
          3.919148612445664,
          3.907690421043214,
          3.8969271364905316,
          3.886881824880795,
          3.8775343546598364,
          3.868861707302009,
          3.8608408642816645,
          3.8534488070731556,
          3.846662517150835,
          3.8404589759890557,
          3.8348151650621682,
          3.8297080658445273,
          3.8251146598104833,
          3.8210119284343893,
          3.817376853190598,
          3.8141864155534613,
          3.811417596997332,
          3.809047378996564,
          3.8070527430255066,
          3.805410670558515,
          3.8040981430699397,
          3.803092142034134,
          3.80236964892545,
          3.80190764521824,
          3.8016831123868573,
          3.8016730319056533,
          3.801854385248981,
          3.802204153891193,
          3.8026993193066407,
          3.8033168629696767,
          3.8040337663546544,
          3.804827010935926,
          3.805673578187843,
          3.806550449584758,
          3.8074346066010243,
          3.8083030347264977,
          3.8091380480251185,
          3.8099377936939116,
          3.8107033462324753,
          3.811435780140401,
          3.8121361699172858,
          3.8128055900627227,
          3.8134451150763047,
          3.8140558194576295,
          3.8146387777062905,
          3.8151950643218813,
          3.815725753803997,
          3.816231920652233,
          3.8167146393661815,
          3.8171749844454386,
          3.8176140303895987,
          3.8180328516982565,
          3.8184325228710065,
          3.8188141184074422,
          3.819178712807159,
          3.8195273805697516,
          3.819861196194813,
          3.8201812341819408,
          3.820488569030726,
          3.8207842752407646,
          3.8210694273116523,
          3.8213450997429823,
          3.8216123670343487,
          3.8218723036853466,
          3.822125984195571,
          3.8223744830646154,
          3.822618874792075,
          3.822860233877545,
          3.8230996348206183,
          3.8233381521208902,
          3.823576860277955,
          3.8238168337914082,
          3.8240591471608423,
          3.824304874885854,
          3.824555091466036,
          3.824810871400984,
          3.825073289190293,
          3.8253434193335547,
          3.8256223363303663,
          3.8259111146803226,
          3.826210828883017,
          3.8265225534380436,
          3.826847362844996,
          3.8271863316034724,
          3.8275405342130644,
          3.8279110451733653,
          3.8282989389839734,
          3.8287052901444802,
          3.8291311731544826,
          3.829577662513572,
          3.830045832721346,
          3.8305367582773973,
          3.831051513681321,
          3.831591173432711,
          3.8321568120311627,
          3.8327495039762702,
          3.833370323767628,
          3.8340203459048308,
          3.834700644887473,
          3.835412295215148,
          3.8361563713874522,
          3.83693394790398,
          3.837746061422475,
          3.838592878238176,
          3.839473694283808,
          3.8403877676502485,
          3.8413343564283733,
          3.8423127187090613,
          3.84332211258319,
          3.844361796141635,
          3.845431027475276,
          3.846529064674989,
          3.8476551658316516,
          3.8488085890361403,
          3.8499885923793347,
          3.8511944339521103,
          3.852425371845345,
          3.8536806641499153,
          3.8549595689566996,
          3.8562613443565765,
          3.857585248440421,
          3.8589305392991116,
          3.8602964750235254,
          3.861682313704539,
          3.8630873134330317,
          3.8645107322998795,
          3.8659518283959606,
          3.8674098598121516,
          3.8688840846393293,
          3.870373760968373,
          3.871878146890158,
          3.8733965004955624,
          3.8749280798754646,
          3.8764721431207407,
          3.8780279483222686,
          3.879594753570926,
          3.881171816957589,
          3.8827583965731356,
          3.8843537505084447,
          3.8859571368543913,
          3.887567813701854,
          3.8891850391417098,
          3.890808071264837,
          3.892436168162112,
          3.8940685879244117,
          3.895704588642614,
          3.897343428407597,
          3.898984365310237,
          3.9006266574414123,
          3.902269562892,
          3.9039123397528765,
          3.905554246114921,
          3.9071945400690082,
          3.9088324797060188,
          3.9104673231168277,
          3.912098328392314,
          3.913724753623352,
          3.9153458569008217,
          3.916960896315601,
          3.9185691299585654,
          3.920169815920594,
          3.9217622122925615,
          3.9233455771653474,
          3.92491916862983,
          3.9264822447768837,
          3.928034063697389,
          3.9295738834822203,
          3.9311009622222577,
          3.9326145580083764,
          3.934114048448001,
          3.9355994575871587,
          3.9370710270280607,
          3.938528998536862,
          3.939973613879718,
          3.941405114822786,
          3.942823743132221,
          3.9442297405741784,
          3.9456233489148147,
          3.9470048099202852,
          3.948374365356747,
          3.949732256990355,
          3.9510787265872653,
          3.952414015913634,
          3.9537383667356174,
          3.9550520208193705,
          3.956355219931049,
          3.9576482058368097,
          3.9589312203028086,
          3.960204505095201,
          3.961468301980142,
          3.9627228527237888,
          3.9639683990922983,
          3.9652051828518227,
          3.9664334457685215,
          3.9676534296085486,
          3.9688653761380612,
          3.970069527123214,
          3.9712661243301635,
          3.9724554095250664,
          3.9736376244740765,
          3.974813010943351,
          3.975981810699047,
          3.977144265507319,
          3.9783006171343214,
          3.979451107346213,
          3.9805959779091484,
          3.9817354705892827,
          3.9828698271527716,
          3.9839992893657734,
          3.985124098994443,
          3.9862444978049347,
          3.987360727563405,
          3.988473030036012,
          3.989581646988908,
          3.9906868201882517,
          3.9917887914001984,
          3.9928878023909036,
          3.993984094926523,
          3.995077910773213,
          3.996169491697129,
          3.997259079464426,
          3.998346915841263,
          3.9994332425937924,
          4.000518301488172,
          4.001602334290558,
          4.002685582767104,
          4.003768288683968,
          4.004850693807307,
          4.005933039903273,
          4.007015568738026,
          4.008098522077719,
          4.009182141688509,
          4.010266669336552,
          4.011352346788003,
          4.01243941580902,
          4.013528118165756,
          4.014618695624369,
          4.015711389951014,
          4.0168064429118475,
          4.017904096273026,
          4.0190045918007025,
          4.020108171261035,
          4.02121507642018,
          4.022325549044292,
          4.023439830899529,
          4.024558163752044,
          4.025680789367995,
          4.026807949513536,
          4.027939885954825,
          4.029076840458017,
          4.030219054789268,
          4.031366770714733,
          4.032520230000569,
          4.033679674412931,
          4.034845345717976,
          4.036017485681859,
          4.037196336070736,
          4.038382138650763,
          4.039575135188097,
          4.040775567448891,
          4.041983677199306,
          4.043199706205492,
          4.044423896233607,
          4.04565648904981,
          4.0468977264202515,
          4.048147850111093,
          4.049407101888486,
          4.050675723518586,
          4.051953956767554,
          4.053241991242738,
          4.054539807916279,
          4.055847335601512,
          4.057164503111771,
          4.058491239260394,
          4.059827472860714,
          4.061173132726069,
          4.062528147669795,
          4.063892446505224,
          4.0652659580456945,
          4.066648611104542,
          4.068040334495098,
          4.069441057030705,
          4.070850707524692,
          4.072269214790398,
          4.07369650764116,
          4.075132514890308,
          4.076577165351185,
          4.078030387837119,
          4.079492111161449,
          4.080962264137513,
          4.082440775578642,
          4.083927574298175,
          4.085422589109447,
          4.08692574882579,
          4.088436982260544,
          4.089956218227043,
          4.091483385538622,
          4.0930184130086165,
          4.0945612294503615,
          4.096111763677195,
          4.09766994450245,
          4.099235700739464,
          4.100808961201571,
          4.102389654702107,
          4.103977710054408,
          4.105573056071809,
          4.107175621567647,
          4.108785335355255,
          4.110402126247968,
          4.112025923059126,
          4.113656654602061,
          4.11529424969011,
          4.116938637136607,
          4.11858974575489,
          4.120247504358291,
          4.1219118417601495,
          4.123582686773799,
          4.125259968212574,
          4.126943614889811,
          4.128633555618848,
          4.130329719213015,
          4.132032034485654,
          4.133740430250095,
          4.1354548353196785,
          4.137175178507736,
          4.138901388627604,
          4.140633394492619,
          4.142371124916115,
          4.1441145087114295,
          4.145863474691898,
          4.147617951670854,
          4.149377868461635,
          4.151143153877575,
          4.152913736732011,
          4.154689545838279,
          4.156470510009711,
          4.158256558059647,
          4.160047618801419,
          4.161843621048364,
          4.163644493613819,
          4.165450165311117,
          4.167260564953595,
          4.169075621354588,
          4.170895263327431,
          4.172719419685461,
          4.174548019242014,
          4.176380990810423,
          4.178218263204025,
          4.180059765236155,
          4.181905425720149,
          4.183755173469343,
          4.185608937297072,
          4.187466646016672,
          4.189328228441478,
          4.191193613384825,
          4.193062729660049,
          4.194935506080487,
          4.196811871459472,
          4.198691754610341,
          4.20057508434643,
          4.202461789481074,
          4.204351798827608,
          4.206245041199367,
          4.20814144540969,
          4.210040940271908,
          4.211943454599361,
          4.213848917205379,
          4.215757256903301,
          4.2176684025064635,
          4.219582282828201,
          4.221498826681848,
          4.223417962880742,
          4.225339620238215,
          4.227263727567608,
          4.2291902136822515,
          4.231119007395484,
          4.233050037520639,
          4.234983232871052,
          4.236918522260062,
          4.238855834501002,
          4.240795098407206,
          4.242736242792012,
          4.244679196468756,
          4.246623888250772,
          4.248570246951395,
          4.2505182013839615,
          4.252467680361807,
          4.254418612698267,
          4.256370927206676,
          4.2583245527003735,
          4.26027941799269,
          4.262235451896963,
          4.264192583226528,
          4.266150740794722,
          4.268109853414879,
          4.270069849900334,
          4.2720306590644235,
          4.273992209720483,
          4.275954430681848,
          4.277917250761854,
          4.279880598773837,
          4.281844403531131,
          4.283808593847073,
          4.285773098534999,
          4.287737846408242,
          4.289702766280141,
          4.2916677869640285,
          4.2936328372732415,
          4.295597846021116,
          4.297562742020985,
          4.299527454086188,
          4.301491911030057,
          4.30345604166593,
          4.305419774807142,
          4.307383039267027,
          4.309345763858922,
          4.311307877396161,
          4.313269308692083,
          4.315229986560021,
          4.317189839813308,
          4.319148797265284,
          4.321106787729282,
          4.32306374001864,
          4.325019582946692,
          4.326974245326772,
          4.328927655972217,
          4.330879743696364,
          4.332830437312546,
          4.334779665634101,
          4.336727357474361,
          4.338673441646664,
          4.340617846964348,
          4.342560502240742,
          4.344501336289189,
          4.346440277923017,
          4.348377255955568,
          4.350312199200173,
          4.352245036470173,
          4.3541756965788965,
          4.356104108339684,
          4.35803020056587,
          4.35995390207079,
          4.3618751416677775,
          4.363793848170171,
          4.365709950391304,
          4.367623377144513,
          4.3695340572431345,
          4.3714419195005005,
          4.373346892729951,
          4.375248905744818,
          4.37714788735844,
          4.379043766384149,
          4.380936471635285,
          4.38282593192518,
          4.384712076067171,
          4.386594832874593,
          4.388474131160781,
          4.390349899739073,
          4.3922220674228,
          4.394090563025301,
          4.395955315359913,
          4.397816253239969,
          4.399673305478807,
          4.401526400889757,
          4.403375468286157,
          4.405220436481348,
          4.407061234288658,
          4.4088977905214275,
          4.410730033992988,
          4.412557893516679,
          4.414381297905834,
          4.416200175973789,
          4.418014456533879,
          4.41982406839944,
          4.421628940383807,
          4.423429001300317,
          4.425224179962304,
          4.427014405183104,
          4.428799605776052,
          4.430579710554485,
          4.432354648331739,
          4.434124347921145,
          4.435888738136044,
          4.437647747789769,
          4.439401305695656,
          4.441149340667041,
          4.4428917815172575,
          4.444628557059643,
          4.446359596107534,
          4.448084827474263,
          4.449804179973168,
          4.4515175824175826,
          4.453224963620843,
          4.4549262523962865,
          4.456621377557247,
          4.458310267917061,
          4.459992852289061,
          4.461669059486587,
          4.463338818322972,
          4.465002057611551,
          4.466658706165662,
          4.4683086927986375,
          4.469951946323816,
          4.471588395554531,
          4.473217969304119,
          4.4748405963859135,
          4.476456205613254,
          4.478064725799474,
          4.479666085757907,
          4.481260214301891,
          4.48284704024476,
          4.4844264923998525,
          4.485998499580501,
          4.4875629906000425,
          4.489119894271812,
          4.490669139409144,
          4.492210654825375,
          4.493744369333842,
          4.495270211747879,
          4.496788110880821,
          4.498297995546006,
          4.499799794556766,
          4.5012934367264394,
          4.502778850868361,
          4.504255965795865,
          4.505724710322288,
          4.507185013260966,
          4.508636803425235,
          4.510080009628429,
          4.511514560683883,
          4.512940385404936,
          4.5143574126049195,
          4.515765571097171,
          4.517164789695027,
          4.518554997211821,
          4.519936122460889,
          4.521308094255566,
          4.522670841409191,
          4.5240242927350955,
          4.525368377046617,
          4.526703023157092,
          4.528028159879851,
          4.529343716028237,
          4.53064962041558,
          4.5319458018552154,
          4.533232189160484,
          4.534508711144716,
          4.5357752966212495,
          4.537031874403421,
          4.5382783733045615,
          4.53951472213801,
          4.5407408497171025,
          4.541956684855174,
          4.54316215636556,
          4.544357193061595,
          4.545541723756616,
          4.546715677263956,
          4.547878982396953,
          4.549031567968942,
          4.550173362793258,
          4.551304295683237,
          4.552424295452215,
          4.553533290913527,
          4.554631210880508,
          4.5557179841664945,
          4.556793539584821,
          4.5578578059488235,
          4.558910712071839,
          4.559952186767201,
          4.560982158848246,
          4.562000557128308,
          4.563007310420725,
          4.564002347538833,
          4.564985597295963,
          4.565956988505455,
          4.566916449980643,
          4.567863910534862,
          4.568799298981449,
          4.569722544133738,
          4.570633574805065,
          4.571532319808766,
          4.5724187079581755,
          4.573292668066631,
          4.574154128947466,
          4.575003019414018,
          4.575839268279621,
          4.57666280435761,
          4.577473556461323,
          4.578271453404092,
          4.579056423999257,
          4.579828397060149,
          4.580587301400106,
          4.581333065832464,
          4.5820656191705575,
          4.582784890227722,
          4.5834908078172925,
          4.584183300752607,
          4.584862297847,
          4.585527727913805,
          4.586179519766358,
          4.586817602217998,
          4.5874419040820555,
          4.588052369107684,
          4.588649000787292,
          4.589231817549101,
          4.589800837821336,
          4.590356080032217,
          4.590897562609969,
          4.591425303982817,
          4.591939322578979,
          4.592439636826682,
          4.592926265154149,
          4.593399225989599,
          4.593858537761259,
          4.594304218897352,
          4.5947362878261,
          4.595154762975724,
          4.595559662774451,
          4.595951005650501,
          4.5963288100321,
          4.596693094347466,
          4.597043877024827,
          4.597381176492404,
          4.597705011178421,
          4.5980153995111,
          4.598312359918664,
          4.598595910829336,
          4.598866070671338,
          4.5991228578728975,
          4.599366290862233,
          4.599596388067568,
          4.599813167917127,
          4.600016648839132,
          4.6002068492618085,
          4.600383787613374,
          4.6005474823220585,
          4.6006979518160795,
          4.600835214523663,
          4.600959288873032,
          4.601070193292406,
          4.601167946210014,
          4.601252566054074,
          4.601324071252811,
          4.601382480234447,
          4.601427811427207,
          4.601460083259313,
          4.601479314158987,
          4.601485522554453,
          4.6014787268739346,
          4.601458945545653,
          4.601426196997832,
          4.601380499658697,
          4.601321871956469,
          4.601250332319371,
          4.601165899175625,
          4.601068590953455,
          4.600958426081086,
          4.600835422986737,
          4.600699600098635,
          4.600550975845,
          4.600389568654056,
          4.600215396954027,
          4.600028479173137,
          4.599828833739606,
          4.599616479081657,
          4.599391433627517,
          4.599153715805404,
          4.598903344043546,
          4.598640336770162,
          4.598364712413477,
          4.598076489401714,
          4.597775686163094,
          4.597462321125843,
          4.597136412718183,
          4.596797979368336,
          4.596447039504526,
          4.596083611554975,
          4.595707713947908,
          4.595319365111545,
          4.594918583474112,
          4.594505387463831,
          4.594079795508926,
          4.593641826037618,
          4.59319149747813,
          4.592728828258687,
          4.592253836807512,
          4.5917665415528255,
          4.591266960922851,
          4.590755113345815,
          4.590231017249937,
          4.589694691063442,
          4.589146153214551,
          4.58858542213149,
          4.588012516242478,
          4.587427453975741,
          4.586830253759503,
          4.586220934021984,
          4.585599513191409,
          4.584966009696,
          4.58432044196398,
          4.583662828423574,
          4.582993187503,
          4.582311537630487,
          4.581617897234255,
          4.580912284742528,
          4.580194718583529,
          4.579465217185481,
          4.578723798976606,
          4.577970482385129,
          4.577205285839269,
          4.576428227767254,
          4.575639326597304,
          4.5748386007576425,
          4.574026068676493,
          4.573201748782077,
          4.572365659502621,
          4.5715178192663455,
          4.570658246501476,
          4.56978695963623,
          4.568903977098835,
          4.5680093173175145,
          4.567102998720489,
          4.566185039735982,
          4.565255458792217,
          4.564314274317419,
          4.563361504739809,
          4.562397168487609,
          4.561421283989043,
          4.560433869672336,
          4.559434943965707,
          4.558424525297384,
          4.557402632095585,
          4.556369282788536,
          4.555324495804461,
          4.55426828957158,
          4.553200682518119,
          4.552121693072298,
          4.55103133966234,
          4.549929640716472,
          4.548816614662913,
          4.54769227992989,
          4.546556654945623,
          4.545409758138335,
          4.54425160793625,
          4.54308222276759,
          4.541901621060579,
          4.540709821243441,
          4.539506841744398,
          4.538292700991671,
          4.5370674174134855,
          4.5358310094380645,
          4.5345834954936315,
          4.533324894008407,
          4.532055223410615,
          4.53077450212848,
          4.529482748590224,
          4.528179981224071,
          4.526866218458242,
          4.525541478720962,
          4.524205780440452,
          4.522859142044936,
          4.521501581962639,
          4.520133118621781,
          4.518753770450586,
          4.517363555877279,
          4.515962493330081,
          4.5145506012372145,
          4.513127898026904,
          4.511694402127371,
          4.51025013196684,
          4.508795105973534,
          4.507329342575676,
          4.505852860201487,
          4.504365677279193,
          4.502867812237015,
          4.501359283503177,
          4.499840109505902,
          4.498310308673412,
          4.4967698994339305,
          4.495218900215682,
          4.4936573294468865,
          4.492085205555771,
          4.490502546970554,
          4.488909372119463,
          4.487305699430718,
          4.485691547332544,
          4.484066934253161,
          4.482431878620796,
          4.480786398863669,
          4.479130513410004,
          4.4774642406880245,
          4.475787599125953,
          4.474100607152013,
          4.472403283194426,
          4.470695645681419,
          4.468977713041209,
          4.467249503702023,
          4.465511036092085,
          4.463762328639616,
          4.462003399772838,
          4.460234267919976,
          4.4584549515092515,
          4.456665468968891,
          4.454865838727113,
          4.453056079212144,
          4.451236208852204,
          4.449406246075519,
          4.447566209310309,
          4.4457161169848,
          4.443855987527211,
          4.441985839365771,
          4.440105690928698,
          4.438215560644218,
          4.436315466940552,
          4.434405428245924,
          4.4324854629885575,
          4.430555589596674,
          4.428615826498497,
          4.42666619212225,
          4.424706704896156,
          4.422737383248439,
          4.4207582456073204,
          4.418769310401023,
          4.416770596057772,
          4.414762121005789,
          4.412743903673296,
          4.410715962488517,
          4.408678315879678,
          4.406630982274997,
          4.4045739801027,
          4.4025073277910085,
          4.4004310437681475,
          4.398345146462338,
          4.396249654301804,
          4.394144585714767,
          4.392029959129452,
          4.3899057929740835,
          4.3877721056768815,
          4.38562891566607,
          4.383476241369871,
          4.381314101216509,
          4.379142513634207,
          4.376961497051187,
          4.374771069895674,
          4.372571250595889,
          4.370362057580056,
          4.368143509276398,
          4.365915624113137,
          4.3636784205184975,
          4.361431916920701,
          4.359176131747971,
          4.356911083428531,
          4.354636790390606,
          4.352353271062414,
          4.350060543872183,
          4.347758627248134,
          4.3454475396184895,
          4.343127299411473,
          4.340797925055308,
          4.338459434978216,
          4.336111847608423,
          4.3337551813741495,
          4.331389454703619,
          4.3290146860250545,
          4.326630893766679,
          4.3242380963567175,
          4.32183631222339,
          4.31942555979492,
          4.317005857499533,
          4.31457722376545,
          4.312139677020893,
          4.3096932356940885,
          4.307237918213257,
          4.3047737430066215,
          4.302300728502406,
          4.299818893128833,
          4.297328255314126,
          4.294828833486507,
          4.2923206460742005,
          4.289803711505427,
          4.287278048208414,
          4.284743674611379,
          4.282200609142549,
          4.279648870230147,
          4.277088476302393,
          4.274519445787513,
          4.271941797113729,
          4.269355548709264,
          4.266760719002339,
          4.2641573264211825,
          4.261545389394011,
          4.25892492634905,
          4.256295955714526,
          4.253658495918659,
          4.25101256538967,
          4.248358182555784,
          4.245695365845227,
          4.243024133686219,
          4.2403445045069805,
          4.23765649673574,
          4.234960128800716,
          4.2322554191301345,
          4.229542386152216,
          4.226821048295188,
          4.224091423987265,
          4.221353531656679,
          4.218607389731649,
          4.215853016640399,
          4.213090430811151,
          4.21031965067213,
          4.2075406946515574,
          4.2047535811776555,
          4.201958328678648,
          4.199154955582758,
          4.19634348031821,
          4.193523921313225,
          4.190696296996027,
          4.187860625794839,
          4.185016926137884,
          4.182165216453385,
          4.179305515169563,
          4.176437840714646,
          4.1735622115168525,
          4.170678646004406,
          4.167787162605533,
          4.164887779748452,
          4.161980515861389,
          4.159065389372564,
          4.156142418710205,
          4.153211622302532,
          4.150273018577767,
          4.147326625964134,
          4.144372462889855,
          4.141410547783159,
          4.138440899072259
         ]
        }
       ],
       "layout": {
        "height": 800,
        "legend": {
         "title": {
          "text": "Label"
         },
         "tracegroupgap": 0
        },
        "margin": {
         "t": 60
        },
        "template": {
         "data": {
          "bar": [
           {
            "error_x": {
             "color": "#f2f5fa"
            },
            "error_y": {
             "color": "#f2f5fa"
            },
            "marker": {
             "line": {
              "color": "rgb(17,17,17)",
              "width": 0.5
             },
             "pattern": {
              "fillmode": "overlay",
              "size": 10,
              "solidity": 0.2
             }
            },
            "type": "bar"
           }
          ],
          "barpolar": [
           {
            "marker": {
             "line": {
              "color": "rgb(17,17,17)",
              "width": 0.5
             },
             "pattern": {
              "fillmode": "overlay",
              "size": 10,
              "solidity": 0.2
             }
            },
            "type": "barpolar"
           }
          ],
          "carpet": [
           {
            "aaxis": {
             "endlinecolor": "#A2B1C6",
             "gridcolor": "#506784",
             "linecolor": "#506784",
             "minorgridcolor": "#506784",
             "startlinecolor": "#A2B1C6"
            },
            "baxis": {
             "endlinecolor": "#A2B1C6",
             "gridcolor": "#506784",
             "linecolor": "#506784",
             "minorgridcolor": "#506784",
             "startlinecolor": "#A2B1C6"
            },
            "type": "carpet"
           }
          ],
          "choropleth": [
           {
            "colorbar": {
             "outlinewidth": 0,
             "ticks": ""
            },
            "type": "choropleth"
           }
          ],
          "contour": [
           {
            "colorbar": {
             "outlinewidth": 0,
             "ticks": ""
            },
            "colorscale": [
             [
              0,
              "#0d0887"
             ],
             [
              0.1111111111111111,
              "#46039f"
             ],
             [
              0.2222222222222222,
              "#7201a8"
             ],
             [
              0.3333333333333333,
              "#9c179e"
             ],
             [
              0.4444444444444444,
              "#bd3786"
             ],
             [
              0.5555555555555556,
              "#d8576b"
             ],
             [
              0.6666666666666666,
              "#ed7953"
             ],
             [
              0.7777777777777778,
              "#fb9f3a"
             ],
             [
              0.8888888888888888,
              "#fdca26"
             ],
             [
              1,
              "#f0f921"
             ]
            ],
            "type": "contour"
           }
          ],
          "contourcarpet": [
           {
            "colorbar": {
             "outlinewidth": 0,
             "ticks": ""
            },
            "type": "contourcarpet"
           }
          ],
          "heatmap": [
           {
            "colorbar": {
             "outlinewidth": 0,
             "ticks": ""
            },
            "colorscale": [
             [
              0,
              "#0d0887"
             ],
             [
              0.1111111111111111,
              "#46039f"
             ],
             [
              0.2222222222222222,
              "#7201a8"
             ],
             [
              0.3333333333333333,
              "#9c179e"
             ],
             [
              0.4444444444444444,
              "#bd3786"
             ],
             [
              0.5555555555555556,
              "#d8576b"
             ],
             [
              0.6666666666666666,
              "#ed7953"
             ],
             [
              0.7777777777777778,
              "#fb9f3a"
             ],
             [
              0.8888888888888888,
              "#fdca26"
             ],
             [
              1,
              "#f0f921"
             ]
            ],
            "type": "heatmap"
           }
          ],
          "heatmapgl": [
           {
            "colorbar": {
             "outlinewidth": 0,
             "ticks": ""
            },
            "colorscale": [
             [
              0,
              "#0d0887"
             ],
             [
              0.1111111111111111,
              "#46039f"
             ],
             [
              0.2222222222222222,
              "#7201a8"
             ],
             [
              0.3333333333333333,
              "#9c179e"
             ],
             [
              0.4444444444444444,
              "#bd3786"
             ],
             [
              0.5555555555555556,
              "#d8576b"
             ],
             [
              0.6666666666666666,
              "#ed7953"
             ],
             [
              0.7777777777777778,
              "#fb9f3a"
             ],
             [
              0.8888888888888888,
              "#fdca26"
             ],
             [
              1,
              "#f0f921"
             ]
            ],
            "type": "heatmapgl"
           }
          ],
          "histogram": [
           {
            "marker": {
             "pattern": {
              "fillmode": "overlay",
              "size": 10,
              "solidity": 0.2
             }
            },
            "type": "histogram"
           }
          ],
          "histogram2d": [
           {
            "colorbar": {
             "outlinewidth": 0,
             "ticks": ""
            },
            "colorscale": [
             [
              0,
              "#0d0887"
             ],
             [
              0.1111111111111111,
              "#46039f"
             ],
             [
              0.2222222222222222,
              "#7201a8"
             ],
             [
              0.3333333333333333,
              "#9c179e"
             ],
             [
              0.4444444444444444,
              "#bd3786"
             ],
             [
              0.5555555555555556,
              "#d8576b"
             ],
             [
              0.6666666666666666,
              "#ed7953"
             ],
             [
              0.7777777777777778,
              "#fb9f3a"
             ],
             [
              0.8888888888888888,
              "#fdca26"
             ],
             [
              1,
              "#f0f921"
             ]
            ],
            "type": "histogram2d"
           }
          ],
          "histogram2dcontour": [
           {
            "colorbar": {
             "outlinewidth": 0,
             "ticks": ""
            },
            "colorscale": [
             [
              0,
              "#0d0887"
             ],
             [
              0.1111111111111111,
              "#46039f"
             ],
             [
              0.2222222222222222,
              "#7201a8"
             ],
             [
              0.3333333333333333,
              "#9c179e"
             ],
             [
              0.4444444444444444,
              "#bd3786"
             ],
             [
              0.5555555555555556,
              "#d8576b"
             ],
             [
              0.6666666666666666,
              "#ed7953"
             ],
             [
              0.7777777777777778,
              "#fb9f3a"
             ],
             [
              0.8888888888888888,
              "#fdca26"
             ],
             [
              1,
              "#f0f921"
             ]
            ],
            "type": "histogram2dcontour"
           }
          ],
          "mesh3d": [
           {
            "colorbar": {
             "outlinewidth": 0,
             "ticks": ""
            },
            "type": "mesh3d"
           }
          ],
          "parcoords": [
           {
            "line": {
             "colorbar": {
              "outlinewidth": 0,
              "ticks": ""
             }
            },
            "type": "parcoords"
           }
          ],
          "pie": [
           {
            "automargin": true,
            "type": "pie"
           }
          ],
          "scatter": [
           {
            "marker": {
             "line": {
              "color": "#283442"
             }
            },
            "type": "scatter"
           }
          ],
          "scatter3d": [
           {
            "line": {
             "colorbar": {
              "outlinewidth": 0,
              "ticks": ""
             }
            },
            "marker": {
             "colorbar": {
              "outlinewidth": 0,
              "ticks": ""
             }
            },
            "type": "scatter3d"
           }
          ],
          "scattercarpet": [
           {
            "marker": {
             "colorbar": {
              "outlinewidth": 0,
              "ticks": ""
             }
            },
            "type": "scattercarpet"
           }
          ],
          "scattergeo": [
           {
            "marker": {
             "colorbar": {
              "outlinewidth": 0,
              "ticks": ""
             }
            },
            "type": "scattergeo"
           }
          ],
          "scattergl": [
           {
            "marker": {
             "line": {
              "color": "#283442"
             }
            },
            "type": "scattergl"
           }
          ],
          "scattermapbox": [
           {
            "marker": {
             "colorbar": {
              "outlinewidth": 0,
              "ticks": ""
             }
            },
            "type": "scattermapbox"
           }
          ],
          "scatterpolar": [
           {
            "marker": {
             "colorbar": {
              "outlinewidth": 0,
              "ticks": ""
             }
            },
            "type": "scatterpolar"
           }
          ],
          "scatterpolargl": [
           {
            "marker": {
             "colorbar": {
              "outlinewidth": 0,
              "ticks": ""
             }
            },
            "type": "scatterpolargl"
           }
          ],
          "scatterternary": [
           {
            "marker": {
             "colorbar": {
              "outlinewidth": 0,
              "ticks": ""
             }
            },
            "type": "scatterternary"
           }
          ],
          "surface": [
           {
            "colorbar": {
             "outlinewidth": 0,
             "ticks": ""
            },
            "colorscale": [
             [
              0,
              "#0d0887"
             ],
             [
              0.1111111111111111,
              "#46039f"
             ],
             [
              0.2222222222222222,
              "#7201a8"
             ],
             [
              0.3333333333333333,
              "#9c179e"
             ],
             [
              0.4444444444444444,
              "#bd3786"
             ],
             [
              0.5555555555555556,
              "#d8576b"
             ],
             [
              0.6666666666666666,
              "#ed7953"
             ],
             [
              0.7777777777777778,
              "#fb9f3a"
             ],
             [
              0.8888888888888888,
              "#fdca26"
             ],
             [
              1,
              "#f0f921"
             ]
            ],
            "type": "surface"
           }
          ],
          "table": [
           {
            "cells": {
             "fill": {
              "color": "#506784"
             },
             "line": {
              "color": "rgb(17,17,17)"
             }
            },
            "header": {
             "fill": {
              "color": "#2a3f5f"
             },
             "line": {
              "color": "rgb(17,17,17)"
             }
            },
            "type": "table"
           }
          ]
         },
         "layout": {
          "annotationdefaults": {
           "arrowcolor": "#f2f5fa",
           "arrowhead": 0,
           "arrowwidth": 1
          },
          "autotypenumbers": "strict",
          "coloraxis": {
           "colorbar": {
            "outlinewidth": 0,
            "ticks": ""
           }
          },
          "colorscale": {
           "diverging": [
            [
             0,
             "#8e0152"
            ],
            [
             0.1,
             "#c51b7d"
            ],
            [
             0.2,
             "#de77ae"
            ],
            [
             0.3,
             "#f1b6da"
            ],
            [
             0.4,
             "#fde0ef"
            ],
            [
             0.5,
             "#f7f7f7"
            ],
            [
             0.6,
             "#e6f5d0"
            ],
            [
             0.7,
             "#b8e186"
            ],
            [
             0.8,
             "#7fbc41"
            ],
            [
             0.9,
             "#4d9221"
            ],
            [
             1,
             "#276419"
            ]
           ],
           "sequential": [
            [
             0,
             "#0d0887"
            ],
            [
             0.1111111111111111,
             "#46039f"
            ],
            [
             0.2222222222222222,
             "#7201a8"
            ],
            [
             0.3333333333333333,
             "#9c179e"
            ],
            [
             0.4444444444444444,
             "#bd3786"
            ],
            [
             0.5555555555555556,
             "#d8576b"
            ],
            [
             0.6666666666666666,
             "#ed7953"
            ],
            [
             0.7777777777777778,
             "#fb9f3a"
            ],
            [
             0.8888888888888888,
             "#fdca26"
            ],
            [
             1,
             "#f0f921"
            ]
           ],
           "sequentialminus": [
            [
             0,
             "#0d0887"
            ],
            [
             0.1111111111111111,
             "#46039f"
            ],
            [
             0.2222222222222222,
             "#7201a8"
            ],
            [
             0.3333333333333333,
             "#9c179e"
            ],
            [
             0.4444444444444444,
             "#bd3786"
            ],
            [
             0.5555555555555556,
             "#d8576b"
            ],
            [
             0.6666666666666666,
             "#ed7953"
            ],
            [
             0.7777777777777778,
             "#fb9f3a"
            ],
            [
             0.8888888888888888,
             "#fdca26"
            ],
            [
             1,
             "#f0f921"
            ]
           ]
          },
          "colorway": [
           "#636efa",
           "#EF553B",
           "#00cc96",
           "#ab63fa",
           "#FFA15A",
           "#19d3f3",
           "#FF6692",
           "#B6E880",
           "#FF97FF",
           "#FECB52"
          ],
          "font": {
           "color": "#f2f5fa"
          },
          "geo": {
           "bgcolor": "rgb(17,17,17)",
           "lakecolor": "rgb(17,17,17)",
           "landcolor": "rgb(17,17,17)",
           "showlakes": true,
           "showland": true,
           "subunitcolor": "#506784"
          },
          "hoverlabel": {
           "align": "left"
          },
          "hovermode": "closest",
          "mapbox": {
           "style": "dark"
          },
          "paper_bgcolor": "rgb(17,17,17)",
          "plot_bgcolor": "rgb(17,17,17)",
          "polar": {
           "angularaxis": {
            "gridcolor": "#506784",
            "linecolor": "#506784",
            "ticks": ""
           },
           "bgcolor": "rgb(17,17,17)",
           "radialaxis": {
            "gridcolor": "#506784",
            "linecolor": "#506784",
            "ticks": ""
           }
          },
          "scene": {
           "xaxis": {
            "backgroundcolor": "rgb(17,17,17)",
            "gridcolor": "#506784",
            "gridwidth": 2,
            "linecolor": "#506784",
            "showbackground": true,
            "ticks": "",
            "zerolinecolor": "#C8D4E3"
           },
           "yaxis": {
            "backgroundcolor": "rgb(17,17,17)",
            "gridcolor": "#506784",
            "gridwidth": 2,
            "linecolor": "#506784",
            "showbackground": true,
            "ticks": "",
            "zerolinecolor": "#C8D4E3"
           },
           "zaxis": {
            "backgroundcolor": "rgb(17,17,17)",
            "gridcolor": "#506784",
            "gridwidth": 2,
            "linecolor": "#506784",
            "showbackground": true,
            "ticks": "",
            "zerolinecolor": "#C8D4E3"
           }
          },
          "shapedefaults": {
           "line": {
            "color": "#f2f5fa"
           }
          },
          "sliderdefaults": {
           "bgcolor": "#C8D4E3",
           "bordercolor": "rgb(17,17,17)",
           "borderwidth": 1,
           "tickwidth": 0
          },
          "ternary": {
           "aaxis": {
            "gridcolor": "#506784",
            "linecolor": "#506784",
            "ticks": ""
           },
           "baxis": {
            "gridcolor": "#506784",
            "linecolor": "#506784",
            "ticks": ""
           },
           "bgcolor": "rgb(17,17,17)",
           "caxis": {
            "gridcolor": "#506784",
            "linecolor": "#506784",
            "ticks": ""
           }
          },
          "title": {
           "x": 0.05
          },
          "updatemenudefaults": {
           "bgcolor": "#506784",
           "borderwidth": 0
          },
          "xaxis": {
           "automargin": true,
           "gridcolor": "#283442",
           "linecolor": "#506784",
           "ticks": "",
           "title": {
            "standoff": 15
           },
           "zerolinecolor": "#283442",
           "zerolinewidth": 2
          },
          "yaxis": {
           "automargin": true,
           "gridcolor": "#283442",
           "linecolor": "#506784",
           "ticks": "",
           "title": {
            "standoff": 15
           },
           "zerolinecolor": "#283442",
           "zerolinewidth": 2
          }
         }
        },
        "title": {
         "text": "Market Observed Bill & C-STRIP YTMs - As of: 2024-08-29"
        },
        "width": 1400,
        "xaxis": {
         "anchor": "y",
         "domain": [
          0,
          1
         ],
         "showgrid": true,
         "showspikes": true,
         "spikecolor": "white",
         "spikemode": "across",
         "spikesnap": "cursor",
         "title": {
          "text": "Time to Maturity (Years)"
         }
        },
        "yaxis": {
         "anchor": "x",
         "domain": [
          0,
          1
         ],
         "showgrid": true,
         "showspikes": true,
         "spikecolor": "white",
         "spikethickness": 1,
         "title": {
          "text": "YTMs: eod_yield"
         }
        }
       }
      }
     },
     "metadata": {},
     "output_type": "display_data"
    }
   ],
   "source": [
    "fig = px.scatter(\n",
    "    cstrips_quote_df,\n",
    "    x=\"time_to_maturity\",\n",
    "    y=\"cstrip_ytm\",\n",
    "    hover_data=[\"label\", \"cusip\"],\n",
    "    labels={\"time_to_maturity\": \"Time to Maturity (Years)\", \"cstrip_ytm\": \"YTM\"},\n",
    ")\n",
    "fig.update_traces(\n",
    "    marker=dict(\n",
    "        color=\"red\",\n",
    "    ),\n",
    "    name=\"CSTRIPS\",\n",
    "    showlegend=True,\n",
    ")\n",
    "\n",
    "fig2 = px.scatter(\n",
    "    tbill_quotes_df,\n",
    "    x=\"time_to_maturity\",\n",
    "    y=\"tbill_ytm\",\n",
    "    hover_data=[\"label\", \"cusip\"],\n",
    "    labels={\n",
    "        \"time_to_maturity\": \"Time to Maturity (Years)\",\n",
    "        \"tbill_ytm\": \"YTM\",\n",
    "    },\n",
    ")\n",
    "fig2.update_traces(\n",
    "    marker=dict(\n",
    "        color=\"green\",\n",
    "    ),\n",
    "    name=\"Bills\",\n",
    "    showlegend=True,\n",
    ")\n",
    "for trace in fig2.data:\n",
    "    fig.add_trace(trace)\n",
    "\n",
    "\n",
    "\n",
    "fig.add_trace(\n",
    "    go.Scatter(\n",
    "        x=ttm_interp,\n",
    "        y=curve_interpolator.univariate_spline(s=0.33, return_func=True)(ttm_interp),\n",
    "        mode=\"lines\",\n",
    "\n",
    "        line=dict(\n",
    "            color=\"blue\",\n",
    "\n",
    "        ),\n",
    "        name=\"UniSpline (Cubic)\",\n",
    "    )\n",
    ")\n",
    "fig.add_trace(\n",
    "    go.Scatter(\n",
    "        x=ttm_interp,\n",
    "        y=curve_interpolator.b_spline_with_knots_interpolation(\n",
    "            knots=[0.25, 0.33, 0.5, 1, 2, 3, 5, 7, 10, 20], k=3, return_func=True\n",
    "        )(ttm_interp),\n",
    "        mode=\"lines\",\n",
    "        line=dict(\n",
    "            color=\"yellow\",\n",
    "        ),\n",
    "        name=\"BSpline 1\",\n",
    "    )\n",
    ")\n",
    "\n",
    "fig.update_layout(\n",
    "    title=f\"Market Observed Bill & C-STRIP YTMs - As of: {as_of_date.date()}\",\n",
    "    legend_title_text=\"Label\",\n",
    "    xaxis_title=\"Time to Maturity (Years)\",\n",
    "    yaxis_title=f\"YTMs: {quote_type}_yield\",\n",
    "    width=1400,\n",
    "    height=800,\n",
    "    template=\"plotly_dark\",\n",
    ")\n",
    "\n",
    "fig.update_xaxes(\n",
    "    showgrid=True,\n",
    "    showspikes=True,\n",
    "    spikecolor=\"white\",\n",
    "    spikesnap=\"cursor\",\n",
    "    spikemode=\"across\",\n",
    ")\n",
    "\n",
    "\n",
    "fig.update_yaxes(showgrid=True, showspikes=True, spikecolor=\"white\", spikethickness=1)\n",
    "fig.show()"
   ]
  }
 ],
 "metadata": {
  "kernelspec": {
   "display_name": "Python 3",
   "language": "python",
   "name": "python3"
  },
  "language_info": {
   "codemirror_mode": {
    "name": "ipython",
    "version": 3
   },
   "file_extension": ".py",
   "mimetype": "text/x-python",
   "name": "python",
   "nbconvert_exporter": "python",
   "pygments_lexer": "ipython3",
   "version": "3.12.1"
  }
 },
 "nbformat": 4,
 "nbformat_minor": 2
}
