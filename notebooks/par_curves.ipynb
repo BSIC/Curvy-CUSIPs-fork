{
 "cells": [
  {
   "cell_type": "markdown",
   "metadata": {},
   "source": [
    "# Building a Par Curve in Curvy-CUSIPs"
   ]
  },
  {
   "cell_type": "code",
   "execution_count": 1,
   "metadata": {},
   "outputs": [],
   "source": [
    "import sys\n",
    "sys.path.append(\"../\")"
   ]
  },
  {
   "cell_type": "code",
   "execution_count": 23,
   "metadata": {},
   "outputs": [
    {
     "name": "stdout",
     "output_type": "stream",
     "text": [
      "The autoreload extension is already loaded. To reload it, use:\n",
      "  %reload_ext autoreload\n"
     ]
    }
   ],
   "source": [
    "from CurvyCUSIPs.CurveDataFetcher import CurveDataFetcher\n",
    "from CurvyCUSIPs.CurveInterpolator import GeneralCurveInterpolator\n",
    "from CurvyCUSIPs.USTs import USTs\n",
    "from CurvyCUSIPs.utils.ust_viz import plot_usts\n",
    "\n",
    "from datetime import datetime\n",
    "import pandas as pd\n",
    "\n",
    "import matplotlib.pyplot as plt\n",
    "import matplotlib.pylab as pylab\n",
    "plt.style.use('ggplot')\n",
    "params = {'legend.fontsize': 'x-large',\n",
    "        'figure.figsize': (18, 10),\n",
    "        'axes.labelsize': 'x-large',\n",
    "        'axes.titlesize':'x-large',\n",
    "        'xtick.labelsize':'x-large',\n",
    "        'ytick.labelsize':'x-large'}\n",
    "pylab.rcParams.update(params)\n",
    "\n",
    "import os\n",
    "from dotenv import dotenv_values\n",
    "env_path = os.path.join(os.getcwd(), \"../.env\")\n",
    "config = dotenv_values(env_path)\n",
    "\n",
    "import nest_asyncio\n",
    "nest_asyncio.apply()\n",
    "\n",
    "import warnings\n",
    "warnings.filterwarnings('ignore', category=FutureWarning)\n",
    "warnings.filterwarnings('ignore', category=pd.errors.SettingWithCopyWarning)\n",
    "\n",
    "%load_ext autoreload\n",
    "%autoreload 2"
   ]
  },
  {
   "cell_type": "code",
   "execution_count": 3,
   "metadata": {},
   "outputs": [],
   "source": [
    "curve_data_fetcher = CurveDataFetcher(fred_api_key=config[\"FRED_API_KEY\"])"
   ]
  },
  {
   "cell_type": "code",
   "execution_count": 4,
   "metadata": {},
   "outputs": [],
   "source": [
    "usts = USTs(\n",
    "    cusip_set_db_path=r\"..\\db\\ust_cusip_set\",\n",
    "    cusip_timeseries_db_path=r\"..\\db\\ust_cusip_timeseries\",\n",
    "    ct_eod_db_path=r\"..\\db\\ust_eod_ct_yields\",\n",
    "    curve_data_fetcher=curve_data_fetcher,\n",
    ")"
   ]
  },
  {
   "cell_type": "code",
   "execution_count": 19,
   "metadata": {},
   "outputs": [
    {
     "name": "stderr",
     "output_type": "stream",
     "text": [
      "FETCHING CURVE SETS...: 100%|██████████| 4/4 [00:00<00:00,  6.34it/s]\n",
      "AGGREGATING CURVE SET DFs: 100%|██████████| 1/1 [00:00<00:00, 27.84it/s]\n"
     ]
    },
    {
     "data": {
      "text/html": [
       "<div>\n",
       "<style scoped>\n",
       "    .dataframe tbody tr th:only-of-type {\n",
       "        vertical-align: middle;\n",
       "    }\n",
       "\n",
       "    .dataframe tbody tr th {\n",
       "        vertical-align: top;\n",
       "    }\n",
       "\n",
       "    .dataframe thead th {\n",
       "        text-align: right;\n",
       "    }\n",
       "</style>\n",
       "<table border=\"1\" class=\"dataframe\">\n",
       "  <thead>\n",
       "    <tr style=\"text-align: right;\">\n",
       "      <th></th>\n",
       "      <th>cusip</th>\n",
       "      <th>security_type</th>\n",
       "      <th>auction_date</th>\n",
       "      <th>issue_date</th>\n",
       "      <th>maturity_date</th>\n",
       "      <th>price_per100</th>\n",
       "      <th>allocation_pctage</th>\n",
       "      <th>avg_med_yield</th>\n",
       "      <th>bid_to_cover_ratio</th>\n",
       "      <th>comp_accepted</th>\n",
       "      <th>...</th>\n",
       "      <th>percentOutstanding</th>\n",
       "      <th>est_outstanding_amt</th>\n",
       "      <th>corpus_cusip_right</th>\n",
       "      <th>outstanding_amt</th>\n",
       "      <th>portion_unstripped_amt</th>\n",
       "      <th>portion_stripped_amt</th>\n",
       "      <th>reconstituted_amt</th>\n",
       "      <th>time_to_maturity</th>\n",
       "      <th>rank</th>\n",
       "      <th>free_float</th>\n",
       "    </tr>\n",
       "  </thead>\n",
       "  <tbody>\n",
       "    <tr>\n",
       "      <th>0</th>\n",
       "      <td>912797LF2</td>\n",
       "      <td>Bill</td>\n",
       "      <td>2024-09-03</td>\n",
       "      <td>2024-09-05</td>\n",
       "      <td>2024-12-05</td>\n",
       "      <td>98.743694</td>\n",
       "      <td>18.520000</td>\n",
       "      <td>null</td>\n",
       "      <td>2.620000</td>\n",
       "      <td>73568807100</td>\n",
       "      <td>...</td>\n",
       "      <td>0.007245</td>\n",
       "      <td>2.276364e+14</td>\n",
       "      <td>None</td>\n",
       "      <td>NaN</td>\n",
       "      <td>NaN</td>\n",
       "      <td>0.000000e+00</td>\n",
       "      <td>NaN</td>\n",
       "      <td>0.002740</td>\n",
       "      <td>19</td>\n",
       "      <td>2.276347e+08</td>\n",
       "    </tr>\n",
       "    <tr>\n",
       "      <th>1</th>\n",
       "      <td>912797MN4</td>\n",
       "      <td>Bill</td>\n",
       "      <td>2024-11-07</td>\n",
       "      <td>2024-11-12</td>\n",
       "      <td>2024-12-10</td>\n",
       "      <td>99.648833</td>\n",
       "      <td>20.190000</td>\n",
       "      <td>null</td>\n",
       "      <td>2.630000</td>\n",
       "      <td>88700873600</td>\n",
       "      <td>...</td>\n",
       "      <td>0.003045</td>\n",
       "      <td>2.457342e+14</td>\n",
       "      <td>None</td>\n",
       "      <td>NaN</td>\n",
       "      <td>NaN</td>\n",
       "      <td>0.000000e+00</td>\n",
       "      <td>NaN</td>\n",
       "      <td>0.016438</td>\n",
       "      <td>16</td>\n",
       "      <td>2.457334e+08</td>\n",
       "    </tr>\n",
       "    <tr>\n",
       "      <th>2</th>\n",
       "      <td>912797LP0</td>\n",
       "      <td>Bill</td>\n",
       "      <td>2024-09-09</td>\n",
       "      <td>2024-09-12</td>\n",
       "      <td>2024-12-12</td>\n",
       "      <td>98.762653</td>\n",
       "      <td>37.150000</td>\n",
       "      <td>null</td>\n",
       "      <td>3.220000</td>\n",
       "      <td>73310628000</td>\n",
       "      <td>...</td>\n",
       "      <td>0.010720</td>\n",
       "      <td>2.284207e+14</td>\n",
       "      <td>None</td>\n",
       "      <td>NaN</td>\n",
       "      <td>NaN</td>\n",
       "      <td>0.000000e+00</td>\n",
       "      <td>NaN</td>\n",
       "      <td>0.021918</td>\n",
       "      <td>18</td>\n",
       "      <td>2.284183e+08</td>\n",
       "    </tr>\n",
       "    <tr>\n",
       "      <th>3</th>\n",
       "      <td>912797MP9</td>\n",
       "      <td>Bill</td>\n",
       "      <td>2024-11-14</td>\n",
       "      <td>2024-11-19</td>\n",
       "      <td>2024-12-17</td>\n",
       "      <td>99.649222</td>\n",
       "      <td>95.020000</td>\n",
       "      <td>null</td>\n",
       "      <td>2.770000</td>\n",
       "      <td>88394442900</td>\n",
       "      <td>...</td>\n",
       "      <td>0.003034</td>\n",
       "      <td>2.457042e+14</td>\n",
       "      <td>None</td>\n",
       "      <td>NaN</td>\n",
       "      <td>NaN</td>\n",
       "      <td>0.000000e+00</td>\n",
       "      <td>NaN</td>\n",
       "      <td>0.035616</td>\n",
       "      <td>15</td>\n",
       "      <td>2.457035e+08</td>\n",
       "    </tr>\n",
       "    <tr>\n",
       "      <th>4</th>\n",
       "      <td>912797LQ8</td>\n",
       "      <td>Bill</td>\n",
       "      <td>2024-09-16</td>\n",
       "      <td>2024-09-19</td>\n",
       "      <td>2024-12-19</td>\n",
       "      <td>98.799306</td>\n",
       "      <td>86.170000</td>\n",
       "      <td>null</td>\n",
       "      <td>2.610000</td>\n",
       "      <td>73418977000</td>\n",
       "      <td>...</td>\n",
       "      <td>0.002645</td>\n",
       "      <td>2.265776e+14</td>\n",
       "      <td>None</td>\n",
       "      <td>NaN</td>\n",
       "      <td>NaN</td>\n",
       "      <td>0.000000e+00</td>\n",
       "      <td>NaN</td>\n",
       "      <td>0.041096</td>\n",
       "      <td>17</td>\n",
       "      <td>2.265770e+08</td>\n",
       "    </tr>\n",
       "    <tr>\n",
       "      <th>...</th>\n",
       "      <td>...</td>\n",
       "      <td>...</td>\n",
       "      <td>...</td>\n",
       "      <td>...</td>\n",
       "      <td>...</td>\n",
       "      <td>...</td>\n",
       "      <td>...</td>\n",
       "      <td>...</td>\n",
       "      <td>...</td>\n",
       "      <td>...</td>\n",
       "      <td>...</td>\n",
       "      <td>...</td>\n",
       "      <td>...</td>\n",
       "      <td>...</td>\n",
       "      <td>...</td>\n",
       "      <td>...</td>\n",
       "      <td>...</td>\n",
       "      <td>...</td>\n",
       "      <td>...</td>\n",
       "      <td>...</td>\n",
       "      <td>...</td>\n",
       "    </tr>\n",
       "    <tr>\n",
       "      <th>390</th>\n",
       "      <td>912810TV0</td>\n",
       "      <td>Bond</td>\n",
       "      <td>2024-01-11</td>\n",
       "      <td>2024-01-16</td>\n",
       "      <td>2053-11-15</td>\n",
       "      <td>108.773246</td>\n",
       "      <td>25.590000</td>\n",
       "      <td>4.160000</td>\n",
       "      <td>2.370000</td>\n",
       "      <td>20966180200</td>\n",
       "      <td>...</td>\n",
       "      <td>0.006874</td>\n",
       "      <td>6.644364e+13</td>\n",
       "      <td>912803GW7</td>\n",
       "      <td>66443644.6</td>\n",
       "      <td>55436265.5</td>\n",
       "      <td>1.100738e+10</td>\n",
       "      <td>1644240.0</td>\n",
       "      <td>28.967123</td>\n",
       "      <td>4</td>\n",
       "      <td>6.643218e+07</td>\n",
       "    </tr>\n",
       "    <tr>\n",
       "      <th>391</th>\n",
       "      <td>912810TX6</td>\n",
       "      <td>Bond</td>\n",
       "      <td>2024-04-11</td>\n",
       "      <td>2024-04-15</td>\n",
       "      <td>2054-02-15</td>\n",
       "      <td>93.249005</td>\n",
       "      <td>58.230000</td>\n",
       "      <td>4.608000</td>\n",
       "      <td>2.370000</td>\n",
       "      <td>21977492400</td>\n",
       "      <td>...</td>\n",
       "      <td>0.031064</td>\n",
       "      <td>7.119879e+13</td>\n",
       "      <td>912803GY3</td>\n",
       "      <td>71198791.3</td>\n",
       "      <td>55397763.4</td>\n",
       "      <td>1.580103e+10</td>\n",
       "      <td>418557.0</td>\n",
       "      <td>29.219178</td>\n",
       "      <td>3</td>\n",
       "      <td>7.118078e+07</td>\n",
       "    </tr>\n",
       "    <tr>\n",
       "      <th>392</th>\n",
       "      <td>912810UA4</td>\n",
       "      <td>Bond</td>\n",
       "      <td>2024-07-11</td>\n",
       "      <td>2024-07-15</td>\n",
       "      <td>2054-05-15</td>\n",
       "      <td>103.622071</td>\n",
       "      <td>88.800000</td>\n",
       "      <td>4.327000</td>\n",
       "      <td>2.300000</td>\n",
       "      <td>21966950000</td>\n",
       "      <td>...</td>\n",
       "      <td>0.097202</td>\n",
       "      <td>7.642080e+13</td>\n",
       "      <td>912803HB2</td>\n",
       "      <td>76420803.5</td>\n",
       "      <td>66329682.8</td>\n",
       "      <td>1.009112e+10</td>\n",
       "      <td>1093800.0</td>\n",
       "      <td>29.463014</td>\n",
       "      <td>2</td>\n",
       "      <td>7.640328e+07</td>\n",
       "    </tr>\n",
       "    <tr>\n",
       "      <th>393</th>\n",
       "      <td>912810UC0</td>\n",
       "      <td>Bond</td>\n",
       "      <td>2024-10-10</td>\n",
       "      <td>2024-10-15</td>\n",
       "      <td>2054-08-15</td>\n",
       "      <td>97.689969</td>\n",
       "      <td>14.830000</td>\n",
       "      <td>4.320000</td>\n",
       "      <td>2.500000</td>\n",
       "      <td>21973803500</td>\n",
       "      <td>...</td>\n",
       "      <td>0.070914</td>\n",
       "      <td>7.426681e+13</td>\n",
       "      <td>912803HD8</td>\n",
       "      <td>74266805.2</td>\n",
       "      <td>63461282.4</td>\n",
       "      <td>1.080552e+10</td>\n",
       "      <td>649940.0</td>\n",
       "      <td>29.715068</td>\n",
       "      <td>1</td>\n",
       "      <td>7.425073e+07</td>\n",
       "    </tr>\n",
       "    <tr>\n",
       "      <th>394</th>\n",
       "      <td>912810UE6</td>\n",
       "      <td>Bond</td>\n",
       "      <td>2024-11-06</td>\n",
       "      <td>2024-11-15</td>\n",
       "      <td>2054-11-15</td>\n",
       "      <td>98.253773</td>\n",
       "      <td>13.020000</td>\n",
       "      <td>4.565000</td>\n",
       "      <td>2.640000</td>\n",
       "      <td>24945620800</td>\n",
       "      <td>...</td>\n",
       "      <td>0.195529</td>\n",
       "      <td>3.107303e+13</td>\n",
       "      <td>None</td>\n",
       "      <td>NaN</td>\n",
       "      <td>NaN</td>\n",
       "      <td>0.000000e+00</td>\n",
       "      <td>NaN</td>\n",
       "      <td>29.967123</td>\n",
       "      <td>0</td>\n",
       "      <td>3.106696e+07</td>\n",
       "    </tr>\n",
       "  </tbody>\n",
       "</table>\n",
       "<p>395 rows × 76 columns</p>\n",
       "</div>"
      ],
      "text/plain": [
       "         cusip security_type auction_date issue_date maturity_date  \\\n",
       "0    912797LF2          Bill   2024-09-03 2024-09-05    2024-12-05   \n",
       "1    912797MN4          Bill   2024-11-07 2024-11-12    2024-12-10   \n",
       "2    912797LP0          Bill   2024-09-09 2024-09-12    2024-12-12   \n",
       "3    912797MP9          Bill   2024-11-14 2024-11-19    2024-12-17   \n",
       "4    912797LQ8          Bill   2024-09-16 2024-09-19    2024-12-19   \n",
       "..         ...           ...          ...        ...           ...   \n",
       "390  912810TV0          Bond   2024-01-11 2024-01-16    2053-11-15   \n",
       "391  912810TX6          Bond   2024-04-11 2024-04-15    2054-02-15   \n",
       "392  912810UA4          Bond   2024-07-11 2024-07-15    2054-05-15   \n",
       "393  912810UC0          Bond   2024-10-10 2024-10-15    2054-08-15   \n",
       "394  912810UE6          Bond   2024-11-06 2024-11-15    2054-11-15   \n",
       "\n",
       "    price_per100 allocation_pctage avg_med_yield bid_to_cover_ratio  \\\n",
       "0      98.743694         18.520000          null           2.620000   \n",
       "1      99.648833         20.190000          null           2.630000   \n",
       "2      98.762653         37.150000          null           3.220000   \n",
       "3      99.649222         95.020000          null           2.770000   \n",
       "4      98.799306         86.170000          null           2.610000   \n",
       "..           ...               ...           ...                ...   \n",
       "390   108.773246         25.590000      4.160000           2.370000   \n",
       "391    93.249005         58.230000      4.608000           2.370000   \n",
       "392   103.622071         88.800000      4.327000           2.300000   \n",
       "393    97.689969         14.830000      4.320000           2.500000   \n",
       "394    98.253773         13.020000      4.565000           2.640000   \n",
       "\n",
       "    comp_accepted  ... percentOutstanding est_outstanding_amt  \\\n",
       "0     73568807100  ...           0.007245        2.276364e+14   \n",
       "1     88700873600  ...           0.003045        2.457342e+14   \n",
       "2     73310628000  ...           0.010720        2.284207e+14   \n",
       "3     88394442900  ...           0.003034        2.457042e+14   \n",
       "4     73418977000  ...           0.002645        2.265776e+14   \n",
       "..            ...  ...                ...                 ...   \n",
       "390   20966180200  ...           0.006874        6.644364e+13   \n",
       "391   21977492400  ...           0.031064        7.119879e+13   \n",
       "392   21966950000  ...           0.097202        7.642080e+13   \n",
       "393   21973803500  ...           0.070914        7.426681e+13   \n",
       "394   24945620800  ...           0.195529        3.107303e+13   \n",
       "\n",
       "    corpus_cusip_right outstanding_amt portion_unstripped_amt  \\\n",
       "0                 None             NaN                    NaN   \n",
       "1                 None             NaN                    NaN   \n",
       "2                 None             NaN                    NaN   \n",
       "3                 None             NaN                    NaN   \n",
       "4                 None             NaN                    NaN   \n",
       "..                 ...             ...                    ...   \n",
       "390          912803GW7      66443644.6             55436265.5   \n",
       "391          912803GY3      71198791.3             55397763.4   \n",
       "392          912803HB2      76420803.5             66329682.8   \n",
       "393          912803HD8      74266805.2             63461282.4   \n",
       "394               None             NaN                    NaN   \n",
       "\n",
       "    portion_stripped_amt reconstituted_amt time_to_maturity rank    free_float  \n",
       "0           0.000000e+00               NaN         0.002740   19  2.276347e+08  \n",
       "1           0.000000e+00               NaN         0.016438   16  2.457334e+08  \n",
       "2           0.000000e+00               NaN         0.021918   18  2.284183e+08  \n",
       "3           0.000000e+00               NaN         0.035616   15  2.457035e+08  \n",
       "4           0.000000e+00               NaN         0.041096   17  2.265770e+08  \n",
       "..                   ...               ...              ...  ...           ...  \n",
       "390         1.100738e+10         1644240.0        28.967123    4  6.643218e+07  \n",
       "391         1.580103e+10          418557.0        29.219178    3  7.118078e+07  \n",
       "392         1.009112e+10         1093800.0        29.463014    2  7.640328e+07  \n",
       "393         1.080552e+10          649940.0        29.715068    1  7.425073e+07  \n",
       "394         0.000000e+00               NaN        29.967123    0  3.106696e+07  \n",
       "\n",
       "[395 rows x 76 columns]"
      ]
     },
     "execution_count": 19,
     "metadata": {},
     "output_type": "execute_result"
    }
   ],
   "source": [
    "as_of_date = datetime(2024, 12, 4) \n",
    "\n",
    "curve_set_df = usts.fetch_historical_curve_sets(\n",
    "    start_date=as_of_date,\n",
    "    end_date=as_of_date,\n",
    "    fetch_soma_holdings=True,\n",
    "    fetch_stripping_data=True,\n",
    "    calc_free_float=True,\n",
    ")[as_of_date]\n",
    "\n",
    "curve_set_df"
   ]
  },
  {
   "cell_type": "code",
   "execution_count": 20,
   "metadata": {},
   "outputs": [],
   "source": [
    "def liquidity_premium_curve_set_filter(curve_set_df: pd.DataFrame):\n",
    "    # remove OTRs, olds, double olds, triple olds\n",
    "    curve_set_filtered_df = curve_set_df[\n",
    "        (curve_set_df[\"rank\"] != 0) & (curve_set_df[\"rank\"] != 1) & (curve_set_df[\"rank\"] != 2) & (curve_set_df[\"rank\"] != 3)\n",
    "    ]\n",
    "\n",
    "    # remove TBills\n",
    "    curve_set_filtered_df = curve_set_filtered_df[curve_set_filtered_df[\"security_type\"] != \"Bill\"]\n",
    "\n",
    "    # remove low free float bonds (< $5bn)\n",
    "    curve_set_filtered_df = curve_set_filtered_df[curve_set_filtered_df[\"free_float\"] > 5000]\n",
    "\n",
    "    # filter out bonds very close to maturity\n",
    "    curve_set_filtered_df = curve_set_filtered_df[curve_set_filtered_df[\"time_to_maturity\"] > 30 / 360]\n",
    "\n",
    "    # CTDs as of Dec 5 2024\n",
    "    curve_set_filtered_df = curve_set_filtered_df[\n",
    "        ~curve_set_filtered_df[\"cusip\"].isin(\n",
    "            [\n",
    "                usts.cme_ust_label_to_cusip(\"4 3/8 12/15/2026\")[\"cusip\"],  # TU\n",
    "                usts.cme_ust_label_to_cusip(\"3 7/8 12/31/2027\")[\"cusip\"],  # Z3N\n",
    "                usts.cme_ust_label_to_cusip(\"4 1/2 5/31/2029\")[\"cusip\"],  # FV\n",
    "                usts.cme_ust_label_to_cusip(\"4 1/8 11/30/2031\")[\"cusip\"],  # TY\n",
    "                usts.cme_ust_label_to_cusip(\"3 7/8 8/15/2034\")[\"cusip\"],  # TN\n",
    "                usts.cme_ust_label_to_cusip(\"4 3/8 5/15/2040\")[\"cusip\"],  # US\n",
    "                usts.cme_ust_label_to_cusip(\"4 5/8 5/15/2044\")[\"cusip\"],  # TWE\n",
    "                usts.cme_ust_label_to_cusip(\"4 11/15/2052\")[\"cusip\"],  # UL\n",
    "            ]\n",
    "        )\n",
    "    ]\n",
    "\n",
    "    curve_set_filtered_df = curve_set_filtered_df.sort_values(by=[\"time_to_maturity\"])\n",
    "    return curve_set_filtered_df"
   ]
  },
  {
   "cell_type": "code",
   "execution_count": 36,
   "metadata": {},
   "outputs": [],
   "source": [
    "# filter and fit bspline w/ knots are liquidity points\n",
    "curve_set_filtered_df = liquidity_premium_curve_set_filter(curve_set_df=curve_set_df)\n",
    "\n",
    "filtered_fitted_interpolator = GeneralCurveInterpolator(\n",
    "    x=curve_set_filtered_df[\"time_to_maturity\"].to_numpy(),\n",
    "    y=curve_set_filtered_df[\"eod_yield\"].to_numpy(),\n",
    ")\n",
    "\n",
    "fitted_bspline_k3 = filtered_fitted_interpolator.b_spline_with_knots_interpolation(\n",
    "    knots=[0.5, 1, 2, 3, 4, 5, 7, 8, 9, 10, 11, 12, 15, 20, 25],\n",
    "    k=3,\n",
    "    return_func=True,\n",
    ")\n",
    "\n",
    "fitted_bspline_k5 = filtered_fitted_interpolator.b_spline_with_knots_interpolation(\n",
    "    knots=[0.5, 1, 2, 5, 7, 10, 11, 12, 13, 14, 15, 20],\n",
    "    k=5,\n",
    "    return_func=True,\n",
    ")"
   ]
  },
  {
   "cell_type": "code",
   "execution_count": 37,
   "metadata": {},
   "outputs": [
    {
     "data": {
      "application/vnd.plotly.v1+json": {
       "config": {
        "modeBarButtonsToAdd": [
         "drawline",
         "drawopenpath",
         "drawclosedpath",
         "drawcircle",
         "drawrect",
         "eraseshape"
        ],
        "plotlyServerURL": "https://plot.ly"
       },
       "data": [
        {
         "customdata": [
          [
           "2024-09-05T00:00:00",
           "2024-12-05T00:00:00",
           "912797LF2",
           "26-Week",
           "nan% Dec-24",
           100,
           227634712.1748013
          ],
          [
           "2024-09-12T00:00:00",
           "2024-12-12T00:00:00",
           "912797LP0",
           "26-Week",
           "nan% Dec-24",
           99.91425,
           228418278.90589914
          ],
          [
           "2024-09-19T00:00:00",
           "2024-12-19T00:00:00",
           "912797LQ8",
           "26-Week",
           "nan% Dec-24",
           99.826944,
           226576959.50150228
          ],
          [
           "2024-10-03T00:00:00",
           "2025-01-02T00:00:00",
           "912797LR6",
           "26-Week",
           "nan% Jan-25",
           99.659333,
           238212479.2593
          ],
          [
           "2024-10-10T00:00:00",
           "2025-01-09T00:00:00",
           "912797LX3",
           "26-Week",
           "nan% Jan-25",
           99.574167,
           239351052.5184003
          ],
          [
           "2024-10-17T00:00:00",
           "2025-01-16T00:00:00",
           "912797LY1",
           "26-Week",
           "nan% Jan-25",
           99.487833,
           159978227.4914001
          ],
          [
           "2024-10-31T00:00:00",
           "2025-01-30T00:00:00",
           "912797LZ8",
           "26-Week",
           "nan% Jan-25",
           99.321778,
           166391550.75759995
          ],
          [
           "2024-11-07T00:00:00",
           "2025-02-06T00:00:00",
           "912797MJ3",
           "26-Week",
           "nan% Feb-25",
           99.237,
           163002263.41690004
          ],
          [
           "2024-11-14T00:00:00",
           "2025-02-13T00:00:00",
           "912797MK0",
           "26-Week",
           "nan% Feb-25",
           99.152222,
           164755384.09350002
          ],
          [
           "2024-11-29T00:00:00",
           "2025-02-27T00:00:00",
           "912797ML8",
           "26-Week",
           "nan% Feb-25",
           98.987333,
           161480465.86459994
          ],
          [
           "2024-09-05T00:00:00",
           "2025-03-06T00:00:00",
           "912797MM6",
           "26-Week",
           "nan% Mar-25",
           98.900417,
           70794026.9826997
          ],
          [
           "2024-09-12T00:00:00",
           "2025-03-13T00:00:00",
           "912797MT1",
           "26-Week",
           "nan% Mar-25",
           98.818556,
           70852048.52989973
          ],
          [
           "2024-09-26T00:00:00",
           "2025-03-27T00:00:00",
           "912797MU8",
           "26-Week",
           "nan% Mar-25",
           98.656,
           70913633.28659987
          ],
          [
           "2024-10-03T00:00:00",
           "2025-04-03T00:00:00",
           "912797MV6",
           "26-Week",
           "nan% Apr-25",
           98.575306,
           76484440.95170002
          ],
          [
           "2024-10-10T00:00:00",
           "2025-04-10T00:00:00",
           "912797NB9",
           "26-Week",
           "nan% Apr-25",
           98.495,
           75933859.72390005
          ],
          [
           "2024-10-24T00:00:00",
           "2025-04-24T00:00:00",
           "912797NC7",
           "26-Week",
           "nan% Apr-25",
           98.331667,
           76042151.9105
          ],
          [
           "2024-10-31T00:00:00",
           "2025-05-01T00:00:00",
           "912797ND5",
           "26-Week",
           "nan% May-25",
           98.252333,
           79297770.38539998
          ],
          [
           "2024-11-07T00:00:00",
           "2025-05-08T00:00:00",
           "912797NE3",
           "26-Week",
           "nan% May-25",
           98.181944,
           77677226.89679998
          ],
          [
           "2024-11-21T00:00:00",
           "2025-05-22T00:00:00",
           "912797NM5",
           "26-Week",
           "nan% May-25",
           98.021333,
           77243876.90529996
          ]
         ],
         "hovertemplate": "original_security_term=%{customdata[3]}<br>time_to_maturity=%{x}<br>eod_yield=%{y}<br>issue_date=%{customdata[0]}<br>maturity_date=%{customdata[1]}<br>cusip=%{customdata[2]}<br>ust_label=%{customdata[4]}<br>eod_price=%{customdata[5]}<br>free_float=%{customdata[6]}<extra></extra>",
         "legendgroup": "26-Week",
         "marker": {
          "color": "#636efa",
          "symbol": "circle"
         },
         "mode": "markers",
         "name": "26-Week",
         "orientation": "v",
         "showlegend": true,
         "type": "scatter",
         "x": [
          0.0027397260273972603,
          0.021917808219178082,
          0.0410958904109589,
          0.07945205479452055,
          0.09863013698630137,
          0.1178082191780822,
          0.15616438356164383,
          0.17534246575342466,
          0.19452054794520549,
          0.23287671232876714,
          0.25205479452054796,
          0.27123287671232876,
          0.3095890410958904,
          0.3287671232876712,
          0.34794520547945207,
          0.3863013698630137,
          0.4054794520547945,
          0.4246575342465753,
          0.46301369863013697
         ],
         "xaxis": "x",
         "y": [
          null,
          4.4137848204837935,
          4.457725790515529,
          4.39497652037691,
          4.398727806006695,
          4.4126027522811775,
          4.389770963855082,
          4.393522577264559,
          4.397280317991432,
          4.384400808708928,
          4.398362325730805,
          4.391886041470729,
          4.378851767758657,
          4.372290414662463,
          4.365703842834648,
          4.362784923454164,
          4.3561314888335,
          4.328699214756876,
          4.325589730845343
         ],
         "yaxis": "y"
        },
        {
         "customdata": [
          [
           "2024-11-12T00:00:00",
           "2024-12-10T00:00:00",
           "912797MN4",
           "17-Week",
           "nan% Dec-24",
           99.938333,
           245733410.7105993
          ],
          [
           "2024-11-19T00:00:00",
           "2024-12-17T00:00:00",
           "912797MP9",
           "17-Week",
           "nan% Dec-24",
           99.851667,
           245703481.21749806
          ],
          [
           "2024-11-26T00:00:00",
           "2024-12-24T00:00:00",
           "912797MQ7",
           "17-Week",
           "nan% Dec-24",
           99.763556,
           245694643.0356027
          ],
          [
           "2024-12-03T00:00:00",
           "2024-12-31T00:00:00",
           "912797MR5",
           "17-Week",
           "nan% Dec-24",
           99.677889,
           200439231.78819665
          ],
          [
           "2024-11-12T00:00:00",
           "2025-01-07T00:00:00",
           "912797MW4",
           "17-Week",
           "nan% Jan-25",
           99.5985,
           150448360.13779792
          ],
          [
           "2024-11-19T00:00:00",
           "2025-01-14T00:00:00",
           "912797MX2",
           "17-Week",
           "nan% Jan-25",
           99.513333,
           150455642.28719842
          ],
          [
           "2024-11-26T00:00:00",
           "2025-01-21T00:00:00",
           "912797MY0",
           "17-Week",
           "nan% Jan-25",
           99.429472,
           150458172.85680202
          ],
          [
           "2024-12-03T00:00:00",
           "2025-01-28T00:00:00",
           "912797MZ7",
           "17-Week",
           "nan% Jan-25",
           99.346,
           62199325.65439954
          ],
          [
           "2024-10-08T00:00:00",
           "2025-02-04T00:00:00",
           "912797NF0",
           "17-Week",
           "nan% Feb-25",
           99.261222,
           64202547.14320047
          ],
          [
           "2024-10-15T00:00:00",
           "2025-02-11T00:00:00",
           "912797NG8",
           "17-Week",
           "nan% Feb-25",
           99.176444,
           64212145.37919998
          ],
          [
           "2024-10-22T00:00:00",
           "2025-02-18T00:00:00",
           "912797NH6",
           "17-Week",
           "nan% Feb-25",
           99.097917,
           64196681.06310086
          ],
          [
           "2024-10-29T00:00:00",
           "2025-02-25T00:00:00",
           "912797NJ2",
           "17-Week",
           "nan% Feb-25",
           99.009167,
           64176703.02780087
          ],
          [
           "2024-11-05T00:00:00",
           "2025-03-04T00:00:00",
           "912797NK9",
           "17-Week",
           "nan% Mar-25",
           98.927056,
           64179796.66379966
          ],
          [
           "2024-11-12T00:00:00",
           "2025-03-11T00:00:00",
           "912797NQ6",
           "17-Week",
           "nan% Mar-25",
           98.84,
           64185054.24269944
          ],
          [
           "2024-11-19T00:00:00",
           "2025-03-18T00:00:00",
           "912797NR4",
           "17-Week",
           "nan% Mar-25",
           98.761139,
           64187080.07160048
          ],
          [
           "2024-11-26T00:00:00",
           "2025-03-25T00:00:00",
           "912797NS2",
           "17-Week",
           "nan% Mar-25",
           98.676944,
           64187264.78250043
          ]
         ],
         "hovertemplate": "original_security_term=%{customdata[3]}<br>time_to_maturity=%{x}<br>eod_yield=%{y}<br>issue_date=%{customdata[0]}<br>maturity_date=%{customdata[1]}<br>cusip=%{customdata[2]}<br>ust_label=%{customdata[4]}<br>eod_price=%{customdata[5]}<br>free_float=%{customdata[6]}<extra></extra>",
         "legendgroup": "17-Week",
         "marker": {
          "color": "#EF553B",
          "symbol": "circle"
         },
         "mode": "markers",
         "name": "17-Week",
         "orientation": "v",
         "showlegend": true,
         "type": "scatter",
         "x": [
          0.016438356164383564,
          0.03561643835616438,
          0.0547945205479452,
          0.07397260273972603,
          0.09315068493150686,
          0.11232876712328767,
          0.1315068493150685,
          0.1506849315068493,
          0.16986301369863013,
          0.18904109589041096,
          0.20821917808219179,
          0.2273972602739726,
          0.24657534246575344,
          0.26575342465753427,
          0.28493150684931506,
          0.3041095890410959
         ],
         "xaxis": "x",
         "y": [
          4.442763719102652,
          4.456600609381729,
          4.4906093553316,
          4.474411031656735,
          4.397656591213709,
          4.401423274607809,
          4.395076846156468,
          4.38870211181122,
          4.39245177887835,
          4.396207584273899,
          4.36941414217619,
          4.3935310925152455,
          4.387068995813662,
          4.4010522055847705,
          4.384315182564354,
          4.388057918114524
         ],
         "yaxis": "y"
        },
        {
         "customdata": [
          [
           "2024-09-26T00:00:00",
           "2024-12-26T00:00:00",
           "912796ZV4",
           "52-Week",
           "nan% Dec-24",
           99.740417,
           313907909.83450085
          ],
          [
           "2024-10-24T00:00:00",
           "2025-01-23T00:00:00",
           "912797JR9",
           "52-Week",
           "nan% Jan-25",
           99.406556,
           208114101.90030006
          ],
          [
           "2024-11-21T00:00:00",
           "2025-02-20T00:00:00",
           "912797KA4",
           "52-Week",
           "nan% Feb-25",
           99.071722,
           211463105.09469998
          ],
          [
           "2024-09-19T00:00:00",
           "2025-03-20T00:00:00",
           "912797KJ5",
           "52-Week",
           "nan% Mar-25",
           98.74,
           116333615.59979902
          ],
          [
           "2024-10-17T00:00:00",
           "2025-04-17T00:00:00",
           "912797KS5",
           "52-Week",
           "nan% Apr-25",
           98.415083,
           125412945.80949995
          ],
          [
           "2024-11-14T00:00:00",
           "2025-05-15T00:00:00",
           "912797LB1",
           "52-Week",
           "nan% May-25",
           98.103778,
           129103348.40649997
          ],
          [
           "2024-06-13T00:00:00",
           "2025-06-12T00:00:00",
           "912797LN5",
           "52-Week",
           "nan% Jun-25",
           97.816,
           46967725.07930003
          ],
          [
           "2024-07-11T00:00:00",
           "2025-07-10T00:00:00",
           "912797LW5",
           "52-Week",
           "nan% Jul-25",
           97.5045,
           48581492.992800005
          ],
          [
           "2024-08-08T00:00:00",
           "2025-08-07T00:00:00",
           "912797MG9",
           "52-Week",
           "nan% Aug-25",
           97.196111,
           49679655.286299974
          ],
          [
           "2024-09-05T00:00:00",
           "2025-09-04T00:00:00",
           "912797MH7",
           "52-Week",
           "nan% Sep-25",
           96.88325,
           46517709.968700044
          ],
          [
           "2024-10-03T00:00:00",
           "2025-10-02T00:00:00",
           "912797MS3",
           "52-Week",
           "nan% Oct-25",
           96.588667,
           50977568.93449996
          ],
          [
           "2024-10-31T00:00:00",
           "2025-10-30T00:00:00",
           "912797NA1",
           "52-Week",
           "nan% Oct-25",
           96.289611,
           52857119.057
          ]
         ],
         "hovertemplate": "original_security_term=%{customdata[3]}<br>time_to_maturity=%{x}<br>eod_yield=%{y}<br>issue_date=%{customdata[0]}<br>maturity_date=%{customdata[1]}<br>cusip=%{customdata[2]}<br>ust_label=%{customdata[4]}<br>eod_price=%{customdata[5]}<br>free_float=%{customdata[6]}<extra></extra>",
         "legendgroup": "52-Week",
         "marker": {
          "color": "#00cc96",
          "symbol": "circle"
         },
         "mode": "markers",
         "name": "52-Week",
         "orientation": "v",
         "showlegend": true,
         "type": "scatter",
         "x": [
          0.06027397260273973,
          0.136986301369863,
          0.2136986301369863,
          0.2904109589041096,
          0.36712328767123287,
          0.4438356164383562,
          0.5205479452054794,
          0.5972602739726027,
          0.673972602739726,
          0.7506849315068493,
          0.8273972602739726,
          0.904109589041096
         ],
         "xaxis": "x",
         "y": [
          4.461575777966113,
          4.386025338906134,
          4.380665795796975,
          4.375126595098256,
          4.359088842363371,
          4.321953333036346,
          4.252882963932276,
          4.2459578788671415,
          4.238852893265764,
          4.242219372285709,
          4.224097638006437,
          4.216446695979023
         ],
         "yaxis": "y"
        },
        {
         "customdata": [
          [
           "2021-12-15T00:00:00",
           "2024-12-15T00:00:00",
           "91282CDN8",
           "3-Year",
           "1.000% Dec-24",
           99.875,
           61954904.3107
          ],
          [
           "2022-01-18T00:00:00",
           "2025-01-15T00:00:00",
           "91282CDS7",
           "3-Year",
           "1.125% Jan-25",
           99.59375,
           60335057.66569999
          ],
          [
           "2022-02-15T00:00:00",
           "2025-02-15T00:00:00",
           "91282CDZ1",
           "3-Year",
           "1.500% Feb-25",
           99.40625,
           80142636.9974
          ],
          [
           "2022-03-15T00:00:00",
           "2025-03-15T00:00:00",
           "91282CED9",
           "3-Year",
           "1.750% Mar-25",
           99.25,
           56057218.35880001
          ],
          [
           "2022-04-18T00:00:00",
           "2025-04-15T00:00:00",
           "91282CEH0",
           "3-Year",
           "2.625% Apr-25",
           99.375,
           56961227.26839999
          ],
          [
           "2022-05-16T00:00:00",
           "2025-05-15T00:00:00",
           "91282CEQ0",
           "3-Year",
           "2.750% May-25",
           99.28125,
           75284291.0665
          ],
          [
           "2022-06-15T00:00:00",
           "2025-06-15T00:00:00",
           "91282CEU1",
           "3-Year",
           "2.875% Jun-25",
           99.21875,
           46583720.13189996
          ],
          [
           "2022-07-15T00:00:00",
           "2025-07-15T00:00:00",
           "91282CEY3",
           "3-Year",
           "3.000% Jul-25",
           99.1875,
           48474624.42759999
          ],
          [
           "2022-08-15T00:00:00",
           "2025-08-15T00:00:00",
           "91282CFE6",
           "3-Year",
           "3.125% Aug-25",
           99.15625,
           63975480.78599999
          ],
          [
           "2022-09-15T00:00:00",
           "2025-09-15T00:00:00",
           "91282CFK2",
           "3-Year",
           "3.500% Sep-25",
           99.34375,
           40994.828
          ],
          [
           "2022-10-17T00:00:00",
           "2025-10-15T00:00:00",
           "91282CFP1",
           "3-Year",
           "4.250% Oct-25",
           99.9375,
           39646.2765
          ],
          [
           "2022-11-15T00:00:00",
           "2025-11-15T00:00:00",
           "91282CFW6",
           "3-Year",
           "4.500% Nov-25",
           100.15625,
           54012609.44779998
          ],
          [
           "2022-12-15T00:00:00",
           "2025-12-15T00:00:00",
           "91282CGA3",
           "3-Year",
           "4.000% Dec-25",
           99.71875,
           39998.8552
          ],
          [
           "2023-01-17T00:00:00",
           "2026-01-15T00:00:00",
           "91282CGE5",
           "3-Year",
           "3.875% Jan-26",
           99.5625,
           39998.0822
          ],
          [
           "2023-02-15T00:00:00",
           "2026-02-15T00:00:00",
           "91282CGL9",
           "3-Year",
           "4.000% Feb-26",
           99.6875,
           55614953.67379999
          ],
          [
           "2023-03-15T00:00:00",
           "2026-03-15T00:00:00",
           "91282CGR6",
           "3-Year",
           "4.625% Mar-26",
           100.46875,
           39873918.699999616
          ],
          [
           "2023-04-17T00:00:00",
           "2026-04-15T00:00:00",
           "91282CGV7",
           "3-Year",
           "3.750% Apr-26",
           99.375,
           42515999.71389999
          ],
          [
           "2023-05-15T00:00:00",
           "2026-05-15T00:00:00",
           "91282CHB0",
           "3-Year",
           "3.625% May-26",
           99.1875,
           50343919.30119998
          ],
          [
           "2023-06-15T00:00:00",
           "2026-06-15T00:00:00",
           "91282CHH7",
           "3-Year",
           "4.125% Jun-26",
           99.90625,
           39999.4623
          ],
          [
           "2023-07-17T00:00:00",
           "2026-07-15T00:00:00",
           "91282CHM6",
           "3-Year",
           "4.500% Jul-26",
           100.46875,
           40000020.000014395
          ],
          [
           "2023-08-15T00:00:00",
           "2026-08-15T00:00:00",
           "91282CHU8",
           "3-Year",
           "4.375% Aug-26",
           100.3125,
           57686135.258899994
          ],
          [
           "2023-09-15T00:00:00",
           "2026-09-15T00:00:00",
           "91282CHY0",
           "3-Year",
           "4.625% Sep-26",
           100.75,
           43999.6988
          ],
          [
           "2023-10-16T00:00:00",
           "2026-10-15T00:00:00",
           "91282CJC6",
           "3-Year",
           "4.625% Oct-26",
           100.8125,
           45999.811499999996
          ],
          [
           "2023-11-15T00:00:00",
           "2026-11-15T00:00:00",
           "91282CJK8",
           "3-Year",
           "4.625% Nov-26",
           100.875,
           48909486.66920012
          ],
          [
           "2023-12-15T00:00:00",
           "2026-12-15T00:00:00",
           "91282CJP7",
           "3-Year",
           "4.375% Dec-26",
           100.4375,
           49998.646499999995
          ],
          [
           "2024-01-16T00:00:00",
           "2027-01-15T00:00:00",
           "91282CJT9",
           "3-Year",
           "4.000% Jan-27",
           99.71875,
           51997.747599999995
          ],
          [
           "2024-02-15T00:00:00",
           "2027-02-15T00:00:00",
           "91282CKA8",
           "3-Year",
           "4.125% Feb-27",
           99.96875,
           57989447.3013
          ],
          [
           "2024-03-15T00:00:00",
           "2027-03-15T00:00:00",
           "91282CKE0",
           "3-Year",
           "4.250% Mar-27",
           100.25,
           55999.8667
          ],
          [
           "2024-04-15T00:00:00",
           "2027-04-15T00:00:00",
           "91282CKJ9",
           "3-Year",
           "4.500% Apr-27",
           100.84375,
           58950339.27450016
          ],
          [
           "2024-05-15T00:00:00",
           "2027-05-15T00:00:00",
           "91282CKR1",
           "3-Year",
           "4.500% May-27",
           100.875,
           65281753.481899984
          ],
          [
           "2024-06-17T00:00:00",
           "2027-06-15T00:00:00",
           "91282CKV2",
           "3-Year",
           "4.625% Jun-27",
           101.21875,
           59873727.261299975
          ],
          [
           "2024-07-15T00:00:00",
           "2027-07-15T00:00:00",
           "91282CKZ3",
           "3-Year",
           "4.375% Jul-27",
           100.65625,
           67403854.40479998
          ],
          [
           "2024-08-15T00:00:00",
           "2027-08-15T00:00:00",
           "91282CLG4",
           "3-Year",
           "3.750% Aug-27",
           99.09375,
           69018249.03149998
          ],
          [
           "2024-09-16T00:00:00",
           "2027-09-15T00:00:00",
           "91282CLL3",
           "3-Year",
           "3.375% Sep-27",
           98.125,
           58553231.0615002
          ],
          [
           "2024-10-15T00:00:00",
           "2027-10-15T00:00:00",
           "91282CLQ2",
           "3-Year",
           "3.875% Oct-27",
           99.40625,
           58795017.96499995
          ]
         ],
         "hovertemplate": "original_security_term=%{customdata[3]}<br>time_to_maturity=%{x}<br>eod_yield=%{y}<br>issue_date=%{customdata[0]}<br>maturity_date=%{customdata[1]}<br>cusip=%{customdata[2]}<br>ust_label=%{customdata[4]}<br>eod_price=%{customdata[5]}<br>free_float=%{customdata[6]}<extra></extra>",
         "legendgroup": "3-Year",
         "marker": {
          "color": "#ab63fa",
          "symbol": "circle"
         },
         "mode": "markers",
         "name": "3-Year",
         "orientation": "v",
         "showlegend": true,
         "type": "scatter",
         "x": [
          0.030136986301369864,
          0.11506849315068493,
          0.2,
          0.2767123287671233,
          0.36164383561643837,
          0.4438356164383562,
          0.5287671232876713,
          0.6109589041095891,
          0.6958904109589041,
          0.7808219178082192,
          0.863013698630137,
          0.947945205479452,
          1.0301369863013699,
          1.115068493150685,
          1.2,
          1.2767123287671234,
          1.3616438356164384,
          1.4438356164383561,
          1.5287671232876712,
          1.610958904109589,
          1.6958904109589041,
          1.7808219178082192,
          1.863013698630137,
          1.9479452054794522,
          2.03013698630137,
          2.115068493150685,
          2.2,
          2.276712328767123,
          2.361643835616438,
          2.4438356164383563,
          2.5287671232876714,
          2.610958904109589,
          2.695890410958904,
          2.780821917808219,
          2.863013698630137
         ],
         "xaxis": "x",
         "y": [
          5.555684130979135,
          4.769867080144546,
          4.540953694003405,
          4.481061262397779,
          4.372888795921262,
          4.390960106106579,
          4.385972969225038,
          4.349580309859437,
          4.355424298300156,
          4.355191050214049,
          4.313844946477974,
          4.324403564391578,
          4.280458346925018,
          4.275292695392208,
          4.261859655484157,
          4.234478855113755,
          4.221382138687625,
          4.2076904134775175,
          4.187473925958393,
          4.191035536033754,
          4.175669523959977,
          4.175864847657358,
          4.161348395241986,
          4.14963798013376,
          4.146585572589741,
          4.136861760897791,
          4.13518205730732,
          4.128878416720992,
          4.117171665508598,
          4.118234012739784,
          4.111378513482341,
          4.104355317720221,
          4.104818642598319,
          4.092836131842934,
          4.0940969731117836
         ],
         "yaxis": "y"
        },
        {
         "customdata": [
          [
           "2019-12-31T00:00:00",
           "2024-12-31T00:00:00",
           "912828YY0",
           "5-Year",
           "1.750% Dec-24",
           99.78125,
           44845189.8616
          ],
          [
           "2020-01-31T00:00:00",
           "2025-01-31T00:00:00",
           "912828Z52",
           "5-Year",
           "1.375% Jan-25",
           99.5,
           45215622.3677
          ],
          [
           "2020-03-02T00:00:00",
           "2025-02-28T00:00:00",
           "912828ZC7",
           "5-Year",
           "1.125% Feb-25",
           99.21875,
           46536698.6639
          ],
          [
           "2020-03-31T00:00:00",
           "2025-03-31T00:00:00",
           "912828ZF0",
           "5-Year",
           "0.500% Mar-25",
           98.78125,
           46505411.22590002
          ],
          [
           "2020-04-30T00:00:00",
           "2025-04-30T00:00:00",
           "912828ZL7",
           "5-Year",
           "0.375% Apr-25",
           98.375,
           46479530.29760002
          ],
          [
           "2020-06-01T00:00:00",
           "2025-05-31T00:00:00",
           "912828ZT0",
           "5-Year",
           "0.250% May-25",
           98,
           48592622.768300004
          ],
          [
           "2020-06-30T00:00:00",
           "2025-06-30T00:00:00",
           "912828ZW3",
           "5-Year",
           "0.250% Jun-25",
           97.6875,
           53418398.30190001
          ],
          [
           "2020-07-31T00:00:00",
           "2025-07-31T00:00:00",
           "91282CAB7",
           "5-Year",
           "0.250% Jul-25",
           97.34375,
           52578959.61459998
          ],
          [
           "2020-08-31T00:00:00",
           "2025-08-31T00:00:00",
           "91282CAJ0",
           "5-Year",
           "0.250% Aug-25",
           97.03125,
           54561025.03130001
          ],
          [
           "2020-09-30T00:00:00",
           "2025-09-30T00:00:00",
           "91282CAM3",
           "5-Year",
           "0.250% Sep-25",
           96.75,
           60194026.14759998
          ],
          [
           "2020-11-02T00:00:00",
           "2025-10-31T00:00:00",
           "91282CAT8",
           "5-Year",
           "0.250% Oct-25",
           96.40625,
           59296760.849000014
          ],
          [
           "2020-11-30T00:00:00",
           "2025-11-30T00:00:00",
           "91282CAZ4",
           "5-Year",
           "0.375% Nov-25",
           96.21875,
           64685903.10640001
          ],
          [
           "2020-12-31T00:00:00",
           "2025-12-31T00:00:00",
           "91282CBC4",
           "5-Year",
           "0.375% Dec-25",
           95.9375,
           67863525.393
          ],
          [
           "2021-02-01T00:00:00",
           "2026-01-31T00:00:00",
           "91282CBH3",
           "5-Year",
           "0.375% Jan-26",
           95.625,
           69085072.15799999
          ],
          [
           "2021-03-01T00:00:00",
           "2026-02-28T00:00:00",
           "91282CBQ3",
           "5-Year",
           "0.500% Feb-26",
           95.5,
           72324334.2066
          ],
          [
           "2021-03-31T00:00:00",
           "2026-03-31T00:00:00",
           "91282CBT7",
           "5-Year",
           "0.750% Mar-26",
           95.5625,
           71934825.96159999
          ],
          [
           "2021-04-30T00:00:00",
           "2026-04-30T00:00:00",
           "91282CBW0",
           "5-Year",
           "0.750% Apr-26",
           95.3125,
           72631934.37779999
          ],
          [
           "2021-06-01T00:00:00",
           "2026-05-31T00:00:00",
           "91282CCF6",
           "5-Year",
           "0.750% May-26",
           95.03125,
           72362040.69170001
          ],
          [
           "2021-06-30T00:00:00",
           "2026-06-30T00:00:00",
           "91282CCJ8",
           "5-Year",
           "0.875% Jun-26",
           95,
           70240851.50519998
          ],
          [
           "2021-08-02T00:00:00",
           "2026-07-31T00:00:00",
           "91282CCP4",
           "5-Year",
           "0.625% Jul-26",
           94.34375,
           66471403.358299986
          ],
          [
           "2021-08-31T00:00:00",
           "2026-08-31T00:00:00",
           "91282CCW9",
           "5-Year",
           "0.750% Aug-26",
           94.3125,
           68483803.85530002
          ],
          [
           "2021-09-30T00:00:00",
           "2026-09-30T00:00:00",
           "91282CCZ2",
           "5-Year",
           "0.875% Sep-26",
           94.28125,
           68334910.84129998
          ],
          [
           "2021-11-01T00:00:00",
           "2026-10-31T00:00:00",
           "91282CDG3",
           "5-Year",
           "1.125% Oct-26",
           94.5,
           67191735.08920002
          ],
          [
           "2021-11-30T00:00:00",
           "2026-11-30T00:00:00",
           "91282CDK4",
           "5-Year",
           "1.250% Nov-26",
           94.53125,
           63858079.41039996
          ],
          [
           "2021-12-31T00:00:00",
           "2026-12-31T00:00:00",
           "91282CDQ1",
           "5-Year",
           "1.250% Dec-26",
           94.34375,
           64736447.48440002
          ],
          [
           "2022-02-28T00:00:00",
           "2027-02-28T00:00:00",
           "91282CEC1",
           "5-Year",
           "1.875% Feb-27",
           95.21875,
           62070730.071399994
          ],
          [
           "2022-03-31T00:00:00",
           "2027-03-31T00:00:00",
           "91282CEF4",
           "5-Year",
           "2.500% Mar-27",
           96.46875,
           60485216.9732
          ],
          [
           "2022-05-02T00:00:00",
           "2027-04-30T00:00:00",
           "91282CEN7",
           "5-Year",
           "2.750% Apr-27",
           96.90625,
           55777081.86189997
          ],
          [
           "2022-05-31T00:00:00",
           "2027-05-31T00:00:00",
           "91282CET4",
           "5-Year",
           "2.625% May-27",
           96.5,
           55208396.032399975
          ],
          [
           "2022-06-30T00:00:00",
           "2027-06-30T00:00:00",
           "91282CEW7",
           "5-Year",
           "3.250% Jun-27",
           97.9375,
           50588979.67309996
          ],
          [
           "2022-08-01T00:00:00",
           "2027-07-31T00:00:00",
           "91282CFB2",
           "5-Year",
           "2.750% Jul-27",
           96.59375,
           49986687.15049998
          ],
          [
           "2022-08-31T00:00:00",
           "2027-08-31T00:00:00",
           "91282CFH9",
           "5-Year",
           "3.125% Aug-27",
           97.46875,
           50852044.60219999
          ],
          [
           "2022-09-30T00:00:00",
           "2027-09-30T00:00:00",
           "91282CFM8",
           "5-Year",
           "4.125% Sep-27",
           100.0625,
           44000.115399999995
          ],
          [
           "2022-10-31T00:00:00",
           "2027-10-31T00:00:00",
           "91282CFU0",
           "5-Year",
           "4.125% Oct-27",
           100.09375,
           42999.5559
          ],
          [
           "2022-11-30T00:00:00",
           "2027-11-30T00:00:00",
           "91282CFZ9",
           "5-Year",
           "3.875% Nov-27",
           99.40625,
           47665239.75249999
          ],
          [
           "2023-01-03T00:00:00",
           "2027-12-31T00:00:00",
           "91282CGC9",
           "5-Year",
           "3.875% Dec-27",
           99.375,
           42999.7134
          ],
          [
           "2023-01-31T00:00:00",
           "2028-01-31T00:00:00",
           "91282CGH8",
           "5-Year",
           "3.500% Jan-28",
           98.25,
           42989.694899999995
          ],
          [
           "2023-02-28T00:00:00",
           "2028-02-29T00:00:00",
           "91282CGP0",
           "5-Year",
           "4.000% Feb-28",
           99.6875,
           52759547.022599995
          ],
          [
           "2023-03-31T00:00:00",
           "2028-03-31T00:00:00",
           "91282CGT2",
           "5-Year",
           "3.625% Mar-28",
           98.5625,
           42999.8097
          ],
          [
           "2023-05-01T00:00:00",
           "2028-04-30T00:00:00",
           "91282CHA2",
           "5-Year",
           "3.500% Apr-28",
           98.125,
           47178316.75899999
          ],
          [
           "2023-05-31T00:00:00",
           "2028-05-31T00:00:00",
           "91282CHE4",
           "5-Year",
           "3.625% May-28",
           98.46875,
           50957078.91759998
          ],
          [
           "2023-06-30T00:00:00",
           "2028-06-30T00:00:00",
           "91282CHK0",
           "5-Year",
           "4.000% Jun-28",
           99.6875,
           42999.6645
          ],
          [
           "2023-07-31T00:00:00",
           "2028-07-31T00:00:00",
           "91282CHQ7",
           "5-Year",
           "4.125% Jul-28",
           100.0625,
           42474.3911
          ],
          [
           "2023-08-31T00:00:00",
           "2028-08-31T00:00:00",
           "91282CHX2",
           "5-Year",
           "4.375% Aug-28",
           100.90625,
           50763192.424100004
          ],
          [
           "2023-10-02T00:00:00",
           "2028-09-30T00:00:00",
           "91282CJA0",
           "5-Year",
           "4.625% Sep-28",
           101.8125,
           48999.9713
          ],
          [
           "2023-10-31T00:00:00",
           "2028-10-31T00:00:00",
           "91282CJF9",
           "5-Year",
           "4.875% Oct-28",
           102.75,
           51999.3315
          ],
          [
           "2023-11-30T00:00:00",
           "2028-11-30T00:00:00",
           "91282CJN2",
           "5-Year",
           "4.375% Nov-28",
           101,
           55574401.18709984
          ],
          [
           "2024-01-02T00:00:00",
           "2028-12-31T00:00:00",
           "91282CJR3",
           "5-Year",
           "3.750% Dec-28",
           98.6875,
           57996.2671
          ],
          [
           "2024-01-31T00:00:00",
           "2029-01-31T00:00:00",
           "91282CJW2",
           "5-Year",
           "4.000% Jan-29",
           99.625,
           60989.5914
          ],
          [
           "2024-02-29T00:00:00",
           "2029-02-28T00:00:00",
           "91282CKD2",
           "5-Year",
           "4.250% Feb-29",
           100.59375,
           66766556.2312
          ],
          [
           "2024-04-01T00:00:00",
           "2029-03-31T00:00:00",
           "91282CKG5",
           "5-Year",
           "4.125% Mar-29",
           100.09375,
           66999.72159999999
          ],
          [
           "2024-04-30T00:00:00",
           "2029-04-30T00:00:00",
           "91282CKP5",
           "5-Year",
           "4.625% Apr-29",
           102.125,
           70331972.17299956
          ],
          [
           "2024-05-31T00:00:00",
           "2029-05-31T00:00:00",
           "91282CKT7",
           "5-Year",
           "4.500% May-29",
           101.6875,
           74151582.76239993
          ],
          [
           "2024-07-01T00:00:00",
           "2029-06-30T00:00:00",
           "91282CKX8",
           "5-Year",
           "4.250% Jun-29",
           100.65625,
           72434347.38029999
          ],
          [
           "2024-07-31T00:00:00",
           "2029-07-31T00:00:00",
           "91282CLC3",
           "5-Year",
           "4.000% Jul-29",
           99.625,
           73854749.71929999
          ],
          [
           "2024-09-03T00:00:00",
           "2029-08-31T00:00:00",
           "91282CLK5",
           "5-Year",
           "3.625% Aug-29",
           98.0625,
           75558221.37800002
          ],
          [
           "2024-09-30T00:00:00",
           "2029-09-30T00:00:00",
           "91282CLN9",
           "5-Year",
           "3.500% Sep-29",
           97.46875,
           71443236.95549984
          ],
          [
           "2024-10-31T00:00:00",
           "2029-10-31T00:00:00",
           "91282CLR0",
           "5-Year",
           "4.125% Oct-29",
           100.1875,
           71179458.39730005
          ]
         ],
         "hovertemplate": "original_security_term=%{customdata[3]}<br>time_to_maturity=%{x}<br>eod_yield=%{y}<br>issue_date=%{customdata[0]}<br>maturity_date=%{customdata[1]}<br>cusip=%{customdata[2]}<br>ust_label=%{customdata[4]}<br>eod_price=%{customdata[5]}<br>free_float=%{customdata[6]}<extra></extra>",
         "legendgroup": "5-Year",
         "marker": {
          "color": "#FFA15A",
          "symbol": "circle"
         },
         "mode": "markers",
         "name": "5-Year",
         "orientation": "v",
         "showlegend": true,
         "type": "scatter",
         "x": [
          0.07397260273972603,
          0.1589041095890411,
          0.2356164383561644,
          0.32054794520547947,
          0.40273972602739727,
          0.4876712328767123,
          0.5698630136986301,
          0.6547945205479452,
          0.7397260273972602,
          0.821917808219178,
          0.9068493150684932,
          0.989041095890411,
          1.073972602739726,
          1.158904109589041,
          1.2356164383561643,
          1.3205479452054794,
          1.4027397260273973,
          1.4876712328767123,
          1.5698630136986302,
          1.6547945205479453,
          1.7397260273972603,
          1.821917808219178,
          1.906849315068493,
          1.989041095890411,
          2.073972602739726,
          2.2356164383561645,
          2.3205479452054796,
          2.4027397260273973,
          2.4876712328767123,
          2.56986301369863,
          2.654794520547945,
          2.73972602739726,
          2.8219178082191783,
          2.9068493150684933,
          2.989041095890411,
          3.073972602739726,
          3.158904109589041,
          3.238356164383562,
          3.323287671232877,
          3.4054794520547946,
          3.4904109589041097,
          3.5726027397260274,
          3.6575342465753424,
          3.7424657534246575,
          3.824657534246575,
          3.9095890410958902,
          3.9917808219178084,
          4.076712328767123,
          4.161643835616438,
          4.238356164383561,
          4.323287671232877,
          4.405479452054794,
          4.49041095890411,
          4.572602739726028,
          4.657534246575342,
          4.742465753424658,
          4.824657534246575,
          4.909589041095891
         ],
         "xaxis": "x",
         "y": [
          4.820479552573307,
          4.604243125840641,
          4.473810245711539,
          4.373692666717371,
          4.475209165598175,
          4.451879050837314,
          4.392370711125811,
          4.4010049467467685,
          4.391455662470971,
          4.326486802843198,
          4.345880788941397,
          4.3320986219293625,
          4.295133431743689,
          4.293918665766644,
          4.275103862846283,
          4.241081070967211,
          4.222526932129821,
          4.234203227217682,
          4.195665463392136,
          4.195435146485018,
          4.1792446241574135,
          4.169552085684573,
          4.158263113181539,
          4.14627136918061,
          4.126434042886007,
          4.133305686401556,
          4.1087817677963745,
          4.1127914432412584,
          4.120126185542437,
          4.101696251536153,
          4.114556633015481,
          4.109497256561383,
          4.097649317506534,
          4.088050376972743,
          4.08785072664672,
          4.091948395271977,
          4.09415153467711,
          4.100731910055397,
          4.089717031133133,
          4.093941058080237,
          4.100526428921232,
          4.093441830532413,
          4.103742157021811,
          4.107635826152582,
          4.1044037104361495,
          4.103352710716403,
          4.100208250239743,
          4.10208453021272,
          4.096750468242895,
          4.093121849036811,
          4.098640394485509,
          4.091000981240995,
          4.084237075836456,
          4.089879165321521,
          4.0871986285453055,
          4.07693414996516,
          4.0819723002651545,
          4.0809593967561995
         ],
         "yaxis": "y"
        },
        {
         "customdata": [
          [
           "2018-01-02T00:00:00",
           "2024-12-31T00:00:00",
           "9128283P3",
           "7-Year",
           "2.250% Dec-24",
           99.75,
           31653760.961500004
          ],
          [
           "2018-01-31T00:00:00",
           "2025-01-31T00:00:00",
           "9128283V0",
           "7-Year",
           "2.500% Jan-25",
           99.6875,
           32109119.944399998
          ],
          [
           "2018-02-28T00:00:00",
           "2025-02-28T00:00:00",
           "9128283Z1",
           "7-Year",
           "2.750% Feb-25",
           99.59375,
           36059475.8471
          ],
          [
           "2018-04-02T00:00:00",
           "2025-03-31T00:00:00",
           "9128284F4",
           "7-Year",
           "2.625% Mar-25",
           99.4375,
           34089660.443500005
          ],
          [
           "2018-04-30T00:00:00",
           "2025-04-30T00:00:00",
           "9128284M9",
           "7-Year",
           "2.875% Apr-25",
           99.375,
           32568281.833000008
          ],
          [
           "2018-05-31T00:00:00",
           "2025-05-31T00:00:00",
           "9128284R8",
           "7-Year",
           "2.875% May-25",
           99.25,
           35198783.9453
          ],
          [
           "2018-07-02T00:00:00",
           "2025-06-30T00:00:00",
           "912828XZ8",
           "7-Year",
           "2.750% Jun-25",
           99.09375,
           33719718.339600004
          ],
          [
           "2018-07-31T00:00:00",
           "2025-07-31T00:00:00",
           "912828Y79",
           "7-Year",
           "2.875% Jul-25",
           99.03125,
           31618652.959699992
          ],
          [
           "2018-08-31T00:00:00",
           "2025-08-31T00:00:00",
           "9128284Z0",
           "7-Year",
           "2.750% Aug-25",
           98.8125,
           33112635.1018
          ],
          [
           "2018-10-01T00:00:00",
           "2025-09-30T00:00:00",
           "9128285C0",
           "7-Year",
           "3.000% Sep-25",
           98.9375,
           30990981.400000006
          ],
          [
           "2018-10-31T00:00:00",
           "2025-10-31T00:00:00",
           "9128285J5",
           "7-Year",
           "3.000% Oct-25",
           98.84375,
           30883379.099999994
          ],
          [
           "2018-11-30T00:00:00",
           "2025-11-30T00:00:00",
           "9128285N6",
           "7-Year",
           "2.875% Nov-25",
           98.625,
           34297047.724199995
          ],
          [
           "2018-12-31T00:00:00",
           "2025-12-31T00:00:00",
           "9128285T3",
           "7-Year",
           "2.625% Dec-25",
           98.28125,
           31985727.999999993
          ],
          [
           "2019-01-31T00:00:00",
           "2026-01-31T00:00:00",
           "9128286A3",
           "7-Year",
           "2.625% Jan-26",
           98.15625,
           31993811
          ],
          [
           "2019-02-28T00:00:00",
           "2026-02-28T00:00:00",
           "9128286F2",
           "7-Year",
           "2.500% Feb-26",
           97.90625,
           33531798.075600006
          ],
          [
           "2019-04-01T00:00:00",
           "2026-03-31T00:00:00",
           "9128286L9",
           "7-Year",
           "2.250% Mar-26",
           97.46875,
           31983613.699999996
          ],
          [
           "2019-04-30T00:00:00",
           "2026-04-30T00:00:00",
           "9128286S4",
           "7-Year",
           "2.375% Apr-26",
           97.5,
           32394130.25099999
          ],
          [
           "2019-05-31T00:00:00",
           "2026-05-31T00:00:00",
           "9128286X3",
           "7-Year",
           "2.125% May-26",
           97,
           35056363.36389999
          ],
          [
           "2019-07-01T00:00:00",
           "2026-06-30T00:00:00",
           "9128287B0",
           "7-Year",
           "1.875% Jun-26",
           96.5,
           33817959.009899996
          ],
          [
           "2019-07-31T00:00:00",
           "2026-07-31T00:00:00",
           "912828Y95",
           "7-Year",
           "1.875% Jul-26",
           96.34375,
           32589908.086400006
          ],
          [
           "2019-09-03T00:00:00",
           "2026-08-31T00:00:00",
           "912828YD6",
           "7-Year",
           "1.375% Aug-26",
           95.375,
           36142600.716699995
          ],
          [
           "2019-09-30T00:00:00",
           "2026-09-30T00:00:00",
           "912828YG9",
           "7-Year",
           "1.625% Sep-26",
           95.59375,
           35306738.1807
          ],
          [
           "2019-10-31T00:00:00",
           "2026-10-31T00:00:00",
           "912828YQ7",
           "7-Year",
           "1.625% Oct-26",
           95.4375,
           35333617.9869
          ],
          [
           "2019-12-02T00:00:00",
           "2026-11-30T00:00:00",
           "912828YU8",
           "7-Year",
           "1.625% Nov-26",
           95.25,
           34041672.6738
          ],
          [
           "2019-12-31T00:00:00",
           "2026-12-31T00:00:00",
           "912828YX2",
           "7-Year",
           "1.750% Dec-26",
           95.3125,
           34999732.701799996
          ],
          [
           "2022-01-31T00:00:00",
           "2027-01-31T00:00:00",
           "912828Z78",
           "7-Year",
           "1.500% Jan-27",
           94.625,
           98501705.6526
          ],
          [
           "2020-03-02T00:00:00",
           "2027-02-28T00:00:00",
           "912828ZB9",
           "7-Year",
           "1.125% Feb-27",
           93.625,
           36813166.5792
          ],
          [
           "2020-03-31T00:00:00",
           "2027-03-31T00:00:00",
           "912828ZE3",
           "7-Year",
           "0.625% Mar-27",
           92.34375,
           36288745.43739999
          ],
          [
           "2020-04-30T00:00:00",
           "2027-04-30T00:00:00",
           "912828ZN3",
           "7-Year",
           "0.500% Apr-27",
           91.78125,
           38033630.6515
          ],
          [
           "2020-06-01T00:00:00",
           "2027-05-31T00:00:00",
           "912828ZS2",
           "7-Year",
           "0.500% May-27",
           91.5,
           41968638.1488
          ],
          [
           "2020-06-30T00:00:00",
           "2027-06-30T00:00:00",
           "912828ZV5",
           "7-Year",
           "0.500% Jun-27",
           91.25,
           46098234.235700004
          ],
          [
           "2020-07-31T00:00:00",
           "2027-07-31T00:00:00",
           "91282CAD3",
           "7-Year",
           "0.375% Jul-27",
           90.6875,
           48994662.00710001
          ],
          [
           "2020-08-31T00:00:00",
           "2027-08-31T00:00:00",
           "91282CAH4",
           "7-Year",
           "0.500% Aug-27",
           90.75,
           50944427.626899995
          ],
          [
           "2020-09-30T00:00:00",
           "2027-09-30T00:00:00",
           "91282CAL5",
           "7-Year",
           "0.375% Sep-27",
           90.15625,
           56836361.061900005
          ],
          [
           "2020-11-02T00:00:00",
           "2027-10-31T00:00:00",
           "91282CAU5",
           "7-Year",
           "0.500% Oct-27",
           90.21875,
           58436362.836300015
          ],
          [
           "2020-11-30T00:00:00",
           "2027-11-30T00:00:00",
           "91282CAY7",
           "7-Year",
           "0.625% Nov-27",
           90.3125,
           63440176.33620001
          ],
          [
           "2020-12-31T00:00:00",
           "2027-12-31T00:00:00",
           "91282CBB6",
           "7-Year",
           "0.625% Dec-27",
           90.0625,
           67825280.293
          ],
          [
           "2021-02-01T00:00:00",
           "2028-01-31T00:00:00",
           "91282CBJ9",
           "7-Year",
           "0.750% Jan-28",
           90.125,
           70370843.10009998
          ],
          [
           "2021-03-01T00:00:00",
           "2028-02-29T00:00:00",
           "91282CBP5",
           "7-Year",
           "1.125% Feb-28",
           91.03125,
           75417725.77569999
          ],
          [
           "2021-03-31T00:00:00",
           "2028-03-31T00:00:00",
           "91282CBS9",
           "7-Year",
           "1.250% Mar-28",
           91.21875,
           73116029.43049999
          ],
          [
           "2021-04-30T00:00:00",
           "2028-04-30T00:00:00",
           "91282CBZ3",
           "7-Year",
           "1.250% Apr-28",
           91,
           73728404.64530002
          ],
          [
           "2021-06-01T00:00:00",
           "2028-05-31T00:00:00",
           "91282CCE9",
           "7-Year",
           "1.250% May-28",
           90.8125,
           73962199.0315
          ],
          [
           "2021-06-30T00:00:00",
           "2028-06-30T00:00:00",
           "91282CCH2",
           "7-Year",
           "1.250% Jun-28",
           90.625,
           71145882.85349998
          ],
          [
           "2021-08-02T00:00:00",
           "2028-07-31T00:00:00",
           "91282CCR0",
           "7-Year",
           "1.000% Jul-28",
           89.5625,
           67930723.69530001
          ],
          [
           "2021-08-31T00:00:00",
           "2028-08-31T00:00:00",
           "91282CCV1",
           "7-Year",
           "1.125% Aug-28",
           89.75,
           69645607.51370001
          ],
          [
           "2021-09-30T00:00:00",
           "2028-09-30T00:00:00",
           "91282CCY5",
           "7-Year",
           "1.250% Sep-28",
           90,
           69458279.34750001
          ],
          [
           "2021-11-01T00:00:00",
           "2028-10-31T00:00:00",
           "91282CDF5",
           "7-Year",
           "1.375% Oct-28",
           90.25,
           68179505.12349997
          ],
          [
           "2021-11-30T00:00:00",
           "2028-11-30T00:00:00",
           "91282CDL2",
           "7-Year",
           "1.500% Nov-28",
           90.5,
           63699446.61039999
          ],
          [
           "2021-12-31T00:00:00",
           "2028-12-31T00:00:00",
           "91282CDP3",
           "7-Year",
           "1.375% Dec-28",
           89.875,
           63600571.94449997
          ],
          [
           "2022-01-31T00:00:00",
           "2029-01-31T00:00:00",
           "91282CDW8",
           "7-Year",
           "1.750% Jan-29",
           91.09375,
           60909734.57649997
          ],
          [
           "2022-02-28T00:00:00",
           "2029-02-28T00:00:00",
           "91282CEB3",
           "7-Year",
           "1.875% Feb-29",
           91.4375,
           58517265.698400006
          ],
          [
           "2022-03-31T00:00:00",
           "2029-03-31T00:00:00",
           "91282CEE7",
           "7-Year",
           "2.375% Mar-29",
           93.21875,
           55665966.42629998
          ],
          [
           "2022-05-02T00:00:00",
           "2029-04-30T00:00:00",
           "91282CEM9",
           "7-Year",
           "2.875% Apr-29",
           95.125,
           49509119.71059998
          ],
          [
           "2022-05-31T00:00:00",
           "2029-05-31T00:00:00",
           "91282CES6",
           "7-Year",
           "2.750% May-29",
           94.53125,
           47741810.15339999
          ],
          [
           "2022-06-30T00:00:00",
           "2029-06-30T00:00:00",
           "91282CEV9",
           "7-Year",
           "3.250% Jun-29",
           96.5,
           42971086.270800024
          ],
          [
           "2022-08-01T00:00:00",
           "2029-07-31T00:00:00",
           "91282CFC0",
           "7-Year",
           "2.625% Jul-29",
           93.8125,
           40597666.946099974
          ],
          [
           "2022-08-31T00:00:00",
           "2029-08-31T00:00:00",
           "91282CFJ5",
           "7-Year",
           "3.125% Aug-29",
           95.84375,
           41648682.29069999
          ],
          [
           "2022-09-30T00:00:00",
           "2029-09-30T00:00:00",
           "91282CFL0",
           "7-Year",
           "3.875% Sep-29",
           99.03125,
           35884992.00000187
          ],
          [
           "2022-10-31T00:00:00",
           "2029-10-31T00:00:00",
           "91282CFT3",
           "7-Year",
           "4.000% Oct-29",
           99.59375,
           34982.5228
          ],
          [
           "2022-11-30T00:00:00",
           "2029-11-30T00:00:00",
           "91282CFY2",
           "7-Year",
           "3.875% Nov-29",
           99,
           38695614.67309998
          ],
          [
           "2023-01-03T00:00:00",
           "2029-12-31T00:00:00",
           "91282CGB1",
           "7-Year",
           "3.875% Dec-29",
           99,
           34973.355299999996
          ],
          [
           "2023-01-31T00:00:00",
           "2030-01-31T00:00:00",
           "91282CGJ4",
           "7-Year",
           "3.500% Jan-30",
           97.21875,
           34934557.60000341
          ],
          [
           "2023-02-28T00:00:00",
           "2030-02-28T00:00:00",
           "91282CGQ8",
           "7-Year",
           "4.000% Feb-30",
           99.53125,
           42644391.35559999
          ],
          [
           "2023-03-31T00:00:00",
           "2030-03-31T00:00:00",
           "91282CGS4",
           "7-Year",
           "3.625% Mar-30",
           97.75,
           34899.9105
          ],
          [
           "2023-05-01T00:00:00",
           "2030-04-30T00:00:00",
           "91282CGZ8",
           "7-Year",
           "3.500% Apr-30",
           97.125,
           38153672.79220001
          ],
          [
           "2023-05-31T00:00:00",
           "2030-05-31T00:00:00",
           "91282CHF1",
           "7-Year",
           "3.750% May-30",
           98.28125,
           41406377.855700016
          ],
          [
           "2023-06-30T00:00:00",
           "2030-06-30T00:00:00",
           "91282CHJ3",
           "7-Year",
           "3.750% Jun-30",
           98.25,
           34964.1219
          ],
          [
           "2023-07-31T00:00:00",
           "2030-07-31T00:00:00",
           "91282CHR5",
           "7-Year",
           "4.000% Jul-30",
           99.4375,
           34890305.59998919
          ],
          [
           "2023-08-31T00:00:00",
           "2030-08-31T00:00:00",
           "91282CHW4",
           "7-Year",
           "4.125% Aug-30",
           100.03125,
           39733694.27540001
          ],
          [
           "2023-10-02T00:00:00",
           "2030-09-30T00:00:00",
           "91282CHZ7",
           "7-Year",
           "4.625% Sep-30",
           102.625,
           36999899.59997261
          ],
          [
           "2023-10-31T00:00:00",
           "2030-10-31T00:00:00",
           "91282CJG7",
           "7-Year",
           "4.875% Oct-30",
           103.9375,
           37953.5286
          ],
          [
           "2023-11-30T00:00:00",
           "2030-11-30T00:00:00",
           "91282CJM4",
           "7-Year",
           "4.375% Nov-30",
           101.34375,
           39458244.76189994
          ],
          [
           "2024-01-02T00:00:00",
           "2030-12-31T00:00:00",
           "91282CJQ5",
           "7-Year",
           "3.750% Dec-30",
           98.03125,
           39899.897899999996
          ],
          [
           "2024-01-31T00:00:00",
           "2031-01-31T00:00:00",
           "91282CJX0",
           "7-Year",
           "4.000% Jan-31",
           99.34375,
           40974.375199999995
          ],
          [
           "2024-02-29T00:00:00",
           "2031-02-28T00:00:00",
           "91282CKC4",
           "7-Year",
           "4.250% Feb-31",
           100.6875,
           43215120.72990002
          ],
          [
           "2024-04-01T00:00:00",
           "2031-03-31T00:00:00",
           "91282CKF7",
           "7-Year",
           "4.125% Mar-31",
           100,
           42848.3146
          ],
          [
           "2024-04-30T00:00:00",
           "2031-04-30T00:00:00",
           "91282CKN0",
           "7-Year",
           "4.625% Apr-31",
           102.78125,
           44209534.09169964
          ],
          [
           "2024-05-31T00:00:00",
           "2031-05-31T00:00:00",
           "91282CKU4",
           "7-Year",
           "4.625% May-31",
           102.78125,
           46607220.32220001
          ],
          [
           "2024-07-01T00:00:00",
           "2031-06-30T00:00:00",
           "91282CKW0",
           "7-Year",
           "4.250% Jun-31",
           100.71875,
           45529764.24480001
          ],
          [
           "2024-07-31T00:00:00",
           "2031-07-31T00:00:00",
           "91282CLD1",
           "7-Year",
           "4.125% Jul-31",
           100,
           46423559.07799996
          ],
          [
           "2024-09-03T00:00:00",
           "2031-08-31T00:00:00",
           "91282CLJ8",
           "7-Year",
           "3.750% Aug-31",
           97.78125,
           47494985.25759996
          ],
          [
           "2024-09-30T00:00:00",
           "2031-09-30T00:00:00",
           "91282CLM1",
           "7-Year",
           "3.625% Sep-31",
           97.03125,
           44899822.286299944
          ],
          [
           "2024-10-31T00:00:00",
           "2031-10-31T00:00:00",
           "91282CLU3",
           "7-Year",
           "4.125% Oct-31",
           100,
           44741368.181199946
          ]
         ],
         "hovertemplate": "original_security_term=%{customdata[3]}<br>time_to_maturity=%{x}<br>eod_yield=%{y}<br>issue_date=%{customdata[0]}<br>maturity_date=%{customdata[1]}<br>cusip=%{customdata[2]}<br>ust_label=%{customdata[4]}<br>eod_price=%{customdata[5]}<br>free_float=%{customdata[6]}<extra></extra>",
         "legendgroup": "7-Year",
         "marker": {
          "color": "#19d3f3",
          "symbol": "circle"
         },
         "mode": "markers",
         "name": "7-Year",
         "orientation": "v",
         "showlegend": true,
         "type": "scatter",
         "x": [
          0.07397260273972603,
          0.1589041095890411,
          0.2356164383561644,
          0.32054794520547947,
          0.40273972602739727,
          0.4876712328767123,
          0.5698630136986301,
          0.6547945205479452,
          0.7397260273972602,
          0.821917808219178,
          0.9068493150684932,
          0.989041095890411,
          1.073972602739726,
          1.158904109589041,
          1.2356164383561643,
          1.3205479452054794,
          1.4027397260273973,
          1.4876712328767123,
          1.5698630136986302,
          1.6547945205479453,
          1.7397260273972603,
          1.821917808219178,
          1.906849315068493,
          1.989041095890411,
          2.073972602739726,
          2.158904109589041,
          2.2356164383561645,
          2.3205479452054796,
          2.4027397260273973,
          2.4876712328767123,
          2.56986301369863,
          2.654794520547945,
          2.73972602739726,
          2.8219178082191783,
          2.9068493150684933,
          2.989041095890411,
          3.073972602739726,
          3.158904109589041,
          3.238356164383562,
          3.323287671232877,
          3.4054794520547946,
          3.4904109589041097,
          3.5726027397260274,
          3.6575342465753424,
          3.7424657534246575,
          3.824657534246575,
          3.9095890410958902,
          3.9917808219178084,
          4.076712328767123,
          4.161643835616438,
          4.238356164383561,
          4.323287671232877,
          4.405479452054794,
          4.49041095890411,
          4.572602739726028,
          4.657534246575342,
          4.742465753424658,
          4.824657534246575,
          4.909589041095891,
          4.991780821917808,
          5.076712328767123,
          5.161643835616438,
          5.238356164383561,
          5.323287671232877,
          5.405479452054794,
          5.49041095890411,
          5.572602739726028,
          5.657534246575342,
          5.742465753424658,
          5.824657534246575,
          5.909589041095891,
          5.991780821917808,
          6.076712328767123,
          6.161643835616438,
          6.238356164383561,
          6.323287671232877,
          6.405479452054794,
          6.49041095890411,
          6.572602739726028,
          6.657534246575342,
          6.742465753424658,
          6.824657534246575,
          6.909589041095891
         ],
         "xaxis": "x",
         "y": [
          5.747308931677459,
          4.492821129775832,
          4.465721360161959,
          4.393888610501749,
          4.440065912152989,
          4.4489832741935516,
          4.366883154597918,
          4.378604709510359,
          4.39660990687262,
          4.323652559797647,
          4.312010871734587,
          4.312937552757439,
          4.28025223879262,
          4.271239866798939,
          4.251143181533132,
          4.23787165418203,
          4.224679976745962,
          4.228224289825596,
          4.198465447751934,
          4.180546363200052,
          4.161919857988625,
          4.161911137324326,
          4.140098642402979,
          4.140362382028997,
          4.133539721067526,
          4.129714830628689,
          4.137911866161478,
          4.118660241930633,
          4.1257353779704555,
          4.132337352519582,
          4.121115654123623,
          4.111728037782293,
          4.108406079939972,
          4.1072800146842825,
          4.107065417817452,
          4.104837897503174,
          4.101449466738281,
          4.118218093507228,
          4.112400019532059,
          4.105484364154562,
          4.109505470423379,
          4.105119976235802,
          4.098189632628437,
          4.102863198241913,
          4.111868731810572,
          4.104361461218361,
          4.1025777634136835,
          4.107770809205161,
          4.100170490368658,
          4.101677115755719,
          4.096113495043941,
          4.102584800363479,
          4.094865485206925,
          4.0966345416386485,
          4.096391425092275,
          4.096875288824267,
          4.097558498778923,
          4.096442046555779,
          4.090841861051842,
          4.098543923727141,
          4.094315674193941,
          4.102316665773218,
          4.098217216644303,
          4.0982360994990765,
          4.097338316422036,
          4.102837247115382,
          4.103639971608656,
          4.11072893579646,
          4.116759344301467,
          4.111137015515804,
          4.115502558172755,
          4.119204007893783,
          4.118940052609567,
          4.120157820332524,
          4.121870780284529,
          4.123240739998715,
          4.1250716052825975,
          4.131590500100468,
          4.12309683888532,
          4.123434027606847,
          4.129090623708613,
          4.127445822023266,
          4.123904366878715
         ],
         "yaxis": "y"
        },
        {
         "customdata": [
          [
           "2023-01-03T00:00:00",
           "2024-12-31T00:00:00",
           "91282CGD7",
           "2-Year",
           "4.250% Dec-24",
           99.96875,
           41988.9912
          ],
          [
           "2023-01-31T00:00:00",
           "2025-01-31T00:00:00",
           "91282CGG0",
           "2-Year",
           "4.125% Jan-25",
           99.9375,
           41991.9935
          ],
          [
           "2023-02-28T00:00:00",
           "2025-02-28T00:00:00",
           "91282CGN5",
           "2-Year",
           "4.625% Feb-25",
           100,
           51519972.52660001
          ],
          [
           "2023-03-31T00:00:00",
           "2025-03-31T00:00:00",
           "91282CGU9",
           "2-Year",
           "3.875% Mar-25",
           99.8125,
           41992.3782
          ],
          [
           "2023-05-01T00:00:00",
           "2025-04-30T00:00:00",
           "91282CGX3",
           "2-Year",
           "3.875% Apr-25",
           99.78125,
           45929804.95050002
          ],
          [
           "2023-05-31T00:00:00",
           "2025-05-31T00:00:00",
           "91282CHD6",
           "2-Year",
           "4.250% May-25",
           99.90625,
           49873168.61489999
          ],
          [
           "2023-06-30T00:00:00",
           "2025-06-30T00:00:00",
           "91282CHL8",
           "2-Year",
           "4.625% Jun-25",
           100.125,
           41993.504
          ],
          [
           "2023-07-31T00:00:00",
           "2025-07-31T00:00:00",
           "91282CHN4",
           "2-Year",
           "4.750% Jul-25",
           100.21875,
           36574.6077
          ],
          [
           "2023-08-31T00:00:00",
           "2025-08-31T00:00:00",
           "91282CHV6",
           "2-Year",
           "5.000% Aug-25",
           100.40625,
           49584101.9192
          ],
          [
           "2023-10-02T00:00:00",
           "2025-09-30T00:00:00",
           "91282CJB8",
           "2-Year",
           "5.000% Sep-25",
           100.53125,
           47996.3396
          ],
          [
           "2023-10-31T00:00:00",
           "2025-10-31T00:00:00",
           "91282CJE2",
           "2-Year",
           "5.000% Oct-25",
           100.59375,
           50437.3822
          ],
          [
           "2023-11-30T00:00:00",
           "2025-11-30T00:00:00",
           "91282CJL6",
           "2-Year",
           "4.875% Nov-25",
           100.53125,
           54274943.40549981
          ],
          [
           "2024-01-02T00:00:00",
           "2025-12-31T00:00:00",
           "91282CJS1",
           "2-Year",
           "4.250% Dec-25",
           99.96875,
           56996.408599999995
          ],
          [
           "2024-01-31T00:00:00",
           "2026-01-31T00:00:00",
           "91282CJV4",
           "2-Year",
           "4.250% Jan-26",
           99.96875,
           59997.458099999996
          ],
          [
           "2024-02-29T00:00:00",
           "2026-02-28T00:00:00",
           "91282CKB6",
           "2-Year",
           "4.625% Feb-26",
           100.40625,
           65722031.89480005
          ],
          [
           "2024-04-01T00:00:00",
           "2026-03-31T00:00:00",
           "91282CKH3",
           "2-Year",
           "4.500% Mar-26",
           100.3125,
           65989.0301
          ],
          [
           "2024-04-30T00:00:00",
           "2026-04-30T00:00:00",
           "91282CKK6",
           "2-Year",
           "4.875% Apr-26",
           100.875,
           69309561.83909957
          ],
          [
           "2024-05-31T00:00:00",
           "2026-05-31T00:00:00",
           "91282CKS9",
           "2-Year",
           "4.875% May-26",
           100.9375,
           73090393.2301
          ],
          [
           "2024-07-01T00:00:00",
           "2026-06-30T00:00:00",
           "91282CKY6",
           "2-Year",
           "4.625% Jun-26",
           100.625,
           71390043.00190003
          ],
          [
           "2024-07-31T00:00:00",
           "2026-07-31T00:00:00",
           "91282CLB5",
           "2-Year",
           "4.375% Jul-26",
           100.28125,
           72779083.8562
          ],
          [
           "2024-09-03T00:00:00",
           "2026-08-31T00:00:00",
           "91282CLH2",
           "2-Year",
           "3.750% Aug-26",
           99.28125,
           74475156.29259998
          ],
          [
           "2024-09-30T00:00:00",
           "2026-09-30T00:00:00",
           "91282CLP4",
           "2-Year",
           "3.500% Sep-26",
           98.84375,
           70421534.09899986
          ],
          [
           "2024-10-31T00:00:00",
           "2026-10-31T00:00:00",
           "91282CLS8",
           "2-Year",
           "4.125% Oct-26",
           99.9375,
           70156177.86590017
          ]
         ],
         "hovertemplate": "original_security_term=%{customdata[3]}<br>time_to_maturity=%{x}<br>eod_yield=%{y}<br>issue_date=%{customdata[0]}<br>maturity_date=%{customdata[1]}<br>cusip=%{customdata[2]}<br>ust_label=%{customdata[4]}<br>eod_price=%{customdata[5]}<br>free_float=%{customdata[6]}<extra></extra>",
         "legendgroup": "2-Year",
         "marker": {
          "color": "#FF6692",
          "symbol": "circle"
         },
         "mode": "markers",
         "name": "2-Year",
         "orientation": "v",
         "showlegend": true,
         "type": "scatter",
         "x": [
          0.07397260273972603,
          0.1589041095890411,
          0.2356164383561644,
          0.32054794520547947,
          0.40273972602739727,
          0.4876712328767123,
          0.5698630136986301,
          0.6547945205479452,
          0.7397260273972602,
          0.821917808219178,
          0.9068493150684932,
          0.989041095890411,
          1.073972602739726,
          1.158904109589041,
          1.2356164383561643,
          1.3205479452054794,
          1.4027397260273973,
          1.4876712328767123,
          1.5698630136986302,
          1.6547945205479453,
          1.7397260273972603,
          1.821917808219178,
          1.906849315068493
         ],
         "xaxis": "x",
         "y": [
          4.609634892357782,
          4.467700090961029,
          4.568960812138415,
          4.440488672643508,
          4.410503954198561,
          4.444368622422622,
          4.390058394672717,
          4.390788290425038,
          4.414091136428947,
          4.31812081898099,
          4.3139331940380385,
          4.317645420238972,
          4.274852025489241,
          4.269361341872223,
          4.27386956816578,
          4.245466702839604,
          4.2207913976406015,
          4.216742933213912,
          4.205898450754354,
          4.19127981713105,
          4.177862194277865,
          4.161508073593498,
          4.155852199328041
         ],
         "yaxis": "y"
        },
        {
         "customdata": [
          [
           "2015-04-15T00:00:00",
           "2025-02-15T00:00:00",
           "912828J27",
           "10-Year",
           "2.000% Feb-25",
           99.46875,
           65589944.710899994
          ],
          [
           "2015-07-15T00:00:00",
           "2025-05-15T00:00:00",
           "912828XB1",
           "10-Year",
           "2.125% May-25",
           99,
           66065543.7104
          ],
          [
           "2015-10-15T00:00:00",
           "2025-08-15T00:00:00",
           "912828K74",
           "10-Year",
           "2.000% Aug-25",
           98.375,
           63554918.230600014
          ],
          [
           "2016-01-15T00:00:00",
           "2025-11-15T00:00:00",
           "912828M56",
           "10-Year",
           "2.250% Nov-25",
           98.09375,
           66112696.90779998
          ],
          [
           "2016-04-15T00:00:00",
           "2026-02-15T00:00:00",
           "912828P46",
           "10-Year",
           "1.625% Feb-26",
           96.9375,
           64925194.54930001
          ],
          [
           "2016-07-15T00:00:00",
           "2026-05-15T00:00:00",
           "912828R36",
           "10-Year",
           "1.625% May-26",
           96.375,
           69162650.95400001
          ],
          [
           "2016-10-17T00:00:00",
           "2026-08-15T00:00:00",
           "9128282A7",
           "10-Year",
           "1.500% Aug-26",
           95.65625,
           64979452.897199996
          ],
          [
           "2017-01-17T00:00:00",
           "2026-11-15T00:00:00",
           "912828U24",
           "10-Year",
           "2.000% Nov-26",
           96.03125,
           68934683.37289998
          ],
          [
           "2017-04-17T00:00:00",
           "2027-02-15T00:00:00",
           "912828V98",
           "10-Year",
           "2.250% Feb-27",
           96.09375,
           64517722.46089998
          ],
          [
           "2017-07-17T00:00:00",
           "2027-05-15T00:00:00",
           "912828X88",
           "10-Year",
           "2.375% May-27",
           95.96875,
           70042259.47829999
          ],
          [
           "2017-10-16T00:00:00",
           "2027-08-15T00:00:00",
           "9128282R0",
           "10-Year",
           "2.250% Aug-27",
           95.3125,
           69889020.81679998
          ],
          [
           "2018-01-16T00:00:00",
           "2027-11-15T00:00:00",
           "9128283F5",
           "10-Year",
           "2.250% Nov-27",
           94.90625,
           66190521.4775
          ],
          [
           "2018-04-16T00:00:00",
           "2028-02-15T00:00:00",
           "9128283W8",
           "10-Year",
           "2.750% Feb-28",
           95.96875,
           70058466.23279998
          ],
          [
           "2018-07-16T00:00:00",
           "2028-05-15T00:00:00",
           "9128284N7",
           "10-Year",
           "2.875% May-28",
           96.0625,
           74991256.06129998
          ],
          [
           "2018-10-15T00:00:00",
           "2028-08-15T00:00:00",
           "9128284V9",
           "10-Year",
           "2.875% Aug-28",
           95.8125,
           75210979.93230003
          ],
          [
           "2019-01-15T00:00:00",
           "2028-11-15T00:00:00",
           "9128285M8",
           "10-Year",
           "3.125% Nov-28",
           96.46875,
           80483091.13559999
          ],
          [
           "2019-04-15T00:00:00",
           "2029-02-15T00:00:00",
           "9128286B1",
           "10-Year",
           "2.625% Feb-29",
           94.375,
           81348985.51860002
          ],
          [
           "2019-07-15T00:00:00",
           "2029-05-15T00:00:00",
           "9128286T2",
           "10-Year",
           "2.375% May-29",
           93.125,
           84341791.8831
          ],
          [
           "2019-10-15T00:00:00",
           "2029-08-15T00:00:00",
           "912828YB0",
           "10-Year",
           "1.625% Aug-29",
           89.6875,
           92571500.3533
          ],
          [
           "2020-01-15T00:00:00",
           "2029-11-15T00:00:00",
           "912828YS3",
           "10-Year",
           "1.750% Nov-29",
           89.75,
           88497929.80919999
          ],
          [
           "2020-04-15T00:00:00",
           "2030-02-15T00:00:00",
           "912828Z94",
           "10-Year",
           "1.500% Feb-30",
           87.90625,
           87599093.9196
          ],
          [
           "2020-07-15T00:00:00",
           "2030-05-15T00:00:00",
           "912828ZQ6",
           "10-Year",
           "0.625% May-30",
           83.125,
           109848252.62929997
          ],
          [
           "2020-10-15T00:00:00",
           "2030-08-15T00:00:00",
           "91282CAE1",
           "10-Year",
           "0.625% Aug-30",
           82.4375,
           132414864.41990001
          ],
          [
           "2021-01-15T00:00:00",
           "2030-11-15T00:00:00",
           "91282CAV3",
           "10-Year",
           "0.875% Nov-30",
           83.1875,
           133655878.72849996
          ],
          [
           "2021-04-15T00:00:00",
           "2031-02-15T00:00:00",
           "91282CBL4",
           "10-Year",
           "1.125% Feb-31",
           84.03125,
           140027751.28220004
          ],
          [
           "2021-07-15T00:00:00",
           "2031-05-15T00:00:00",
           "91282CCB5",
           "10-Year",
           "1.625% May-31",
           85.9375,
           147980484.73579997
          ],
          [
           "2021-10-15T00:00:00",
           "2031-08-15T00:00:00",
           "91282CCS8",
           "10-Year",
           "1.250% Aug-31",
           83.28125,
           141869449.2262
          ],
          [
           "2022-01-18T00:00:00",
           "2031-11-15T00:00:00",
           "91282CDJ7",
           "10-Year",
           "1.375% Nov-31",
           83.4375,
           144570611.89499998
          ],
          [
           "2022-04-18T00:00:00",
           "2032-02-15T00:00:00",
           "91282CDY4",
           "10-Year",
           "1.875% Feb-32",
           85.96875,
           140880495.34379995
          ],
          [
           "2022-07-15T00:00:00",
           "2032-05-15T00:00:00",
           "91282CEP2",
           "10-Year",
           "2.875% May-32",
           91.90625,
           133225251.71979997
          ],
          [
           "2022-10-17T00:00:00",
           "2032-08-15T00:00:00",
           "91282CFF3",
           "10-Year",
           "2.750% Aug-32",
           90.8125,
           121115012.77169995
          ],
          [
           "2023-01-17T00:00:00",
           "2032-11-15T00:00:00",
           "91282CFV8",
           "10-Year",
           "4.125% Nov-32",
           99.875,
           111242861.98439994
          ],
          [
           "2023-04-17T00:00:00",
           "2033-02-15T00:00:00",
           "91282CGM7",
           "10-Year",
           "3.500% Feb-33",
           95.40625,
           114684073.47180001
          ],
          [
           "2023-07-17T00:00:00",
           "2033-05-15T00:00:00",
           "91282CHC8",
           "10-Year",
           "3.375% May-33",
           94.375,
           108505229.00849995
          ],
          [
           "2023-10-16T00:00:00",
           "2033-08-15T00:00:00",
           "91282CHT1",
           "10-Year",
           "3.875% Aug-33",
           97.78125,
           122135530.28549998
          ],
          [
           "2024-01-16T00:00:00",
           "2033-11-15T00:00:00",
           "91282CJJ1",
           "10-Year",
           "4.500% Nov-33",
           102.34375,
           114742506.55769992
          ],
          [
           "2024-04-15T00:00:00",
           "2034-02-15T00:00:00",
           "91282CJZ5",
           "10-Year",
           "4.000% Feb-34",
           98.5625,
           123733105.60899997
          ],
          [
           "2024-07-15T00:00:00",
           "2034-05-15T00:00:00",
           "91282CKQ3",
           "10-Year",
           "4.375% May-34",
           101.4375,
           132865041.25119999
          ],
          [
           "2024-10-15T00:00:00",
           "2034-08-15T00:00:00",
           "91282CLF6",
           "10-Year",
           "3.875% Aug-34",
           97.5,
           128881472.48230007
          ]
         ],
         "hovertemplate": "original_security_term=%{customdata[3]}<br>time_to_maturity=%{x}<br>eod_yield=%{y}<br>issue_date=%{customdata[0]}<br>maturity_date=%{customdata[1]}<br>cusip=%{customdata[2]}<br>ust_label=%{customdata[4]}<br>eod_price=%{customdata[5]}<br>free_float=%{customdata[6]}<extra></extra>",
         "legendgroup": "10-Year",
         "marker": {
          "color": "#B6E880",
          "symbol": "circle"
         },
         "mode": "markers",
         "name": "10-Year",
         "orientation": "v",
         "showlegend": true,
         "type": "scatter",
         "x": [
          0.2,
          0.4438356164383562,
          0.6958904109589041,
          0.947945205479452,
          1.2,
          1.4438356164383561,
          1.6958904109589041,
          1.9479452054794522,
          2.2,
          2.4438356164383563,
          2.695890410958904,
          2.947945205479452,
          3.2,
          3.4465753424657533,
          3.6986301369863015,
          3.9506849315068493,
          4.2027397260273975,
          4.446575342465754,
          4.698630136986301,
          4.950684931506849,
          5.2027397260273975,
          5.446575342465754,
          5.698630136986301,
          5.950684931506849,
          6.2027397260273975,
          6.446575342465754,
          6.698630136986301,
          6.950684931506849,
          7.2027397260273975,
          7.449315068493151,
          7.701369863013698,
          7.953424657534247,
          8.205479452054794,
          8.449315068493151,
          8.7013698630137,
          8.953424657534246,
          9.205479452054794,
          9.449315068493151,
          9.7013698630137
         ],
         "xaxis": "x",
         "y": [
          4.711628826105373,
          4.412390820079892,
          4.385256064169985,
          4.327310327159944,
          4.273340873628576,
          4.236018799850899,
          4.175945872317211,
          4.143521249058431,
          4.1255195077091065,
          4.124025210206118,
          4.101623140484174,
          4.102929352225867,
          4.106212328292059,
          4.11152616500742,
          4.105358408994772,
          4.102728648293578,
          4.095760794622095,
          4.081231907199897,
          4.057700184212637,
          4.058132472931141,
          4.107253701265619,
          4.115780483079539,
          4.114388684286485,
          4.089044252858281,
          4.065613147308619,
          4.132318335261866,
          4.132923294638113,
          4.143513388570897,
          4.14947242396286,
          4.149350140437209,
          4.155963188804687,
          4.143010429917025,
          4.166061483274256,
          4.171627039874674,
          4.180607713712192,
          4.182612675602468,
          4.188640560375913,
          4.1885825565680745,
          4.1908412275850235
         ],
         "yaxis": "y"
        },
        {
         "customdata": [
          [
           "1995-02-15T00:00:00",
           "2025-02-15T00:00:00",
           "912810ET1",
           "30-Year",
           "7.625% Feb-25",
           100.40625,
           9501967.2055
          ],
          [
           "1995-08-15T00:00:00",
           "2025-08-15T00:00:00",
           "912810EV6",
           "30-Year",
           "6.875% Aug-25",
           101.75,
           11178383.9005
          ],
          [
           "1996-02-15T00:00:00",
           "2026-02-15T00:00:00",
           "912810EW4",
           "30-Year",
           "6.000% Feb-26",
           101.90625,
           12830893.089699998
          ],
          [
           "1996-08-15T00:00:00",
           "2026-08-15T00:00:00",
           "912810EX2",
           "30-Year",
           "6.750% Aug-26",
           104.09375,
           8804540.7641
          ],
          [
           "1996-11-15T00:00:00",
           "2026-11-15T00:00:00",
           "912810EY0",
           "30-Year",
           "6.500% Nov-26",
           104.5625,
           10852532.143099999
          ],
          [
           "1997-02-18T00:00:00",
           "2027-02-15T00:00:00",
           "912810EZ7",
           "30-Year",
           "6.625% Feb-27",
           105.46875,
           9514795.1078
          ],
          [
           "1997-08-15T00:00:00",
           "2027-08-15T00:00:00",
           "912810FA1",
           "30-Year",
           "6.375% Aug-27",
           105.625,
           9189863.2059
          ],
          [
           "1998-02-17T00:00:00",
           "2027-11-15T00:00:00",
           "912810FB9",
           "30-Year",
           "6.125% Nov-27",
           105.46875,
           22005877.5902
          ],
          [
           "1998-08-17T00:00:00",
           "2028-08-15T00:00:00",
           "912810FE3",
           "30-Year",
           "5.500% Aug-28",
           105,
           11768489.5904
          ],
          [
           "1998-11-16T00:00:00",
           "2028-11-15T00:00:00",
           "912810FF0",
           "30-Year",
           "5.250% Nov-28",
           104.0625,
           10943079.528099997
          ],
          [
           "1999-02-16T00:00:00",
           "2029-02-15T00:00:00",
           "912810FG8",
           "30-Year",
           "5.250% Feb-29",
           104.6875,
           11342934.641199999
          ],
          [
           "1999-08-16T00:00:00",
           "2029-08-15T00:00:00",
           "912810FJ2",
           "30-Year",
           "6.125% Aug-29",
           108.53125,
           11170688.838499999
          ],
          [
           "2000-08-15T00:00:00",
           "2030-05-15T00:00:00",
           "912810FM5",
           "30-Year",
           "6.250% May-30",
           110.25,
           17031893.4207
          ],
          [
           "2001-08-15T00:00:00",
           "2031-02-15T00:00:00",
           "912810FP8",
           "30-Year",
           "5.375% Feb-31",
           106.875,
           16418620.071599998
          ],
          [
           "2006-08-15T00:00:00",
           "2036-02-15T00:00:00",
           "912810FT0",
           "30-Year",
           "4.500% Feb-36",
           103.28125,
           26377388.877499998
          ],
          [
           "2007-05-15T00:00:00",
           "2037-02-15T00:00:00",
           "912810PT9",
           "30-Year",
           "4.750% Feb-37",
           105.3125,
           16577474.948600002
          ],
          [
           "2007-11-15T00:00:00",
           "2037-05-15T00:00:00",
           "912810PU6",
           "30-Year",
           "5.000% May-37",
           107.71875,
           21397677.9911
          ],
          [
           "2008-05-15T00:00:00",
           "2038-02-15T00:00:00",
           "912810PW2",
           "30-Year",
           "4.375% Feb-38",
           101.375,
           22508834.0699
          ],
          [
           "2008-11-17T00:00:00",
           "2038-05-15T00:00:00",
           "912810PX0",
           "30-Year",
           "4.500% May-38",
           102.53125,
           25481794.7024
          ],
          [
           "2009-03-16T00:00:00",
           "2039-02-15T00:00:00",
           "912810QA9",
           "30-Year",
           "3.500% Feb-39",
           91.78125,
           25890401.222599998
          ],
          [
           "2009-07-15T00:00:00",
           "2039-05-15T00:00:00",
           "912810QB7",
           "30-Year",
           "4.250% May-39",
           99.40625,
           38750644.263799995
          ],
          [
           "2009-10-15T00:00:00",
           "2039-08-15T00:00:00",
           "912810QC5",
           "30-Year",
           "4.500% Aug-39",
           102,
           41400790.314399995
          ],
          [
           "2010-01-15T00:00:00",
           "2039-11-15T00:00:00",
           "912810QD3",
           "30-Year",
           "4.375% Nov-39",
           100.59375,
           44530874.9147
          ],
          [
           "2010-04-15T00:00:00",
           "2040-02-15T00:00:00",
           "912810QE1",
           "30-Year",
           "4.625% Feb-40",
           103.3125,
           44868545.854499996
          ],
          [
           "2010-07-15T00:00:00",
           "2040-05-15T00:00:00",
           "912810QH4",
           "30-Year",
           "4.375% May-40",
           100.5,
           43440200.8495
          ],
          [
           "2010-10-15T00:00:00",
           "2040-08-15T00:00:00",
           "912810QK7",
           "30-Year",
           "3.875% Aug-40",
           94.75,
           43182809.7525
          ],
          [
           "2011-01-18T00:00:00",
           "2040-11-15T00:00:00",
           "912810QL5",
           "30-Year",
           "4.250% Nov-40",
           98.875,
           42872166.4147
          ],
          [
           "2011-04-15T00:00:00",
           "2041-02-15T00:00:00",
           "912810QN1",
           "30-Year",
           "4.750% Feb-41",
           104.65625,
           42974808.6812
          ],
          [
           "2011-07-15T00:00:00",
           "2041-05-15T00:00:00",
           "912810QQ4",
           "30-Year",
           "4.375% May-41",
           100.25,
           41965834.056
          ],
          [
           "2011-10-17T00:00:00",
           "2041-08-15T00:00:00",
           "912810QS0",
           "30-Year",
           "3.750% Aug-41",
           92.5625,
           42458659.6368
          ],
          [
           "2012-01-17T00:00:00",
           "2041-11-15T00:00:00",
           "912810QT8",
           "30-Year",
           "3.125% Nov-41",
           84.84375,
           44590832.906399995
          ],
          [
           "2012-04-16T00:00:00",
           "2042-02-15T00:00:00",
           "912810QU5",
           "30-Year",
           "3.125% Feb-42",
           84.5,
           47185419.9766
          ],
          [
           "2012-07-16T00:00:00",
           "2042-05-15T00:00:00",
           "912810QW1",
           "30-Year",
           "3.000% May-42",
           82.59375,
           43886893.7179
          ],
          [
           "2012-10-15T00:00:00",
           "2042-08-15T00:00:00",
           "912810QX9",
           "30-Year",
           "2.750% Aug-42",
           79.15625,
           41817626.427499995
          ],
          [
           "2013-01-15T00:00:00",
           "2042-11-15T00:00:00",
           "912810QY7",
           "30-Year",
           "2.750% Nov-42",
           78.875,
           41921384.7762
          ],
          [
           "2013-04-15T00:00:00",
           "2043-02-15T00:00:00",
           "912810QZ4",
           "30-Year",
           "3.125% Feb-43",
           83.28125,
           41971865.37809999
          ],
          [
           "2013-07-15T00:00:00",
           "2043-05-15T00:00:00",
           "912810RB6",
           "30-Year",
           "2.875% May-43",
           79.875,
           41783479.353
          ],
          [
           "2013-10-15T00:00:00",
           "2043-08-15T00:00:00",
           "912810RC4",
           "30-Year",
           "3.625% Aug-43",
           89.25,
           41880430.1677
          ],
          [
           "2014-01-15T00:00:00",
           "2043-11-15T00:00:00",
           "912810RD2",
           "30-Year",
           "3.750% Nov-43",
           90.71875,
           41972047.944299996
          ],
          [
           "2014-04-15T00:00:00",
           "2044-02-15T00:00:00",
           "912810RE0",
           "30-Year",
           "3.625% Feb-44",
           88.90625,
           41821069.29859999
          ],
          [
           "2014-07-15T00:00:00",
           "2044-05-15T00:00:00",
           "912810RG5",
           "30-Year",
           "3.375% May-44",
           85.5,
           41964276.037599996
          ],
          [
           "2014-10-15T00:00:00",
           "2044-08-15T00:00:00",
           "912810RH3",
           "30-Year",
           "3.125% Aug-44",
           82.03125,
           41982546.8808
          ],
          [
           "2015-01-15T00:00:00",
           "2044-11-15T00:00:00",
           "912810RJ9",
           "30-Year",
           "3.000% Nov-44",
           80.15625,
           41450627.792399995
          ],
          [
           "2015-04-15T00:00:00",
           "2045-02-15T00:00:00",
           "912810RK6",
           "30-Year",
           "2.500% Feb-45",
           73.40625,
           41986118.65889999
          ],
          [
           "2015-07-15T00:00:00",
           "2045-05-15T00:00:00",
           "912810RM2",
           "30-Year",
           "3.000% May-45",
           79.90625,
           41282796.345199995
          ],
          [
           "2015-10-15T00:00:00",
           "2045-08-15T00:00:00",
           "912810RN0",
           "30-Year",
           "2.875% Aug-45",
           78.09375,
           41276726.5797
          ],
          [
           "2016-01-15T00:00:00",
           "2045-11-15T00:00:00",
           "912810RP5",
           "30-Year",
           "3.000% Nov-45",
           79.59375,
           42044271.7197
          ],
          [
           "2016-04-15T00:00:00",
           "2046-02-15T00:00:00",
           "912810RQ3",
           "30-Year",
           "2.500% Feb-46",
           72.5625,
           39671854.2245
          ],
          [
           "2016-07-15T00:00:00",
           "2046-05-15T00:00:00",
           "912810RS9",
           "30-Year",
           "2.500% May-46",
           72.34375,
           42797719.7212
          ],
          [
           "2016-10-17T00:00:00",
           "2046-08-15T00:00:00",
           "912810RT7",
           "30-Year",
           "2.250% Aug-46",
           68.6875,
           40524204.56829998
          ],
          [
           "2017-01-17T00:00:00",
           "2046-11-15T00:00:00",
           "912810RU4",
           "30-Year",
           "2.875% Nov-46",
           77.125,
           42910763.7271
          ],
          [
           "2017-04-17T00:00:00",
           "2047-02-15T00:00:00",
           "912810RV2",
           "30-Year",
           "3.000% Feb-47",
           78.75,
           40624782.77780001
          ],
          [
           "2017-07-17T00:00:00",
           "2047-05-15T00:00:00",
           "912810RX8",
           "30-Year",
           "3.000% May-47",
           78.59375,
           43858234.631799996
          ],
          [
           "2017-10-16T00:00:00",
           "2047-08-15T00:00:00",
           "912810RY6",
           "30-Year",
           "2.750% Aug-47",
           74.9375,
           43491885.754999995
          ],
          [
           "2018-01-16T00:00:00",
           "2047-11-15T00:00:00",
           "912810RZ3",
           "30-Year",
           "2.750% Nov-47",
           74.78125,
           41210549.52089999
          ],
          [
           "2018-04-16T00:00:00",
           "2048-02-15T00:00:00",
           "912810SA7",
           "30-Year",
           "3.000% Feb-48",
           78.1875,
           44935585.4502
          ],
          [
           "2018-07-16T00:00:00",
           "2048-05-15T00:00:00",
           "912810SC3",
           "30-Year",
           "3.125% May-48",
           79.875,
           48652582.938700005
          ],
          [
           "2018-10-15T00:00:00",
           "2048-08-15T00:00:00",
           "912810SD1",
           "30-Year",
           "3.000% Aug-48",
           77.96875,
           50321059.57009999
          ],
          [
           "2019-01-15T00:00:00",
           "2048-11-15T00:00:00",
           "912810SE9",
           "30-Year",
           "3.375% Nov-48",
           83.34375,
           54469741.263100006
          ],
          [
           "2019-04-15T00:00:00",
           "2049-02-15T00:00:00",
           "912810SF6",
           "30-Year",
           "3.000% Feb-49",
           77.8125,
           55490043.29239998
          ],
          [
           "2019-07-15T00:00:00",
           "2049-05-15T00:00:00",
           "912810SH2",
           "30-Year",
           "2.875% May-49",
           75.875,
           57179128.3865
          ],
          [
           "2019-10-15T00:00:00",
           "2049-08-15T00:00:00",
           "912810SJ8",
           "30-Year",
           "2.250% Aug-49",
           66.53125,
           63303758.410100006
          ],
          [
           "2020-01-15T00:00:00",
           "2049-11-15T00:00:00",
           "912810SK5",
           "30-Year",
           "2.375% Nov-49",
           68.3125,
           60399560.46470001
          ],
          [
           "2020-04-15T00:00:00",
           "2050-02-15T00:00:00",
           "912810SL3",
           "30-Year",
           "2.000% Feb-50",
           62.5625,
           60402087.13659998
          ],
          [
           "2020-07-15T00:00:00",
           "2050-05-15T00:00:00",
           "912810SN9",
           "30-Year",
           "1.250% May-50",
           51.375,
           73541193.26870002
          ],
          [
           "2020-10-15T00:00:00",
           "2050-08-15T00:00:00",
           "912810SP4",
           "30-Year",
           "1.375% Aug-50",
           52.9375,
           88981538.7779
          ],
          [
           "2021-01-15T00:00:00",
           "2050-11-15T00:00:00",
           "912810SS8",
           "30-Year",
           "1.625% Nov-50",
           56.5,
           85641803.2566
          ],
          [
           "2021-04-15T00:00:00",
           "2051-02-15T00:00:00",
           "912810SU3",
           "30-Year",
           "1.875% Feb-51",
           60.25,
           89737061.18480001
          ],
          [
           "2021-07-15T00:00:00",
           "2051-05-15T00:00:00",
           "912810SX7",
           "30-Year",
           "2.375% May-51",
           67.84375,
           94966395.76499997
          ],
          [
           "2021-10-15T00:00:00",
           "2051-08-15T00:00:00",
           "912810SZ2",
           "30-Year",
           "2.000% Aug-51",
           61.90625,
           91188760.50679998
          ],
          [
           "2022-01-18T00:00:00",
           "2051-11-15T00:00:00",
           "912810TB4",
           "30-Year",
           "1.875% Nov-51",
           59.84375,
           90192449.67570001
          ],
          [
           "2022-04-18T00:00:00",
           "2052-02-15T00:00:00",
           "912810TD0",
           "30-Year",
           "2.250% Feb-52",
           65.59375,
           84975175.33019999
          ],
          [
           "2022-07-15T00:00:00",
           "2052-05-15T00:00:00",
           "912810TG3",
           "30-Year",
           "2.875% May-52",
           75.40625,
           78366700.01889998
          ],
          [
           "2022-10-17T00:00:00",
           "2052-08-15T00:00:00",
           "912810TJ7",
           "30-Year",
           "3.000% Aug-52",
           77.40625,
           69913435.72729999
          ],
          [
           "2023-01-17T00:00:00",
           "2052-11-15T00:00:00",
           "912810TL2",
           "30-Year",
           "4.000% Nov-52",
           93.5625,
           64322680.64399998
          ],
          [
           "2023-04-17T00:00:00",
           "2053-02-15T00:00:00",
           "912810TN8",
           "30-Year",
           "3.625% Feb-53",
           87.53125,
           65958019.689799964
          ],
          [
           "2023-07-17T00:00:00",
           "2053-05-15T00:00:00",
           "912810TR9",
           "30-Year",
           "3.625% May-53",
           87.625,
           62565088.701999985
          ],
          [
           "2023-10-16T00:00:00",
           "2053-08-15T00:00:00",
           "912810TT5",
           "30-Year",
           "4.125% Aug-53",
           95.75,
           71554285.1114
          ],
          [
           "2024-01-16T00:00:00",
           "2053-11-15T00:00:00",
           "912810TV0",
           "30-Year",
           "4.750% Nov-53",
           106.21875,
           66432180.50559991
          ],
          [
           "2024-04-15T00:00:00",
           "2054-02-15T00:00:00",
           "912810TX6",
           "30-Year",
           "4.250% Feb-54",
           98.03125,
           71180778.51760009
          ],
          [
           "2024-07-15T00:00:00",
           "2054-05-15T00:00:00",
           "912810UA4",
           "30-Year",
           "4.625% May-54",
           104.3125,
           76403284.10030001
          ],
          [
           "2024-10-15T00:00:00",
           "2054-08-15T00:00:00",
           "912810UC0",
           "30-Year",
           "4.250% Aug-54",
           98.1875,
           74250733.12170003
          ]
         ],
         "hovertemplate": "original_security_term=%{customdata[3]}<br>time_to_maturity=%{x}<br>eod_yield=%{y}<br>issue_date=%{customdata[0]}<br>maturity_date=%{customdata[1]}<br>cusip=%{customdata[2]}<br>ust_label=%{customdata[4]}<br>eod_price=%{customdata[5]}<br>free_float=%{customdata[6]}<extra></extra>",
         "legendgroup": "30-Year",
         "marker": {
          "color": "#FF97FF",
          "symbol": "circle"
         },
         "mode": "markers",
         "name": "30-Year",
         "orientation": "v",
         "showlegend": true,
         "type": "scatter",
         "x": [
          0.2,
          0.6958904109589041,
          1.2,
          1.6958904109589041,
          1.9479452054794522,
          2.2,
          2.695890410958904,
          2.947945205479452,
          3.6986301369863015,
          3.9506849315068493,
          4.2027397260273975,
          4.698630136986301,
          5.446575342465754,
          6.2027397260273975,
          11.205479452054794,
          12.208219178082192,
          12.452054794520548,
          13.208219178082192,
          13.452054794520548,
          14.208219178082192,
          14.452054794520548,
          14.704109589041096,
          14.956164383561644,
          15.208219178082192,
          15.454794520547946,
          15.706849315068494,
          15.95890410958904,
          16.21095890410959,
          16.454794520547946,
          16.706849315068492,
          16.958904109589042,
          17.21095890410959,
          17.454794520547946,
          17.706849315068492,
          17.958904109589042,
          18.21095890410959,
          18.454794520547946,
          18.706849315068492,
          18.958904109589042,
          19.21095890410959,
          19.457534246575342,
          19.709589041095892,
          19.96164383561644,
          20.213698630136985,
          20.457534246575342,
          20.709589041095892,
          20.96164383561644,
          21.213698630136985,
          21.457534246575342,
          21.709589041095892,
          21.96164383561644,
          22.213698630136985,
          22.457534246575342,
          22.709589041095892,
          22.96164383561644,
          23.213698630136985,
          23.46027397260274,
          23.71232876712329,
          23.964383561643835,
          24.216438356164385,
          24.46027397260274,
          24.71232876712329,
          24.964383561643835,
          25.216438356164385,
          25.46027397260274,
          25.71232876712329,
          25.964383561643835,
          26.216438356164385,
          26.46027397260274,
          26.71232876712329,
          26.964383561643835,
          27.216438356164385,
          27.46301369863014,
          27.715068493150685,
          27.96712328767123,
          28.21917808219178,
          28.46301369863014,
          28.715068493150685,
          28.96712328767123,
          29.21917808219178,
          29.46301369863014,
          29.715068493150685
         ],
         "xaxis": "x",
         "y": [
          5.401322334939493,
          4.274072047595238,
          4.3352069063607175,
          4.214529121046985,
          4.03431286627943,
          3.992598624652935,
          4.142884621533975,
          4.131619271867976,
          4.026932471903384,
          4.122277698816686,
          4.021751580476364,
          4.105829435266061,
          4.127602738149307,
          4.104800248248507,
          4.12979469021161,
          4.188074138310194,
          4.196905676451786,
          4.236817158205534,
          4.250451198984248,
          4.277520504464533,
          4.305214547271012,
          4.313775383364752,
          4.320245100355438,
          4.324284411330724,
          4.329860248194233,
          4.338783564465246,
          4.348160488400609,
          4.345538328879035,
          4.353160985708847,
          4.381916585491484,
          4.403321972918288,
          4.420707445318276,
          4.444289087111409,
          4.465754618398747,
          4.474604250316963,
          4.477348817140819,
          4.490940248280322,
          4.479230859440317,
          4.48180187319069,
          4.492820604539755,
          4.501635713565686,
          4.510720414479671,
          4.520110207367254,
          4.521546899011518,
          4.515347304283409,
          4.514289076153825,
          4.516646493723266,
          4.526179990575714,
          4.528977312612885,
          4.531719703996692,
          4.530670830451218,
          4.526912623639687,
          4.528827520140375,
          4.52807229151229,
          4.528365988810971,
          4.528213290534575,
          4.526546483667147,
          4.52449251805506,
          4.520569639118594,
          4.516274565594632,
          4.51447517344924,
          4.510701213904661,
          4.502034292174785,
          4.498184440963187,
          4.4677368862947775,
          4.475087881797059,
          4.476129621168973,
          4.463237942533298,
          4.457079648542904,
          4.4530530687857315,
          4.446872722031016,
          4.441391872452104,
          4.432638224079297,
          4.42231430469707,
          4.402377610659756,
          4.4005721289283635,
          4.390817390773888,
          4.386123988938539,
          4.369047668675069,
          4.369321197961859,
          4.363162687276315,
          4.359109580229044
         ],
         "yaxis": "y"
        },
        {
         "customdata": [
          [
           "2020-07-31T00:00:00",
           "2040-05-15T00:00:00",
           "912810SR0",
           "20-Year",
           "1.125% May-40",
           63.59375,
           60016234.06529999
          ],
          [
           "2020-11-02T00:00:00",
           "2040-08-15T00:00:00",
           "912810SQ2",
           "20-Year",
           "1.125% Aug-40",
           63.03125,
           76156341.16449998
          ],
          [
           "2021-02-01T00:00:00",
           "2040-11-15T00:00:00",
           "912810ST6",
           "20-Year",
           "1.375% Nov-40",
           65.34375,
           85377126.19189999
          ],
          [
           "2021-04-30T00:00:00",
           "2041-02-15T00:00:00",
           "912810SW9",
           "20-Year",
           "1.875% Feb-41",
           70.71875,
           89453392.70620002
          ],
          [
           "2021-08-02T00:00:00",
           "2041-05-15T00:00:00",
           "912810SY5",
           "20-Year",
           "2.250% May-41",
           74.8125,
           82652275.7587
          ],
          [
           "2021-11-01T00:00:00",
           "2041-08-15T00:00:00",
           "912810TA6",
           "20-Year",
           "1.750% Aug-41",
           68.40625,
           83119874.5457
          ],
          [
           "2022-01-31T00:00:00",
           "2041-11-15T00:00:00",
           "912810TC2",
           "20-Year",
           "2.000% Nov-41",
           70.90625,
           70142017.34090002
          ],
          [
           "2022-05-02T00:00:00",
           "2042-02-15T00:00:00",
           "912810TF5",
           "20-Year",
           "2.375% Feb-42",
           75.125,
           58636173.6676
          ],
          [
           "2022-08-01T00:00:00",
           "2042-05-15T00:00:00",
           "912810TH1",
           "20-Year",
           "3.250% May-42",
           85.78125,
           49244890.98959997
          ],
          [
           "2022-10-31T00:00:00",
           "2042-08-15T00:00:00",
           "912810TK4",
           "20-Year",
           "3.375% Aug-42",
           87.0625,
           40691916.164100036
          ],
          [
           "2023-01-31T00:00:00",
           "2042-11-15T00:00:00",
           "912810TM0",
           "20-Year",
           "4.000% Nov-42",
           94.8125,
           40603652.97419998
          ],
          [
           "2023-05-01T00:00:00",
           "2043-02-15T00:00:00",
           "912810TQ1",
           "20-Year",
           "3.875% Feb-43",
           93,
           43555435.74829997
          ],
          [
           "2023-07-31T00:00:00",
           "2043-05-15T00:00:00",
           "912810TS7",
           "20-Year",
           "3.875% May-43",
           92.78125,
           41650592.34109997
          ],
          [
           "2023-10-31T00:00:00",
           "2043-08-15T00:00:00",
           "912810TU2",
           "20-Year",
           "4.375% Aug-43",
           99.15625,
           43649708.877999954
          ],
          [
           "2024-01-31T00:00:00",
           "2043-11-15T00:00:00",
           "912810TW8",
           "20-Year",
           "4.750% Nov-43",
           104.09375,
           42177731.40540017
          ],
          [
           "2024-04-30T00:00:00",
           "2044-02-15T00:00:00",
           "912810TZ1",
           "20-Year",
           "4.500% Feb-44",
           100.5625,
           42721276.283699945
          ],
          [
           "2024-07-31T00:00:00",
           "2044-05-15T00:00:00",
           "912810UB2",
           "20-Year",
           "4.625% May-44",
           102.125,
           44112583.65579995
          ],
          [
           "2024-10-31T00:00:00",
           "2044-08-15T00:00:00",
           "912810UD8",
           "20-Year",
           "4.125% Aug-44",
           95.4375,
           43755582.50919999
          ]
         ],
         "hovertemplate": "original_security_term=%{customdata[3]}<br>time_to_maturity=%{x}<br>eod_yield=%{y}<br>issue_date=%{customdata[0]}<br>maturity_date=%{customdata[1]}<br>cusip=%{customdata[2]}<br>ust_label=%{customdata[4]}<br>eod_price=%{customdata[5]}<br>free_float=%{customdata[6]}<extra></extra>",
         "legendgroup": "20-Year",
         "marker": {
          "color": "#FECB52",
          "symbol": "circle"
         },
         "mode": "markers",
         "name": "20-Year",
         "orientation": "v",
         "showlegend": true,
         "type": "scatter",
         "x": [
          15.454794520547946,
          15.706849315068494,
          15.95890410958904,
          16.21095890410959,
          16.454794520547946,
          16.706849315068492,
          16.958904109589042,
          17.21095890410959,
          17.454794520547946,
          17.706849315068492,
          17.958904109589042,
          18.21095890410959,
          18.454794520547946,
          18.706849315068492,
          18.958904109589042,
          19.21095890410959,
          19.457534246575342,
          19.709589041095892
         ],
         "xaxis": "x",
         "y": [
          4.3972054496618265,
          4.414208626361944,
          4.428216679711613,
          4.426325620564154,
          4.421221714227926,
          4.451324016550006,
          4.465749519788812,
          4.461425530729632,
          4.428282029658132,
          4.43723163988917,
          4.421439827527968,
          4.43894715905366,
          4.452600404024727,
          4.440988891623245,
          4.428104890417732,
          4.45517368583523,
          4.460039418631672,
          4.475708799830374
         ],
         "yaxis": "y"
        },
        {
         "customdata": [
          [
           "2024-12-03T00:00:00",
           "2025-04-01T00:00:00",
           "912797NT0",
           "OTR - 17-Week",
           "nan% Apr-25",
           98.596,
           0
          ]
         ],
         "hovertemplate": "original_security_term=%{customdata[3]}<br>time_to_maturity=%{x}<br>eod_yield=%{y}<br>issue_date=%{customdata[0]}<br>maturity_date=%{customdata[1]}<br>cusip=%{customdata[2]}<br>ust_label=%{customdata[4]}<br>eod_price=%{customdata[5]}<br>free_float=%{customdata[6]}<extra></extra>",
         "legendgroup": "OTR - 17-Week",
         "marker": {
          "color": "#636efa",
          "line": {
           "color": "white",
           "width": 2
          },
          "symbol": "circle"
         },
         "mode": "markers",
         "name": "OTR - 17-Week",
         "orientation": "v",
         "showlegend": true,
         "type": "scatter",
         "x": [
          0.3232876712328767
         ],
         "xaxis": "x",
         "y": [
          4.381516491541228
         ],
         "yaxis": "y"
        },
        {
         "customdata": [
          [
           "2024-11-29T00:00:00",
           "2025-05-29T00:00:00",
           "912797NN3",
           "OTR - 26-Week",
           "nan% May-25",
           97.938889,
           0
          ]
         ],
         "hovertemplate": "original_security_term=%{customdata[3]}<br>time_to_maturity=%{x}<br>eod_yield=%{y}<br>issue_date=%{customdata[0]}<br>maturity_date=%{customdata[1]}<br>cusip=%{customdata[2]}<br>ust_label=%{customdata[4]}<br>eod_price=%{customdata[5]}<br>free_float=%{customdata[6]}<extra></extra>",
         "legendgroup": "OTR - 26-Week",
         "marker": {
          "color": "#EF553B",
          "line": {
           "color": "white",
           "width": 2
          },
          "symbol": "circle"
         },
         "mode": "markers",
         "name": "OTR - 26-Week",
         "orientation": "v",
         "showlegend": true,
         "type": "scatter",
         "x": [
          0.4821917808219178
         ],
         "xaxis": "x",
         "y": [
          4.3292300073248375
         ],
         "yaxis": "y"
        },
        {
         "customdata": [
          [
           "2024-11-29T00:00:00",
           "2025-11-28T00:00:00",
           "912797NL7",
           "OTR - 52-Week",
           "nan% Nov-25",
           95.982444,
           0
          ]
         ],
         "hovertemplate": "original_security_term=%{customdata[3]}<br>time_to_maturity=%{x}<br>eod_yield=%{y}<br>issue_date=%{customdata[0]}<br>maturity_date=%{customdata[1]}<br>cusip=%{customdata[2]}<br>ust_label=%{customdata[4]}<br>eod_price=%{customdata[5]}<br>free_float=%{customdata[6]}<extra></extra>",
         "legendgroup": "OTR - 52-Week",
         "marker": {
          "color": "#00cc96",
          "line": {
           "color": "white",
           "width": 2
          },
          "symbol": "circle"
         },
         "mode": "markers",
         "name": "OTR - 52-Week",
         "orientation": "v",
         "showlegend": true,
         "type": "scatter",
         "x": [
          0.9835616438356164
         ],
         "xaxis": "x",
         "y": [
          4.209103538692319
         ],
         "yaxis": "y"
        },
        {
         "customdata": [
          [
           "2024-12-02T00:00:00",
           "2026-11-30T00:00:00",
           "91282CLY5",
           "OTR - 2-Year",
           "4.250% Nov-26",
           100.21875,
           0
          ]
         ],
         "hovertemplate": "original_security_term=%{customdata[3]}<br>time_to_maturity=%{x}<br>eod_yield=%{y}<br>issue_date=%{customdata[0]}<br>maturity_date=%{customdata[1]}<br>cusip=%{customdata[2]}<br>ust_label=%{customdata[4]}<br>eod_price=%{customdata[5]}<br>free_float=%{customdata[6]}<extra></extra>",
         "legendgroup": "OTR - 2-Year",
         "marker": {
          "color": "#ab63fa",
          "line": {
           "color": "white",
           "width": 2
          },
          "symbol": "circle"
         },
         "mode": "markers",
         "name": "OTR - 2-Year",
         "orientation": "v",
         "showlegend": true,
         "type": "scatter",
         "x": [
          1.989041095890411
         ],
         "xaxis": "x",
         "y": [
          4.1337938510707755
         ],
         "yaxis": "y"
        },
        {
         "customdata": [
          [
           "2024-11-15T00:00:00",
           "2027-11-15T00:00:00",
           "91282CLX7",
           "OTR - 3-Year",
           "4.125% Nov-27",
           100.09375,
           72080350.62119998
          ]
         ],
         "hovertemplate": "original_security_term=%{customdata[3]}<br>time_to_maturity=%{x}<br>eod_yield=%{y}<br>issue_date=%{customdata[0]}<br>maturity_date=%{customdata[1]}<br>cusip=%{customdata[2]}<br>ust_label=%{customdata[4]}<br>eod_price=%{customdata[5]}<br>free_float=%{customdata[6]}<extra></extra>",
         "legendgroup": "OTR - 3-Year",
         "marker": {
          "color": "#FFA15A",
          "line": {
           "color": "white",
           "width": 2
          },
          "symbol": "circle"
         },
         "mode": "markers",
         "name": "OTR - 3-Year",
         "orientation": "v",
         "showlegend": true,
         "type": "scatter",
         "x": [
          2.947945205479452
         ],
         "xaxis": "x",
         "y": [
          4.089408539518485
         ],
         "yaxis": "y"
        },
        {
         "customdata": [
          [
           "2024-12-02T00:00:00",
           "2029-11-30T00:00:00",
           "91282CMA6",
           "OTR - 5-Year",
           "4.125% Nov-29",
           100.25,
           0
          ]
         ],
         "hovertemplate": "original_security_term=%{customdata[3]}<br>time_to_maturity=%{x}<br>eod_yield=%{y}<br>issue_date=%{customdata[0]}<br>maturity_date=%{customdata[1]}<br>cusip=%{customdata[2]}<br>ust_label=%{customdata[4]}<br>eod_price=%{customdata[5]}<br>free_float=%{customdata[6]}<extra></extra>",
         "legendgroup": "OTR - 5-Year",
         "marker": {
          "color": "#19d3f3",
          "line": {
           "color": "white",
           "width": 2
          },
          "symbol": "circle"
         },
         "mode": "markers",
         "name": "OTR - 5-Year",
         "orientation": "v",
         "showlegend": true,
         "type": "scatter",
         "x": [
          4.991780821917808
         ],
         "xaxis": "x",
         "y": [
          4.068951474688751
         ],
         "yaxis": "y"
        },
        {
         "customdata": [
          [
           "2024-12-02T00:00:00",
           "2031-11-30T00:00:00",
           "91282CLZ2",
           "OTR - 7-Year",
           "4.125% Nov-31",
           100,
           0
          ]
         ],
         "hovertemplate": "original_security_term=%{customdata[3]}<br>time_to_maturity=%{x}<br>eod_yield=%{y}<br>issue_date=%{customdata[0]}<br>maturity_date=%{customdata[1]}<br>cusip=%{customdata[2]}<br>ust_label=%{customdata[4]}<br>eod_price=%{customdata[5]}<br>free_float=%{customdata[6]}<extra></extra>",
         "legendgroup": "OTR - 7-Year",
         "marker": {
          "color": "#FF6692",
          "line": {
           "color": "white",
           "width": 2
          },
          "symbol": "circle"
         },
         "mode": "markers",
         "name": "OTR - 7-Year",
         "orientation": "v",
         "showlegend": true,
         "type": "scatter",
         "x": [
          6.991780821917808
         ],
         "xaxis": "x",
         "y": [
          4.124888888228864
         ],
         "yaxis": "y"
        },
        {
         "customdata": [
          [
           "2024-11-15T00:00:00",
           "2034-11-15T00:00:00",
           "91282CLW9",
           "OTR - 10-Year",
           "4.250% Nov-34",
           100.5,
           52196549.45679999
          ]
         ],
         "hovertemplate": "original_security_term=%{customdata[3]}<br>time_to_maturity=%{x}<br>eod_yield=%{y}<br>issue_date=%{customdata[0]}<br>maturity_date=%{customdata[1]}<br>cusip=%{customdata[2]}<br>ust_label=%{customdata[4]}<br>eod_price=%{customdata[5]}<br>free_float=%{customdata[6]}<extra></extra>",
         "legendgroup": "OTR - 10-Year",
         "marker": {
          "color": "#B6E880",
          "line": {
           "color": "white",
           "width": 2
          },
          "symbol": "circle"
         },
         "mode": "markers",
         "name": "OTR - 10-Year",
         "orientation": "v",
         "showlegend": true,
         "type": "scatter",
         "x": [
          9.953424657534246
         ],
         "xaxis": "x",
         "y": [
          4.187482267443341
         ],
         "yaxis": "y"
        },
        {
         "customdata": [
          [
           "2024-12-02T00:00:00",
           "2044-11-15T00:00:00",
           "912810UF3",
           "OTR - 20-Year",
           "4.625% Nov-44",
           102.34375,
           0
          ]
         ],
         "hovertemplate": "original_security_term=%{customdata[3]}<br>time_to_maturity=%{x}<br>eod_yield=%{y}<br>issue_date=%{customdata[0]}<br>maturity_date=%{customdata[1]}<br>cusip=%{customdata[2]}<br>ust_label=%{customdata[4]}<br>eod_price=%{customdata[5]}<br>free_float=%{customdata[6]}<extra></extra>",
         "legendgroup": "OTR - 20-Year",
         "marker": {
          "color": "#FF97FF",
          "line": {
           "color": "white",
           "width": 2
          },
          "symbol": "circle"
         },
         "mode": "markers",
         "name": "OTR - 20-Year",
         "orientation": "v",
         "showlegend": true,
         "type": "scatter",
         "x": [
          19.96164383561644
         ],
         "xaxis": "x",
         "y": [
          4.446503742422538
         ],
         "yaxis": "y"
        },
        {
         "customdata": [
          [
           "2024-11-15T00:00:00",
           "2054-11-15T00:00:00",
           "912810UE6",
           "OTR - 30-Year",
           "4.500% Nov-54",
           102.4375,
           31066956.7195
          ]
         ],
         "hovertemplate": "original_security_term=%{customdata[3]}<br>time_to_maturity=%{x}<br>eod_yield=%{y}<br>issue_date=%{customdata[0]}<br>maturity_date=%{customdata[1]}<br>cusip=%{customdata[2]}<br>ust_label=%{customdata[4]}<br>eod_price=%{customdata[5]}<br>free_float=%{customdata[6]}<extra></extra>",
         "legendgroup": "OTR - 30-Year",
         "marker": {
          "color": "#FECB52",
          "line": {
           "color": "white",
           "width": 2
          },
          "symbol": "circle"
         },
         "mode": "markers",
         "name": "OTR - 30-Year",
         "orientation": "v",
         "showlegend": true,
         "type": "scatter",
         "x": [
          29.96712328767123
         ],
         "xaxis": "x",
         "y": [
          4.353280041173553
         ],
         "yaxis": "y"
        },
        {
         "mode": "lines",
         "name": "BSpline k=3 Par",
         "type": "scatter",
         "x": [
          0.5,
          1,
          1.5,
          2,
          2.5,
          3,
          3.5,
          4,
          4.5,
          5,
          5.5,
          6,
          6.5,
          7,
          7.5,
          8,
          8.5,
          9,
          9.5,
          10,
          10.5,
          11,
          11.5,
          12,
          12.5,
          13,
          13.5,
          14,
          14.5,
          15,
          15.5,
          16,
          16.5,
          17,
          17.5,
          18,
          18.5,
          19,
          19.5,
          20,
          20.5,
          21,
          21.5,
          22,
          22.5,
          23,
          23.5,
          24,
          24.5,
          25,
          25.5,
          26,
          26.5,
          27,
          27.5,
          28,
          28.5,
          29,
          29.5,
          30,
          30.5
         ],
         "y": [
          4.453441027308235,
          4.356139018052354,
          4.2599170385807374,
          4.183697594921779,
          4.156704271068369,
          4.154757368724055,
          4.1487776327899,
          4.140543317569174,
          4.137539428007403,
          4.140163424793104,
          4.147028809197247,
          4.1565511477082815,
          4.167128495652951,
          4.1772015847658155,
          4.1861904581653135,
          4.1972331237094025,
          4.21110171331045,
          4.215913376749966,
          4.2023937873123955,
          4.182999406070881,
          4.172470219607194,
          4.174009605603435,
          4.1869026754884455,
          4.206412234954337,
          4.227781401552925,
          4.249715012787422,
          4.271777878181628,
          4.293551947816795,
          4.314636612930592,
          4.33464871006288,
          4.3532881731677,
          4.370528644045485,
          4.386410540495853,
          4.400974231354461,
          4.414259847123877,
          4.4263071201869675,
          4.437155249880967,
          4.446842788642931,
          4.4554075461530696,
          4.462886508956978,
          4.469303567155309,
          4.4746339405304925,
          4.478841976118081,
          4.48189317761732,
          4.483753927145205,
          4.4843911869262305,
          4.483772180084073,
          4.4818640494738595,
          4.478633493215765,
          4.474046375259011,
          4.468122064699185,
          4.461094337022017,
          4.453245075759933,
          4.444850816088414,
          4.436183680671267,
          4.427512008377944,
          4.41910065355607,
          4.411210932891895,
          4.404100197404136,
          4.398021009065811,
          4.393219905220418
         ]
        },
        {
         "mode": "lines",
         "name": "BSpline k=5 Par",
         "type": "scatter",
         "x": [
          0.5,
          1,
          1.5,
          2,
          2.5,
          3,
          3.5,
          4,
          4.5,
          5,
          5.5,
          6,
          6.5,
          7,
          7.5,
          8,
          8.5,
          9,
          9.5,
          10,
          10.5,
          11,
          11.5,
          12,
          12.5,
          13,
          13.5,
          14,
          14.5,
          15,
          15.5,
          16,
          16.5,
          17,
          17.5,
          18,
          18.5,
          19,
          19.5,
          20,
          20.5,
          21,
          21.5,
          22,
          22.5,
          23,
          23.5,
          24,
          24.5,
          25,
          25.5,
          26,
          26.5,
          27,
          27.5,
          28,
          28.5,
          29,
          29.5,
          30,
          30.5
         ],
         "y": [
          4.4363784015720915,
          4.364225082555593,
          4.254395133982808,
          4.186508909817495,
          4.159044637764182,
          4.1499642833585275,
          4.146444772920637,
          4.143321154233939,
          4.140412341321851,
          4.139950686319925,
          4.144144805373154,
          4.153485641733167,
          4.166733187579435,
          4.1815367313217475,
          4.195055804588723,
          4.204557512650346,
          4.207998015763973,
          4.204578436006067,
          4.19527741544932,
          4.1833714408178615,
          4.174865072110675,
          4.176861524067239,
          4.1910657189320215,
          4.210528675214629,
          4.228564462315789,
          4.2465243417306615,
          4.268033775098319,
          4.29204322610517,
          4.31520769266951,
          4.336001690162361,
          4.3545622766566465,
          4.371318338447494,
          4.386599218969922,
          4.400636747448351,
          4.413581045014725,
          4.4255153437190335,
          4.4364699029623385,
          4.446435073021917,
          4.455373535618542,
          4.463231745167643,
          4.469950544018783,
          4.47547363824482,
          4.47975195353384,
          4.482746308188457,
          4.484429850917207,
          4.484790358835038,
          4.483832439692553,
          4.4815796846455145,
          4.478076817790507,
          4.473391885615144,
          4.467618522727845,
          4.460878318903981,
          4.453323295626429,
          4.44513847677396,
          4.436544506658925,
          4.427800227919816,
          4.419205080599696,
          4.411101121169232,
          4.403874386036978,
          4.397955239172238,
          4.393817250676831
         ]
        }
       ],
       "layout": {
        "height": 1000,
        "legend": {
         "title": {
          "text": "original_security_term"
         },
         "tracegroupgap": 0
        },
        "margin": {
         "t": 60
        },
        "showlegend": true,
        "template": {
         "data": {
          "bar": [
           {
            "error_x": {
             "color": "#f2f5fa"
            },
            "error_y": {
             "color": "#f2f5fa"
            },
            "marker": {
             "line": {
              "color": "rgb(17,17,17)",
              "width": 0.5
             },
             "pattern": {
              "fillmode": "overlay",
              "size": 10,
              "solidity": 0.2
             }
            },
            "type": "bar"
           }
          ],
          "barpolar": [
           {
            "marker": {
             "line": {
              "color": "rgb(17,17,17)",
              "width": 0.5
             },
             "pattern": {
              "fillmode": "overlay",
              "size": 10,
              "solidity": 0.2
             }
            },
            "type": "barpolar"
           }
          ],
          "carpet": [
           {
            "aaxis": {
             "endlinecolor": "#A2B1C6",
             "gridcolor": "#506784",
             "linecolor": "#506784",
             "minorgridcolor": "#506784",
             "startlinecolor": "#A2B1C6"
            },
            "baxis": {
             "endlinecolor": "#A2B1C6",
             "gridcolor": "#506784",
             "linecolor": "#506784",
             "minorgridcolor": "#506784",
             "startlinecolor": "#A2B1C6"
            },
            "type": "carpet"
           }
          ],
          "choropleth": [
           {
            "colorbar": {
             "outlinewidth": 0,
             "ticks": ""
            },
            "type": "choropleth"
           }
          ],
          "contour": [
           {
            "colorbar": {
             "outlinewidth": 0,
             "ticks": ""
            },
            "colorscale": [
             [
              0,
              "#0d0887"
             ],
             [
              0.1111111111111111,
              "#46039f"
             ],
             [
              0.2222222222222222,
              "#7201a8"
             ],
             [
              0.3333333333333333,
              "#9c179e"
             ],
             [
              0.4444444444444444,
              "#bd3786"
             ],
             [
              0.5555555555555556,
              "#d8576b"
             ],
             [
              0.6666666666666666,
              "#ed7953"
             ],
             [
              0.7777777777777778,
              "#fb9f3a"
             ],
             [
              0.8888888888888888,
              "#fdca26"
             ],
             [
              1,
              "#f0f921"
             ]
            ],
            "type": "contour"
           }
          ],
          "contourcarpet": [
           {
            "colorbar": {
             "outlinewidth": 0,
             "ticks": ""
            },
            "type": "contourcarpet"
           }
          ],
          "heatmap": [
           {
            "colorbar": {
             "outlinewidth": 0,
             "ticks": ""
            },
            "colorscale": [
             [
              0,
              "#0d0887"
             ],
             [
              0.1111111111111111,
              "#46039f"
             ],
             [
              0.2222222222222222,
              "#7201a8"
             ],
             [
              0.3333333333333333,
              "#9c179e"
             ],
             [
              0.4444444444444444,
              "#bd3786"
             ],
             [
              0.5555555555555556,
              "#d8576b"
             ],
             [
              0.6666666666666666,
              "#ed7953"
             ],
             [
              0.7777777777777778,
              "#fb9f3a"
             ],
             [
              0.8888888888888888,
              "#fdca26"
             ],
             [
              1,
              "#f0f921"
             ]
            ],
            "type": "heatmap"
           }
          ],
          "heatmapgl": [
           {
            "colorbar": {
             "outlinewidth": 0,
             "ticks": ""
            },
            "colorscale": [
             [
              0,
              "#0d0887"
             ],
             [
              0.1111111111111111,
              "#46039f"
             ],
             [
              0.2222222222222222,
              "#7201a8"
             ],
             [
              0.3333333333333333,
              "#9c179e"
             ],
             [
              0.4444444444444444,
              "#bd3786"
             ],
             [
              0.5555555555555556,
              "#d8576b"
             ],
             [
              0.6666666666666666,
              "#ed7953"
             ],
             [
              0.7777777777777778,
              "#fb9f3a"
             ],
             [
              0.8888888888888888,
              "#fdca26"
             ],
             [
              1,
              "#f0f921"
             ]
            ],
            "type": "heatmapgl"
           }
          ],
          "histogram": [
           {
            "marker": {
             "pattern": {
              "fillmode": "overlay",
              "size": 10,
              "solidity": 0.2
             }
            },
            "type": "histogram"
           }
          ],
          "histogram2d": [
           {
            "colorbar": {
             "outlinewidth": 0,
             "ticks": ""
            },
            "colorscale": [
             [
              0,
              "#0d0887"
             ],
             [
              0.1111111111111111,
              "#46039f"
             ],
             [
              0.2222222222222222,
              "#7201a8"
             ],
             [
              0.3333333333333333,
              "#9c179e"
             ],
             [
              0.4444444444444444,
              "#bd3786"
             ],
             [
              0.5555555555555556,
              "#d8576b"
             ],
             [
              0.6666666666666666,
              "#ed7953"
             ],
             [
              0.7777777777777778,
              "#fb9f3a"
             ],
             [
              0.8888888888888888,
              "#fdca26"
             ],
             [
              1,
              "#f0f921"
             ]
            ],
            "type": "histogram2d"
           }
          ],
          "histogram2dcontour": [
           {
            "colorbar": {
             "outlinewidth": 0,
             "ticks": ""
            },
            "colorscale": [
             [
              0,
              "#0d0887"
             ],
             [
              0.1111111111111111,
              "#46039f"
             ],
             [
              0.2222222222222222,
              "#7201a8"
             ],
             [
              0.3333333333333333,
              "#9c179e"
             ],
             [
              0.4444444444444444,
              "#bd3786"
             ],
             [
              0.5555555555555556,
              "#d8576b"
             ],
             [
              0.6666666666666666,
              "#ed7953"
             ],
             [
              0.7777777777777778,
              "#fb9f3a"
             ],
             [
              0.8888888888888888,
              "#fdca26"
             ],
             [
              1,
              "#f0f921"
             ]
            ],
            "type": "histogram2dcontour"
           }
          ],
          "mesh3d": [
           {
            "colorbar": {
             "outlinewidth": 0,
             "ticks": ""
            },
            "type": "mesh3d"
           }
          ],
          "parcoords": [
           {
            "line": {
             "colorbar": {
              "outlinewidth": 0,
              "ticks": ""
             }
            },
            "type": "parcoords"
           }
          ],
          "pie": [
           {
            "automargin": true,
            "type": "pie"
           }
          ],
          "scatter": [
           {
            "marker": {
             "line": {
              "color": "#283442"
             }
            },
            "type": "scatter"
           }
          ],
          "scatter3d": [
           {
            "line": {
             "colorbar": {
              "outlinewidth": 0,
              "ticks": ""
             }
            },
            "marker": {
             "colorbar": {
              "outlinewidth": 0,
              "ticks": ""
             }
            },
            "type": "scatter3d"
           }
          ],
          "scattercarpet": [
           {
            "marker": {
             "colorbar": {
              "outlinewidth": 0,
              "ticks": ""
             }
            },
            "type": "scattercarpet"
           }
          ],
          "scattergeo": [
           {
            "marker": {
             "colorbar": {
              "outlinewidth": 0,
              "ticks": ""
             }
            },
            "type": "scattergeo"
           }
          ],
          "scattergl": [
           {
            "marker": {
             "line": {
              "color": "#283442"
             }
            },
            "type": "scattergl"
           }
          ],
          "scattermapbox": [
           {
            "marker": {
             "colorbar": {
              "outlinewidth": 0,
              "ticks": ""
             }
            },
            "type": "scattermapbox"
           }
          ],
          "scatterpolar": [
           {
            "marker": {
             "colorbar": {
              "outlinewidth": 0,
              "ticks": ""
             }
            },
            "type": "scatterpolar"
           }
          ],
          "scatterpolargl": [
           {
            "marker": {
             "colorbar": {
              "outlinewidth": 0,
              "ticks": ""
             }
            },
            "type": "scatterpolargl"
           }
          ],
          "scatterternary": [
           {
            "marker": {
             "colorbar": {
              "outlinewidth": 0,
              "ticks": ""
             }
            },
            "type": "scatterternary"
           }
          ],
          "surface": [
           {
            "colorbar": {
             "outlinewidth": 0,
             "ticks": ""
            },
            "colorscale": [
             [
              0,
              "#0d0887"
             ],
             [
              0.1111111111111111,
              "#46039f"
             ],
             [
              0.2222222222222222,
              "#7201a8"
             ],
             [
              0.3333333333333333,
              "#9c179e"
             ],
             [
              0.4444444444444444,
              "#bd3786"
             ],
             [
              0.5555555555555556,
              "#d8576b"
             ],
             [
              0.6666666666666666,
              "#ed7953"
             ],
             [
              0.7777777777777778,
              "#fb9f3a"
             ],
             [
              0.8888888888888888,
              "#fdca26"
             ],
             [
              1,
              "#f0f921"
             ]
            ],
            "type": "surface"
           }
          ],
          "table": [
           {
            "cells": {
             "fill": {
              "color": "#506784"
             },
             "line": {
              "color": "rgb(17,17,17)"
             }
            },
            "header": {
             "fill": {
              "color": "#2a3f5f"
             },
             "line": {
              "color": "rgb(17,17,17)"
             }
            },
            "type": "table"
           }
          ]
         },
         "layout": {
          "annotationdefaults": {
           "arrowcolor": "#f2f5fa",
           "arrowhead": 0,
           "arrowwidth": 1
          },
          "autotypenumbers": "strict",
          "coloraxis": {
           "colorbar": {
            "outlinewidth": 0,
            "ticks": ""
           }
          },
          "colorscale": {
           "diverging": [
            [
             0,
             "#8e0152"
            ],
            [
             0.1,
             "#c51b7d"
            ],
            [
             0.2,
             "#de77ae"
            ],
            [
             0.3,
             "#f1b6da"
            ],
            [
             0.4,
             "#fde0ef"
            ],
            [
             0.5,
             "#f7f7f7"
            ],
            [
             0.6,
             "#e6f5d0"
            ],
            [
             0.7,
             "#b8e186"
            ],
            [
             0.8,
             "#7fbc41"
            ],
            [
             0.9,
             "#4d9221"
            ],
            [
             1,
             "#276419"
            ]
           ],
           "sequential": [
            [
             0,
             "#0d0887"
            ],
            [
             0.1111111111111111,
             "#46039f"
            ],
            [
             0.2222222222222222,
             "#7201a8"
            ],
            [
             0.3333333333333333,
             "#9c179e"
            ],
            [
             0.4444444444444444,
             "#bd3786"
            ],
            [
             0.5555555555555556,
             "#d8576b"
            ],
            [
             0.6666666666666666,
             "#ed7953"
            ],
            [
             0.7777777777777778,
             "#fb9f3a"
            ],
            [
             0.8888888888888888,
             "#fdca26"
            ],
            [
             1,
             "#f0f921"
            ]
           ],
           "sequentialminus": [
            [
             0,
             "#0d0887"
            ],
            [
             0.1111111111111111,
             "#46039f"
            ],
            [
             0.2222222222222222,
             "#7201a8"
            ],
            [
             0.3333333333333333,
             "#9c179e"
            ],
            [
             0.4444444444444444,
             "#bd3786"
            ],
            [
             0.5555555555555556,
             "#d8576b"
            ],
            [
             0.6666666666666666,
             "#ed7953"
            ],
            [
             0.7777777777777778,
             "#fb9f3a"
            ],
            [
             0.8888888888888888,
             "#fdca26"
            ],
            [
             1,
             "#f0f921"
            ]
           ]
          },
          "colorway": [
           "#636efa",
           "#EF553B",
           "#00cc96",
           "#ab63fa",
           "#FFA15A",
           "#19d3f3",
           "#FF6692",
           "#B6E880",
           "#FF97FF",
           "#FECB52"
          ],
          "font": {
           "color": "#f2f5fa"
          },
          "geo": {
           "bgcolor": "rgb(17,17,17)",
           "lakecolor": "rgb(17,17,17)",
           "landcolor": "rgb(17,17,17)",
           "showlakes": true,
           "showland": true,
           "subunitcolor": "#506784"
          },
          "hoverlabel": {
           "align": "left"
          },
          "hovermode": "closest",
          "mapbox": {
           "style": "dark"
          },
          "paper_bgcolor": "rgb(17,17,17)",
          "plot_bgcolor": "rgb(17,17,17)",
          "polar": {
           "angularaxis": {
            "gridcolor": "#506784",
            "linecolor": "#506784",
            "ticks": ""
           },
           "bgcolor": "rgb(17,17,17)",
           "radialaxis": {
            "gridcolor": "#506784",
            "linecolor": "#506784",
            "ticks": ""
           }
          },
          "scene": {
           "xaxis": {
            "backgroundcolor": "rgb(17,17,17)",
            "gridcolor": "#506784",
            "gridwidth": 2,
            "linecolor": "#506784",
            "showbackground": true,
            "ticks": "",
            "zerolinecolor": "#C8D4E3"
           },
           "yaxis": {
            "backgroundcolor": "rgb(17,17,17)",
            "gridcolor": "#506784",
            "gridwidth": 2,
            "linecolor": "#506784",
            "showbackground": true,
            "ticks": "",
            "zerolinecolor": "#C8D4E3"
           },
           "zaxis": {
            "backgroundcolor": "rgb(17,17,17)",
            "gridcolor": "#506784",
            "gridwidth": 2,
            "linecolor": "#506784",
            "showbackground": true,
            "ticks": "",
            "zerolinecolor": "#C8D4E3"
           }
          },
          "shapedefaults": {
           "line": {
            "color": "#f2f5fa"
           }
          },
          "sliderdefaults": {
           "bgcolor": "#C8D4E3",
           "bordercolor": "rgb(17,17,17)",
           "borderwidth": 1,
           "tickwidth": 0
          },
          "ternary": {
           "aaxis": {
            "gridcolor": "#506784",
            "linecolor": "#506784",
            "ticks": ""
           },
           "baxis": {
            "gridcolor": "#506784",
            "linecolor": "#506784",
            "ticks": ""
           },
           "bgcolor": "rgb(17,17,17)",
           "caxis": {
            "gridcolor": "#506784",
            "linecolor": "#506784",
            "ticks": ""
           }
          },
          "title": {
           "x": 0.05
          },
          "updatemenudefaults": {
           "bgcolor": "#506784",
           "borderwidth": 0
          },
          "xaxis": {
           "automargin": true,
           "gridcolor": "#283442",
           "linecolor": "#506784",
           "ticks": "",
           "title": {
            "standoff": 15
           },
           "zerolinecolor": "#283442",
           "zerolinewidth": 2
          },
          "yaxis": {
           "automargin": true,
           "gridcolor": "#283442",
           "linecolor": "#506784",
           "ticks": "",
           "title": {
            "standoff": 15
           },
           "zerolinecolor": "#283442",
           "zerolinewidth": 2
          }
         }
        },
        "title": {
         "text": "US Treasury Market: All Active CUSIPS: 2024-12-04 00:00:00"
        },
        "xaxis": {
         "anchor": "y",
         "domain": [
          0,
          1
         ],
         "showspikes": true,
         "spikecolor": "white",
         "spikemode": "across",
         "spikesnap": "cursor",
         "title": {
          "text": "Time to Maturity"
         }
        },
        "yaxis": {
         "anchor": "x",
         "domain": [
          0,
          1
         ],
         "range": [
          3,
          5.5
         ],
         "showspikes": true,
         "spikecolor": "white",
         "spikesnap": "cursor",
         "spikethickness": 0.5,
         "title": {
          "text": "Yield to Maturity"
         }
        }
       }
      }
     },
     "metadata": {},
     "output_type": "display_data"
    },
    {
     "data": {
      "image/png": "[encoded data removed]",
      "text/plain": [
       "<Figure size 2000x1000 with 1 Axes>"
      ]
     },
     "metadata": {},
     "output_type": "display_data"
    }
   ],
   "source": [
    "plot_usts(\n",
    "    curve_set_df=curve_set_df,\n",
    "    ttm_col=\"time_to_maturity\",\n",
    "    ytm_col=f\"eod_yield\",\n",
    "    hover_data=[\n",
    "        \"issue_date\",\n",
    "        \"maturity_date\",\n",
    "        \"cusip\",\n",
    "        \"original_security_term\",\n",
    "        \"ust_label\",\n",
    "        f\"eod_price\",\n",
    "        \"free_float\",\n",
    "    ],\n",
    "    par_curves=[(fitted_bspline_k3, \"BSpline k=3 Par\"), (fitted_bspline_k5, \"BSpline k=5 Par\")],\n",
    "    plot_par_model_residuals=True,\n",
    "    title=f\"US Treasury Market: All Active CUSIPS: {as_of_date}\"\n",
    ")"
   ]
  },
  {
   "cell_type": "code",
   "execution_count": null,
   "metadata": {},
   "outputs": [],
   "source": []
  }
 ],
 "metadata": {
  "kernelspec": {
   "display_name": "Python 3",
   "language": "python",
   "name": "python3"
  },
  "language_info": {
   "codemirror_mode": {
    "name": "ipython",
    "version": 3
   },
   "file_extension": ".py",
   "mimetype": "text/x-python",
   "name": "python",
   "nbconvert_exporter": "python",
   "pygments_lexer": "ipython3",
   "version": "3.13.0"
  }
 },
 "nbformat": 4,
 "nbformat_minor": 2
}
