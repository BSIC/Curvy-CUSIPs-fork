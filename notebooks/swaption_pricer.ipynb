{
 "cells": [
  {
   "cell_type": "code",
   "execution_count": null,
   "metadata": {},
   "outputs": [],
   "source": [
    "import sys\n",
    "sys.path.append(\"../\")"
   ]
  },
  {
   "cell_type": "code",
   "execution_count": 56,
   "metadata": {},
   "outputs": [
    {
     "name": "stdout",
     "output_type": "stream",
     "text": [
      "The autoreload extension is already loaded. To reload it, use:\n",
      "  %reload_ext autoreload\n"
     ]
    }
   ],
   "source": [
    "import pandas as pd\n",
    "from datetime import datetime \n",
    "from pandas.tseries.offsets import CustomBusinessDay \n",
    "from pandas.tseries.holiday import USFederalHolidayCalendar\n",
    "\n",
    "from CurvyCUSIPs.CurveDataFetcher import CurveDataFetcher\n",
    "from CurvyCUSIPs.S490Swaps import S490Swaps\n",
    "from CurvyCUSIPs.S490Swaptions import S490Swaptions \n",
    "\n",
    "import CurvyCUSIPs.HedgeHog.swaps as hh_swaps\n",
    "import CurvyCUSIPs.HedgeHog.swaptions as hh_swaptions\n",
    "\n",
    "import nest_asyncio\n",
    "nest_asyncio.apply()\n",
    "\n",
    "%load_ext autoreload\n",
    "%autoreload 2"
   ]
  },
  {
   "cell_type": "code",
   "execution_count": null,
   "metadata": {},
   "outputs": [],
   "source": [
    "curve_data_fetcher = CurveDataFetcher()"
   ]
  },
  {
   "cell_type": "code",
   "execution_count": 38,
   "metadata": {},
   "outputs": [],
   "source": [
    "s490_swaps = S490Swaps(s490_curve_db_path=r\"..\\db\\nyclose_sofr_ois\", curve_data_fetcher=curve_data_fetcher)\n",
    "s490_swaptions = S490Swaptions(s490_swaps)\n",
    "\n",
    "start_date = datetime(2024, 1, 1)\n",
    "end_date = datetime(2025, 1, 2)\n",
    "bdates = pd.date_range(start=start_date, end=end_date, freq=CustomBusinessDay(calendar=USFederalHolidayCalendar()))"
   ]
  },
  {
   "cell_type": "code",
   "execution_count": 39,
   "metadata": {},
   "outputs": [
    {
     "name": "stderr",
     "output_type": "stream",
     "text": [
      "Building Implied Fwd Curves...: 100%|██████████| 252/252 [00:02<00:00, 103.38it/s]\n"
     ]
    }
   ],
   "source": [
    "fwd_tenors = [\"1M\", \"3M\", \"6M\", \"9M\", \"12M\", \"18M\", \"2Y\", \"3Y\", \"4Y\", \"5Y\", \"6Y\", \"7Y\", \"8Y\", \"9Y\", \"10Y\"]\n",
    "fwd_grid_dict, ql_curves = s490_swaps.s490_nyclose_fwd_curve_matrices(\n",
    "    start_date=start_date,\n",
    "    end_date=end_date,\n",
    "    ql_piecewise_method=\"logLinearDiscount\",\n",
    "    fwd_tenors=fwd_tenors,\n",
    ")"
   ]
  },
  {
   "cell_type": "markdown",
   "metadata": {},
   "source": [
    "# Pricing 1mm 1Mx1Y Payer Swaption on 08/14/2024"
   ]
  },
  {
   "cell_type": "markdown",
   "metadata": {},
   "source": [
    "![womp womp](../dump/8-14-2024-swpm.png)"
   ]
  },
  {
   "cell_type": "markdown",
   "metadata": {},
   "source": [
    "## Grab EOD Discount Curve on Aug 14, 2024:"
   ]
  },
  {
   "cell_type": "code",
   "execution_count": 40,
   "metadata": {},
   "outputs": [],
   "source": [
    "trade_date = datetime(2024, 8, 14)\n",
    "fwd_grid_df = fwd_grid_dict[trade_date]"
   ]
  },
  {
   "cell_type": "markdown",
   "metadata": {},
   "source": [
    "## Grab Vol Cube on Aug 14, 2024:"
   ]
  },
  {
   "cell_type": "code",
   "execution_count": 41,
   "metadata": {},
   "outputs": [],
   "source": [
    "ql_vol_cube_handle = s490_swaptions.get_ql_vol_cube_handle(date=trade_date)"
   ]
  },
  {
   "cell_type": "markdown",
   "metadata": {},
   "source": [
    "## Set-up pricer:"
   ]
  },
  {
   "cell_type": "code",
   "execution_count": 42,
   "metadata": {},
   "outputs": [],
   "source": [
    "tenor = \"1M Fwd 10Y\"\n",
    "\n",
    "book = [\n",
    "    hh_swaps.SwapLeg(\n",
    "        trade_date=trade_date,\n",
    "        original_tenor=tenor,\n",
    "        original_fixed_rate=fwd_grid_df[fwd_grid_df[\"Tenor\"] == tenor.split(\" Fwd \")[1]][\n",
    "            f\"{tenor.split(\" Fwd \")[0]} Fwd\"\n",
    "        ].iloc[-1] / 100,\n",
    "        weighting=1,\n",
    "        key=tenor,\n",
    "        notional=1_000_000,\n",
    "        type=\"payer\",\n",
    "    )\n",
    "]"
   ]
  },
  {
   "cell_type": "code",
   "execution_count": 43,
   "metadata": {},
   "outputs": [
    {
     "name": "stderr",
     "output_type": "stream",
     "text": [
      "PRICING SWAPTIONS...: 100%|██████████| 3/3 [00:00<00:00,  3.56it/s]\n"
     ]
    },
    {
     "data": {
      "text/plain": [
       "{'1M Fwd 10Y': {'atm_strike': np.float64(0.033588757050794005),\n",
       "  'strike': np.float64(0.033588757050794005),\n",
       "  'strike_offset_bps': np.float64(0.0),\n",
       "  'npv': np.float64(10632.227161208903),\n",
       "  'normal_vol': np.float64(104.2977286881497),\n",
       "  'bpvol': np.float64(6.57013934327931),\n",
       "  'spot_prem_bps': 106.32227161208903,\n",
       "  'fwd_prem_bps': 106.86420805913033,\n",
       "  'ql': {'swaption': <QuantLib.QuantLib.Swaption; proxy of <Swig Object of type 'ext::shared_ptr< Swaption > *' at 0x00000275DE8D92F0> >,\n",
       "   'underlying': <QuantLib.QuantLib.OvernightIndexedSwap; proxy of <Swig Object of type 'ext::shared_ptr< OvernightIndexedSwap > *' at 0x00000275DE8D8300> >},\n",
       "  'greeks': {'dv01': np.float64(-423.7010371112129),\n",
       "   'gamma_01': np.float64(10.655961322063147),\n",
       "   'vega_01': np.float64(101.84320033808186),\n",
       "   'volga_01': np.float64(0.3857203268609055),\n",
       "   'vanna_01': np.float64(199.6035373667837),\n",
       "   'theta_1d': np.float64(-161.06299231312914),\n",
       "   'charm_1d': np.float64(-0.03266344307195368),\n",
       "   'veta_1d': np.float64(-1.5550107946567948)}}}"
      ]
     },
     "execution_count": 43,
     "metadata": {},
     "output_type": "execute_result"
    }
   ],
   "source": [
    "swaption_book_metrics_dict = hh_swaptions.swaption_book_metrics(\n",
    "    underlyings=book, ql_curve=ql_curves[trade_date], ql_yts=s490_swaps._ql_yts, ql_sofr=s490_swaps._ql_sofr, swaption_vol_handle=ql_vol_cube_handle \n",
    ")\n",
    "swaption_book_metrics_dict"
   ]
  },
  {
   "cell_type": "markdown",
   "metadata": {},
   "source": [
    "### I think that's a pretty good match given that we are using mostly public/open-sourced data!"
   ]
  },
  {
   "cell_type": "markdown",
   "metadata": {},
   "source": [
    "# If you have a large book, use parallel pricer:\n",
    "- SWIG objects can't be pickled for easy parallelization so theres a bit more overhead with unbundling the Quantlib object and them rebuilding them\n",
    "- Usually gives a 2x speedup for larger books!"
   ]
  },
  {
   "cell_type": "markdown",
   "metadata": {},
   "source": [
    "## Grab Vol Cube dictionary for Aug 14, 2024:"
   ]
  },
  {
   "cell_type": "code",
   "execution_count": 44,
   "metadata": {},
   "outputs": [],
   "source": [
    "vol_cube_dict = s490_swaptions.get_vol_cube(date=trade_date)"
   ]
  },
  {
   "cell_type": "markdown",
   "metadata": {},
   "source": [
    "## Set up parallel pricer:"
   ]
  },
  {
   "cell_type": "code",
   "execution_count": 45,
   "metadata": {},
   "outputs": [],
   "source": [
    "tenor1 = \"1M Fwd 10Y\"\n",
    "tenor2 = \"3M Fwd 10Y\"\n",
    "tenor3 = \"6M Fwd 10Y\"\n",
    "tenor4 = \"12M Fwd 10Y\"\n",
    "tenor5 = \"2Y Fwd 10Y\"\n",
    "\n",
    "book = [\n",
    "    hh_swaps.SwapLeg(\n",
    "        trade_date=trade_date,\n",
    "        original_tenor=tenor1,\n",
    "        original_fixed_rate=fwd_grid_df[fwd_grid_df[\"Tenor\"] == tenor1.split(\" Fwd \")[1]][\n",
    "            f\"{tenor1.split(\" Fwd \")[0]} Fwd\"\n",
    "        ].iloc[-1] / 100,\n",
    "        weighting=1,\n",
    "        key=tenor1,\n",
    "        notional=1_000_000,\n",
    "        type=\"payer\",\n",
    "    ),\n",
    "    hh_swaps.SwapLeg(\n",
    "        trade_date=trade_date,\n",
    "        original_tenor=tenor2,\n",
    "        original_fixed_rate=fwd_grid_df[fwd_grid_df[\"Tenor\"] == tenor2.split(\" Fwd \")[1]][\n",
    "            f\"{tenor2.split(\" Fwd \")[0]} Fwd\"\n",
    "        ].iloc[-1] / 100,\n",
    "        weighting=1,\n",
    "        key=tenor2,\n",
    "        notional=100_000_000,\n",
    "        type=\"receiver\",\n",
    "    ),\n",
    "    hh_swaps.SwapLeg(\n",
    "        trade_date=trade_date,\n",
    "        original_tenor=tenor3,\n",
    "        original_fixed_rate=fwd_grid_df[fwd_grid_df[\"Tenor\"] == tenor3.split(\" Fwd \")[1]][\n",
    "            f\"{tenor3.split(\" Fwd \")[0]} Fwd\"\n",
    "        ].iloc[-1] / 100,\n",
    "        weighting=1,\n",
    "        key=tenor3,\n",
    "        notional=10_000_000,\n",
    "        type=\"payer\",\n",
    "    ),hh_swaps.SwapLeg(\n",
    "        trade_date=trade_date,\n",
    "        original_tenor=tenor4,\n",
    "        original_fixed_rate=fwd_grid_df[fwd_grid_df[\"Tenor\"] == tenor4.split(\" Fwd \")[1]][\n",
    "            f\"{tenor4.split(\" Fwd \")[0]} Fwd\"\n",
    "        ].iloc[-1] / 100,\n",
    "        weighting=1,\n",
    "        key=tenor4,\n",
    "        notional=50_000_000,\n",
    "        type=\"receiver\",\n",
    "    ),hh_swaps.SwapLeg(\n",
    "        trade_date=trade_date,\n",
    "        original_tenor=tenor5,\n",
    "        original_fixed_rate=fwd_grid_df[fwd_grid_df[\"Tenor\"] == tenor5.split(\" Fwd \")[1]][\n",
    "            f\"{tenor5.split(\" Fwd \")[0]} Fwd\"\n",
    "        ].iloc[-1] / 100,\n",
    "        weighting=1,\n",
    "        key=tenor5,\n",
    "        notional=25_000_000,\n",
    "        type=\"payer\",\n",
    "    )\n",
    "]"
   ]
  },
  {
   "cell_type": "code",
   "execution_count": 49,
   "metadata": {},
   "outputs": [
    {
     "name": "stderr",
     "output_type": "stream",
     "text": [
      "PRICING SWAPTIONS...: 100%|██████████| 5/5 [00:00<00:00, 5348.51it/s]\n",
      "REBUILDING QL OBJECTS...: 5it [00:00, 118.53it/s]\n"
     ]
    },
    {
     "data": {
      "text/plain": [
       "{'1M Fwd 10Y': {'atm_strike': np.float64(0.033588757050794005),\n",
       "  'strike': np.float64(0.033588757050794005),\n",
       "  'strike_offset_bps': np.float64(0.0),\n",
       "  'npv': np.float64(10632.227161208903),\n",
       "  'normal_vol': np.float64(104.2977286881497),\n",
       "  'bpvol': np.float64(6.57013934327931),\n",
       "  'spot_prem_bps': 106.32227161208903,\n",
       "  'fwd_prem_bps': 106.86420805913033,\n",
       "  'greeks': {'dv01': np.float64(-423.7010371112129),\n",
       "   'gamma_01': np.float64(10.655961322063147),\n",
       "   'vega_01': np.float64(101.84320033808186),\n",
       "   'volga_01': np.float64(0.3857203268609055),\n",
       "   'vanna_01': np.float64(199.6035373667837),\n",
       "   'theta_1d': np.float64(-161.06299231312914),\n",
       "   'charm_1d': np.float64(-0.03266344307195368),\n",
       "   'veta_1d': np.float64(-1.5550107946567948)},\n",
       "  'ql': {'swaption': <QuantLib.QuantLib.Swaption; proxy of <Swig Object of type 'ext::shared_ptr< Swaption > *' at 0x00000275DE94D110> >,\n",
       "   'underlying': <QuantLib.QuantLib.OvernightIndexedSwap; proxy of <Swig Object of type 'ext::shared_ptr< OvernightIndexedSwap > *' at 0x00000275DE8BC660> >}},\n",
       " '3M Fwd 10Y': {'atm_strike': np.float64(0.03334859769750609),\n",
       "  'strike': np.float64(0.03334859769750609),\n",
       "  'strike_offset_bps': np.float64(0.0),\n",
       "  'npv': np.float64(1887179.1777125793),\n",
       "  'normal_vol': np.float64(110.97440616721603),\n",
       "  'bpvol': np.float64(6.990730490750623),\n",
       "  'spot_prem_bps': 188.71791777125793,\n",
       "  'fwd_prem_bps': 191.23404982745046,\n",
       "  'greeks': {'dv01': np.float64(42258.05328609721),\n",
       "   'gamma_01': np.float64(602.3598844038788),\n",
       "   'vega_01': np.float64(16908.09302508209),\n",
       "   'volga_01': np.float64(155.60808084046585),\n",
       "   'vanna_01': np.float64(-30861.903825425543),\n",
       "   'theta_1d': np.float64(-11931.567140763626),\n",
       "   'charm_1d': np.float64(-2.170519458828494),\n",
       "   'veta_1d': np.float64(-92.15390727250633)},\n",
       "  'ql': {'swaption': <QuantLib.QuantLib.Swaption; proxy of <Swig Object of type 'ext::shared_ptr< Swaption > *' at 0x00000275DE97A280> >,\n",
       "   'underlying': <QuantLib.QuantLib.OvernightIndexedSwap; proxy of <Swig Object of type 'ext::shared_ptr< OvernightIndexedSwap > *' at 0x00000275DE8BE3D0> >}},\n",
       " '6M Fwd 10Y': {'atm_strike': np.float64(0.03314723528745023),\n",
       "  'strike': np.float64(0.03314723528745023),\n",
       "  'strike_offset_bps': np.float64(0.0),\n",
       "  'npv': np.float64(244879.97965449508),\n",
       "  'normal_vol': np.float64(105.74644921655285),\n",
       "  'bpvol': np.float64(6.661400158455234),\n",
       "  'spot_prem_bps': 244.8799796544951,\n",
       "  'fwd_prem_bps': 250.90140611046365,\n",
       "  'greeks': {'dv01': np.float64(-4112.9205556140505),\n",
       "   'gamma_01': np.float64(44.27318033793881),\n",
       "   'vega_01': np.float64(2371.415412091555),\n",
       "   'volga_01': np.float64(41.08924678121184),\n",
       "   'vanna_01': np.float64(-4278.357116272673),\n",
       "   'theta_1d': np.float64(-184.11086148847244),\n",
       "   'charm_1d': np.float64(-0.03310004501054209),\n",
       "   'veta_1d': np.float64(-6.453161448486753)},\n",
       "  'ql': {'swaption': <QuantLib.QuantLib.Swaption; proxy of <Swig Object of type 'ext::shared_ptr< Swaption > *' at 0x00000275DE97A0D0> >,\n",
       "   'underlying': <QuantLib.QuantLib.OvernightIndexedSwap; proxy of <Swig Object of type 'ext::shared_ptr< OvernightIndexedSwap > *' at 0x00000275DE8BD980> >}},\n",
       " '12M Fwd 10Y': {'atm_strike': np.float64(0.03308161025275469),\n",
       "  'strike': np.float64(0.03308161025275469),\n",
       "  'strike_offset_bps': np.float64(0.0),\n",
       "  'npv': np.float64(1711410.0356049007),\n",
       "  'normal_vol': np.float64(102.97090009016487),\n",
       "  'bpvol': np.float64(6.486556997977492),\n",
       "  'spot_prem_bps': 342.28200712098015,\n",
       "  'fwd_prem_bps': 357.2428656836539,\n",
       "  'greeks': {'dv01': np.float64(20691.41013232204),\n",
       "   'gamma_01': np.float64(159.1458785242321),\n",
       "   'vega_01': np.float64(16429.20116323395),\n",
       "   'volga_01': np.float64(346.9554327239166),\n",
       "   'vanna_01': np.float64(-23593.718297197483),\n",
       "   'theta_1d': np.float64(-2058.86358070164),\n",
       "   'charm_1d': np.float64(-0.29416593112182454),\n",
       "   'veta_1d': np.float64(-22.525540226521116)},\n",
       "  'ql': {'swaption': <QuantLib.QuantLib.Swaption; proxy of <Swig Object of type 'ext::shared_ptr< Swaption > *' at 0x00000275DE90C540> >,\n",
       "   'underlying': <QuantLib.QuantLib.OvernightIndexedSwap; proxy of <Swig Object of type 'ext::shared_ptr< OvernightIndexedSwap > *' at 0x00000275DE8BE850> >}},\n",
       " '2Y Fwd 10Y': {'atm_strike': np.float64(0.03352585588978596),\n",
       "  'strike': np.float64(0.03352585588978596),\n",
       "  'strike_offset_bps': np.float64(0.0),\n",
       "  'npv': np.float64(1103386.2382048776),\n",
       "  'normal_vol': np.float64(100.37552761331958),\n",
       "  'bpvol': np.float64(6.323063899565245),\n",
       "  'spot_prem_bps': 441.3544952819511,\n",
       "  'fwd_prem_bps': 475.4491350637139,\n",
       "  'greeks': {'dv01': np.float64(-9796.035524776727),\n",
       "   'gamma_01': np.float64(55.95752853313752),\n",
       "   'vega_01': np.float64(11238.47193528473),\n",
       "   'volga_01': np.float64(167.10753156985447),\n",
       "   'vanna_01': np.float64(-9722.297781263478),\n",
       "   'theta_1d': np.float64(-536.6545417055022),\n",
       "   'charm_1d': np.float64(-0.0460444261207158),\n",
       "   'veta_1d': np.float64(-7.701019313703)},\n",
       "  'ql': {'swaption': <QuantLib.QuantLib.Swaption; proxy of <Swig Object of type 'ext::shared_ptr< Swaption > *' at 0x00000275DE8BCC30> >,\n",
       "   'underlying': <QuantLib.QuantLib.OvernightIndexedSwap; proxy of <Swig Object of type 'ext::shared_ptr< OvernightIndexedSwap > *' at 0x00000275DE8BF1B0> >}}}"
      ]
     },
     "execution_count": 49,
     "metadata": {},
     "output_type": "execute_result"
    }
   ],
   "source": [
    "swaption_book_metrics_dict = hh_swaptions.swaption_book_metrics_parallel(\n",
    "    underlyings=book,\n",
    "    ql_curve=ql_curves[trade_date],\n",
    "    sofr_fixings_dates=s490_swaps._sofr_fixing_dates,\n",
    "    sofr_fixings=s490_swaps._sofr_fixings,\n",
    "    vol_cube_dict=vol_cube_dict,\n",
    "    n_jobs=-1\n",
    ")\n",
    "swaption_book_metrics_dict"
   ]
  },
  {
   "cell_type": "code",
   "execution_count": 48,
   "metadata": {},
   "outputs": [
    {
     "name": "stderr",
     "output_type": "stream",
     "text": [
      "PRICING SWAPTIONS...: 100%|██████████| 15/15 [00:04<00:00,  3.53it/s]\n"
     ]
    },
    {
     "data": {
      "text/plain": [
       "{'1M Fwd 10Y': {'atm_strike': np.float64(0.033588757050794005),\n",
       "  'strike': np.float64(0.033588757050794005),\n",
       "  'strike_offset_bps': np.float64(0.0),\n",
       "  'npv': np.float64(10632.227161208903),\n",
       "  'normal_vol': np.float64(104.2977286881497),\n",
       "  'bpvol': np.float64(6.57013934327931),\n",
       "  'spot_prem_bps': 106.32227161208903,\n",
       "  'fwd_prem_bps': 106.86420805913033,\n",
       "  'ql': {'swaption': <QuantLib.QuantLib.Swaption; proxy of <Swig Object of type 'ext::shared_ptr< Swaption > *' at 0x00000275DE8D12F0> >,\n",
       "   'underlying': <QuantLib.QuantLib.OvernightIndexedSwap; proxy of <Swig Object of type 'ext::shared_ptr< OvernightIndexedSwap > *' at 0x00000275DE8D3C00> >},\n",
       "  'greeks': {'dv01': np.float64(-423.7010371112129),\n",
       "   'gamma_01': np.float64(10.655961322063147),\n",
       "   'vega_01': np.float64(101.84320033808186),\n",
       "   'volga_01': np.float64(0.3857203268609055),\n",
       "   'vanna_01': np.float64(199.6035373667837),\n",
       "   'theta_1d': np.float64(-161.06299231312914),\n",
       "   'charm_1d': np.float64(-0.03266344307195368),\n",
       "   'veta_1d': np.float64(-1.5550107946567948)}},\n",
       " '3M Fwd 10Y': {'atm_strike': np.float64(0.03334859769750609),\n",
       "  'strike': np.float64(0.03334859769750609),\n",
       "  'strike_offset_bps': np.float64(0.0),\n",
       "  'npv': np.float64(1887179.1777125793),\n",
       "  'normal_vol': np.float64(110.97440616721603),\n",
       "  'bpvol': np.float64(6.990730490750623),\n",
       "  'spot_prem_bps': 188.71791777125793,\n",
       "  'fwd_prem_bps': 191.23404982745046,\n",
       "  'ql': {'swaption': <QuantLib.QuantLib.Swaption; proxy of <Swig Object of type 'ext::shared_ptr< Swaption > *' at 0x00000275DE8D3420> >,\n",
       "   'underlying': <QuantLib.QuantLib.OvernightIndexedSwap; proxy of <Swig Object of type 'ext::shared_ptr< OvernightIndexedSwap > *' at 0x00000275DE8D32A0> >},\n",
       "  'greeks': {'dv01': np.float64(42258.05328609721),\n",
       "   'gamma_01': np.float64(602.3598844038788),\n",
       "   'vega_01': np.float64(16908.09302508209),\n",
       "   'volga_01': np.float64(155.60808084046585),\n",
       "   'vanna_01': np.float64(-30861.903825425543),\n",
       "   'theta_1d': np.float64(-11931.567140763626),\n",
       "   'charm_1d': np.float64(-2.170519458828494),\n",
       "   'veta_1d': np.float64(-92.15390727250633)}},\n",
       " '6M Fwd 10Y': {'atm_strike': np.float64(0.03314723528745023),\n",
       "  'strike': np.float64(0.03314723528745023),\n",
       "  'strike_offset_bps': np.float64(0.0),\n",
       "  'npv': np.float64(244879.97965449508),\n",
       "  'normal_vol': np.float64(105.74644921655285),\n",
       "  'bpvol': np.float64(6.661400158455234),\n",
       "  'spot_prem_bps': 244.8799796544951,\n",
       "  'fwd_prem_bps': 250.90140611046365,\n",
       "  'ql': {'swaption': <QuantLib.QuantLib.Swaption; proxy of <Swig Object of type 'ext::shared_ptr< Swaption > *' at 0x00000275DE8D28E0> >,\n",
       "   'underlying': <QuantLib.QuantLib.OvernightIndexedSwap; proxy of <Swig Object of type 'ext::shared_ptr< OvernightIndexedSwap > *' at 0x00000275DE8D09F0> >},\n",
       "  'greeks': {'dv01': np.float64(-4112.9205556140505),\n",
       "   'gamma_01': np.float64(44.27318033793881),\n",
       "   'vega_01': np.float64(2371.415412091555),\n",
       "   'volga_01': np.float64(41.08924678121184),\n",
       "   'vanna_01': np.float64(-4278.357116272673),\n",
       "   'theta_1d': np.float64(-184.11086148847244),\n",
       "   'charm_1d': np.float64(-0.03310004501054209),\n",
       "   'veta_1d': np.float64(-6.453161448486753)}},\n",
       " '12M Fwd 10Y': {'atm_strike': np.float64(0.03308161025275469),\n",
       "  'strike': np.float64(0.03308161025275469),\n",
       "  'strike_offset_bps': np.float64(0.0),\n",
       "  'npv': np.float64(1711410.0356049007),\n",
       "  'normal_vol': np.float64(102.97090009016487),\n",
       "  'bpvol': np.float64(6.486556997977492),\n",
       "  'spot_prem_bps': 342.28200712098015,\n",
       "  'fwd_prem_bps': 357.2428656836539,\n",
       "  'ql': {'swaption': <QuantLib.QuantLib.Swaption; proxy of <Swig Object of type 'ext::shared_ptr< Swaption > *' at 0x00000275DE8D0F90> >,\n",
       "   'underlying': <QuantLib.QuantLib.OvernightIndexedSwap; proxy of <Swig Object of type 'ext::shared_ptr< OvernightIndexedSwap > *' at 0x00000275DE8D0D50> >},\n",
       "  'greeks': {'dv01': np.float64(20691.41013232204),\n",
       "   'gamma_01': np.float64(159.1458785242321),\n",
       "   'vega_01': np.float64(16429.20116323395),\n",
       "   'volga_01': np.float64(346.9554327239166),\n",
       "   'vanna_01': np.float64(-23593.718297197483),\n",
       "   'theta_1d': np.float64(-2058.86358070164),\n",
       "   'charm_1d': np.float64(-0.29416593112182454),\n",
       "   'veta_1d': np.float64(-22.525540226521116)}},\n",
       " '2Y Fwd 10Y': {'atm_strike': np.float64(0.03352585588978596),\n",
       "  'strike': np.float64(0.03352585588978596),\n",
       "  'strike_offset_bps': np.float64(0.0),\n",
       "  'npv': np.float64(1103386.2382048776),\n",
       "  'normal_vol': np.float64(100.37552761331958),\n",
       "  'bpvol': np.float64(6.323063899565245),\n",
       "  'spot_prem_bps': 441.3544952819511,\n",
       "  'fwd_prem_bps': 475.4491350637139,\n",
       "  'ql': {'swaption': <QuantLib.QuantLib.Swaption; proxy of <Swig Object of type 'ext::shared_ptr< Swaption > *' at 0x00000275DE8D2EE0> >,\n",
       "   'underlying': <QuantLib.QuantLib.OvernightIndexedSwap; proxy of <Swig Object of type 'ext::shared_ptr< OvernightIndexedSwap > *' at 0x00000275DE8D0720> >},\n",
       "  'greeks': {'dv01': np.float64(-9796.035524776727),\n",
       "   'gamma_01': np.float64(55.95752853313752),\n",
       "   'vega_01': np.float64(11238.47193528473),\n",
       "   'volga_01': np.float64(167.10753156985447),\n",
       "   'vanna_01': np.float64(-9722.297781263478),\n",
       "   'theta_1d': np.float64(-536.6545417055022),\n",
       "   'charm_1d': np.float64(-0.0460444261207158),\n",
       "   'veta_1d': np.float64(-7.701019313703)}}}"
      ]
     },
     "execution_count": 48,
     "metadata": {},
     "output_type": "execute_result"
    }
   ],
   "source": [
    "swaption_book_metrics_dict = hh_swaptions.swaption_book_metrics(\n",
    "    underlyings=book, ql_curve=ql_curves[trade_date], ql_yts=s490_swaps._ql_yts, ql_sofr=s490_swaps._ql_sofr, swaption_vol_handle=ql_vol_cube_handle \n",
    ")\n",
    "swaption_book_metrics_dict"
   ]
  },
  {
   "cell_type": "markdown",
   "metadata": {},
   "source": [
    "## 3 second runtime for parallel pricer vs 6 second runtime"
   ]
  },
  {
   "cell_type": "markdown",
   "metadata": {},
   "source": [
    "## Let's check another date:"
   ]
  },
  {
   "cell_type": "markdown",
   "metadata": {},
   "source": [
    "![womp womp](../dump/2-23-2024-swpm.png)"
   ]
  },
  {
   "cell_type": "markdown",
   "metadata": {},
   "source": [
    "## Grab curve and cube for 02/23/2024:"
   ]
  },
  {
   "cell_type": "code",
   "execution_count": 54,
   "metadata": {},
   "outputs": [],
   "source": [
    "trade_date = datetime(2024, 2, 23)\n",
    "fwd_grid_df = fwd_grid_dict[trade_date]\n",
    "ql_vol_cube_handle = s490_swaptions.get_ql_vol_cube_handle(date=trade_date)"
   ]
  },
  {
   "cell_type": "markdown",
   "metadata": {},
   "source": [
    "## Set up pricer:"
   ]
  },
  {
   "cell_type": "code",
   "execution_count": 57,
   "metadata": {},
   "outputs": [
    {
     "name": "stderr",
     "output_type": "stream",
     "text": [
      "PRICING SWAPTIONS...: 100%|██████████| 3/3 [00:00<00:00, 12.44it/s]\n"
     ]
    },
    {
     "data": {
      "text/plain": [
       "{'12M Fwd 5Y': {'atm_strike': np.float64(0.037013695773346456),\n",
       "  'strike': np.float64(0.037013695773346456),\n",
       "  'strike_offset_bps': np.float64(0.0),\n",
       "  'npv': np.float64(2060738.2201328082),\n",
       "  'normal_vol': np.float64(118.81406042852984),\n",
       "  'bpvol': np.float64(7.484582289325959),\n",
       "  'spot_prem_bps': 206.07382201328082,\n",
       "  'fwd_prem_bps': 216.772668209519,\n",
       "  'ql': {'swaption': <QuantLib.QuantLib.Swaption; proxy of <Swig Object of type 'ext::shared_ptr< Swaption > *' at 0x00000275DE92D0B0> >,\n",
       "   'underlying': <QuantLib.QuantLib.OvernightIndexedSwap; proxy of <Swig Object of type 'ext::shared_ptr< OvernightIndexedSwap > *' at 0x00000275DE92EB80> >},\n",
       "  'greeks': {'dv01': np.float64(-21637.987403530213),\n",
       "   'gamma_01': np.float64(144.8517770871822),\n",
       "   'vega_01': np.float64(17374.65405790104),\n",
       "   'volga_01': np.float64(24.772794622549554),\n",
       "   'vanna_01': np.float64(6038.289224961773),\n",
       "   'theta_1d': np.float64(-8062.404142011888),\n",
       "   'charm_1d': np.float64(-0.27864800465249573),\n",
       "   'veta_1d': np.float64(-71.16044319571301)}}}"
      ]
     },
     "execution_count": 57,
     "metadata": {},
     "output_type": "execute_result"
    }
   ],
   "source": [
    "tenor = \"12M Fwd 5Y\"\n",
    "\n",
    "book = [\n",
    "    hh_swaps.SwapLeg(\n",
    "        trade_date=trade_date,\n",
    "        original_tenor=tenor,\n",
    "        original_fixed_rate=fwd_grid_df[fwd_grid_df[\"Tenor\"] == tenor.split(\" Fwd \")[1]][\n",
    "            f\"{tenor.split(\" Fwd \")[0]} Fwd\"\n",
    "        ].iloc[-1] / 100,\n",
    "        weighting=1,\n",
    "        key=tenor,\n",
    "        notional=100_000_000,\n",
    "        type=\"payer\",\n",
    "    )\n",
    "]\n",
    "\n",
    "swaption_book_metrics_dict = hh_swaptions.swaption_book_metrics(\n",
    "    underlyings=book, ql_curve=ql_curves[trade_date], ql_yts=s490_swaps._ql_yts, ql_sofr=s490_swaps._ql_sofr, swaption_vol_handle=ql_vol_cube_handle \n",
    ")\n",
    "swaption_book_metrics_dict"
   ]
  },
  {
   "cell_type": "markdown",
   "metadata": {},
   "source": [
    "## Note: OIS DC Stripping was not used in the SWPM screen grab so `npv` and `theta_1d` are expectedly different\n",
    "- recall that early 2024, market was pricing in massive rate cuts (at some point 6+ 25bp cuts)\n",
    "- since SWPM isn't using dual curve ois discounting, it's not accounting for the downshifted forward curve\n",
    "- since we are pricing a payer (call on rates), SWPM without OIS DC STRIPPING is over valuing the swaption\n",
    "- i.e. with deep rate cuts, the forward curve and volatility surface align in a way that accelerates the reduction in the swaption's value over time => higher time decay\n",
    "- since our pricer uses OIS DC Stripping, our NPV and notably theta is much lower"
   ]
  },
  {
   "cell_type": "code",
   "execution_count": null,
   "metadata": {},
   "outputs": [],
   "source": []
  }
 ],
 "metadata": {
  "kernelspec": {
   "display_name": "Python 3",
   "language": "python",
   "name": "python3"
  },
  "language_info": {
   "codemirror_mode": {
    "name": "ipython",
    "version": 3
   },
   "file_extension": ".py",
   "mimetype": "text/x-python",
   "name": "python",
   "nbconvert_exporter": "python",
   "pygments_lexer": "ipython3",
   "version": "3.13.0"
  }
 },
 "nbformat": 4,
 "nbformat_minor": 2
}
