{
 "cells": [
  {
   "cell_type": "code",
   "execution_count": 26,
   "metadata": {},
   "outputs": [
    {
     "name": "stdout",
     "output_type": "stream",
     "text": [
      "The autoreload extension is already loaded. To reload it, use:\n",
      "  %reload_ext autoreload\n"
     ]
    }
   ],
   "source": [
    "import sys\n",
    "import os\n",
    "parent_dir = os.path.abspath(os.path.join(os.getcwd(), os.pardir))\n",
    "sys.path.insert(0, parent_dir)\n",
    "\n",
    "import numpy as np\n",
    "import plotly.graph_objects as go\n",
    "import plotly.express as px\n",
    "from datetime import datetime\n",
    "\n",
    "from CurveDataFetcher import CurveDataFetcher\n",
    "from CurveBuilder import get_spot_rates_fitter, reprice_bonds\n",
    "\n",
    "import nest_asyncio\n",
    "nest_asyncio.apply()\n",
    "\n",
    "%load_ext autoreload\n",
    "%autoreload 2"
   ]
  },
  {
   "cell_type": "code",
   "execution_count": 27,
   "metadata": {},
   "outputs": [
    {
     "name": "stderr",
     "output_type": "stream",
     "text": [
      "2024-09-05 22:01:06,855 - DataFetcher.base - DEBUG - UST Auctions - Number of Links to Fetch: 2\n",
      "2024-09-05 22:01:06,856 - DataFetcher.base - DEBUG - UST Auctions - Links: ['https://api.fiscaldata.treasury.gov/services/api/fiscal_service/v1/accounting/od/auctions_query?page[number]=1&page[size]=10000', 'https://api.fiscaldata.treasury.gov/services/api/fiscal_service/v1/accounting/od/auctions_query?page[number]=2&page[size]=10000']\n"
     ]
    }
   ],
   "source": [
    "curve_data_fetcher = CurveDataFetcher(use_ust_issue_date=True, debug_verbose=True)"
   ]
  },
  {
   "cell_type": "code",
   "execution_count": 28,
   "metadata": {},
   "outputs": [
    {
     "name": "stderr",
     "output_type": "stream",
     "text": [
      "2024-09-05 22:01:11,594 - DataFetcher.base - DEBUG - SOMA Holdings - Valid SOMA Holding Dates: {datetime.datetime(2024, 8, 29, 0, 0): datetime.datetime(2024, 8, 28, 0, 0)}\n",
      "2024-09-05 22:01:11,597 - DataFetcher.base - DEBUG - STRIPping - BDays: [datetime.datetime(2024, 7, 31, 0, 0), datetime.datetime(2024, 6, 30, 0, 0)]\n",
      "2024-09-05 22:01:11,598 - DataFetcher.base - DEBUG - STRIPping - 2024-08-29 00:00:00 url: https://api.fiscaldata.treasury.gov/services/api/fiscal_service/v1/debt/mspd/mspd_table_5?filter=record_date:in:(2024-07-31,2024-06-30)&page[number]=1&page[size]=10000\n"
     ]
    },
    {
     "name": "stdout",
     "output_type": "stream",
     "text": [
      "Using SOMA Holdings Data As of 2024-08-28\n",
      "Using STRIPping Data As of 2024-07-31 00:00:00\n"
     ]
    },
    {
     "data": {
      "text/html": [
       "<div>\n",
       "<style scoped>\n",
       "    .dataframe tbody tr th:only-of-type {\n",
       "        vertical-align: middle;\n",
       "    }\n",
       "\n",
       "    .dataframe tbody tr th {\n",
       "        vertical-align: top;\n",
       "    }\n",
       "\n",
       "    .dataframe thead th {\n",
       "        text-align: right;\n",
       "    }\n",
       "</style>\n",
       "<table border=\"1\" class=\"dataframe\">\n",
       "  <thead>\n",
       "    <tr style=\"text-align: right;\">\n",
       "      <th></th>\n",
       "      <th>cusip</th>\n",
       "      <th>security_type</th>\n",
       "      <th>auction_date</th>\n",
       "      <th>issue_date</th>\n",
       "      <th>maturity_date</th>\n",
       "      <th>time_to_maturity</th>\n",
       "      <th>int_rate</th>\n",
       "      <th>high_investment_rate</th>\n",
       "      <th>is_on_the_run</th>\n",
       "      <th>label</th>\n",
       "      <th>...</th>\n",
       "      <th>parValue</th>\n",
       "      <th>percentOutstanding</th>\n",
       "      <th>est_outstanding_amt</th>\n",
       "      <th>corpus_cusip</th>\n",
       "      <th>outstanding_amt</th>\n",
       "      <th>portion_unstripped_amt</th>\n",
       "      <th>portion_stripped_amt</th>\n",
       "      <th>reconstituted_amt</th>\n",
       "      <th>free_float</th>\n",
       "      <th>rank</th>\n",
       "    </tr>\n",
       "  </thead>\n",
       "  <tbody>\n",
       "    <tr>\n",
       "      <th>53</th>\n",
       "      <td>91282CFX4</td>\n",
       "      <td>Note</td>\n",
       "      <td>2022-11-21</td>\n",
       "      <td>2022-11-30</td>\n",
       "      <td>2024-11-30</td>\n",
       "      <td>0.254795</td>\n",
       "      <td>4.500</td>\n",
       "      <td>NaN</td>\n",
       "      <td>False</td>\n",
       "      <td>Nov 24s, 2-Year</td>\n",
       "      <td>...</td>\n",
       "      <td>4.566032e+09</td>\n",
       "      <td>0.098063</td>\n",
       "      <td>4.656210e+10</td>\n",
       "      <td>912821KD6</td>\n",
       "      <td>4.656210e+10</td>\n",
       "      <td>46551301.7</td>\n",
       "      <td>1.080000e+07</td>\n",
       "      <td>0.0</td>\n",
       "      <td>41985.2693</td>\n",
       "      <td>20.0</td>\n",
       "    </tr>\n",
       "    <tr>\n",
       "      <th>54</th>\n",
       "      <td>91282CGD7</td>\n",
       "      <td>Note</td>\n",
       "      <td>2022-12-27</td>\n",
       "      <td>2023-01-03</td>\n",
       "      <td>2024-12-31</td>\n",
       "      <td>0.339726</td>\n",
       "      <td>4.250</td>\n",
       "      <td>NaN</td>\n",
       "      <td>False</td>\n",
       "      <td>Dec 24s, 2-Year</td>\n",
       "      <td>...</td>\n",
       "      <td>0.000000e+00</td>\n",
       "      <td>NaN</td>\n",
       "      <td>NaN</td>\n",
       "      <td>912821KH7</td>\n",
       "      <td>4.198899e+10</td>\n",
       "      <td>41988991.2</td>\n",
       "      <td>0.000000e+00</td>\n",
       "      <td>0.0</td>\n",
       "      <td>41988.9912</td>\n",
       "      <td>19.0</td>\n",
       "    </tr>\n",
       "    <tr>\n",
       "      <th>55</th>\n",
       "      <td>91282CGG0</td>\n",
       "      <td>Note</td>\n",
       "      <td>2023-01-24</td>\n",
       "      <td>2023-01-31</td>\n",
       "      <td>2025-01-31</td>\n",
       "      <td>0.424658</td>\n",
       "      <td>4.125</td>\n",
       "      <td>NaN</td>\n",
       "      <td>False</td>\n",
       "      <td>Jan 25s, 2-Year</td>\n",
       "      <td>...</td>\n",
       "      <td>0.000000e+00</td>\n",
       "      <td>NaN</td>\n",
       "      <td>NaN</td>\n",
       "      <td>912821KN4</td>\n",
       "      <td>4.199199e+10</td>\n",
       "      <td>41991993.5</td>\n",
       "      <td>0.000000e+00</td>\n",
       "      <td>0.0</td>\n",
       "      <td>41991.9935</td>\n",
       "      <td>18.0</td>\n",
       "    </tr>\n",
       "    <tr>\n",
       "      <th>56</th>\n",
       "      <td>91282CGN5</td>\n",
       "      <td>Note</td>\n",
       "      <td>2023-02-21</td>\n",
       "      <td>2023-02-28</td>\n",
       "      <td>2025-02-28</td>\n",
       "      <td>0.501370</td>\n",
       "      <td>4.625</td>\n",
       "      <td>NaN</td>\n",
       "      <td>False</td>\n",
       "      <td>Feb 25s, 2-Year</td>\n",
       "      <td>...</td>\n",
       "      <td>9.542573e+09</td>\n",
       "      <td>0.185187</td>\n",
       "      <td>5.152952e+10</td>\n",
       "      <td>912821KT1</td>\n",
       "      <td>5.152952e+10</td>\n",
       "      <td>51529515.1</td>\n",
       "      <td>0.000000e+00</td>\n",
       "      <td>0.0</td>\n",
       "      <td>41986.9417</td>\n",
       "      <td>17.0</td>\n",
       "    </tr>\n",
       "    <tr>\n",
       "      <th>57</th>\n",
       "      <td>91282CGU9</td>\n",
       "      <td>Note</td>\n",
       "      <td>2023-03-27</td>\n",
       "      <td>2023-03-31</td>\n",
       "      <td>2025-03-31</td>\n",
       "      <td>0.586301</td>\n",
       "      <td>3.875</td>\n",
       "      <td>NaN</td>\n",
       "      <td>False</td>\n",
       "      <td>Mar 25s, 2-Year</td>\n",
       "      <td>...</td>\n",
       "      <td>0.000000e+00</td>\n",
       "      <td>NaN</td>\n",
       "      <td>NaN</td>\n",
       "      <td>912821KX2</td>\n",
       "      <td>4.199558e+10</td>\n",
       "      <td>41993978.2</td>\n",
       "      <td>1.600000e+06</td>\n",
       "      <td>0.0</td>\n",
       "      <td>41993.9782</td>\n",
       "      <td>16.0</td>\n",
       "    </tr>\n",
       "    <tr>\n",
       "      <th>...</th>\n",
       "      <td>...</td>\n",
       "      <td>...</td>\n",
       "      <td>...</td>\n",
       "      <td>...</td>\n",
       "      <td>...</td>\n",
       "      <td>...</td>\n",
       "      <td>...</td>\n",
       "      <td>...</td>\n",
       "      <td>...</td>\n",
       "      <td>...</td>\n",
       "      <td>...</td>\n",
       "      <td>...</td>\n",
       "      <td>...</td>\n",
       "      <td>...</td>\n",
       "      <td>...</td>\n",
       "      <td>...</td>\n",
       "      <td>...</td>\n",
       "      <td>...</td>\n",
       "      <td>...</td>\n",
       "      <td>...</td>\n",
       "      <td>...</td>\n",
       "    </tr>\n",
       "    <tr>\n",
       "      <th>386</th>\n",
       "      <td>912810TN8</td>\n",
       "      <td>Bond</td>\n",
       "      <td>2023-04-13</td>\n",
       "      <td>2023-04-17</td>\n",
       "      <td>2053-02-15</td>\n",
       "      <td>28.484932</td>\n",
       "      <td>3.625</td>\n",
       "      <td>NaN</td>\n",
       "      <td>False</td>\n",
       "      <td>Feb 53s, 30-Year</td>\n",
       "      <td>...</td>\n",
       "      <td>9.367420e+09</td>\n",
       "      <td>0.141965</td>\n",
       "      <td>6.598403e+10</td>\n",
       "      <td>912803GP2</td>\n",
       "      <td>6.598403e+10</td>\n",
       "      <td>50170937.7</td>\n",
       "      <td>1.581309e+10</td>\n",
       "      <td>1534040.0</td>\n",
       "      <td>40803.5178</td>\n",
       "      <td>6.0</td>\n",
       "    </tr>\n",
       "    <tr>\n",
       "      <th>387</th>\n",
       "      <td>912810TR9</td>\n",
       "      <td>Bond</td>\n",
       "      <td>2023-07-13</td>\n",
       "      <td>2023-07-17</td>\n",
       "      <td>2053-05-15</td>\n",
       "      <td>28.728767</td>\n",
       "      <td>3.625</td>\n",
       "      <td>NaN</td>\n",
       "      <td>False</td>\n",
       "      <td>May 53s, 30-Year</td>\n",
       "      <td>...</td>\n",
       "      <td>5.723292e+09</td>\n",
       "      <td>0.091437</td>\n",
       "      <td>6.259307e+10</td>\n",
       "      <td>912803GS6</td>\n",
       "      <td>6.259307e+10</td>\n",
       "      <td>39104686.8</td>\n",
       "      <td>2.348839e+10</td>\n",
       "      <td>2265540.0</td>\n",
       "      <td>33381.3949</td>\n",
       "      <td>5.0</td>\n",
       "    </tr>\n",
       "    <tr>\n",
       "      <th>388</th>\n",
       "      <td>912810TT5</td>\n",
       "      <td>Bond</td>\n",
       "      <td>2023-10-12</td>\n",
       "      <td>2023-10-16</td>\n",
       "      <td>2053-08-15</td>\n",
       "      <td>28.980822</td>\n",
       "      <td>4.125</td>\n",
       "      <td>NaN</td>\n",
       "      <td>False</td>\n",
       "      <td>Aug 53s, 30-Year</td>\n",
       "      <td>...</td>\n",
       "      <td>8.606596e+09</td>\n",
       "      <td>0.120247</td>\n",
       "      <td>7.157430e+10</td>\n",
       "      <td>912803GU1</td>\n",
       "      <td>7.157430e+10</td>\n",
       "      <td>60802584.0</td>\n",
       "      <td>1.077172e+10</td>\n",
       "      <td>208800.0</td>\n",
       "      <td>52195.9878</td>\n",
       "      <td>4.0</td>\n",
       "    </tr>\n",
       "    <tr>\n",
       "      <th>389</th>\n",
       "      <td>912810TV0</td>\n",
       "      <td>Bond</td>\n",
       "      <td>2024-01-11</td>\n",
       "      <td>2024-01-16</td>\n",
       "      <td>2053-11-15</td>\n",
       "      <td>29.232877</td>\n",
       "      <td>4.750</td>\n",
       "      <td>NaN</td>\n",
       "      <td>False</td>\n",
       "      <td>Nov 53s, 30-Year</td>\n",
       "      <td>...</td>\n",
       "      <td>4.567153e+08</td>\n",
       "      <td>0.006874</td>\n",
       "      <td>6.644364e+10</td>\n",
       "      <td>912803GW7</td>\n",
       "      <td>6.644364e+10</td>\n",
       "      <td>57766113.9</td>\n",
       "      <td>8.677531e+09</td>\n",
       "      <td>1851960.0</td>\n",
       "      <td>57309.3986</td>\n",
       "      <td>3.0</td>\n",
       "    </tr>\n",
       "    <tr>\n",
       "      <th>390</th>\n",
       "      <td>912810TX6</td>\n",
       "      <td>Bond</td>\n",
       "      <td>2024-04-11</td>\n",
       "      <td>2024-04-15</td>\n",
       "      <td>2054-02-15</td>\n",
       "      <td>29.484932</td>\n",
       "      <td>4.250</td>\n",
       "      <td>NaN</td>\n",
       "      <td>False</td>\n",
       "      <td>Feb 54s, 30-Year</td>\n",
       "      <td>...</td>\n",
       "      <td>2.211754e+09</td>\n",
       "      <td>0.031064</td>\n",
       "      <td>7.119879e+10</td>\n",
       "      <td>912803GY3</td>\n",
       "      <td>7.119879e+10</td>\n",
       "      <td>59924873.7</td>\n",
       "      <td>1.127392e+10</td>\n",
       "      <td>1144000.0</td>\n",
       "      <td>57713.1192</td>\n",
       "      <td>2.0</td>\n",
       "    </tr>\n",
       "  </tbody>\n",
       "</table>\n",
       "<p>295 rows × 25 columns</p>\n",
       "</div>"
      ],
      "text/plain": [
       "         cusip security_type auction_date issue_date maturity_date  \\\n",
       "53   91282CFX4          Note   2022-11-21 2022-11-30    2024-11-30   \n",
       "54   91282CGD7          Note   2022-12-27 2023-01-03    2024-12-31   \n",
       "55   91282CGG0          Note   2023-01-24 2023-01-31    2025-01-31   \n",
       "56   91282CGN5          Note   2023-02-21 2023-02-28    2025-02-28   \n",
       "57   91282CGU9          Note   2023-03-27 2023-03-31    2025-03-31   \n",
       "..         ...           ...          ...        ...           ...   \n",
       "386  912810TN8          Bond   2023-04-13 2023-04-17    2053-02-15   \n",
       "387  912810TR9          Bond   2023-07-13 2023-07-17    2053-05-15   \n",
       "388  912810TT5          Bond   2023-10-12 2023-10-16    2053-08-15   \n",
       "389  912810TV0          Bond   2024-01-11 2024-01-16    2053-11-15   \n",
       "390  912810TX6          Bond   2024-04-11 2024-04-15    2054-02-15   \n",
       "\n",
       "     time_to_maturity  int_rate high_investment_rate is_on_the_run  \\\n",
       "53           0.254795     4.500                  NaN         False   \n",
       "54           0.339726     4.250                  NaN         False   \n",
       "55           0.424658     4.125                  NaN         False   \n",
       "56           0.501370     4.625                  NaN         False   \n",
       "57           0.586301     3.875                  NaN         False   \n",
       "..                ...       ...                  ...           ...   \n",
       "386         28.484932     3.625                  NaN         False   \n",
       "387         28.728767     3.625                  NaN         False   \n",
       "388         28.980822     4.125                  NaN         False   \n",
       "389         29.232877     4.750                  NaN         False   \n",
       "390         29.484932     4.250                  NaN         False   \n",
       "\n",
       "                label  ...      parValue percentOutstanding  \\\n",
       "53    Nov 24s, 2-Year  ...  4.566032e+09           0.098063   \n",
       "54    Dec 24s, 2-Year  ...  0.000000e+00                NaN   \n",
       "55    Jan 25s, 2-Year  ...  0.000000e+00                NaN   \n",
       "56    Feb 25s, 2-Year  ...  9.542573e+09           0.185187   \n",
       "57    Mar 25s, 2-Year  ...  0.000000e+00                NaN   \n",
       "..                ...  ...           ...                ...   \n",
       "386  Feb 53s, 30-Year  ...  9.367420e+09           0.141965   \n",
       "387  May 53s, 30-Year  ...  5.723292e+09           0.091437   \n",
       "388  Aug 53s, 30-Year  ...  8.606596e+09           0.120247   \n",
       "389  Nov 53s, 30-Year  ...  4.567153e+08           0.006874   \n",
       "390  Feb 54s, 30-Year  ...  2.211754e+09           0.031064   \n",
       "\n",
       "     est_outstanding_amt  corpus_cusip outstanding_amt  \\\n",
       "53          4.656210e+10     912821KD6    4.656210e+10   \n",
       "54                   NaN     912821KH7    4.198899e+10   \n",
       "55                   NaN     912821KN4    4.199199e+10   \n",
       "56          5.152952e+10     912821KT1    5.152952e+10   \n",
       "57                   NaN     912821KX2    4.199558e+10   \n",
       "..                   ...           ...             ...   \n",
       "386         6.598403e+10     912803GP2    6.598403e+10   \n",
       "387         6.259307e+10     912803GS6    6.259307e+10   \n",
       "388         7.157430e+10     912803GU1    7.157430e+10   \n",
       "389         6.644364e+10     912803GW7    6.644364e+10   \n",
       "390         7.119879e+10     912803GY3    7.119879e+10   \n",
       "\n",
       "     portion_unstripped_amt  portion_stripped_amt  reconstituted_amt  \\\n",
       "53               46551301.7          1.080000e+07                0.0   \n",
       "54               41988991.2          0.000000e+00                0.0   \n",
       "55               41991993.5          0.000000e+00                0.0   \n",
       "56               51529515.1          0.000000e+00                0.0   \n",
       "57               41993978.2          1.600000e+06                0.0   \n",
       "..                      ...                   ...                ...   \n",
       "386              50170937.7          1.581309e+10          1534040.0   \n",
       "387              39104686.8          2.348839e+10          2265540.0   \n",
       "388              60802584.0          1.077172e+10           208800.0   \n",
       "389              57766113.9          8.677531e+09          1851960.0   \n",
       "390              59924873.7          1.127392e+10          1144000.0   \n",
       "\n",
       "     free_float  rank  \n",
       "53   41985.2693  20.0  \n",
       "54   41988.9912  19.0  \n",
       "55   41991.9935  18.0  \n",
       "56   41986.9417  17.0  \n",
       "57   41993.9782  16.0  \n",
       "..          ...   ...  \n",
       "386  40803.5178   6.0  \n",
       "387  33381.3949   5.0  \n",
       "388  52195.9878   4.0  \n",
       "389  57309.3986   3.0  \n",
       "390  57713.1192   2.0  \n",
       "\n",
       "[295 rows x 25 columns]"
      ]
     },
     "execution_count": 28,
     "metadata": {},
     "output_type": "execute_result"
    }
   ],
   "source": [
    "as_of_date = datetime(2024, 8, 29)\n",
    "quote_type = \"bid\"\n",
    "\n",
    "curve_set_df = curve_data_fetcher.build_curve_set(\n",
    "    as_of_date=as_of_date,\n",
    "    sorted=True, \n",
    "    use_github=True, \n",
    "    # use_public_dotcom=True,\n",
    "    include_off_the_run_number=True,\n",
    "    market_cols_to_return=[f\"{quote_type}_price\", f\"{quote_type}_yield\"],\n",
    "    calc_free_float=True,\n",
    ")\n",
    "\n",
    "# remove OTRs and first off the runs due to liquidity premium\n",
    "filtered_curve_set_df = curve_set_df[(curve_set_df[\"rank\"] != 0) & (curve_set_df[\"rank\"] != 1)]\n",
    "\n",
    "# remove TBills\n",
    "filtered_curve_set_df = filtered_curve_set_df[\n",
    "    filtered_curve_set_df[\"security_type\"] != \"Bill\"\n",
    "]\n",
    "\n",
    "# remove low free float bonds (< $8bn)\n",
    "filtered_curve_set_df = filtered_curve_set_df[filtered_curve_set_df[\"free_float\"] > 8000] \n",
    "\n",
    "# filter bonds very close to maturity\n",
    "filtered_curve_set_df = filtered_curve_set_df[filtered_curve_set_df[\"time_to_maturity\"] > 0.25] \n",
    "\n",
    "# remove CTDs (this is a TODO)\n",
    "# filtered_curve_set_df = filtered_curve_set_df[filtered_curve_set_df[\"is_ctd\"] == False] \n",
    "\n",
    "# remove cusips trading special in repo (this is a TODO)\n",
    "# filtered_curve_set_df = filtered_curve_set_df[filtered_curve_set_df[\"is_trading_special\"] == False] \n",
    "\n",
    "filtered_curve_set_df"
   ]
  },
  {
   "cell_type": "code",
   "execution_count": 29,
   "metadata": {},
   "outputs": [],
   "source": [
    "t2 = np.linspace(1/365, 30, 1000)\n",
    "\n",
    "# fitted_zero_curve_func_ns, status_ns = calibrate_ns_ols(\n",
    "#     filtered_curve_set_df[\"time_to_maturity\"].to_numpy(),\n",
    "#     filtered_curve_set_df[f\"{quote_type}_yield\"].to_numpy(),\n",
    "# )\n",
    "# assert status_ns\n",
    "\n",
    "# fitted_zero_curve_func_nss, status_nss, lstsq_res_nss = calibrate_nss_ols(\n",
    "#     filtered_curve_set_df[\"time_to_maturity\"].to_numpy(),\n",
    "#     filtered_curve_set_df[f\"{quote_type}_yield\"].to_numpy(),\n",
    "#     tau0=(1, 3.5)\n",
    "# )\n",
    "# assert status_nss\n",
    "\n",
    "# print(status_nss)\n",
    "# print(lstsq_res_nss)\n",
    "\n",
    "# fitted_zero_curve_func_dl, status_dl = calibrate_diebold_li_ols(\n",
    "#     filtered_curve_set_df[\"time_to_maturity\"].to_numpy(),\n",
    "#     filtered_curve_set_df[f\"{quote_type}_yield\"].to_numpy(),\n",
    "# )\n",
    "\n",
    "# fitted_zero_curve_func_bc, status_bc = calibrate_bc_ols(\n",
    "#     np.concatenate((np.array([1/365]), filtered_curve_set_df[\"time_to_maturity\"].to_numpy())),\n",
    "#     np.concatenate((np.array([5.31]), filtered_curve_set_df[f\"{quote_type}_yield\"].to_numpy())),\n",
    "# )\n",
    "\n",
    "# fitted_zero_curve_func_aug_bc, status_aug_bc = calibrate_bc_augmented_ols(\n",
    "#     np.concatenate((np.array([1/365]), filtered_curve_set_df[\"time_to_maturity\"].to_numpy())),\n",
    "#     np.concatenate((np.array([5.31]), filtered_curve_set_df[f\"{quote_type}_yield\"].to_numpy())),\n",
    "# )\n",
    "\n",
    "# filtered_curve_set_mles_func, status_mles = calibrate_mles_ols(\n",
    "#     filtered_curve_set_df[\"time_to_maturity\"].to_numpy(),\n",
    "#     filtered_curve_set_df[f\"{quote_type}_yield\"].to_numpy(),\n",
    "#     overnight_rate=5.31,\n",
    "#     N=6\n",
    "# )\n",
    "\n",
    "\n",
    "fitted_zero_curve_dict = get_spot_rates_fitter(\n",
    "    curve_set_df=filtered_curve_set_df,\n",
    "    as_of_date=as_of_date,\n",
    "    on_rate=5.35,\n",
    "    # ql_fitting_methods=[\"ql_f_ns\", \"ql_f_nss\", \"ql_f_es\", \"ql_f_sp\", \"ql_f_cbs\"],\n",
    "    ql_fitting_methods=[\"ql_f_cbs\"],\n",
    "    ql_zero_curve_interp_method=\"ql_z_interp_monot_cubic\",\n",
    "    daily_interpolation=True,\n",
    "    # simple_poly=3,\n",
    "    knots=[-20, -10, -5, 0, 1, 2, 3, 5, 7, 10, 15, 20, 25, 30, 35, 40, 45, 50]\n",
    ")"
   ]
  },
  {
   "cell_type": "code",
   "execution_count": 30,
   "metadata": {},
   "outputs": [
    {
     "name": "stdout",
     "output_type": "stream",
     "text": [
      "91282CFG1 degenerate single date (August 30th, 2024) schedule\n",
      " seed date: August 31st, 2024\n",
      " exit date: August 30th, 2024\n",
      " effective date: August 30th, 2024\n",
      " first date: null date\n",
      " next to last date: null date\n",
      " termination date: August 31st, 2024\n",
      " generation rule: Backward\n",
      " end of month: 0\n",
      "912828YE4 degenerate single date (August 30th, 2024) schedule\n",
      " seed date: August 31st, 2024\n",
      " exit date: August 30th, 2024\n",
      " effective date: August 30th, 2024\n",
      " first date: null date\n",
      " next to last date: null date\n",
      " termination date: August 31st, 2024\n",
      " generation rule: Backward\n",
      " end of month: 0\n",
      "9128282U3 degenerate single date (August 30th, 2024) schedule\n",
      " seed date: August 31st, 2024\n",
      " exit date: August 30th, 2024\n",
      " effective date: August 30th, 2024\n",
      " first date: null date\n",
      " next to last date: null date\n",
      " termination date: August 31st, 2024\n",
      " generation rule: Backward\n",
      " end of month: 0\n"
     ]
    },
    {
     "data": {
      "text/html": [
       "<div>\n",
       "<style scoped>\n",
       "    .dataframe tbody tr th:only-of-type {\n",
       "        vertical-align: middle;\n",
       "    }\n",
       "\n",
       "    .dataframe tbody tr th {\n",
       "        vertical-align: top;\n",
       "    }\n",
       "\n",
       "    .dataframe thead th {\n",
       "        text-align: right;\n",
       "    }\n",
       "</style>\n",
       "<table border=\"1\" class=\"dataframe\">\n",
       "  <thead>\n",
       "    <tr style=\"text-align: right;\">\n",
       "      <th></th>\n",
       "      <th>cusip</th>\n",
       "      <th>label</th>\n",
       "      <th>issue_date</th>\n",
       "      <th>maturity_date</th>\n",
       "      <th>time_to_maturity</th>\n",
       "      <th>high_investment_rate</th>\n",
       "      <th>int_rate</th>\n",
       "      <th>rank</th>\n",
       "      <th>outstanding</th>\n",
       "      <th>soma_holdings</th>\n",
       "      <th>stripping_amount</th>\n",
       "      <th>free_float</th>\n",
       "      <th>bid_yield</th>\n",
       "      <th>bid_price</th>\n",
       "      <th>accured</th>\n",
       "      <th>cbs_repriced_npv</th>\n",
       "      <th>cbs_repriced_ytm</th>\n",
       "      <th>cbs_price_spread</th>\n",
       "      <th>cbs_ytm_spread</th>\n",
       "    </tr>\n",
       "  </thead>\n",
       "  <tbody>\n",
       "    <tr>\n",
       "      <th>0</th>\n",
       "      <td>912797LA3</td>\n",
       "      <td>Sep 24s, 17-Week</td>\n",
       "      <td>2024-08-06</td>\n",
       "      <td>2024-09-03</td>\n",
       "      <td>0.013699</td>\n",
       "      <td>5.381000</td>\n",
       "      <td>NaN</td>\n",
       "      <td>16.0</td>\n",
       "      <td>0.000000e+00</td>\n",
       "      <td>6.784389e+08</td>\n",
       "      <td>0.000000e+00</td>\n",
       "      <td>-678.4389</td>\n",
       "      <td>6.798202</td>\n",
       "      <td>99.927361</td>\n",
       "      <td>0.000000</td>\n",
       "      <td>99.941608</td>\n",
       "      <td>5.416506</td>\n",
       "      <td>-0.014247</td>\n",
       "      <td>138.169620</td>\n",
       "    </tr>\n",
       "    <tr>\n",
       "      <th>1</th>\n",
       "      <td>912797LG0</td>\n",
       "      <td>Sep 24s, 17-Week</td>\n",
       "      <td>2024-08-13</td>\n",
       "      <td>2024-09-10</td>\n",
       "      <td>0.032877</td>\n",
       "      <td>5.381000</td>\n",
       "      <td>NaN</td>\n",
       "      <td>15.0</td>\n",
       "      <td>0.000000e+00</td>\n",
       "      <td>6.873750e+08</td>\n",
       "      <td>0.000000e+00</td>\n",
       "      <td>-687.3750</td>\n",
       "      <td>5.934867</td>\n",
       "      <td>99.825333</td>\n",
       "      <td>0.000000</td>\n",
       "      <td>99.840236</td>\n",
       "      <td>5.391423</td>\n",
       "      <td>-0.014903</td>\n",
       "      <td>54.344353</td>\n",
       "    </tr>\n",
       "    <tr>\n",
       "      <th>2</th>\n",
       "      <td>912797LH8</td>\n",
       "      <td>Sep 24s, 17-Week</td>\n",
       "      <td>2024-08-20</td>\n",
       "      <td>2024-09-17</td>\n",
       "      <td>0.052055</td>\n",
       "      <td>5.355000</td>\n",
       "      <td>NaN</td>\n",
       "      <td>14.0</td>\n",
       "      <td>0.000000e+00</td>\n",
       "      <td>7.210193e+08</td>\n",
       "      <td>0.000000e+00</td>\n",
       "      <td>-721.0193</td>\n",
       "      <td>5.753885</td>\n",
       "      <td>99.722917</td>\n",
       "      <td>0.000000</td>\n",
       "      <td>99.739890</td>\n",
       "      <td>5.366540</td>\n",
       "      <td>-0.016973</td>\n",
       "      <td>38.734468</td>\n",
       "    </tr>\n",
       "    <tr>\n",
       "      <th>3</th>\n",
       "      <td>912797LJ4</td>\n",
       "      <td>Sep 24s, 17-Week</td>\n",
       "      <td>2024-08-27</td>\n",
       "      <td>2024-09-24</td>\n",
       "      <td>0.071233</td>\n",
       "      <td>5.335000</td>\n",
       "      <td>NaN</td>\n",
       "      <td>13.0</td>\n",
       "      <td>0.000000e+00</td>\n",
       "      <td>7.426366e+08</td>\n",
       "      <td>0.000000e+00</td>\n",
       "      <td>-742.6366</td>\n",
       "      <td>5.626962</td>\n",
       "      <td>99.623722</td>\n",
       "      <td>0.000000</td>\n",
       "      <td>99.640554</td>\n",
       "      <td>5.341855</td>\n",
       "      <td>-0.016832</td>\n",
       "      <td>28.510667</td>\n",
       "    </tr>\n",
       "    <tr>\n",
       "      <th>4</th>\n",
       "      <td>912797LK1</td>\n",
       "      <td>Oct 24s, 17-Week</td>\n",
       "      <td>2024-08-06</td>\n",
       "      <td>2024-10-01</td>\n",
       "      <td>0.090411</td>\n",
       "      <td>5.346000</td>\n",
       "      <td>NaN</td>\n",
       "      <td>12.0</td>\n",
       "      <td>0.000000e+00</td>\n",
       "      <td>5.076268e+08</td>\n",
       "      <td>0.000000e+00</td>\n",
       "      <td>-507.6268</td>\n",
       "      <td>5.496958</td>\n",
       "      <td>99.527000</td>\n",
       "      <td>0.000000</td>\n",
       "      <td>99.542217</td>\n",
       "      <td>5.317372</td>\n",
       "      <td>-0.015217</td>\n",
       "      <td>17.958529</td>\n",
       "    </tr>\n",
       "    <tr>\n",
       "      <th>...</th>\n",
       "      <td>...</td>\n",
       "      <td>...</td>\n",
       "      <td>...</td>\n",
       "      <td>...</td>\n",
       "      <td>...</td>\n",
       "      <td>...</td>\n",
       "      <td>...</td>\n",
       "      <td>...</td>\n",
       "      <td>...</td>\n",
       "      <td>...</td>\n",
       "      <td>...</td>\n",
       "      <td>...</td>\n",
       "      <td>...</td>\n",
       "      <td>...</td>\n",
       "      <td>...</td>\n",
       "      <td>...</td>\n",
       "      <td>...</td>\n",
       "      <td>...</td>\n",
       "      <td>...</td>\n",
       "    </tr>\n",
       "    <tr>\n",
       "      <th>385</th>\n",
       "      <td>912810TT5</td>\n",
       "      <td>Aug 53s, 30-Year</td>\n",
       "      <td>2023-10-16</td>\n",
       "      <td>2053-08-15</td>\n",
       "      <td>28.980822</td>\n",
       "      <td>NaN</td>\n",
       "      <td>4.125</td>\n",
       "      <td>4.0</td>\n",
       "      <td>7.157430e+10</td>\n",
       "      <td>8.606596e+09</td>\n",
       "      <td>1.077172e+10</td>\n",
       "      <td>52195.9878</td>\n",
       "      <td>4.190369</td>\n",
       "      <td>98.906250</td>\n",
       "      <td>0.168139</td>\n",
       "      <td>98.911071</td>\n",
       "      <td>4.190360</td>\n",
       "      <td>0.163318</td>\n",
       "      <td>0.000898</td>\n",
       "    </tr>\n",
       "    <tr>\n",
       "      <th>386</th>\n",
       "      <td>912810TV0</td>\n",
       "      <td>Nov 53s, 30-Year</td>\n",
       "      <td>2024-01-16</td>\n",
       "      <td>2053-11-15</td>\n",
       "      <td>29.232877</td>\n",
       "      <td>NaN</td>\n",
       "      <td>4.750</td>\n",
       "      <td>3.0</td>\n",
       "      <td>6.644364e+10</td>\n",
       "      <td>4.567153e+08</td>\n",
       "      <td>8.677531e+09</td>\n",
       "      <td>57309.3986</td>\n",
       "      <td>4.170675</td>\n",
       "      <td>109.718750</td>\n",
       "      <td>1.381114</td>\n",
       "      <td>109.579293</td>\n",
       "      <td>4.179494</td>\n",
       "      <td>1.520571</td>\n",
       "      <td>-0.881963</td>\n",
       "    </tr>\n",
       "    <tr>\n",
       "      <th>387</th>\n",
       "      <td>912810TX6</td>\n",
       "      <td>Feb 54s, 30-Year</td>\n",
       "      <td>2024-04-15</td>\n",
       "      <td>2054-02-15</td>\n",
       "      <td>29.484932</td>\n",
       "      <td>NaN</td>\n",
       "      <td>4.250</td>\n",
       "      <td>2.0</td>\n",
       "      <td>7.119879e+10</td>\n",
       "      <td>2.211754e+09</td>\n",
       "      <td>1.127392e+10</td>\n",
       "      <td>57713.1192</td>\n",
       "      <td>4.183023</td>\n",
       "      <td>101.125000</td>\n",
       "      <td>0.173234</td>\n",
       "      <td>101.381859</td>\n",
       "      <td>4.168205</td>\n",
       "      <td>-0.083625</td>\n",
       "      <td>1.481788</td>\n",
       "    </tr>\n",
       "    <tr>\n",
       "      <th>388</th>\n",
       "      <td>912810UA4</td>\n",
       "      <td>May 54s, 30-Year</td>\n",
       "      <td>2024-07-15</td>\n",
       "      <td>2054-05-15</td>\n",
       "      <td>29.728767</td>\n",
       "      <td>NaN</td>\n",
       "      <td>4.625</td>\n",
       "      <td>1.0</td>\n",
       "      <td>7.642080e+10</td>\n",
       "      <td>7.428279e+09</td>\n",
       "      <td>5.191628e+09</td>\n",
       "      <td>63800.8965</td>\n",
       "      <td>4.172348</td>\n",
       "      <td>107.656250</td>\n",
       "      <td>0.578125</td>\n",
       "      <td>107.935197</td>\n",
       "      <td>4.157686</td>\n",
       "      <td>0.299178</td>\n",
       "      <td>1.466111</td>\n",
       "    </tr>\n",
       "    <tr>\n",
       "      <th>389</th>\n",
       "      <td>912810UC0</td>\n",
       "      <td>Aug 54s, 30-Year</td>\n",
       "      <td>2024-08-15</td>\n",
       "      <td>2054-08-15</td>\n",
       "      <td>29.980822</td>\n",
       "      <td>NaN</td>\n",
       "      <td>4.250</td>\n",
       "      <td>0.0</td>\n",
       "      <td>0.000000e+00</td>\n",
       "      <td>4.754383e+09</td>\n",
       "      <td>0.000000e+00</td>\n",
       "      <td>-4754.3829</td>\n",
       "      <td>4.169015</td>\n",
       "      <td>101.375000</td>\n",
       "      <td>0.173234</td>\n",
       "      <td>101.800784</td>\n",
       "      <td>4.144587</td>\n",
       "      <td>-0.252551</td>\n",
       "      <td>2.442790</td>\n",
       "    </tr>\n",
       "  </tbody>\n",
       "</table>\n",
       "<p>390 rows × 19 columns</p>\n",
       "</div>"
      ],
      "text/plain": [
       "         cusip             label issue_date maturity_date  time_to_maturity  \\\n",
       "0    912797LA3  Sep 24s, 17-Week 2024-08-06    2024-09-03          0.013699   \n",
       "1    912797LG0  Sep 24s, 17-Week 2024-08-13    2024-09-10          0.032877   \n",
       "2    912797LH8  Sep 24s, 17-Week 2024-08-20    2024-09-17          0.052055   \n",
       "3    912797LJ4  Sep 24s, 17-Week 2024-08-27    2024-09-24          0.071233   \n",
       "4    912797LK1  Oct 24s, 17-Week 2024-08-06    2024-10-01          0.090411   \n",
       "..         ...               ...        ...           ...               ...   \n",
       "385  912810TT5  Aug 53s, 30-Year 2023-10-16    2053-08-15         28.980822   \n",
       "386  912810TV0  Nov 53s, 30-Year 2024-01-16    2053-11-15         29.232877   \n",
       "387  912810TX6  Feb 54s, 30-Year 2024-04-15    2054-02-15         29.484932   \n",
       "388  912810UA4  May 54s, 30-Year 2024-07-15    2054-05-15         29.728767   \n",
       "389  912810UC0  Aug 54s, 30-Year 2024-08-15    2054-08-15         29.980822   \n",
       "\n",
       "    high_investment_rate  int_rate  rank   outstanding  soma_holdings  \\\n",
       "0               5.381000       NaN  16.0  0.000000e+00   6.784389e+08   \n",
       "1               5.381000       NaN  15.0  0.000000e+00   6.873750e+08   \n",
       "2               5.355000       NaN  14.0  0.000000e+00   7.210193e+08   \n",
       "3               5.335000       NaN  13.0  0.000000e+00   7.426366e+08   \n",
       "4               5.346000       NaN  12.0  0.000000e+00   5.076268e+08   \n",
       "..                   ...       ...   ...           ...            ...   \n",
       "385                  NaN     4.125   4.0  7.157430e+10   8.606596e+09   \n",
       "386                  NaN     4.750   3.0  6.644364e+10   4.567153e+08   \n",
       "387                  NaN     4.250   2.0  7.119879e+10   2.211754e+09   \n",
       "388                  NaN     4.625   1.0  7.642080e+10   7.428279e+09   \n",
       "389                  NaN     4.250   0.0  0.000000e+00   4.754383e+09   \n",
       "\n",
       "     stripping_amount  free_float  bid_yield   bid_price   accured  \\\n",
       "0        0.000000e+00   -678.4389   6.798202   99.927361  0.000000   \n",
       "1        0.000000e+00   -687.3750   5.934867   99.825333  0.000000   \n",
       "2        0.000000e+00   -721.0193   5.753885   99.722917  0.000000   \n",
       "3        0.000000e+00   -742.6366   5.626962   99.623722  0.000000   \n",
       "4        0.000000e+00   -507.6268   5.496958   99.527000  0.000000   \n",
       "..                ...         ...        ...         ...       ...   \n",
       "385      1.077172e+10  52195.9878   4.190369   98.906250  0.168139   \n",
       "386      8.677531e+09  57309.3986   4.170675  109.718750  1.381114   \n",
       "387      1.127392e+10  57713.1192   4.183023  101.125000  0.173234   \n",
       "388      5.191628e+09  63800.8965   4.172348  107.656250  0.578125   \n",
       "389      0.000000e+00  -4754.3829   4.169015  101.375000  0.173234   \n",
       "\n",
       "     cbs_repriced_npv  cbs_repriced_ytm  cbs_price_spread  cbs_ytm_spread  \n",
       "0           99.941608          5.416506         -0.014247      138.169620  \n",
       "1           99.840236          5.391423         -0.014903       54.344353  \n",
       "2           99.739890          5.366540         -0.016973       38.734468  \n",
       "3           99.640554          5.341855         -0.016832       28.510667  \n",
       "4           99.542217          5.317372         -0.015217       17.958529  \n",
       "..                ...               ...               ...             ...  \n",
       "385         98.911071          4.190360          0.163318        0.000898  \n",
       "386        109.579293          4.179494          1.520571       -0.881963  \n",
       "387        101.381859          4.168205         -0.083625        1.481788  \n",
       "388        107.935197          4.157686          0.299178        1.466111  \n",
       "389        101.800784          4.144587         -0.252551        2.442790  \n",
       "\n",
       "[390 rows x 19 columns]"
      ]
     },
     "execution_count": 30,
     "metadata": {},
     "output_type": "execute_result"
    }
   ],
   "source": [
    "rv_df = reprice_bonds(\n",
    "    as_of_date=as_of_date,\n",
    "    ql_zero_curves={\n",
    "        # \"ns\": fitted_zero_curve_dict[\"ql_f_ns\"][\"ql_zero_curve\"],\n",
    "        # \"nss\": fitted_zero_curve_dict[\"ql_f_nss\"][\"ql_zero_curve\"],\n",
    "        # \"es\": fitted_zero_curve_dict[\"ql_f_es\"][\"ql_zero_curve\"],\n",
    "        \"cbs\": fitted_zero_curve_dict[\"ql_f_cbs\"][\"ql_zero_curve\"],\n",
    "    },\n",
    "    curve_set_df=curve_set_df,\n",
    ")\n",
    "rv_df"
   ]
  },
  {
   "cell_type": "code",
   "execution_count": 31,
   "metadata": {},
   "outputs": [
    {
     "data": {
      "application/vnd.plotly.v1+json": {
       "config": {
        "plotlyServerURL": "https://plot.ly"
       },
       "data": [
        {
         "customdata": [
          [
           "Sep 24s, 17-Week"
          ],
          [
           "Sep 24s, 17-Week"
          ],
          [
           "Sep 24s, 17-Week"
          ],
          [
           "Sep 24s, 17-Week"
          ],
          [
           "Oct 24s, 17-Week"
          ],
          [
           "Oct 24s, 17-Week"
          ],
          [
           "Oct 24s, 17-Week"
          ],
          [
           "Oct 24s, 17-Week"
          ],
          [
           "Oct 24s, 17-Week"
          ],
          [
           "Nov 24s, 17-Week"
          ],
          [
           "Nov 24s, 17-Week"
          ],
          [
           "Nov 24s, 17-Week"
          ],
          [
           "Nov 24s, 17-Week"
          ],
          [
           "Dec 24s, 17-Week"
          ],
          [
           "Dec 24s, 17-Week"
          ],
          [
           "Dec 24s, 17-Week"
          ],
          [
           "Dec 24s, 17-Week"
          ]
         ],
         "hovertemplate": "original_security_term=17-Week<br>Time to Maturity (Years)=%{x}<br>bid_yield=%{y}<br>label=%{customdata[0]}<extra></extra>",
         "legendgroup": "17-Week",
         "marker": {
          "color": "#636efa",
          "symbol": "circle"
         },
         "mode": "markers",
         "name": "17-Week",
         "orientation": "v",
         "showlegend": true,
         "type": "scatter",
         "x": [
          0.0136986301369863,
          0.03287671232876712,
          0.052054794520547946,
          0.07123287671232877,
          0.09041095890410959,
          0.1095890410958904,
          0.12876712328767123,
          0.14794520547945206,
          0.16712328767123288,
          0.1863013698630137,
          0.2054794520547945,
          0.22465753424657534,
          0.24383561643835616,
          0.26301369863013696,
          0.2821917808219178,
          0.3013698630136986,
          0.32054794520547947
         ],
         "xaxis": "x",
         "y": [
          6.7982019996453555,
          5.9348667574458505,
          5.7538846332190285,
          5.626961719081049,
          5.496957608929563,
          5.447898913177837,
          5.4189176098726275,
          5.395513576862606,
          5.332906354255093,
          5.291303873547883,
          5.297223569339323,
          5.250706537886338,
          5.2266642281427265,
          5.174735801513909,
          5.162853780591065,
          5.162129274340517,
          5.14042012364326
         ],
         "yaxis": "y"
        },
        {
         "customdata": [
          [
           "Aug 24s, 26-Week"
          ],
          [
           "Sep 24s, 26-Week"
          ],
          [
           "Sep 24s, 26-Week"
          ],
          [
           "Sep 24s, 26-Week"
          ],
          [
           "Oct 24s, 26-Week"
          ],
          [
           "Oct 24s, 26-Week"
          ],
          [
           "Oct 24s, 26-Week"
          ],
          [
           "Nov 24s, 26-Week"
          ],
          [
           "Nov 24s, 26-Week"
          ],
          [
           "Nov 24s, 26-Week"
          ],
          [
           "Dec 24s, 26-Week"
          ],
          [
           "Dec 24s, 26-Week"
          ],
          [
           "Dec 24s, 26-Week"
          ],
          [
           "Jan 25s, 26-Week"
          ],
          [
           "Jan 25s, 26-Week"
          ],
          [
           "Jan 25s, 26-Week"
          ],
          [
           "Jan 25s, 26-Week"
          ],
          [
           "Feb 25s, 26-Week"
          ],
          [
           "Feb 25s, 26-Week"
          ],
          [
           "Feb 25s, 26-Week"
          ]
         ],
         "hovertemplate": "original_security_term=26-Week<br>Time to Maturity (Years)=%{x}<br>bid_yield=%{y}<br>label=%{customdata[0]}<extra></extra>",
         "legendgroup": "26-Week",
         "marker": {
          "color": "#EF553B",
          "symbol": "circle"
         },
         "mode": "markers",
         "name": "26-Week",
         "orientation": "v",
         "showlegend": true,
         "type": "scatter",
         "x": [
          0,
          0.038356164383561646,
          0.057534246575342465,
          0.07671232876712329,
          0.11506849315068493,
          0.13424657534246576,
          0.15342465753424658,
          0.1917808219178082,
          0.21095890410958903,
          0.23013698630136986,
          0.2684931506849315,
          0.2876712328767123,
          0.30684931506849317,
          0.3452054794520548,
          0.3643835616438356,
          0.3835616438356164,
          0.42191780821917807,
          0.4410958904109589,
          0.4602739726027397,
          0.4986301369863014
         ],
         "xaxis": "x",
         "y": [
          null,
          5.858536815584136,
          5.712959618629948,
          5.589651190107871,
          5.452717738219079,
          5.404102371088582,
          5.403330269102236,
          5.300521669754518,
          5.28534940347752,
          5.271374504233642,
          5.152977323921539,
          5.08784170302415,
          5.108573331914669,
          5.039911835776645,
          5.018677792248327,
          4.997640105202017,
          4.956030530816476,
          4.96771218209682,
          4.957976853911835,
          4.927985568127396
         ],
         "yaxis": "y"
        },
        {
         "customdata": [
          [
           "Sep 24s, 52-Week"
          ],
          [
           "Oct 24s, 52-Week"
          ],
          [
           "Oct 24s, 52-Week"
          ],
          [
           "Nov 24s, 52-Week"
          ],
          [
           "Dec 24s, 52-Week"
          ],
          [
           "Jan 25s, 52-Week"
          ],
          [
           "Feb 25s, 52-Week"
          ],
          [
           "Mar 25s, 52-Week"
          ],
          [
           "Apr 25s, 52-Week"
          ],
          [
           "May 25s, 52-Week"
          ],
          [
           "Jun 25s, 52-Week"
          ],
          [
           "Jul 25s, 52-Week"
          ],
          [
           "Aug 25s, 52-Week"
          ]
         ],
         "hovertemplate": "original_security_term=52-Week<br>Time to Maturity (Years)=%{x}<br>bid_yield=%{y}<br>label=%{customdata[0]}<extra></extra>",
         "legendgroup": "52-Week",
         "marker": {
          "color": "#00cc96",
          "symbol": "circle"
         },
         "mode": "markers",
         "name": "52-Week",
         "orientation": "v",
         "showlegend": true,
         "type": "scatter",
         "x": [
          0.019178082191780823,
          0.0958904109589041,
          0.1726027397260274,
          0.25205479452054796,
          0.32602739726027397,
          0.40273972602739727,
          0.4794520547945205,
          0.5561643835616439,
          0.6328767123287671,
          0.7095890410958904,
          0.7863013698630137,
          0.863013698630137,
          0.9397260273972603
         ],
         "xaxis": "x",
         "y": [
          6.363424193035296,
          5.487830093646092,
          5.328054837749405,
          5.236550133143848,
          5.097635008376082,
          4.9767684463533906,
          4.948334387897697,
          4.571935207451197,
          4.589563925385818,
          4.544449119867342,
          4.541262846886869,
          4.480455335784836,
          4.436451994496599
         ],
         "yaxis": "y"
        },
        {
         "customdata": [
          [
           "Aug 24s, 2-Year"
          ],
          [
           "Sep 24s, 2-Year"
          ],
          [
           "Oct 24s, 2-Year"
          ],
          [
           "Nov 24s, 2-Year"
          ],
          [
           "Dec 24s, 2-Year"
          ],
          [
           "Jan 25s, 2-Year"
          ],
          [
           "Feb 25s, 2-Year"
          ],
          [
           "Mar 25s, 2-Year"
          ],
          [
           "Apr 25s, 2-Year"
          ],
          [
           "May 25s, 2-Year"
          ],
          [
           "Jun 25s, 2-Year"
          ],
          [
           "Jul 25s, 2-Year"
          ],
          [
           "Aug 25s, 2-Year"
          ],
          [
           "Sep 25s, 2-Year"
          ],
          [
           "Oct 25s, 2-Year"
          ],
          [
           "Nov 25s, 2-Year"
          ],
          [
           "Dec 25s, 2-Year"
          ],
          [
           "Jan 26s, 2-Year"
          ],
          [
           "Feb 26s, 2-Year"
          ],
          [
           "Mar 26s, 2-Year"
          ],
          [
           "Apr 26s, 2-Year"
          ],
          [
           "May 26s, 2-Year"
          ],
          [
           "Jun 26s, 2-Year"
          ],
          [
           "Jul 26s, 2-Year"
          ]
         ],
         "hovertemplate": "original_security_term=2-Year<br>Time to Maturity (Years)=%{x}<br>bid_yield=%{y}<br>label=%{customdata[0]}<extra></extra>",
         "legendgroup": "2-Year",
         "marker": {
          "color": "#ab63fa",
          "symbol": "circle"
         },
         "mode": "markers",
         "name": "2-Year",
         "orientation": "v",
         "showlegend": true,
         "type": "scatter",
         "x": [
          0.005479452054794521,
          0.08767123287671233,
          0.1726027397260274,
          0.2547945205479452,
          0.33972602739726027,
          0.4246575342465753,
          0.5013698630136987,
          0.5863013698630137,
          0.6684931506849315,
          0.7534246575342466,
          0.8356164383561644,
          0.9205479452054794,
          1.0054794520547945,
          1.0876712328767124,
          1.1726027397260275,
          1.2547945205479452,
          1.3397260273972602,
          1.4246575342465753,
          1.5013698630136987,
          1.5863013698630137,
          1.6684931506849314,
          1.7534246575342465,
          1.8356164383561644,
          1.9205479452054794
         ],
         "xaxis": "x",
         "y": [
          25.84840153324422,
          5.2746460694628565,
          5.234674417573201,
          5.075827917053595,
          5.070005443226965,
          4.946798237057707,
          4.81786617654299,
          4.739640543933866,
          4.6767234796698895,
          4.575219963251993,
          4.495242545134003,
          4.426491715935488,
          4.420035082551617,
          4.337269256125244,
          4.297445078714409,
          4.242640891391704,
          4.193810450441517,
          4.131194303907648,
          4.103256924815111,
          4.064211412241999,
          4.027063451715122,
          4.010223400194286,
          3.9773476381054733,
          3.945148050915404
         ],
         "yaxis": "y"
        },
        {
         "customdata": [
          [
           "Sep 24s, 3-Year"
          ],
          [
           "Oct 24s, 3-Year"
          ],
          [
           "Nov 24s, 3-Year"
          ],
          [
           "Dec 24s, 3-Year"
          ],
          [
           "Jan 25s, 3-Year"
          ],
          [
           "Feb 25s, 3-Year"
          ],
          [
           "Mar 25s, 3-Year"
          ],
          [
           "Apr 25s, 3-Year"
          ],
          [
           "May 25s, 3-Year"
          ],
          [
           "Jun 25s, 3-Year"
          ],
          [
           "Jul 25s, 3-Year"
          ],
          [
           "Aug 25s, 3-Year"
          ],
          [
           "Sep 25s, 3-Year"
          ],
          [
           "Oct 25s, 3-Year"
          ],
          [
           "Nov 25s, 3-Year"
          ],
          [
           "Dec 25s, 3-Year"
          ],
          [
           "Jan 26s, 3-Year"
          ],
          [
           "Feb 26s, 3-Year"
          ],
          [
           "Mar 26s, 3-Year"
          ],
          [
           "Apr 26s, 3-Year"
          ],
          [
           "May 26s, 3-Year"
          ],
          [
           "Jun 26s, 3-Year"
          ],
          [
           "Jul 26s, 3-Year"
          ],
          [
           "Aug 26s, 3-Year"
          ],
          [
           "Sep 26s, 3-Year"
          ],
          [
           "Oct 26s, 3-Year"
          ],
          [
           "Nov 26s, 3-Year"
          ],
          [
           "Dec 26s, 3-Year"
          ],
          [
           "Jan 27s, 3-Year"
          ],
          [
           "Feb 27s, 3-Year"
          ],
          [
           "Mar 27s, 3-Year"
          ],
          [
           "Apr 27s, 3-Year"
          ],
          [
           "May 27s, 3-Year"
          ],
          [
           "Jun 27s, 3-Year"
          ],
          [
           "Jul 27s, 3-Year"
          ],
          [
           "Aug 27s, 3-Year"
          ]
         ],
         "hovertemplate": "original_security_term=3-Year<br>Time to Maturity (Years)=%{x}<br>bid_yield=%{y}<br>label=%{customdata[0]}<extra></extra>",
         "legendgroup": "3-Year",
         "marker": {
          "color": "#FFA15A",
          "symbol": "circle"
         },
         "mode": "markers",
         "name": "3-Year",
         "orientation": "v",
         "showlegend": true,
         "type": "scatter",
         "x": [
          0.04657534246575343,
          0.12876712328767123,
          0.2136986301369863,
          0.2958904109589041,
          0.38082191780821917,
          0.4657534246575342,
          0.5424657534246575,
          0.6273972602739726,
          0.7095890410958904,
          0.7945205479452054,
          0.8767123287671232,
          0.9616438356164384,
          1.0465753424657533,
          1.1287671232876713,
          1.2136986301369863,
          1.295890410958904,
          1.3808219178082193,
          1.4657534246575343,
          1.5424657534246575,
          1.6273972602739726,
          1.7095890410958905,
          1.7945205479452055,
          1.8767123287671232,
          1.9616438356164383,
          2.0465753424657533,
          2.128767123287671,
          2.213698630136986,
          2.2958904109589042,
          2.3808219178082193,
          2.4657534246575343,
          2.5424657534246577,
          2.627397260273973,
          2.7095890410958905,
          2.7945205479452055,
          2.8767123287671232,
          2.9616438356164383
         ],
         "xaxis": "x",
         "y": [
          5.408822130011539,
          5.368500745833636,
          5.116378692688453,
          4.893016918454042,
          4.937490109194476,
          4.906449669871746,
          4.689833479991228,
          4.6108191453112575,
          4.637753359476495,
          4.526518697385811,
          4.500637840522081,
          4.433494575710172,
          4.363543843062944,
          4.299565269860896,
          4.249302429407065,
          4.192495606422669,
          4.1526068580567514,
          4.109233907969691,
          4.074143944538436,
          4.046108659114731,
          4.020485252868985,
          3.973469651287592,
          3.9545179528061336,
          3.9217765081488567,
          3.9006530115980587,
          3.894477386152886,
          3.875431776429627,
          3.853132310049442,
          3.844066928938592,
          3.8415781930914257,
          3.8064852272811778,
          3.8029729969100634,
          3.810242107173704,
          3.7767507223929107,
          3.7820861816603455,
          3.7715790788438657
         ],
         "yaxis": "y"
        },
        {
         "customdata": [
          [
           "Aug 24s, 5-Year"
          ],
          [
           "Sep 24s, 5-Year"
          ],
          [
           "Oct 24s, 5-Year"
          ],
          [
           "Nov 24s, 5-Year"
          ],
          [
           "Dec 24s, 5-Year"
          ],
          [
           "Jan 25s, 5-Year"
          ],
          [
           "Feb 25s, 5-Year"
          ],
          [
           "Mar 25s, 5-Year"
          ],
          [
           "Apr 25s, 5-Year"
          ],
          [
           "May 25s, 5-Year"
          ],
          [
           "Jun 25s, 5-Year"
          ],
          [
           "Jul 25s, 5-Year"
          ],
          [
           "Aug 25s, 5-Year"
          ],
          [
           "Sep 25s, 5-Year"
          ],
          [
           "Oct 25s, 5-Year"
          ],
          [
           "Nov 25s, 5-Year"
          ],
          [
           "Dec 25s, 5-Year"
          ],
          [
           "Jan 26s, 5-Year"
          ],
          [
           "Feb 26s, 5-Year"
          ],
          [
           "Mar 26s, 5-Year"
          ],
          [
           "Apr 26s, 5-Year"
          ],
          [
           "May 26s, 5-Year"
          ],
          [
           "Jun 26s, 5-Year"
          ],
          [
           "Jul 26s, 5-Year"
          ],
          [
           "Aug 26s, 5-Year"
          ],
          [
           "Sep 26s, 5-Year"
          ],
          [
           "Oct 26s, 5-Year"
          ],
          [
           "Nov 26s, 5-Year"
          ],
          [
           "Dec 26s, 5-Year"
          ],
          [
           "Feb 27s, 5-Year"
          ],
          [
           "Mar 27s, 5-Year"
          ],
          [
           "Apr 27s, 5-Year"
          ],
          [
           "May 27s, 5-Year"
          ],
          [
           "Jun 27s, 5-Year"
          ],
          [
           "Jul 27s, 5-Year"
          ],
          [
           "Aug 27s, 5-Year"
          ],
          [
           "Sep 27s, 5-Year"
          ],
          [
           "Oct 27s, 5-Year"
          ],
          [
           "Nov 27s, 5-Year"
          ],
          [
           "Dec 27s, 5-Year"
          ],
          [
           "Jan 28s, 5-Year"
          ],
          [
           "Feb 28s, 5-Year"
          ],
          [
           "Mar 28s, 5-Year"
          ],
          [
           "Apr 28s, 5-Year"
          ],
          [
           "May 28s, 5-Year"
          ],
          [
           "Jun 28s, 5-Year"
          ],
          [
           "Jul 28s, 5-Year"
          ],
          [
           "Aug 28s, 5-Year"
          ],
          [
           "Sep 28s, 5-Year"
          ],
          [
           "Oct 28s, 5-Year"
          ],
          [
           "Nov 28s, 5-Year"
          ],
          [
           "Dec 28s, 5-Year"
          ],
          [
           "Jan 29s, 5-Year"
          ],
          [
           "Feb 29s, 5-Year"
          ],
          [
           "Mar 29s, 5-Year"
          ],
          [
           "Apr 29s, 5-Year"
          ],
          [
           "May 29s, 5-Year"
          ],
          [
           "Jun 29s, 5-Year"
          ],
          [
           "Jul 29s, 5-Year"
          ]
         ],
         "hovertemplate": "original_security_term=5-Year<br>Time to Maturity (Years)=%{x}<br>bid_yield=%{y}<br>label=%{customdata[0]}<extra></extra>",
         "legendgroup": "5-Year",
         "marker": {
          "color": "#19d3f3",
          "symbol": "circle"
         },
         "mode": "markers",
         "name": "5-Year",
         "orientation": "v",
         "showlegend": true,
         "type": "scatter",
         "x": [
          0.005479452054794521,
          0.08767123287671233,
          0.1726027397260274,
          0.2547945205479452,
          0.33972602739726027,
          0.4246575342465753,
          0.5013698630136987,
          0.5863013698630137,
          0.6684931506849315,
          0.7534246575342466,
          0.8356164383561644,
          0.9205479452054794,
          1.0054794520547945,
          1.0876712328767124,
          1.1726027397260275,
          1.2547945205479452,
          1.3397260273972602,
          1.4246575342465753,
          1.5013698630136987,
          1.5863013698630137,
          1.6684931506849314,
          1.7534246575342465,
          1.8356164383561644,
          1.9205479452054794,
          2.0054794520547947,
          2.0876712328767124,
          2.1726027397260275,
          2.254794520547945,
          2.33972602739726,
          2.5013698630136987,
          2.5863013698630137,
          2.6684931506849314,
          2.7534246575342465,
          2.835616438356164,
          2.9205479452054797,
          3.0054794520547947,
          3.0876712328767124,
          3.1726027397260275,
          3.254794520547945,
          3.33972602739726,
          3.4246575342465753,
          3.504109589041096,
          3.589041095890411,
          3.671232876712329,
          3.756164383561644,
          3.8383561643835615,
          3.9232876712328766,
          4.008219178082192,
          4.090410958904109,
          4.175342465753425,
          4.257534246575342,
          4.342465753424658,
          4.427397260273972,
          4.504109589041096,
          4.589041095890411,
          4.671232876712328,
          4.756164383561644,
          4.838356164383562,
          4.923287671232877
         ],
         "xaxis": "x",
         "y": [
          24.11517129095158,
          5.193518238065613,
          5.403751493103624,
          5.025125628140699,
          5.063047843131765,
          4.874674238318784,
          4.877949760024767,
          4.713328903483988,
          4.699798058777796,
          4.605673506241973,
          4.491922792581433,
          4.422477442143256,
          4.436914810376101,
          4.362283532040367,
          4.290537502529206,
          4.260733566035905,
          4.190468457890679,
          4.153612065486864,
          4.136681755886647,
          4.0792827401214256,
          4.035618472545195,
          4.011388329014046,
          3.976851129454578,
          3.9530211318755866,
          3.9272919421441252,
          3.882336971711363,
          3.882642433167038,
          3.867044448489281,
          3.8322412537188235,
          3.8367662627471937,
          3.791797465274954,
          3.804216028473549,
          3.8050423395380024,
          3.7752973491000694,
          3.7869272777239313,
          3.780252201326823,
          3.755152602675005,
          3.763336190581443,
          3.7689882440551816,
          3.7417501727083664,
          3.763914616317544,
          3.749880975541541,
          3.7457116108286157,
          3.7462287048819904,
          3.7486435268274776,
          3.741770678440967,
          3.7430899580243775,
          3.7390480734428464,
          3.7413848705145165,
          3.7376014441996306,
          3.731004365396092,
          3.7323219057447825,
          3.720331061180329,
          3.7097465232525666,
          3.7200179020657997,
          3.718149470300973,
          3.702158425742708,
          3.7139467866483717,
          3.704560738687559
         ],
         "yaxis": "y"
        },
        {
         "customdata": [
          [
           "Aug 24s, 7-Year"
          ],
          [
           "Sep 24s, 7-Year"
          ],
          [
           "Oct 24s, 7-Year"
          ],
          [
           "Nov 24s, 7-Year"
          ],
          [
           "Dec 24s, 7-Year"
          ],
          [
           "Jan 25s, 7-Year"
          ],
          [
           "Feb 25s, 7-Year"
          ],
          [
           "Mar 25s, 7-Year"
          ],
          [
           "Apr 25s, 7-Year"
          ],
          [
           "May 25s, 7-Year"
          ],
          [
           "Jun 25s, 7-Year"
          ],
          [
           "Jul 25s, 7-Year"
          ],
          [
           "Aug 25s, 7-Year"
          ],
          [
           "Sep 25s, 7-Year"
          ],
          [
           "Oct 25s, 7-Year"
          ],
          [
           "Nov 25s, 7-Year"
          ],
          [
           "Dec 25s, 7-Year"
          ],
          [
           "Jan 26s, 7-Year"
          ],
          [
           "Feb 26s, 7-Year"
          ],
          [
           "Mar 26s, 7-Year"
          ],
          [
           "Apr 26s, 7-Year"
          ],
          [
           "May 26s, 7-Year"
          ],
          [
           "Jun 26s, 7-Year"
          ],
          [
           "Jul 26s, 7-Year"
          ],
          [
           "Aug 26s, 7-Year"
          ],
          [
           "Sep 26s, 7-Year"
          ],
          [
           "Oct 26s, 7-Year"
          ],
          [
           "Nov 26s, 7-Year"
          ],
          [
           "Dec 26s, 7-Year"
          ],
          [
           "Jan 27s, 7-Year"
          ],
          [
           "Feb 27s, 7-Year"
          ],
          [
           "Mar 27s, 7-Year"
          ],
          [
           "Apr 27s, 7-Year"
          ],
          [
           "May 27s, 7-Year"
          ],
          [
           "Jun 27s, 7-Year"
          ],
          [
           "Jul 27s, 7-Year"
          ],
          [
           "Aug 27s, 7-Year"
          ],
          [
           "Sep 27s, 7-Year"
          ],
          [
           "Oct 27s, 7-Year"
          ],
          [
           "Nov 27s, 7-Year"
          ],
          [
           "Dec 27s, 7-Year"
          ],
          [
           "Jan 28s, 7-Year"
          ],
          [
           "Feb 28s, 7-Year"
          ],
          [
           "Mar 28s, 7-Year"
          ],
          [
           "Apr 28s, 7-Year"
          ],
          [
           "May 28s, 7-Year"
          ],
          [
           "Jun 28s, 7-Year"
          ],
          [
           "Jul 28s, 7-Year"
          ],
          [
           "Aug 28s, 7-Year"
          ],
          [
           "Sep 28s, 7-Year"
          ],
          [
           "Oct 28s, 7-Year"
          ],
          [
           "Nov 28s, 7-Year"
          ],
          [
           "Dec 28s, 7-Year"
          ],
          [
           "Jan 29s, 7-Year"
          ],
          [
           "Feb 29s, 7-Year"
          ],
          [
           "Mar 29s, 7-Year"
          ],
          [
           "Apr 29s, 7-Year"
          ],
          [
           "May 29s, 7-Year"
          ],
          [
           "Jun 29s, 7-Year"
          ],
          [
           "Jul 29s, 7-Year"
          ],
          [
           "Aug 29s, 7-Year"
          ],
          [
           "Sep 29s, 7-Year"
          ],
          [
           "Oct 29s, 7-Year"
          ],
          [
           "Nov 29s, 7-Year"
          ],
          [
           "Dec 29s, 7-Year"
          ],
          [
           "Jan 30s, 7-Year"
          ],
          [
           "Feb 30s, 7-Year"
          ],
          [
           "Mar 30s, 7-Year"
          ],
          [
           "Apr 30s, 7-Year"
          ],
          [
           "May 30s, 7-Year"
          ],
          [
           "Jun 30s, 7-Year"
          ],
          [
           "Jul 30s, 7-Year"
          ],
          [
           "Aug 30s, 7-Year"
          ],
          [
           "Sep 30s, 7-Year"
          ],
          [
           "Oct 30s, 7-Year"
          ],
          [
           "Nov 30s, 7-Year"
          ],
          [
           "Dec 30s, 7-Year"
          ],
          [
           "Jan 31s, 7-Year"
          ],
          [
           "Feb 31s, 7-Year"
          ],
          [
           "Mar 31s, 7-Year"
          ],
          [
           "Apr 31s, 7-Year"
          ],
          [
           "May 31s, 7-Year"
          ],
          [
           "Jun 31s, 7-Year"
          ],
          [
           "Jul 31s, 7-Year"
          ]
         ],
         "hovertemplate": "original_security_term=7-Year<br>Time to Maturity (Years)=%{x}<br>bid_yield=%{y}<br>label=%{customdata[0]}<extra></extra>",
         "legendgroup": "7-Year",
         "marker": {
          "color": "#FF6692",
          "symbol": "circle"
         },
         "mode": "markers",
         "name": "7-Year",
         "orientation": "v",
         "showlegend": true,
         "type": "scatter",
         "x": [
          0.005479452054794521,
          0.08767123287671233,
          0.1726027397260274,
          0.2547945205479452,
          0.33972602739726027,
          0.4246575342465753,
          0.5013698630136987,
          0.5863013698630137,
          0.6684931506849315,
          0.7534246575342466,
          0.8356164383561644,
          0.9205479452054794,
          1.0054794520547945,
          1.0876712328767124,
          1.1726027397260275,
          1.2547945205479452,
          1.3397260273972602,
          1.4246575342465753,
          1.5013698630136987,
          1.5863013698630137,
          1.6684931506849314,
          1.7534246575342465,
          1.8356164383561644,
          1.9205479452054794,
          2.0054794520547947,
          2.0876712328767124,
          2.1726027397260275,
          2.254794520547945,
          2.33972602739726,
          2.4246575342465753,
          2.5013698630136987,
          2.5863013698630137,
          2.6684931506849314,
          2.7534246575342465,
          2.835616438356164,
          2.9205479452054797,
          3.0054794520547947,
          3.0876712328767124,
          3.1726027397260275,
          3.254794520547945,
          3.33972602739726,
          3.4246575342465753,
          3.504109589041096,
          3.589041095890411,
          3.671232876712329,
          3.756164383561644,
          3.8383561643835615,
          3.9232876712328766,
          4.008219178082192,
          4.090410958904109,
          4.175342465753425,
          4.257534246575342,
          4.342465753424658,
          4.427397260273972,
          4.504109589041096,
          4.589041095890411,
          4.671232876712328,
          4.756164383561644,
          4.838356164383562,
          4.923287671232877,
          5.008219178082192,
          5.090410958904109,
          5.175342465753425,
          5.257534246575342,
          5.342465753424658,
          5.427397260273972,
          5.504109589041096,
          5.589041095890411,
          5.671232876712328,
          5.756164383561644,
          5.838356164383562,
          5.923287671232877,
          6.008219178082192,
          6.090410958904109,
          6.175342465753425,
          6.257534246575342,
          6.342465753424658,
          6.427397260273972,
          6.504109589041096,
          6.589041095890411,
          6.671232876712328,
          6.756164383561644,
          6.838356164383562,
          6.923287671232877
         ],
         "xaxis": "x",
         "y": [
          13.255546890212651,
          5.431001910047858,
          5.204941739087525,
          5.136235515189404,
          4.987982427718999,
          5.005705204359837,
          4.819452245867375,
          4.697285354841312,
          4.690130042587851,
          4.572061802007237,
          4.477166411504685,
          4.448453962973091,
          4.42444993647187,
          4.336490069435221,
          4.266686082210008,
          4.241780586552381,
          4.200379771487975,
          4.133653149085247,
          4.1108889758858895,
          4.077286007634135,
          4.034567070047119,
          4.004650098004605,
          3.9769620684366678,
          3.956146061566327,
          3.9299983068390825,
          3.9081274135889594,
          3.8974790879780303,
          3.8761873098033592,
          3.837826699806681,
          3.8332059666371974,
          3.842604559079255,
          3.8272332445237414,
          3.805933360229377,
          3.8055483004539354,
          3.796708685966146,
          3.786016805239155,
          3.764561933274159,
          3.76280633396438,
          3.771091533581646,
          3.766823089091924,
          3.762522552358468,
          3.7664728185027405,
          3.7708909760729314,
          3.7587790370933387,
          3.761177087412936,
          3.7527195876172543,
          3.756177462384532,
          3.749841243913698,
          3.7452083820418043,
          3.746066215719681,
          3.7419621934937517,
          3.7447149780164097,
          3.7367748528835167,
          3.7460918113637343,
          3.7414699152003528,
          3.743127964850932,
          3.7419538563382604,
          3.732753055469816,
          3.732977861254632,
          3.732269705303354,
          3.732683605508064,
          3.7377936107805865,
          3.736770595249533,
          3.7343196731939687,
          3.7430248121559773,
          3.7497098262909665,
          3.746091977474075,
          3.7553878963512752,
          3.7578371098894516,
          3.754391806374942,
          3.760541126992471,
          3.7615066408195372,
          3.7671705493736813,
          3.7662712054324783,
          3.762837632221957,
          3.773337355521875,
          3.7709815759748677,
          3.772494885487364,
          3.7742022966546496,
          3.7728249026224323,
          3.7787031480396376,
          3.782467225683206,
          3.777765252161171,
          3.7774313100051136
         ],
         "yaxis": "y"
        },
        {
         "customdata": [
          [
           "Nov 24s, 10-Year"
          ],
          [
           "Feb 25s, 10-Year"
          ],
          [
           "May 25s, 10-Year"
          ],
          [
           "Aug 25s, 10-Year"
          ],
          [
           "Nov 25s, 10-Year"
          ],
          [
           "Feb 26s, 10-Year"
          ],
          [
           "May 26s, 10-Year"
          ],
          [
           "Aug 26s, 10-Year"
          ],
          [
           "Nov 26s, 10-Year"
          ],
          [
           "Feb 27s, 10-Year"
          ],
          [
           "May 27s, 10-Year"
          ],
          [
           "Aug 27s, 10-Year"
          ],
          [
           "Nov 27s, 10-Year"
          ],
          [
           "Feb 28s, 10-Year"
          ],
          [
           "May 28s, 10-Year"
          ],
          [
           "Aug 28s, 10-Year"
          ],
          [
           "Nov 28s, 10-Year"
          ],
          [
           "Feb 29s, 10-Year"
          ],
          [
           "May 29s, 10-Year"
          ],
          [
           "Aug 29s, 10-Year"
          ],
          [
           "Nov 29s, 10-Year"
          ],
          [
           "Feb 30s, 10-Year"
          ],
          [
           "May 30s, 10-Year"
          ],
          [
           "Aug 30s, 10-Year"
          ],
          [
           "Nov 30s, 10-Year"
          ],
          [
           "Feb 31s, 10-Year"
          ],
          [
           "May 31s, 10-Year"
          ],
          [
           "Aug 31s, 10-Year"
          ],
          [
           "Nov 31s, 10-Year"
          ],
          [
           "Feb 32s, 10-Year"
          ],
          [
           "May 32s, 10-Year"
          ],
          [
           "Aug 32s, 10-Year"
          ],
          [
           "Nov 32s, 10-Year"
          ],
          [
           "Feb 33s, 10-Year"
          ],
          [
           "May 33s, 10-Year"
          ],
          [
           "Aug 33s, 10-Year"
          ],
          [
           "Nov 33s, 10-Year"
          ],
          [
           "Feb 34s, 10-Year"
          ],
          [
           "May 34s, 10-Year"
          ],
          [
           "Aug 34s, 10-Year"
          ]
         ],
         "hovertemplate": "original_security_term=10-Year<br>Time to Maturity (Years)=%{x}<br>bid_yield=%{y}<br>label=%{customdata[0]}<extra></extra>",
         "legendgroup": "10-Year",
         "marker": {
          "color": "#B6E880",
          "symbol": "circle"
         },
         "mode": "markers",
         "name": "10-Year",
         "orientation": "v",
         "showlegend": true,
         "type": "scatter",
         "x": [
          0.2136986301369863,
          0.4657534246575342,
          0.7095890410958904,
          0.9616438356164384,
          1.2136986301369863,
          1.4657534246575343,
          1.7095890410958905,
          1.9616438356164383,
          2.213698630136986,
          2.4657534246575343,
          2.7095890410958905,
          2.9616438356164383,
          3.213698630136986,
          3.4657534246575343,
          3.712328767123288,
          3.9643835616438357,
          4.2164383561643834,
          4.468493150684932,
          4.712328767123288,
          4.964383561643835,
          5.2164383561643834,
          5.468493150684932,
          5.712328767123288,
          5.964383561643835,
          6.2164383561643834,
          6.468493150684932,
          6.712328767123288,
          6.964383561643835,
          7.2164383561643834,
          7.468493150684932,
          7.715068493150685,
          7.967123287671233,
          8.219178082191782,
          8.471232876712328,
          8.715068493150685,
          8.967123287671233,
          9.219178082191782,
          9.471232876712328,
          9.715068493150685,
          9.967123287671233
         ],
         "xaxis": "x",
         "y": [
          5.235483599820143,
          4.9185342530894385,
          4.6483648534657185,
          4.452929136752607,
          4.251970480302071,
          4.142244795624987,
          4.027913628374222,
          3.941629457180881,
          3.873654361080957,
          3.8484265270887676,
          3.830420183016905,
          3.780803712946663,
          3.7812674477550026,
          3.7798640318732297,
          3.7559511830902435,
          3.7569145614722066,
          3.754461648256689,
          3.7370878744009457,
          3.730776428622054,
          3.711797316446627,
          3.7254283713182375,
          3.760051035496776,
          3.75803960768939,
          3.758767325818991,
          3.752702296255752,
          3.732197437359763,
          3.788687734491663,
          3.7946521453315754,
          3.802609358582015,
          3.816129540321825,
          3.8173882083462014,
          3.8240040564668556,
          3.8240902164381616,
          3.8487009959000607,
          3.8594097709030835,
          3.8704718859691476,
          3.872427555197345,
          3.884241051353815,
          3.886915101161461,
          3.8822889182867035
         ],
         "yaxis": "y"
        },
        {
         "customdata": [
          [
           "May 40s, 20-Year"
          ],
          [
           "Aug 40s, 20-Year"
          ],
          [
           "Nov 40s, 20-Year"
          ],
          [
           "Feb 41s, 20-Year"
          ],
          [
           "May 41s, 20-Year"
          ],
          [
           "Aug 41s, 20-Year"
          ],
          [
           "Nov 41s, 20-Year"
          ],
          [
           "Feb 42s, 20-Year"
          ],
          [
           "May 42s, 20-Year"
          ],
          [
           "Aug 42s, 20-Year"
          ],
          [
           "Nov 42s, 20-Year"
          ],
          [
           "Feb 43s, 20-Year"
          ],
          [
           "May 43s, 20-Year"
          ],
          [
           "Aug 43s, 20-Year"
          ],
          [
           "Nov 43s, 20-Year"
          ],
          [
           "Feb 44s, 20-Year"
          ],
          [
           "May 44s, 20-Year"
          ]
         ],
         "hovertemplate": "original_security_term=20-Year<br>Time to Maturity (Years)=%{x}<br>bid_yield=%{y}<br>label=%{customdata[0]}<extra></extra>",
         "legendgroup": "20-Year",
         "marker": {
          "color": "#FF97FF",
          "symbol": "circle"
         },
         "mode": "markers",
         "name": "20-Year",
         "orientation": "v",
         "showlegend": true,
         "type": "scatter",
         "x": [
          15.72054794520548,
          15.972602739726028,
          16.224657534246575,
          16.476712328767125,
          16.720547945205478,
          16.972602739726028,
          17.224657534246575,
          17.476712328767125,
          17.720547945205478,
          17.972602739726028,
          18.224657534246575,
          18.476712328767125,
          18.720547945205478,
          18.972602739726028,
          19.224657534246575,
          19.476712328767125,
          19.723287671232878
         ],
         "xaxis": "x",
         "y": [
          4.187601303338877,
          4.203332982491407,
          4.229515720526505,
          4.236081745939846,
          4.236631981479087,
          4.266289509745475,
          4.269406197194525,
          4.27582690996806,
          4.256332665664471,
          4.262551269016395,
          4.239765393494262,
          4.258785823009802,
          4.272365839460081,
          4.2586322266567,
          4.245981658920343,
          4.268838858192417,
          4.270074965593895
         ],
         "yaxis": "y"
        },
        {
         "customdata": [
          [
           "Nov 24s, 30-Year"
          ],
          [
           "Feb 25s, 30-Year"
          ],
          [
           "Aug 25s, 30-Year"
          ],
          [
           "Feb 26s, 30-Year"
          ],
          [
           "Aug 26s, 30-Year"
          ],
          [
           "Nov 26s, 30-Year"
          ],
          [
           "Feb 27s, 30-Year"
          ],
          [
           "Aug 27s, 30-Year"
          ],
          [
           "Nov 27s, 30-Year"
          ],
          [
           "Aug 28s, 30-Year"
          ],
          [
           "Nov 28s, 30-Year"
          ],
          [
           "Feb 29s, 30-Year"
          ],
          [
           "Aug 29s, 30-Year"
          ],
          [
           "May 30s, 30-Year"
          ],
          [
           "Feb 31s, 30-Year"
          ],
          [
           "Feb 36s, 30-Year"
          ],
          [
           "Feb 37s, 30-Year"
          ],
          [
           "May 37s, 30-Year"
          ],
          [
           "Feb 38s, 30-Year"
          ],
          [
           "May 38s, 30-Year"
          ],
          [
           "Feb 39s, 30-Year"
          ],
          [
           "May 39s, 30-Year"
          ],
          [
           "Aug 39s, 30-Year"
          ],
          [
           "Nov 39s, 30-Year"
          ],
          [
           "Feb 40s, 30-Year"
          ],
          [
           "May 40s, 30-Year"
          ],
          [
           "Aug 40s, 30-Year"
          ],
          [
           "Nov 40s, 30-Year"
          ],
          [
           "Feb 41s, 30-Year"
          ],
          [
           "May 41s, 30-Year"
          ],
          [
           "Aug 41s, 30-Year"
          ],
          [
           "Nov 41s, 30-Year"
          ],
          [
           "Feb 42s, 30-Year"
          ],
          [
           "May 42s, 30-Year"
          ],
          [
           "Aug 42s, 30-Year"
          ],
          [
           "Nov 42s, 30-Year"
          ],
          [
           "Feb 43s, 30-Year"
          ],
          [
           "May 43s, 30-Year"
          ],
          [
           "Aug 43s, 30-Year"
          ],
          [
           "Nov 43s, 30-Year"
          ],
          [
           "Feb 44s, 30-Year"
          ],
          [
           "May 44s, 30-Year"
          ],
          [
           "Aug 44s, 30-Year"
          ],
          [
           "Nov 44s, 30-Year"
          ],
          [
           "Feb 45s, 30-Year"
          ],
          [
           "May 45s, 30-Year"
          ],
          [
           "Aug 45s, 30-Year"
          ],
          [
           "Nov 45s, 30-Year"
          ],
          [
           "Feb 46s, 30-Year"
          ],
          [
           "May 46s, 30-Year"
          ],
          [
           "Aug 46s, 30-Year"
          ],
          [
           "Nov 46s, 30-Year"
          ],
          [
           "Feb 47s, 30-Year"
          ],
          [
           "May 47s, 30-Year"
          ],
          [
           "Aug 47s, 30-Year"
          ],
          [
           "Nov 47s, 30-Year"
          ],
          [
           "Feb 48s, 30-Year"
          ],
          [
           "May 48s, 30-Year"
          ],
          [
           "Aug 48s, 30-Year"
          ],
          [
           "Nov 48s, 30-Year"
          ],
          [
           "Feb 49s, 30-Year"
          ],
          [
           "May 49s, 30-Year"
          ],
          [
           "Aug 49s, 30-Year"
          ],
          [
           "Nov 49s, 30-Year"
          ],
          [
           "Feb 50s, 30-Year"
          ],
          [
           "May 50s, 30-Year"
          ],
          [
           "Aug 50s, 30-Year"
          ],
          [
           "Nov 50s, 30-Year"
          ],
          [
           "Feb 51s, 30-Year"
          ],
          [
           "May 51s, 30-Year"
          ],
          [
           "Aug 51s, 30-Year"
          ],
          [
           "Nov 51s, 30-Year"
          ],
          [
           "Feb 52s, 30-Year"
          ],
          [
           "May 52s, 30-Year"
          ],
          [
           "Aug 52s, 30-Year"
          ],
          [
           "Nov 52s, 30-Year"
          ],
          [
           "Feb 53s, 30-Year"
          ],
          [
           "May 53s, 30-Year"
          ],
          [
           "Aug 53s, 30-Year"
          ],
          [
           "Nov 53s, 30-Year"
          ],
          [
           "Feb 54s, 30-Year"
          ],
          [
           "May 54s, 30-Year"
          ],
          [
           "Aug 54s, 30-Year"
          ]
         ],
         "hovertemplate": "original_security_term=30-Year<br>Time to Maturity (Years)=%{x}<br>bid_yield=%{y}<br>label=%{customdata[0]}<extra></extra>",
         "legendgroup": "30-Year",
         "marker": {
          "color": "#FECB52",
          "symbol": "circle"
         },
         "mode": "markers",
         "name": "30-Year",
         "orientation": "v",
         "showlegend": true,
         "type": "scatter",
         "x": [
          0.2136986301369863,
          0.4657534246575342,
          0.9616438356164384,
          1.4657534246575343,
          1.9616438356164383,
          2.213698630136986,
          2.4657534246575343,
          2.9616438356164383,
          3.213698630136986,
          3.9643835616438357,
          4.2164383561643834,
          4.468493150684932,
          4.964383561643835,
          5.712328767123288,
          6.468493150684932,
          11.471232876712328,
          12.473972602739726,
          12.717808219178082,
          13.473972602739726,
          13.717808219178082,
          14.473972602739726,
          14.717808219178082,
          14.96986301369863,
          15.221917808219178,
          15.473972602739726,
          15.72054794520548,
          15.972602739726028,
          16.224657534246575,
          16.476712328767125,
          16.720547945205478,
          16.972602739726028,
          17.224657534246575,
          17.476712328767125,
          17.720547945205478,
          17.972602739726028,
          18.224657534246575,
          18.476712328767125,
          18.720547945205478,
          18.972602739726028,
          19.224657534246575,
          19.476712328767125,
          19.723287671232878,
          19.975342465753425,
          20.22739726027397,
          20.47945205479452,
          20.723287671232878,
          20.975342465753425,
          21.22739726027397,
          21.47945205479452,
          21.723287671232878,
          21.975342465753425,
          22.22739726027397,
          22.47945205479452,
          22.723287671232878,
          22.975342465753425,
          23.22739726027397,
          23.47945205479452,
          23.726027397260275,
          23.97808219178082,
          24.23013698630137,
          24.482191780821918,
          24.726027397260275,
          24.97808219178082,
          25.23013698630137,
          25.482191780821918,
          25.726027397260275,
          25.97808219178082,
          26.23013698630137,
          26.482191780821918,
          26.726027397260275,
          26.97808219178082,
          27.23013698630137,
          27.482191780821918,
          27.72876712328767,
          27.980821917808218,
          28.232876712328768,
          28.484931506849314,
          28.72876712328767,
          28.980821917808218,
          29.232876712328768,
          29.484931506849314,
          29.72876712328767,
          29.980821917808218
         ],
         "xaxis": "x",
         "y": [
          5.5655530066309495,
          4.759288836085595,
          4.02003994887729,
          4.037750736252275,
          3.872664031331038,
          3.586193173052728,
          3.7126891821408115,
          3.772684962899061,
          3.764243443879136,
          3.6772002464227227,
          3.7263222917084446,
          3.6636640412746013,
          3.742901059484428,
          3.763463317590701,
          3.738265344147638,
          3.8243271679819237,
          3.9009210268638412,
          3.9170209993176495,
          3.949491960353907,
          3.9661155605935936,
          4.001551785061764,
          4.030633883148569,
          4.048036764716865,
          4.052446882367352,
          4.054679829633956,
          4.062374041082712,
          4.0923058534650645,
          4.089758831652272,
          4.085191233773766,
          4.118769860709341,
          4.16108983235686,
          4.195042165947152,
          4.223016061301169,
          4.2513195316377,
          4.267665509602667,
          4.279634491130377,
          4.289639882936253,
          4.301916617421167,
          4.291784436791137,
          4.292800436719205,
          4.300209883171173,
          4.302443633321359,
          4.306677134954187,
          4.307253677869647,
          4.311982997234193,
          4.308154707900381,
          4.310991431499489,
          4.312070766770733,
          4.324225541940405,
          4.327181661822267,
          4.329457735429981,
          4.3241934507195685,
          4.328908042483603,
          4.32844229535748,
          4.334979881107376,
          4.3353917890691935,
          4.3369203010466855,
          4.336530513852756,
          4.3402047711156335,
          4.332599119758192,
          4.334166794972531,
          4.328909958085205,
          4.328527728063438,
          4.321424980305819,
          4.3181094006963745,
          4.292074202458975,
          4.295886876735069,
          4.294050118146604,
          4.277874769593324,
          4.275197520941471,
          4.268320342034241,
          4.255426802706826,
          4.2489826916304025,
          4.241532447479804,
          4.232495970171166,
          4.204801996761179,
          4.208191803408139,
          4.202911425915066,
          4.190368522073316,
          4.17067450890033,
          4.183022617852354,
          4.172347578645495,
          4.169014892188038
         ],
         "yaxis": "y"
        },
        {
         "mode": "lines",
         "name": "Fitted Zero Curve",
         "type": "scatter",
         "x": [
          0.0027397260273972603,
          0.0327670135889314,
          0.06279430115046554,
          0.09282158871199968,
          0.12284887627353382,
          0.15287616383506794,
          0.18290345139660208,
          0.21293073895813622,
          0.24295802651967036,
          0.2729853140812045,
          0.30301260164273863,
          0.33303988920427274,
          0.3630671767658069,
          0.3930944643273411,
          0.4231217518888752,
          0.4531490394504093,
          0.48317632701194346,
          0.5132036145734776,
          0.5432309021350118,
          0.5732581896965459,
          0.60328547725808,
          0.6333127648196142,
          0.6633400523811482,
          0.6933673399426824,
          0.7233946275042166,
          0.7534219150657507,
          0.7834492026272849,
          0.813476490188819,
          0.8435037777503531,
          0.8735310653118873,
          0.9035583528734213,
          0.9335856404349555,
          0.9636129279964897,
          0.9936402155580238,
          1.0236675031195581,
          1.0536947906810923,
          1.0837220782426265,
          1.1137493658041604,
          1.1437766533656946,
          1.1738039409272287,
          1.203831228488763,
          1.233858516050297,
          1.2638858036118312,
          1.2939130911733654,
          1.3239403787348993,
          1.3539676662964335,
          1.3839949538579677,
          1.4140222414195018,
          1.444049528981036,
          1.4740768165425702,
          1.5041041041041043,
          1.5341313916656385,
          1.5641586792271727,
          1.5941859667887066,
          1.6242132543502408,
          1.654240541911775,
          1.684267829473309,
          1.7142951170348433,
          1.7443224045963774,
          1.7743496921579116,
          1.8043769797194456,
          1.8344042672809797,
          1.8644315548425139,
          1.894458842404048,
          1.9244861299655822,
          1.9545134175271164,
          1.9845407050886505,
          2.0145679926501847,
          2.044595280211719,
          2.074622567773253,
          2.104649855334787,
          2.1346771428963214,
          2.1647044304578555,
          2.1947317180193893,
          2.2247590055809234,
          2.2547862931424576,
          2.2848135807039918,
          2.314840868265526,
          2.34486815582706,
          2.3748954433885943,
          2.4049227309501284,
          2.4349500185116626,
          2.4649773060731968,
          2.495004593634731,
          2.525031881196265,
          2.5550591687577993,
          2.5850864563193334,
          2.6151137438808676,
          2.6451410314424013,
          2.6751683190039355,
          2.7051956065654696,
          2.735222894127004,
          2.765250181688538,
          2.795277469250072,
          2.8253047568116063,
          2.8553320443731405,
          2.8853593319346746,
          2.915386619496209,
          2.945413907057743,
          2.975441194619277,
          3.0054684821808113,
          3.0354957697423455,
          3.0655230573038796,
          3.095550344865414,
          3.125577632426948,
          3.1556049199884817,
          3.185632207550016,
          3.21565949511155,
          3.245686782673084,
          3.2757140702346184,
          3.3057413577961525,
          3.3357686453576867,
          3.365795932919221,
          3.395823220480755,
          3.425850508042289,
          3.4558777956038234,
          3.4859050831653575,
          3.5159323707268917,
          3.545959658288426,
          3.57598694584996,
          3.6060142334114937,
          3.636041520973028,
          3.666068808534562,
          3.6960960960960962,
          3.7261233836576304,
          3.7561506712191646,
          3.7861779587806987,
          3.816205246342233,
          3.846232533903767,
          3.8762598214653012,
          3.9062871090268354,
          3.9363143965883696,
          3.9663416841499037,
          3.996368971711438,
          4.026396259272972,
          4.056423546834506,
          4.08645083439604,
          4.116478121957575,
          4.146505409519109,
          4.176532697080643,
          4.206559984642177,
          4.236587272203711,
          4.266614559765245,
          4.29664184732678,
          4.326669134888314,
          4.356696422449847,
          4.386723710011381,
          4.416750997572915,
          4.4467782851344495,
          4.476805572695984,
          4.506832860257518,
          4.536860147819052,
          4.566887435380586,
          4.59691472294212,
          4.6269420105036545,
          4.656969298065189,
          4.686996585626723,
          4.717023873188257,
          4.747051160749791,
          4.777078448311325,
          4.8071057358728595,
          4.837133023434394,
          4.867160310995928,
          4.897187598557462,
          4.927214886118996,
          4.95724217368053,
          4.9872694612420645,
          5.017296748803599,
          5.047324036365133,
          5.077351323926667,
          5.107378611488201,
          5.137405899049735,
          5.1674331866112695,
          5.197460474172804,
          5.227487761734338,
          5.257515049295872,
          5.287542336857405,
          5.317569624418939,
          5.347596911980474,
          5.377624199542008,
          5.407651487103542,
          5.437678774665076,
          5.46770606222661,
          5.497733349788144,
          5.527760637349679,
          5.557787924911213,
          5.587815212472747,
          5.617842500034281,
          5.647869787595815,
          5.677897075157349,
          5.707924362718884,
          5.737951650280418,
          5.767978937841952,
          5.798006225403486,
          5.82803351296502,
          5.858060800526554,
          5.888088088088089,
          5.918115375649623,
          5.948142663211157,
          5.978169950772691,
          6.008197238334225,
          6.038224525895759,
          6.068251813457294,
          6.098279101018828,
          6.128306388580362,
          6.158333676141896,
          6.18836096370343,
          6.218388251264964,
          6.248415538826499,
          6.278442826388032,
          6.308470113949566,
          6.3384974015111,
          6.368524689072634,
          6.3985519766341685,
          6.428579264195703,
          6.458606551757237,
          6.488633839318771,
          6.518661126880305,
          6.548688414441839,
          6.5787157020033735,
          6.608742989564908,
          6.638770277126442,
          6.668797564687976,
          6.69882485224951,
          6.728852139811044,
          6.7588794273725785,
          6.788906714934113,
          6.818934002495647,
          6.848961290057181,
          6.878988577618715,
          6.909015865180249,
          6.9390431527417835,
          6.969070440303318,
          6.999097727864852,
          7.029125015426386,
          7.05915230298792,
          7.089179590549454,
          7.1192068781109885,
          7.149234165672523,
          7.179261453234057,
          7.20928874079559,
          7.239316028357124,
          7.2693433159186585,
          7.299370603480193,
          7.329397891041727,
          7.359425178603261,
          7.389452466164795,
          7.419479753726329,
          7.4495070412878635,
          7.479534328849398,
          7.509561616410932,
          7.539588903972466,
          7.569616191534,
          7.599643479095534,
          7.6296707666570684,
          7.659698054218603,
          7.689725341780137,
          7.719752629341671,
          7.749779916903205,
          7.779807204464739,
          7.8098344920262734,
          7.839861779587808,
          7.869889067149342,
          7.899916354710876,
          7.92994364227241,
          7.959970929833944,
          7.989998217395478,
          8.020025504957012,
          8.050052792518546,
          8.08008008008008,
          8.110107367641614,
          8.140134655203148,
          8.170161942764683,
          8.200189230326217,
          8.23021651788775,
          8.260243805449285,
          8.29027109301082,
          8.320298380572353,
          8.350325668133888,
          8.380352955695422,
          8.410380243256956,
          8.44040753081849,
          8.470434818380024,
          8.500462105941558,
          8.530489393503093,
          8.560516681064627,
          8.59054396862616,
          8.620571256187695,
          8.65059854374923,
          8.680625831310762,
          8.710653118872296,
          8.74068040643383,
          8.770707693995364,
          8.800734981556898,
          8.830762269118432,
          8.860789556679967,
          8.8908168442415,
          8.920844131803035,
          8.950871419364569,
          8.980898706926103,
          9.010925994487637,
          9.040953282049172,
          9.070980569610706,
          9.10100785717224,
          9.131035144733774,
          9.161062432295308,
          9.191089719856842,
          9.221117007418377,
          9.25114429497991,
          9.281171582541445,
          9.311198870102979,
          9.341226157664513,
          9.371253445226047,
          9.401280732787582,
          9.431308020349116,
          9.46133530791065,
          9.491362595472184,
          9.521389883033718,
          9.551417170595252,
          9.581444458156787,
          9.61147174571832,
          9.641499033279855,
          9.671526320841389,
          9.701553608402923,
          9.731580895964457,
          9.761608183525992,
          9.791635471087526,
          9.82166275864906,
          9.851690046210594,
          9.881717333772128,
          9.911744621333662,
          9.941771908895197,
          9.97179919645673,
          10.001826484018265,
          10.031853771579799,
          10.061881059141333,
          10.091908346702867,
          10.121935634264402,
          10.151962921825936,
          10.18199020938747,
          10.212017496949004,
          10.242044784510538,
          10.272072072072072,
          10.302099359633607,
          10.33212664719514,
          10.362153934756675,
          10.392181222318209,
          10.422208509879743,
          10.452235797441277,
          10.482263085002812,
          10.512290372564346,
          10.54231766012588,
          10.572344947687412,
          10.602372235248946,
          10.63239952281048,
          10.662426810372015,
          10.692454097933549,
          10.722481385495083,
          10.752508673056617,
          10.782535960618151,
          10.812563248179686,
          10.84259053574122,
          10.872617823302754,
          10.902645110864288,
          10.932672398425822,
          10.962699685987356,
          10.99272697354889,
          11.022754261110425,
          11.052781548671959,
          11.082808836233493,
          11.112836123795027,
          11.142863411356561,
          11.172890698918096,
          11.20291798647963,
          11.232945274041164,
          11.262972561602698,
          11.292999849164232,
          11.323027136725766,
          11.3530544242873,
          11.383081711848835,
          11.413108999410369,
          11.443136286971903,
          11.473163574533437,
          11.503190862094971,
          11.533218149656506,
          11.56324543721804,
          11.593272724779574,
          11.623300012341108,
          11.653327299902642,
          11.683354587464176,
          11.71338187502571,
          11.743409162587245,
          11.773436450148779,
          11.803463737710313,
          11.833491025271847,
          11.863518312833381,
          11.893545600394916,
          11.92357288795645,
          11.953600175517984,
          11.983627463079518,
          12.013654750641052,
          12.043682038202586,
          12.07370932576412,
          12.103736613325655,
          12.133763900887189,
          12.163791188448723,
          12.193818476010257,
          12.223845763571791,
          12.253873051133326,
          12.28390033869486,
          12.313927626256394,
          12.343954913817928,
          12.373982201379462,
          12.404009488940996,
          12.43403677650253,
          12.464064064064065,
          12.494091351625599,
          12.524118639187131,
          12.554145926748665,
          12.5841732143102,
          12.614200501871734,
          12.644227789433268,
          12.674255076994802,
          12.704282364556336,
          12.73430965211787,
          12.764336939679405,
          12.794364227240939,
          12.824391514802473,
          12.854418802364007,
          12.884446089925541,
          12.914473377487075,
          12.94450066504861,
          12.974527952610144,
          13.004555240171678,
          13.034582527733212,
          13.064609815294746,
          13.09463710285628,
          13.124664390417815,
          13.154691677979349,
          13.184718965540883,
          13.214746253102417,
          13.244773540663951,
          13.274800828225485,
          13.30482811578702,
          13.334855403348554,
          13.364882690910088,
          13.394909978471622,
          13.424937266033156,
          13.45496455359469,
          13.484991841156225,
          13.515019128717759,
          13.545046416279293,
          13.575073703840827,
          13.605100991402361,
          13.635128278963895,
          13.66515556652543,
          13.695182854086964,
          13.725210141648498,
          13.755237429210032,
          13.785264716771566,
          13.8152920043331,
          13.845319291894635,
          13.875346579456169,
          13.905373867017703,
          13.935401154579237,
          13.965428442140771,
          13.995455729702305,
          14.02548301726384,
          14.055510304825374,
          14.085537592386908,
          14.115564879948442,
          14.145592167509976,
          14.17561945507151,
          14.205646742633045,
          14.235674030194579,
          14.265701317756113,
          14.295728605317647,
          14.325755892879181,
          14.355783180440715,
          14.38581046800225,
          14.415837755563782,
          14.445865043125316,
          14.47589233068685,
          14.505919618248384,
          14.535946905809919,
          14.565974193371453,
          14.596001480932987,
          14.626028768494521,
          14.656056056056055,
          14.68608334361759,
          14.716110631179124,
          14.746137918740658,
          14.776165206302192,
          14.806192493863726,
          14.83621978142526,
          14.866247068986794,
          14.896274356548329,
          14.926301644109863,
          14.956328931671397,
          14.986356219232931,
          15.016383506794465,
          15.046410794356,
          15.076438081917534,
          15.106465369479068,
          15.136492657040602,
          15.166519944602136,
          15.19654723216367,
          15.226574519725204,
          15.256601807286739,
          15.286629094848273,
          15.316656382409807,
          15.346683669971341,
          15.376710957532875,
          15.40673824509441,
          15.436765532655944,
          15.466792820217478,
          15.496820107779012,
          15.526847395340546,
          15.55687468290208,
          15.586901970463614,
          15.616929258025149,
          15.646956545586683,
          15.676983833148217,
          15.707011120709751,
          15.737038408271285,
          15.76706569583282,
          15.797092983394354,
          15.827120270955888,
          15.857147558517422,
          15.887174846078956,
          15.91720213364049,
          15.947229421202024,
          15.977256708763559,
          16.007283996325093,
          16.037311283886627,
          16.06733857144816,
          16.097365859009695,
          16.12739314657123,
          16.157420434132764,
          16.187447721694298,
          16.217475009255832,
          16.247502296817366,
          16.2775295843789,
          16.307556871940434,
          16.33758415950197,
          16.367611447063503,
          16.397638734625037,
          16.42766602218657,
          16.457693309748105,
          16.48772059730964,
          16.517747884871174,
          16.547775172432708,
          16.577802459994242,
          16.607829747555776,
          16.63785703511731,
          16.667884322678844,
          16.69791161024038,
          16.727938897801913,
          16.757966185363447,
          16.78799347292498,
          16.818020760486515,
          16.84804804804805,
          16.878075335609584,
          16.908102623171118,
          16.938129910732652,
          16.968157198294186,
          16.99818448585572,
          17.028211773417254,
          17.05823906097879,
          17.088266348540323,
          17.118293636101857,
          17.14832092366339,
          17.178348211224925,
          17.20837549878646,
          17.238402786347994,
          17.268430073909528,
          17.298457361471062,
          17.328484649032593,
          17.358511936594127,
          17.38853922415566,
          17.418566511717195,
          17.44859379927873,
          17.478621086840263,
          17.508648374401798,
          17.53867566196333,
          17.568702949524866,
          17.5987302370864,
          17.628757524647934,
          17.65878481220947,
          17.688812099771003,
          17.718839387332537,
          17.74886667489407,
          17.778893962455605,
          17.80892125001714,
          17.838948537578673,
          17.868975825140208,
          17.89900311270174,
          17.929030400263276,
          17.95905768782481,
          17.989084975386344,
          18.01911226294788,
          18.049139550509413,
          18.079166838070947,
          18.10919412563248,
          18.139221413194015,
          18.16924870075555,
          18.199275988317083,
          18.229303275878618,
          18.25933056344015,
          18.289357851001686,
          18.31938513856322,
          18.349412426124754,
          18.37943971368629,
          18.409467001247823,
          18.439494288809357,
          18.46952157637089,
          18.499548863932425,
          18.52957615149396,
          18.559603439055493,
          18.589630726617028,
          18.61965801417856,
          18.649685301740096,
          18.67971258930163,
          18.709739876863164,
          18.7397671644247,
          18.769794451986233,
          18.799821739547767,
          18.8298490271093,
          18.859876314670835,
          18.88990360223237,
          18.919930889793903,
          18.949958177355438,
          18.97998546491697,
          19.010012752478506,
          19.04004004004004,
          19.070067327601574,
          19.10009461516311,
          19.130121902724643,
          19.160149190286177,
          19.19017647784771,
          19.220203765409245,
          19.25023105297078,
          19.280258340532313,
          19.310285628093848,
          19.34031291565538,
          19.370340203216916,
          19.40036749077845,
          19.430394778339984,
          19.46042206590152,
          19.490449353463053,
          19.520476641024587,
          19.55050392858612,
          19.580531216147655,
          19.61055850370919,
          19.640585791270723,
          19.670613078832258,
          19.70064036639379,
          19.730667653955326,
          19.76069494151686,
          19.790722229078394,
          19.82074951663993,
          19.850776804201463,
          19.880804091762997,
          19.91083137932453,
          19.940858666886065,
          19.9708859544476,
          20.000913242009133,
          20.030940529570668,
          20.0609678171322,
          20.090995104693736,
          20.12102239225527,
          20.151049679816804,
          20.18107696737834,
          20.211104254939873,
          20.241131542501407,
          20.27115883006294,
          20.301186117624475,
          20.33121340518601,
          20.361240692747543,
          20.391267980309078,
          20.42129526787061,
          20.451322555432146,
          20.48134984299368,
          20.511377130555214,
          20.54140441811675,
          20.571431705678282,
          20.601458993239817,
          20.63148628080135,
          20.661513568362885,
          20.69154085592442,
          20.721568143485953,
          20.751595431047487,
          20.78162271860902,
          20.811650006170556,
          20.84167729373209,
          20.871704581293624,
          20.90173186885516,
          20.931759156416692,
          20.961786443978227,
          20.99181373153976,
          21.021841019101295,
          21.05186830666283,
          21.081895594224363,
          21.111922881785897,
          21.141950169347428,
          21.171977456908962,
          21.202004744470496,
          21.23203203203203,
          21.262059319593565,
          21.2920866071551,
          21.322113894716633,
          21.352141182278167,
          21.3821684698397,
          21.412195757401236,
          21.44222304496277,
          21.472250332524304,
          21.502277620085838,
          21.532304907647372,
          21.562332195208906,
          21.59235948277044,
          21.622386770331975,
          21.65241405789351,
          21.682441345455043,
          21.712468633016577,
          21.74249592057811,
          21.772523208139646,
          21.80255049570118,
          21.832577783262714,
          21.862605070824248,
          21.892632358385782,
          21.922659645947316,
          21.95268693350885,
          21.982714221070385,
          22.01274150863192,
          22.042768796193453,
          22.072796083754987,
          22.10282337131652,
          22.132850658878056,
          22.16287794643959,
          22.192905234001124,
          22.222932521562658,
          22.252959809124192,
          22.282987096685726,
          22.31301438424726,
          22.343041671808795,
          22.37306895937033,
          22.403096246931863,
          22.433123534493397,
          22.46315082205493,
          22.493178109616466,
          22.523205397178,
          22.553232684739534,
          22.583259972301068,
          22.613287259862602,
          22.643314547424136,
          22.67334183498567,
          22.703369122547205,
          22.73339641010874,
          22.763423697670273,
          22.793450985231807,
          22.82347827279334,
          22.853505560354876,
          22.88353284791641,
          22.913560135477944,
          22.943587423039478,
          22.973614710601012,
          23.003641998162546,
          23.03366928572408,
          23.063696573285615,
          23.09372386084715,
          23.123751148408683,
          23.153778435970217,
          23.18380572353175,
          23.213833011093286,
          23.24386029865482,
          23.273887586216354,
          23.303914873777888,
          23.333942161339422,
          23.363969448900956,
          23.39399673646249,
          23.424024024024025,
          23.45405131158556,
          23.484078599147093,
          23.514105886708627,
          23.54413317427016,
          23.574160461831696,
          23.60418774939323,
          23.634215036954764,
          23.664242324516298,
          23.694269612077832,
          23.724296899639366,
          23.7543241872009,
          23.784351474762435,
          23.81437876232397,
          23.844406049885503,
          23.874433337447037,
          23.90446062500857,
          23.934487912570106,
          23.96451520013164,
          23.994542487693174,
          24.024569775254708,
          24.054597062816242,
          24.084624350377776,
          24.11465163793931,
          24.144678925500845,
          24.17470621306238,
          24.204733500623913,
          24.234760788185447,
          24.26478807574698,
          24.294815363308516,
          24.32484265087005,
          24.354869938431584,
          24.384897225993118,
          24.414924513554652,
          24.444951801116186,
          24.47497908867772,
          24.505006376239255,
          24.53503366380079,
          24.565060951362323,
          24.595088238923857,
          24.62511552648539,
          24.655142814046926,
          24.68517010160846,
          24.715197389169994,
          24.745224676731528,
          24.775251964293062,
          24.805279251854596,
          24.83530653941613,
          24.865333826977665,
          24.8953611145392,
          24.925388402100733,
          24.955415689662267,
          24.9854429772238,
          25.015470264785332,
          25.045497552346866,
          25.0755248399084,
          25.105552127469934,
          25.13557941503147,
          25.165606702593003,
          25.195633990154537,
          25.22566127771607,
          25.255688565277605,
          25.28571585283914,
          25.315743140400674,
          25.345770427962208,
          25.375797715523742,
          25.405825003085276,
          25.43585229064681,
          25.465879578208344,
          25.49590686576988,
          25.525934153331413,
          25.555961440892947,
          25.58598872845448,
          25.616016016016015,
          25.64604330357755,
          25.676070591139084,
          25.706097878700618,
          25.736125166262152,
          25.766152453823686,
          25.79617974138522,
          25.826207028946754,
          25.85623431650829,
          25.886261604069823,
          25.916288891631357,
          25.94631617919289,
          25.976343466754425,
          26.00637075431596,
          26.036398041877494,
          26.066425329439028,
          26.096452617000562,
          26.126479904562096,
          26.15650719212363,
          26.186534479685164,
          26.2165617672467,
          26.246589054808233,
          26.276616342369767,
          26.3066436299313,
          26.336670917492835,
          26.36669820505437,
          26.396725492615904,
          26.426752780177438,
          26.456780067738972,
          26.486807355300506,
          26.51683464286204,
          26.546861930423574,
          26.57688921798511,
          26.606916505546643,
          26.636943793108177,
          26.66697108066971,
          26.696998368231245,
          26.72702565579278,
          26.757052943354314,
          26.787080230915848,
          26.817107518477382,
          26.847134806038916,
          26.87716209360045,
          26.907189381161984,
          26.93721666872352,
          26.967243956285053,
          26.997271243846587,
          27.02729853140812,
          27.057325818969655,
          27.08735310653119,
          27.117380394092724,
          27.147407681654258,
          27.177434969215792,
          27.207462256777326,
          27.23748954433886,
          27.267516831900394,
          27.29754411946193,
          27.327571407023463,
          27.357598694584997,
          27.38762598214653,
          27.417653269708065,
          27.4476805572696,
          27.477707844831134,
          27.507735132392668,
          27.537762419954202,
          27.567789707515736,
          27.59781699507727,
          27.627844282638804,
          27.65787157020034,
          27.687898857761873,
          27.717926145323407,
          27.74795343288494,
          27.777980720446475,
          27.80800800800801,
          27.838035295569544,
          27.868062583131078,
          27.898089870692612,
          27.928117158254146,
          27.95814444581568,
          27.988171733377214,
          28.01819902093875,
          28.048226308500283,
          28.078253596061817,
          28.10828088362335,
          28.138308171184885,
          28.16833545874642,
          28.198362746307954,
          28.228390033869488,
          28.258417321431022,
          28.288444608992556,
          28.31847189655409,
          28.348499184115624,
          28.37852647167716,
          28.408553759238693,
          28.438581046800227,
          28.46860833436176,
          28.498635621923295,
          28.52866290948483,
          28.558690197046364,
          28.588717484607898,
          28.618744772169432,
          28.648772059730966,
          28.6787993472925,
          28.708826634854034,
          28.73885392241557,
          28.768881209977103,
          28.798908497538637,
          28.828935785100168,
          28.8589630726617,
          28.888990360223236,
          28.91901764778477,
          28.949044935346304,
          28.97907222290784,
          29.009099510469373,
          29.039126798030907,
          29.06915408559244,
          29.099181373153975,
          29.12920866071551,
          29.159235948277043,
          29.189263235838578,
          29.21929052340011,
          29.249317810961646,
          29.27934509852318,
          29.309372386084714,
          29.33939967364625,
          29.369426961207783,
          29.399454248769317,
          29.42948153633085,
          29.459508823892385,
          29.48953611145392,
          29.519563399015453,
          29.549590686576988,
          29.57961797413852,
          29.609645261700056,
          29.63967254926159,
          29.669699836823124,
          29.69972712438466,
          29.729754411946193,
          29.759781699507727,
          29.78980898706926,
          29.819836274630795,
          29.84986356219233,
          29.879890849753863,
          29.909918137315398,
          29.93994542487693,
          29.969972712438466,
          30
         ],
         "y": [
          5.354981963605584,
          5.316700455394169,
          5.278886463505674,
          5.241543779850079,
          5.204676140994888,
          5.168287228452818,
          5.132380669025141,
          5.0969600351755,
          5.062028845449616,
          5.027590564928313,
          4.993648605720312,
          4.9602063274928945,
          4.927267038037472,
          4.8948339938743,
          4.86291040089045,
          4.831499415014804,
          4.800604142927243,
          4.770227642802842,
          4.740372925088995,
          4.7110429533166025,
          4.682240644943518,
          4.653968872230939,
          4.626230463150591,
          4.599028202324171,
          4.572364831992562,
          4.546243057551282,
          4.520665712757083,
          4.495635242769956,
          4.471154230563009,
          4.447225222020695,
          4.423850727082535,
          4.4010332209132494,
          4.378775145100362,
          4.3570789088778685,
          4.3359447018832045,
          4.31535676103128,
          4.295293916567141,
          4.275737356467232,
          4.256670358206532,
          4.238078020368538,
          4.219947034469381,
          4.202265490146973,
          4.185022708167806,
          4.168209096733436,
          4.151816027389297,
          4.135835727493077,
          4.120261186729213,
          4.105086075582342,
          4.090304674029956,
          4.075911808997775,
          4.06190280568088,
          4.048273538921535,
          4.035020050441056,
          4.022138866067815,
          4.0096268404809665,
          3.9974811272200674,
          3.985699151948982,
          3.9742785885761025,
          3.963217337887225,
          3.9525135083940213,
          3.9421653991410563,
          3.932171484247079,
          3.9225303989862343,
          3.9132409272386437,
          3.9043019901615663,
          3.895712635950458,
          3.8874720305753088,
          3.8795791173315863,
          3.8720250682787194,
          3.864793497621327,
          3.8578685677797826,
          3.8512353241760233,
          3.844879633930069,
          3.8387881295892905,
          3.8329481574147533,
          3.8273477355033614,
          3.8219755593117366,
          3.81682077212845,
          3.811873135625322,
          3.8071229215260547,
          3.8025608797134067,
          3.798178208696398,
          3.7939665282366017,
          3.789917853951348,
          3.786024573729625,
          3.782279425811226,
          3.778675478394336,
          3.7752061106483237,
          3.7718649950204073,
          3.768646080734388,
          3.7655435783888445,
          3.762551945570484,
          3.759665873405246,
          3.756880273976846,
          3.7541902685482524,
          3.7515911765268224,
          3.7490785051191255,
          3.746647939625719,
          3.74429533433004,
          3.7420167039397696,
          3.739808219770734,
          3.7376667491373445,
          3.735590488859296,
          3.733577903667023,
          3.7316275187428287,
          3.729737916851159,
          3.7279077356311556,
          3.7261356650410637,
          3.724420444944453,
          3.7227608628292894,
          3.7211557516513545,
          3.7196039877942226,
          3.718104489138481,
          3.7166562132334064,
          3.715258155564928,
          3.713909347913867,
          3.7126088567991222,
          3.7113557820007057,
          3.710149255157822,
          3.7089884384377116,
          3.7078725232710106,
          3.706800729149855,
          3.7057723024850797,
          3.704786515519275,
          3.7038426652923264,
          3.7029400743483913,
          3.702078096325946,
          3.701256084921648,
          3.700473426994466,
          3.699729529720262,
          3.699023819817465,
          3.6983557428082374,
          3.697724762313293,
          3.69713035937855,
          3.696572031831978,
          3.696049293669084,
          3.6955616744655373,
          3.695108718815599,
          3.694689985794999,
          3.6943050484470237,
          3.6939534932907514,
          3.693634919850174,
          3.693348940203379,
          3.693095178550567,
          3.692873270800272,
          3.6926828641726384,
          3.692523616819147,
          3.6923951974578597,
          3.6922972850235465,
          3.6922295683319653,
          3.692191747237647,
          3.6921835361623137,
          3.6922046432207947,
          3.6922547936645302,
          3.6923337211372607,
          3.692441167411554,
          3.6925768821355045,
          3.692740622589159,
          3.692932153450268,
          3.6931512465689824,
          3.6933976807509974,
          3.6936712415489446,
          3.6939717210614513,
          3.694298917739774,
          3.6946526362015466,
          3.6950326870513406,
          3.6954388867078176,
          3.695871040605379,
          3.6963286920234446,
          3.696811176138576,
          3.697317836109538,
          3.697848029399368,
          3.6984011273529465,
          3.6989765147892695,
          3.6995735896076853,
          3.7001917636046375,
          3.7008304639362266,
          3.701489119722386,
          3.7021671775198337,
          3.7028640951884744,
          3.7035793415710496,
          3.7043123961833473,
          3.7050627489146652,
          3.7058298997380046,
          3.706613358429822,
          3.707412644298703,
          3.7082272859229484,
          3.709056820896434,
          3.7099007955826466,
          3.7107587648765077,
          3.711630291973684,
          3.7125149481471853,
          3.713412312530884,
          3.7143219719098,
          3.7152435205168457,
          3.716176559835827,
          3.7171206984104628,
          3.7180755516592328,
          3.7190407416958053,
          3.720015897154916,
          3.721000653639468,
          3.7219946540311,
          3.722997542979868,
          3.724008973570769,
          3.725028604613744,
          3.726056100498279,
          3.7270911310522434,
          3.728133371404846,
          3.7291825018534968,
          3.730238207734549,
          3.7313001792976777,
          3.7323681115838916,
          3.733441704306963,
          3.7345206617381868,
          3.735604692594425,
          3.7366935099292324,
          3.7377868310270363,
          3.738884377300232,
          3.7399858741891427,
          3.741091051064669,
          3.742199641133679,
          3.7433113813469028,
          3.744426012309357,
          3.745543278193194,
          3.7466629266528755,
          3.7477847088841565,
          3.74890837950737,
          3.750033695589253,
          3.751160417912753,
          3.7522883103516302,
          3.753417139798248,
          3.7545466760932618,
          3.755676691957155,
          3.7568069629235157,
          3.757937296613874,
          3.7590676299074723,
          3.7601979352695154,
          3.761328185470657,
          3.76245835357194,
          3.7635884129179398,
          3.7647183371301236,
          3.7658481001002837,
          3.766977675984217,
          3.768107039195502,
          3.7692361643994574,
          3.7703650265072337,
          3.7714936006700253,
          3.7726218622734717,
          3.773749786932154,
          3.774877350484218,
          3.7760045289520683,
          3.7771312985274257,
          3.778257635784661,
          3.779383517405231,
          3.780508920269137,
          3.7816338214503014,
          3.7827581982119822,
          3.783882028002356,
          3.7850052884501433,
          3.7861279573603794,
          3.7872500127102393,
          3.7883714326450044,
          3.789492195474077,
          3.79061227966708,
          3.791731663850111,
          3.792850326801971,
          3.7939682474505854,
          3.7950854048694103,
          3.7962017782739843,
          3.7973173470185144,
          3.798432090592558,
          3.799545988617761,
          3.80065902084469,
          3.801771167149675,
          3.802882407531801,
          3.803992722023219,
          3.805102090709348,
          3.8062104941636457,
          3.807317912846984,
          3.8084243273286424,
          3.8095297182836143,
          3.810634066489969,
          3.811737352826285,
          3.812839558269107,
          3.8139406638904765,
          3.8150406508554977,
          3.8161395004199687,
          3.817237193928048,
          3.8183337128099675,
          3.8194290385797904,
          3.820523152833231,
          3.821616037245484,
          3.822707673569133,
          3.8237980436320615,
          3.8248871293354467,
          3.825974912651763,
          3.8270613756228222,
          3.8281465003578656,
          3.829230269031698,
          3.8303126638828346,
          3.8313936670707713,
          3.8324732607605236,
          3.83355142769579,
          3.834628150352256,
          3.8357034112606394,
          3.83677719300502,
          3.837849478221231,
          3.8389202495952808,
          3.839989489861789,
          3.8410571818024803,
          3.8421233082446626,
          3.8431878520597658,
          3.8442507961618984,
          3.8453121235064294,
          3.846371817088586,
          3.8474298599420953,
          3.8484862351378264,
          3.849540925782488,
          3.850593915017314,
          3.851645186016795,
          3.8526947219874264,
          3.8537425061664767,
          3.8547885218207756,
          3.855832752245518,
          3.856875180763123,
          3.857915790523232,
          3.8589545646777688,
          3.859991487033127,
          3.8610265410092737,
          3.862059710047809,
          3.863090977610938,
          3.8641203271804248,
          3.8651477422565694,
          3.8661732063681473,
          3.8671967288878535,
          3.8682184044291033,
          3.869238344764529,
          3.8702566608114863,
          3.871273462646617,
          3.872288859520128,
          3.8733029598698696,
          3.87431587133517,
          3.8753277007704434,
          3.8763385542585604,
          3.8773485371240475,
          3.8783577539460157,
          3.8793663085709382,
          3.8803743041251697,
          3.8813818430273224,
          3.8823890270003956,
          3.8833959570658716,
          3.884402733620957,
          3.885409456427272,
          3.8864162245425584,
          3.88742313638696,
          3.8884302897540906,
          3.8894377818219317,
          3.8904457091635747,
          3.891454167757787,
          3.8924632529994345,
          3.8934730597097453,
          3.894483682146421,
          3.895495214013601,
          3.896507748471675,
          3.8975213781469655,
          3.89853619514127,
          3.899552291041255,
          3.900569756927727,
          3.9015886833847744,
          3.9026091605087703,
          3.9036312779172664,
          3.9046551247577495,
          3.9056807897162864,
          3.9067083610260487,
          3.9077379264757286,
          3.9087695736888945,
          3.909803389810562,
          3.910839460911267,
          3.9118778730832386,
          3.912918712014628,
          3.9139620629972844,
          3.9150080109344363,
          3.9160566403482373,
          3.9171080353872685,
          3.9181622798339046,
          3.919219457111607,
          3.9202796502921404,
          3.9213429421026587,
          3.9224094149327766,
          3.9234791508414713,
          3.924552231563974,
          3.9256287385185473,
          3.926708752813181,
          3.927792355252237,
          3.928879626342979,
          3.9299706463020736,
          3.9310654950619837,
          3.932164252277311,
          3.9332669973310614,
          3.934373809340849,
          3.9354847677283007,
          3.9365999514169183,
          3.9377194379352938,
          3.9388433053999248,
          3.939971631691965,
          3.9411044944630516,
          3.9422419711410677,
          3.9433841389358553,
          3.944531074844878,
          3.945682855658817,
          3.9468395579671274,
          3.9480012581635333,
          3.9491680324514893,
          3.950339956849565,
          3.9515171071968034,
          3.9526995591580434,
          3.953887388229153,
          3.955080669742271,
          3.956279478870969,
          3.9574838906353844,
          3.958693979907315,
          3.9599098214152675,
          3.9611314897494676,
          3.962359059366839,
          3.963592604595939,
          3.9648322005094303,
          3.9660779215352764,
          3.9673298404865496,
          3.9685880312269006,
          3.969852567515769,
          3.9711235230131576,
          3.9724009712843,
          3.9736849858043515,
          3.974975639963046,
          3.9762730070693038,
          3.9775771603558274,
          3.9788881729836705,
          3.9802061180467834,
          3.981531068576527,
          3.982863097546167,
          3.984202277875352,
          3.9855486824345596,
          3.986902384049526,
          3.988263455505653,
          3.9896319695524096,
          3.9910079989076945,
          3.9923916162621813,
          3.9937828942836764,
          3.9951819056214184,
          3.996588722910399,
          3.9980034199683496,
          3.999426069714887,
          4.000856743323522,
          4.002295513414998,
          4.003742452617121,
          4.00519763356899,
          4.006661128925213,
          4.008133011360115,
          4.009613353571927,
          4.011102228286988,
          4.012599708263905,
          4.014105866297746,
          4.015620775224199,
          4.017144507923727,
          4.018677137325736,
          4.020218736412714,
          4.021769378224389,
          4.0233291358618635,
          4.024898082491768,
          4.026476291350391,
          4.028063835747817,
          4.029660789072075,
          4.031267224793268,
          4.032883216467712,
          4.034508837742083,
          4.0361441639056395,
          4.037789268997641,
          4.039444225262722,
          4.041109106750543,
          4.042783987621858,
          4.044468942152701,
          4.046164044738527,
          4.047869369898403,
          4.04958499227918,
          4.051310986659683,
          4.053047427954908,
          4.054794391220229,
          4.056551951655607,
          4.05832018460982,
          4.0600991655846945,
          4.061888970239361,
          4.063689674394495,
          4.065501354036612,
          4.0673240853223325,
          4.069157944582691,
          4.071003008327444,
          4.072859353249402,
          4.074727056228772,
          4.076606194337522,
          4.078496844843747,
          4.080399078849069,
          4.082312810337267,
          4.084237814046948,
          4.0861738626490105,
          4.088120729580457,
          4.090078189027527,
          4.092046015908981,
          4.09402398585957,
          4.096011875213689,
          4.0980094609891715,
          4.100016520871301,
          4.102032833196952,
          4.104058176938914,
          4.106092331690387,
          4.108135077649624,
          4.11018619560476,
          4.112245466918764,
          4.114312673514594,
          4.116387597860481,
          4.118470022955365,
          4.12055973231451,
          4.122656509955252,
          4.124760140382906,
          4.126870408576815,
          4.128987099976566,
          4.131110001517449,
          4.133238899310006,
          4.135373579110492,
          4.137513828064825,
          4.1396594337123505,
          4.1418101839729315,
          4.14396586713416,
          4.1461262718387015,
          4.148291187071798,
          4.1504604021489016,
          4.152633706703434,
          4.154810890674705,
          4.156991744295945,
          4.159176058082488,
          4.161363622820072,
          4.163554229553298,
          4.16574766957419,
          4.167943734410918,
          4.170142215816628,
          4.1723429057584225,
          4.174545596406449,
          4.176750080123141,
          4.178956149452579,
          4.181163597109976,
          4.18337221597129,
          4.185581799201749,
          4.187792139835767,
          4.19000303102599,
          4.192214266190226,
          4.194425638857031,
          4.196636942656081,
          4.198847971308676,
          4.201058518618393,
          4.203268378461828,
          4.205477344779484,
          4.207685211566794,
          4.209891772865248,
          4.212096822753663,
          4.214300155339568,
          4.216501564750711,
          4.218700845126726,
          4.220897790610864,
          4.223092195341912,
          4.225283853446198,
          4.22747255902974,
          4.229658106170516,
          4.2318402889108615,
          4.23401890124999,
          4.236193737136657,
          4.238364590461915,
          4.240531254209573,
          4.242693522245216,
          4.244851188838074,
          4.247004047578701,
          4.249151891965773,
          4.251294515399625,
          4.253431711175951,
          4.255563272479593,
          4.257688992378503,
          4.259808663817794,
          4.261922079613967,
          4.264029032449239,
          4.2661293148660135,
          4.268222719261483,
          4.270309037882377,
          4.2723880628198305,
          4.274459586004394,
          4.276523399201184,
          4.278579294005163,
          4.280627061836565,
          4.282666493936456,
          4.284697381362433,
          4.286719514984459,
          4.288732685480863,
          4.290736683334441,
          4.29273129691016,
          4.294716316815765,
          4.296691534176408,
          4.29865673865669,
          4.300611719708468,
          4.302556266567841,
          4.3044901682523,
          4.306413213558018,
          4.308325191057292,
          4.310225889096137,
          4.3121150957920324,
          4.313992599031823,
          4.315858186469766,
          4.317711645525756,
          4.319552763383667,
          4.321381326989907,
          4.32319712305207,
          4.324999938037801,
          4.326789558173786,
          4.328565769444928,
          4.330328357593665,
          4.332077108119475,
          4.333811806278532,
          4.335532237083519,
          4.337238185303643,
          4.338929432357614,
          4.340605763653784,
          4.342266965069562,
          4.343912820403315,
          4.345543113212454,
          4.347157626814475,
          4.34875614428815,
          4.350338448474924,
          4.351904321980456,
          4.353453547176383,
          4.3549859062022325,
          4.3565011809675225,
          4.357999153154069,
          4.359479604218441,
          4.360942315394635,
          4.362387067696923,
          4.36381364192289,
          4.365221818656657,
          4.366611378272307,
          4.367982100937499,
          4.369333766617271,
          4.370666155078042,
          4.3719790458918055,
          4.373272218440538,
          4.3745454519207785,
          4.375798520932334,
          4.377031206231481,
          4.37824328883987,
          4.379434547262107,
          4.380604759843367,
          4.3817537047752015,
          4.382881160101564,
          4.383986903725019,
          4.3850707134131905,
          4.386132366805394,
          4.387171641419503,
          4.388188314659004,
          4.389182163820283,
          4.390152966100119,
          4.391100498603381,
          4.392024538350967,
          4.392924862304184,
          4.393801317865562,
          4.394654008105939,
          4.395483094902261,
          4.396288740067278,
          4.397071105350411,
          4.397830352438566,
          4.398566642956927,
          4.399280138469685,
          4.399970995424597,
          4.400639377978077,
          4.401285449967314,
          4.4019093727190555,
          4.402511307502145,
          4.4030914155280145,
          4.403649857951155,
          4.404186795869533,
          4.40470239032498,
          4.405196802303546,
          4.405670192735816,
          4.406122722497198,
          4.406554552408163,
          4.406965843234477,
          4.4073567556873705,
          4.407727450423705,
          4.408078088046089,
          4.408408829102976,
          4.408719834088728,
          4.409011263443647,
          4.409283277553988,
          4.409536036751939,
          4.409769701315571,
          4.409984431468769,
          4.41018038738114,
          4.410357724862003,
          4.410516606523515,
          4.410657194232996,
          4.410779647941413,
          4.410884127544614,
          4.410970792883097,
          4.411039803741741,
          4.411091319849559,
          4.41112550087938,
          4.411142506447549,
          4.411142496113601,
          4.411125629379906,
          4.411092065691321,
          4.411041964434795,
          4.41097548493899,
          4.410892786473869,
          4.41079402825027,
          4.410679369419484,
          4.410548969072793,
          4.410402986241029,
          4.410241579894085,
          4.410064908940456,
          4.409873132226733,
          4.409666408537117,
          4.409444896592893,
          4.4092087515548695,
          4.408958134279064,
          4.408693204635937,
          4.408414121089882,
          4.408121042039743,
          4.40781412581827,
          4.4074935306915775,
          4.407159414858581,
          4.4068119364504525,
          4.406451253530055,
          4.406077524091392,
          4.40569090605903,
          4.405291557287562,
          4.40487963556103,
          4.404455298592372,
          4.404018704022863,
          4.403570009421562,
          4.403109372284754,
          4.402636950035406,
          4.4021529000226165,
          4.401657379521083,
          4.401150545730551,
          4.400632555775301,
          4.400103566703613,
          4.399563735487252,
          4.399013216388954,
          4.398452168072375,
          4.397880748167091,
          4.397299113333719,
          4.396707420153904,
          4.396105825129849,
          4.395494484683866,
          4.394873555157938,
          4.394243192813287,
          4.393603553829953,
          4.392954794306403,
          4.39229707025913,
          4.391630537622286,
          4.390955352247322,
          4.390271669902637,
          4.389579646273259,
          4.388879436960525,
          4.388171197481792,
          4.38745508327016,
          4.386731249674206,
          4.385999851957753,
          4.3852610452996466,
          4.384514984793554,
          4.383761825447775,
          4.383001722185102,
          4.3822348281289045,
          4.381461299338601,
          4.380681290988779,
          4.379894957658901,
          4.3791024538424415,
          4.3783039339468655,
          4.3774995522936315,
          4.376689463118215,
          4.375873820570163,
          4.375052778713169,
          4.374226491525179,
          4.373395112898523,
          4.372558796640077,
          4.37171769647145,
          4.370871966029188,
          4.370021758865044,
          4.3691672284462255,
          4.36830852815572,
          4.36744581129262,
          4.366579231072491,
          4.365708940627774,
          4.364835093008214,
          4.363957841181314,
          4.363077338032854,
          4.362193736367391,
          4.361307188164139,
          4.360417846717378,
          4.359525864787882,
          4.35863139486129,
          4.357734589345209,
          4.356835600569943,
          4.355934580789284,
          4.3550316821813215,
          4.354127056849298,
          4.353220856822502,
          4.3523132340572,
          4.3514043404376075,
          4.350494327776898,
          4.349583347818259,
          4.348671552235975,
          4.347759092636573,
          4.346846120559989,
          4.3459327874807885,
          4.345019244809434,
          4.344105643893574,
          4.343192136019407,
          4.342278872413061,
          4.341366004242042,
          4.340453682616707,
          4.339542058591795,
          4.338631283443028,
          4.33772150799413,
          4.336812883093077,
          4.3359055595883165,
          4.334999688281013,
          4.334095419926889,
          4.33319290523807,
          4.332292294885002,
          4.331393731414418,
          4.330497187795166,
          4.329602474161684,
          4.328709394029956,
          4.327817751045795,
          4.326927348982181,
          4.326037991736744,
          4.325149483329297,
          4.324261627899539,
          4.323374229704816,
          4.322487093118029,
          4.321600022625623,
          4.320712822825718,
          4.319825298426317,
          4.3189372542436555,
          4.31804849520064,
          4.317158826325413,
          4.316268052381657,
          4.315375978787012,
          4.314482410933174,
          4.313587154257218,
          4.312690014295978,
          4.3117907966852815,
          4.310889307159324,
          4.309985351550146,
          4.309078735787235,
          4.308169265897236,
          4.307256748003799,
          4.30634098832752,
          4.3054217931860235,
          4.304498968994152,
          4.3035723222642845,
          4.302641659606769,
          4.301706787730477,
          4.300767513443489,
          4.299823643653891,
          4.298874985370703,
          4.297921345704921,
          4.296962531870702,
          4.295998351186644,
          4.295028611077227,
          4.294053119074343,
          4.293071681028959,
          4.292084106106739,
          4.291090202420195,
          4.29008977794903,
          4.289082640790017,
          4.288068599159308,
          4.28704746139487,
          4.28601903595906,
          4.284983131441319,
          4.283939556561011,
          4.282888120170373,
          4.281828631257618,
          4.280760898950141,
          4.279684732517895,
          4.27859994137686,
          4.277506335092668,
          4.276403723384356,
          4.275291916128246,
          4.274170723361969,
          4.273039955288609,
          4.271899422280995,
          4.2707489348861145,
          4.26958830382967,
          4.2684173400207674,
          4.2672358545567395,
          4.2660436554581995,
          4.264840557000816,
          4.26362637123411,
          4.26240091005946,
          4.261163985592628,
          4.259915410169372,
          4.258654996351239,
          4.257382556931456,
          4.256097904940982,
          4.2548008536546735,
          4.25349121659761,
          4.252168807551528,
          4.250833440561419,
          4.249484929942241,
          4.248123090285773,
          4.246747736467603,
          4.24535868365426,
          4.2439557473104585,
          4.242538743206508,
          4.241107487425824,
          4.239661796372607,
          4.2382014867796185,
          4.236726375716119,
          4.235236280595929,
          4.233731019185615,
          4.232210404824246,
          4.2306742602926555,
          4.229122404850222,
          4.227554657759469,
          4.2259708386786015,
          4.224370767670493,
          4.222754265211784,
          4.221121152202116,
          4.219471249973485,
          4.217804380299724,
          4.216120365406125,
          4.214419027979154,
          4.212700191176319,
          4.210963678636148,
          4.209209314488286,
          4.207436923363724,
          4.205646330405128,
          4.2038373612773094,
          4.2020098421777945,
          4.200163599847525,
          4.19829846158165,
          4.196414255240465,
          4.194510809260433,
          4.192587952665332,
          4.190645515077509,
          4.188683320420999,
          4.186701205415774,
          4.184699001878313,
          4.1826765419405785,
          4.180633658390977,
          4.178570184686232,
          4.176485954963375,
          4.174380804051806,
          4.172254567485468,
          4.170107081515112,
          4.167938183120651,
          4.165747710023593,
          4.1635355006995844,
          4.161301394391017,
          4.1590452311197295,
          4.156766851699787,
          4.154466097750342,
          4.152142811708561,
          4.149796836842649,
          4.147428017264917,
          4.145036197944942,
          4.1426212247227845,
          4.140182944322271,
          4.137721204364345,
          4.135235853380466,
          4.132726733054665,
          4.130193701253817,
          4.127636609520928,
          4.1250553101657035,
          4.12244965647623,
          4.119819502732673,
          4.11716470422105,
          4.114485117247001,
          4.111780599149617,
          4.109051008315307,
          4.1062962041916675,
          4.103524655656251,
          4.100752710317732,
          4.097980764979211,
          4.095208819640692,
          4.092436874302171,
          4.089664928963652,
          4.086892983625131,
          4.084121038286612,
          4.081349092948091,
          4.078577147609572,
          4.075805202271051,
          4.073033256932531,
          4.070261311594011,
          4.067489366255491
         ]
        }
       ],
       "layout": {
        "height": 800,
        "legend": {
         "title": {
          "text": "Label"
         },
         "tracegroupgap": 0
        },
        "template": {
         "data": {
          "bar": [
           {
            "error_x": {
             "color": "#f2f5fa"
            },
            "error_y": {
             "color": "#f2f5fa"
            },
            "marker": {
             "line": {
              "color": "rgb(17,17,17)",
              "width": 0.5
             },
             "pattern": {
              "fillmode": "overlay",
              "size": 10,
              "solidity": 0.2
             }
            },
            "type": "bar"
           }
          ],
          "barpolar": [
           {
            "marker": {
             "line": {
              "color": "rgb(17,17,17)",
              "width": 0.5
             },
             "pattern": {
              "fillmode": "overlay",
              "size": 10,
              "solidity": 0.2
             }
            },
            "type": "barpolar"
           }
          ],
          "carpet": [
           {
            "aaxis": {
             "endlinecolor": "#A2B1C6",
             "gridcolor": "#506784",
             "linecolor": "#506784",
             "minorgridcolor": "#506784",
             "startlinecolor": "#A2B1C6"
            },
            "baxis": {
             "endlinecolor": "#A2B1C6",
             "gridcolor": "#506784",
             "linecolor": "#506784",
             "minorgridcolor": "#506784",
             "startlinecolor": "#A2B1C6"
            },
            "type": "carpet"
           }
          ],
          "choropleth": [
           {
            "colorbar": {
             "outlinewidth": 0,
             "ticks": ""
            },
            "type": "choropleth"
           }
          ],
          "contour": [
           {
            "colorbar": {
             "outlinewidth": 0,
             "ticks": ""
            },
            "colorscale": [
             [
              0,
              "#0d0887"
             ],
             [
              0.1111111111111111,
              "#46039f"
             ],
             [
              0.2222222222222222,
              "#7201a8"
             ],
             [
              0.3333333333333333,
              "#9c179e"
             ],
             [
              0.4444444444444444,
              "#bd3786"
             ],
             [
              0.5555555555555556,
              "#d8576b"
             ],
             [
              0.6666666666666666,
              "#ed7953"
             ],
             [
              0.7777777777777778,
              "#fb9f3a"
             ],
             [
              0.8888888888888888,
              "#fdca26"
             ],
             [
              1,
              "#f0f921"
             ]
            ],
            "type": "contour"
           }
          ],
          "contourcarpet": [
           {
            "colorbar": {
             "outlinewidth": 0,
             "ticks": ""
            },
            "type": "contourcarpet"
           }
          ],
          "heatmap": [
           {
            "colorbar": {
             "outlinewidth": 0,
             "ticks": ""
            },
            "colorscale": [
             [
              0,
              "#0d0887"
             ],
             [
              0.1111111111111111,
              "#46039f"
             ],
             [
              0.2222222222222222,
              "#7201a8"
             ],
             [
              0.3333333333333333,
              "#9c179e"
             ],
             [
              0.4444444444444444,
              "#bd3786"
             ],
             [
              0.5555555555555556,
              "#d8576b"
             ],
             [
              0.6666666666666666,
              "#ed7953"
             ],
             [
              0.7777777777777778,
              "#fb9f3a"
             ],
             [
              0.8888888888888888,
              "#fdca26"
             ],
             [
              1,
              "#f0f921"
             ]
            ],
            "type": "heatmap"
           }
          ],
          "heatmapgl": [
           {
            "colorbar": {
             "outlinewidth": 0,
             "ticks": ""
            },
            "colorscale": [
             [
              0,
              "#0d0887"
             ],
             [
              0.1111111111111111,
              "#46039f"
             ],
             [
              0.2222222222222222,
              "#7201a8"
             ],
             [
              0.3333333333333333,
              "#9c179e"
             ],
             [
              0.4444444444444444,
              "#bd3786"
             ],
             [
              0.5555555555555556,
              "#d8576b"
             ],
             [
              0.6666666666666666,
              "#ed7953"
             ],
             [
              0.7777777777777778,
              "#fb9f3a"
             ],
             [
              0.8888888888888888,
              "#fdca26"
             ],
             [
              1,
              "#f0f921"
             ]
            ],
            "type": "heatmapgl"
           }
          ],
          "histogram": [
           {
            "marker": {
             "pattern": {
              "fillmode": "overlay",
              "size": 10,
              "solidity": 0.2
             }
            },
            "type": "histogram"
           }
          ],
          "histogram2d": [
           {
            "colorbar": {
             "outlinewidth": 0,
             "ticks": ""
            },
            "colorscale": [
             [
              0,
              "#0d0887"
             ],
             [
              0.1111111111111111,
              "#46039f"
             ],
             [
              0.2222222222222222,
              "#7201a8"
             ],
             [
              0.3333333333333333,
              "#9c179e"
             ],
             [
              0.4444444444444444,
              "#bd3786"
             ],
             [
              0.5555555555555556,
              "#d8576b"
             ],
             [
              0.6666666666666666,
              "#ed7953"
             ],
             [
              0.7777777777777778,
              "#fb9f3a"
             ],
             [
              0.8888888888888888,
              "#fdca26"
             ],
             [
              1,
              "#f0f921"
             ]
            ],
            "type": "histogram2d"
           }
          ],
          "histogram2dcontour": [
           {
            "colorbar": {
             "outlinewidth": 0,
             "ticks": ""
            },
            "colorscale": [
             [
              0,
              "#0d0887"
             ],
             [
              0.1111111111111111,
              "#46039f"
             ],
             [
              0.2222222222222222,
              "#7201a8"
             ],
             [
              0.3333333333333333,
              "#9c179e"
             ],
             [
              0.4444444444444444,
              "#bd3786"
             ],
             [
              0.5555555555555556,
              "#d8576b"
             ],
             [
              0.6666666666666666,
              "#ed7953"
             ],
             [
              0.7777777777777778,
              "#fb9f3a"
             ],
             [
              0.8888888888888888,
              "#fdca26"
             ],
             [
              1,
              "#f0f921"
             ]
            ],
            "type": "histogram2dcontour"
           }
          ],
          "mesh3d": [
           {
            "colorbar": {
             "outlinewidth": 0,
             "ticks": ""
            },
            "type": "mesh3d"
           }
          ],
          "parcoords": [
           {
            "line": {
             "colorbar": {
              "outlinewidth": 0,
              "ticks": ""
             }
            },
            "type": "parcoords"
           }
          ],
          "pie": [
           {
            "automargin": true,
            "type": "pie"
           }
          ],
          "scatter": [
           {
            "marker": {
             "line": {
              "color": "#283442"
             }
            },
            "type": "scatter"
           }
          ],
          "scatter3d": [
           {
            "line": {
             "colorbar": {
              "outlinewidth": 0,
              "ticks": ""
             }
            },
            "marker": {
             "colorbar": {
              "outlinewidth": 0,
              "ticks": ""
             }
            },
            "type": "scatter3d"
           }
          ],
          "scattercarpet": [
           {
            "marker": {
             "colorbar": {
              "outlinewidth": 0,
              "ticks": ""
             }
            },
            "type": "scattercarpet"
           }
          ],
          "scattergeo": [
           {
            "marker": {
             "colorbar": {
              "outlinewidth": 0,
              "ticks": ""
             }
            },
            "type": "scattergeo"
           }
          ],
          "scattergl": [
           {
            "marker": {
             "line": {
              "color": "#283442"
             }
            },
            "type": "scattergl"
           }
          ],
          "scattermapbox": [
           {
            "marker": {
             "colorbar": {
              "outlinewidth": 0,
              "ticks": ""
             }
            },
            "type": "scattermapbox"
           }
          ],
          "scatterpolar": [
           {
            "marker": {
             "colorbar": {
              "outlinewidth": 0,
              "ticks": ""
             }
            },
            "type": "scatterpolar"
           }
          ],
          "scatterpolargl": [
           {
            "marker": {
             "colorbar": {
              "outlinewidth": 0,
              "ticks": ""
             }
            },
            "type": "scatterpolargl"
           }
          ],
          "scatterternary": [
           {
            "marker": {
             "colorbar": {
              "outlinewidth": 0,
              "ticks": ""
             }
            },
            "type": "scatterternary"
           }
          ],
          "surface": [
           {
            "colorbar": {
             "outlinewidth": 0,
             "ticks": ""
            },
            "colorscale": [
             [
              0,
              "#0d0887"
             ],
             [
              0.1111111111111111,
              "#46039f"
             ],
             [
              0.2222222222222222,
              "#7201a8"
             ],
             [
              0.3333333333333333,
              "#9c179e"
             ],
             [
              0.4444444444444444,
              "#bd3786"
             ],
             [
              0.5555555555555556,
              "#d8576b"
             ],
             [
              0.6666666666666666,
              "#ed7953"
             ],
             [
              0.7777777777777778,
              "#fb9f3a"
             ],
             [
              0.8888888888888888,
              "#fdca26"
             ],
             [
              1,
              "#f0f921"
             ]
            ],
            "type": "surface"
           }
          ],
          "table": [
           {
            "cells": {
             "fill": {
              "color": "#506784"
             },
             "line": {
              "color": "rgb(17,17,17)"
             }
            },
            "header": {
             "fill": {
              "color": "#2a3f5f"
             },
             "line": {
              "color": "rgb(17,17,17)"
             }
            },
            "type": "table"
           }
          ]
         },
         "layout": {
          "annotationdefaults": {
           "arrowcolor": "#f2f5fa",
           "arrowhead": 0,
           "arrowwidth": 1
          },
          "autotypenumbers": "strict",
          "coloraxis": {
           "colorbar": {
            "outlinewidth": 0,
            "ticks": ""
           }
          },
          "colorscale": {
           "diverging": [
            [
             0,
             "#8e0152"
            ],
            [
             0.1,
             "#c51b7d"
            ],
            [
             0.2,
             "#de77ae"
            ],
            [
             0.3,
             "#f1b6da"
            ],
            [
             0.4,
             "#fde0ef"
            ],
            [
             0.5,
             "#f7f7f7"
            ],
            [
             0.6,
             "#e6f5d0"
            ],
            [
             0.7,
             "#b8e186"
            ],
            [
             0.8,
             "#7fbc41"
            ],
            [
             0.9,
             "#4d9221"
            ],
            [
             1,
             "#276419"
            ]
           ],
           "sequential": [
            [
             0,
             "#0d0887"
            ],
            [
             0.1111111111111111,
             "#46039f"
            ],
            [
             0.2222222222222222,
             "#7201a8"
            ],
            [
             0.3333333333333333,
             "#9c179e"
            ],
            [
             0.4444444444444444,
             "#bd3786"
            ],
            [
             0.5555555555555556,
             "#d8576b"
            ],
            [
             0.6666666666666666,
             "#ed7953"
            ],
            [
             0.7777777777777778,
             "#fb9f3a"
            ],
            [
             0.8888888888888888,
             "#fdca26"
            ],
            [
             1,
             "#f0f921"
            ]
           ],
           "sequentialminus": [
            [
             0,
             "#0d0887"
            ],
            [
             0.1111111111111111,
             "#46039f"
            ],
            [
             0.2222222222222222,
             "#7201a8"
            ],
            [
             0.3333333333333333,
             "#9c179e"
            ],
            [
             0.4444444444444444,
             "#bd3786"
            ],
            [
             0.5555555555555556,
             "#d8576b"
            ],
            [
             0.6666666666666666,
             "#ed7953"
            ],
            [
             0.7777777777777778,
             "#fb9f3a"
            ],
            [
             0.8888888888888888,
             "#fdca26"
            ],
            [
             1,
             "#f0f921"
            ]
           ]
          },
          "colorway": [
           "#636efa",
           "#EF553B",
           "#00cc96",
           "#ab63fa",
           "#FFA15A",
           "#19d3f3",
           "#FF6692",
           "#B6E880",
           "#FF97FF",
           "#FECB52"
          ],
          "font": {
           "color": "#f2f5fa"
          },
          "geo": {
           "bgcolor": "rgb(17,17,17)",
           "lakecolor": "rgb(17,17,17)",
           "landcolor": "rgb(17,17,17)",
           "showlakes": true,
           "showland": true,
           "subunitcolor": "#506784"
          },
          "hoverlabel": {
           "align": "left"
          },
          "hovermode": "closest",
          "mapbox": {
           "style": "dark"
          },
          "paper_bgcolor": "rgb(17,17,17)",
          "plot_bgcolor": "rgb(17,17,17)",
          "polar": {
           "angularaxis": {
            "gridcolor": "#506784",
            "linecolor": "#506784",
            "ticks": ""
           },
           "bgcolor": "rgb(17,17,17)",
           "radialaxis": {
            "gridcolor": "#506784",
            "linecolor": "#506784",
            "ticks": ""
           }
          },
          "scene": {
           "xaxis": {
            "backgroundcolor": "rgb(17,17,17)",
            "gridcolor": "#506784",
            "gridwidth": 2,
            "linecolor": "#506784",
            "showbackground": true,
            "ticks": "",
            "zerolinecolor": "#C8D4E3"
           },
           "yaxis": {
            "backgroundcolor": "rgb(17,17,17)",
            "gridcolor": "#506784",
            "gridwidth": 2,
            "linecolor": "#506784",
            "showbackground": true,
            "ticks": "",
            "zerolinecolor": "#C8D4E3"
           },
           "zaxis": {
            "backgroundcolor": "rgb(17,17,17)",
            "gridcolor": "#506784",
            "gridwidth": 2,
            "linecolor": "#506784",
            "showbackground": true,
            "ticks": "",
            "zerolinecolor": "#C8D4E3"
           }
          },
          "shapedefaults": {
           "line": {
            "color": "#f2f5fa"
           }
          },
          "sliderdefaults": {
           "bgcolor": "#C8D4E3",
           "bordercolor": "rgb(17,17,17)",
           "borderwidth": 1,
           "tickwidth": 0
          },
          "ternary": {
           "aaxis": {
            "gridcolor": "#506784",
            "linecolor": "#506784",
            "ticks": ""
           },
           "baxis": {
            "gridcolor": "#506784",
            "linecolor": "#506784",
            "ticks": ""
           },
           "bgcolor": "rgb(17,17,17)",
           "caxis": {
            "gridcolor": "#506784",
            "linecolor": "#506784",
            "ticks": ""
           }
          },
          "title": {
           "x": 0.05
          },
          "updatemenudefaults": {
           "bgcolor": "#506784",
           "borderwidth": 0
          },
          "xaxis": {
           "automargin": true,
           "gridcolor": "#283442",
           "linecolor": "#506784",
           "ticks": "",
           "title": {
            "standoff": 15
           },
           "zerolinecolor": "#283442",
           "zerolinewidth": 2
          },
          "yaxis": {
           "automargin": true,
           "gridcolor": "#283442",
           "linecolor": "#506784",
           "ticks": "",
           "title": {
            "standoff": 15
           },
           "zerolinecolor": "#283442",
           "zerolinewidth": 2
          }
         }
        },
        "title": {
         "text": "Filtered USTs Curve Set"
        },
        "width": 1600,
        "xaxis": {
         "anchor": "y",
         "domain": [
          0,
          1
         ],
         "showgrid": true,
         "showspikes": true,
         "spikecolor": "white",
         "spikemode": "across",
         "spikesnap": "cursor",
         "title": {
          "text": "Time to Maturity (Years)"
         }
        },
        "yaxis": {
         "anchor": "x",
         "domain": [
          0,
          1
         ],
         "showgrid": true,
         "showspikes": true,
         "spikecolor": "white",
         "spikethickness": 1,
         "title": {
          "text": "YTMs: bid_yield"
         }
        }
       }
      }
     },
     "metadata": {},
     "output_type": "display_data"
    }
   ],
   "source": [
    "fig = px.scatter(\n",
    "    curve_set_df,\n",
    "    x=\"time_to_maturity\",\n",
    "    y=f\"{quote_type}_yield\",\n",
    "    color=\"original_security_term\",\n",
    "    hover_data=[\"label\"],\n",
    "    labels={\"time_to_maturity\": \"Time to Maturity (Years)\", \"yield\": \"Yield (%)\"},\n",
    "    title=\"Filtered USTs Curve Set\"\n",
    ")\n",
    "\n",
    "# fig.add_trace(\n",
    "#     go.Scatter(\n",
    "#         x=t2, y=fitted_zero_curve_func_ns(t2), mode=\"lines\", name=\"Nelson-Siegel\"\n",
    "#     )\n",
    "# )\n",
    "# fig.add_trace(\n",
    "#     go.Scatter(\n",
    "#         x=t2, y=fitted_zero_curve_func_nss(t2), mode=\"lines\", name=\"Svensson\"\n",
    "#     )\n",
    "# )\n",
    "# fig.add_trace(\n",
    "#     go.Scatter(\n",
    "#         x=t2, y=fitted_zero_curve_func_dl(t2), mode=\"lines\", name=\"Diebold-Li\"\n",
    "#     )\n",
    "# )\n",
    "# fig.add_trace(\n",
    "#     go.Scatter(\n",
    "#         x=t2, y=fitted_zero_curve_func_bc(t2), mode=\"lines\", name=\"Björk-Christensen\"\n",
    "#     )\n",
    "# )\n",
    "# fig.add_trace(\n",
    "#     go.Scatter(\n",
    "#         x=t2, y=fitted_zero_curve_func_aug_bc(t2), mode=\"lines\", name=\"Augmented Björk-Christensen\"\n",
    "#     )\n",
    "# )\n",
    "\n",
    "# fig.add_trace(\n",
    "#     go.Scatter(\n",
    "#         x=t2, y=fitted_zero_curve_dict[\"ql_f_nss\"][\"zero_interp_func\"](t2), mode=\"lines\", name=\"Fitted NSS - Zero Curve\"\n",
    "#     )\n",
    "# )\n",
    "fig.add_trace(\n",
    "    go.Scatter(\n",
    "        x=t2, y=fitted_zero_curve_dict[\"ql_f_cbs\"][\"zero_interp_func\"](t2), mode=\"lines\", name=\"Fitted Zero Curve\"\n",
    "    )\n",
    ")\n",
    "\n",
    "fig.update_layout(\n",
    "    legend_title_text='Label',\n",
    "    xaxis_title=\"Time to Maturity (Years)\",\n",
    "    yaxis_title=f\"YTMs: {quote_type}_yield\",\n",
    "    width=1600,\n",
    "    height=800,\n",
    "    template=\"plotly_dark\",\n",
    ")\n",
    "\n",
    "fig.update_xaxes(\n",
    "    showgrid=True,\n",
    "    showspikes=True,\n",
    "    spikecolor=\"white\",\n",
    "    spikesnap=\"cursor\",\n",
    "    spikemode=\"across\",\n",
    ")\n",
    "fig.update_yaxes(showgrid=True, showspikes=True, spikecolor=\"white\", spikethickness=1)\n",
    "fig.show()"
   ]
  },
  {
   "cell_type": "code",
   "execution_count": null,
   "metadata": {},
   "outputs": [],
   "source": []
  }
 ],
 "metadata": {
  "kernelspec": {
   "display_name": "Python 3",
   "language": "python",
   "name": "python3"
  },
  "language_info": {
   "codemirror_mode": {
    "name": "ipython",
    "version": 3
   },
   "file_extension": ".py",
   "mimetype": "text/x-python",
   "name": "python",
   "nbconvert_exporter": "python",
   "pygments_lexer": "ipython3",
   "version": "3.12.1"
  }
 },
 "nbformat": 4,
 "nbformat_minor": 2
}
