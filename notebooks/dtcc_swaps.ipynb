{
 "cells": [
  {
   "cell_type": "code",
   "execution_count": 1,
   "metadata": {},
   "outputs": [],
   "source": [
    "import sys\n",
    "sys.path.append(\"../src\")"
   ]
  },
  {
   "cell_type": "code",
   "execution_count": 13,
   "metadata": {},
   "outputs": [
    {
     "name": "stdout",
     "output_type": "stream",
     "text": [
      "c:\\Users\\chris\\Project Bond King\\Curvy-CUSIPs\\notebooks\\../.env\n",
      "The autoreload extension is already loaded. To reload it, use:\n",
      "  %reload_ext autoreload\n"
     ]
    }
   ],
   "source": [
    "from CurvyCUSIPs.CurveDataFetcher import CurveDataFetcher\n",
    "from CurvyCUSIPs.utils.dtcc_swaps_utils import datetime_to_ql_date, tenor_to_ql_period, build_ql_piecewise_curves, swap_spreads_term_structure, tenor_to_years\n",
    "from datetime import datetime\n",
    "import pandas.tseries.offsets as offsets\n",
    "import pandas as pd\n",
    "import matplotlib.pyplot as plt\n",
    "import seaborn as sns\n",
    "import numpy as np\n",
    "import scipy\n",
    "from scipy.optimize import brentq\n",
    "import scipy.interpolate\n",
    "import rateslib as rl\n",
    "import QuantLib as ql\n",
    "import plotly.graph_objects as go\n",
    "from termcolor import colored\n",
    "from functools import reduce\n",
    "from sklearn.cluster import KMeans\n",
    "from sklearn.metrics import silhouette_score\n",
    "from sklearn.decomposition import PCA\n",
    "import statsmodels.api as sm\n",
    "from typing import Dict, List, Optional, Tuple\n",
    "import urllib.parse\n",
    "import requests\n",
    "import pickle\n",
    "import os\n",
    "import shelve\n",
    "from pandas.tseries.offsets import CustomBusinessDay, BDay, BMonthEnd\n",
    "from pandas.tseries.holiday import USFederalHolidayCalendar\n",
    "\n",
    "from dotenv import dotenv_values\n",
    "env_path = os.path.join(os.getcwd(), \"../.env\")\n",
    "print(env_path)\n",
    "config = dotenv_values(env_path)\n",
    "\n",
    "import nest_asyncio\n",
    "nest_asyncio.apply()\n",
    "\n",
    "import matplotlib.pylab as pylab\n",
    "params = {\n",
    "    \"legend.fontsize\": \"x-large\",\n",
    "    \"axes.labelsize\": \"x-large\",\n",
    "    \"axes.titlesize\": \"x-large\",\n",
    "    \"xtick.labelsize\": \"x-large\",\n",
    "    \"ytick.labelsize\": \"x-large\",\n",
    "}\n",
    "pylab.rcParams.update(params)\n",
    "sns.set(style=\"whitegrid\", palette=\"dark\")\n",
    "import warnings\n",
    "warnings.filterwarnings('ignore', category=FutureWarning)\n",
    "warnings.filterwarnings('ignore', category=pd.errors.SettingWithCopyWarning)\n",
    "\n",
    "%load_ext autoreload\n",
    "%autoreload 2"
   ]
  },
  {
   "cell_type": "code",
   "execution_count": 3,
   "metadata": {},
   "outputs": [
    {
     "name": "stderr",
     "output_type": "stream",
     "text": [
      "2024-11-24 13:07:57,345 - CurvyCUSIPs.DataFetcher.base - DEBUG - UST Auctions - Number of Links to Fetch: 2\n",
      "2024-11-24 13:07:57,346 - CurvyCUSIPs.DataFetcher.base - DEBUG - UST Auctions - Links: ['https://api.fiscaldata.treasury.gov/services/api/fiscal_service/v1/accounting/od/auctions_query?page[number]=1&page[size]=10000', 'https://api.fiscaldata.treasury.gov/services/api/fiscal_service/v1/accounting/od/auctions_query?page[number]=2&page[size]=10000']\n"
     ]
    }
   ],
   "source": [
    "curve_data_fetcher = CurveDataFetcher(use_ust_issue_date=True, fred_api_key=config[\"FRED_API_KEY\"], error_verbose=True, debug_verbose=True)"
   ]
  },
  {
   "cell_type": "code",
   "execution_count": 4,
   "metadata": {},
   "outputs": [],
   "source": [
    "curve_data_fetcher.dtcc_sdr_fetcher.setup_s490_nyclose_db(r\"C:\\Users\\chris\\Project Bond King\\ql_swap_curve_objs\\nyclose_s490_usd_sofr_curve_dtcc_sdr_master\")"
   ]
  },
  {
   "cell_type": "code",
   "execution_count": 25,
   "metadata": {},
   "outputs": [
    {
     "data": {
      "text/html": [
       "<div>\n",
       "<style scoped>\n",
       "    .dataframe tbody tr th:only-of-type {\n",
       "        vertical-align: middle;\n",
       "    }\n",
       "\n",
       "    .dataframe tbody tr th {\n",
       "        vertical-align: top;\n",
       "    }\n",
       "\n",
       "    .dataframe thead th {\n",
       "        text-align: right;\n",
       "    }\n",
       "</style>\n",
       "<table border=\"1\" class=\"dataframe\">\n",
       "  <thead>\n",
       "    <tr style=\"text-align: right;\">\n",
       "      <th></th>\n",
       "      <th>3M</th>\n",
       "      <th>6M</th>\n",
       "      <th>12M</th>\n",
       "      <th>2Y</th>\n",
       "      <th>3Y</th>\n",
       "      <th>5Y</th>\n",
       "      <th>7Y</th>\n",
       "      <th>10Y</th>\n",
       "      <th>20Y</th>\n",
       "      <th>30Y</th>\n",
       "    </tr>\n",
       "    <tr>\n",
       "      <th>Date</th>\n",
       "      <th></th>\n",
       "      <th></th>\n",
       "      <th></th>\n",
       "      <th></th>\n",
       "      <th></th>\n",
       "      <th></th>\n",
       "      <th></th>\n",
       "      <th></th>\n",
       "      <th></th>\n",
       "      <th></th>\n",
       "    </tr>\n",
       "  </thead>\n",
       "  <tbody>\n",
       "    <tr>\n",
       "      <th>2024-01-02</th>\n",
       "      <td>3.560976</td>\n",
       "      <td>-0.817523</td>\n",
       "      <td>1.242338</td>\n",
       "      <td>-22.974293</td>\n",
       "      <td>-26.906464</td>\n",
       "      <td>-34.583342</td>\n",
       "      <td>-41.755999</td>\n",
       "      <td>-42.017960</td>\n",
       "      <td>-72.363095</td>\n",
       "      <td>-72.343242</td>\n",
       "    </tr>\n",
       "    <tr>\n",
       "      <th>2024-01-03</th>\n",
       "      <td>2.888777</td>\n",
       "      <td>0.733992</td>\n",
       "      <td>3.453715</td>\n",
       "      <td>-17.657599</td>\n",
       "      <td>-24.323940</td>\n",
       "      <td>-30.422108</td>\n",
       "      <td>-37.468890</td>\n",
       "      <td>-39.424314</td>\n",
       "      <td>-68.119296</td>\n",
       "      <td>-68.668287</td>\n",
       "    </tr>\n",
       "    <tr>\n",
       "      <th>2024-01-04</th>\n",
       "      <td>9.366469</td>\n",
       "      <td>-2.135386</td>\n",
       "      <td>3.330176</td>\n",
       "      <td>-16.339765</td>\n",
       "      <td>-23.278453</td>\n",
       "      <td>-30.941401</td>\n",
       "      <td>-38.159529</td>\n",
       "      <td>-37.695671</td>\n",
       "      <td>-67.248561</td>\n",
       "      <td>-67.943153</td>\n",
       "    </tr>\n",
       "    <tr>\n",
       "      <th>2024-01-05</th>\n",
       "      <td>1.179448</td>\n",
       "      <td>0.743035</td>\n",
       "      <td>1.424558</td>\n",
       "      <td>-16.433474</td>\n",
       "      <td>-24.921634</td>\n",
       "      <td>-30.644154</td>\n",
       "      <td>-37.778340</td>\n",
       "      <td>-39.293151</td>\n",
       "      <td>-69.177305</td>\n",
       "      <td>-70.811522</td>\n",
       "    </tr>\n",
       "    <tr>\n",
       "      <th>2024-01-08</th>\n",
       "      <td>1.357440</td>\n",
       "      <td>0.479334</td>\n",
       "      <td>3.742113</td>\n",
       "      <td>-16.420034</td>\n",
       "      <td>-21.654324</td>\n",
       "      <td>-27.086639</td>\n",
       "      <td>-34.850127</td>\n",
       "      <td>-36.121186</td>\n",
       "      <td>-65.340166</td>\n",
       "      <td>-66.934721</td>\n",
       "    </tr>\n",
       "    <tr>\n",
       "      <th>...</th>\n",
       "      <td>...</td>\n",
       "      <td>...</td>\n",
       "      <td>...</td>\n",
       "      <td>...</td>\n",
       "      <td>...</td>\n",
       "      <td>...</td>\n",
       "      <td>...</td>\n",
       "      <td>...</td>\n",
       "      <td>...</td>\n",
       "      <td>...</td>\n",
       "    </tr>\n",
       "    <tr>\n",
       "      <th>2024-11-15</th>\n",
       "      <td>5.949413</td>\n",
       "      <td>3.164078</td>\n",
       "      <td>-3.940376</td>\n",
       "      <td>-20.852565</td>\n",
       "      <td>-25.666682</td>\n",
       "      <td>-35.897817</td>\n",
       "      <td>-44.556284</td>\n",
       "      <td>-52.383263</td>\n",
       "      <td>-76.398389</td>\n",
       "      <td>-83.898634</td>\n",
       "    </tr>\n",
       "    <tr>\n",
       "      <th>2024-11-18</th>\n",
       "      <td>6.454599</td>\n",
       "      <td>1.875199</td>\n",
       "      <td>-4.902459</td>\n",
       "      <td>-23.720799</td>\n",
       "      <td>-24.389074</td>\n",
       "      <td>-34.835995</td>\n",
       "      <td>-44.205518</td>\n",
       "      <td>-50.863227</td>\n",
       "      <td>-77.704359</td>\n",
       "      <td>-84.306375</td>\n",
       "    </tr>\n",
       "    <tr>\n",
       "      <th>2024-11-19</th>\n",
       "      <td>6.304771</td>\n",
       "      <td>0.365614</td>\n",
       "      <td>-5.016004</td>\n",
       "      <td>-19.641406</td>\n",
       "      <td>-24.674271</td>\n",
       "      <td>-34.631383</td>\n",
       "      <td>-45.250967</td>\n",
       "      <td>-48.907283</td>\n",
       "      <td>-74.975996</td>\n",
       "      <td>-82.535749</td>\n",
       "    </tr>\n",
       "    <tr>\n",
       "      <th>2024-11-20</th>\n",
       "      <td>6.044149</td>\n",
       "      <td>1.551012</td>\n",
       "      <td>-4.787799</td>\n",
       "      <td>-25.965276</td>\n",
       "      <td>-23.635813</td>\n",
       "      <td>-34.629970</td>\n",
       "      <td>-43.309973</td>\n",
       "      <td>-49.935615</td>\n",
       "      <td>-77.007875</td>\n",
       "      <td>-82.952774</td>\n",
       "    </tr>\n",
       "    <tr>\n",
       "      <th>2024-11-21</th>\n",
       "      <td>5.749205</td>\n",
       "      <td>0.700994</td>\n",
       "      <td>-5.601432</td>\n",
       "      <td>-22.319072</td>\n",
       "      <td>-25.254187</td>\n",
       "      <td>-34.684425</td>\n",
       "      <td>-43.073562</td>\n",
       "      <td>-52.061001</td>\n",
       "      <td>-78.504333</td>\n",
       "      <td>-84.097890</td>\n",
       "    </tr>\n",
       "  </tbody>\n",
       "</table>\n",
       "<p>224 rows × 10 columns</p>\n",
       "</div>"
      ],
      "text/plain": [
       "                  3M        6M       12M         2Y         3Y         5Y  \\\n",
       "Date                                                                        \n",
       "2024-01-02  3.560976 -0.817523  1.242338 -22.974293 -26.906464 -34.583342   \n",
       "2024-01-03  2.888777  0.733992  3.453715 -17.657599 -24.323940 -30.422108   \n",
       "2024-01-04  9.366469 -2.135386  3.330176 -16.339765 -23.278453 -30.941401   \n",
       "2024-01-05  1.179448  0.743035  1.424558 -16.433474 -24.921634 -30.644154   \n",
       "2024-01-08  1.357440  0.479334  3.742113 -16.420034 -21.654324 -27.086639   \n",
       "...              ...       ...       ...        ...        ...        ...   \n",
       "2024-11-15  5.949413  3.164078 -3.940376 -20.852565 -25.666682 -35.897817   \n",
       "2024-11-18  6.454599  1.875199 -4.902459 -23.720799 -24.389074 -34.835995   \n",
       "2024-11-19  6.304771  0.365614 -5.016004 -19.641406 -24.674271 -34.631383   \n",
       "2024-11-20  6.044149  1.551012 -4.787799 -25.965276 -23.635813 -34.629970   \n",
       "2024-11-21  5.749205  0.700994 -5.601432 -22.319072 -25.254187 -34.684425   \n",
       "\n",
       "                   7Y        10Y        20Y        30Y  \n",
       "Date                                                    \n",
       "2024-01-02 -41.755999 -42.017960 -72.363095 -72.343242  \n",
       "2024-01-03 -37.468890 -39.424314 -68.119296 -68.668287  \n",
       "2024-01-04 -38.159529 -37.695671 -67.248561 -67.943153  \n",
       "2024-01-05 -37.778340 -39.293151 -69.177305 -70.811522  \n",
       "2024-01-08 -34.850127 -36.121186 -65.340166 -66.934721  \n",
       "...               ...        ...        ...        ...  \n",
       "2024-11-15 -44.556284 -52.383263 -76.398389 -83.898634  \n",
       "2024-11-18 -44.205518 -50.863227 -77.704359 -84.306375  \n",
       "2024-11-19 -45.250967 -48.907283 -74.975996 -82.535749  \n",
       "2024-11-20 -43.309973 -49.935615 -77.007875 -82.952774  \n",
       "2024-11-21 -43.073562 -52.061001 -78.504333 -84.097890  \n",
       "\n",
       "[224 rows x 10 columns]"
      ]
     },
     "execution_count": 25,
     "metadata": {},
     "output_type": "execute_result"
    }
   ],
   "source": [
    "start_date = datetime(2024, 1, 1)\n",
    "end_date = datetime(2024, 11, 21)\n",
    "\n",
    "sofr_ois_df = curve_data_fetcher.dtcc_sdr_fetcher.s490_nyclose_term_structure_ts(start_date=start_date, end_date=end_date)\n",
    "ct_df = curve_data_fetcher.fedinvest_data_fetcher.get_historical_ct_yields(start_date=start_date, end_date=end_date)\n",
    "swap_spread_df = swap_spreads_term_structure(swaps_term_structure_ts_df=sofr_ois_df.set_index(\"Date\"), cash_term_structure_ts_df=ct_df.set_index(\"Date\"))\n",
    "swap_spread_df"
   ]
  },
  {
   "cell_type": "code",
   "execution_count": 28,
   "metadata": {},
   "outputs": [
    {
     "data": {
      "application/vnd.plotly.v1+json": {
       "config": {
        "plotlyServerURL": "https://plot.ly"
       },
       "data": [
        {
         "mode": "lines",
         "name": "2024-01-02",
         "type": "scatter",
         "x": [
          0.25,
          0.5,
          1,
          2,
          3,
          5,
          7,
          10,
          20,
          30
         ],
         "y": [
          3.5609761699999964,
          -0.817523169999923,
          1.2423377900000254,
          -22.97429292000004,
          -26.906464399999976,
          -34.583342230000014,
          -41.75599930000003,
          -42.01796020999997,
          -72.36309469999998,
          -72.34324183999999
         ]
        },
        {
         "mode": "lines",
         "name": "2024-11-01",
         "type": "scatter",
         "x": [
          0.25,
          0.5,
          1,
          2,
          3,
          5,
          7,
          10,
          20,
          30
         ],
         "y": [
          11.50767030691755,
          6.593501019999959,
          -1.5150264699999916,
          -20.284164660000002,
          -25.036779080000038,
          -31.699088760000073,
          -40.10376492999996,
          -43.94824961000001,
          -74.99778007,
          -76.45878227999998
         ]
        },
        {
         "mode": "lines",
         "name": "2024-11-08",
         "type": "scatter",
         "x": [
          0.25,
          0.5,
          1,
          2,
          3,
          5,
          7,
          10,
          20,
          30
         ],
         "y": [
          9.506008389999998,
          4.925570699999948,
          -2.5404576800000633,
          -20.937688580000025,
          -24.81489931999996,
          -33.72331179999999,
          -42.32541721999992,
          -48.22439809999999,
          -75.14964315000002,
          -81.75050394999998
         ]
        },
        {
         "mode": "lines",
         "name": "2024-11-15",
         "type": "scatter",
         "x": [
          0.25,
          0.5,
          1,
          2,
          3,
          5,
          7,
          10,
          20,
          30
         ],
         "y": [
          5.949413120000013,
          3.1640782299999337,
          -3.9403756099999576,
          -20.852564859999934,
          -25.666681929999946,
          -35.89781673000001,
          -44.5562839,
          -52.383263050000025,
          -76.39838931000007,
          -83.89863440999994
         ]
        },
        {
         "mode": "lines",
         "name": "2024-11-21",
         "type": "scatter",
         "x": [
          0.25,
          0.5,
          1,
          2,
          3,
          5,
          7,
          10,
          20,
          30
         ],
         "y": [
          5.749204550000009,
          0.7009940800000614,
          -5.601431829999992,
          -22.319072009999985,
          -25.25418717000001,
          -34.684425480000016,
          -43.073562339999995,
          -52.06100118999997,
          -78.50433274000004,
          -84.09788983
         ]
        }
       ],
       "layout": {
        "height": 1000,
        "template": {
         "data": {
          "bar": [
           {
            "error_x": {
             "color": "#f2f5fa"
            },
            "error_y": {
             "color": "#f2f5fa"
            },
            "marker": {
             "line": {
              "color": "rgb(17,17,17)",
              "width": 0.5
             },
             "pattern": {
              "fillmode": "overlay",
              "size": 10,
              "solidity": 0.2
             }
            },
            "type": "bar"
           }
          ],
          "barpolar": [
           {
            "marker": {
             "line": {
              "color": "rgb(17,17,17)",
              "width": 0.5
             },
             "pattern": {
              "fillmode": "overlay",
              "size": 10,
              "solidity": 0.2
             }
            },
            "type": "barpolar"
           }
          ],
          "carpet": [
           {
            "aaxis": {
             "endlinecolor": "#A2B1C6",
             "gridcolor": "#506784",
             "linecolor": "#506784",
             "minorgridcolor": "#506784",
             "startlinecolor": "#A2B1C6"
            },
            "baxis": {
             "endlinecolor": "#A2B1C6",
             "gridcolor": "#506784",
             "linecolor": "#506784",
             "minorgridcolor": "#506784",
             "startlinecolor": "#A2B1C6"
            },
            "type": "carpet"
           }
          ],
          "choropleth": [
           {
            "colorbar": {
             "outlinewidth": 0,
             "ticks": ""
            },
            "type": "choropleth"
           }
          ],
          "contour": [
           {
            "colorbar": {
             "outlinewidth": 0,
             "ticks": ""
            },
            "colorscale": [
             [
              0,
              "#0d0887"
             ],
             [
              0.1111111111111111,
              "#46039f"
             ],
             [
              0.2222222222222222,
              "#7201a8"
             ],
             [
              0.3333333333333333,
              "#9c179e"
             ],
             [
              0.4444444444444444,
              "#bd3786"
             ],
             [
              0.5555555555555556,
              "#d8576b"
             ],
             [
              0.6666666666666666,
              "#ed7953"
             ],
             [
              0.7777777777777778,
              "#fb9f3a"
             ],
             [
              0.8888888888888888,
              "#fdca26"
             ],
             [
              1,
              "#f0f921"
             ]
            ],
            "type": "contour"
           }
          ],
          "contourcarpet": [
           {
            "colorbar": {
             "outlinewidth": 0,
             "ticks": ""
            },
            "type": "contourcarpet"
           }
          ],
          "heatmap": [
           {
            "colorbar": {
             "outlinewidth": 0,
             "ticks": ""
            },
            "colorscale": [
             [
              0,
              "#0d0887"
             ],
             [
              0.1111111111111111,
              "#46039f"
             ],
             [
              0.2222222222222222,
              "#7201a8"
             ],
             [
              0.3333333333333333,
              "#9c179e"
             ],
             [
              0.4444444444444444,
              "#bd3786"
             ],
             [
              0.5555555555555556,
              "#d8576b"
             ],
             [
              0.6666666666666666,
              "#ed7953"
             ],
             [
              0.7777777777777778,
              "#fb9f3a"
             ],
             [
              0.8888888888888888,
              "#fdca26"
             ],
             [
              1,
              "#f0f921"
             ]
            ],
            "type": "heatmap"
           }
          ],
          "heatmapgl": [
           {
            "colorbar": {
             "outlinewidth": 0,
             "ticks": ""
            },
            "colorscale": [
             [
              0,
              "#0d0887"
             ],
             [
              0.1111111111111111,
              "#46039f"
             ],
             [
              0.2222222222222222,
              "#7201a8"
             ],
             [
              0.3333333333333333,
              "#9c179e"
             ],
             [
              0.4444444444444444,
              "#bd3786"
             ],
             [
              0.5555555555555556,
              "#d8576b"
             ],
             [
              0.6666666666666666,
              "#ed7953"
             ],
             [
              0.7777777777777778,
              "#fb9f3a"
             ],
             [
              0.8888888888888888,
              "#fdca26"
             ],
             [
              1,
              "#f0f921"
             ]
            ],
            "type": "heatmapgl"
           }
          ],
          "histogram": [
           {
            "marker": {
             "pattern": {
              "fillmode": "overlay",
              "size": 10,
              "solidity": 0.2
             }
            },
            "type": "histogram"
           }
          ],
          "histogram2d": [
           {
            "colorbar": {
             "outlinewidth": 0,
             "ticks": ""
            },
            "colorscale": [
             [
              0,
              "#0d0887"
             ],
             [
              0.1111111111111111,
              "#46039f"
             ],
             [
              0.2222222222222222,
              "#7201a8"
             ],
             [
              0.3333333333333333,
              "#9c179e"
             ],
             [
              0.4444444444444444,
              "#bd3786"
             ],
             [
              0.5555555555555556,
              "#d8576b"
             ],
             [
              0.6666666666666666,
              "#ed7953"
             ],
             [
              0.7777777777777778,
              "#fb9f3a"
             ],
             [
              0.8888888888888888,
              "#fdca26"
             ],
             [
              1,
              "#f0f921"
             ]
            ],
            "type": "histogram2d"
           }
          ],
          "histogram2dcontour": [
           {
            "colorbar": {
             "outlinewidth": 0,
             "ticks": ""
            },
            "colorscale": [
             [
              0,
              "#0d0887"
             ],
             [
              0.1111111111111111,
              "#46039f"
             ],
             [
              0.2222222222222222,
              "#7201a8"
             ],
             [
              0.3333333333333333,
              "#9c179e"
             ],
             [
              0.4444444444444444,
              "#bd3786"
             ],
             [
              0.5555555555555556,
              "#d8576b"
             ],
             [
              0.6666666666666666,
              "#ed7953"
             ],
             [
              0.7777777777777778,
              "#fb9f3a"
             ],
             [
              0.8888888888888888,
              "#fdca26"
             ],
             [
              1,
              "#f0f921"
             ]
            ],
            "type": "histogram2dcontour"
           }
          ],
          "mesh3d": [
           {
            "colorbar": {
             "outlinewidth": 0,
             "ticks": ""
            },
            "type": "mesh3d"
           }
          ],
          "parcoords": [
           {
            "line": {
             "colorbar": {
              "outlinewidth": 0,
              "ticks": ""
             }
            },
            "type": "parcoords"
           }
          ],
          "pie": [
           {
            "automargin": true,
            "type": "pie"
           }
          ],
          "scatter": [
           {
            "marker": {
             "line": {
              "color": "#283442"
             }
            },
            "type": "scatter"
           }
          ],
          "scatter3d": [
           {
            "line": {
             "colorbar": {
              "outlinewidth": 0,
              "ticks": ""
             }
            },
            "marker": {
             "colorbar": {
              "outlinewidth": 0,
              "ticks": ""
             }
            },
            "type": "scatter3d"
           }
          ],
          "scattercarpet": [
           {
            "marker": {
             "colorbar": {
              "outlinewidth": 0,
              "ticks": ""
             }
            },
            "type": "scattercarpet"
           }
          ],
          "scattergeo": [
           {
            "marker": {
             "colorbar": {
              "outlinewidth": 0,
              "ticks": ""
             }
            },
            "type": "scattergeo"
           }
          ],
          "scattergl": [
           {
            "marker": {
             "line": {
              "color": "#283442"
             }
            },
            "type": "scattergl"
           }
          ],
          "scattermapbox": [
           {
            "marker": {
             "colorbar": {
              "outlinewidth": 0,
              "ticks": ""
             }
            },
            "type": "scattermapbox"
           }
          ],
          "scatterpolar": [
           {
            "marker": {
             "colorbar": {
              "outlinewidth": 0,
              "ticks": ""
             }
            },
            "type": "scatterpolar"
           }
          ],
          "scatterpolargl": [
           {
            "marker": {
             "colorbar": {
              "outlinewidth": 0,
              "ticks": ""
             }
            },
            "type": "scatterpolargl"
           }
          ],
          "scatterternary": [
           {
            "marker": {
             "colorbar": {
              "outlinewidth": 0,
              "ticks": ""
             }
            },
            "type": "scatterternary"
           }
          ],
          "surface": [
           {
            "colorbar": {
             "outlinewidth": 0,
             "ticks": ""
            },
            "colorscale": [
             [
              0,
              "#0d0887"
             ],
             [
              0.1111111111111111,
              "#46039f"
             ],
             [
              0.2222222222222222,
              "#7201a8"
             ],
             [
              0.3333333333333333,
              "#9c179e"
             ],
             [
              0.4444444444444444,
              "#bd3786"
             ],
             [
              0.5555555555555556,
              "#d8576b"
             ],
             [
              0.6666666666666666,
              "#ed7953"
             ],
             [
              0.7777777777777778,
              "#fb9f3a"
             ],
             [
              0.8888888888888888,
              "#fdca26"
             ],
             [
              1,
              "#f0f921"
             ]
            ],
            "type": "surface"
           }
          ],
          "table": [
           {
            "cells": {
             "fill": {
              "color": "#506784"
             },
             "line": {
              "color": "rgb(17,17,17)"
             }
            },
            "header": {
             "fill": {
              "color": "#2a3f5f"
             },
             "line": {
              "color": "rgb(17,17,17)"
             }
            },
            "type": "table"
           }
          ]
         },
         "layout": {
          "annotationdefaults": {
           "arrowcolor": "#f2f5fa",
           "arrowhead": 0,
           "arrowwidth": 1
          },
          "autotypenumbers": "strict",
          "coloraxis": {
           "colorbar": {
            "outlinewidth": 0,
            "ticks": ""
           }
          },
          "colorscale": {
           "diverging": [
            [
             0,
             "#8e0152"
            ],
            [
             0.1,
             "#c51b7d"
            ],
            [
             0.2,
             "#de77ae"
            ],
            [
             0.3,
             "#f1b6da"
            ],
            [
             0.4,
             "#fde0ef"
            ],
            [
             0.5,
             "#f7f7f7"
            ],
            [
             0.6,
             "#e6f5d0"
            ],
            [
             0.7,
             "#b8e186"
            ],
            [
             0.8,
             "#7fbc41"
            ],
            [
             0.9,
             "#4d9221"
            ],
            [
             1,
             "#276419"
            ]
           ],
           "sequential": [
            [
             0,
             "#0d0887"
            ],
            [
             0.1111111111111111,
             "#46039f"
            ],
            [
             0.2222222222222222,
             "#7201a8"
            ],
            [
             0.3333333333333333,
             "#9c179e"
            ],
            [
             0.4444444444444444,
             "#bd3786"
            ],
            [
             0.5555555555555556,
             "#d8576b"
            ],
            [
             0.6666666666666666,
             "#ed7953"
            ],
            [
             0.7777777777777778,
             "#fb9f3a"
            ],
            [
             0.8888888888888888,
             "#fdca26"
            ],
            [
             1,
             "#f0f921"
            ]
           ],
           "sequentialminus": [
            [
             0,
             "#0d0887"
            ],
            [
             0.1111111111111111,
             "#46039f"
            ],
            [
             0.2222222222222222,
             "#7201a8"
            ],
            [
             0.3333333333333333,
             "#9c179e"
            ],
            [
             0.4444444444444444,
             "#bd3786"
            ],
            [
             0.5555555555555556,
             "#d8576b"
            ],
            [
             0.6666666666666666,
             "#ed7953"
            ],
            [
             0.7777777777777778,
             "#fb9f3a"
            ],
            [
             0.8888888888888888,
             "#fdca26"
            ],
            [
             1,
             "#f0f921"
            ]
           ]
          },
          "colorway": [
           "#636efa",
           "#EF553B",
           "#00cc96",
           "#ab63fa",
           "#FFA15A",
           "#19d3f3",
           "#FF6692",
           "#B6E880",
           "#FF97FF",
           "#FECB52"
          ],
          "font": {
           "color": "#f2f5fa"
          },
          "geo": {
           "bgcolor": "rgb(17,17,17)",
           "lakecolor": "rgb(17,17,17)",
           "landcolor": "rgb(17,17,17)",
           "showlakes": true,
           "showland": true,
           "subunitcolor": "#506784"
          },
          "hoverlabel": {
           "align": "left"
          },
          "hovermode": "closest",
          "mapbox": {
           "style": "dark"
          },
          "paper_bgcolor": "rgb(17,17,17)",
          "plot_bgcolor": "rgb(17,17,17)",
          "polar": {
           "angularaxis": {
            "gridcolor": "#506784",
            "linecolor": "#506784",
            "ticks": ""
           },
           "bgcolor": "rgb(17,17,17)",
           "radialaxis": {
            "gridcolor": "#506784",
            "linecolor": "#506784",
            "ticks": ""
           }
          },
          "scene": {
           "xaxis": {
            "backgroundcolor": "rgb(17,17,17)",
            "gridcolor": "#506784",
            "gridwidth": 2,
            "linecolor": "#506784",
            "showbackground": true,
            "ticks": "",
            "zerolinecolor": "#C8D4E3"
           },
           "yaxis": {
            "backgroundcolor": "rgb(17,17,17)",
            "gridcolor": "#506784",
            "gridwidth": 2,
            "linecolor": "#506784",
            "showbackground": true,
            "ticks": "",
            "zerolinecolor": "#C8D4E3"
           },
           "zaxis": {
            "backgroundcolor": "rgb(17,17,17)",
            "gridcolor": "#506784",
            "gridwidth": 2,
            "linecolor": "#506784",
            "showbackground": true,
            "ticks": "",
            "zerolinecolor": "#C8D4E3"
           }
          },
          "shapedefaults": {
           "line": {
            "color": "#f2f5fa"
           }
          },
          "sliderdefaults": {
           "bgcolor": "#C8D4E3",
           "bordercolor": "rgb(17,17,17)",
           "borderwidth": 1,
           "tickwidth": 0
          },
          "ternary": {
           "aaxis": {
            "gridcolor": "#506784",
            "linecolor": "#506784",
            "ticks": ""
           },
           "baxis": {
            "gridcolor": "#506784",
            "linecolor": "#506784",
            "ticks": ""
           },
           "bgcolor": "rgb(17,17,17)",
           "caxis": {
            "gridcolor": "#506784",
            "linecolor": "#506784",
            "ticks": ""
           }
          },
          "title": {
           "x": 0.05
          },
          "updatemenudefaults": {
           "bgcolor": "#506784",
           "borderwidth": 0
          },
          "xaxis": {
           "automargin": true,
           "gridcolor": "#283442",
           "linecolor": "#506784",
           "ticks": "",
           "title": {
            "standoff": 15
           },
           "zerolinecolor": "#283442",
           "zerolinewidth": 2
          },
          "yaxis": {
           "automargin": true,
           "gridcolor": "#283442",
           "linecolor": "#506784",
           "ticks": "",
           "title": {
            "standoff": 15
           },
           "zerolinecolor": "#283442",
           "zerolinewidth": 2
          }
         }
        },
        "title": {
         "text": "SOFR OIS Swap Spreads NY Close Curve"
        },
        "xaxis": {
         "showgrid": true,
         "showspikes": true,
         "spikecolor": "white",
         "spikemode": "across",
         "spikesnap": "cursor",
         "title": {
          "text": "Tenor"
         }
        },
        "yaxis": {
         "showgrid": true,
         "showspikes": true,
         "spikecolor": "white",
         "spikesnap": "cursor",
         "spikethickness": 0.5,
         "title": {
          "text": "Fixed Rate"
         }
        }
       }
      }
     },
     "metadata": {},
     "output_type": "display_data"
    }
   ],
   "source": [
    "as_of_dates = [datetime(2024, 1, 2), datetime(2024, 11, 1), datetime(2024, 11, 8), datetime(2024, 11, 15), datetime(2024, 11, 21)]\n",
    "\n",
    "fig = go.Figure()\n",
    "for curr in as_of_dates:\n",
    "    try:\n",
    "        spreads_dict = swap_spread_df[swap_spread_df.index == curr].to_dict(\"records\")[0]\n",
    "        fig.add_trace(\n",
    "            go.Scatter(x=[tenor_to_years(tenor) for tenor in spreads_dict.keys()], y=list(spreads_dict.values()), mode=\"lines\", name=f\"{curr.date()}\")\n",
    "        )\n",
    "    except Exception as e:\n",
    "        print(f\"{curr} NOT IN DB\", e)\n",
    "\n",
    "fig.update_layout(title=\"SOFR OIS Swap Spreads NY Close Curve\", xaxis_title=\"Tenor\", yaxis_title=\"Fixed Rate\", template=\"plotly_dark\", height=1000)\n",
    "fig.update_xaxes(\n",
    "    showgrid=True,\n",
    "    showspikes=True,\n",
    "    spikecolor=\"white\",\n",
    "    spikesnap=\"cursor\",\n",
    "    spikemode=\"across\",\n",
    ")\n",
    "fig.update_yaxes(showgrid=True, showspikes=True, spikecolor=\"white\", spikesnap=\"cursor\", spikethickness=0.5)\n",
    "fig.show()"
   ]
  },
  {
   "cell_type": "code",
   "execution_count": 21,
   "metadata": {},
   "outputs": [
    {
     "data": {
      "application/vnd.plotly.v1+json": {
       "config": {
        "plotlyServerURL": "https://plot.ly"
       },
       "data": [
        {
         "mode": "lines",
         "name": "2024-11-01",
         "type": "scatter",
         "x": [
          0.013888888888888888,
          0.030555555555555555,
          0.05,
          0.06944444444444445,
          0.09444444444444444,
          0.18333333333333332,
          0.26666666666666666,
          0.34444444444444444,
          0.4361111111111111,
          0.5138888888888888,
          0.7694444444444445,
          1.025,
          1.5277777777777777,
          2.0388888888888888,
          3.0527777777777776,
          4.072222222222222,
          5.083333333333333,
          6.097222222222222,
          7.111111111111111,
          8.127777777777778,
          9.147222222222222,
          10.158333333333333,
          12.186111111111112,
          15.233333333333333,
          20.308333333333334,
          25.375,
          30.447222222222223,
          40.59444444444444,
          50.73888888888889
         ],
         "y": [
          4.859999999999999,
          4.812516674681438,
          4.757604381993538,
          4.703318655423134,
          4.6319,
          4.587949999999999,
          4.540996619169175,
          4.494523762313422,
          4.448526511718908,
          4.403,
          4.3025593813450165,
          4.20441,
          4.0405999999999995,
          3.97125,
          3.8964499999999997,
          3.8730547646528306,
          3.8497999999999997,
          3.8441458479095205,
          3.8385000000000002,
          3.8247604101433588,
          3.81107,
          3.8696599999999997,
          3.8019900000000004,
          3.8885000000000005,
          3.8600000000000003,
          3.80157,
          3.7322,
          3.5229000000000004,
          3.325337444402766
         ]
        },
        {
         "mode": "lines",
         "name": "2024-11-22",
         "type": "scatter",
         "x": [
          0.013888888888888888,
          0.030555555555555555,
          0.05,
          0.06944444444444445,
          0.09444444444444444,
          0.18333333333333332,
          0.26666666666666666,
          0.34444444444444444,
          0.4361111111111111,
          0.5166666666666667,
          0.7694444444444445,
          1.025,
          1.5277777777777777,
          2.0416666666666665,
          3.0527777777777776,
          4.072222222222222,
          5.083333333333333,
          6.097222222222222,
          7.111111111111111,
          8.127777777777778,
          9.147222222222222,
          10.158333333333333,
          12.186111111111112,
          15.233333333333333,
          20.308333333333334,
          25.375,
          30.45,
          40.59444444444444,
          50.73888888888889
         ],
         "y": [
          4.569999999999999,
          4.6075,
          4.598739999999999,
          4.585471629609648,
          4.56784,
          4.547,
          4.5249999999999995,
          4.496386107765723,
          4.4679531558251,
          4.4397,
          4.382,
          4.340999999999999,
          4.20817,
          4.1563,
          4.05427,
          4.003416061815208,
          3.9532,
          3.933752163011797,
          3.9143999999999997,
          3.9101977443602514,
          3.9059999999999997,
          3.9034,
          3.9255,
          3.9412999999999996,
          3.933,
          3.8432100528074193,
          3.7554700000000003,
          3.5859534505212336,
          3.4240886358578653
         ]
        }
       ],
       "layout": {
        "height": 1000,
        "template": {
         "data": {
          "bar": [
           {
            "error_x": {
             "color": "#f2f5fa"
            },
            "error_y": {
             "color": "#f2f5fa"
            },
            "marker": {
             "line": {
              "color": "rgb(17,17,17)",
              "width": 0.5
             },
             "pattern": {
              "fillmode": "overlay",
              "size": 10,
              "solidity": 0.2
             }
            },
            "type": "bar"
           }
          ],
          "barpolar": [
           {
            "marker": {
             "line": {
              "color": "rgb(17,17,17)",
              "width": 0.5
             },
             "pattern": {
              "fillmode": "overlay",
              "size": 10,
              "solidity": 0.2
             }
            },
            "type": "barpolar"
           }
          ],
          "carpet": [
           {
            "aaxis": {
             "endlinecolor": "#A2B1C6",
             "gridcolor": "#506784",
             "linecolor": "#506784",
             "minorgridcolor": "#506784",
             "startlinecolor": "#A2B1C6"
            },
            "baxis": {
             "endlinecolor": "#A2B1C6",
             "gridcolor": "#506784",
             "linecolor": "#506784",
             "minorgridcolor": "#506784",
             "startlinecolor": "#A2B1C6"
            },
            "type": "carpet"
           }
          ],
          "choropleth": [
           {
            "colorbar": {
             "outlinewidth": 0,
             "ticks": ""
            },
            "type": "choropleth"
           }
          ],
          "contour": [
           {
            "colorbar": {
             "outlinewidth": 0,
             "ticks": ""
            },
            "colorscale": [
             [
              0,
              "#0d0887"
             ],
             [
              0.1111111111111111,
              "#46039f"
             ],
             [
              0.2222222222222222,
              "#7201a8"
             ],
             [
              0.3333333333333333,
              "#9c179e"
             ],
             [
              0.4444444444444444,
              "#bd3786"
             ],
             [
              0.5555555555555556,
              "#d8576b"
             ],
             [
              0.6666666666666666,
              "#ed7953"
             ],
             [
              0.7777777777777778,
              "#fb9f3a"
             ],
             [
              0.8888888888888888,
              "#fdca26"
             ],
             [
              1,
              "#f0f921"
             ]
            ],
            "type": "contour"
           }
          ],
          "contourcarpet": [
           {
            "colorbar": {
             "outlinewidth": 0,
             "ticks": ""
            },
            "type": "contourcarpet"
           }
          ],
          "heatmap": [
           {
            "colorbar": {
             "outlinewidth": 0,
             "ticks": ""
            },
            "colorscale": [
             [
              0,
              "#0d0887"
             ],
             [
              0.1111111111111111,
              "#46039f"
             ],
             [
              0.2222222222222222,
              "#7201a8"
             ],
             [
              0.3333333333333333,
              "#9c179e"
             ],
             [
              0.4444444444444444,
              "#bd3786"
             ],
             [
              0.5555555555555556,
              "#d8576b"
             ],
             [
              0.6666666666666666,
              "#ed7953"
             ],
             [
              0.7777777777777778,
              "#fb9f3a"
             ],
             [
              0.8888888888888888,
              "#fdca26"
             ],
             [
              1,
              "#f0f921"
             ]
            ],
            "type": "heatmap"
           }
          ],
          "heatmapgl": [
           {
            "colorbar": {
             "outlinewidth": 0,
             "ticks": ""
            },
            "colorscale": [
             [
              0,
              "#0d0887"
             ],
             [
              0.1111111111111111,
              "#46039f"
             ],
             [
              0.2222222222222222,
              "#7201a8"
             ],
             [
              0.3333333333333333,
              "#9c179e"
             ],
             [
              0.4444444444444444,
              "#bd3786"
             ],
             [
              0.5555555555555556,
              "#d8576b"
             ],
             [
              0.6666666666666666,
              "#ed7953"
             ],
             [
              0.7777777777777778,
              "#fb9f3a"
             ],
             [
              0.8888888888888888,
              "#fdca26"
             ],
             [
              1,
              "#f0f921"
             ]
            ],
            "type": "heatmapgl"
           }
          ],
          "histogram": [
           {
            "marker": {
             "pattern": {
              "fillmode": "overlay",
              "size": 10,
              "solidity": 0.2
             }
            },
            "type": "histogram"
           }
          ],
          "histogram2d": [
           {
            "colorbar": {
             "outlinewidth": 0,
             "ticks": ""
            },
            "colorscale": [
             [
              0,
              "#0d0887"
             ],
             [
              0.1111111111111111,
              "#46039f"
             ],
             [
              0.2222222222222222,
              "#7201a8"
             ],
             [
              0.3333333333333333,
              "#9c179e"
             ],
             [
              0.4444444444444444,
              "#bd3786"
             ],
             [
              0.5555555555555556,
              "#d8576b"
             ],
             [
              0.6666666666666666,
              "#ed7953"
             ],
             [
              0.7777777777777778,
              "#fb9f3a"
             ],
             [
              0.8888888888888888,
              "#fdca26"
             ],
             [
              1,
              "#f0f921"
             ]
            ],
            "type": "histogram2d"
           }
          ],
          "histogram2dcontour": [
           {
            "colorbar": {
             "outlinewidth": 0,
             "ticks": ""
            },
            "colorscale": [
             [
              0,
              "#0d0887"
             ],
             [
              0.1111111111111111,
              "#46039f"
             ],
             [
              0.2222222222222222,
              "#7201a8"
             ],
             [
              0.3333333333333333,
              "#9c179e"
             ],
             [
              0.4444444444444444,
              "#bd3786"
             ],
             [
              0.5555555555555556,
              "#d8576b"
             ],
             [
              0.6666666666666666,
              "#ed7953"
             ],
             [
              0.7777777777777778,
              "#fb9f3a"
             ],
             [
              0.8888888888888888,
              "#fdca26"
             ],
             [
              1,
              "#f0f921"
             ]
            ],
            "type": "histogram2dcontour"
           }
          ],
          "mesh3d": [
           {
            "colorbar": {
             "outlinewidth": 0,
             "ticks": ""
            },
            "type": "mesh3d"
           }
          ],
          "parcoords": [
           {
            "line": {
             "colorbar": {
              "outlinewidth": 0,
              "ticks": ""
             }
            },
            "type": "parcoords"
           }
          ],
          "pie": [
           {
            "automargin": true,
            "type": "pie"
           }
          ],
          "scatter": [
           {
            "marker": {
             "line": {
              "color": "#283442"
             }
            },
            "type": "scatter"
           }
          ],
          "scatter3d": [
           {
            "line": {
             "colorbar": {
              "outlinewidth": 0,
              "ticks": ""
             }
            },
            "marker": {
             "colorbar": {
              "outlinewidth": 0,
              "ticks": ""
             }
            },
            "type": "scatter3d"
           }
          ],
          "scattercarpet": [
           {
            "marker": {
             "colorbar": {
              "outlinewidth": 0,
              "ticks": ""
             }
            },
            "type": "scattercarpet"
           }
          ],
          "scattergeo": [
           {
            "marker": {
             "colorbar": {
              "outlinewidth": 0,
              "ticks": ""
             }
            },
            "type": "scattergeo"
           }
          ],
          "scattergl": [
           {
            "marker": {
             "line": {
              "color": "#283442"
             }
            },
            "type": "scattergl"
           }
          ],
          "scattermapbox": [
           {
            "marker": {
             "colorbar": {
              "outlinewidth": 0,
              "ticks": ""
             }
            },
            "type": "scattermapbox"
           }
          ],
          "scatterpolar": [
           {
            "marker": {
             "colorbar": {
              "outlinewidth": 0,
              "ticks": ""
             }
            },
            "type": "scatterpolar"
           }
          ],
          "scatterpolargl": [
           {
            "marker": {
             "colorbar": {
              "outlinewidth": 0,
              "ticks": ""
             }
            },
            "type": "scatterpolargl"
           }
          ],
          "scatterternary": [
           {
            "marker": {
             "colorbar": {
              "outlinewidth": 0,
              "ticks": ""
             }
            },
            "type": "scatterternary"
           }
          ],
          "surface": [
           {
            "colorbar": {
             "outlinewidth": 0,
             "ticks": ""
            },
            "colorscale": [
             [
              0,
              "#0d0887"
             ],
             [
              0.1111111111111111,
              "#46039f"
             ],
             [
              0.2222222222222222,
              "#7201a8"
             ],
             [
              0.3333333333333333,
              "#9c179e"
             ],
             [
              0.4444444444444444,
              "#bd3786"
             ],
             [
              0.5555555555555556,
              "#d8576b"
             ],
             [
              0.6666666666666666,
              "#ed7953"
             ],
             [
              0.7777777777777778,
              "#fb9f3a"
             ],
             [
              0.8888888888888888,
              "#fdca26"
             ],
             [
              1,
              "#f0f921"
             ]
            ],
            "type": "surface"
           }
          ],
          "table": [
           {
            "cells": {
             "fill": {
              "color": "#506784"
             },
             "line": {
              "color": "rgb(17,17,17)"
             }
            },
            "header": {
             "fill": {
              "color": "#2a3f5f"
             },
             "line": {
              "color": "rgb(17,17,17)"
             }
            },
            "type": "table"
           }
          ]
         },
         "layout": {
          "annotationdefaults": {
           "arrowcolor": "#f2f5fa",
           "arrowhead": 0,
           "arrowwidth": 1
          },
          "autotypenumbers": "strict",
          "coloraxis": {
           "colorbar": {
            "outlinewidth": 0,
            "ticks": ""
           }
          },
          "colorscale": {
           "diverging": [
            [
             0,
             "#8e0152"
            ],
            [
             0.1,
             "#c51b7d"
            ],
            [
             0.2,
             "#de77ae"
            ],
            [
             0.3,
             "#f1b6da"
            ],
            [
             0.4,
             "#fde0ef"
            ],
            [
             0.5,
             "#f7f7f7"
            ],
            [
             0.6,
             "#e6f5d0"
            ],
            [
             0.7,
             "#b8e186"
            ],
            [
             0.8,
             "#7fbc41"
            ],
            [
             0.9,
             "#4d9221"
            ],
            [
             1,
             "#276419"
            ]
           ],
           "sequential": [
            [
             0,
             "#0d0887"
            ],
            [
             0.1111111111111111,
             "#46039f"
            ],
            [
             0.2222222222222222,
             "#7201a8"
            ],
            [
             0.3333333333333333,
             "#9c179e"
            ],
            [
             0.4444444444444444,
             "#bd3786"
            ],
            [
             0.5555555555555556,
             "#d8576b"
            ],
            [
             0.6666666666666666,
             "#ed7953"
            ],
            [
             0.7777777777777778,
             "#fb9f3a"
            ],
            [
             0.8888888888888888,
             "#fdca26"
            ],
            [
             1,
             "#f0f921"
            ]
           ],
           "sequentialminus": [
            [
             0,
             "#0d0887"
            ],
            [
             0.1111111111111111,
             "#46039f"
            ],
            [
             0.2222222222222222,
             "#7201a8"
            ],
            [
             0.3333333333333333,
             "#9c179e"
            ],
            [
             0.4444444444444444,
             "#bd3786"
            ],
            [
             0.5555555555555556,
             "#d8576b"
            ],
            [
             0.6666666666666666,
             "#ed7953"
            ],
            [
             0.7777777777777778,
             "#fb9f3a"
            ],
            [
             0.8888888888888888,
             "#fdca26"
            ],
            [
             1,
             "#f0f921"
            ]
           ]
          },
          "colorway": [
           "#636efa",
           "#EF553B",
           "#00cc96",
           "#ab63fa",
           "#FFA15A",
           "#19d3f3",
           "#FF6692",
           "#B6E880",
           "#FF97FF",
           "#FECB52"
          ],
          "font": {
           "color": "#f2f5fa"
          },
          "geo": {
           "bgcolor": "rgb(17,17,17)",
           "lakecolor": "rgb(17,17,17)",
           "landcolor": "rgb(17,17,17)",
           "showlakes": true,
           "showland": true,
           "subunitcolor": "#506784"
          },
          "hoverlabel": {
           "align": "left"
          },
          "hovermode": "closest",
          "mapbox": {
           "style": "dark"
          },
          "paper_bgcolor": "rgb(17,17,17)",
          "plot_bgcolor": "rgb(17,17,17)",
          "polar": {
           "angularaxis": {
            "gridcolor": "#506784",
            "linecolor": "#506784",
            "ticks": ""
           },
           "bgcolor": "rgb(17,17,17)",
           "radialaxis": {
            "gridcolor": "#506784",
            "linecolor": "#506784",
            "ticks": ""
           }
          },
          "scene": {
           "xaxis": {
            "backgroundcolor": "rgb(17,17,17)",
            "gridcolor": "#506784",
            "gridwidth": 2,
            "linecolor": "#506784",
            "showbackground": true,
            "ticks": "",
            "zerolinecolor": "#C8D4E3"
           },
           "yaxis": {
            "backgroundcolor": "rgb(17,17,17)",
            "gridcolor": "#506784",
            "gridwidth": 2,
            "linecolor": "#506784",
            "showbackground": true,
            "ticks": "",
            "zerolinecolor": "#C8D4E3"
           },
           "zaxis": {
            "backgroundcolor": "rgb(17,17,17)",
            "gridcolor": "#506784",
            "gridwidth": 2,
            "linecolor": "#506784",
            "showbackground": true,
            "ticks": "",
            "zerolinecolor": "#C8D4E3"
           }
          },
          "shapedefaults": {
           "line": {
            "color": "#f2f5fa"
           }
          },
          "sliderdefaults": {
           "bgcolor": "#C8D4E3",
           "bordercolor": "rgb(17,17,17)",
           "borderwidth": 1,
           "tickwidth": 0
          },
          "ternary": {
           "aaxis": {
            "gridcolor": "#506784",
            "linecolor": "#506784",
            "ticks": ""
           },
           "baxis": {
            "gridcolor": "#506784",
            "linecolor": "#506784",
            "ticks": ""
           },
           "bgcolor": "rgb(17,17,17)",
           "caxis": {
            "gridcolor": "#506784",
            "linecolor": "#506784",
            "ticks": ""
           }
          },
          "title": {
           "x": 0.05
          },
          "updatemenudefaults": {
           "bgcolor": "#506784",
           "borderwidth": 0
          },
          "xaxis": {
           "automargin": true,
           "gridcolor": "#283442",
           "linecolor": "#506784",
           "ticks": "",
           "title": {
            "standoff": 15
           },
           "zerolinecolor": "#283442",
           "zerolinewidth": 2
          },
          "yaxis": {
           "automargin": true,
           "gridcolor": "#283442",
           "linecolor": "#506784",
           "ticks": "",
           "title": {
            "standoff": 15
           },
           "zerolinecolor": "#283442",
           "zerolinewidth": 2
          }
         }
        },
        "title": {
         "text": "SOFR OIS NY Close Curve"
        },
        "xaxis": {
         "showgrid": true,
         "showspikes": true,
         "spikecolor": "white",
         "spikemode": "across",
         "spikesnap": "cursor",
         "title": {
          "text": "Tenor"
         }
        },
        "yaxis": {
         "showgrid": true,
         "showspikes": true,
         "spikecolor": "white",
         "spikesnap": "cursor",
         "spikethickness": 0.5,
         "title": {
          "text": "Fixed Rate"
         }
        }
       }
      }
     },
     "metadata": {},
     "output_type": "display_data"
    }
   ],
   "source": [
    "as_of_dates = [datetime(2024, 11, 1), datetime(2024, 11, 22)]\n",
    "\n",
    "fig = go.Figure()\n",
    "for curr in as_of_dates:\n",
    "    try:\n",
    "        str_ts = str(int(curr.timestamp()))\n",
    "        ohlc_df = pd.DataFrame(curve_data_fetcher.dtcc_sdr_fetcher.s490_nyclose_db.get(str_ts)[\"ohlc\"])\n",
    "        ohlc_df[\"Expiry\"] = pd.to_numeric(ohlc_df[\"Expiry\"], errors=\"coerce\")\n",
    "        ohlc_df[\"Expiry\"] = pd.to_datetime(ohlc_df[\"Expiry\"], errors=\"coerce\", unit=\"s\")\n",
    "        fig.add_trace(go.Scatter(x=((ohlc_df[\"Expiry\"] - curr).dt.days / 360), y=ohlc_df[\"Close\"] * 100, mode=\"lines\", name=f\"{curr.date()}\"))\n",
    "    except:\n",
    "        print(f\"{curr} NOT IN DB\")\n",
    "\n",
    "fig.update_layout(title=\"SOFR OIS NY Close Curve\", xaxis_title=\"Tenor\", yaxis_title=\"Fixed Rate\", template=\"plotly_dark\", height=1000)\n",
    "fig.update_xaxes(\n",
    "    showgrid=True,\n",
    "    showspikes=True,\n",
    "    spikecolor=\"white\",\n",
    "    spikesnap=\"cursor\",\n",
    "    spikemode=\"across\",\n",
    ")\n",
    "fig.update_yaxes(showgrid=True, showspikes=True, spikecolor=\"white\", spikesnap=\"cursor\", spikethickness=0.5)\n",
    "fig.show()"
   ]
  },
  {
   "cell_type": "code",
   "execution_count": null,
   "metadata": {},
   "outputs": [],
   "source": []
  }
 ],
 "metadata": {
  "kernelspec": {
   "display_name": "curvycusipsdev",
   "language": "python",
   "name": "myenv"
  },
  "language_info": {
   "codemirror_mode": {
    "name": "ipython",
    "version": 3
   },
   "file_extension": ".py",
   "mimetype": "text/x-python",
   "name": "python",
   "nbconvert_exporter": "python",
   "pygments_lexer": "ipython3",
   "version": "3.13.0"
  }
 },
 "nbformat": 4,
 "nbformat_minor": 2
}
