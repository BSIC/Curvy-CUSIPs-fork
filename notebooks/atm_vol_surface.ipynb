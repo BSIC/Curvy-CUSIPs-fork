{
 "cells": [
  {
   "cell_type": "code",
   "execution_count": 1,
   "metadata": {},
   "outputs": [],
   "source": [
    "import sys\n",
    "sys.path.append(\"../\")"
   ]
  },
  {
   "cell_type": "code",
   "execution_count": 86,
   "metadata": {},
   "outputs": [
    {
     "name": "stdout",
     "output_type": "stream",
     "text": [
      "The autoreload extension is already loaded. To reload it, use:\n",
      "  %reload_ext autoreload\n"
     ]
    }
   ],
   "source": [
    "from CurvyCUSIPs.CurveDataFetcher import CurveDataFetcher\n",
    "from CurvyCUSIPs.CurveInterpolator import GeneralCurveInterpolator\n",
    "from CurvyCUSIPs.USTs import USTs\n",
    "from CurvyCUSIPs.S490Swaps import S490Swaps\n",
    "from CurvyCUSIPs.S490Swaptions import S490Swaptions\n",
    "\n",
    "from CurvyCUSIPs.utils.ust_viz import plot_usts\n",
    "from CurvyCUSIPs.HedgeHog import dv01_neutral_curve_hegde_ratio, beta_estimates\n",
    "from CurvyCUSIPs.utils.pca_utils import calc_pca_loadings_matrix\n",
    "from CurvyCUSIPs.utils.rv_utils import cusip_spread_rv_regression\n",
    "from CurvyCUSIPs.utils.ust_viz import plot_usts\n",
    "from CurvyCUSIPs.models.calibrate import calibrate_mles_ols, calibrate_nss_ols\n",
    "\n",
    "import requests\n",
    "import numpy as np\n",
    "import QuantLib as ql\n",
    "import pandas as pd\n",
    "import scipy.interpolate\n",
    "import requests\n",
    "from datetime import datetime\n",
    "from typing import Dict, List\n",
    "import ujson as json\n",
    "import matplotlib.pyplot as plt\n",
    "\n",
    "import tqdm\n",
    "import os\n",
    "from dotenv import dotenv_values\n",
    "env_path = os.path.join(os.getcwd(), \"../.env\")\n",
    "config = dotenv_values(env_path)\n",
    "\n",
    "import nest_asyncio\n",
    "nest_asyncio.apply()\n",
    "\n",
    "import warnings\n",
    "warnings.filterwarnings('ignore', category=FutureWarning)\n",
    "warnings.filterwarnings('ignore', category=pd.errors.SettingWithCopyWarning)\n",
    "\n",
    "%load_ext autoreload\n",
    "%autoreload 2"
   ]
  },
  {
   "cell_type": "code",
   "execution_count": 57,
   "metadata": {},
   "outputs": [
    {
     "name": "stderr",
     "output_type": "stream",
     "text": [
      "2024-12-22 16:01:19,918 - CurvyCUSIPs.S490Swaptions - INFO - Most recent date in db: 2024-12-20 00:00:00\n",
      "2024-12-22 16:01:19,924 - CurvyCUSIPs.S490Swaptions - INFO - Most recent date in db: 2024-12-20 00:00:00\n"
     ]
    }
   ],
   "source": [
    "s490_swaps = S490Swaps(s490_curve_db_path=r\"..\\db\\nyclose_sofr_ois\")\n",
    "s490_swaptions = S490Swaptions(s490_swaps, error_verbose=True)"
   ]
  },
  {
   "cell_type": "code",
   "execution_count": 141,
   "metadata": {},
   "outputs": [
    {
     "data": {
      "application/vnd.plotly.v1+json": {
       "config": {
        "plotlyServerURL": "https://plot.ly"
       },
       "data": [
        {
         "colorscale": [
          [
           0,
           "rgb(0,104,55)"
          ],
          [
           0.1,
           "rgb(26,152,80)"
          ],
          [
           0.2,
           "rgb(102,189,99)"
          ],
          [
           0.3,
           "rgb(166,217,106)"
          ],
          [
           0.4,
           "rgb(217,239,139)"
          ],
          [
           0.5,
           "rgb(255,255,191)"
          ],
          [
           0.6,
           "rgb(254,224,139)"
          ],
          [
           0.7,
           "rgb(253,174,97)"
          ],
          [
           0.8,
           "rgb(244,109,67)"
          ],
          [
           0.9,
           "rgb(215,48,39)"
          ],
          [
           1,
           "rgb(165,0,38)"
          ]
         ],
         "showscale": true,
         "type": "surface",
         "x": [
          [
           0,
           1,
           2,
           3,
           4,
           5,
           6,
           7,
           8,
           9,
           10
          ],
          [
           0,
           1,
           2,
           3,
           4,
           5,
           6,
           7,
           8,
           9,
           10
          ],
          [
           0,
           1,
           2,
           3,
           4,
           5,
           6,
           7,
           8,
           9,
           10
          ],
          [
           0,
           1,
           2,
           3,
           4,
           5,
           6,
           7,
           8,
           9,
           10
          ],
          [
           0,
           1,
           2,
           3,
           4,
           5,
           6,
           7,
           8,
           9,
           10
          ],
          [
           0,
           1,
           2,
           3,
           4,
           5,
           6,
           7,
           8,
           9,
           10
          ],
          [
           0,
           1,
           2,
           3,
           4,
           5,
           6,
           7,
           8,
           9,
           10
          ],
          [
           0,
           1,
           2,
           3,
           4,
           5,
           6,
           7,
           8,
           9,
           10
          ],
          [
           0,
           1,
           2,
           3,
           4,
           5,
           6,
           7,
           8,
           9,
           10
          ],
          [
           0,
           1,
           2,
           3,
           4,
           5,
           6,
           7,
           8,
           9,
           10
          ],
          [
           0,
           1,
           2,
           3,
           4,
           5,
           6,
           7,
           8,
           9,
           10
          ],
          [
           0,
           1,
           2,
           3,
           4,
           5,
           6,
           7,
           8,
           9,
           10
          ],
          [
           0,
           1,
           2,
           3,
           4,
           5,
           6,
           7,
           8,
           9,
           10
          ],
          [
           0,
           1,
           2,
           3,
           4,
           5,
           6,
           7,
           8,
           9,
           10
          ]
         ],
         "y": [
          [
           0,
           0,
           0,
           0,
           0,
           0,
           0,
           0,
           0,
           0,
           0
          ],
          [
           1,
           1,
           1,
           1,
           1,
           1,
           1,
           1,
           1,
           1,
           1
          ],
          [
           2,
           2,
           2,
           2,
           2,
           2,
           2,
           2,
           2,
           2,
           2
          ],
          [
           3,
           3,
           3,
           3,
           3,
           3,
           3,
           3,
           3,
           3,
           3
          ],
          [
           4,
           4,
           4,
           4,
           4,
           4,
           4,
           4,
           4,
           4,
           4
          ],
          [
           5,
           5,
           5,
           5,
           5,
           5,
           5,
           5,
           5,
           5,
           5
          ],
          [
           6,
           6,
           6,
           6,
           6,
           6,
           6,
           6,
           6,
           6,
           6
          ],
          [
           7,
           7,
           7,
           7,
           7,
           7,
           7,
           7,
           7,
           7,
           7
          ],
          [
           8,
           8,
           8,
           8,
           8,
           8,
           8,
           8,
           8,
           8,
           8
          ],
          [
           9,
           9,
           9,
           9,
           9,
           9,
           9,
           9,
           9,
           9,
           9
          ],
          [
           10,
           10,
           10,
           10,
           10,
           10,
           10,
           10,
           10,
           10,
           10
          ],
          [
           11,
           11,
           11,
           11,
           11,
           11,
           11,
           11,
           11,
           11,
           11
          ],
          [
           12,
           12,
           12,
           12,
           12,
           12,
           12,
           12,
           12,
           12,
           12
          ],
          [
           13,
           13,
           13,
           13,
           13,
           13,
           13,
           13,
           13,
           13,
           13
          ]
         ],
         "z": [
          [
           133.35408338139348,
           109.83170548989433,
           96.27662492551877,
           89.87295690400092,
           86.51067998082311,
           73.49897142137434,
           83.06497335959145,
           81.5919869920071,
           81.70542172070579,
           89.83250783781881,
           117.60808617729312
          ],
          [
           153.72809907976261,
           129.37049869433167,
           115.5713271363262,
           109.22654833581292,
           105.95871994159837,
           99.8506544795777,
           102.65404496565742,
           101.24086314609876,
           101.30211353270252,
           109.36954866452048,
           139.1800984143668
          ],
          [
           150.9620978624345,
           127.4917238045079,
           114.81857191808609,
           109.28135267721822,
           106.56924458926468,
           100.84608339335871,
           104.03977326231795,
           103.18080360932142,
           103.9953311395828,
           112.80559224849756,
           142.79387309457522
          ],
          [
           148.24586479276488,
           125.640233304265,
           114.07071964967481,
           109.33618451666199,
           107.18328702523208,
           101.85143591482728,
           105.4442075233933,
           105.15791650355564,
           106.76015061956386,
           116.34958540029453,
           146.50147848469186
          ],
          [
           145.57850440168951,
           123.81563095777966,
           113.32773839651841,
           109.39104386794152,
           107.80086751868146,
           102.86681097419125,
           106.86760026094187,
           107.17291411335525,
           109.59847557977281,
           120.00491955221068,
           150.30535087444161
          ],
          [
           143.37496104952697,
           121.84934890401792,
           111.74522022642104,
           108.10258040947186,
           106.71922833342136,
           101.92915053992103,
           106.07810107629696,
           106.59618684066714,
           109.32637618663755,
           120.09990288926353,
           150.5841914182892
          ],
          [
           141.20477154534368,
           119.91429283590142,
           110.18480047454081,
           106.82929313019476,
           105.64844196738274,
           101.00003714897485,
           105.29443442612492,
           106.02256309791304,
           109.0549523328229,
           120.19496140518699,
           150.86354925608822
          ],
          [
           139.06743102992098,
           118.00996686212218,
           108.64617055668771,
           105.57100327733835,
           104.58839952687273,
           100.07939289260553,
           104.51655722177027,
           105.45202618413472,
           108.78420234117216,
           120.29009515948488,
           151.14342534750205
          ],
          [
           136.96244228582208,
           116.135882966486,
           107.12902619776756,
           104.32753420357174,
           103.53899321080304,
           99.16714057222664,
           103.7444266929009,
           104.88455948824658,
           108.51412453869222,
           120.3853042117078,
           151.42382065397436
          ],
          [
           134.8893156217226,
           114.29156088284985,
           105.63306737160949,
           103.0987113422063,
           102.50011629972646,
           98.2632036929389,
           102.97800038515649,
           104.32014648855181,
           108.24471725654345,
           120.48058862145383,
           151.7047361387325
          ],
          [
           132.51699565448652,
           112.12755613215197,
           103.60736796338819,
           101.17495674884076,
           100.65218380757044,
           97.00912529218195,
           101.2434256206726,
           102.67200198199477,
           106.72395410676303,
           119.10793866622176,
           150.33322087304703
          ],
          [
           130.18639805792913,
           110.00452480525605,
           101.62051489556542,
           99.2870981592886,
           98.83756693122876,
           95.77105199380443,
           99.53806825798645,
           101.04989636059977,
           105.22455662374546,
           117.75092747837242,
           148.97410504967237
          ],
          [
           127.89678905404435,
           107.92169110836717,
           99.67176322140523,
           97.43446577757159,
           97.05566503714924,
           94.54877953362174,
           97.86143615540139,
           99.45341823838827,
           103.74622463470152,
           116.40937688353283,
           147.62727656911258
          ],
          [
           125.64744776989735,
           105.87829393662638,
           97.7603822798323,
           95.61640230566681,
           95.30588832035505,
           93.34210625435875,
           96.21304546091885,
           97.88216272883136,
           102.2886621840614,
           115.08311073729223,
           146.2926243453287
          ]
         ]
        }
       ],
       "layout": {
        "height": 750,
        "scene": {
         "aspectratio": {
          "x": 1,
          "y": 1,
          "z": 0.6
         },
         "xaxis": {
          "ticktext": [
           "-200",
           "-100",
           "-50",
           "-25",
           "-10",
           "0",
           "10",
           "25",
           "50",
           "100",
           "200"
          ],
          "tickvals": [
           0,
           1,
           2,
           3,
           4,
           5,
           6,
           7,
           8,
           9,
           10
          ],
          "title": {
           "text": "ATM Strike Offsets"
          }
         },
         "yaxis": {
          "ticktext": [
           "1Y",
           "2Y",
           "3Y",
           "4Y",
           "5Y",
           "6Y",
           "7Y",
           "8Y",
           "9Y",
           "10Y",
           "15Y",
           "20Y",
           "25Y",
           "30Y"
          ],
          "tickvals": [
           0,
           1,
           2,
           3,
           4,
           5,
           6,
           7,
           8,
           9,
           10,
           11,
           12,
           13
          ],
          "title": {
           "text": "Tail"
          }
         },
         "zaxis": {
          "title": {
           "text": "Normal Vol"
          }
         }
        },
        "template": {
         "data": {
          "bar": [
           {
            "error_x": {
             "color": "#f2f5fa"
            },
            "error_y": {
             "color": "#f2f5fa"
            },
            "marker": {
             "line": {
              "color": "rgb(17,17,17)",
              "width": 0.5
             },
             "pattern": {
              "fillmode": "overlay",
              "size": 10,
              "solidity": 0.2
             }
            },
            "type": "bar"
           }
          ],
          "barpolar": [
           {
            "marker": {
             "line": {
              "color": "rgb(17,17,17)",
              "width": 0.5
             },
             "pattern": {
              "fillmode": "overlay",
              "size": 10,
              "solidity": 0.2
             }
            },
            "type": "barpolar"
           }
          ],
          "carpet": [
           {
            "aaxis": {
             "endlinecolor": "#A2B1C6",
             "gridcolor": "#506784",
             "linecolor": "#506784",
             "minorgridcolor": "#506784",
             "startlinecolor": "#A2B1C6"
            },
            "baxis": {
             "endlinecolor": "#A2B1C6",
             "gridcolor": "#506784",
             "linecolor": "#506784",
             "minorgridcolor": "#506784",
             "startlinecolor": "#A2B1C6"
            },
            "type": "carpet"
           }
          ],
          "choropleth": [
           {
            "colorbar": {
             "outlinewidth": 0,
             "ticks": ""
            },
            "type": "choropleth"
           }
          ],
          "contour": [
           {
            "colorbar": {
             "outlinewidth": 0,
             "ticks": ""
            },
            "colorscale": [
             [
              0,
              "#0d0887"
             ],
             [
              0.1111111111111111,
              "#46039f"
             ],
             [
              0.2222222222222222,
              "#7201a8"
             ],
             [
              0.3333333333333333,
              "#9c179e"
             ],
             [
              0.4444444444444444,
              "#bd3786"
             ],
             [
              0.5555555555555556,
              "#d8576b"
             ],
             [
              0.6666666666666666,
              "#ed7953"
             ],
             [
              0.7777777777777778,
              "#fb9f3a"
             ],
             [
              0.8888888888888888,
              "#fdca26"
             ],
             [
              1,
              "#f0f921"
             ]
            ],
            "type": "contour"
           }
          ],
          "contourcarpet": [
           {
            "colorbar": {
             "outlinewidth": 0,
             "ticks": ""
            },
            "type": "contourcarpet"
           }
          ],
          "heatmap": [
           {
            "colorbar": {
             "outlinewidth": 0,
             "ticks": ""
            },
            "colorscale": [
             [
              0,
              "#0d0887"
             ],
             [
              0.1111111111111111,
              "#46039f"
             ],
             [
              0.2222222222222222,
              "#7201a8"
             ],
             [
              0.3333333333333333,
              "#9c179e"
             ],
             [
              0.4444444444444444,
              "#bd3786"
             ],
             [
              0.5555555555555556,
              "#d8576b"
             ],
             [
              0.6666666666666666,
              "#ed7953"
             ],
             [
              0.7777777777777778,
              "#fb9f3a"
             ],
             [
              0.8888888888888888,
              "#fdca26"
             ],
             [
              1,
              "#f0f921"
             ]
            ],
            "type": "heatmap"
           }
          ],
          "heatmapgl": [
           {
            "colorbar": {
             "outlinewidth": 0,
             "ticks": ""
            },
            "colorscale": [
             [
              0,
              "#0d0887"
             ],
             [
              0.1111111111111111,
              "#46039f"
             ],
             [
              0.2222222222222222,
              "#7201a8"
             ],
             [
              0.3333333333333333,
              "#9c179e"
             ],
             [
              0.4444444444444444,
              "#bd3786"
             ],
             [
              0.5555555555555556,
              "#d8576b"
             ],
             [
              0.6666666666666666,
              "#ed7953"
             ],
             [
              0.7777777777777778,
              "#fb9f3a"
             ],
             [
              0.8888888888888888,
              "#fdca26"
             ],
             [
              1,
              "#f0f921"
             ]
            ],
            "type": "heatmapgl"
           }
          ],
          "histogram": [
           {
            "marker": {
             "pattern": {
              "fillmode": "overlay",
              "size": 10,
              "solidity": 0.2
             }
            },
            "type": "histogram"
           }
          ],
          "histogram2d": [
           {
            "colorbar": {
             "outlinewidth": 0,
             "ticks": ""
            },
            "colorscale": [
             [
              0,
              "#0d0887"
             ],
             [
              0.1111111111111111,
              "#46039f"
             ],
             [
              0.2222222222222222,
              "#7201a8"
             ],
             [
              0.3333333333333333,
              "#9c179e"
             ],
             [
              0.4444444444444444,
              "#bd3786"
             ],
             [
              0.5555555555555556,
              "#d8576b"
             ],
             [
              0.6666666666666666,
              "#ed7953"
             ],
             [
              0.7777777777777778,
              "#fb9f3a"
             ],
             [
              0.8888888888888888,
              "#fdca26"
             ],
             [
              1,
              "#f0f921"
             ]
            ],
            "type": "histogram2d"
           }
          ],
          "histogram2dcontour": [
           {
            "colorbar": {
             "outlinewidth": 0,
             "ticks": ""
            },
            "colorscale": [
             [
              0,
              "#0d0887"
             ],
             [
              0.1111111111111111,
              "#46039f"
             ],
             [
              0.2222222222222222,
              "#7201a8"
             ],
             [
              0.3333333333333333,
              "#9c179e"
             ],
             [
              0.4444444444444444,
              "#bd3786"
             ],
             [
              0.5555555555555556,
              "#d8576b"
             ],
             [
              0.6666666666666666,
              "#ed7953"
             ],
             [
              0.7777777777777778,
              "#fb9f3a"
             ],
             [
              0.8888888888888888,
              "#fdca26"
             ],
             [
              1,
              "#f0f921"
             ]
            ],
            "type": "histogram2dcontour"
           }
          ],
          "mesh3d": [
           {
            "colorbar": {
             "outlinewidth": 0,
             "ticks": ""
            },
            "type": "mesh3d"
           }
          ],
          "parcoords": [
           {
            "line": {
             "colorbar": {
              "outlinewidth": 0,
              "ticks": ""
             }
            },
            "type": "parcoords"
           }
          ],
          "pie": [
           {
            "automargin": true,
            "type": "pie"
           }
          ],
          "scatter": [
           {
            "marker": {
             "line": {
              "color": "#283442"
             }
            },
            "type": "scatter"
           }
          ],
          "scatter3d": [
           {
            "line": {
             "colorbar": {
              "outlinewidth": 0,
              "ticks": ""
             }
            },
            "marker": {
             "colorbar": {
              "outlinewidth": 0,
              "ticks": ""
             }
            },
            "type": "scatter3d"
           }
          ],
          "scattercarpet": [
           {
            "marker": {
             "colorbar": {
              "outlinewidth": 0,
              "ticks": ""
             }
            },
            "type": "scattercarpet"
           }
          ],
          "scattergeo": [
           {
            "marker": {
             "colorbar": {
              "outlinewidth": 0,
              "ticks": ""
             }
            },
            "type": "scattergeo"
           }
          ],
          "scattergl": [
           {
            "marker": {
             "line": {
              "color": "#283442"
             }
            },
            "type": "scattergl"
           }
          ],
          "scattermapbox": [
           {
            "marker": {
             "colorbar": {
              "outlinewidth": 0,
              "ticks": ""
             }
            },
            "type": "scattermapbox"
           }
          ],
          "scatterpolar": [
           {
            "marker": {
             "colorbar": {
              "outlinewidth": 0,
              "ticks": ""
             }
            },
            "type": "scatterpolar"
           }
          ],
          "scatterpolargl": [
           {
            "marker": {
             "colorbar": {
              "outlinewidth": 0,
              "ticks": ""
             }
            },
            "type": "scatterpolargl"
           }
          ],
          "scatterternary": [
           {
            "marker": {
             "colorbar": {
              "outlinewidth": 0,
              "ticks": ""
             }
            },
            "type": "scatterternary"
           }
          ],
          "surface": [
           {
            "colorbar": {
             "outlinewidth": 0,
             "ticks": ""
            },
            "colorscale": [
             [
              0,
              "#0d0887"
             ],
             [
              0.1111111111111111,
              "#46039f"
             ],
             [
              0.2222222222222222,
              "#7201a8"
             ],
             [
              0.3333333333333333,
              "#9c179e"
             ],
             [
              0.4444444444444444,
              "#bd3786"
             ],
             [
              0.5555555555555556,
              "#d8576b"
             ],
             [
              0.6666666666666666,
              "#ed7953"
             ],
             [
              0.7777777777777778,
              "#fb9f3a"
             ],
             [
              0.8888888888888888,
              "#fdca26"
             ],
             [
              1,
              "#f0f921"
             ]
            ],
            "type": "surface"
           }
          ],
          "table": [
           {
            "cells": {
             "fill": {
              "color": "#506784"
             },
             "line": {
              "color": "rgb(17,17,17)"
             }
            },
            "header": {
             "fill": {
              "color": "#2a3f5f"
             },
             "line": {
              "color": "rgb(17,17,17)"
             }
            },
            "type": "table"
           }
          ]
         },
         "layout": {
          "annotationdefaults": {
           "arrowcolor": "#f2f5fa",
           "arrowhead": 0,
           "arrowwidth": 1
          },
          "autotypenumbers": "strict",
          "coloraxis": {
           "colorbar": {
            "outlinewidth": 0,
            "ticks": ""
           }
          },
          "colorscale": {
           "diverging": [
            [
             0,
             "#8e0152"
            ],
            [
             0.1,
             "#c51b7d"
            ],
            [
             0.2,
             "#de77ae"
            ],
            [
             0.3,
             "#f1b6da"
            ],
            [
             0.4,
             "#fde0ef"
            ],
            [
             0.5,
             "#f7f7f7"
            ],
            [
             0.6,
             "#e6f5d0"
            ],
            [
             0.7,
             "#b8e186"
            ],
            [
             0.8,
             "#7fbc41"
            ],
            [
             0.9,
             "#4d9221"
            ],
            [
             1,
             "#276419"
            ]
           ],
           "sequential": [
            [
             0,
             "#0d0887"
            ],
            [
             0.1111111111111111,
             "#46039f"
            ],
            [
             0.2222222222222222,
             "#7201a8"
            ],
            [
             0.3333333333333333,
             "#9c179e"
            ],
            [
             0.4444444444444444,
             "#bd3786"
            ],
            [
             0.5555555555555556,
             "#d8576b"
            ],
            [
             0.6666666666666666,
             "#ed7953"
            ],
            [
             0.7777777777777778,
             "#fb9f3a"
            ],
            [
             0.8888888888888888,
             "#fdca26"
            ],
            [
             1,
             "#f0f921"
            ]
           ],
           "sequentialminus": [
            [
             0,
             "#0d0887"
            ],
            [
             0.1111111111111111,
             "#46039f"
            ],
            [
             0.2222222222222222,
             "#7201a8"
            ],
            [
             0.3333333333333333,
             "#9c179e"
            ],
            [
             0.4444444444444444,
             "#bd3786"
            ],
            [
             0.5555555555555556,
             "#d8576b"
            ],
            [
             0.6666666666666666,
             "#ed7953"
            ],
            [
             0.7777777777777778,
             "#fb9f3a"
            ],
            [
             0.8888888888888888,
             "#fdca26"
            ],
            [
             1,
             "#f0f921"
            ]
           ]
          },
          "colorway": [
           "#636efa",
           "#EF553B",
           "#00cc96",
           "#ab63fa",
           "#FFA15A",
           "#19d3f3",
           "#FF6692",
           "#B6E880",
           "#FF97FF",
           "#FECB52"
          ],
          "font": {
           "color": "#f2f5fa"
          },
          "geo": {
           "bgcolor": "rgb(17,17,17)",
           "lakecolor": "rgb(17,17,17)",
           "landcolor": "rgb(17,17,17)",
           "showlakes": true,
           "showland": true,
           "subunitcolor": "#506784"
          },
          "hoverlabel": {
           "align": "left"
          },
          "hovermode": "closest",
          "mapbox": {
           "style": "dark"
          },
          "paper_bgcolor": "rgb(17,17,17)",
          "plot_bgcolor": "rgb(17,17,17)",
          "polar": {
           "angularaxis": {
            "gridcolor": "#506784",
            "linecolor": "#506784",
            "ticks": ""
           },
           "bgcolor": "rgb(17,17,17)",
           "radialaxis": {
            "gridcolor": "#506784",
            "linecolor": "#506784",
            "ticks": ""
           }
          },
          "scene": {
           "xaxis": {
            "backgroundcolor": "rgb(17,17,17)",
            "gridcolor": "#506784",
            "gridwidth": 2,
            "linecolor": "#506784",
            "showbackground": true,
            "ticks": "",
            "zerolinecolor": "#C8D4E3"
           },
           "yaxis": {
            "backgroundcolor": "rgb(17,17,17)",
            "gridcolor": "#506784",
            "gridwidth": 2,
            "linecolor": "#506784",
            "showbackground": true,
            "ticks": "",
            "zerolinecolor": "#C8D4E3"
           },
           "zaxis": {
            "backgroundcolor": "rgb(17,17,17)",
            "gridcolor": "#506784",
            "gridwidth": 2,
            "linecolor": "#506784",
            "showbackground": true,
            "ticks": "",
            "zerolinecolor": "#C8D4E3"
           }
          },
          "shapedefaults": {
           "line": {
            "color": "#f2f5fa"
           }
          },
          "sliderdefaults": {
           "bgcolor": "#C8D4E3",
           "bordercolor": "rgb(17,17,17)",
           "borderwidth": 1,
           "tickwidth": 0
          },
          "ternary": {
           "aaxis": {
            "gridcolor": "#506784",
            "linecolor": "#506784",
            "ticks": ""
           },
           "baxis": {
            "gridcolor": "#506784",
            "linecolor": "#506784",
            "ticks": ""
           },
           "bgcolor": "rgb(17,17,17)",
           "caxis": {
            "gridcolor": "#506784",
            "linecolor": "#506784",
            "ticks": ""
           }
          },
          "title": {
           "x": 0.05
          },
          "updatemenudefaults": {
           "bgcolor": "#506784",
           "borderwidth": 0
          },
          "xaxis": {
           "automargin": true,
           "gridcolor": "#283442",
           "linecolor": "#506784",
           "ticks": "",
           "title": {
            "standoff": 15
           },
           "zerolinecolor": "#283442",
           "zerolinewidth": 2
          },
          "yaxis": {
           "automargin": true,
           "gridcolor": "#283442",
           "linecolor": "#506784",
           "ticks": "",
           "title": {
            "standoff": 15
           },
           "zerolinecolor": "#283442",
           "zerolinewidth": 2
          }
         }
        },
        "title": {
         "text": "2024-12-20 1M Expiry, Tail-Strike Vol Surface"
        },
        "width": 1250,
        "xaxis": {
         "showspikes": true,
         "spikecolor": "white",
         "spikemode": "across",
         "spikesnap": "cursor"
        },
        "yaxis": {
         "showspikes": true,
         "spikecolor": "white",
         "spikesnap": "cursor",
         "spikethickness": 0.5
        }
       }
      }
     },
     "metadata": {},
     "output_type": "display_data"
    }
   ],
   "source": [
    "date = datetime(2024, 12, 20)\n",
    "atm_surfaces = s490_swaptions.get_vol_surfaces(date=date, expiry=\"1M\", plot_surfaces=True, use_ploty=True)\n",
    "atm_df = atm_surfaces[date]"
   ]
  },
  {
   "cell_type": "code",
   "execution_count": 146,
   "metadata": {},
   "outputs": [
    {
     "name": "stderr",
     "output_type": "stream",
     "text": [
      "FETCHING VOL TIMESERIES: 100%|██████████| 139/139 [00:00<00:00, 313.68it/s]\n",
      "2024-12-24 23:02:35,724 - CurvyCUSIPs.S490Swaptions - WARNING - ATM Vol Timeseries Errors Report: \n",
      "2024-12-24 23:02:35,725 - CurvyCUSIPs.S490Swaptions - WARNING -         Date          Error\n",
      "0 2024-11-22  b'2024-11-22'\n",
      "1 2024-11-26  b'2024-11-26'\n",
      "2 2024-12-03  b'2024-12-03'\n"
     ]
    },
    {
     "data": {
      "image/png": "[encoded data removed]",
      "text/plain": [
       "<Figure size 1200x800 with 1 Axes>"
      ]
     },
     "metadata": {},
     "output_type": "display_data"
    },
    {
     "data": {
      "text/plain": [
       "{'3Mx10Y_ATM':           Date  Normal Vol  Bpvol\n",
       " 0   2024-06-03   93.818341   5.91\n",
       " 1   2024-06-04   96.834498   6.10\n",
       " 2   2024-06-05   98.263204   6.19\n",
       " 3   2024-06-06   99.215674   6.25\n",
       " 4   2024-06-07   96.834498   6.10\n",
       " ..         ...         ...    ...\n",
       " 131 2024-12-16   96.199518   6.06\n",
       " 132 2024-12-17   96.675753   6.09\n",
       " 133 2024-12-18   97.628223   6.15\n",
       " 134 2024-12-19  101.279360   6.38\n",
       " 135 2024-12-20  102.549321   6.46\n",
       " \n",
       " [136 rows x 3 columns],\n",
       " '3Mx10Y_+100':           Date  Normal Vol     Bpvol\n",
       " 0   2024-06-03  114.925910  7.239652\n",
       " 1   2024-06-04  116.513388  7.339654\n",
       " 2   2024-06-05  117.148368  7.379654\n",
       " 3   2024-06-06  116.989605  7.369652\n",
       " 4   2024-06-07  116.195916  7.319655\n",
       " ..         ...         ...       ...\n",
       " 131 2024-12-16  113.338572  7.139659\n",
       " 132 2024-12-17  113.814762  7.169656\n",
       " 133 2024-12-18  114.926081  7.239663\n",
       " 134 2024-12-19  117.466008  7.399663\n",
       " 135 2024-12-20  117.783429  7.419659\n",
       " \n",
       " [136 rows x 3 columns]}"
      ]
     },
     "execution_count": 146,
     "metadata": {},
     "output_type": "execute_result"
    }
   ],
   "source": [
    "s490_swaptions.get_vol_timeseries(\n",
    "    tenor_strike_pairs=[(\"3Mx10Y\", 0), (\"3Mx10Y\", 100)], start_date=datetime(2024, 6, 1), end_date=datetime(2024, 12, 20), plot_timeseries=True\n",
    ")"
   ]
  },
  {
   "cell_type": "code",
   "execution_count": null,
   "metadata": {},
   "outputs": [],
   "source": []
  }
 ],
 "metadata": {
  "kernelspec": {
   "display_name": "Python 3",
   "language": "python",
   "name": "python3"
  },
  "language_info": {
   "codemirror_mode": {
    "name": "ipython",
    "version": 3
   },
   "file_extension": ".py",
   "mimetype": "text/x-python",
   "name": "python",
   "nbconvert_exporter": "python",
   "pygments_lexer": "ipython3",
   "version": "3.13.0"
  }
 },
 "nbformat": 4,
 "nbformat_minor": 2
}
