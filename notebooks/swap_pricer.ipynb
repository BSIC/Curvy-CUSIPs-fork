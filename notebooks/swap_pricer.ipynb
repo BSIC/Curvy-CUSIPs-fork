{
 "cells": [
  {
   "cell_type": "code",
   "execution_count": 2,
   "metadata": {},
   "outputs": [],
   "source": [
    "import sys\n",
    "sys.path.append(\"../\")"
   ]
  },
  {
   "cell_type": "code",
   "execution_count": 3,
   "metadata": {},
   "outputs": [],
   "source": [
    "import QuantLib as ql\n",
    "import numpy as np\n",
    "import pandas as pd\n",
    "from datetime import datetime, timedelta \n",
    "from typing import Dict\n",
    "from pandas.tseries.offsets import CustomBusinessDay \n",
    "from pandas.tseries.holiday import USFederalHolidayCalendar\n",
    "\n",
    "from CurvyCUSIPs.CurveInterpolator import GeneralCurveInterpolator\n",
    "from CurvyCUSIPs.CurveDataFetcher import CurveDataFetcher\n",
    "from CurvyCUSIPs.USTs import USTs\n",
    "from CurvyCUSIPs.S490Swaps import S490Swaps\n",
    "from CurvyCUSIPs.S490Swaptions import S490Swaptions \n",
    "from CurvyCUSIPs.utils.dtcc_swaps_utils import datetime_to_ql_date, ql_date_to_datetime\n",
    "from CurvyCUSIPs.utils.regression_utils import run_multiple_linear_regression_df, run_basic_linear_regression_df\n",
    "\n",
    "from CurvyCUSIPs.HedgeHog.beta import beta_estimates\n",
    "from CurvyCUSIPs.HedgeHog.usts import dv01_neutral_curve_hedge_ratio, dv01_neutral_butterfly_hedge_ratio\n",
    "import CurvyCUSIPs.HedgeHog.swaps as hh_swaps\n",
    "import CurvyCUSIPs.HedgeHog.swaptions as hh_swaptions\n",
    "\n",
    "import os\n",
    "from dotenv import dotenv_values\n",
    "env_path = os.path.join(os.getcwd(), \"../.env\")\n",
    "config = dotenv_values(env_path)\n",
    "\n",
    "import matplotlib.pyplot as plt\n",
    "import matplotlib.pylab as pylab\n",
    "plt.style.use('ggplot')\n",
    "params = {'legend.fontsize': 'large',\n",
    "        'figure.figsize': (15, 9),\n",
    "        'axes.labelsize': 'large',\n",
    "        'axes.titlesize':'large',\n",
    "        'xtick.labelsize':'large',\n",
    "        'ytick.labelsize':'large'}\n",
    "pylab.rcParams.update(params)\n",
    "\n",
    "import nest_asyncio\n",
    "nest_asyncio.apply()\n",
    "\n",
    "%load_ext autoreload\n",
    "%autoreload 2"
   ]
  },
  {
   "cell_type": "code",
   "execution_count": 4,
   "metadata": {},
   "outputs": [],
   "source": [
    "curve_data_fetcher = CurveDataFetcher()"
   ]
  },
  {
   "cell_type": "code",
   "execution_count": 5,
   "metadata": {},
   "outputs": [],
   "source": [
    "s490_swaps = S490Swaps(s490_curve_db_path=r\"..\\db\\nyclose_sofr_ois\", curve_data_fetcher=curve_data_fetcher)\n",
    "\n",
    "start_date = datetime(2021, 1, 7)\n",
    "end_date = datetime(2025, 1, 7)\n",
    "bdates = pd.date_range(start=start_date, end=end_date, freq=CustomBusinessDay(calendar=USFederalHolidayCalendar()))"
   ]
  },
  {
   "cell_type": "code",
   "execution_count": 6,
   "metadata": {},
   "outputs": [
    {
     "name": "stderr",
     "output_type": "stream",
     "text": [
      "Building Implied Fwd Curves...: 100%|██████████| 1000/1000 [00:15<00:00, 64.15it/s]\n"
     ]
    }
   ],
   "source": [
    "fwd_tenors = [\"1M\", \"3M\", \"6M\", \"9M\", \"12M\", \"18M\", \"2Y\", \"3Y\", \"4Y\", \"5Y\", \"6Y\", \"7Y\", \"8Y\", \"9Y\", \"10Y\"]\n",
    "fwd_grid_dict, ql_curves = s490_swaps.s490_nyclose_fwd_curve_matrices(\n",
    "    start_date=start_date,\n",
    "    end_date=end_date,\n",
    "    ql_piecewise_method=\"logLinearDiscount\",\n",
    "    fwd_tenors=fwd_tenors,\n",
    ")"
   ]
  },
  {
   "cell_type": "markdown",
   "metadata": {},
   "source": [
    "# Rec Fixed 10MM in 3M Fwd 10Y on 07/22/2024:"
   ]
  },
  {
   "cell_type": "markdown",
   "metadata": {},
   "source": [
    "<img src=\"../dump/j7DRPYFd.png\" alt=\"drawing\" height=\"750\"/>\n"
   ]
  },
  {
   "cell_type": "markdown",
   "metadata": {},
   "source": [
    "## Grab Market Data and Discount Curve on July 22, 2024:"
   ]
  },
  {
   "cell_type": "code",
   "execution_count": 116,
   "metadata": {},
   "outputs": [],
   "source": [
    "date = datetime(2024, 7, 22)\n",
    "fwd_grid_df = fwd_grid_dict[date]\n",
    "ql_curve = ql_curves[date]"
   ]
  },
  {
   "cell_type": "code",
   "execution_count": 106,
   "metadata": {},
   "outputs": [],
   "source": [
    "tenor = \"3M Fwd 10Y\" \n",
    "\n",
    "split = tenor.split(\" Fwd \")\n",
    "if len(split) == 1:\n",
    "    fwd_tenor = \"Spot\"\n",
    "    swap_tenor = split[0]\n",
    "else:\n",
    "    fwd_tenor, swap_tenor = split\n",
    "    fwd_tenor = f\"{fwd_tenor} Fwd\" \n",
    "\n",
    "book = [\n",
    "    hh_swaps.SwapLeg(\n",
    "        trade_date=date,\n",
    "        original_tenor=tenor,\n",
    "        original_fixed_rate=fwd_grid_df[fwd_grid_df[\"Tenor\"] == swap_tenor][fwd_tenor].iloc[-1] / 100,\n",
    "        weighting=1,\n",
    "        key=tenor,\n",
    "        notional=10_000_000,\n",
    "        type=\"receiver\",\n",
    "    )\n",
    "]"
   ]
  },
  {
   "cell_type": "code",
   "execution_count": 107,
   "metadata": {},
   "outputs": [
    {
     "data": {
      "text/plain": [
       "{'total_carry_and_roll': None,\n",
       " 'bps_running': {'3M Fwd 10Y': {'roll': {'30D': 0.634625314846482,\n",
       "    '60D': 0.7257397027591456,\n",
       "    '90D': 0.799814266251378,\n",
       "    '180D': 0.9943627782366127,\n",
       "    '360D': 0.9238772081486546},\n",
       "   'carry': {'30D': -2.9103069650918827,\n",
       "    '60D': -5.087261709264476,\n",
       "    '90D': -6.4682227394241565,\n",
       "    '180D': -9.724101969037571,\n",
       "    '360D': -10.375495786819691}}},\n",
       " 'book': {'3M Fwd 10Y': <QuantLib.QuantLib.OvernightIndexedSwap; proxy of <Swig Object of type 'ext::shared_ptr< OvernightIndexedSwap > *' at 0x00000223D52B0C00> >},\n",
       " 'book_bps': 8171.56263893661}"
      ]
     },
     "execution_count": 107,
     "metadata": {},
     "output_type": "execute_result"
    }
   ],
   "source": [
    "swap_book_metrics = hh_swaps.book_metrics(swap_portfolio=book, ql_curve=ql_curve, ql_yts=s490_swaps._ql_yts, ql_sofr=s490_swaps._ql_sofr)\n",
    "swap_book_metrics"
   ]
  },
  {
   "cell_type": "code",
   "execution_count": 108,
   "metadata": {},
   "outputs": [],
   "source": [
    "ql_ois: ql.OvernightIndexedSwap = swap_book_metrics[\"book\"][\"3M Fwd 10Y\"]"
   ]
  },
  {
   "cell_type": "code",
   "execution_count": 115,
   "metadata": {},
   "outputs": [
    {
     "data": {
      "text/plain": [
       "(-5667.32176798908,\n",
       " -3085031.7462708508,\n",
       " 3079364.4245028617,\n",
       " -3085031.7462708508,\n",
       " -3085031.7462708508,\n",
       " 8171.56263893661)"
      ]
     },
     "execution_count": 115,
     "metadata": {},
     "output_type": "execute_result"
    }
   ],
   "source": [
    "ql.Settings.instance().evaluationDate = datetime_to_ql_date(datetime(2024, 7, 22)) \n",
    "ql_ois.NPV(), ql_ois.legNPV(1), ql_ois.fixedLegNPV(), ql_ois.floatingLegNPV(), ql_ois.overnightLegNPV(), ql_ois.fixedLegBPS()"
   ]
  },
  {
   "cell_type": "code",
   "execution_count": 114,
   "metadata": {},
   "outputs": [
    {
     "data": {
      "text/html": [
       "<style type=\"text/css\">\n",
       "</style>\n",
       "<table id=\"T_57826\">\n",
       "  <thead>\n",
       "    <tr>\n",
       "      <th class=\"blank level0\" >&nbsp;</th>\n",
       "      <th id=\"T_57826_level0_col0\" class=\"col_heading level0 col0\" >date</th>\n",
       "      <th id=\"T_57826_level0_col1\" class=\"col_heading level0 col1\" >nominal</th>\n",
       "      <th id=\"T_57826_level0_col2\" class=\"col_heading level0 col2\" >rate</th>\n",
       "      <th id=\"T_57826_level0_col3\" class=\"col_heading level0 col3\" >tenor</th>\n",
       "      <th id=\"T_57826_level0_col4\" class=\"col_heading level0 col4\" >amount</th>\n",
       "      <th id=\"T_57826_level0_col5\" class=\"col_heading level0 col5\" >price</th>\n",
       "    </tr>\n",
       "  </thead>\n",
       "  <tbody>\n",
       "    <tr>\n",
       "      <th id=\"T_57826_level0_row0\" class=\"row_heading level0 row0\" >0</th>\n",
       "      <td id=\"T_57826_row0_col0\" class=\"data row0 col0\" >October 28th, 2025</td>\n",
       "      <td id=\"T_57826_row0_col1\" class=\"data row0 col1\" >10000000</td>\n",
       "      <td id=\"T_57826_row0_col2\" class=\"data row0 col2\" >4.43%</td>\n",
       "      <td id=\"T_57826_row0_col3\" class=\"data row0 col3\" >1.013889</td>\n",
       "      <td id=\"T_57826_row0_col4\" class=\"data row0 col4\" >448943.33</td>\n",
       "      <td id=\"T_57826_row0_col5\" class=\"data row0 col5\" >423651.463608</td>\n",
       "    </tr>\n",
       "    <tr>\n",
       "      <th id=\"T_57826_level0_row1\" class=\"row_heading level0 row1\" >1</th>\n",
       "      <td id=\"T_57826_row1_col0\" class=\"data row1 col0\" >October 28th, 2026</td>\n",
       "      <td id=\"T_57826_row1_col1\" class=\"data row1 col1\" >10000000</td>\n",
       "      <td id=\"T_57826_row1_col2\" class=\"data row1 col2\" >3.76%</td>\n",
       "      <td id=\"T_57826_row1_col3\" class=\"data row1 col3\" >1.019444</td>\n",
       "      <td id=\"T_57826_row1_col4\" class=\"data row1 col4\" >383421.15</td>\n",
       "      <td id=\"T_57826_row1_col5\" class=\"data row1 col5\" >348534.633663</td>\n",
       "    </tr>\n",
       "    <tr>\n",
       "      <th id=\"T_57826_level0_row2\" class=\"row_heading level0 row2\" >2</th>\n",
       "      <td id=\"T_57826_row2_col0\" class=\"data row2 col0\" >October 27th, 2027</td>\n",
       "      <td id=\"T_57826_row2_col1\" class=\"data row2 col1\" >10000000</td>\n",
       "      <td id=\"T_57826_row2_col2\" class=\"data row2 col2\" >3.55%</td>\n",
       "      <td id=\"T_57826_row2_col3\" class=\"data row2 col3\" >1.011111</td>\n",
       "      <td id=\"T_57826_row2_col4\" class=\"data row2 col4\" >358924.00</td>\n",
       "      <td id=\"T_57826_row2_col5\" class=\"data row2 col5\" >314962.190472</td>\n",
       "    </tr>\n",
       "    <tr>\n",
       "      <th id=\"T_57826_level0_row3\" class=\"row_heading level0 row3\" >3</th>\n",
       "      <td id=\"T_57826_row3_col0\" class=\"data row3 col0\" >October 26th, 2028</td>\n",
       "      <td id=\"T_57826_row3_col1\" class=\"data row3 col1\" >10000000</td>\n",
       "      <td id=\"T_57826_row3_col2\" class=\"data row3 col2\" >3.54%</td>\n",
       "      <td id=\"T_57826_row3_col3\" class=\"data row3 col3\" >1.013889</td>\n",
       "      <td id=\"T_57826_row3_col4\" class=\"data row3 col4\" >358604.04</td>\n",
       "      <td id=\"T_57826_row3_col5\" class=\"data row3 col5\" >303786.860966</td>\n",
       "    </tr>\n",
       "    <tr>\n",
       "      <th id=\"T_57826_level0_row4\" class=\"row_heading level0 row4\" >4</th>\n",
       "      <td id=\"T_57826_row4_col0\" class=\"data row4 col0\" >October 26th, 2029</td>\n",
       "      <td id=\"T_57826_row4_col1\" class=\"data row4 col1\" >10000000</td>\n",
       "      <td id=\"T_57826_row4_col2\" class=\"data row4 col2\" >3.59%</td>\n",
       "      <td id=\"T_57826_row4_col3\" class=\"data row4 col3\" >1.013889</td>\n",
       "      <td id=\"T_57826_row4_col4\" class=\"data row4 col4\" >363736.18</td>\n",
       "      <td id=\"T_57826_row4_col5\" class=\"data row4 col5\" >297318.484365</td>\n",
       "    </tr>\n",
       "    <tr>\n",
       "      <th id=\"T_57826_level0_row5\" class=\"row_heading level0 row5\" >5</th>\n",
       "      <td id=\"T_57826_row5_col0\" class=\"data row5 col0\" >October 28th, 2030</td>\n",
       "      <td id=\"T_57826_row5_col1\" class=\"data row5 col1\" >10000000</td>\n",
       "      <td id=\"T_57826_row5_col2\" class=\"data row5 col2\" >3.66%</td>\n",
       "      <td id=\"T_57826_row5_col3\" class=\"data row5 col3\" >1.013889</td>\n",
       "      <td id=\"T_57826_row5_col4\" class=\"data row5 col4\" >371283.82</td>\n",
       "      <td id=\"T_57826_row5_col5\" class=\"data row5 col5\" >292563.960023</td>\n",
       "    </tr>\n",
       "    <tr>\n",
       "      <th id=\"T_57826_level0_row6\" class=\"row_heading level0 row6\" >6</th>\n",
       "      <td id=\"T_57826_row6_col0\" class=\"data row6 col0\" >October 28th, 2031</td>\n",
       "      <td id=\"T_57826_row6_col1\" class=\"data row6 col1\" >10000000</td>\n",
       "      <td id=\"T_57826_row6_col2\" class=\"data row6 col2\" >3.72%</td>\n",
       "      <td id=\"T_57826_row6_col3\" class=\"data row6 col3\" >1.013889</td>\n",
       "      <td id=\"T_57826_row6_col4\" class=\"data row6 col4\" >376803.53</td>\n",
       "      <td id=\"T_57826_row6_col5\" class=\"data row6 col5\" >286128.177612</td>\n",
       "    </tr>\n",
       "    <tr>\n",
       "      <th id=\"T_57826_level0_row7\" class=\"row_heading level0 row7\" >7</th>\n",
       "      <td id=\"T_57826_row7_col0\" class=\"data row7 col0\" >October 27th, 2032</td>\n",
       "      <td id=\"T_57826_row7_col1\" class=\"data row7 col1\" >10000000</td>\n",
       "      <td id=\"T_57826_row7_col2\" class=\"data row7 col2\" >3.81%</td>\n",
       "      <td id=\"T_57826_row7_col3\" class=\"data row7 col3\" >1.019444</td>\n",
       "      <td id=\"T_57826_row7_col4\" class=\"data row7 col4\" >388006.03</td>\n",
       "      <td id=\"T_57826_row7_col5\" class=\"data row7 col5\" >283688.704476</td>\n",
       "    </tr>\n",
       "    <tr>\n",
       "      <th id=\"T_57826_level0_row8\" class=\"row_heading level0 row8\" >8</th>\n",
       "      <td id=\"T_57826_row8_col0\" class=\"data row8 col0\" >October 26th, 2033</td>\n",
       "      <td id=\"T_57826_row8_col1\" class=\"data row8 col1\" >10000000</td>\n",
       "      <td id=\"T_57826_row8_col2\" class=\"data row8 col2\" >3.81%</td>\n",
       "      <td id=\"T_57826_row8_col3\" class=\"data row8 col3\" >1.011111</td>\n",
       "      <td id=\"T_57826_row8_col4\" class=\"data row8 col4\" >384774.07</td>\n",
       "      <td id=\"T_57826_row8_col5\" class=\"data row8 col5\" >270902.063785</td>\n",
       "    </tr>\n",
       "    <tr>\n",
       "      <th id=\"T_57826_level0_row9\" class=\"row_heading level0 row9\" >9</th>\n",
       "      <td id=\"T_57826_row9_col0\" class=\"data row9 col0\" >October 26th, 2034</td>\n",
       "      <td id=\"T_57826_row9_col1\" class=\"data row9 col1\" >10000000</td>\n",
       "      <td id=\"T_57826_row9_col2\" class=\"data row9 col2\" >3.83%</td>\n",
       "      <td id=\"T_57826_row9_col3\" class=\"data row9 col3\" >1.013889</td>\n",
       "      <td id=\"T_57826_row9_col4\" class=\"data row9 col4\" >388807.46</td>\n",
       "      <td id=\"T_57826_row9_col5\" class=\"data row9 col5\" >263495.207301</td>\n",
       "    </tr>\n",
       "  </tbody>\n",
       "</table>\n"
      ],
      "text/plain": [
       "<pandas.io.formats.style.Styler at 0x223d16dcf50>"
      ]
     },
     "execution_count": 114,
     "metadata": {},
     "output_type": "execute_result"
    }
   ],
   "source": [
    "data = []\n",
    "for cf in ql_ois.overnightLeg():\n",
    "    coupon: ql.FloatingRateCoupon = ql.as_floating_rate_coupon(cf)\n",
    "    data.append(\n",
    "        (\n",
    "            coupon.date(),\n",
    "            coupon.nominal(),\n",
    "            coupon.rate(),\n",
    "            coupon.accrualPeriod(),\n",
    "            coupon.amount(),\n",
    "            coupon.price(ql.YieldTermStructureHandle(ql_curve)),\n",
    "        )\n",
    "    )\n",
    "\n",
    "pd.DataFrame(\n",
    "    data, columns=[\"date\", \"nominal\", \"rate\", \"tenor\", \"amount\", \"price\"]\n",
    ").style.format({\"amount\": \"{:.2f}\", \"rate\": \"{:.2%}\", \"nominal\": \"{:.0f}\"})"
   ]
  },
  {
   "cell_type": "markdown",
   "metadata": {},
   "source": [
    "## Why is NPV off?\n",
    "\n",
    "- notice that my 3m fwd 10y rate was 3.7683 and BBG was showing 3.736141\n",
    "- Swap NPV calculation seems to be ill-conditioned but 3bps is signficant and notional was big\n",
    "- Still good enough for something that is free lol"
   ]
  },
  {
   "cell_type": "markdown",
   "metadata": {},
   "source": []
  }
 ],
 "metadata": {
  "kernelspec": {
   "display_name": "Python 3",
   "language": "python",
   "name": "python3"
  },
  "language_info": {
   "codemirror_mode": {
    "name": "ipython",
    "version": 3
   },
   "file_extension": ".py",
   "mimetype": "text/x-python",
   "name": "python",
   "nbconvert_exporter": "python",
   "pygments_lexer": "ipython3",
   "version": "3.13.0"
  }
 },
 "nbformat": 4,
 "nbformat_minor": 2
}
